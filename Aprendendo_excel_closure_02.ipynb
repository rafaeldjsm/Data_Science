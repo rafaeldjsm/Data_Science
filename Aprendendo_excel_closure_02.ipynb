{
  "nbformat": 4,
  "nbformat_minor": 0,
  "metadata": {
    "colab": {
      "name": "Aprendendo_excel_closure_02.ipynb",
      "provenance": [],
      "collapsed_sections": [],
      "authorship_tag": "ABX9TyMSorRGRSx6LcHduT0p3Wsr",
      "include_colab_link": true
    },
    "kernelspec": {
      "name": "python3",
      "display_name": "Python 3"
    },
    "language_info": {
      "name": "python"
    }
  },
  "cells": [
    {
      "cell_type": "markdown",
      "metadata": {
        "id": "view-in-github",
        "colab_type": "text"
      },
      "source": [
        "<a href=\"https://colab.research.google.com/github/rafaeldjsm/Data_Science/blob/master/Aprendendo_excel_closure_02.ipynb\" target=\"_parent\"><img src=\"https://colab.research.google.com/assets/colab-badge.svg\" alt=\"Open In Colab\"/></a>"
      ]
    },
    {
      "cell_type": "markdown",
      "source": [
        "Testando Importação pro Excel <br>\n",
        "Listas Hash (Hash Table) <br>\n",
        "Equação com Sympy <br>\n",
        "Closure <br>\n",
        "Github wget <br>\n"
      ],
      "metadata": {
        "id": "PXJAZG3T0oQJ"
      }
    },
    {
      "cell_type": "code",
      "source": [
        "import random as rnd\n",
        "import numpy as np\n",
        "import matplotlib.pyplot as plt\n",
        "import pandas as pd\n",
        "import openpyxl\n",
        "import xlrd\n",
        "from xlrd import open_workbook\n",
        "import seaborn as sns\n",
        "import sympy as sp\n",
        "from sympy import symbols\n",
        "from sympy.simplify import simplify\n",
        "from sympy import integrate"
      ],
      "metadata": {
        "id": "DLXpiPQSHYbY"
      },
      "execution_count": 1,
      "outputs": []
    },
    {
      "cell_type": "code",
      "execution_count": 2,
      "metadata": {
        "id": "k20LfXlbPkyp"
      },
      "outputs": [],
      "source": [
        "ar = np.array([[rnd.random() for k in range(12)] for j in range(12)])\n",
        "#ar.describe #AttributeError: 'numpy.ndarray' object has no attribute 'describe'"
      ]
    },
    {
      "cell_type": "code",
      "source": [
        "np.random.randn(3,4) # Matriz com distribuição normal"
      ],
      "metadata": {
        "colab": {
          "base_uri": "https://localhost:8080/"
        },
        "id": "JzyQXCFEpaGa",
        "outputId": "7995fd5a-33f3-4242-bf16-df64a8556463"
      },
      "execution_count": 3,
      "outputs": [
        {
          "output_type": "execute_result",
          "data": {
            "text/plain": [
              "array([[ 0.37816217,  0.29310086,  0.23879109,  0.97337226],\n",
              "       [-0.87510576,  0.66473926, -0.79595134, -0.90546926],\n",
              "       [-1.32680471, -0.92341538, -0.00548507,  0.68303662]])"
            ]
          },
          "metadata": {},
          "execution_count": 3
        }
      ]
    },
    {
      "cell_type": "code",
      "source": [
        "lst = []\n",
        "\n",
        "for k in range(1000):\n",
        "    \n",
        "    rp = rnd.randint(1,100)\n",
        "    ra = rnd.randint(1,max(2,rp-1)) # Execução\n",
        "\n",
        "    df = rnd.randint(1,100)\n",
        "    de = rnd.randint(1,max(2,df-1)) # Execução\n",
        "\n",
        "    a = rp - ra\n",
        "    b = df - de\n",
        "    res = ra-de\n",
        "\n",
        "    if a > b:\n",
        "        lst.append(res)\n",
        "\n",
        "plt.hist(lst);"
      ],
      "metadata": {
        "colab": {
          "base_uri": "https://localhost:8080/",
          "height": 265
        },
        "id": "aJVXLT-_aB_x",
        "outputId": "0fd20cb8-746d-4103-efec-0ff5bc553897"
      },
      "execution_count": 4,
      "outputs": [
        {
          "output_type": "display_data",
          "data": {
            "text/plain": [
              "<Figure size 432x288 with 1 Axes>"
            ],
            "image/png": "[encoded data removed]"
          },
          "metadata": {
            "needs_background": "light"
          }
        }
      ]
    },
    {
      "cell_type": "code",
      "source": [
        "ar = np.array([1,2,3,7,8])\n",
        "ar"
      ],
      "metadata": {
        "colab": {
          "base_uri": "https://localhost:8080/"
        },
        "id": "eBYsQPAnegzB",
        "outputId": "69b1a372-a4d1-4e09-fbb1-53db64d39f1a"
      },
      "execution_count": 5,
      "outputs": [
        {
          "output_type": "execute_result",
          "data": {
            "text/plain": [
              "array([1, 2, 3, 7, 8])"
            ]
          },
          "metadata": {},
          "execution_count": 5
        }
      ]
    },
    {
      "cell_type": "code",
      "source": [
        "np.isin(4,ar)"
      ],
      "metadata": {
        "colab": {
          "base_uri": "https://localhost:8080/"
        },
        "id": "JFBt3D3AeqCg",
        "outputId": "c21d87e5-d82e-4390-ec7a-8bd1728dba4f"
      },
      "execution_count": 6,
      "outputs": [
        {
          "output_type": "execute_result",
          "data": {
            "text/plain": [
              "array(False)"
            ]
          },
          "metadata": {},
          "execution_count": 6
        }
      ]
    },
    {
      "cell_type": "code",
      "source": [
        "np.corrcoef(ar)"
      ],
      "metadata": {
        "id": "slvDIHXce2hk",
        "colab": {
          "base_uri": "https://localhost:8080/"
        },
        "outputId": "ee096899-626d-443e-d110-df41cf8233c4"
      },
      "execution_count": 7,
      "outputs": [
        {
          "output_type": "execute_result",
          "data": {
            "text/plain": [
              "1.0"
            ]
          },
          "metadata": {},
          "execution_count": 7
        }
      ]
    },
    {
      "cell_type": "code",
      "source": [
        "#@title Closure\n",
        "\n",
        "def func1(n):\n",
        "    def func2(x):\n",
        "        return x**n\n",
        "    return func2\n",
        "ret1 = func1(2)\n",
        "ret2 = func1(3)\n",
        "ret3 = func1(4)"
      ],
      "metadata": {
        "id": "PBwCAVn0Dz2d"
      },
      "execution_count": 8,
      "outputs": []
    },
    {
      "cell_type": "code",
      "source": [
        "ret1,ret2,ret3"
      ],
      "metadata": {
        "colab": {
          "base_uri": "https://localhost:8080/"
        },
        "id": "wiSSPSZ0EBCN",
        "outputId": "fe44bf11-559f-4214-e07b-686fbb789603"
      },
      "execution_count": 9,
      "outputs": [
        {
          "output_type": "execute_result",
          "data": {
            "text/plain": [
              "(<function __main__.func1.<locals>.func2>,\n",
              " <function __main__.func1.<locals>.func2>,\n",
              " <function __main__.func1.<locals>.func2>)"
            ]
          },
          "metadata": {},
          "execution_count": 9
        }
      ]
    },
    {
      "cell_type": "code",
      "source": [
        "ret2(2)"
      ],
      "metadata": {
        "colab": {
          "base_uri": "https://localhost:8080/"
        },
        "id": "40vQ_hjoFVGa",
        "outputId": "b6af29c4-7f60-430d-fadf-6d9896c4fc47"
      },
      "execution_count": 10,
      "outputs": [
        {
          "output_type": "execute_result",
          "data": {
            "text/plain": [
              "8"
            ]
          },
          "metadata": {},
          "execution_count": 10
        }
      ]
    },
    {
      "cell_type": "code",
      "source": [
        "BRICS = pd.DataFrame.from_dict({'abv':['BR','RU','CH','IN','AS'],\n",
        "                   'pais':['Brasil','Russia','China','India','Africa do Sul'],\n",
        "                   'populacao':[215967714,141927297,1338612968,1180251000,49320500]}).set_index('abv')\n",
        "BRICS"
      ],
      "metadata": {
        "colab": {
          "base_uri": "https://localhost:8080/",
          "height": 238
        },
        "id": "7Vf0sfs-HZmZ",
        "outputId": "51d7d443-d68d-4ec2-fa97-d9599bd9ea5c"
      },
      "execution_count": 11,
      "outputs": [
        {
          "output_type": "execute_result",
          "data": {
            "text/plain": [
              "              pais   populacao\n",
              "abv                           \n",
              "BR          Brasil   215967714\n",
              "RU          Russia   141927297\n",
              "CH           China  1338612968\n",
              "IN           India  1180251000\n",
              "AS   Africa do Sul    49320500"
            ],
            "text/html": [
              "\n",
              "  <div id=\"df-e63ef81e-1864-4850-a90e-c7a69404e277\">\n",
              "    <div class=\"colab-df-container\">\n",
              "      <div>\n",
              "<style scoped>\n",
              "    .dataframe tbody tr th:only-of-type {\n",
              "        vertical-align: middle;\n",
              "    }\n",
              "\n",
              "    .dataframe tbody tr th {\n",
              "        vertical-align: top;\n",
              "    }\n",
              "\n",
              "    .dataframe thead th {\n",
              "        text-align: right;\n",
              "    }\n",
              "</style>\n",
              "<table border=\"1\" class=\"dataframe\">\n",
              "  <thead>\n",
              "    <tr style=\"text-align: right;\">\n",
              "      <th></th>\n",
              "      <th>pais</th>\n",
              "      <th>populacao</th>\n",
              "    </tr>\n",
              "    <tr>\n",
              "      <th>abv</th>\n",
              "      <th></th>\n",
              "      <th></th>\n",
              "    </tr>\n",
              "  </thead>\n",
              "  <tbody>\n",
              "    <tr>\n",
              "      <th>BR</th>\n",
              "      <td>Brasil</td>\n",
              "      <td>215967714</td>\n",
              "    </tr>\n",
              "    <tr>\n",
              "      <th>RU</th>\n",
              "      <td>Russia</td>\n",
              "      <td>141927297</td>\n",
              "    </tr>\n",
              "    <tr>\n",
              "      <th>CH</th>\n",
              "      <td>China</td>\n",
              "      <td>1338612968</td>\n",
              "    </tr>\n",
              "    <tr>\n",
              "      <th>IN</th>\n",
              "      <td>India</td>\n",
              "      <td>1180251000</td>\n",
              "    </tr>\n",
              "    <tr>\n",
              "      <th>AS</th>\n",
              "      <td>Africa do Sul</td>\n",
              "      <td>49320500</td>\n",
              "    </tr>\n",
              "  </tbody>\n",
              "</table>\n",
              "</div>\n",
              "      <button class=\"colab-df-convert\" onclick=\"convertToInteractive('df-e63ef81e-1864-4850-a90e-c7a69404e277')\"\n",
              "              title=\"Convert this dataframe to an interactive table.\"\n",
              "              style=\"display:none;\">\n",
              "        \n",
              "  <svg xmlns=\"http://www.w3.org/2000/svg\" height=\"24px\"viewBox=\"0 0 24 24\"\n",
              "       width=\"24px\">\n",
              "    <path d=\"M0 0h24v24H0V0z\" fill=\"none\"/>\n",
              "    <path d=\"M18.56 5.44l.94 2.06.94-2.06 2.06-.94-2.06-.94-.94-2.06-.94 2.06-2.06.94zm-11 1L8.5 8.5l.94-2.06 2.06-.94-2.06-.94L8.5 2.5l-.94 2.06-2.06.94zm10 10l.94 2.06.94-2.06 2.06-.94-2.06-.94-.94-2.06-.94 2.06-2.06.94z\"/><path d=\"M17.41 7.96l-1.37-1.37c-.4-.4-.92-.59-1.43-.59-.52 0-1.04.2-1.43.59L10.3 9.45l-7.72 7.72c-.78.78-.78 2.05 0 2.83L4 21.41c.39.39.9.59 1.41.59.51 0 1.02-.2 1.41-.59l7.78-7.78 2.81-2.81c.8-.78.8-2.07 0-2.86zM5.41 20L4 18.59l7.72-7.72 1.47 1.35L5.41 20z\"/>\n",
              "  </svg>\n",
              "      </button>\n",
              "      \n",
              "  <style>\n",
              "    .colab-df-container {\n",
              "      display:flex;\n",
              "      flex-wrap:wrap;\n",
              "      gap: 12px;\n",
              "    }\n",
              "\n",
              "    .colab-df-convert {\n",
              "      background-color: #E8F0FE;\n",
              "      border: none;\n",
              "      border-radius: 50%;\n",
              "      cursor: pointer;\n",
              "      display: none;\n",
              "      fill: #1967D2;\n",
              "      height: 32px;\n",
              "      padding: 0 0 0 0;\n",
              "      width: 32px;\n",
              "    }\n",
              "\n",
              "    .colab-df-convert:hover {\n",
              "      background-color: #E2EBFA;\n",
              "      box-shadow: 0px 1px 2px rgba(60, 64, 67, 0.3), 0px 1px 3px 1px rgba(60, 64, 67, 0.15);\n",
              "      fill: #174EA6;\n",
              "    }\n",
              "\n",
              "    [theme=dark] .colab-df-convert {\n",
              "      background-color: #3B4455;\n",
              "      fill: #D2E3FC;\n",
              "    }\n",
              "\n",
              "    [theme=dark] .colab-df-convert:hover {\n",
              "      background-color: #434B5C;\n",
              "      box-shadow: 0px 1px 3px 1px rgba(0, 0, 0, 0.15);\n",
              "      filter: drop-shadow(0px 1px 2px rgba(0, 0, 0, 0.3));\n",
              "      fill: #FFFFFF;\n",
              "    }\n",
              "  </style>\n",
              "\n",
              "      <script>\n",
              "        const buttonEl =\n",
              "          document.querySelector('#df-e63ef81e-1864-4850-a90e-c7a69404e277 button.colab-df-convert');\n",
              "        buttonEl.style.display =\n",
              "          google.colab.kernel.accessAllowed ? 'block' : 'none';\n",
              "\n",
              "        async function convertToInteractive(key) {\n",
              "          const element = document.querySelector('#df-e63ef81e-1864-4850-a90e-c7a69404e277');\n",
              "          const dataTable =\n",
              "            await google.colab.kernel.invokeFunction('convertToInteractive',\n",
              "                                                     [key], {});\n",
              "          if (!dataTable) return;\n",
              "\n",
              "          const docLinkHtml = 'Like what you see? Visit the ' +\n",
              "            '<a target=\"_blank\" href=https://colab.research.google.com/notebooks/data_table.ipynb>data table notebook</a>'\n",
              "            + ' to learn more about interactive tables.';\n",
              "          element.innerHTML = '';\n",
              "          dataTable['output_type'] = 'display_data';\n",
              "          await google.colab.output.renderOutput(dataTable, element);\n",
              "          const docLink = document.createElement('div');\n",
              "          docLink.innerHTML = docLinkHtml;\n",
              "          element.appendChild(docLink);\n",
              "        }\n",
              "      </script>\n",
              "    </div>\n",
              "  </div>\n",
              "  "
            ]
          },
          "metadata": {},
          "execution_count": 11
        }
      ]
    },
    {
      "cell_type": "code",
      "source": [
        "BRICS.loc[[\"RU\",\"IN\"],['populacao']]"
      ],
      "metadata": {
        "colab": {
          "base_uri": "https://localhost:8080/",
          "height": 143
        },
        "id": "zaWBqDU3KWT4",
        "outputId": "13d60cbf-d1aa-4357-dc39-ef63441a322c"
      },
      "execution_count": 12,
      "outputs": [
        {
          "output_type": "execute_result",
          "data": {
            "text/plain": [
              "      populacao\n",
              "abv            \n",
              "RU    141927297\n",
              "IN   1180251000"
            ],
            "text/html": [
              "\n",
              "  <div id=\"df-09d47c5b-d196-4e5a-b92c-db3c37999d27\">\n",
              "    <div class=\"colab-df-container\">\n",
              "      <div>\n",
              "<style scoped>\n",
              "    .dataframe tbody tr th:only-of-type {\n",
              "        vertical-align: middle;\n",
              "    }\n",
              "\n",
              "    .dataframe tbody tr th {\n",
              "        vertical-align: top;\n",
              "    }\n",
              "\n",
              "    .dataframe thead th {\n",
              "        text-align: right;\n",
              "    }\n",
              "</style>\n",
              "<table border=\"1\" class=\"dataframe\">\n",
              "  <thead>\n",
              "    <tr style=\"text-align: right;\">\n",
              "      <th></th>\n",
              "      <th>populacao</th>\n",
              "    </tr>\n",
              "    <tr>\n",
              "      <th>abv</th>\n",
              "      <th></th>\n",
              "    </tr>\n",
              "  </thead>\n",
              "  <tbody>\n",
              "    <tr>\n",
              "      <th>RU</th>\n",
              "      <td>141927297</td>\n",
              "    </tr>\n",
              "    <tr>\n",
              "      <th>IN</th>\n",
              "      <td>1180251000</td>\n",
              "    </tr>\n",
              "  </tbody>\n",
              "</table>\n",
              "</div>\n",
              "      <button class=\"colab-df-convert\" onclick=\"convertToInteractive('df-09d47c5b-d196-4e5a-b92c-db3c37999d27')\"\n",
              "              title=\"Convert this dataframe to an interactive table.\"\n",
              "              style=\"display:none;\">\n",
              "        \n",
              "  <svg xmlns=\"http://www.w3.org/2000/svg\" height=\"24px\"viewBox=\"0 0 24 24\"\n",
              "       width=\"24px\">\n",
              "    <path d=\"M0 0h24v24H0V0z\" fill=\"none\"/>\n",
              "    <path d=\"M18.56 5.44l.94 2.06.94-2.06 2.06-.94-2.06-.94-.94-2.06-.94 2.06-2.06.94zm-11 1L8.5 8.5l.94-2.06 2.06-.94-2.06-.94L8.5 2.5l-.94 2.06-2.06.94zm10 10l.94 2.06.94-2.06 2.06-.94-2.06-.94-.94-2.06-.94 2.06-2.06.94z\"/><path d=\"M17.41 7.96l-1.37-1.37c-.4-.4-.92-.59-1.43-.59-.52 0-1.04.2-1.43.59L10.3 9.45l-7.72 7.72c-.78.78-.78 2.05 0 2.83L4 21.41c.39.39.9.59 1.41.59.51 0 1.02-.2 1.41-.59l7.78-7.78 2.81-2.81c.8-.78.8-2.07 0-2.86zM5.41 20L4 18.59l7.72-7.72 1.47 1.35L5.41 20z\"/>\n",
              "  </svg>\n",
              "      </button>\n",
              "      \n",
              "  <style>\n",
              "    .colab-df-container {\n",
              "      display:flex;\n",
              "      flex-wrap:wrap;\n",
              "      gap: 12px;\n",
              "    }\n",
              "\n",
              "    .colab-df-convert {\n",
              "      background-color: #E8F0FE;\n",
              "      border: none;\n",
              "      border-radius: 50%;\n",
              "      cursor: pointer;\n",
              "      display: none;\n",
              "      fill: #1967D2;\n",
              "      height: 32px;\n",
              "      padding: 0 0 0 0;\n",
              "      width: 32px;\n",
              "    }\n",
              "\n",
              "    .colab-df-convert:hover {\n",
              "      background-color: #E2EBFA;\n",
              "      box-shadow: 0px 1px 2px rgba(60, 64, 67, 0.3), 0px 1px 3px 1px rgba(60, 64, 67, 0.15);\n",
              "      fill: #174EA6;\n",
              "    }\n",
              "\n",
              "    [theme=dark] .colab-df-convert {\n",
              "      background-color: #3B4455;\n",
              "      fill: #D2E3FC;\n",
              "    }\n",
              "\n",
              "    [theme=dark] .colab-df-convert:hover {\n",
              "      background-color: #434B5C;\n",
              "      box-shadow: 0px 1px 3px 1px rgba(0, 0, 0, 0.15);\n",
              "      filter: drop-shadow(0px 1px 2px rgba(0, 0, 0, 0.3));\n",
              "      fill: #FFFFFF;\n",
              "    }\n",
              "  </style>\n",
              "\n",
              "      <script>\n",
              "        const buttonEl =\n",
              "          document.querySelector('#df-09d47c5b-d196-4e5a-b92c-db3c37999d27 button.colab-df-convert');\n",
              "        buttonEl.style.display =\n",
              "          google.colab.kernel.accessAllowed ? 'block' : 'none';\n",
              "\n",
              "        async function convertToInteractive(key) {\n",
              "          const element = document.querySelector('#df-09d47c5b-d196-4e5a-b92c-db3c37999d27');\n",
              "          const dataTable =\n",
              "            await google.colab.kernel.invokeFunction('convertToInteractive',\n",
              "                                                     [key], {});\n",
              "          if (!dataTable) return;\n",
              "\n",
              "          const docLinkHtml = 'Like what you see? Visit the ' +\n",
              "            '<a target=\"_blank\" href=https://colab.research.google.com/notebooks/data_table.ipynb>data table notebook</a>'\n",
              "            + ' to learn more about interactive tables.';\n",
              "          element.innerHTML = '';\n",
              "          dataTable['output_type'] = 'display_data';\n",
              "          await google.colab.output.renderOutput(dataTable, element);\n",
              "          const docLink = document.createElement('div');\n",
              "          docLink.innerHTML = docLinkHtml;\n",
              "          element.appendChild(docLink);\n",
              "        }\n",
              "      </script>\n",
              "    </div>\n",
              "  </div>\n",
              "  "
            ]
          },
          "metadata": {},
          "execution_count": 12
        }
      ]
    },
    {
      "cell_type": "code",
      "source": [
        "BRICS.loc[[\"RU\",\"IN\"],'populacao']"
      ],
      "metadata": {
        "colab": {
          "base_uri": "https://localhost:8080/"
        },
        "id": "dKeobj_RKay-",
        "outputId": "6621231b-74df-40b6-a72d-4bd6f3cbe2e1"
      },
      "execution_count": 13,
      "outputs": [
        {
          "output_type": "execute_result",
          "data": {
            "text/plain": [
              "abv\n",
              "RU     141927297\n",
              "IN    1180251000\n",
              "Name: populacao, dtype: int64"
            ]
          },
          "metadata": {},
          "execution_count": 13
        }
      ]
    },
    {
      "cell_type": "code",
      "source": [
        "wb0 = openpyxl.Workbook()\n",
        "\n",
        "ws0 = wb0.active\n",
        "# d = ws0.cell(row=4, column=2, value=10) # Accessing one cell, atribui um valor a celula 4,2 e a d\n",
        "lo = [''] + [x+str(y) for x,y in zip([\"a\"]*30,range(30))]\n",
        "\n",
        "ws0.append(lo)\n",
        "for k in range(30):\n",
        "    li = ['b'+str(k)]\n",
        "    for j in range(30):\n",
        "        li.append(rnd.random())\n",
        "    ws0.append(li)\n",
        "\n",
        "# Save the file\n",
        "wb0.save(\"sample0.xlsx\")"
      ],
      "metadata": {
        "id": "0wOiS6wdNLMn"
      },
      "execution_count": 14,
      "outputs": []
    },
    {
      "cell_type": "code",
      "source": [
        "book = openpyxl.Workbook()\n",
        "sheet = book.active\n",
        "\n",
        "rows = (\n",
        "    (88, 46, 57),\n",
        "    (89, 38, 12),\n",
        "    (23, 59, 78),\n",
        "    (56, 21, 98),\n",
        "    (24, 18, 43),\n",
        "    (34, 15, 67)\n",
        ")\n",
        "\n",
        "for row in rows:\n",
        "    sheet.append(row)\n",
        "\n",
        "book.save('appending.xlsx')"
      ],
      "metadata": {
        "id": "j9ubh7r8Sr3K"
      },
      "execution_count": 15,
      "outputs": []
    },
    {
      "cell_type": "code",
      "source": [
        "def read_excel(file_input,skipLines):\n",
        "    filein = xlrd.open_workbook(file_input)\n",
        "    Output_File_matrix = []\n",
        "    for sheet in filein.sheets():\n",
        "        ax_sheet = []\n",
        "        for line in range(int(skipLines),sheet.nrows):\n",
        "            ax_line = []\n",
        "            for col in range(sheet.ncols):\n",
        "                ax_line.append(str(sheet.cell(line,col).value).replace('\"','\\\\\"'))\n",
        "            ax_sheet.append(ax_line)\n",
        "        Output_File_matrix.append(ax_sheet)\n",
        "    return Output_File_matrix\n",
        "\n",
        "def col_filtering_st(sheet_matrix_st):\n",
        "    aux_matrix=[]\n",
        "    for line in range(1,len(sheet_matrix_st)):\n",
        "        aux_matrix.append([sheet_matrix_st[line][0].split('.')[0],sheet_matrix_st[line][1],sheet_matrix_st[line][2].split('.')[0],sheet_matrix_st[line][3]])\n",
        "    return aux_matrix\n",
        "\n",
        "def col_filtering_inv(sheet_matrix_inv):\n",
        "    aux_matrix=[]\n",
        "    for line in range(1,len(sheet_matrix_inv)):\n",
        "        aux_matrix.append([sheet_matrix_inv[line][0],sheet_matrix_inv[line][1].split('.')[0]])\n",
        "    return aux_matrix\n",
        "\n",
        "def write_files_st(Output_File_matrix,Output_File_name,output_folder):\n",
        "    Output_File=open(output_folder+Output_File_name+'_VENTAS.csv','w')\n",
        "    for line in Output_File_matrix:\n",
        "        Output_File.write((';'.join(line))+'\\n')\n",
        "\n",
        "def write_files_inv(Output_File_matrix,Output_File_name,output_folder):\n",
        "    Output_File=open(output_folder+Output_File_name+'_INV.csv','w')\n",
        "    for line in Output_File_matrix:\n",
        "        Output_File.write((';'.join(line))+'\\n')"
      ],
      "metadata": {
        "id": "yt0zdUPdXgfV"
      },
      "execution_count": 16,
      "outputs": []
    },
    {
      "cell_type": "code",
      "source": [
        "# definindo valores para os parametros /content/\n",
        "input_file_path  = '/content/'\n",
        "input_file_name  = 'sample0.xlsx'\n",
        "skip_lines       =  0\n",
        "output_file_path = '/content/'\n",
        "output_file_name = 'tes12.csv'\n",
        "filtered_lin = \"b17\"\n",
        "\n",
        "# leitura da planilha e definicao do dataframe\n",
        "df = pd.read_excel(input_file_path + input_file_name, header = skip_lines, index_col = 0,sheet_name = 'Sheet')\n",
        "\n",
        "# fatia do datafrome\n",
        "df_slicing = df.loc[filtered_lin,:].transpose()\n",
        "\n",
        "# gravacao do dataframe na planilha\n",
        "df_slicing.to_csv(output_file_path + output_file_name)"
      ],
      "metadata": {
        "id": "-HqHEjZFXQP9"
      },
      "execution_count": 17,
      "outputs": []
    },
    {
      "cell_type": "code",
      "source": [
        "# fatia do datafrome\n",
        "df_slicing = df.loc[filtered_lin,:].transpose()\n",
        "df_slicing = df_slicing.iloc[:-1]\n",
        "\n",
        "# gravacao do dataframe na planilha\n",
        "df_slicing.to_csv(output_file_path + output_file_name,header=False,decimal=',')"
      ],
      "metadata": {
        "id": "b1-jBqb5dVmg"
      },
      "execution_count": 18,
      "outputs": []
    },
    {
      "cell_type": "code",
      "source": [
        "df_slicing"
      ],
      "metadata": {
        "id": "2hwdqi6xk4ME",
        "colab": {
          "base_uri": "https://localhost:8080/"
        },
        "outputId": "9b497f2e-1c53-4f3e-e633-6d7e9dbbd375"
      },
      "execution_count": 19,
      "outputs": [
        {
          "output_type": "execute_result",
          "data": {
            "text/plain": [
              "a0     0.220228\n",
              "a1     0.956248\n",
              "a2     0.829423\n",
              "a3     0.142864\n",
              "a4     0.228377\n",
              "a5     0.406486\n",
              "a6     0.654366\n",
              "a7     0.150442\n",
              "a8     0.059208\n",
              "a9     0.751369\n",
              "a10    0.343299\n",
              "a11    0.969117\n",
              "a12    0.219115\n",
              "a13    0.792026\n",
              "a14    0.661356\n",
              "a15    0.487685\n",
              "a16    0.638369\n",
              "a17    0.196826\n",
              "a18    0.728449\n",
              "a19    0.750776\n",
              "a20    0.559200\n",
              "a21    0.788665\n",
              "a22    0.512460\n",
              "a23    0.159359\n",
              "a24    0.241011\n",
              "a25    0.498723\n",
              "a26    0.823103\n",
              "a27    0.331325\n",
              "a28    0.372191\n",
              "Name: b17, dtype: float64"
            ]
          },
          "metadata": {},
          "execution_count": 19
        }
      ]
    },
    {
      "cell_type": "code",
      "source": [
        "# definindo valores para os parametros\n",
        "tab                 = 1\n",
        "\n",
        "#Extracting the file matrix\n",
        "file_matrix = np.array(read_excel(input_file_path+input_file_name,skip_lines)[0])\n",
        "\n",
        "#Extracting last col of sheet from the file matrix ST and indexs\n",
        "sheet_st = np.transpose([file_matrix[0,:],file_matrix[-1]])\n",
        "\n",
        "#Writing the File ST\n",
        "write_files_st(sheet_st,output_file_name,output_file_path)"
      ],
      "metadata": {
        "id": "Fv7yRYuELp9v"
      },
      "execution_count": 20,
      "outputs": []
    },
    {
      "cell_type": "code",
      "source": [
        "len(sheet_st[0]), len(sheet_st[1])"
      ],
      "metadata": {
        "id": "y5cjMZS_MOv3",
        "colab": {
          "base_uri": "https://localhost:8080/"
        },
        "outputId": "fdaf260a-3a68-477c-a3d5-3c44269b2cf7"
      },
      "execution_count": 21,
      "outputs": [
        {
          "output_type": "execute_result",
          "data": {
            "text/plain": [
              "(2, 2)"
            ]
          },
          "metadata": {},
          "execution_count": 21
        }
      ]
    },
    {
      "cell_type": "code",
      "source": [
        "sheet_st"
      ],
      "metadata": {
        "id": "Ex47y5AyPrfZ",
        "colab": {
          "base_uri": "https://localhost:8080/"
        },
        "outputId": "c5942af8-523b-4ab5-b337-079d4bce36ff"
      },
      "execution_count": 22,
      "outputs": [
        {
          "output_type": "execute_result",
          "data": {
            "text/plain": [
              "array([['', 'b29'],\n",
              "       ['a0', '0.3813075956698849'],\n",
              "       ['a1', '0.3421184254843196'],\n",
              "       ['a2', '0.7705682288060264'],\n",
              "       ['a3', '0.1770519135947295'],\n",
              "       ['a4', '0.072680766416364'],\n",
              "       ['a5', '0.674847862832378'],\n",
              "       ['a6', '0.1285224309148211'],\n",
              "       ['a7', '0.7017837627121831'],\n",
              "       ['a8', '0.7819834007973931'],\n",
              "       ['a9', '0.3246792275509758'],\n",
              "       ['a10', '0.6607642042645574'],\n",
              "       ['a11', '0.7709728368049142'],\n",
              "       ['a12', '0.7935980008755739'],\n",
              "       ['a13', '0.5005749844254579'],\n",
              "       ['a14', '0.6016832374869219'],\n",
              "       ['a15', '0.2793742600555653'],\n",
              "       ['a16', '0.3817666772754017'],\n",
              "       ['a17', '0.2630417765558906'],\n",
              "       ['a18', '0.8640949240270851'],\n",
              "       ['a19', '0.2955938638023575'],\n",
              "       ['a20', '0.7760214371098587'],\n",
              "       ['a21', '0.8792891484962583'],\n",
              "       ['a22', '0.06341957940041298'],\n",
              "       ['a23', '0.6452024721362032'],\n",
              "       ['a24', '0.3362574462063525'],\n",
              "       ['a25', '0.1045949889942736'],\n",
              "       ['a26', '0.9614994422624888'],\n",
              "       ['a27', '0.3176592807977534'],\n",
              "       ['a28', '0.7177505480722304'],\n",
              "       ['a29', '0.2548570199763486']], dtype='<U21')"
            ]
          },
          "metadata": {},
          "execution_count": 22
        }
      ]
    },
    {
      "cell_type": "code",
      "source": [
        "input_files = open_workbook('sample0.xlsx')"
      ],
      "metadata": {
        "id": "34PDgDbofrA2"
      },
      "execution_count": 23,
      "outputs": []
    },
    {
      "cell_type": "code",
      "source": [
        "input_files"
      ],
      "metadata": {
        "colab": {
          "base_uri": "https://localhost:8080/"
        },
        "id": "QlqHx2SUgEmF",
        "outputId": "0dd36e50-f34d-4e3f-d659-4be2e57af2d2"
      },
      "execution_count": 24,
      "outputs": [
        {
          "output_type": "execute_result",
          "data": {
            "text/plain": [
              "<xlrd.book.Book at 0x7fd6b8545d10>"
            ]
          },
          "metadata": {},
          "execution_count": 24
        }
      ]
    },
    {
      "cell_type": "code",
      "source": [
        "workbook = open_workbook('sample0.xlsx') # Escolhe o arquivo a ser lido.\n",
        "\n",
        "worksheet = workbook.sheet_by_index(0) #Escolha a aba a ser lida. \n",
        "\n",
        "for i in range(worksheet.nrows): #itere sobre os itens da aba \n",
        "    print(worksheet.row(i))"
      ],
      "metadata": {
        "colab": {
          "base_uri": "https://localhost:8080/"
        },
        "id": "JL9b0zr9gft0",
        "outputId": "36813383-57a3-4b01-cb80-8216936ea6e9"
      },
      "execution_count": 25,
      "outputs": [
        {
          "output_type": "stream",
          "name": "stdout",
          "text": [
            "[empty:'', text:'a0', text:'a1', text:'a2', text:'a3', text:'a4', text:'a5', text:'a6', text:'a7', text:'a8', text:'a9', text:'a10', text:'a11', text:'a12', text:'a13', text:'a14', text:'a15', text:'a16', text:'a17', text:'a18', text:'a19', text:'a20', text:'a21', text:'a22', text:'a23', text:'a24', text:'a25', text:'a26', text:'a27', text:'a28', text:'a29']\n",
            "[text:'b0', number:0.1149043755470013, number:0.9668351980092332, number:0.9245898412208672, number:0.2060157593563473, number:0.3292738727853537, number:0.1537926799863915, number:0.7964623323448223, number:0.8502941357601443, number:0.2537402460414222, number:0.7622248274322099, number:0.2918363795447172, number:0.454895174028931, number:0.6230605806553358, number:0.2842414506858155, number:0.8709932443205216, number:0.6252333526564986, number:0.5322500884856894, number:0.5147785707264967, number:0.3989679649741562, number:0.4273075277712987, number:0.9310799929417102, number:0.256941570849364, number:0.1662373213119938, number:0.1005084557376882, number:0.001279546816227328, number:0.17281033695779, number:0.1848032145135309, number:0.4887227641936305, number:0.6618722869042901, number:0.9578723748388827]\n",
            "[text:'b1', number:0.8512418261973647, number:0.5878853938330664, number:0.08701352656033601, number:0.3621665554645672, number:0.9182754089251293, number:0.9231692372897334, number:0.9710887415973279, number:0.8925468420291615, number:0.3850189594687742, number:0.5884832030192002, number:0.1624703905753939, number:0.5622314714766692, number:0.6249972387342493, number:0.3437935783624674, number:0.8313430216114043, number:0.5083835486369009, number:0.370212121420216, number:0.7063293503206293, number:0.4636186590091683, number:0.8369814961736259, number:0.2077597686065563, number:0.5033472058162369, number:0.5230658256886711, number:0.8395683983699351, number:0.3469006671671027, number:0.1609433389698411, number:0.6395678240352323, number:0.2967972047783825, number:0.4224542466415903, number:0.2843034819428215]\n",
            "[text:'b2', number:0.6521589899373986, number:0.7110760321889485, number:0.9777132746812887, number:0.156932399257218, number:0.5176236931034457, number:0.6743675772183676, number:0.8674727933103749, number:0.05318984384502845, number:0.9771350819655988, number:0.5915236166002088, number:0.299857651628114, number:0.1098729226813179, number:0.6764787639946768, number:0.6954142944789649, number:0.708218201037681, number:0.7703636733207391, number:0.6889842644890869, number:0.03276894135462527, number:0.598295163912369, number:0.8396537682664323, number:0.09760112582951785, number:0.8095358882721843, number:0.4026145857372495, number:0.09938091960595241, number:0.4524434827217247, number:0.07505111785910656, number:0.2060748267046546, number:0.3971496902402888, number:0.005889102043949102, number:0.725990581253386]\n",
            "[text:'b3', number:0.664357759895231, number:0.2529882689010851, number:0.2277388120442686, number:0.0736283277023545, number:0.7487115956034563, number:0.1210640049639045, number:0.08618172012550196, number:0.4918365420813768, number:0.5708454916604356, number:0.4038996527442142, number:0.8180217585729131, number:0.2628409224158966, number:0.5281123650247763, number:0.176298680366714, number:0.139337396413608, number:0.9624921818001928, number:0.2285647009468879, number:0.3550808669650654, number:0.1764511820923234, number:0.9155697431279186, number:0.7244751623234629, number:0.7004664818588036, number:0.379439372015301, number:0.1870040157345564, number:0.6887530450602846, number:0.9217757466424354, number:0.5420601243828664, number:0.9790063970629423, number:0.7910230297672386, number:0.258825129428245]\n",
            "[text:'b4', number:0.2100964041380419, number:0.2561113183482916, number:0.3698419786645801, number:0.8382165480802276, number:0.8698441566112778, number:0.4925107153338556, number:0.7456888716346942, number:0.6157379215797015, number:0.4156777263598475, number:0.78849390241344, number:0.7134443618888463, number:0.7643042101341536, number:0.4205037561464621, number:0.1096499497068398, number:0.8718197603514913, number:0.4659955163600759, number:0.4541959318693753, number:0.2653681407891055, number:0.687065436062382, number:0.9181036672498795, number:0.2842977676765495, number:0.9890608522591032, number:0.9092365379570574, number:0.6057592705388278, number:0.1826536483832197, number:0.3685976204498369, number:0.344844847793605, number:0.9079213446798857, number:0.7982262112462627, number:0.1687873435916765]\n",
            "[text:'b5', number:0.4247465286596225, number:0.1441063612743484, number:0.5446037650266754, number:0.4690461667156167, number:0.3353104114821384, number:0.9341646505339464, number:0.8848210510681707, number:0.3195020973126901, number:0.1616423170970377, number:0.7777579743294339, number:0.386765270116771, number:0.05202959102258908, number:0.7775390691465559, number:0.6187835307793468, number:0.7284385743078539, number:0.7827436083906409, number:0.4075719877156019, number:0.1030943099705254, number:0.1700940386810303, number:0.3235053206052474, number:0.2756787560547912, number:0.1618160737276455, number:0.05169857382351573, number:0.4750408004677252, number:0.4703231350717368, number:0.2403201947763305, number:0.3384857085805676, number:0.8526708614217984, number:0.6569138567825688, number:0.5661177317589742]\n",
            "[text:'b6', number:0.5096457893187367, number:0.8145012189597027, number:0.5054523339676825, number:0.1056355901907008, number:0.7029727261511284, number:0.4999237384847514, number:0.4337825783096562, number:0.7311317583426954, number:0.2876089279540132, number:0.9350374631891515, number:0.7441451935307062, number:0.1969277294346495, number:0.994911371384054, number:0.8129933335992859, number:0.4131898487114493, number:0.3414657191173089, number:0.1915696029941064, number:0.2745733048954573, number:0.3406336439375093, number:0.4904934183151031, number:0.5104913945690341, number:0.6040696492985711, number:0.7876144361876073, number:0.04854224667005602, number:0.7388458518901208, number:0.1026136483867975, number:0.2075989358817547, number:0.2762116089930418, number:0.7009158189102805, number:0.2975318018661435]\n",
            "[text:'b7', number:0.4975446783747961, number:0.8291852868112375, number:0.6112860514835337, number:0.6222348632007126, number:0.02737096751990031, number:0.008530511251505613, number:0.4256138840357668, number:0.3836170709095755, number:0.9056914899409205, number:0.375711816652113, number:0.9149318987009302, number:0.794264902418223, number:0.08458050444348797, number:0.4383927329697773, number:0.6086709159846885, number:0.7665727852289311, number:0.4016326423901513, number:0.05695156264972789, number:0.7676034739674318, number:0.5437734235169533, number:0.7975791863279426, number:0.3174456799056066, number:0.546902201515552, number:0.2222571770906459, number:0.6578402012786069, number:0.2495039491482767, number:0.4784167671584233, number:0.4793989822212742, number:0.3848717643004759, number:0.7277889272139313]\n",
            "[text:'b8', number:0.91360107343676, number:0.3243557101074759, number:0.6304752128431808, number:0.3318276578272898, number:0.0002606556823941952, number:0.9659776996171283, number:0.9458402920872742, number:0.490237526033259, number:0.6321379973504988, number:0.08491110131572743, number:0.009230216568288818, number:0.7564975515685863, number:0.4847387854637445, number:0.8777188755748165, number:0.352719810652843, number:0.685109886915937, number:0.4089902461844375, number:0.419586683306495, number:0.1497904704290615, number:0.8708344554762703, number:0.1637740100826304, number:0.3526505651688693, number:0.2284779039901599, number:0.3450577155909312, number:0.3297455055521373, number:0.3659085767224605, number:0.6256313080524774, number:0.2921756697701863, number:0.5785338244702853, number:0.2127044506650944]\n",
            "[text:'b9', number:0.3981335138601199, number:0.7777991895135278, number:0.559895503173705, number:0.4556412830868141, number:0.1849937231345, number:0.9572889374965102, number:0.202474296532612, number:0.4207261240518625, number:0.4207824046580046, number:0.7390508848699966, number:0.03021692093278761, number:0.6220294906751505, number:0.1843676898780156, number:0.4057895522977411, number:0.3891910881087282, number:0.837790444120033, number:0.6132440000128193, number:0.4956231353061834, number:0.6944743080013931, number:0.7528673077733431, number:0.09463504509623089, number:0.8863252936327689, number:0.05897088976365683, number:0.07705949801447842, number:0.3053952973415043, number:0.07146303555565992, number:0.8513304767598803, number:0.9761733358782495, number:0.3610419196344949, number:0.9196678511602123]\n",
            "[text:'b10', number:0.8679662003923616, number:0.7065901833379115, number:0.5174836559780831, number:0.7443607626439881, number:0.5276088922815266, number:0.1576088161215444, number:0.2385220129122144, number:0.08836485969187724, number:0.2442002035184216, number:0.6044543497941552, number:0.2289132949411299, number:0.02989809602840965, number:0.96585765430608, number:0.5117345661930738, number:0.7524076151555095, number:0.00942352149241088, number:0.4384578563073341, number:0.7897116162405075, number:0.6800264112506169, number:0.05971779020827328, number:0.2548220721857539, number:0.7356160369344609, number:0.7241631032653368, number:0.8890569943875655, number:0.6938101380484745, number:0.936804430670724, number:0.02959383684569561, number:0.2746049784303779, number:0.4677776849236769, number:0.9446122997180233]\n",
            "[text:'b11', number:0.008100418466050252, number:0.2396327393305936, number:0.1236936433486875, number:0.4469660816301059, number:0.9173387108947599, number:0.8766197975999587, number:0.3923125129003423, number:0.3214216540522642, number:0.7565787518544007, number:0.8209092371820926, number:0.3530363597433411, number:0.02908780128593791, number:0.5875241670595233, number:0.501550530635664, number:0.5549583832197579, number:0.2940570790466406, number:0.9334938799541367, number:0.7803754991054849, number:0.9336581792625499, number:0.3457013210129307, number:0.1033063837926887, number:0.8034258081465726, number:0.9338665296507085, number:0.7764570200302803, number:0.3167373857763748, number:0.7640394737508928, number:0.4707109125780283, number:0.3387718467488852, number:0.9302321852340861, number:0.1102581488059989]\n",
            "[text:'b12', number:0.4448640462602722, number:0.8406996591950898, number:0.8267766218757717, number:0.0069298852790044, number:0.214532521999516, number:0.1243231796729004, number:0.467837831844189, number:0.3418361611948929, number:0.1790093518207859, number:0.382510908924143, number:0.5038003603379904, number:0.04326104936571984, number:0.9889246318524725, number:0.7155903793612088, number:0.8247685312771846, number:0.6487851451157043, number:0.4756920180512254, number:0.8320167250104559, number:0.03191595313582651, number:0.6807711332267737, number:0.02509497332439403, number:0.3492525513359933, number:0.7019994097915132, number:0.9188447421113886, number:0.2392764366509054, number:0.8794258088964435, number:0.7252171767145947, number:0.1936387941852121, number:0.8504960115223292, number:0.01449195629234401]\n",
            "[text:'b13', number:0.6521239259784689, number:0.0707976317943626, number:0.1297062983716012, number:0.6825153081842535, number:0.1457688708867012, number:0.1475179887835445, number:0.892865988056007, number:0.3160051747761881, number:0.383165061919133, number:0.546178220936275, number:0.8084865292191378, number:0.2669133590048811, number:0.5374984404574111, number:0.182844945104672, number:0.1875760180402675, number:0.7177146363717232, number:0.554227073641945, number:0.5111702990189562, number:0.3194459542791316, number:0.8194589423256187, number:0.1275289416497131, number:0.792217479902488, number:0.01308061291312712, number:0.1645131975825628, number:0.2804565520276409, number:0.7003998495134043, number:0.733463094268658, number:0.4172828371848998, number:0.02519016667721796, number:0.7943381281970449]\n",
            "[text:'b14', number:0.4947536090459357, number:0.03017873902543367, number:0.691603371758795, number:0.2636550597281165, number:0.02318559400016529, number:0.9775844187270907, number:0.5800926998982354, number:0.5280522846945347, number:0.178785826369581, number:0.6345941959250636, number:0.1102346565311494, number:0.514226991942566, number:0.7710676452422804, number:0.4538307402784246, number:0.1612297500019566, number:0.0210757198593946, number:0.2497030612239575, number:0.1240815727891043, number:0.3965509997447472, number:0.5077678356582169, number:0.8629507379491566, number:0.09026663953889302, number:0.3821007850816007, number:0.9736956754551394, number:0.3482628367918448, number:0.5059229318429819, number:0.5310116415322298, number:0.3664176313216589, number:0.583887561620183, number:0.272812897597155]\n",
            "[text:'b15', number:0.9047660728212451, number:0.643887162911089, number:0.8129725175682002, number:0.053351733937815, number:0.3670138203966508, number:0.2749110444452576, number:0.2083687433803882, number:0.6565197804904794, number:0.7741043887703375, number:0.1976662053003629, number:0.1011408888132106, number:0.2026493085957859, number:0.6785998772884165, number:0.7711349294175638, number:0.5120212085265813, number:0.2142193857978925, number:0.09462505880648708, number:0.6719034701578611, number:0.550528424914177, number:0.06674148391560653, number:0.06296535207926945, number:0.9646958052991258, number:0.1163516996538391, number:0.9086575272814729, number:0.07605457053182885, number:0.6592331830982341, number:0.6733401843143593, number:0.2616259962569922, number:0.1730339543917103, number:0.2778220724866743]\n",
            "[text:'b16', number:0.1401002696557238, number:0.009300029844727997, number:0.2608372707727743, number:0.4027277963098863, number:0.7995107243066337, number:0.4155901349849378, number:0.2600590622677256, number:0.6380172843367541, number:0.2176426114056118, number:0.2284397439956056, number:0.7177246089375092, number:0.4667101531567561, number:0.9221694143895358, number:0.2049013551352478, number:0.5239651671328615, number:0.9686461241479146, number:0.2426377130556504, number:0.5823094373023779, number:0.373371946708983, number:0.8022419603159812, number:0.03807761559895018, number:0.07743435526689646, number:0.05254963923758205, number:0.1961330286897646, number:0.9852840137532644, number:0.2851818878827517, number:0.9032538494501605, number:0.5105540038802464, number:0.4960560429960317, number:0.3167096237551008]\n",
            "[text:'b17', number:0.2202284883338299, number:0.9562476646831272, number:0.829422891715065, number:0.1428640679903329, number:0.2283766985428659, number:0.4064856452130703, number:0.6543661808797057, number:0.1504417485570901, number:0.05920804503032306, number:0.7513685869964308, number:0.3432993250425572, number:0.9691171640994563, number:0.2191150172312629, number:0.7920255947561023, number:0.6613558502383566, number:0.4876854048188963, number:0.638369498962098, number:0.1968262772471878, number:0.7284492854986441, number:0.7507757988483362, number:0.5591995800114682, number:0.788665173289994, number:0.5124599706341826, number:0.1593593578134576, number:0.2410111877614897, number:0.4987234195868281, number:0.8231031862810715, number:0.3313250185994718, number:0.3721911253181004, number:0.2196915709129098]\n",
            "[text:'b18', number:0.2509895552832451, number:0.8970982012062191, number:0.1934815439307195, number:0.889489133423583, number:0.8468801952641712, number:0.6398375920352899, number:0.7573386442975183, number:0.7555045338157461, number:0.13619925076498, number:0.3302576454882326, number:0.7019154324244476, number:0.7053011322327072, number:0.9912410141067856, number:0.4886953483440989, number:0.937207925804428, number:0.2790418678366304, number:0.2608515966115227, number:0.03719928937224537, number:0.4088547619164198, number:0.07186585774136323, number:0.9289831628123078, number:0.6392342812624298, number:0.2430438952383027, number:0.223330132625119, number:0.2815238334518774, number:0.2968551151979918, number:0.7236150502459974, number:0.8933154261236388, number:0.4040463122263789, number:0.4150495336337769]\n",
            "[text:'b19', number:0.5591873942170225, number:0.7262673288706255, number:0.4167098208760103, number:0.3499521045552911, number:0.8242278658818439, number:0.021654332469633, number:0.8540814356360633, number:0.4189970232390677, number:0.7270260740915675, number:0.5948884676396929, number:0.1640123376225124, number:0.6750966625538993, number:0.6199284367415718, number:0.1290406315929576, number:0.6419954229885121, number:0.02340832985884334, number:0.170670740268232, number:0.2111126292723517, number:0.3922177185827944, number:0.06089783858813957, number:0.35603326233529, number:0.1822191068810229, number:0.6840728431981027, number:0.2519228444982301, number:0.1132045916436766, number:0.3623160249996042, number:0.8455959958772048, number:0.6514355512036281, number:0.3223621102781753, number:0.2593576544960536]\n",
            "[text:'b20', number:0.1435634178757721, number:0.7181037894197957, number:0.8388305152267127, number:0.7662894657986832, number:0.08928426476481921, number:0.6772287507878884, number:0.353655820773628, number:0.8411812447281649, number:0.6596528153796678, number:0.7025343040410548, number:0.585399477154546, number:0.2335454112236831, number:0.8597015286489178, number:0.6903898679222072, number:0.2858484516807915, number:0.7191261511986832, number:0.8198640302515295, number:0.5247240274859089, number:0.2341981882026704, number:0.3562121123415349, number:0.1221498043343073, number:0.5121501669116199, number:0.2812400765133126, number:0.4903827660954985, number:0.7221890685315934, number:0.1413260155231302, number:0.4500639128734191, number:0.6934507290878565, number:0.6176627586841041, number:0.5713551008259692]\n",
            "[text:'b21', number:0.01260784783188562, number:0.2884207946577259, number:0.6521681160792259, number:0.911193640299181, number:0.03358364451537443, number:0.0335216257840576, number:0.01726782849546271, number:0.6984215432231075, number:0.8434414573025067, number:0.21086352356339, number:0.3591865992706302, number:0.669606589114002, number:0.9885125487550006, number:0.4634175933427945, number:0.1590533007905557, number:0.2060686797110166, number:0.4168042876366791, number:0.08144913423261801, number:0.4934594802889659, number:0.3958932559658158, number:0.3084122905514299, number:0.3560128368597807, number:0.6779936164742728, number:0.45131659701339, number:0.492462079683996, number:0.4831320498398908, number:0.819102467976058, number:0.6065474407887488, number:0.04609120558545177, number:0.9437619833298004]\n",
            "[text:'b22', number:0.7180711732163383, number:0.3749718327005056, number:0.8952012785533685, number:0.2453838093563314, number:0.5805014369888924, number:0.5884752414220287, number:0.4258928085613909, number:0.5997032989033207, number:0.211192565225243, number:0.1292928955962589, number:0.3553184185079219, number:0.7405329369911193, number:0.4580766499258099, number:0.1377371671527853, number:0.2045799217675135, number:0.5774469521519906, number:0.767941958793736, number:0.01213127107624368, number:0.03249024428637826, number:0.06851138750919905, number:0.2956136299507625, number:0.008776885889299368, number:0.7322904298361788, number:0.03990715440155623, number:0.7761605011524649, number:0.04054058950691508, number:0.7564894589706094, number:0.7481279328624604, number:0.5412438761413733, number:0.3306846280160076]\n",
            "[text:'b23', number:0.143746335998958, number:0.98424853089145, number:0.07360567322249356, number:0.4187359074111193, number:0.04737971160890053, number:0.6156845615420826, number:0.4696617633591055, number:0.8006011412333661, number:0.6552259212706334, number:0.02246700541473823, number:0.6711763791652962, number:0.8047414581077114, number:0.1366509415114148, number:0.727188889397315, number:0.352104937460567, number:0.7421558928991926, number:0.3823054096689118, number:0.338924703396362, number:0.1654410452766713, number:0.9936843990104622, number:0.3130694892584148, number:0.9814913226041164, number:0.9716586947998226, number:0.7569322758371586, number:0.9682386107218438, number:0.554147545068144, number:0.3384415566336725, number:0.6042922129643896, number:0.5189038939496137, number:0.5240484580678182]\n",
            "[text:'b24', number:0.3165378226365417, number:0.3674741192892153, number:0.4067073703371775, number:0.1814712491788169, number:0.3900097372178389, number:0.4445092020107295, number:0.839817393536047, number:0.558645531726417, number:0.102329797955799, number:0.5601741390175475, number:0.97916181108242, number:0.8182706404128574, number:0.6590919097185044, number:0.9029767306840343, number:0.2987806328383917, number:0.3230737602569773, number:0.5806282668564575, number:0.1595669326259852, number:0.6847679620790439, number:0.5199752080067609, number:0.9988034071436672, number:0.4567258894524499, number:0.7004906184789647, number:0.1272509110129444, number:0.4745203141294858, number:0.9456606187989625, number:0.7665250980721234, number:0.6161130426322645, number:0.8121797932815393, number:0.4023009255648201]\n",
            "[text:'b25', number:0.2113881133198736, number:0.4512345328761873, number:0.4528468536618171, number:0.2204363752641256, number:0.6565675088404822, number:0.6345312439809956, number:0.5253377851103667, number:0.5647317688967193, number:0.7914806516605556, number:0.4261347787351669, number:0.5077853377009841, number:0.5362416472762773, number:0.127576884947314, number:0.4883976430399084, number:0.146139156998257, number:0.6806278267106417, number:0.6712387449442809, number:0.7876542731637541, number:0.1146354763344919, number:0.8810394716724638, number:0.6999394477474482, number:0.1119827413131804, number:0.07008639223811797, number:0.2236917082713625, number:0.2199522918974272, number:0.5628639435879058, number:0.7286858754006914, number:0.5509688140520309, number:0.4511356964495115, number:0.1839699617015333]\n",
            "[text:'b26', number:0.5113935448936251, number:0.843315353926047, number:0.3089386197208979, number:0.4623981942856641, number:0.9899545710379459, number:0.1511511068725957, number:0.8996472704284275, number:0.7697784652706758, number:0.2531178822060934, number:0.05619648075803796, number:0.6350567501745267, number:0.2703084621799065, number:0.647987511974471, number:0.6766240261605637, number:0.6338111302633866, number:0.7869562619194665, number:0.3844983311346122, number:0.8160426140540975, number:0.2322712231281099, number:0.2447516778785446, number:0.1703047287510613, number:0.3348471815167861, number:0.9640863410936041, number:0.4083895871623358, number:0.9040735830946975, number:0.7573654890993357, number:0.6768897710469631, number:0.9908006455071646, number:0.1389738386870203, number:0.9895004852502964]\n",
            "[text:'b27', number:0.3014611248674502, number:0.9903472177018576, number:0.9674504356241689, number:0.8677922569589291, number:0.6016601244001252, number:0.4519214471724783, number:0.4294632178448212, number:0.6330257825694803, number:0.434611284729635, number:0.7472238508614882, number:0.9041576950866438, number:0.01421805549021005, number:0.4445541016618277, number:0.3124564297771898, number:0.706747373068346, number:0.3027093921009131, number:0.5001965685374217, number:0.1031044091934625, number:0.06027826516369117, number:0.1800299993775988, number:0.5933098909338549, number:0.769636822846826, number:0.129454522911903, number:0.4959774934784211, number:0.1728992253633672, number:0.689659330430487, number:0.1370368978945818, number:0.8062374882052422, number:0.05283567307082782, number:0.5872230423205027]\n",
            "[text:'b28', number:0.3229858261700297, number:0.2101875868577538, number:0.04450858648000811, number:0.4155933417308016, number:0.1282847229345978, number:0.2937080643889843, number:0.788089114356013, number:0.960821391261129, number:0.5827989882208116, number:0.5209992049190909, number:0.9713378428675231, number:0.5756760664292861, number:0.9765570058231466, number:0.9333084681138476, number:0.1296083219843509, number:0.8476192955731106, number:0.9031250810527374, number:0.0578665726768155, number:0.9016659172454642, number:0.01970273211338669, number:0.2646825761662177, number:0.8100688762017927, number:0.4933398888558241, number:0.3569337051805127, number:0.2233895547125675, number:0.3337829637592366, number:0.6076198803796206, number:0.5894322063027065, number:0.5645575289501779, number:0.5604754822412729]\n",
            "[text:'b29', number:0.3813075956698849, number:0.3421184254843196, number:0.7705682288060264, number:0.1770519135947295, number:0.072680766416364, number:0.674847862832378, number:0.1285224309148211, number:0.7017837627121831, number:0.7819834007973931, number:0.3246792275509758, number:0.6607642042645574, number:0.7709728368049142, number:0.7935980008755739, number:0.5005749844254579, number:0.6016832374869219, number:0.2793742600555653, number:0.3817666772754017, number:0.2630417765558906, number:0.8640949240270851, number:0.2955938638023575, number:0.7760214371098587, number:0.8792891484962583, number:0.06341957940041298, number:0.6452024721362032, number:0.3362574462063525, number:0.1045949889942736, number:0.9614994422624888, number:0.3176592807977534, number:0.7177505480722304, number:0.2548570199763486]\n"
          ]
        }
      ]
    },
    {
      "cell_type": "code",
      "source": [
        "worksheet.col_values(0).index('b17')"
      ],
      "metadata": {
        "colab": {
          "base_uri": "https://localhost:8080/"
        },
        "id": "vEbNQXvgkj3U",
        "outputId": "52848961-d8b2-4f6e-e763-af362769cc13"
      },
      "execution_count": 26,
      "outputs": [
        {
          "output_type": "execute_result",
          "data": {
            "text/plain": [
              "18"
            ]
          },
          "metadata": {},
          "execution_count": 26
        }
      ]
    },
    {
      "cell_type": "code",
      "source": [
        "worksheet.col_values(0)"
      ],
      "metadata": {
        "colab": {
          "base_uri": "https://localhost:8080/"
        },
        "id": "p_w_eEBbmIni",
        "outputId": "2fa1fa51-4893-40ca-9fa6-2388cb88f18c"
      },
      "execution_count": 27,
      "outputs": [
        {
          "output_type": "execute_result",
          "data": {
            "text/plain": [
              "['',\n",
              " 'b0',\n",
              " 'b1',\n",
              " 'b2',\n",
              " 'b3',\n",
              " 'b4',\n",
              " 'b5',\n",
              " 'b6',\n",
              " 'b7',\n",
              " 'b8',\n",
              " 'b9',\n",
              " 'b10',\n",
              " 'b11',\n",
              " 'b12',\n",
              " 'b13',\n",
              " 'b14',\n",
              " 'b15',\n",
              " 'b16',\n",
              " 'b17',\n",
              " 'b18',\n",
              " 'b19',\n",
              " 'b20',\n",
              " 'b21',\n",
              " 'b22',\n",
              " 'b23',\n",
              " 'b24',\n",
              " 'b25',\n",
              " 'b26',\n",
              " 'b27',\n",
              " 'b28',\n",
              " 'b29']"
            ]
          },
          "metadata": {},
          "execution_count": 27
        }
      ]
    },
    {
      "cell_type": "code",
      "source": [
        "type(worksheet.col(0)[1])"
      ],
      "metadata": {
        "colab": {
          "base_uri": "https://localhost:8080/"
        },
        "id": "flrHORTZk5ZZ",
        "outputId": "05960e39-967b-4e66-b868-8b69f2759558"
      },
      "execution_count": 28,
      "outputs": [
        {
          "output_type": "execute_result",
          "data": {
            "text/plain": [
              "xlrd.sheet.Cell"
            ]
          },
          "metadata": {},
          "execution_count": 28
        }
      ]
    },
    {
      "cell_type": "code",
      "source": [
        "worksheet.col(0)"
      ],
      "metadata": {
        "colab": {
          "base_uri": "https://localhost:8080/"
        },
        "id": "PUoY3TnCkHJB",
        "outputId": "cf0821c0-4821-4fa0-f78a-b564dd8314a5"
      },
      "execution_count": 29,
      "outputs": [
        {
          "output_type": "execute_result",
          "data": {
            "text/plain": [
              "[empty:'',\n",
              " text:'b0',\n",
              " text:'b1',\n",
              " text:'b2',\n",
              " text:'b3',\n",
              " text:'b4',\n",
              " text:'b5',\n",
              " text:'b6',\n",
              " text:'b7',\n",
              " text:'b8',\n",
              " text:'b9',\n",
              " text:'b10',\n",
              " text:'b11',\n",
              " text:'b12',\n",
              " text:'b13',\n",
              " text:'b14',\n",
              " text:'b15',\n",
              " text:'b16',\n",
              " text:'b17',\n",
              " text:'b18',\n",
              " text:'b19',\n",
              " text:'b20',\n",
              " text:'b21',\n",
              " text:'b22',\n",
              " text:'b23',\n",
              " text:'b24',\n",
              " text:'b25',\n",
              " text:'b26',\n",
              " text:'b27',\n",
              " text:'b28',\n",
              " text:'b29']"
            ]
          },
          "metadata": {},
          "execution_count": 29
        }
      ]
    },
    {
      "cell_type": "code",
      "source": [
        "input_file_path     = '/content'\n",
        "input_file_name     = '/sample0.xlsx'\n",
        "output_file_path    = '/content'\n",
        "output_file_name    = '/test'\n",
        "tab                 = 0\n",
        "\n",
        "#opening files\n",
        "output_file = open(output_file_path + output_file_name+'.csv', \"w\")\n",
        "input_files = open_workbook(input_file_path + input_file_name)\n",
        "\n",
        "\n",
        "#sheet,rows and columns of interest\n",
        "sheet = input_files.sheet_by_index(tab)\n",
        "site_id_row = 0\n",
        "inventory_start_column = 10\n",
        "    \n",
        "#iterate over SKUs # Indices da planilha\n",
        "lsku = worksheet.col_values(0)\n",
        "\n",
        "#iterate over stores obtaining each inventory and sales values\n",
        "indices = [i for i, x in enumerate(lsku) if x == \"b17\"]\n",
        "\n",
        "for k in indices:\n",
        "    site_id = sheet.row_values(k)\n",
        "    print(site_id)\n",
        "    output_file.write(str(site_id)[1:-1]+'\\n')\n",
        "\n",
        "output_file.close()"
      ],
      "metadata": {
        "colab": {
          "base_uri": "https://localhost:8080/"
        },
        "id": "YI7dWsH8aYZ2",
        "outputId": "46a3c7b9-85ee-43f4-facc-76fb2a4f50a4"
      },
      "execution_count": 30,
      "outputs": [
        {
          "output_type": "stream",
          "name": "stdout",
          "text": [
            "['b17', 0.2202284883338299, 0.9562476646831272, 0.829422891715065, 0.1428640679903329, 0.2283766985428659, 0.4064856452130703, 0.6543661808797057, 0.1504417485570901, 0.05920804503032306, 0.7513685869964308, 0.3432993250425572, 0.9691171640994563, 0.2191150172312629, 0.7920255947561023, 0.6613558502383566, 0.4876854048188963, 0.638369498962098, 0.1968262772471878, 0.7284492854986441, 0.7507757988483362, 0.5591995800114682, 0.788665173289994, 0.5124599706341826, 0.1593593578134576, 0.2410111877614897, 0.4987234195868281, 0.8231031862810715, 0.3313250185994718, 0.3721911253181004, 0.2196915709129098]\n"
          ]
        }
      ]
    },
    {
      "cell_type": "code",
      "source": [
        "lsku"
      ],
      "metadata": {
        "colab": {
          "base_uri": "https://localhost:8080/"
        },
        "id": "AT7ZpdyfnTdi",
        "outputId": "1cd007db-579e-42ca-eaca-ac75dc6ac65b"
      },
      "execution_count": 31,
      "outputs": [
        {
          "output_type": "execute_result",
          "data": {
            "text/plain": [
              "['',\n",
              " 'b0',\n",
              " 'b1',\n",
              " 'b2',\n",
              " 'b3',\n",
              " 'b4',\n",
              " 'b5',\n",
              " 'b6',\n",
              " 'b7',\n",
              " 'b8',\n",
              " 'b9',\n",
              " 'b10',\n",
              " 'b11',\n",
              " 'b12',\n",
              " 'b13',\n",
              " 'b14',\n",
              " 'b15',\n",
              " 'b16',\n",
              " 'b17',\n",
              " 'b18',\n",
              " 'b19',\n",
              " 'b20',\n",
              " 'b21',\n",
              " 'b22',\n",
              " 'b23',\n",
              " 'b24',\n",
              " 'b25',\n",
              " 'b26',\n",
              " 'b27',\n",
              " 'b28',\n",
              " 'b29']"
            ]
          },
          "metadata": {},
          "execution_count": 31
        }
      ]
    },
    {
      "cell_type": "code",
      "source": [
        "sheet.cell"
      ],
      "metadata": {
        "colab": {
          "base_uri": "https://localhost:8080/"
        },
        "id": "0iho6GFMekRG",
        "outputId": "07bc5fbb-894b-4edd-b828-e02202393206"
      },
      "execution_count": 32,
      "outputs": [
        {
          "output_type": "execute_result",
          "data": {
            "text/plain": [
              "<bound method Sheet.cell of <xlrd.sheet.Sheet object at 0x7fd6b8b38e90>>"
            ]
          },
          "metadata": {},
          "execution_count": 32
        }
      ]
    },
    {
      "cell_type": "code",
      "source": [
        "sheet.ncols"
      ],
      "metadata": {
        "colab": {
          "base_uri": "https://localhost:8080/"
        },
        "id": "OadeiXvYb0-H",
        "outputId": "53eba9ac-5dcc-4291-8cbf-105eb88e5046"
      },
      "execution_count": 33,
      "outputs": [
        {
          "output_type": "execute_result",
          "data": {
            "text/plain": [
              "31"
            ]
          },
          "metadata": {},
          "execution_count": 33
        }
      ]
    },
    {
      "cell_type": "code",
      "source": [
        "txt = \"welcome to the jungle\"\n",
        "\n",
        "x = txt.split()\n",
        "\n",
        "print(x)"
      ],
      "metadata": {
        "id": "kwUTPPXkSLko",
        "colab": {
          "base_uri": "https://localhost:8080/"
        },
        "outputId": "3d3ba7e8-336b-42f3-f6ed-08b69b834a4a"
      },
      "execution_count": 34,
      "outputs": [
        {
          "output_type": "stream",
          "name": "stdout",
          "text": [
            "['welcome', 'to', 'the', 'jungle']\n"
          ]
        }
      ]
    },
    {
      "cell_type": "code",
      "source": [
        "# Create some data\n",
        "# plt.style.use('classic')\n",
        "rng = np.random.RandomState(0)\n",
        "x = np.linspace(0, 10, 100)\n",
        "y = np.cumsum(rng.randn(100, 6), 0)\n",
        "# Plot the data with Matplotlib defaults\n",
        "plt.plot(x, y)\n",
        "plt.legend('ABCDEF', ncol=2, loc='upper left');"
      ],
      "metadata": {
        "id": "7i0PHIqpIfoz",
        "colab": {
          "base_uri": "https://localhost:8080/",
          "height": 265
        },
        "outputId": "454ffeda-7c17-4c91-eb0e-7de720c67c02"
      },
      "execution_count": 35,
      "outputs": [
        {
          "output_type": "display_data",
          "data": {
            "text/plain": [
              "<Figure size 432x288 with 1 Axes>"
            ],
            "image/png": "[encoded data removed]"
          },
          "metadata": {
            "needs_background": "light"
          }
        }
      ]
    },
    {
      "cell_type": "code",
      "source": [
        "# RANDOM DATA\n",
        "np.random.seed(62918)\n",
        "emp = pd.DataFrame({'uniqueClientExits': [np.random.randint(15) for _ in range(50)],\n",
        "                    '12monthsEnding': pd.to_datetime(\n",
        "                                          np.random.choice(\n",
        "                                              pd.date_range('2018-01-01', periods=50), \n",
        "                                          50)\n",
        "                                      )\n",
        "                   }, columns = ['uniqueClientExits','12monthsEnding'])\n",
        "\n",
        "# PLOTTING\n",
        "fig, ax = plt.subplots(figsize = (12,6))    \n",
        "fig = sns.barplot(x = \"12monthsEnding\", y = \"uniqueClientExits\", data = emp, \n",
        "                  estimator = sum, ci = None, ax=ax)\n",
        "\n",
        "x_dates = emp['12monthsEnding'].dt.strftime('%Y-%m-%d').sort_values().unique()\n",
        "ax.set_xticklabels(labels=x_dates, rotation=45, ha='right')\n",
        "plt.show()"
      ],
      "metadata": {
        "colab": {
          "base_uri": "https://localhost:8080/",
          "height": 426
        },
        "id": "tElHM6-jhuTS",
        "outputId": "4d3b5290-d655-4ba0-8c3d-9758edfe4e95"
      },
      "execution_count": 36,
      "outputs": [
        {
          "output_type": "display_data",
          "data": {
            "text/plain": [
              "<Figure size 864x432 with 1 Axes>"
            ],
            "image/png": "[encoded data removed]"
          },
          "metadata": {
            "needs_background": "light"
          }
        }
      ]
    },
    {
      "cell_type": "code",
      "source": [
        "# data = pd.read_csv('/content/Brasil CDS 5 anos USD - Visão Geralv2.csv')\n",
        "# x = pd.to_datetime(data.iloc[:,0], format='%d/%m/%y')\n",
        "x = pd.date_range('2022-01-01', periods=50)\n",
        "y = 200*np.array(range(len(x))) + 10*np.random.standard_normal(len(x))\n",
        "\n",
        "data = pd.DataFrame([x,y], index = ['Data','Brasil CDS 5 anos']).T"
      ],
      "metadata": {
        "id": "2G_3AuMkqPBK"
      },
      "execution_count": 37,
      "outputs": []
    },
    {
      "cell_type": "code",
      "source": [
        "data['Juros'] = data['Brasil CDS 5 anos'].pct_change()\n",
        "\n",
        "data['Juros_acu'] =  (1 + data['Juros']).cumprod() - 1  "
      ],
      "metadata": {
        "id": "-DcZMt8qrUGu"
      },
      "execution_count": 38,
      "outputs": []
    },
    {
      "cell_type": "code",
      "source": [
        "data"
      ],
      "metadata": {
        "id": "zvoYKHBfrEL2",
        "colab": {
          "base_uri": "https://localhost:8080/",
          "height": 1000
        },
        "outputId": "b49597dc-3391-4ec5-e2f0-98d054ffbbaa"
      },
      "execution_count": 39,
      "outputs": [
        {
          "output_type": "execute_result",
          "data": {
            "text/plain": [
              "         Data Brasil CDS 5 anos      Juros    Juros_acu\n",
              "0  2022-01-01         -7.674061        NaN          NaN\n",
              "1  2022-01-02        185.093605 -25.119383   -25.119383\n",
              "2  2022-01-03        385.579132   1.083158   -51.244474\n",
              "3  2022-01-04          595.5559   0.544575   -78.606359\n",
              "4  2022-01-05        808.780542   0.358026  -106.391473\n",
              "5  2022-01-06       1020.612446   0.261915  -133.995100\n",
              "6  2022-01-07       1205.204902   0.180864  -158.049178\n",
              "7  2022-01-08       1402.662241   0.163837  -183.779668\n",
              "8  2022-01-09       1590.547254   0.133949  -208.262797\n",
              "9  2022-01-10       1789.867292   0.125315  -234.236014\n",
              "10 2022-01-11       1996.420873   0.115402  -261.151827\n",
              "11 2022-01-12       2198.474924   0.101208  -287.481311\n",
              "12 2022-01-13       2403.199256   0.093121  -314.158756\n",
              "13 2022-01-14       2601.391619   0.082470  -339.985027\n",
              "14 2022-01-15       2800.662975   0.076602  -365.951900\n",
              "15 2022-01-16        3006.82141   0.073611  -392.816222\n",
              "16 2022-01-17        3216.59694   0.069767  -420.151885\n",
              "17 2022-01-18       3403.692083   0.058166  -444.532086\n",
              "18 2022-01-19       3584.001234   0.052975  -468.028011\n",
              "19 2022-01-20       3802.753018   0.061036  -496.533362\n",
              "20 2022-01-21       3992.292551   0.049843  -521.232090\n",
              "21 2022-01-22       4188.488706   0.049144  -546.798236\n",
              "22 2022-01-23        4378.10917   0.045272  -571.507510\n",
              "23 2022-01-24       4601.433449   0.051009  -600.608698\n",
              "24 2022-01-25       4797.781992   0.042671  -626.194702\n",
              "25 2022-01-26       5023.216237   0.046987  -655.570838\n",
              "26 2022-01-27       5204.073662   0.036004  -679.138208\n",
              "27 2022-01-28       5406.901514   0.038975  -705.568525\n",
              "28 2022-01-29       5601.596318   0.036009  -730.939031\n",
              "29 2022-01-30       5789.702464   0.033581  -755.450976\n",
              "30 2022-01-31       6009.549681   0.037972  -784.099071\n",
              "31 2022-02-01       6194.059834   0.030703  -808.142425\n",
              "32 2022-02-02       6405.672115   0.034164  -835.717433\n",
              "33 2022-02-03       6596.986645   0.029866  -860.647459\n",
              "34 2022-02-04       6796.918916   0.030307  -886.700455\n",
              "35 2022-02-05       7015.464072   0.032154  -915.178880\n",
              "36 2022-02-06       7195.161213   0.025614  -938.595055\n",
              "37 2022-02-07       7391.762602   0.027324  -964.214007\n",
              "38 2022-02-08       7599.461278   0.028099  -991.279036\n",
              "39 2022-02-09       7785.857338   0.024528 -1015.568141\n",
              "40 2022-02-10       8017.478705   0.029749 -1045.750515\n",
              "41 2022-02-11       8192.340114   0.021810 -1068.536550\n",
              "42 2022-02-12        8404.53171   0.025901 -1096.187048\n",
              "43 2022-02-13       8607.185455   0.024112 -1122.594677\n",
              "44 2022-02-14       8809.593733   0.023516 -1148.970320\n",
              "45 2022-02-15       9003.121625   0.021968 -1174.188767\n",
              "46 2022-02-16       9174.443952   0.019029 -1196.513627\n",
              "47 2022-02-17       9407.778897   0.025433 -1226.919296\n",
              "48 2022-02-18       9584.565469   0.018792 -1249.956197\n",
              "49 2022-02-19       9801.399731   0.022623 -1278.211677"
            ],
            "text/html": [
              "\n",
              "  <div id=\"df-f9d84732-464b-4e0d-a072-146d0c0b03ca\">\n",
              "    <div class=\"colab-df-container\">\n",
              "      <div>\n",
              "<style scoped>\n",
              "    .dataframe tbody tr th:only-of-type {\n",
              "        vertical-align: middle;\n",
              "    }\n",
              "\n",
              "    .dataframe tbody tr th {\n",
              "        vertical-align: top;\n",
              "    }\n",
              "\n",
              "    .dataframe thead th {\n",
              "        text-align: right;\n",
              "    }\n",
              "</style>\n",
              "<table border=\"1\" class=\"dataframe\">\n",
              "  <thead>\n",
              "    <tr style=\"text-align: right;\">\n",
              "      <th></th>\n",
              "      <th>Data</th>\n",
              "      <th>Brasil CDS 5 anos</th>\n",
              "      <th>Juros</th>\n",
              "      <th>Juros_acu</th>\n",
              "    </tr>\n",
              "  </thead>\n",
              "  <tbody>\n",
              "    <tr>\n",
              "      <th>0</th>\n",
              "      <td>2022-01-01</td>\n",
              "      <td>-7.674061</td>\n",
              "      <td>NaN</td>\n",
              "      <td>NaN</td>\n",
              "    </tr>\n",
              "    <tr>\n",
              "      <th>1</th>\n",
              "      <td>2022-01-02</td>\n",
              "      <td>185.093605</td>\n",
              "      <td>-25.119383</td>\n",
              "      <td>-25.119383</td>\n",
              "    </tr>\n",
              "    <tr>\n",
              "      <th>2</th>\n",
              "      <td>2022-01-03</td>\n",
              "      <td>385.579132</td>\n",
              "      <td>1.083158</td>\n",
              "      <td>-51.244474</td>\n",
              "    </tr>\n",
              "    <tr>\n",
              "      <th>3</th>\n",
              "      <td>2022-01-04</td>\n",
              "      <td>595.5559</td>\n",
              "      <td>0.544575</td>\n",
              "      <td>-78.606359</td>\n",
              "    </tr>\n",
              "    <tr>\n",
              "      <th>4</th>\n",
              "      <td>2022-01-05</td>\n",
              "      <td>808.780542</td>\n",
              "      <td>0.358026</td>\n",
              "      <td>-106.391473</td>\n",
              "    </tr>\n",
              "    <tr>\n",
              "      <th>5</th>\n",
              "      <td>2022-01-06</td>\n",
              "      <td>1020.612446</td>\n",
              "      <td>0.261915</td>\n",
              "      <td>-133.995100</td>\n",
              "    </tr>\n",
              "    <tr>\n",
              "      <th>6</th>\n",
              "      <td>2022-01-07</td>\n",
              "      <td>1205.204902</td>\n",
              "      <td>0.180864</td>\n",
              "      <td>-158.049178</td>\n",
              "    </tr>\n",
              "    <tr>\n",
              "      <th>7</th>\n",
              "      <td>2022-01-08</td>\n",
              "      <td>1402.662241</td>\n",
              "      <td>0.163837</td>\n",
              "      <td>-183.779668</td>\n",
              "    </tr>\n",
              "    <tr>\n",
              "      <th>8</th>\n",
              "      <td>2022-01-09</td>\n",
              "      <td>1590.547254</td>\n",
              "      <td>0.133949</td>\n",
              "      <td>-208.262797</td>\n",
              "    </tr>\n",
              "    <tr>\n",
              "      <th>9</th>\n",
              "      <td>2022-01-10</td>\n",
              "      <td>1789.867292</td>\n",
              "      <td>0.125315</td>\n",
              "      <td>-234.236014</td>\n",
              "    </tr>\n",
              "    <tr>\n",
              "      <th>10</th>\n",
              "      <td>2022-01-11</td>\n",
              "      <td>1996.420873</td>\n",
              "      <td>0.115402</td>\n",
              "      <td>-261.151827</td>\n",
              "    </tr>\n",
              "    <tr>\n",
              "      <th>11</th>\n",
              "      <td>2022-01-12</td>\n",
              "      <td>2198.474924</td>\n",
              "      <td>0.101208</td>\n",
              "      <td>-287.481311</td>\n",
              "    </tr>\n",
              "    <tr>\n",
              "      <th>12</th>\n",
              "      <td>2022-01-13</td>\n",
              "      <td>2403.199256</td>\n",
              "      <td>0.093121</td>\n",
              "      <td>-314.158756</td>\n",
              "    </tr>\n",
              "    <tr>\n",
              "      <th>13</th>\n",
              "      <td>2022-01-14</td>\n",
              "      <td>2601.391619</td>\n",
              "      <td>0.082470</td>\n",
              "      <td>-339.985027</td>\n",
              "    </tr>\n",
              "    <tr>\n",
              "      <th>14</th>\n",
              "      <td>2022-01-15</td>\n",
              "      <td>2800.662975</td>\n",
              "      <td>0.076602</td>\n",
              "      <td>-365.951900</td>\n",
              "    </tr>\n",
              "    <tr>\n",
              "      <th>15</th>\n",
              "      <td>2022-01-16</td>\n",
              "      <td>3006.82141</td>\n",
              "      <td>0.073611</td>\n",
              "      <td>-392.816222</td>\n",
              "    </tr>\n",
              "    <tr>\n",
              "      <th>16</th>\n",
              "      <td>2022-01-17</td>\n",
              "      <td>3216.59694</td>\n",
              "      <td>0.069767</td>\n",
              "      <td>-420.151885</td>\n",
              "    </tr>\n",
              "    <tr>\n",
              "      <th>17</th>\n",
              "      <td>2022-01-18</td>\n",
              "      <td>3403.692083</td>\n",
              "      <td>0.058166</td>\n",
              "      <td>-444.532086</td>\n",
              "    </tr>\n",
              "    <tr>\n",
              "      <th>18</th>\n",
              "      <td>2022-01-19</td>\n",
              "      <td>3584.001234</td>\n",
              "      <td>0.052975</td>\n",
              "      <td>-468.028011</td>\n",
              "    </tr>\n",
              "    <tr>\n",
              "      <th>19</th>\n",
              "      <td>2022-01-20</td>\n",
              "      <td>3802.753018</td>\n",
              "      <td>0.061036</td>\n",
              "      <td>-496.533362</td>\n",
              "    </tr>\n",
              "    <tr>\n",
              "      <th>20</th>\n",
              "      <td>2022-01-21</td>\n",
              "      <td>3992.292551</td>\n",
              "      <td>0.049843</td>\n",
              "      <td>-521.232090</td>\n",
              "    </tr>\n",
              "    <tr>\n",
              "      <th>21</th>\n",
              "      <td>2022-01-22</td>\n",
              "      <td>4188.488706</td>\n",
              "      <td>0.049144</td>\n",
              "      <td>-546.798236</td>\n",
              "    </tr>\n",
              "    <tr>\n",
              "      <th>22</th>\n",
              "      <td>2022-01-23</td>\n",
              "      <td>4378.10917</td>\n",
              "      <td>0.045272</td>\n",
              "      <td>-571.507510</td>\n",
              "    </tr>\n",
              "    <tr>\n",
              "      <th>23</th>\n",
              "      <td>2022-01-24</td>\n",
              "      <td>4601.433449</td>\n",
              "      <td>0.051009</td>\n",
              "      <td>-600.608698</td>\n",
              "    </tr>\n",
              "    <tr>\n",
              "      <th>24</th>\n",
              "      <td>2022-01-25</td>\n",
              "      <td>4797.781992</td>\n",
              "      <td>0.042671</td>\n",
              "      <td>-626.194702</td>\n",
              "    </tr>\n",
              "    <tr>\n",
              "      <th>25</th>\n",
              "      <td>2022-01-26</td>\n",
              "      <td>5023.216237</td>\n",
              "      <td>0.046987</td>\n",
              "      <td>-655.570838</td>\n",
              "    </tr>\n",
              "    <tr>\n",
              "      <th>26</th>\n",
              "      <td>2022-01-27</td>\n",
              "      <td>5204.073662</td>\n",
              "      <td>0.036004</td>\n",
              "      <td>-679.138208</td>\n",
              "    </tr>\n",
              "    <tr>\n",
              "      <th>27</th>\n",
              "      <td>2022-01-28</td>\n",
              "      <td>5406.901514</td>\n",
              "      <td>0.038975</td>\n",
              "      <td>-705.568525</td>\n",
              "    </tr>\n",
              "    <tr>\n",
              "      <th>28</th>\n",
              "      <td>2022-01-29</td>\n",
              "      <td>5601.596318</td>\n",
              "      <td>0.036009</td>\n",
              "      <td>-730.939031</td>\n",
              "    </tr>\n",
              "    <tr>\n",
              "      <th>29</th>\n",
              "      <td>2022-01-30</td>\n",
              "      <td>5789.702464</td>\n",
              "      <td>0.033581</td>\n",
              "      <td>-755.450976</td>\n",
              "    </tr>\n",
              "    <tr>\n",
              "      <th>30</th>\n",
              "      <td>2022-01-31</td>\n",
              "      <td>6009.549681</td>\n",
              "      <td>0.037972</td>\n",
              "      <td>-784.099071</td>\n",
              "    </tr>\n",
              "    <tr>\n",
              "      <th>31</th>\n",
              "      <td>2022-02-01</td>\n",
              "      <td>6194.059834</td>\n",
              "      <td>0.030703</td>\n",
              "      <td>-808.142425</td>\n",
              "    </tr>\n",
              "    <tr>\n",
              "      <th>32</th>\n",
              "      <td>2022-02-02</td>\n",
              "      <td>6405.672115</td>\n",
              "      <td>0.034164</td>\n",
              "      <td>-835.717433</td>\n",
              "    </tr>\n",
              "    <tr>\n",
              "      <th>33</th>\n",
              "      <td>2022-02-03</td>\n",
              "      <td>6596.986645</td>\n",
              "      <td>0.029866</td>\n",
              "      <td>-860.647459</td>\n",
              "    </tr>\n",
              "    <tr>\n",
              "      <th>34</th>\n",
              "      <td>2022-02-04</td>\n",
              "      <td>6796.918916</td>\n",
              "      <td>0.030307</td>\n",
              "      <td>-886.700455</td>\n",
              "    </tr>\n",
              "    <tr>\n",
              "      <th>35</th>\n",
              "      <td>2022-02-05</td>\n",
              "      <td>7015.464072</td>\n",
              "      <td>0.032154</td>\n",
              "      <td>-915.178880</td>\n",
              "    </tr>\n",
              "    <tr>\n",
              "      <th>36</th>\n",
              "      <td>2022-02-06</td>\n",
              "      <td>7195.161213</td>\n",
              "      <td>0.025614</td>\n",
              "      <td>-938.595055</td>\n",
              "    </tr>\n",
              "    <tr>\n",
              "      <th>37</th>\n",
              "      <td>2022-02-07</td>\n",
              "      <td>7391.762602</td>\n",
              "      <td>0.027324</td>\n",
              "      <td>-964.214007</td>\n",
              "    </tr>\n",
              "    <tr>\n",
              "      <th>38</th>\n",
              "      <td>2022-02-08</td>\n",
              "      <td>7599.461278</td>\n",
              "      <td>0.028099</td>\n",
              "      <td>-991.279036</td>\n",
              "    </tr>\n",
              "    <tr>\n",
              "      <th>39</th>\n",
              "      <td>2022-02-09</td>\n",
              "      <td>7785.857338</td>\n",
              "      <td>0.024528</td>\n",
              "      <td>-1015.568141</td>\n",
              "    </tr>\n",
              "    <tr>\n",
              "      <th>40</th>\n",
              "      <td>2022-02-10</td>\n",
              "      <td>8017.478705</td>\n",
              "      <td>0.029749</td>\n",
              "      <td>-1045.750515</td>\n",
              "    </tr>\n",
              "    <tr>\n",
              "      <th>41</th>\n",
              "      <td>2022-02-11</td>\n",
              "      <td>8192.340114</td>\n",
              "      <td>0.021810</td>\n",
              "      <td>-1068.536550</td>\n",
              "    </tr>\n",
              "    <tr>\n",
              "      <th>42</th>\n",
              "      <td>2022-02-12</td>\n",
              "      <td>8404.53171</td>\n",
              "      <td>0.025901</td>\n",
              "      <td>-1096.187048</td>\n",
              "    </tr>\n",
              "    <tr>\n",
              "      <th>43</th>\n",
              "      <td>2022-02-13</td>\n",
              "      <td>8607.185455</td>\n",
              "      <td>0.024112</td>\n",
              "      <td>-1122.594677</td>\n",
              "    </tr>\n",
              "    <tr>\n",
              "      <th>44</th>\n",
              "      <td>2022-02-14</td>\n",
              "      <td>8809.593733</td>\n",
              "      <td>0.023516</td>\n",
              "      <td>-1148.970320</td>\n",
              "    </tr>\n",
              "    <tr>\n",
              "      <th>45</th>\n",
              "      <td>2022-02-15</td>\n",
              "      <td>9003.121625</td>\n",
              "      <td>0.021968</td>\n",
              "      <td>-1174.188767</td>\n",
              "    </tr>\n",
              "    <tr>\n",
              "      <th>46</th>\n",
              "      <td>2022-02-16</td>\n",
              "      <td>9174.443952</td>\n",
              "      <td>0.019029</td>\n",
              "      <td>-1196.513627</td>\n",
              "    </tr>\n",
              "    <tr>\n",
              "      <th>47</th>\n",
              "      <td>2022-02-17</td>\n",
              "      <td>9407.778897</td>\n",
              "      <td>0.025433</td>\n",
              "      <td>-1226.919296</td>\n",
              "    </tr>\n",
              "    <tr>\n",
              "      <th>48</th>\n",
              "      <td>2022-02-18</td>\n",
              "      <td>9584.565469</td>\n",
              "      <td>0.018792</td>\n",
              "      <td>-1249.956197</td>\n",
              "    </tr>\n",
              "    <tr>\n",
              "      <th>49</th>\n",
              "      <td>2022-02-19</td>\n",
              "      <td>9801.399731</td>\n",
              "      <td>0.022623</td>\n",
              "      <td>-1278.211677</td>\n",
              "    </tr>\n",
              "  </tbody>\n",
              "</table>\n",
              "</div>\n",
              "      <button class=\"colab-df-convert\" onclick=\"convertToInteractive('df-f9d84732-464b-4e0d-a072-146d0c0b03ca')\"\n",
              "              title=\"Convert this dataframe to an interactive table.\"\n",
              "              style=\"display:none;\">\n",
              "        \n",
              "  <svg xmlns=\"http://www.w3.org/2000/svg\" height=\"24px\"viewBox=\"0 0 24 24\"\n",
              "       width=\"24px\">\n",
              "    <path d=\"M0 0h24v24H0V0z\" fill=\"none\"/>\n",
              "    <path d=\"M18.56 5.44l.94 2.06.94-2.06 2.06-.94-2.06-.94-.94-2.06-.94 2.06-2.06.94zm-11 1L8.5 8.5l.94-2.06 2.06-.94-2.06-.94L8.5 2.5l-.94 2.06-2.06.94zm10 10l.94 2.06.94-2.06 2.06-.94-2.06-.94-.94-2.06-.94 2.06-2.06.94z\"/><path d=\"M17.41 7.96l-1.37-1.37c-.4-.4-.92-.59-1.43-.59-.52 0-1.04.2-1.43.59L10.3 9.45l-7.72 7.72c-.78.78-.78 2.05 0 2.83L4 21.41c.39.39.9.59 1.41.59.51 0 1.02-.2 1.41-.59l7.78-7.78 2.81-2.81c.8-.78.8-2.07 0-2.86zM5.41 20L4 18.59l7.72-7.72 1.47 1.35L5.41 20z\"/>\n",
              "  </svg>\n",
              "      </button>\n",
              "      \n",
              "  <style>\n",
              "    .colab-df-container {\n",
              "      display:flex;\n",
              "      flex-wrap:wrap;\n",
              "      gap: 12px;\n",
              "    }\n",
              "\n",
              "    .colab-df-convert {\n",
              "      background-color: #E8F0FE;\n",
              "      border: none;\n",
              "      border-radius: 50%;\n",
              "      cursor: pointer;\n",
              "      display: none;\n",
              "      fill: #1967D2;\n",
              "      height: 32px;\n",
              "      padding: 0 0 0 0;\n",
              "      width: 32px;\n",
              "    }\n",
              "\n",
              "    .colab-df-convert:hover {\n",
              "      background-color: #E2EBFA;\n",
              "      box-shadow: 0px 1px 2px rgba(60, 64, 67, 0.3), 0px 1px 3px 1px rgba(60, 64, 67, 0.15);\n",
              "      fill: #174EA6;\n",
              "    }\n",
              "\n",
              "    [theme=dark] .colab-df-convert {\n",
              "      background-color: #3B4455;\n",
              "      fill: #D2E3FC;\n",
              "    }\n",
              "\n",
              "    [theme=dark] .colab-df-convert:hover {\n",
              "      background-color: #434B5C;\n",
              "      box-shadow: 0px 1px 3px 1px rgba(0, 0, 0, 0.15);\n",
              "      filter: drop-shadow(0px 1px 2px rgba(0, 0, 0, 0.3));\n",
              "      fill: #FFFFFF;\n",
              "    }\n",
              "  </style>\n",
              "\n",
              "      <script>\n",
              "        const buttonEl =\n",
              "          document.querySelector('#df-f9d84732-464b-4e0d-a072-146d0c0b03ca button.colab-df-convert');\n",
              "        buttonEl.style.display =\n",
              "          google.colab.kernel.accessAllowed ? 'block' : 'none';\n",
              "\n",
              "        async function convertToInteractive(key) {\n",
              "          const element = document.querySelector('#df-f9d84732-464b-4e0d-a072-146d0c0b03ca');\n",
              "          const dataTable =\n",
              "            await google.colab.kernel.invokeFunction('convertToInteractive',\n",
              "                                                     [key], {});\n",
              "          if (!dataTable) return;\n",
              "\n",
              "          const docLinkHtml = 'Like what you see? Visit the ' +\n",
              "            '<a target=\"_blank\" href=https://colab.research.google.com/notebooks/data_table.ipynb>data table notebook</a>'\n",
              "            + ' to learn more about interactive tables.';\n",
              "          element.innerHTML = '';\n",
              "          dataTable['output_type'] = 'display_data';\n",
              "          await google.colab.output.renderOutput(dataTable, element);\n",
              "          const docLink = document.createElement('div');\n",
              "          docLink.innerHTML = docLinkHtml;\n",
              "          element.appendChild(docLink);\n",
              "        }\n",
              "      </script>\n",
              "    </div>\n",
              "  </div>\n",
              "  "
            ]
          },
          "metadata": {},
          "execution_count": 39
        }
      ]
    },
    {
      "cell_type": "code",
      "source": [
        "plt.plot(y)"
      ],
      "metadata": {
        "id": "69Jh1FXAqfV0",
        "colab": {
          "base_uri": "https://localhost:8080/",
          "height": 282
        },
        "outputId": "9982ed7f-a5f8-4019-f350-bc82e76a99c1"
      },
      "execution_count": 40,
      "outputs": [
        {
          "output_type": "execute_result",
          "data": {
            "text/plain": [
              "[<matplotlib.lines.Line2D at 0x7fd6b837f210>]"
            ]
          },
          "metadata": {},
          "execution_count": 40
        },
        {
          "output_type": "display_data",
          "data": {
            "text/plain": [
              "<Figure size 432x288 with 1 Axes>"
            ],
            "image/png": "[encoded data removed]"
          },
          "metadata": {
            "needs_background": "light"
          }
        }
      ]
    },
    {
      "cell_type": "code",
      "source": [
        "#@title FUNÇÕES DESCONTÍNUAS\n",
        "\n",
        "import numpy as np\n",
        "import seaborn as sns\n",
        "from matplotlib import pyplot as plt\n",
        "import numpy.ma as ma\n",
        "\n",
        "def func1(x):\n",
        "    return 2 + abs(x)/x\n",
        "\n",
        "func1v = np.vectorize(func1)  \n",
        "\n",
        "def func2(x):\n",
        "    return 3 - abs(x)/x\n",
        "\n",
        "\n",
        "func2v = np.vectorize(func2)  \n",
        "\n",
        "x = np.arange(-5, 5, 0.01)\n",
        "f = func1v(x)\n",
        "\n",
        "g = func2v(x)\n",
        "\n",
        "h = f + g\n",
        "\n",
        "f[abs(x) <= 0.01] = np.nan\n",
        "g[abs(x) <= 0.01] = np.nan\n",
        "\n",
        "fig, ax = plt.subplots(figsize=(10,7))\n",
        "\n",
        "plt.plot(x,f,label= r\"$f(x) = 2 + \\frac{|x|}{x}$\")\n",
        "plt.plot(x,g,label= r\"$g(x) = 3 - \\frac{|x|}{x}$\")\n",
        "plt.plot(x,h,label= r\"$h(x) = f(x)+g(x)$\")\n",
        "plt.legend(loc = 'upper right')\n",
        "plt.ylim(0, 7)\n",
        "plt.show()"
      ],
      "metadata": {
        "colab": {
          "base_uri": "https://localhost:8080/",
          "height": 432
        },
        "id": "hjdfvRBz6KzY",
        "outputId": "8a557f44-056c-41c4-9ac2-551c35b9da2c",
        "cellView": "form"
      },
      "execution_count": 41,
      "outputs": [
        {
          "output_type": "display_data",
          "data": {
            "text/plain": [
              "<Figure size 720x504 with 1 Axes>"
            ],
            "image/png": "[encoded data removed]"
          },
          "metadata": {
            "needs_background": "light"
          }
        }
      ]
    },
    {
      "cell_type": "code",
      "source": [
        "x = np.linspace(-1.0, 1.0, 101) # 101 as then 0 is included\n",
        "s = np.sign(x)\n",
        "s[s==0] = np.nan\n",
        "y = s * np.cos(x)\n",
        "plt.plot(x, y)"
      ],
      "metadata": {
        "colab": {
          "base_uri": "https://localhost:8080/",
          "height": 282
        },
        "id": "sLCZg4sdTT2y",
        "outputId": "e8530244-28e4-4d7d-8856-cf9f91d0a3b4"
      },
      "execution_count": 42,
      "outputs": [
        {
          "output_type": "execute_result",
          "data": {
            "text/plain": [
              "[<matplotlib.lines.Line2D at 0x7fd6b817c310>]"
            ]
          },
          "metadata": {},
          "execution_count": 42
        },
        {
          "output_type": "display_data",
          "data": {
            "text/plain": [
              "<Figure size 432x288 with 1 Axes>"
            ],
            "image/png": "[encoded data removed]"
          },
          "metadata": {
            "needs_background": "light"
          }
        }
      ]
    },
    {
      "cell_type": "code",
      "source": [
        "#@title HASHBLE\n",
        "\n",
        "x = 10\n",
        "s = 'a'\n",
        "print(x)\n",
        "print(id(x))\n",
        "print(hash(x))\n",
        "\n",
        "print(id(s))\n",
        "print(hash(s))\n",
        "\n",
        "x = 5\n",
        "s = 'b'\n",
        "print(x)\n",
        "print(id(x))\n",
        "print(hash(x))\n",
        "\n",
        "print(id(s))\n",
        "print(hash(s))"
      ],
      "metadata": {
        "colab": {
          "base_uri": "https://localhost:8080/"
        },
        "id": "kUZLKGfiU2HV",
        "outputId": "1a312d5a-2b1c-44fc-f92e-35134a8ea7b6",
        "cellView": "form"
      },
      "execution_count": 43,
      "outputs": [
        {
          "output_type": "stream",
          "name": "stdout",
          "text": [
            "10\n",
            "11256352\n",
            "10\n",
            "140560979994288\n",
            "3662816752486036367\n",
            "5\n",
            "11256192\n",
            "5\n",
            "140560979819376\n",
            "-3705144949268779584\n"
          ]
        }
      ]
    },
    {
      "cell_type": "code",
      "source": [
        "wb = openpyxl.Workbook()\n",
        "\n",
        "ws = wb.active\n",
        "\n",
        "ws1 = wb.create_sheet(\"Mysheet\")\n",
        "\n",
        "ws.title = \"New Title\"\n",
        "\n",
        "ws.sheet_properties.tabColor = \"1072BA\"\n",
        "\n",
        "print(wb.sheetnames)\n",
        "\n",
        "c = ws['A4']\n",
        "print(c)\n",
        "\n",
        "\n",
        "ws['A4'] = 4\n",
        "\n",
        "# Save the file\n",
        "wb.save(\"sample.xlsx\")"
      ],
      "metadata": {
        "colab": {
          "base_uri": "https://localhost:8080/"
        },
        "id": "04kyQ93fjCjc",
        "outputId": "2b030d5f-ecc4-4578-992a-cb720fa32671"
      },
      "execution_count": 44,
      "outputs": [
        {
          "output_type": "stream",
          "name": "stdout",
          "text": [
            "['New Title', 'Mysheet']\n",
            "<Cell 'New Title'.A4>\n"
          ]
        }
      ]
    },
    {
      "cell_type": "code",
      "source": [
        "#@title CÁLCULO DO VOLUME DA MOEGA COM SYMPY\n",
        "\n",
        "f,g,x,a,B,h,l,S = symbols('f,g,x,a,B,h,l,s')"
      ],
      "metadata": {
        "id": "9paAD0Y4jPKz",
        "cellView": "form"
      },
      "execution_count": 45,
      "outputs": []
    },
    {
      "cell_type": "code",
      "source": [
        "f = B -(B-a)*x/l\n",
        "g = h - h*x/l\n",
        "s = ((f+a)/2)*g"
      ],
      "metadata": {
        "id": "DOpWp9K9o2T9"
      },
      "execution_count": 46,
      "outputs": []
    },
    {
      "cell_type": "code",
      "source": [
        "\n",
        "simplify(s)"
      ],
      "metadata": {
        "colab": {
          "base_uri": "https://localhost:8080/",
          "height": 53
        },
        "id": "Zcsssdrio8BG",
        "outputId": "67073262-25a5-4aa0-8e48-5af1be04a3dd"
      },
      "execution_count": 47,
      "outputs": [
        {
          "output_type": "execute_result",
          "data": {
            "text/plain": [
              "h*(l - x)*(l*(B + a) - x*(B - a))/(2*l**2)"
            ],
            "text/latex": "$\\displaystyle \\frac{h \\left(l - x\\right) \\left(l \\left(B + a\\right) - x \\left(B - a\\right)\\right)}{2 l^{2}}$"
          },
          "metadata": {},
          "execution_count": 47
        }
      ]
    },
    {
      "cell_type": "code",
      "source": [
        "simplify(integrate(s,x))"
      ],
      "metadata": {
        "colab": {
          "base_uri": "https://localhost:8080/",
          "height": 56
        },
        "id": "D37bqo_Cp1Aw",
        "outputId": "a3a8c67f-f2ab-48c0-d9d9-29b010b2b0dd"
      },
      "execution_count": 48,
      "outputs": [
        {
          "output_type": "execute_result",
          "data": {
            "text/plain": [
              "h*x*(-3*B*l*x + 3*l**2*(B + a) + x**2*(B - a))/(6*l**2)"
            ],
            "text/latex": "$\\displaystyle \\frac{h x \\left(- 3 B l x + 3 l^{2} \\left(B + a\\right) + x^{2} \\left(B - a\\right)\\right)}{6 l^{2}}$"
          },
          "metadata": {},
          "execution_count": 48
        }
      ]
    },
    {
      "cell_type": "code",
      "source": [
        "simplify(integrate(s,(x,0,l)))"
      ],
      "metadata": {
        "colab": {
          "base_uri": "https://localhost:8080/",
          "height": 53
        },
        "id": "sMug61AKqMaJ",
        "outputId": "fc86d4ef-ca4b-4311-d673-2e6cfd8a4f90"
      },
      "execution_count": 49,
      "outputs": [
        {
          "output_type": "execute_result",
          "data": {
            "text/plain": [
              "h*l*(B + 2*a)/6"
            ],
            "text/latex": "$\\displaystyle \\frac{h l \\left(B + 2 a\\right)}{6}$"
          },
          "metadata": {},
          "execution_count": 49
        }
      ]
    },
    {
      "cell_type": "code",
      "source": [
        "# bskr.py\n",
        "\n",
        "def deltaq2(a,b,c):\n",
        "    return b**2-4*a*c\n",
        "\n",
        "\n",
        "def rseq2(a,b,c):\n",
        "    dt = deltaq2(a,b,c)\n",
        "    if dt == 0:\n",
        "        return (-b/(2*a))\n",
        "    elif dt > 0:\n",
        "        return ((-b+dt)/(2*a), (-b-dt)/(2*a))\n",
        "    else:\n",
        "        return 'Equação sem raizes reais, delta negativo'"
      ],
      "metadata": {
        "id": "fdBUybpruRao"
      },
      "execution_count": 50,
      "outputs": []
    },
    {
      "cell_type": "code",
      "source": [
        "!wget https://raw.githubusercontent.com/rafaeldjsm/Data_Science/master/Exercicios_basicos/bskr.py"
      ],
      "metadata": {
        "colab": {
          "base_uri": "https://localhost:8080/"
        },
        "id": "lF_DUQEehEMq",
        "outputId": "03589808-cd4d-4df5-cb55-bb358d9eb549"
      },
      "execution_count": 51,
      "outputs": [
        {
          "output_type": "stream",
          "name": "stdout",
          "text": [
            "--2022-07-04 20:49:29--  https://raw.githubusercontent.com/rafaeldjsm/Data_Science/master/Exercicios_basicos/bskr.py\n",
            "Resolving raw.githubusercontent.com (raw.githubusercontent.com)... 185.199.108.133, 185.199.110.133, 185.199.111.133, ...\n",
            "Connecting to raw.githubusercontent.com (raw.githubusercontent.com)|185.199.108.133|:443... connected.\n",
            "HTTP request sent, awaiting response... 200 OK\n",
            "Length: 272 [text/plain]\n",
            "Saving to: ‘bskr.py.1’\n",
            "\n",
            "\rbskr.py.1             0%[                    ]       0  --.-KB/s               \rbskr.py.1           100%[===================>]     272  --.-KB/s    in 0s      \n",
            "\n",
            "2022-07-04 20:49:29 (12.4 MB/s) - ‘bskr.py.1’ saved [272/272]\n",
            "\n"
          ]
        }
      ]
    },
    {
      "cell_type": "code",
      "source": [
        "import bskr\n",
        "from bskr import deltaq2\n",
        "from bskr import rseq2"
      ],
      "metadata": {
        "id": "QlDDPh8fvjXS"
      },
      "execution_count": 52,
      "outputs": []
    },
    {
      "cell_type": "code",
      "source": [
        "rseq2(1,-5,6)"
      ],
      "metadata": {
        "colab": {
          "base_uri": "https://localhost:8080/"
        },
        "id": "T6PECKLLvy0J",
        "outputId": "48cf01c0-2b23-4f94-85ad-d314230a815b"
      },
      "execution_count": 53,
      "outputs": [
        {
          "output_type": "execute_result",
          "data": {
            "text/plain": [
              "(3.0, 2.0)"
            ]
          },
          "metadata": {},
          "execution_count": 53
        }
      ]
    },
    {
      "cell_type": "code",
      "source": [
        "deltaq2(1,-5,6)"
      ],
      "metadata": {
        "colab": {
          "base_uri": "https://localhost:8080/"
        },
        "id": "LZv71BaxwQ0K",
        "outputId": "408f7ebd-f7de-4bdf-da4c-ca7012e51270"
      },
      "execution_count": 54,
      "outputs": [
        {
          "output_type": "execute_result",
          "data": {
            "text/plain": [
              "1"
            ]
          },
          "metadata": {},
          "execution_count": 54
        }
      ]
    },
    {
      "cell_type": "code",
      "source": [
        "l1 = [1,'b',2,7]\n",
        "l2 = ['e','r',6,9]"
      ],
      "metadata": {
        "id": "pUT60m_F-GAI"
      },
      "execution_count": 55,
      "outputs": []
    },
    {
      "cell_type": "code",
      "source": [
        "list.append(l1,l2)"
      ],
      "metadata": {
        "id": "bkW_tj5y-RLY"
      },
      "execution_count": 56,
      "outputs": []
    },
    {
      "cell_type": "code",
      "source": [
        "l1"
      ],
      "metadata": {
        "colab": {
          "base_uri": "https://localhost:8080/"
        },
        "id": "LFpwfYsB-VGL",
        "outputId": "ac47c5ee-53bd-43c6-ad10-9fff716311b7"
      },
      "execution_count": 57,
      "outputs": [
        {
          "output_type": "execute_result",
          "data": {
            "text/plain": [
              "[1, 'b', 2, 7, ['e', 'r', 6, 9]]"
            ]
          },
          "metadata": {},
          "execution_count": 57
        }
      ]
    },
    {
      "cell_type": "code",
      "source": [
        "rseq2(1,1,1)"
      ],
      "metadata": {
        "colab": {
          "base_uri": "https://localhost:8080/",
          "height": 35
        },
        "id": "vtiniWLtwTMh",
        "outputId": "58df7be8-24e5-49db-cac7-7a30eadecdce"
      },
      "execution_count": 58,
      "outputs": [
        {
          "output_type": "execute_result",
          "data": {
            "text/plain": [
              "'Equação sem razizes reais, delta negativo'"
            ],
            "application/vnd.google.colaboratory.intrinsic+json": {
              "type": "string"
            }
          },
          "metadata": {},
          "execution_count": 58
        }
      ]
    }
  ]
}