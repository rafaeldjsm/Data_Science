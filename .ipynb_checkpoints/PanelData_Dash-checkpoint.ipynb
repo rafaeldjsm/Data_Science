{
 "cells": [
  {
   "cell_type": "markdown",
   "id": "8c512a94-02fa-4487-b107-d1fe54cd66a5",
   "metadata": {},
   "source": [
    "# Panel Data "
   ]
  },
  {
   "cell_type": "code",
   "execution_count": 1,
   "id": "5b87b5a6-25d0-4aa4-b994-4671a0c29555",
   "metadata": {
    "ExecuteTime": {
     "end_time": "2022-05-04T23:30:01.290995Z",
     "start_time": "2022-05-04T23:29:56.234448Z"
    }
   },
   "outputs": [
    {
     "ename": "ModuleNotFoundError",
     "evalue": "No module named 'panel'",
     "output_type": "error",
     "traceback": [
      "\u001b[1;31m---------------------------------------------------------------------------\u001b[0m",
      "\u001b[1;31mModuleNotFoundError\u001b[0m                       Traceback (most recent call last)",
      "\u001b[1;32m~\\AppData\\Local\\Temp/ipykernel_4308/1948042087.py\u001b[0m in \u001b[0;36m<module>\u001b[1;34m\u001b[0m\n\u001b[0;32m      1\u001b[0m \u001b[1;32mimport\u001b[0m \u001b[0mpandas\u001b[0m \u001b[1;32mas\u001b[0m \u001b[0mpd\u001b[0m\u001b[1;33m\u001b[0m\u001b[1;33m\u001b[0m\u001b[0m\n\u001b[0;32m      2\u001b[0m \u001b[1;32mimport\u001b[0m \u001b[0mnumpy\u001b[0m \u001b[1;32mas\u001b[0m \u001b[0mnp\u001b[0m\u001b[1;33m\u001b[0m\u001b[1;33m\u001b[0m\u001b[0m\n\u001b[1;32m----> 3\u001b[1;33m \u001b[1;32mimport\u001b[0m \u001b[0mpanel\u001b[0m \u001b[1;32mas\u001b[0m \u001b[0mpn\u001b[0m\u001b[1;33m\u001b[0m\u001b[1;33m\u001b[0m\u001b[0m\n\u001b[0m\u001b[0;32m      4\u001b[0m \u001b[0mpn\u001b[0m\u001b[1;33m.\u001b[0m\u001b[0mextension\u001b[0m\u001b[1;33m(\u001b[0m\u001b[1;34m'tabulator'\u001b[0m\u001b[1;33m)\u001b[0m\u001b[1;33m\u001b[0m\u001b[1;33m\u001b[0m\u001b[0m\n\u001b[0;32m      5\u001b[0m \u001b[1;33m\u001b[0m\u001b[0m\n",
      "\u001b[1;31mModuleNotFoundError\u001b[0m: No module named 'panel'"
     ]
    }
   ],
   "source": [
    "import pandas as pd\n",
    "import numpy as np\n",
    "import panel as pn\n",
    "pn.extension('tabulator')\n",
    "\n",
    "import hvplot.pandas"
   ]
  },
  {
   "cell_type": "code",
   "execution_count": null,
   "id": "d35df56b-d918-4238-8008-a3cc9f0b5f9c",
   "metadata": {
    "ExecuteTime": {
     "end_time": "2022-05-04T23:30:01.290995Z",
     "start_time": "2022-05-04T23:30:01.290995Z"
    }
   },
   "outputs": [],
   "source": [
    "path = \"C:/Users/milen/Desktop/DataViz/DataViz/hap_data.csv\""
   ]
  },
  {
   "cell_type": "code",
   "execution_count": null,
   "id": "2fa5d654-9aa4-4d58-bc57-1b06f66942de",
   "metadata": {
    "ExecuteTime": {
     "end_time": "2022-05-04T23:30:01.290995Z",
     "start_time": "2022-05-04T23:30:01.290995Z"
    }
   },
   "outputs": [],
   "source": [
    "df = pd.read_csv(path)"
   ]
  },
  {
   "cell_type": "code",
   "execution_count": null,
   "id": "8fbefc85-9f65-4fd4-b917-3cd2105efcd2",
   "metadata": {
    "ExecuteTime": {
     "end_time": "2022-05-04T23:30:01.290995Z",
     "start_time": "2022-05-04T23:30:01.290995Z"
    }
   },
   "outputs": [],
   "source": [
    "df"
   ]
  },
  {
   "cell_type": "code",
   "execution_count": null,
   "id": "da12ff9c-b746-4417-bc3e-d6ab155dee0d",
   "metadata": {
    "ExecuteTime": {
     "end_time": "2022-05-04T23:30:01.303079Z",
     "start_time": "2022-05-04T23:30:01.303079Z"
    }
   },
   "outputs": [],
   "source": [
    "len(df['country'].unique())"
   ]
  },
  {
   "cell_type": "code",
   "execution_count": null,
   "id": "56381d20-35e3-4d07-b605-ad0a40e924a3",
   "metadata": {
    "ExecuteTime": {
     "end_time": "2022-05-04T23:30:01.305078Z",
     "start_time": "2022-05-04T23:30:01.305078Z"
    }
   },
   "outputs": [],
   "source": [
    "df_region = pd.read_csv(\"C:/Users/milen/Desktop/DataViz/DataViz/region.csv\").rename(columns={'Region indicator': 'region'})"
   ]
  },
  {
   "cell_type": "code",
   "execution_count": null,
   "id": "b0fd7386-7290-4712-b992-8e32a8f2f70e",
   "metadata": {
    "ExecuteTime": {
     "end_time": "2022-05-04T23:30:01.307077Z",
     "start_time": "2022-05-04T23:30:01.307077Z"
    }
   },
   "outputs": [],
   "source": [
    "df_region"
   ]
  },
  {
   "cell_type": "code",
   "execution_count": null,
   "id": "50d275cb-19eb-4bba-8f6a-903b17c75480",
   "metadata": {
    "ExecuteTime": {
     "end_time": "2022-05-04T23:30:01.308074Z",
     "start_time": "2022-05-04T23:30:01.308074Z"
    }
   },
   "outputs": [],
   "source": [
    "df2 = pd.merge(df, df_region)"
   ]
  },
  {
   "cell_type": "code",
   "execution_count": null,
   "id": "bb715fde-7928-4801-81b6-7a6aaec10d45",
   "metadata": {
    "ExecuteTime": {
     "end_time": "2022-05-04T23:30:01.310072Z",
     "start_time": "2022-05-04T23:30:01.310072Z"
    }
   },
   "outputs": [],
   "source": [
    "df2[['region', 'country']]"
   ]
  },
  {
   "cell_type": "code",
   "execution_count": null,
   "id": "7375c494-b685-40fa-99bd-4dce74c6b75e",
   "metadata": {
    "ExecuteTime": {
     "end_time": "2022-05-04T23:30:01.312072Z",
     "start_time": "2022-05-04T23:30:01.312072Z"
    }
   },
   "outputs": [],
   "source": [
    "# cache data to improve dashboard performance\n",
    "if 'data' not in pn.state.cache.keys():\n",
    "\n",
    "    df2 = pd.merge(df, df_region)\n",
    "\n",
    "    pn.state.cache['data'] = df.copy()\n",
    "\n",
    "else: \n",
    "\n",
    "    df = pn.state.cache['data']"
   ]
  },
  {
   "cell_type": "code",
   "execution_count": null,
   "id": "fad85d09-0143-42cd-8814-1d2739c6ff91",
   "metadata": {
    "ExecuteTime": {
     "end_time": "2022-05-04T23:30:01.314070Z",
     "start_time": "2022-05-04T23:30:01.314070Z"
    }
   },
   "outputs": [],
   "source": [
    "df2.isna().sum()"
   ]
  },
  {
   "cell_type": "code",
   "execution_count": null,
   "id": "cc65239c-0ddd-4bda-888a-09c234aac1a7",
   "metadata": {
    "ExecuteTime": {
     "end_time": "2022-05-04T23:30:01.316072Z",
     "start_time": "2022-05-04T23:30:01.316072Z"
    }
   },
   "outputs": [],
   "source": [
    "df2 = df2.fillna(0)"
   ]
  },
  {
   "cell_type": "code",
   "execution_count": null,
   "id": "30574c7e-1ff0-4595-9614-db07d524a56d",
   "metadata": {
    "ExecuteTime": {
     "end_time": "2022-05-04T23:30:01.318068Z",
     "start_time": "2022-05-04T23:30:01.318068Z"
    }
   },
   "outputs": [],
   "source": [
    "idf2 = df2.interactive()"
   ]
  },
  {
   "cell_type": "code",
   "execution_count": null,
   "id": "5bc638ae-73c3-474d-82e8-50f548826616",
   "metadata": {
    "ExecuteTime": {
     "end_time": "2022-05-04T23:30:01.320067Z",
     "start_time": "2022-05-04T23:30:01.320067Z"
    }
   },
   "outputs": [],
   "source": [
    "# Define Panel widgets\n",
    "\n",
    "year_slider = pn.widgets.IntSlider(name='Year slider', start = 2005, end = 2017, steps = 1, value = 2005)\n",
    "year_slider"
   ]
  },
  {
   "cell_type": "code",
   "execution_count": null,
   "id": "00457c88-2ca7-4ae1-a862-81be2aeda514",
   "metadata": {
    "ExecuteTime": {
     "end_time": "2022-05-04T23:30:01.322066Z",
     "start_time": "2022-05-04T23:30:01.322066Z"
    }
   },
   "outputs": [],
   "source": [
    "df2.columns"
   ]
  },
  {
   "cell_type": "code",
   "execution_count": null,
   "id": "d737d7c8-85f1-434d-8af6-9139d9d71757",
   "metadata": {
    "ExecuteTime": {
     "end_time": "2022-05-04T23:30:01.324065Z",
     "start_time": "2022-05-04T23:30:01.324065Z"
    }
   },
   "outputs": [],
   "source": [
    "df2['region'].unique()"
   ]
  },
  {
   "cell_type": "code",
   "execution_count": null,
   "id": "46181dbc-da31-4c01-9ef4-61abebc97d99",
   "metadata": {
    "ExecuteTime": {
     "end_time": "2022-05-04T23:30:01.325064Z",
     "start_time": "2022-05-04T23:30:01.325064Z"
    }
   },
   "outputs": [],
   "source": [
    "df2.rename(columns = {'region':'continents'}, inplace = True)"
   ]
  },
  {
   "cell_type": "code",
   "execution_count": null,
   "id": "7dba5b7c-a810-49bf-b0a0-1607f24f6695",
   "metadata": {
    "ExecuteTime": {
     "end_time": "2022-05-04T23:30:01.327063Z",
     "start_time": "2022-05-04T23:30:01.327063Z"
    }
   },
   "outputs": [],
   "source": [
    "df2['continents'] = df2['continents'].replace({'South Asia': 'Asia', 'Central and Eastern Europe':'Europe', 'Middle East and North Africa':'Asia', \n",
    "                                      'Sub-Saharan Africa': 'Africa', 'Latin America and Caribbean': 'South America', 'North America and ANZ':'North America', 'Commonwealth of Independent States': 'Asia', \n",
    "                                      'Western Europe' : 'Europe', 'Southeast Asia':'Asia', 'East Asia':'Asia'})"
   ]
  },
  {
   "cell_type": "code",
   "execution_count": null,
   "id": "e0bcdf04-4775-4899-a24e-00bf1f66b0a6",
   "metadata": {
    "ExecuteTime": {
     "end_time": "2022-05-04T23:30:01.329064Z",
     "start_time": "2022-05-04T23:30:01.329064Z"
    }
   },
   "outputs": [],
   "source": [
    "df2['continents'].unique()"
   ]
  },
  {
   "cell_type": "code",
   "execution_count": null,
   "id": "f385f0c3-5e3b-437e-a2b4-c53d0bb71d72",
   "metadata": {
    "ExecuteTime": {
     "end_time": "2022-05-04T23:30:01.331063Z",
     "start_time": "2022-05-04T23:30:01.331063Z"
    }
   },
   "outputs": [],
   "source": [
    "df2.columns"
   ]
  },
  {
   "cell_type": "code",
   "execution_count": null,
   "id": "49786019-b9dd-4816-9ee4-92583c1a5312",
   "metadata": {
    "ExecuteTime": {
     "end_time": "2022-05-04T23:30:01.333059Z",
     "start_time": "2022-05-04T23:30:01.333059Z"
    }
   },
   "outputs": [],
   "source": [
    "df2['continents'].unique()"
   ]
  },
  {
   "cell_type": "code",
   "execution_count": null,
   "id": "9c5a6f1c-b678-4f33-98fa-f33c7232c0d4",
   "metadata": {
    "ExecuteTime": {
     "end_time": "2022-05-04T23:30:01.334059Z",
     "start_time": "2022-05-04T23:30:01.334059Z"
    }
   },
   "outputs": [],
   "source": [
    "# Radion buttions for Life ladder \n",
    "\n",
    "yaxis_ll = pn.widgets.RadioButtonGroup(\n",
    "            names = 'Y axis', \n",
    "            options = ['Life Ladder', 'Log GDP per capita'], \n",
    "            button_type = 'success')"
   ]
  },
  {
   "cell_type": "code",
   "execution_count": null,
   "id": "bb7a5386-f1ed-4236-b571-79d5ac203630",
   "metadata": {
    "ExecuteTime": {
     "end_time": "2022-05-04T23:30:01.336058Z",
     "start_time": "2022-05-04T23:30:01.336058Z"
    }
   },
   "outputs": [],
   "source": [
    "df2['continents'].unique()"
   ]
  },
  {
   "cell_type": "code",
   "execution_count": null,
   "id": "10ed1352-20a3-42a6-9519-21a8fdc32a58",
   "metadata": {},
   "outputs": [],
   "source": []
  },
  {
   "cell_type": "code",
   "execution_count": null,
   "id": "3f25ec5e-ba15-4c57-b7ef-203e9ecdba6d",
   "metadata": {
    "ExecuteTime": {
     "end_time": "2022-05-04T23:30:01.338057Z",
     "start_time": "2022-05-04T23:30:01.338057Z"
    }
   },
   "outputs": [],
   "source": [
    "continents = ['Asia', 'Europe', 'Africa', 'South America', 'North America']\n",
    "\n",
    "h_gdp_pipeline = (\n",
    "    idf2[\n",
    "        (idf2.year <= year_slider) &\n",
    "        (idf2.continents.isin(continents))\n",
    "    ]\n",
    "    .groupby(['continents', 'year'])[yaxis_ll].mean()\n",
    "    .to_frame()\n",
    "    .reset_index()\n",
    "    .sort_values(by='year')  \n",
    "    .reset_index(drop=True)\n",
    ")"
   ]
  },
  {
   "cell_type": "code",
   "execution_count": null,
   "id": "e9f32815-d74a-475d-9646-6c6cab9bcff9",
   "metadata": {
    "ExecuteTime": {
     "end_time": "2022-05-04T23:30:01.340055Z",
     "start_time": "2022-05-04T23:30:01.340055Z"
    }
   },
   "outputs": [],
   "source": [
    "h_gdp_pipeline"
   ]
  },
  {
   "cell_type": "code",
   "execution_count": null,
   "id": "b397dc6d-fe3f-4bc7-b125-6a33d02dd2e8",
   "metadata": {
    "ExecuteTime": {
     "end_time": "2022-05-04T23:30:01.343054Z",
     "start_time": "2022-05-04T23:30:01.342055Z"
    }
   },
   "outputs": [],
   "source": [
    "h_gdp_plot = h_gdp_pipeline.hvplot(x = 'year', by='continents', y= yaxis_ll, line_width=2, title=\"Felicidade por PIB per capita\")\n",
    "h_gdp_plot"
   ]
  },
  {
   "cell_type": "code",
   "execution_count": null,
   "id": "c5ead8e1-0a1d-4a30-a53e-f2fd3f3c9362",
   "metadata": {
    "ExecuteTime": {
     "end_time": "2022-05-04T23:30:01.345054Z",
     "start_time": "2022-05-04T23:30:01.345054Z"
    }
   },
   "outputs": [],
   "source": [
    "hgdp_table = h_gdp_pipeline.pipe(pn.widgets.Tabulator, pagination='remote', page_size = 10, sizing_mode='stretch_width') \n",
    "hgdp_table"
   ]
  },
  {
   "cell_type": "code",
   "execution_count": null,
   "id": "0df8a572-a401-41d2-8e05-169dab7836f9",
   "metadata": {
    "ExecuteTime": {
     "end_time": "2022-05-04T23:30:01.352049Z",
     "start_time": "2022-05-04T23:30:01.352049Z"
    }
   },
   "outputs": [],
   "source": [
    "df2.columns"
   ]
  },
  {
   "cell_type": "code",
   "execution_count": null,
   "id": "fa0a3af2-72f3-4770-b0a3-32a07e75e240",
   "metadata": {
    "ExecuteTime": {
     "end_time": "2022-05-04T23:30:01.355047Z",
     "start_time": "2022-05-04T23:30:01.355047Z"
    }
   },
   "outputs": [],
   "source": [
    "happy_vs_gdp_scatterplot_pipeline = (\n",
    "    idf2[\n",
    "        (idf2.year <= year_slider) &\n",
    "        (idf2.continents.isin(continents))\n",
    "    ]\n",
    "    .groupby(['continents', 'year', 'Log GDP per capita'])['Life Ladder'].mean()\n",
    "    .to_frame()\n",
    "    .reset_index()\n",
    "    .sort_values(by='year')  \n",
    "    .reset_index(drop=True)\n",
    ")"
   ]
  },
  {
   "cell_type": "code",
   "execution_count": null,
   "id": "52f3779a-f1f1-4776-9df4-b3c5398f671f",
   "metadata": {
    "ExecuteTime": {
     "end_time": "2022-05-04T23:30:01.358046Z",
     "start_time": "2022-05-04T23:30:01.358046Z"
    }
   },
   "outputs": [],
   "source": [
    "happy_vs_gdp_scatterplot_pipeline"
   ]
  },
  {
   "cell_type": "code",
   "execution_count": null,
   "id": "5938abee-698a-4d29-a169-19d15b5e3be6",
   "metadata": {
    "ExecuteTime": {
     "end_time": "2022-05-04T23:30:01.362044Z",
     "start_time": "2022-05-04T23:30:01.362044Z"
    }
   },
   "outputs": [],
   "source": [
    "happy_vs_gdp_scatterplot = happy_vs_gdp_scatterplot_pipeline.hvplot(x='Log GDP per capita', \n",
    "                                                                y='Life Ladder', \n",
    "                                                                by='continents', \n",
    "                                                                size=80, kind=\"scatter\", \n",
    "                                                                alpha=0.7,\n",
    "                                                                legend=False, \n",
    "                                                                height=500, \n",
    "                                                                width=500)\n",
    "happy_vs_gdp_scatterplot"
   ]
  },
  {
   "cell_type": "code",
   "execution_count": null,
   "id": "eb9ed1d1-240e-4eb6-9453-0477d76fd653",
   "metadata": {
    "ExecuteTime": {
     "end_time": "2022-05-04T23:30:01.364045Z",
     "start_time": "2022-05-04T23:30:01.364045Z"
    }
   },
   "outputs": [],
   "source": [
    "df2.columns"
   ]
  },
  {
   "cell_type": "code",
   "execution_count": null,
   "id": "fc7061cc-486c-4ea4-ab97-5303a8ac9bb5",
   "metadata": {
    "ExecuteTime": {
     "end_time": "2022-05-04T23:30:01.367210Z",
     "start_time": "2022-05-04T23:30:01.367210Z"
    }
   },
   "outputs": [],
   "source": [
    "yaxis_ll2 = pn.widgets.RadioButtonGroup(\n",
    "            names = 'Y axis', \n",
    "            options = ['Life Ladder', 'Freedom to make life choices'], \n",
    "            button_type = 'success')"
   ]
  },
  {
   "cell_type": "code",
   "execution_count": null,
   "id": "b01bfca3-9606-4bd8-8c2f-d828b89787c6",
   "metadata": {
    "ExecuteTime": {
     "end_time": "2022-05-04T23:30:01.367210Z",
     "start_time": "2022-05-04T23:30:01.367210Z"
    }
   },
   "outputs": [],
   "source": [
    "freedom_vs_gdp_scatterplot_pipeline = (\n",
    "    idf2[\n",
    "        (idf2.year <= year_slider) &\n",
    "        (idf2.continents.isin(continents))\n",
    "    ]\n",
    "    .groupby(['continents', 'year', 'Freedom to make life choices'])[yaxis_ll2].mean()\n",
    "    .to_frame()\n",
    "    .reset_index()\n",
    "    .sort_values(by='year')  \n",
    "    .reset_index(drop=True)\n",
    ")"
   ]
  },
  {
   "cell_type": "code",
   "execution_count": null,
   "id": "6b3f676e-db3a-43cf-8ab0-e4bd9a0862b0",
   "metadata": {
    "ExecuteTime": {
     "end_time": "2022-05-04T23:30:01.367210Z",
     "start_time": "2022-05-04T23:30:01.367210Z"
    }
   },
   "outputs": [],
   "source": [
    "freedom_vs_gdp_scatterplot_pipeline"
   ]
  },
  {
   "cell_type": "code",
   "execution_count": null,
   "id": "abd33818-37d3-45bc-970a-c28d241b52e7",
   "metadata": {
    "ExecuteTime": {
     "end_time": "2022-05-04T23:30:01.367210Z",
     "start_time": "2022-05-04T23:30:01.367210Z"
    }
   },
   "outputs": [],
   "source": [
    "freedom_vs_gdp_scatterplot = freedom_vs_gdp_scatterplot_pipeline.hvplot(x='Freedom to make life choices', \n",
    "                                                                y='Life Ladder', \n",
    "                                                                by='continents', \n",
    "                                                                size=80, kind=\"scatter\", \n",
    "                                                                alpha=0.7,\n",
    "                                                                legend=False, \n",
    "                                                                height=500, \n",
    "                                                                width=500)"
   ]
  },
  {
   "cell_type": "code",
   "execution_count": null,
   "id": "13d494b8-51f9-43fe-b962-d5eb2fc78255",
   "metadata": {
    "ExecuteTime": {
     "end_time": "2022-05-04T23:30:01.381088Z",
     "start_time": "2022-05-04T23:30:01.381088Z"
    }
   },
   "outputs": [],
   "source": [
    "freedom_vs_gdp_scatterplot"
   ]
  },
  {
   "cell_type": "code",
   "execution_count": null,
   "id": "164136c7-aec7-4888-b6b1-9a6ec3c79af5",
   "metadata": {
    "ExecuteTime": {
     "end_time": "2022-05-04T23:30:01.385096Z",
     "start_time": "2022-05-04T23:30:01.385096Z"
    }
   },
   "outputs": [],
   "source": [
    "#Layout using Template\n",
    "template = pn.template.FastListTemplate(\n",
    "    title='World Happiness Index', \n",
    "    sidebar=[pn.pane.Markdown(\"# World Happiness Analysis \"), \n",
    "             pn.pane.Markdown(\"#### The World Happiness Report is a landmark survey by the United Nations Sustainable Development Solutions Network about the state of global happiness. Each year they survey people from more than 150 countries and ask questions about their happiness and other aspects in their lives such as social support, freedom, etc. The data published contains country level survey data, as well as some data related to country performance such as GDP and life expectancy..\"),\n",
    "             pn.pane.PNG('map.png', sizing_mode = 'scale_both'),\n",
    "             pn.pane.Markdown(\"## Settings\"),   \n",
    "             year_slider],\n",
    "    main=[pn.Row(pn.Column(yaxis_ll, \n",
    "                           h_gdp_plot.panel(width=700), margin=(0,25)), \n",
    "                 hgdp_table.panel(width=500)), \n",
    "          pn.Row(pn.Column(happy_vs_gdp_scatterplot.panel(width=600), margin=(0,25)), \n",
    "                 pn.Column(yaxis_ll2, freedom_vs_gdp_scatterplot.panel(width=600)))],\n",
    "    accent_base_color=\"#88d8b0\",\n",
    "    header_background=\"#88d8b0\",\n",
    ")\n",
    "# template.show()\n",
    "template.show()"
   ]
  },
  {
   "cell_type": "code",
   "execution_count": null,
   "id": "063e56b5-2efd-44ae-9f17-4ba112e971f5",
   "metadata": {},
   "outputs": [],
   "source": []
  }
 ],
 "metadata": {
  "kernelspec": {
   "display_name": "Python 3 (ipykernel)",
   "language": "python",
   "name": "python3"
  },
  "language_info": {
   "codemirror_mode": {
    "name": "ipython",
    "version": 3
   },
   "file_extension": ".py",
   "mimetype": "text/x-python",
   "name": "python",
   "nbconvert_exporter": "python",
   "pygments_lexer": "ipython3",
   "version": "3.9.6"
  },
  "latex_envs": {
   "LaTeX_envs_menu_present": true,
   "autoclose": false,
   "autocomplete": true,
   "bibliofile": "biblio.bib",
   "cite_by": "apalike",
   "current_citInitial": 1,
   "eqLabelWithNumbers": true,
   "eqNumInitial": 1,
   "hotkeys": {
    "equation": "Ctrl-E",
    "itemize": "Ctrl-I"
   },
   "labels_anchors": false,
   "latex_user_defs": false,
   "report_style_numbering": false,
   "user_envs_cfg": false
  },
  "toc": {
   "base_numbering": 1,
   "nav_menu": {},
   "number_sections": true,
   "sideBar": true,
   "skip_h1_title": false,
   "title_cell": "Table of Contents",
   "title_sidebar": "Contents",
   "toc_cell": false,
   "toc_position": {},
   "toc_section_display": true,
   "toc_window_display": false
  },
  "varInspector": {
   "cols": {
    "lenName": 16,
    "lenType": 16,
    "lenVar": 40
   },
   "kernels_config": {
    "python": {
     "delete_cmd_postfix": "",
     "delete_cmd_prefix": "del ",
     "library": "var_list.py",
     "varRefreshCmd": "print(var_dic_list())"
    },
    "r": {
     "delete_cmd_postfix": ") ",
     "delete_cmd_prefix": "rm(",
     "library": "var_list.r",
     "varRefreshCmd": "cat(var_dic_list()) "
    }
   },
   "types_to_exclude": [
    "module",
    "function",
    "builtin_function_or_method",
    "instance",
    "_Feature"
   ],
   "window_display": false
  }
 },
 "nbformat": 4,
 "nbformat_minor": 5
}
