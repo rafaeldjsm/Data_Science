{
 "cells": [
  {
   "cell_type": "code",
   "execution_count": 1,
   "metadata": {
    "ExecuteTime": {
     "end_time": "2022-01-05T02:26:58.437522Z",
     "start_time": "2022-01-05T02:26:58.422251Z"
    },
    "id": "Ymvp5LthRzmU"
   },
   "outputs": [],
   "source": [
    "# from google.colab import drive\n",
    "# drive.mount('/content/drive')"
   ]
  },
  {
   "cell_type": "code",
   "execution_count": 2,
   "metadata": {
    "ExecuteTime": {
     "end_time": "2022-01-05T02:26:59.946816Z",
     "start_time": "2022-01-05T02:26:58.439522Z"
    },
    "id": "1ysXmDDTNLpP"
   },
   "outputs": [],
   "source": [
    "import nltk\n",
    "from nltk.corpus import PlaintextCorpusReader"
   ]
  },
  {
   "cell_type": "code",
   "execution_count": 3,
   "metadata": {
    "ExecuteTime": {
     "end_time": "2022-01-05T02:27:00.071027Z",
     "start_time": "2022-01-05T02:26:59.951746Z"
    },
    "colab": {
     "base_uri": "https://localhost:8080/"
    },
    "collapsed": true,
    "id": "YCfyRpOyVOL0",
    "outputId": "fc369a2a-a7f0-4ad9-db03-39f84491cea6"
   },
   "outputs": [
    {
     "data": {
      "text/plain": [
       "['.git/COMMIT_EDITMSG',\n",
       " '.git/FETCH_HEAD',\n",
       " '.git/HEAD',\n",
       " '.git/ORIG_HEAD',\n",
       " '.git/config',\n",
       " '.git/description',\n",
       " '.git/hooks/applypatch-msg.sample',\n",
       " '.git/hooks/commit-msg.sample',\n",
       " '.git/hooks/fsmonitor-watchman.sample',\n",
       " '.git/hooks/post-update.sample',\n",
       " '.git/hooks/pre-applypatch.sample',\n",
       " '.git/hooks/pre-commit.sample',\n",
       " '.git/hooks/pre-merge-commit.sample',\n",
       " '.git/hooks/pre-push.sample',\n",
       " '.git/hooks/pre-rebase.sample',\n",
       " '.git/hooks/pre-receive.sample',\n",
       " '.git/hooks/prepare-commit-msg.sample',\n",
       " '.git/hooks/push-to-checkout.sample',\n",
       " '.git/hooks/update.sample',\n",
       " '.git/index',\n",
       " '.git/info/exclude',\n",
       " '.git/logs/HEAD',\n",
       " '.git/logs/refs/heads/master',\n",
       " '.git/logs/refs/remotes/origin/HEAD',\n",
       " '.git/logs/refs/remotes/origin/master',\n",
       " '.git/objects/00/bd9117af14e790f1404153e5da254fa42acddc',\n",
       " '.git/objects/01/46c425ae6353126eaae4241397fee8359492d5',\n",
       " '.git/objects/01/86548047e034eba891e1e6a94bad468dd9e441',\n",
       " '.git/objects/02/5e10ec8c256e41a4ea3206138b81d4c4bc3dc7',\n",
       " '.git/objects/02/e658238ca752b48734da845885e241c8a6dcd6',\n",
       " '.git/objects/03/3409b05b0be37ccc7354f549a3cc5f35326bf9',\n",
       " '.git/objects/07/0a45f7e81ae0ce9236463d40654355bceef6a2',\n",
       " '.git/objects/07/c6dbf6fe3c3526e5a3d45a26e4a3a82d2f00b5',\n",
       " '.git/objects/08/0f6c8685014122aec16c97bce208a18d9f4496',\n",
       " '.git/objects/09/8905bc05c4c1f4e85512494de0f8cff639132b',\n",
       " '.git/objects/0a/0d0dcbe169a78f4e785b148853c4e7d34192cb',\n",
       " '.git/objects/0d/51d274954bfae22d367d1924943aa8d24057ae',\n",
       " '.git/objects/0e/d638216f3da808d29659ee14bb615846ae12b7',\n",
       " '.git/objects/0f/a015b3f09356327481976071b3d033debca5b9',\n",
       " '.git/objects/11/92eb3e9a9e5a7bcb6ddef12e26423e42898c58',\n",
       " '.git/objects/11/d8d5725603cd5a3d8e8bc45c7bff3dd50d43fd',\n",
       " '.git/objects/13/63a34dfbb327b166ebc8cd57a335eb9ca76f3c',\n",
       " '.git/objects/14/906cc6dfcc2012c01473135ab6f395c5c69a0a',\n",
       " '.git/objects/14/df93b36f8dab43ecabe83cc5a49c11c7c0f960',\n",
       " '.git/objects/15/dc8093920b9d561aac94258cfe3e26dd20ea09',\n",
       " '.git/objects/16/3870a196da98dfcac1708bce1248dd74743d3e',\n",
       " '.git/objects/17/c921940d742d262d1c0c76c538d023ade385ec',\n",
       " '.git/objects/19/d6a8535ad809f4acabcea3fd2c0bf0868e6588',\n",
       " '.git/objects/19/dfa15a0756ee52e2fce47e88e39689d59b1a05',\n",
       " '.git/objects/19/fad2a6e3788cc26827a38cbdb6248c914a3954',\n",
       " '.git/objects/1b/94aaf4a57216624eeccc58e857e9a6f31a9860',\n",
       " '.git/objects/1b/dc0fe8d9a93c3de67ca357672f02cd874b7b7d',\n",
       " '.git/objects/1f/44b6569f889af64b8b6a5cf729257844d7117a',\n",
       " '.git/objects/20/7dcf8084a4636228d423d3827d105da15a9630',\n",
       " '.git/objects/20/8458be451ac342e8ca3ba820d4e5ba06c83ba6',\n",
       " '.git/objects/20/d52dea5ed34bad5a0017c1b4877d02e478ed5d',\n",
       " '.git/objects/20/e62b658e655e5bec10024a22359a07088ed243',\n",
       " '.git/objects/21/45a2321b97f740e6fd1b9cff3151c37a283743',\n",
       " '.git/objects/22/4d0104b37c9fdf4fb503341790e82453996210',\n",
       " '.git/objects/22/e31b6240f98c452e54e89874f5785532cda38f',\n",
       " '.git/objects/26/e63fbb351dd128d941ea0968c5cea79e3591b9',\n",
       " '.git/objects/27/825c21c9a47f9acc14010195432c3c9bdfb302',\n",
       " '.git/objects/27/99f3685ad300490abaf592a02cb89d6dc6747f',\n",
       " '.git/objects/28/5711a467ea6e36f49756263472b33ec8823a8b',\n",
       " '.git/objects/28/d647917f47107b428fb72e5bd6385bebe1c636',\n",
       " '.git/objects/2a/19cf5db3e46496764b473920bdde567763ef64',\n",
       " '.git/objects/2a/3982dfb0c5b6ad32d0db9fe85e5f441952d092',\n",
       " '.git/objects/2a/96176d2ba1cb7d02d967036b8a5e250ef4a2d1',\n",
       " '.git/objects/2b/46bb4d3c79bcb16e2de1447506aa403f24ac64',\n",
       " '.git/objects/2c/58f67e52325ec728573a7fa285357d6efbe263',\n",
       " '.git/objects/2c/dc05d17adf392e3693829eaef6e9ffcb3847e7',\n",
       " '.git/objects/2d/a9c0e2109490d567daf3fd15980b2a81ceb276',\n",
       " '.git/objects/2e/a46294f1d9c8fbba8dfc83759567268d68c10b',\n",
       " '.git/objects/30/e591dacc103621d9d555c1aa331fe5d456c299',\n",
       " '.git/objects/31/aede9085bd3e5151f4923ecb1ab61c7ecc3756',\n",
       " '.git/objects/31/f2e2955404a2abf066c13b45d999ea9f120f17',\n",
       " '.git/objects/32/b479ee1715dc7c21ef13b8e28f549a1de6f3c0',\n",
       " '.git/objects/33/bfa31cbc91764929e99377fea923ca9ec251b4',\n",
       " '.git/objects/34/08379b338f819742d8535b798f9317a391a543',\n",
       " '.git/objects/34/d13d5b2b5e8646d9010bcb1c12c14f948e29bb',\n",
       " '.git/objects/3a/8c95b4c13bdb4032e8f75420668c5abfc5cb4a',\n",
       " '.git/objects/3b/4c6022c7555441760b7894153cf1202795bbe7',\n",
       " '.git/objects/3b/9cfe1ed285b75b6a42c2662f94754bb2f85e9a',\n",
       " '.git/objects/3c/440a64dd0a50cf0ff403324d84294dc300eda8',\n",
       " '.git/objects/3d/20f656c84b821427d192412a7c7141a5c64bba',\n",
       " '.git/objects/3d/8f66349c57ef7d9c216473a738a29d0c6d30e6',\n",
       " '.git/objects/3e/cc6c4866c47334398b4d54a9e309c122f9bda4',\n",
       " '.git/objects/3f/eb1b40f193d4e768f325894faf27106f244a11',\n",
       " '.git/objects/3f/eeda56d75f5372cc28897ced4acbc166da8763',\n",
       " '.git/objects/40/60f05fba3bd95fc00d12fd6d6df99c17e70ede',\n",
       " '.git/objects/40/e259b35715b7c63909d5eafd694b5b7a239ee2',\n",
       " '.git/objects/45/0ce8e6f6f078c5b7be4f1aaad56b6c4350aef8',\n",
       " '.git/objects/46/ffb66e5aa8706e933c6cef309f378ae2645707',\n",
       " '.git/objects/47/b29ed3b78b6fd9af50497a46c39d252c5ed9d4',\n",
       " '.git/objects/48/bb61c015e1e73b438a0e25579f6e4ffbbd849b',\n",
       " '.git/objects/49/9aa77ee5a51d901fc50ba7b05c96d01413130f',\n",
       " '.git/objects/4a/573d8dbc0266c8cc43081e7fc08e3bc70f21ec',\n",
       " '.git/objects/4b/7ca75afd95869690663dc9449f05c8df4b6235',\n",
       " '.git/objects/4b/83fb4adbf1a176834569493ca36240a25254c0',\n",
       " '.git/objects/4b/8cafec4032f04201d4cf98d0908bc9122e2540',\n",
       " '.git/objects/4d/4cdaafed241545ea2de5f7e804a4b2691cd67e',\n",
       " '.git/objects/4d/c9fd42e61bb91918f888197b273af22c3a1b53',\n",
       " '.git/objects/4e/2dd141876276db22509c3533de9e23f3b1a4c6',\n",
       " '.git/objects/50/bb4b1274b5e61b7306af2acd092d737169e15e',\n",
       " '.git/objects/52/891c4a3efe53391cdccbb0f70bbacec837f548',\n",
       " '.git/objects/54/67cc0c0a9feb2415fea3ff14f1290cc66d7fb3',\n",
       " '.git/objects/55/0743ec84dcff98272288509ae8ca4b67aba8c2',\n",
       " '.git/objects/56/e5c1860eabf7c8e2755165e275ad3bdf04bf43',\n",
       " '.git/objects/57/db5c4b8c5c46ea0fec225c598296738949d76a',\n",
       " '.git/objects/58/4a3f404341327c906ab7764475a4cb28f06b9f',\n",
       " '.git/objects/59/580d903025a5cb4fe30ab274d8dbb2cf225c8d',\n",
       " '.git/objects/59/dfd8e975f51ead3a174f655bfa7b267075721e',\n",
       " '.git/objects/5a/a97cb7159e42464ec5e7068eb9c33ac62176e9',\n",
       " '.git/objects/5a/c173e1a036bd8c1f7836c5e592ee9df3abaa7d',\n",
       " '.git/objects/5b/013178824b49bbb50cd33a509dd9289ed67f79',\n",
       " '.git/objects/5b/0f79a510271dd28a37163099b80a89225444a3',\n",
       " '.git/objects/5b/1f3a2e5a7ba95c92cb196080b6bae0ed85f13a',\n",
       " '.git/objects/5b/8d8c6ab80b48c152a2782550c9468dc9c89dcc',\n",
       " '.git/objects/5d/bbf5b317badfc2852855e8fe05182560e9960c',\n",
       " '.git/objects/5d/f4e1b8097e58f1cb76f0dea63986aa5effb6e9',\n",
       " '.git/objects/5e/9013fe39a4220b60cf99121dea9631cce739df',\n",
       " '.git/objects/60/1a5e84ff58332a5944031aaefbfc5f247db0c8',\n",
       " '.git/objects/60/7596197dbd0bc2f5c6e85248faa72278df5047',\n",
       " '.git/objects/62/670204e66fb173b67422726ef380b8ef4ab176',\n",
       " '.git/objects/63/b572d91bb68c94013c537f9266fb97502be28f',\n",
       " '.git/objects/64/07ecb3e7090d34bb2d898048bb133f3c1257d1',\n",
       " '.git/objects/64/5cf69c0570fe6e8a3e155efc6340358405f7e3',\n",
       " '.git/objects/65/1c1df69972eef086d05b6c0fea401935c2a26b',\n",
       " '.git/objects/69/be19144dee1fc65b25aa0dd1ccd49d6e00d8b7',\n",
       " '.git/objects/6a/535cb70678ffd1bb5ce85ded3111dc73725bef',\n",
       " '.git/objects/6a/87d6773b7340c721010161f2ceff21783aadc2',\n",
       " '.git/objects/6b/0097475bb23ae42a0a5025e731b53a59d07c44',\n",
       " '.git/objects/6b/78930f087ded7fca07e26873efd5a5807c3cf6',\n",
       " '.git/objects/6c/82e26b9faba7f7e2ce22bfeb2e31fec7a90c72',\n",
       " '.git/objects/6c/d8676619ec8513268b1f9d6376ffa982af5a97',\n",
       " '.git/objects/6d/c7d34b7ac6edfd5585910b11555894f464c582',\n",
       " '.git/objects/71/0d0fd2dea17e2df43227a9424cd01e9e1f05f3',\n",
       " '.git/objects/71/62a540205354734884955f71fe3547dfcbe1e1',\n",
       " '.git/objects/73/b45f966025c04fbf3d399fb4c1fc3071f2ebdf',\n",
       " '.git/objects/76/280660d35e6cf0ce3ec320c443090324c867e5',\n",
       " '.git/objects/78/182a79afc7667b886395988acd31d43db09d75',\n",
       " '.git/objects/7a/f5533fa274bd4420cc9c575fc619c209736453',\n",
       " '.git/objects/7b/8e705b3eb00a73ac10ef0038f646b26589a2fe',\n",
       " '.git/objects/7c/9865a1777fe9b29f5abe0fa52aa218aa0e458a',\n",
       " '.git/objects/7c/ff6c6b26f56ebdcb4a5395e3a5d1f2eefeb26d',\n",
       " '.git/objects/7d/12d891d9e0b98a79812a5bf60b6cc364dc5663',\n",
       " '.git/objects/7f/0f42a87d449e190e8fbccea616d9f4b42da7d8',\n",
       " '.git/objects/83/61a23e0845ffdd33c34477513a19251ada2b75',\n",
       " '.git/objects/83/8eb2682c4a19a7e7840659fe6ec71308f4486b',\n",
       " '.git/objects/83/ae607190cb3066ed638f2ae93af8efede48c60',\n",
       " '.git/objects/84/06972fa0d983cb940942820acb45f08ccb9b28',\n",
       " '.git/objects/84/b76936e96d08e83ac5ebc42db0878e66478e82',\n",
       " '.git/objects/87/2f25f346fa7eaccd7ec3b909b00a2ea1d3b489',\n",
       " '.git/objects/87/f895609ca3a68ba3eb4eef58081eb5e7b8ff96',\n",
       " '.git/objects/89/1fb51e1c712d65b991d65520f0d104e8fcbff5',\n",
       " '.git/objects/89/cc316292d1c743f488a736a792579a91d54d48',\n",
       " '.git/objects/8b/242d28e93ed29724689f2a28035d9b8b41c9a2',\n",
       " '.git/objects/8b/e5d5fefaa32a6948404504dea888c34dc4da7f',\n",
       " '.git/objects/8c/e36ec8b320ad32fadaeeab6050e6c26c1efa41',\n",
       " '.git/objects/8d/f5e10168381a0a229cbc81361f7007c0bd077f',\n",
       " '.git/objects/8e/134e62a41b6d0d1b2e1dcb191a09f4d502b129',\n",
       " '.git/objects/8e/496907e5cdf79c8c739dcce72bc154641e6b65',\n",
       " '.git/objects/8e/a73cfd088f5aec8aca72ee3485333095b2fe67',\n",
       " '.git/objects/8f/e8807bda820d2b408154e935e5266703ac7e36',\n",
       " '.git/objects/90/5e3a6d4794c1f6d2407ad15f9a3a8a2b7bd35a',\n",
       " '.git/objects/92/d9aaeec56b50777c05bad0cb760e4c3142744e',\n",
       " '.git/objects/93/3ca6ffec53314eba3736fcec50adf6fd2a5f07',\n",
       " '.git/objects/93/f379d7846b3e875815ffd159cd5eacd24e72b2',\n",
       " '.git/objects/95/7b2eee62da3762ba926ac6e80d3420f6bcc6a6',\n",
       " '.git/objects/95/a9ea8e90626398fdd7520912786b2e27cada4a',\n",
       " '.git/objects/96/302ba5e9439007080ac65cb4788e32c8882dff',\n",
       " '.git/objects/96/836728a052081fcc996be3665511f50079631a',\n",
       " '.git/objects/97/7750d961c164c39dfcf8589ef7e239525da612',\n",
       " '.git/objects/99/6b70b579fd89d6d910608b32674047822eab89',\n",
       " '.git/objects/99/f3d538c73fe917fb9775511deff7e5379c8725',\n",
       " '.git/objects/9a/c0d712601f128ffe4b220af52e6fc2c1d45904',\n",
       " '.git/objects/9b/5681744ab1049b0ab6251d48a802ec81f25433',\n",
       " '.git/objects/9f/a3182bc90b5dceedc209afec7d5f366d320f49',\n",
       " '.git/objects/a3/eac7f7117dfab9c9a1534f3bfd850f7533ada5',\n",
       " '.git/objects/a9/61ca432ac38547ff719370da2fb1dc54d1ef2c',\n",
       " '.git/objects/a9/d5de36c4fd0f4b63874f64fc3881016833ebfd',\n",
       " '.git/objects/aa/430d3e67a9a3626334ff44cc2b463355a7cb60',\n",
       " '.git/objects/ab/50693880e255dce2d1f60d4118074cd7c03b0b',\n",
       " '.git/objects/ac/53ed651192cd0708380fc3722e68c08dd2062c',\n",
       " '.git/objects/ad/5ca770fb0abe81e797641f1f4c66ca67affc84',\n",
       " '.git/objects/b0/09a17a0b42c065899bcd8e4a168d182cfb30e1',\n",
       " '.git/objects/b0/e8ae8e0080a9a8c6512d28898964910bdcf664',\n",
       " '.git/objects/b1/1708d00efd9e490a5885bbea73a4ed7f0cad6f',\n",
       " '.git/objects/b2/c852c2b98892fe60088233fd530bc759250e33',\n",
       " '.git/objects/b3/776dc3e806468520612365ebc6ae74a811c91b',\n",
       " '.git/objects/b4/9a626a95f521dc9141a841f162bc9559b46716',\n",
       " '.git/objects/b4/ca2767717f4323669e7bad85264e8ecff72aa2',\n",
       " '.git/objects/b4/fde6ed5d9e39b1d2ac76779ee0224b46653990',\n",
       " '.git/objects/b8/0131c3e19fb472902028592ca30e7268e9f4d3',\n",
       " '.git/objects/b9/71f1f8274cfd9544737fc0d2b5d2ad1bba98d8',\n",
       " '.git/objects/ba/762d3dad5caf1d1b4a836833e7981d703fc806',\n",
       " '.git/objects/bb/18213fedb7a495fa35372771d941f33f5bbc56',\n",
       " '.git/objects/bc/6c77e7fa21fc3ca1f8fa7e82d70ef9df59682c',\n",
       " '.git/objects/bc/706798e8156b065bb9d91fe218aea295049199',\n",
       " '.git/objects/bc/96331735f35835a6f3c72531cedce553d33d4b',\n",
       " '.git/objects/be/0b3ff29d3b30748ce486cb502fd9da213ef841',\n",
       " '.git/objects/bf/7d1b7f175bc17bbaca06dce7afdf10ec4be082',\n",
       " '.git/objects/c0/c407edbd46c43a64e18f0380ad0aa5986bfad7',\n",
       " '.git/objects/c1/0fb3a5760a6d7209508eb5526cfe606d66f8e7',\n",
       " '.git/objects/c2/0ba68475e9dd31416ae892768180ea5a7cabdc',\n",
       " '.git/objects/c4/0428530af48375eaa37519875a1849479716df',\n",
       " '.git/objects/c5/a60862f54f70503e63f024300c0cda3f7daeb5',\n",
       " '.git/objects/c5/ce9f1b79abedac1c9a7d75c634676028ed5791',\n",
       " '.git/objects/c7/654b173d582fe0f74320d10f03494710f3bc5c',\n",
       " '.git/objects/c7/b3bbc85ba68ef11901f2f4a53182e4c4223eae',\n",
       " '.git/objects/c7/fa4f3a43beb2f0af3fe7e55d03060a34be8679',\n",
       " '.git/objects/c8/0387ebf14c30787f3c06011703c119f7435206',\n",
       " '.git/objects/c9/c17e9fd3cbb4b7155cf999c29f0f4342ccc932',\n",
       " '.git/objects/ca/0188ddf5a3070f27ac9838a2f0584075e914c6',\n",
       " '.git/objects/ca/2479f1ccb0caa1b7ba13f4342abf5da7700f8c',\n",
       " '.git/objects/ca/e97b591469f58dae2441e67b06b2bb3698fdee',\n",
       " '.git/objects/cb/d33d05cbf5f58d7aae66df8e52ccb490bf6f18',\n",
       " '.git/objects/cd/b998c2d61649de889d41e7e7c49b8d95b89301',\n",
       " '.git/objects/ce/34f4a6de9443503dd6c1b742b2dbe7a8047ca4',\n",
       " '.git/objects/cf/622450246938c02f85e2a83a92f5b54b3fcd1c',\n",
       " '.git/objects/cf/79688b2dfc2709b6e0922e232b51ea70a01ca0',\n",
       " '.git/objects/cf/99371389482e2357100f35f5ab1ee849491ea4',\n",
       " '.git/objects/d0/16e6fa74d672f18996174b39ad48db763119a5',\n",
       " '.git/objects/d0/2e8930b0b7a876bb1dbf85380fb21163799552',\n",
       " '.git/objects/d0/5dcb7f3f1041812bc72e304590dd33a46eb1ef',\n",
       " '.git/objects/d2/f7c27b89c330564b30bd55dc3fdc99b9652592',\n",
       " '.git/objects/d3/f6b40593ff3a80373ff7d864116cf4e2a7909d',\n",
       " '.git/objects/d7/83fee3fb67777d0255105740c02c3523a3921e',\n",
       " '.git/objects/d7/cd2abdf9427cf0f3bd279f9025ef44ae6b1929',\n",
       " '.git/objects/d8/a43c1cc2621fdb8a7a45baa86b201042886cde',\n",
       " '.git/objects/da/2613eaad5587affb34fff6a9b7554f877ea33f',\n",
       " '.git/objects/da/b29aa1d8676eeb7bffe1bfb456422850c1717c',\n",
       " '.git/objects/db/b3a26cdf54a6ca9feb9ebad024b6958fafab7f',\n",
       " '.git/objects/dc/c25dcf813b5f6fd8922fbe9a97224fc6c02134',\n",
       " '.git/objects/dd/3cd72fd909e253acd6c017a1d2ac1bc87b6043',\n",
       " '.git/objects/dd/9019404ba1eed9cc21b10f1338fe54fdc3e63f',\n",
       " '.git/objects/dd/b5f3a9b09d4944d179f4196175f2d65d33d97e',\n",
       " '.git/objects/dd/c26fa42ec5e4f318a1daf49578f7c88ec575bd',\n",
       " '.git/objects/de/b9e29c7e017568ff8473d2e5ad565995000604',\n",
       " '.git/objects/de/d5587803d4def0409d470b5228c28f0a6fbd0e',\n",
       " '.git/objects/de/dd2079f131b0b16d81daf921bfaf5665a75e6c',\n",
       " '.git/objects/df/4bd203bd41611f7236f97f341b6ff1bc4dcde4',\n",
       " '.git/objects/e0/4ab95832385deb1606a676097e82e8c1f3dcda',\n",
       " '.git/objects/e0/673254175968620060dbdac72af281d6eba2e8',\n",
       " '.git/objects/e1/0781f610b77cae5ca9cb6ee2293c743c12874e',\n",
       " '.git/objects/e1/1f11982fe3a2f0a8189034aee52aff51f3c5a4',\n",
       " '.git/objects/e3/cc494c4d67c2bf769fe897bb5b328cab42818c',\n",
       " '.git/objects/e4/0d0aab88fc48421b4ea0edb382c268dffc7522',\n",
       " '.git/objects/e4/376858b718abb449a8bce423f26cebf4f5faf7',\n",
       " '.git/objects/e4/938e43eaf388aa54c857f1c758c954b8570c59',\n",
       " '.git/objects/e7/0ad63c66cfda74b4db087a1bd1312d2345eb29',\n",
       " '.git/objects/e7/31fa206ac13d98f0988bef0c61b28be9c7ecfa',\n",
       " '.git/objects/e7/85e68403b8f74553bb20cd1af9892726f8f14a',\n",
       " '.git/objects/e7/bd071b3b53c1633ed4d4ace792fa95eb4199fe',\n",
       " '.git/objects/eb/5471ecbb5ba7429415c12d1a5bc62eb49518a7',\n",
       " '.git/objects/ec/0e6ead06aec0d481a57fe0134333754e3ccee5',\n",
       " '.git/objects/ec/1d4ed8fd198092fc8650b8278dfa36bf385bbf',\n",
       " '.git/objects/ec/4a9182efa4c8a049eff452d6bc4e4f8b896108',\n",
       " '.git/objects/ec/762976d7cc2d4b6a803624622f6749d5c52ca6',\n",
       " '.git/objects/ec/c669a23b5c52b2d6da37e68dc94e0edada5265',\n",
       " '.git/objects/ed/8111f5e85afe573d40de168f41eb38cd368261',\n",
       " '.git/objects/ef/6638d642051cbc1383e357b3a2f4a004885c09',\n",
       " '.git/objects/f0/010b1f3fc62253d3344b2ab6a4ae56a5e7cbeb',\n",
       " '.git/objects/f0/f250b18372fc10e5752b2f9695ef3c7e9bdb01',\n",
       " '.git/objects/f0/f270287713d3b9430df01ed85f9ea1824b8919',\n",
       " '.git/objects/f1/9b8300b97c98227e8910b63ee8b3ff36a25cb3',\n",
       " '.git/objects/f2/a176368a0a9c3d130bbc4a2de0addee11b723c',\n",
       " '.git/objects/f4/d348a3b82c0a8aba625d69d06e3c27f0cedf9d',\n",
       " '.git/objects/f8/4018f2409dfe534e5e451d65407cb5de34e945',\n",
       " '.git/objects/fa/154ab051ddd4121a32a8c6adf48ce8660874fb',\n",
       " '.git/objects/fa/83ddd6d6218172fc0c736cac458a71b94d7772',\n",
       " '.git/objects/fa/b2cbda5a17cc9a51f6ff9cf9dfae3d3341f452',\n",
       " '.git/objects/fa/dba3fe92119d434920471f853b190581435791',\n",
       " '.git/objects/fb/7b92d546d596cd49b01dce45ab930dd9d69ea8',\n",
       " '.git/objects/fc/23bb854d636b47a85aa638100051cc6f36c1c5',\n",
       " '.git/objects/fe/c0afc2471d5bf89ec028a87969a6216179f23a',\n",
       " '.git/objects/ff/36703dd4523266a1bbe3ffa3f479069475f5ae',\n",
       " '.git/objects/ff/687b6c2b5717d169f17e1899be61a6a8a38bde',\n",
       " '.git/objects/pack/pack-7fd3ff5fd29afc8c23c44e69f82c531d9ba611fc.idx',\n",
       " '.git/objects/pack/pack-7fd3ff5fd29afc8c23c44e69f82c531d9ba611fc.pack',\n",
       " '.git/packed-refs',\n",
       " '.git/refs/heads/master',\n",
       " '.git/refs/remotes/origin/HEAD',\n",
       " '.git/refs/remotes/origin/master',\n",
       " '.ipynb_checkpoints/Exerci_py_Mod3_TEST-checkpoint.ipynb',\n",
       " '.ipynb_checkpoints/NLTK-checkpoint.ipynb',\n",
       " '.log',\n",
       " 'Analise_PCA/Matriz2.ipynb',\n",
       " 'Analise_PCA/Mcorrelacao.xlsx',\n",
       " 'Analise_PCA/Readme',\n",
       " 'Ex_Datetime/.ipynb_checkpoints/TrabDatatime-checkpoint.ipynb',\n",
       " 'Ex_Datetime/.log',\n",
       " 'Ex_Datetime/TrabDatatime.ipynb',\n",
       " 'Exercicios_basicos/.ipynb_checkpoints/Exerci_py_Mod3-checkpoint.ipynb',\n",
       " 'Exercicios_basicos/.ipynb_checkpoints/Exerci_py_Mod3_TEST-checkpoint.ipynb',\n",
       " 'Exercicios_basicos/.ipynb_checkpoints/mod95-checkpoint.ipynb',\n",
       " 'Exercicios_basicos/.ipynb_checkpoints/tic_tac_toe-checkpoint.ipynb',\n",
       " 'Exercicios_basicos/.log',\n",
       " 'Exercicios_basicos/.pytest_cache/.gitignore',\n",
       " 'Exercicios_basicos/.pytest_cache/CACHEDIR.TAG',\n",
       " 'Exercicios_basicos/.pytest_cache/README.md',\n",
       " 'Exercicios_basicos/.pytest_cache/v/cache/lastfailed',\n",
       " 'Exercicios_basicos/.pytest_cache/v/cache/nodeids',\n",
       " 'Exercicios_basicos/.pytest_cache/v/cache/stepwise',\n",
       " 'Exercicios_basicos/Exerci_py_Mod3_TEST.ipynb',\n",
       " 'Exercicios_basicos/GraficosInteressantesMat.ipynb',\n",
       " 'Exercicios_basicos/K_MEANS.ods',\n",
       " 'Exercicios_basicos/ORC_alinhando_ccu_insu_v4.ipynb',\n",
       " 'Exercicios_basicos/SenosInteiros_TernasPitagoricas.ipynb',\n",
       " 'Exercicios_basicos/__pycache__/contatempos.cpython-39.pyc',\n",
       " 'Exercicios_basicos/__pycache__/ordenador.cpython-39.pyc',\n",
       " 'Exercicios_basicos/__pycache__/test_ordenador.cpython-39-pytest-6.2.5.pyc',\n",
       " 'Exercicios_basicos/__pycache__/test_sample.cpython-39-pytest-6.2.5.pyc',\n",
       " 'Exercicios_basicos/all_frame_widgets.py',\n",
       " 'Exercicios_basicos/all_user_input_widgets.py',\n",
       " 'Exercicios_basicos/bhaskara.py',\n",
       " 'Exercicios_basicos/bhaskara_poo.py',\n",
       " 'Exercicios_basicos/bubble.py',\n",
       " 'Exercicios_basicos/bubble_sort.py',\n",
       " 'Exercicios_basicos/busca_binaria.py',\n",
       " 'Exercicios_basicos/busca_sequencial.py',\n",
       " 'Exercicios_basicos/ccdata.txt',\n",
       " 'Exercicios_basicos/classe_triangulo.py',\n",
       " 'Exercicios_basicos/coh_piah.py',\n",
       " 'Exercicios_basicos/conta_char.py',\n",
       " 'Exercicios_basicos/conta_primos.py',\n",
       " 'Exercicios_basicos/contatempos.py',\n",
       " 'Exercicios_basicos/crescente.py',\n",
       " 'Exercicios_basicos/dezenas.py',\n",
       " 'Exercicios_basicos/dimensoes_matriz.py',\n",
       " 'Exercicios_basicos/elefantes.py',\n",
       " 'Exercicios_basicos/emissiondata.txt',\n",
       " 'Exercicios_basicos/encontra_impares.py',\n",
       " 'Exercicios_basicos/exerc_mod8_thinkcspy.py',\n",
       " 'Exercicios_basicos/fatorial_recursivo.py',\n",
       " 'Exercicios_basicos/fatura.py',\n",
       " 'Exercicios_basicos/fibonacci_recursivo.py',\n",
       " 'Exercicios_basicos/fizzbuzz1.py',\n",
       " 'Exercicios_basicos/fizzbuzz2.py',\n",
       " 'Exercicios_basicos/fizzbuzz3.py',\n",
       " 'Exercicios_basicos/flsk2.py',\n",
       " 'Exercicios_basicos/flsk3t.py',\n",
       " 'Exercicios_basicos/flsk_html.py',\n",
       " 'Exercicios_basicos/imprime_matriz.py',\n",
       " 'Exercicios_basicos/imprime_retangulo_cheio.py',\n",
       " 'Exercicios_basicos/imprime_retangulo_vazado.py',\n",
       " 'Exercicios_basicos/insertion_sort.py',\n",
       " 'Exercicios_basicos/inverte.py',\n",
       " 'Exercicios_basicos/isLeap.py',\n",
       " 'Exercicios_basicos/isleap_netacad.py',\n",
       " 'Exercicios_basicos/jogo_nim.py',\n",
       " 'Exercicios_basicos/kmeans_v0.xlsm',\n",
       " 'Exercicios_basicos/labdata.txt',\n",
       " 'Exercicios_basicos/lista_grande.py',\n",
       " 'Exercicios_basicos/lista_ordenada.py',\n",
       " 'Exercicios_basicos/main.py',\n",
       " 'Exercicios_basicos/maior_elemento.py',\n",
       " 'Exercicios_basicos/maiusculas.py',\n",
       " 'Exercicios_basicos/matriz soma.py',\n",
       " 'Exercicios_basicos/matriz_mult.py',\n",
       " 'Exercicios_basicos/medias.py',\n",
       " 'Exercicios_basicos/menor_nome.py',\n",
       " 'Exercicios_basicos/mod95.ipynb',\n",
       " 'Exercicios_basicos/mystery.txt',\n",
       " 'Exercicios_basicos/nim_fair.ipynb',\n",
       " 'Exercicios_basicos/nim_game.py',\n",
       " 'Exercicios_basicos/nim_jogo.ipynb',\n",
       " 'Exercicios_basicos/nim_projeto_gab.py',\n",
       " 'Exercicios_basicos/numeros.txt',\n",
       " 'Exercicios_basicos/openpyxls_test.ipynb',\n",
       " 'Exercicios_basicos/ordenador.py',\n",
       " 'Exercicios_basicos/par_impar2.py',\n",
       " 'Exercicios_basicos/parimpar.py',\n",
       " 'Exercicios_basicos/pillowtest_image.ipynb',\n",
       " 'Exercicios_basicos/poesia.txt',\n",
       " 'Exercicios_basicos/pontos.py',\n",
       " 'Exercicios_basicos/potencia2.py',\n",
       " 'Exercicios_basicos/primalidade.py',\n",
       " 'Exercicios_basicos/primeiro_lex.py',\n",
       " 'Exercicios_basicos/print_triangular_numbers.py',\n",
       " 'Exercicios_basicos/py.zip',\n",
       " 'Exercicios_basicos/qbdata.txt',\n",
       " 'Exercicios_basicos/quadrado.py',\n",
       " 'Exercicios_basicos/readpdf_tab.ipynb',\n",
       " 'Exercicios_basicos/regime_escoamento.ipynb',\n",
       " 'Exercicios_basicos/remove_repetidos.py',\n",
       " 'Exercicios_basicos/segundos.py',\n",
       " 'Exercicios_basicos/selection_sort.py',\n",
       " 'Exercicios_basicos/soma_elementos.py',\n",
       " 'Exercicios_basicos/soma_hipotenusas.py',\n",
       " 'Exercicios_basicos/soma_lista_recursivo.py',\n",
       " 'Exercicios_basicos/soma_matriz.py',\n",
       " 'Exercicios_basicos/soma_quad.py',\n",
       " 'Exercicios_basicos/sqrt.py',\n",
       " 'Exercicios_basicos/studentdata.txt',\n",
       " 'Exercicios_basicos/tabela_verdade.ipynb',\n",
       " 'Exercicios_basicos/tentativa_ocrtable.ipynb',\n",
       " 'Exercicios_basicos/test_bhaskara.py',\n",
       " 'Exercicios_basicos/test_bhaskara2.py',\n",
       " 'Exercicios_basicos/test_ordenador.py',\n",
       " 'Exercicios_basicos/test_sample.py',\n",
       " 'Exercicios_basicos/testaeval.py',\n",
       " 'Exercicios_basicos/testtutu.py',\n",
       " 'Exercicios_basicos/tic_tac_toe.ipynb',\n",
       " 'Exercicios_basicos/tip_triangulo.py',\n",
       " 'Exercicios_basicos/triangulo_retangulo.py',\n",
       " 'Exercicios_basicos/triangulos_semelhantes.py',\n",
       " 'Exercicios_basicos/tst_pygame.py',\n",
       " 'Exercicios_basicos/ttk_raf.py',\n",
       " 'Exercicios_basicos/ttk_raf2.py',\n",
       " 'Exercicios_basicos/ttk_raf3.py',\n",
       " 'Exercicios_basicos/ttk_raf4.py',\n",
       " 'Exercicios_basicos/ttk_raf5.py',\n",
       " 'Exercicios_basicos/ttk_raf7.py',\n",
       " 'Exercicios_basicos/whack_a_mole_v1.py',\n",
       " 'Exercicios_basicos/whack_a_mole_v2.py',\n",
       " 'Exercicios_basicos/whack_a_mole_v5.py',\n",
       " 'NLTK.ipynb',\n",
       " 'Topícos de k_means/k_means_01.ipynb',\n",
       " 'Topícos de k_means/kmeans2D.csv',\n",
       " 'Topícos de k_means/kmeans3D.csv',\n",
       " 'Turtle/3n1_turtle.py',\n",
       " 'Turtle/Astronomy_Animation.py',\n",
       " 'Turtle/Fractal_Generation_with_L_Systems.ipynb',\n",
       " 'Turtle/Soma dos dígitos.py',\n",
       " 'Turtle/__pycache__/tractrix.cpython-39.pyc',\n",
       " 'Turtle/__pycache__/turtle_LS.cpython-39.pyc',\n",
       " 'Turtle/arvore_random.py',\n",
       " 'Turtle/arvore_random2.py',\n",
       " 'Turtle/arvore_turtle.py',\n",
       " 'Turtle/arvore_turtle2.py',\n",
       " 'Turtle/arvore_turtleLS.py',\n",
       " 'Turtle/bargraph_turtle.py',\n",
       " 'Turtle/bargraph_turtlecolors.py',\n",
       " 'Turtle/beauty_tree.ipynb',\n",
       " 'Turtle/branch_fractal.py',\n",
       " 'Turtle/branch_fractal_random.py',\n",
       " 'Turtle/coefbinomial.py',\n",
       " 'Turtle/combinacaonk.py',\n",
       " 'Turtle/digitos_adjacentes.py',\n",
       " 'Turtle/fatorial.py',\n",
       " 'Turtle/fizzbuzz_funcao.py',\n",
       " 'Turtle/heart_turtle.py',\n",
       " 'Turtle/heart_turtlexy.py',\n",
       " 'Turtle/image_luther2.py',\n",
       " 'Turtle/is_rightangled.py',\n",
       " 'Turtle/maior_primo.py',\n",
       " 'Turtle/maximo_2.py',\n",
       " 'Turtle/maximo_3.py',\n",
       " 'Turtle/pi_montecarlo.py',\n",
       " 'Turtle/primalidade.py',\n",
       " 'Turtle/raf_turtle.ipynb',\n",
       " 'Turtle/raf_turtle_colab.ipynb',\n",
       " 'Turtle/rafname_turtle.py',\n",
       " 'Turtle/sin_int_turtle.py',\n",
       " 'Turtle/spi_turtle.py',\n",
       " 'Turtle/sprite_turtle.py',\n",
       " 'Turtle/ternas_pit.py',\n",
       " 'Turtle/ternas_pitagoricas_turtle.py',\n",
       " 'Turtle/test_tractrix.py',\n",
       " 'Turtle/tractrix.py',\n",
       " 'Turtle/tractrix_cm.py',\n",
       " 'Turtle/tractrix_sm.py',\n",
       " 'Turtle/tri_de_tri_fractal.py',\n",
       " 'Turtle/triple_turtle.py',\n",
       " 'Turtle/turtle_LS.py',\n",
       " 'Turtle/turtle_LS_01.py',\n",
       " 'Turtle/turtle_LS_02.py',\n",
       " 'Turtle/turtle_LS_03.py',\n",
       " 'Turtle/turtle_LS_04.py',\n",
       " 'Turtle/turtle_LS_05.py',\n",
       " 'Turtle/turtle_LS_06.py',\n",
       " 'Turtle/turtle_LS_07.py',\n",
       " 'Turtle/turtle_LS_garden_herb.py',\n",
       " 'Turtle/turtle_Lsystem_Abush.py',\n",
       " 'Turtle/turtle_Lsystem_Abush2.py',\n",
       " 'Turtle/turtle_Lsystem_Arrowhead_Curve.py',\n",
       " 'Turtle/turtle_Lsystem_Drago_ Curve.py',\n",
       " 'Turtle/turtle_Lsystem_Gilberts_curve.py',\n",
       " 'Turtle/turtle_Lsystem_Kochs_curve.py',\n",
       " 'Turtle/turtle_Lsystem_Kochs_snowflake.py',\n",
       " 'Turtle/turtle_Lsystem_Peano_Gosper_Curve.py',\n",
       " 'Turtle/turtle_circle.py',\n",
       " 'Turtle/turtle_figuras1.py',\n",
       " 'Turtle/turtle_quadrados_concentricos.py',\n",
       " 'Turtle/turtle_racing.py',\n",
       " 'Turtle/turtle_rm.py',\n",
       " 'Turtle/turtle_rm2.py',\n",
       " 'Turtle/turtle_spiral.py',\n",
       " 'Turtle/turtletst.ipynb',\n",
       " 'Turtle/vogais.py',\n",
       " 'Turtle/ímpares.py',\n",
       " 'domcasmurro.txt',\n",
       " 'memriaspstumasdebrscubas.txt',\n",
       " 'quincasborba.txt']"
      ]
     },
     "execution_count": 3,
     "metadata": {},
     "output_type": "execute_result"
    }
   ],
   "source": [
    "corpus_root = 'C:\\\\Users\\Rafael\\\\Documents\\\\GitHub\\\\Data_Science'\n",
    "machado = PlaintextCorpusReader(corpus_root, '.*')\n",
    "machado.fileids()"
   ]
  },
  {
   "cell_type": "code",
   "execution_count": 4,
   "metadata": {
    "ExecuteTime": {
     "end_time": "2022-01-05T02:27:00.102011Z",
     "start_time": "2022-01-05T02:27:00.073027Z"
    },
    "id": "vmNPkJXjVbSX"
   },
   "outputs": [],
   "source": [
    "dom = machado.raw(\"domcasmurro.txt\")\n",
    "bras = machado.raw(\"memriaspstumasdebrscubas.txt\")\n",
    "borba = machado.raw(\"quincasborba.txt\")"
   ]
  },
  {
   "cell_type": "code",
   "execution_count": 5,
   "metadata": {
    "ExecuteTime": {
     "end_time": "2022-01-05T02:27:00.132281Z",
     "start_time": "2022-01-05T02:27:00.105009Z"
    },
    "colab": {
     "base_uri": "https://localhost:8080/"
    },
    "id": "OEnVGuYO44kp",
    "outputId": "65f4114e-ca61-466d-c883-1638846d6bb1"
   },
   "outputs": [
    {
     "data": {
      "text/plain": [
       "str"
      ]
     },
     "execution_count": 5,
     "metadata": {},
     "output_type": "execute_result"
    }
   ],
   "source": [
    "type(dom)"
   ]
  },
  {
   "cell_type": "code",
   "execution_count": 6,
   "metadata": {
    "ExecuteTime": {
     "end_time": "2022-01-05T02:27:00.289594Z",
     "start_time": "2022-01-05T02:27:00.135280Z"
    },
    "colab": {
     "base_uri": "https://localhost:8080/"
    },
    "id": "srhMGzPeXjRH",
    "outputId": "57fa69b9-1929-4b08-f44b-fc12d896cce8"
   },
   "outputs": [
    {
     "name": "stdout",
     "output_type": "stream",
     "text": [
      "['I', 'Do', 'titulo', '.', 'Uma', 'noite', 'destas', ...]\n"
     ]
    },
    {
     "data": {
      "text/plain": [
       "82046"
      ]
     },
     "execution_count": 6,
     "metadata": {},
     "output_type": "execute_result"
    }
   ],
   "source": [
    "texto1 = machado.words('domcasmurro.txt')\n",
    "\n",
    "print(texto1)\n",
    "len(texto1)"
   ]
  },
  {
   "cell_type": "code",
   "execution_count": 7,
   "metadata": {
    "ExecuteTime": {
     "end_time": "2022-01-05T02:27:00.482381Z",
     "start_time": "2022-01-05T02:27:00.289594Z"
    },
    "colab": {
     "base_uri": "https://localhost:8080/"
    },
    "id": "GryH6U3MvUaI",
    "outputId": "53a20603-15f5-4b75-9929-b8e4fc7d9d6a"
   },
   "outputs": [
    {
     "name": "stdout",
     "output_type": "stream",
     "text": [
      "Displaying 25 of 56 matches:\n",
      "ersiste na ideia de metter o nosso Bentinho no seminario ? É mais que tempo , \n",
      ". Não me parece bonito que o nosso Bentinho ande mettido nos cantos com a filh\n",
      ". Em segredinhos , sempre juntos . Bentinho quasi que não sae de lá . A pequen\n",
      " faça desconfiar . Basta a edade ; Bentinho mal tem quinze annos . Capitú fez \n",
      "dre , tem - se ganho o principal . Bentinho ha de satisfazer os desejos de sua\n",
      " -- Estavamos , sim , senhor , mas Bentinho ri logo , não aguenta . -- Quando \n",
      "tantes . -- Pois que outra cousa , Bentinho ? -- Neste caso , peço - lhe um fa\n",
      "zer : « José Dias , preciso metter Bentinho no seminario .» Timidez não é tão \n",
      "eus estudos . -- Estamos a bordo , Bentinho , estamos a bordo ! XXVII Ao portã\n",
      "a isso por mim , sim ? Você quer , Bentinho ? -- Mamãe querendo . -- Quero , m\n",
      "i zangado . -- Bem , cedo ao nosso Bentinho , suspirou o pae de Capitú . Pela \n",
      "ei o meu sonho imperial : -- Não , Bentinho , deixemos o imperador socegado , \n",
      "ferno isto ! Você teime com elle , Bentinho . -- Teimo ; hoje mesmo elle ha de\n",
      " - se para mim : -- Prepara - te , Bentinho ; tu pódes vir a ser protonotario \n",
      " perguntava em voz alta : -- Mas , Bentinho , que ó protonotario apostolico ? \n",
      " despediu - se . -- Vae com ella , Bentinho , disse minha mãe . -- Não precisa\n",
      "é que agora ...? Não creio , não , Bentinho . E depois ... Vocação ? Mas a voc\n",
      "não lhe hei de mentir nem faltar , Bentinho ; são cousas que não se fazem sem \n",
      "so , não me deixaria assim , não , Bentinho ; eu sei que seria castigada e bem\n",
      "bispo , dizem ... Deixa de manha , Bentinho . Creio que os olhos que lhe deite\n",
      " -- Não , não peço . Estás tonto , Bentinho ? E como havia de saber que Deus m\n",
      " ! -- Eu ? Mas ... -- Não é nada , Bentinho . Pois quem é que ha de dar pancad\n",
      "ios , e abanou a cabeça . -- Não , Bentinho , disse , seria esperar muito temp\n",
      "ase com outra ? -- Tudo póde ser , Bentinho . Você póde achar outra moça que l\n",
      "o a vocação ecclesiastica do nosso Bentinho se manifesta clara e decisiva . Ha\n"
     ]
    }
   ],
   "source": [
    "from nltk.text import Text\n",
    "\n",
    "domcasmurro =Text(texto1)\n",
    "\n",
    "\n",
    "domcasmurro.concordance('Bentinho')\n",
    "\n"
   ]
  },
  {
   "cell_type": "code",
   "execution_count": 8,
   "metadata": {
    "ExecuteTime": {
     "end_time": "2022-01-05T02:27:00.505975Z",
     "start_time": "2022-01-05T02:27:00.482381Z"
    },
    "colab": {
     "base_uri": "https://localhost:8080/"
    },
    "id": "vtoVoW9iw8KP",
    "outputId": "9d4ea446-5023-4ba6-8973-f054842b9c8f"
   },
   "outputs": [
    {
     "data": {
      "text/plain": [
       "[('O', 'Direção'),\n",
       " ('Direção', 'concursos'),\n",
       " ('concursos', 'oferece'),\n",
       " ('oferece', 'preparação'),\n",
       " ('preparação', 'de'),\n",
       " ('de', 'elite')]"
      ]
     },
     "execution_count": 8,
     "metadata": {},
     "output_type": "execute_result"
    }
   ],
   "source": [
    "#bigramas - sequência de duas palavras\n",
    "\n",
    "from nltk import bigrams\n",
    "list(bigrams(['O', 'Direção', 'concursos', 'oferece', 'preparação', 'de', 'elite']))\n"
   ]
  },
  {
   "cell_type": "code",
   "execution_count": 9,
   "metadata": {
    "ExecuteTime": {
     "end_time": "2022-01-05T02:27:01.423466Z",
     "start_time": "2022-01-05T02:27:00.508492Z"
    }
   },
   "outputs": [],
   "source": [
    "tokens = nltk.word_tokenize(dom)"
   ]
  },
  {
   "cell_type": "code",
   "execution_count": 10,
   "metadata": {
    "ExecuteTime": {
     "end_time": "2022-01-05T02:27:01.438622Z",
     "start_time": "2022-01-05T02:27:01.423466Z"
    }
   },
   "outputs": [
    {
     "data": {
      "text/plain": [
       "list"
      ]
     },
     "execution_count": 10,
     "metadata": {},
     "output_type": "execute_result"
    }
   ],
   "source": [
    "type(tokens)"
   ]
  },
  {
   "cell_type": "code",
   "execution_count": 20,
   "metadata": {
    "ExecuteTime": {
     "end_time": "2022-01-05T02:29:10.819368Z",
     "start_time": "2022-01-05T02:29:10.810374Z"
    }
   },
   "outputs": [
    {
     "data": {
      "text/plain": [
       "nltk.text.Text"
      ]
     },
     "execution_count": 20,
     "metadata": {},
     "output_type": "execute_result"
    }
   ],
   "source": [
    "type(text)"
   ]
  },
  {
   "cell_type": "code",
   "execution_count": 11,
   "metadata": {
    "ExecuteTime": {
     "end_time": "2022-01-05T02:27:01.453613Z",
     "start_time": "2022-01-05T02:27:01.441618Z"
    }
   },
   "outputs": [],
   "source": [
    "text = nltk.Text(tokens)"
   ]
  },
  {
   "cell_type": "code",
   "execution_count": 12,
   "metadata": {
    "ExecuteTime": {
     "end_time": "2022-01-05T02:27:01.771757Z",
     "start_time": "2022-01-05T02:27:01.460607Z"
    },
    "colab": {
     "base_uri": "https://localhost:8080/",
     "height": 1000
    },
    "id": "LaMtKNonyTeU",
    "outputId": "63e6083d-5428-4a06-813f-934c080fdc74"
   },
   "outputs": [
    {
     "name": "stdout",
     "output_type": "stream",
     "text": [
      "José Dias; minha mãe; tio Cosme; prima Justina; Minha mãe\n"
     ]
    }
   ],
   "source": [
    "from nltk.text import Text\n",
    "\n",
    "from nltk import collocations\n",
    "#encontrar colocações(bigramas)\n",
    "\n",
    "\n",
    "text.collocations(5)"
   ]
  },
  {
   "cell_type": "code",
   "execution_count": 13,
   "metadata": {
    "ExecuteTime": {
     "end_time": "2022-01-05T02:27:01.922732Z",
     "start_time": "2022-01-05T02:27:01.773755Z"
    },
    "id": "NZapzkcX1IIB"
   },
   "outputs": [
    {
     "name": "stderr",
     "output_type": "stream",
     "text": [
      "[nltk_data] Downloading package punkt to\n",
      "[nltk_data]     C:\\Users\\Rafael\\AppData\\Roaming\\nltk_data...\n",
      "[nltk_data]   Package punkt is already up-to-date!\n"
     ]
    },
    {
     "data": {
      "text/plain": [
       "['O',\n",
       " 'Direção',\n",
       " 'Concursos',\n",
       " 'oferece',\n",
       " 'preparação',\n",
       " 'de',\n",
       " 'elite',\n",
       " 'para',\n",
       " 'concursos',\n",
       " '.']"
      ]
     },
     "execution_count": 13,
     "metadata": {},
     "output_type": "execute_result"
    }
   ],
   "source": [
    "nltk.download('punkt')\n",
    "\n",
    "from nltk.tokenize import word_tokenize\n",
    "#tokenizacao\n",
    "\n",
    "sentence = \"O Direção Concursos oferece preparação de elite para concursos.\"\n",
    "\n",
    "tokens = word_tokenize(sentence)\n",
    "\n",
    "tokens"
   ]
  },
  {
   "cell_type": "code",
   "execution_count": 14,
   "metadata": {
    "ExecuteTime": {
     "end_time": "2022-01-05T02:27:03.039499Z",
     "start_time": "2022-01-05T02:27:01.925752Z"
    },
    "id": "RTOs6TLw1j4y"
   },
   "outputs": [
    {
     "name": "stderr",
     "output_type": "stream",
     "text": [
      "[nltk_data] Downloading package mac_morpho to\n",
      "[nltk_data]     C:\\Users\\Rafael\\AppData\\Roaming\\nltk_data...\n",
      "[nltk_data]   Unzipping corpora\\mac_morpho.zip.\n"
     ]
    }
   ],
   "source": [
    "#construindo um tagger\n",
    "#Importa a biblioteca\n",
    "nltk.download('mac_morpho')\n",
    "from nltk.corpus import mac_morpho\n",
    "#Carrega as sentença rotuladas do Corpus\n",
    "sentencas_etiquetadas = mac_morpho.tagged_sents()"
   ]
  },
  {
   "cell_type": "code",
   "execution_count": 15,
   "metadata": {
    "ExecuteTime": {
     "end_time": "2022-01-05T02:27:03.070706Z",
     "start_time": "2022-01-05T02:27:03.042495Z"
    },
    "id": "O2yeZzE32nLY"
   },
   "outputs": [
    {
     "name": "stdout",
     "output_type": "stream",
     "text": [
      "[[('Jersei', 'N'), ('atinge', 'V'), ('média', 'N'), ('de', 'PREP'), ('Cr$', 'CUR'), ('1,4', 'NUM'), ('milhão', 'N'), ('em', 'PREP|+'), ('a', 'ART'), ('venda', 'N'), ('de', 'PREP|+'), ('a', 'ART'), ('Pinhal', 'NPROP'), ('em', 'PREP'), ('São', 'NPROP'), ('Paulo', 'NPROP')], [('Programe', 'V'), ('sua', 'PROADJ'), ('viagem', 'N'), ('a', 'PREP|+'), ('a', 'ART'), ('Exposição', 'NPROP'), ('Nacional', 'NPROP'), ('do', 'NPROP'), ('Zebu', 'NPROP'), (',', ','), ('que', 'PRO-KS-REL'), ('começa', 'V'), ('dia', 'N'), ('25', 'N|AP')], ...]\n"
     ]
    }
   ],
   "source": [
    "print(sentencas_etiquetadas)\n"
   ]
  },
  {
   "cell_type": "code",
   "execution_count": 16,
   "metadata": {
    "ExecuteTime": {
     "end_time": "2022-01-05T02:27:27.664527Z",
     "start_time": "2022-01-05T02:27:03.075705Z"
    },
    "id": "rJdX78D14Maa"
   },
   "outputs": [],
   "source": [
    "tags = [tag for (word, tag) in mac_morpho.tagged_words()]\n"
   ]
  },
  {
   "cell_type": "code",
   "execution_count": 17,
   "metadata": {
    "ExecuteTime": {
     "end_time": "2022-01-05T02:27:29.376552Z",
     "start_time": "2022-01-05T02:27:27.669524Z"
    },
    "id": "nR91oU_84qkR"
   },
   "outputs": [
    {
     "data": {
      "text/plain": [
       "[('N', 236462),\n",
       " ('ART', 151891),\n",
       " ('NPROP', 114318),\n",
       " ('PREP', 104364),\n",
       " ('V', 98056),\n",
       " ('PREP|+', 78274),\n",
       " (',', 68494),\n",
       " ('ADJ', 53372),\n",
       " ('ADV', 30653),\n",
       " ('KC', 28262),\n",
       " ('PCP', 23092),\n",
       " ('\"', 21069),\n",
       " ('PROADJ', 20919),\n",
       " ('NUM', 18110),\n",
       " ('VAUX', 17832),\n",
       " ('PROPESS', 14718),\n",
       " ('KS', 14320),\n",
       " ('PRO-KS-REL', 11347),\n",
       " ('PROSUB', 8598),\n",
       " (')', 7741)]"
      ]
     },
     "execution_count": 17,
     "metadata": {},
     "output_type": "execute_result"
    }
   ],
   "source": [
    "\n",
    "nltk.FreqDist(tags).most_common(20)"
   ]
  },
  {
   "cell_type": "code",
   "execution_count": 18,
   "metadata": {
    "ExecuteTime": {
     "end_time": "2022-01-05T02:28:25.150706Z",
     "start_time": "2022-01-05T02:27:29.379551Z"
    },
    "id": "TJme-8gW4xDv"
   },
   "outputs": [
    {
     "data": {
      "text/plain": [
       "[('O', 'ART'),\n",
       " ('Direção', 'N'),\n",
       " ('Concursos', None),\n",
       " ('é', 'V'),\n",
       " ('o', 'ART'),\n",
       " ('melhor', 'ADJ'),\n",
       " ('curso', 'N'),\n",
       " ('preparatório', None),\n",
       " ('para', 'PREP'),\n",
       " ('concursos', 'N')]"
      ]
     },
     "execution_count": 18,
     "metadata": {},
     "output_type": "execute_result"
    }
   ],
   "source": [
    "texto = 'O Direção Concursos é o melhor curso preparatório para concursos'\n",
    "tokens = word_tokenize(texto)\n",
    "unigram_tagger = nltk.tag.UnigramTagger(sentencas_etiquetadas)\n",
    "unigram_tagger.tag(tokens)"
   ]
  },
  {
   "cell_type": "code",
   "execution_count": 19,
   "metadata": {
    "ExecuteTime": {
     "end_time": "2022-01-05T02:28:58.127741Z",
     "start_time": "2022-01-05T02:28:25.153685Z"
    },
    "id": "cGmPAvj16zoj"
   },
   "outputs": [
    {
     "ename": "KeyboardInterrupt",
     "evalue": "",
     "output_type": "error",
     "traceback": [
      "\u001b[1;31m---------------------------------------------------------------------------\u001b[0m",
      "\u001b[1;31mKeyboardInterrupt\u001b[0m                         Traceback (most recent call last)",
      "\u001b[1;32m~\\AppData\\Local\\Temp/ipykernel_14628/2741653032.py\u001b[0m in \u001b[0;36m<module>\u001b[1;34m\u001b[0m\n\u001b[0;32m      4\u001b[0m \u001b[0mt0\u001b[0m\u001b[1;33m=\u001b[0m\u001b[0mDefaultTagger\u001b[0m\u001b[1;33m(\u001b[0m\u001b[1;34m'N'\u001b[0m\u001b[1;33m)\u001b[0m\u001b[1;33m\u001b[0m\u001b[1;33m\u001b[0m\u001b[0m\n\u001b[0;32m      5\u001b[0m \u001b[0mt1\u001b[0m\u001b[1;33m=\u001b[0m\u001b[0mUnigramTagger\u001b[0m\u001b[1;33m(\u001b[0m\u001b[0msentencas_etiquetadas\u001b[0m\u001b[1;33m,\u001b[0m \u001b[0mbackoff\u001b[0m\u001b[1;33m=\u001b[0m\u001b[0mt0\u001b[0m\u001b[1;33m)\u001b[0m\u001b[1;33m\u001b[0m\u001b[1;33m\u001b[0m\u001b[0m\n\u001b[1;32m----> 6\u001b[1;33m \u001b[0mt2\u001b[0m\u001b[1;33m=\u001b[0m\u001b[0mBigramTagger\u001b[0m\u001b[1;33m(\u001b[0m\u001b[0msentencas_etiquetadas\u001b[0m\u001b[1;33m,\u001b[0m \u001b[0mbackoff\u001b[0m\u001b[1;33m=\u001b[0m\u001b[0mt1\u001b[0m\u001b[1;33m)\u001b[0m\u001b[1;33m\u001b[0m\u001b[1;33m\u001b[0m\u001b[0m\n\u001b[0m\u001b[0;32m      7\u001b[0m \u001b[0mt3\u001b[0m\u001b[1;33m=\u001b[0m\u001b[0mTrigramTagger\u001b[0m\u001b[1;33m(\u001b[0m\u001b[0msentencas_etiquetadas\u001b[0m\u001b[1;33m,\u001b[0m \u001b[0mbackoff\u001b[0m\u001b[1;33m=\u001b[0m\u001b[0mt2\u001b[0m\u001b[1;33m)\u001b[0m\u001b[1;33m\u001b[0m\u001b[1;33m\u001b[0m\u001b[0m\n",
      "\u001b[1;32mc:\\python39\\lib\\site-packages\\nltk\\tag\\sequential.py\u001b[0m in \u001b[0;36m__init__\u001b[1;34m(self, train, model, backoff, cutoff, verbose)\u001b[0m\n\u001b[0;32m    390\u001b[0m \u001b[1;33m\u001b[0m\u001b[0m\n\u001b[0;32m    391\u001b[0m     \u001b[1;32mdef\u001b[0m \u001b[0m__init__\u001b[0m\u001b[1;33m(\u001b[0m\u001b[0mself\u001b[0m\u001b[1;33m,\u001b[0m \u001b[0mtrain\u001b[0m\u001b[1;33m=\u001b[0m\u001b[1;32mNone\u001b[0m\u001b[1;33m,\u001b[0m \u001b[0mmodel\u001b[0m\u001b[1;33m=\u001b[0m\u001b[1;32mNone\u001b[0m\u001b[1;33m,\u001b[0m \u001b[0mbackoff\u001b[0m\u001b[1;33m=\u001b[0m\u001b[1;32mNone\u001b[0m\u001b[1;33m,\u001b[0m \u001b[0mcutoff\u001b[0m\u001b[1;33m=\u001b[0m\u001b[1;36m0\u001b[0m\u001b[1;33m,\u001b[0m \u001b[0mverbose\u001b[0m\u001b[1;33m=\u001b[0m\u001b[1;32mFalse\u001b[0m\u001b[1;33m)\u001b[0m\u001b[1;33m:\u001b[0m\u001b[1;33m\u001b[0m\u001b[1;33m\u001b[0m\u001b[0m\n\u001b[1;32m--> 392\u001b[1;33m         \u001b[0msuper\u001b[0m\u001b[1;33m(\u001b[0m\u001b[1;33m)\u001b[0m\u001b[1;33m.\u001b[0m\u001b[0m__init__\u001b[0m\u001b[1;33m(\u001b[0m\u001b[1;36m2\u001b[0m\u001b[1;33m,\u001b[0m \u001b[0mtrain\u001b[0m\u001b[1;33m,\u001b[0m \u001b[0mmodel\u001b[0m\u001b[1;33m,\u001b[0m \u001b[0mbackoff\u001b[0m\u001b[1;33m,\u001b[0m \u001b[0mcutoff\u001b[0m\u001b[1;33m,\u001b[0m \u001b[0mverbose\u001b[0m\u001b[1;33m)\u001b[0m\u001b[1;33m\u001b[0m\u001b[1;33m\u001b[0m\u001b[0m\n\u001b[0m\u001b[0;32m    393\u001b[0m \u001b[1;33m\u001b[0m\u001b[0m\n\u001b[0;32m    394\u001b[0m \u001b[1;33m\u001b[0m\u001b[0m\n",
      "\u001b[1;32mc:\\python39\\lib\\site-packages\\nltk\\tag\\sequential.py\u001b[0m in \u001b[0;36m__init__\u001b[1;34m(self, n, train, model, backoff, cutoff, verbose)\u001b[0m\n\u001b[0;32m    294\u001b[0m \u001b[1;33m\u001b[0m\u001b[0m\n\u001b[0;32m    295\u001b[0m         \u001b[1;32mif\u001b[0m \u001b[0mtrain\u001b[0m\u001b[1;33m:\u001b[0m\u001b[1;33m\u001b[0m\u001b[1;33m\u001b[0m\u001b[0m\n\u001b[1;32m--> 296\u001b[1;33m             \u001b[0mself\u001b[0m\u001b[1;33m.\u001b[0m\u001b[0m_train\u001b[0m\u001b[1;33m(\u001b[0m\u001b[0mtrain\u001b[0m\u001b[1;33m,\u001b[0m \u001b[0mcutoff\u001b[0m\u001b[1;33m,\u001b[0m \u001b[0mverbose\u001b[0m\u001b[1;33m)\u001b[0m\u001b[1;33m\u001b[0m\u001b[1;33m\u001b[0m\u001b[0m\n\u001b[0m\u001b[0;32m    297\u001b[0m \u001b[1;33m\u001b[0m\u001b[0m\n\u001b[0;32m    298\u001b[0m     \u001b[1;32mdef\u001b[0m \u001b[0mencode_json_obj\u001b[0m\u001b[1;33m(\u001b[0m\u001b[0mself\u001b[0m\u001b[1;33m)\u001b[0m\u001b[1;33m:\u001b[0m\u001b[1;33m\u001b[0m\u001b[1;33m\u001b[0m\u001b[0m\n",
      "\u001b[1;32mc:\\python39\\lib\\site-packages\\nltk\\tag\\sequential.py\u001b[0m in \u001b[0;36m_train\u001b[1;34m(self, tagged_corpus, cutoff, verbose)\u001b[0m\n\u001b[0;32m    176\u001b[0m         \u001b[1;31m# Count how many times each tag occurs in each context.\u001b[0m\u001b[1;33m\u001b[0m\u001b[1;33m\u001b[0m\u001b[1;33m\u001b[0m\u001b[0m\n\u001b[0;32m    177\u001b[0m         \u001b[0mfd\u001b[0m \u001b[1;33m=\u001b[0m \u001b[0mConditionalFreqDist\u001b[0m\u001b[1;33m(\u001b[0m\u001b[1;33m)\u001b[0m\u001b[1;33m\u001b[0m\u001b[1;33m\u001b[0m\u001b[0m\n\u001b[1;32m--> 178\u001b[1;33m         \u001b[1;32mfor\u001b[0m \u001b[0msentence\u001b[0m \u001b[1;32min\u001b[0m \u001b[0mtagged_corpus\u001b[0m\u001b[1;33m:\u001b[0m\u001b[1;33m\u001b[0m\u001b[1;33m\u001b[0m\u001b[0m\n\u001b[0m\u001b[0;32m    179\u001b[0m             \u001b[0mtokens\u001b[0m\u001b[1;33m,\u001b[0m \u001b[0mtags\u001b[0m \u001b[1;33m=\u001b[0m \u001b[0mzip\u001b[0m\u001b[1;33m(\u001b[0m\u001b[1;33m*\u001b[0m\u001b[0msentence\u001b[0m\u001b[1;33m)\u001b[0m\u001b[1;33m\u001b[0m\u001b[1;33m\u001b[0m\u001b[0m\n\u001b[0;32m    180\u001b[0m             \u001b[1;32mfor\u001b[0m \u001b[0mindex\u001b[0m\u001b[1;33m,\u001b[0m \u001b[1;33m(\u001b[0m\u001b[0mtoken\u001b[0m\u001b[1;33m,\u001b[0m \u001b[0mtag\u001b[0m\u001b[1;33m)\u001b[0m \u001b[1;32min\u001b[0m \u001b[0menumerate\u001b[0m\u001b[1;33m(\u001b[0m\u001b[0msentence\u001b[0m\u001b[1;33m)\u001b[0m\u001b[1;33m:\u001b[0m\u001b[1;33m\u001b[0m\u001b[1;33m\u001b[0m\u001b[0m\n",
      "\u001b[1;32mc:\\python39\\lib\\site-packages\\nltk\\corpus\\reader\\util.py\u001b[0m in \u001b[0;36miterate_from\u001b[1;34m(self, start_tok)\u001b[0m\n\u001b[0;32m    422\u001b[0m \u001b[1;33m\u001b[0m\u001b[0m\n\u001b[0;32m    423\u001b[0m             \u001b[1;31m# Get everything we can from this piece.\u001b[0m\u001b[1;33m\u001b[0m\u001b[1;33m\u001b[0m\u001b[1;33m\u001b[0m\u001b[0m\n\u001b[1;32m--> 424\u001b[1;33m             \u001b[1;32myield\u001b[0m \u001b[1;32mfrom\u001b[0m \u001b[0mpiece\u001b[0m\u001b[1;33m.\u001b[0m\u001b[0miterate_from\u001b[0m\u001b[1;33m(\u001b[0m\u001b[0mmax\u001b[0m\u001b[1;33m(\u001b[0m\u001b[1;36m0\u001b[0m\u001b[1;33m,\u001b[0m \u001b[0mstart_tok\u001b[0m \u001b[1;33m-\u001b[0m \u001b[0moffset\u001b[0m\u001b[1;33m)\u001b[0m\u001b[1;33m)\u001b[0m\u001b[1;33m\u001b[0m\u001b[1;33m\u001b[0m\u001b[0m\n\u001b[0m\u001b[0;32m    425\u001b[0m \u001b[1;33m\u001b[0m\u001b[0m\n\u001b[0;32m    426\u001b[0m             \u001b[1;31m# Update the offset table.\u001b[0m\u001b[1;33m\u001b[0m\u001b[1;33m\u001b[0m\u001b[1;33m\u001b[0m\u001b[0m\n",
      "\u001b[1;32mc:\\python39\\lib\\site-packages\\nltk\\corpus\\reader\\util.py\u001b[0m in \u001b[0;36miterate_from\u001b[1;34m(self, start_tok)\u001b[0m\n\u001b[0;32m    304\u001b[0m             \u001b[0mself\u001b[0m\u001b[1;33m.\u001b[0m\u001b[0m_current_toknum\u001b[0m \u001b[1;33m=\u001b[0m \u001b[0mtoknum\u001b[0m\u001b[1;33m\u001b[0m\u001b[1;33m\u001b[0m\u001b[0m\n\u001b[0;32m    305\u001b[0m             \u001b[0mself\u001b[0m\u001b[1;33m.\u001b[0m\u001b[0m_current_blocknum\u001b[0m \u001b[1;33m=\u001b[0m \u001b[0mblock_index\u001b[0m\u001b[1;33m\u001b[0m\u001b[1;33m\u001b[0m\u001b[0m\n\u001b[1;32m--> 306\u001b[1;33m             \u001b[0mtokens\u001b[0m \u001b[1;33m=\u001b[0m \u001b[0mself\u001b[0m\u001b[1;33m.\u001b[0m\u001b[0mread_block\u001b[0m\u001b[1;33m(\u001b[0m\u001b[0mself\u001b[0m\u001b[1;33m.\u001b[0m\u001b[0m_stream\u001b[0m\u001b[1;33m)\u001b[0m\u001b[1;33m\u001b[0m\u001b[1;33m\u001b[0m\u001b[0m\n\u001b[0m\u001b[0;32m    307\u001b[0m             assert isinstance(tokens, (tuple, list, AbstractLazySequence)), (\n\u001b[0;32m    308\u001b[0m                 \u001b[1;34m\"block reader %s() should return list or tuple.\"\u001b[0m\u001b[1;33m\u001b[0m\u001b[1;33m\u001b[0m\u001b[0m\n",
      "\u001b[1;32mc:\\python39\\lib\\site-packages\\nltk\\corpus\\reader\\tagged.py\u001b[0m in \u001b[0;36mread_block\u001b[1;34m(self, stream)\u001b[0m\n\u001b[0;32m    288\u001b[0m         \u001b[1;34m\"\"\"Reads one paragraph at a time.\"\"\"\u001b[0m\u001b[1;33m\u001b[0m\u001b[1;33m\u001b[0m\u001b[0m\n\u001b[0;32m    289\u001b[0m         \u001b[0mblock\u001b[0m \u001b[1;33m=\u001b[0m \u001b[1;33m[\u001b[0m\u001b[1;33m]\u001b[0m\u001b[1;33m\u001b[0m\u001b[1;33m\u001b[0m\u001b[0m\n\u001b[1;32m--> 290\u001b[1;33m         \u001b[1;32mfor\u001b[0m \u001b[0mpara_str\u001b[0m \u001b[1;32min\u001b[0m \u001b[0mself\u001b[0m\u001b[1;33m.\u001b[0m\u001b[0m_para_block_reader\u001b[0m\u001b[1;33m(\u001b[0m\u001b[0mstream\u001b[0m\u001b[1;33m)\u001b[0m\u001b[1;33m:\u001b[0m\u001b[1;33m\u001b[0m\u001b[1;33m\u001b[0m\u001b[0m\n\u001b[0m\u001b[0;32m    291\u001b[0m             \u001b[0mpara\u001b[0m \u001b[1;33m=\u001b[0m \u001b[1;33m[\u001b[0m\u001b[1;33m]\u001b[0m\u001b[1;33m\u001b[0m\u001b[1;33m\u001b[0m\u001b[0m\n\u001b[0;32m    292\u001b[0m             \u001b[1;32mfor\u001b[0m \u001b[0msent_str\u001b[0m \u001b[1;32min\u001b[0m \u001b[0mself\u001b[0m\u001b[1;33m.\u001b[0m\u001b[0m_sent_tokenizer\u001b[0m\u001b[1;33m.\u001b[0m\u001b[0mtokenize\u001b[0m\u001b[1;33m(\u001b[0m\u001b[0mpara_str\u001b[0m\u001b[1;33m)\u001b[0m\u001b[1;33m:\u001b[0m\u001b[1;33m\u001b[0m\u001b[1;33m\u001b[0m\u001b[0m\n",
      "\u001b[1;32mc:\\python39\\lib\\site-packages\\nltk\\corpus\\reader\\tagged.py\u001b[0m in \u001b[0;36m_read_block\u001b[1;34m(self, stream)\u001b[0m\n\u001b[0;32m    335\u001b[0m \u001b[1;33m\u001b[0m\u001b[0m\n\u001b[0;32m    336\u001b[0m     \u001b[1;32mdef\u001b[0m \u001b[0m_read_block\u001b[0m\u001b[1;33m(\u001b[0m\u001b[0mself\u001b[0m\u001b[1;33m,\u001b[0m \u001b[0mstream\u001b[0m\u001b[1;33m)\u001b[0m\u001b[1;33m:\u001b[0m\u001b[1;33m\u001b[0m\u001b[1;33m\u001b[0m\u001b[0m\n\u001b[1;32m--> 337\u001b[1;33m         \u001b[1;32mreturn\u001b[0m \u001b[0mread_regexp_block\u001b[0m\u001b[1;33m(\u001b[0m\u001b[0mstream\u001b[0m\u001b[1;33m,\u001b[0m \u001b[1;34mr\".*\"\u001b[0m\u001b[1;33m,\u001b[0m \u001b[1;34mr\".*_\\.\"\u001b[0m\u001b[1;33m)\u001b[0m\u001b[1;33m\u001b[0m\u001b[1;33m\u001b[0m\u001b[0m\n\u001b[0m\u001b[0;32m    338\u001b[0m \u001b[1;33m\u001b[0m\u001b[0m\n\u001b[0;32m    339\u001b[0m \u001b[1;33m\u001b[0m\u001b[0m\n",
      "\u001b[1;32mc:\\python39\\lib\\site-packages\\nltk\\corpus\\reader\\util.py\u001b[0m in \u001b[0;36mread_regexp_block\u001b[1;34m(stream, start_re, end_re)\u001b[0m\n\u001b[0;32m    656\u001b[0m     \u001b[0mlines\u001b[0m \u001b[1;33m=\u001b[0m \u001b[1;33m[\u001b[0m\u001b[0mline\u001b[0m\u001b[1;33m]\u001b[0m\u001b[1;33m\u001b[0m\u001b[1;33m\u001b[0m\u001b[0m\n\u001b[0;32m    657\u001b[0m     \u001b[1;32mwhile\u001b[0m \u001b[1;32mTrue\u001b[0m\u001b[1;33m:\u001b[0m\u001b[1;33m\u001b[0m\u001b[1;33m\u001b[0m\u001b[0m\n\u001b[1;32m--> 658\u001b[1;33m         \u001b[0moldpos\u001b[0m \u001b[1;33m=\u001b[0m \u001b[0mstream\u001b[0m\u001b[1;33m.\u001b[0m\u001b[0mtell\u001b[0m\u001b[1;33m(\u001b[0m\u001b[1;33m)\u001b[0m\u001b[1;33m\u001b[0m\u001b[1;33m\u001b[0m\u001b[0m\n\u001b[0m\u001b[0;32m    659\u001b[0m         \u001b[0mline\u001b[0m \u001b[1;33m=\u001b[0m \u001b[0mstream\u001b[0m\u001b[1;33m.\u001b[0m\u001b[0mreadline\u001b[0m\u001b[1;33m(\u001b[0m\u001b[1;33m)\u001b[0m\u001b[1;33m\u001b[0m\u001b[1;33m\u001b[0m\u001b[0m\n\u001b[0;32m    660\u001b[0m         \u001b[1;31m# End of file:\u001b[0m\u001b[1;33m\u001b[0m\u001b[1;33m\u001b[0m\u001b[1;33m\u001b[0m\u001b[0m\n",
      "\u001b[1;32mc:\\python39\\lib\\site-packages\\nltk\\data.py\u001b[0m in \u001b[0;36mtell\u001b[1;34m(self)\u001b[0m\n\u001b[0;32m   1301\u001b[0m         \u001b[0mself\u001b[0m\u001b[1;33m.\u001b[0m\u001b[0mstream\u001b[0m\u001b[1;33m.\u001b[0m\u001b[0mseek\u001b[0m\u001b[1;33m(\u001b[0m\u001b[0mself\u001b[0m\u001b[1;33m.\u001b[0m\u001b[0m_rewind_checkpoint\u001b[0m\u001b[1;33m)\u001b[0m\u001b[1;33m\u001b[0m\u001b[1;33m\u001b[0m\u001b[0m\n\u001b[0;32m   1302\u001b[0m         \u001b[0mself\u001b[0m\u001b[1;33m.\u001b[0m\u001b[0m_char_seek_forward\u001b[0m\u001b[1;33m(\u001b[0m\u001b[0mself\u001b[0m\u001b[1;33m.\u001b[0m\u001b[0m_rewind_numchars\u001b[0m\u001b[1;33m,\u001b[0m \u001b[0mest_bytes\u001b[0m\u001b[1;33m)\u001b[0m\u001b[1;33m\u001b[0m\u001b[1;33m\u001b[0m\u001b[0m\n\u001b[1;32m-> 1303\u001b[1;33m         \u001b[0mfilepos\u001b[0m \u001b[1;33m=\u001b[0m \u001b[0mself\u001b[0m\u001b[1;33m.\u001b[0m\u001b[0mstream\u001b[0m\u001b[1;33m.\u001b[0m\u001b[0mtell\u001b[0m\u001b[1;33m(\u001b[0m\u001b[1;33m)\u001b[0m\u001b[1;33m\u001b[0m\u001b[1;33m\u001b[0m\u001b[0m\n\u001b[0m\u001b[0;32m   1304\u001b[0m \u001b[1;33m\u001b[0m\u001b[0m\n\u001b[0;32m   1305\u001b[0m         \u001b[1;31m# Sanity check\u001b[0m\u001b[1;33m\u001b[0m\u001b[1;33m\u001b[0m\u001b[1;33m\u001b[0m\u001b[0m\n",
      "\u001b[1;31mKeyboardInterrupt\u001b[0m: "
     ]
    }
   ],
   "source": [
    "#bigramas e trigramas para treinar\n",
    "\n",
    "from nltk.tag.sequential import DefaultTagger, UnigramTagger, BigramTagger, TrigramTagger\n",
    "t0=DefaultTagger('N')\n",
    "t1=UnigramTagger(sentencas_etiquetadas, backoff=t0)\n",
    "t2=BigramTagger(sentencas_etiquetadas, backoff=t1)\n",
    "t3=TrigramTagger(sentencas_etiquetadas, backoff=t2)\n"
   ]
  },
  {
   "cell_type": "code",
   "execution_count": null,
   "metadata": {
    "ExecuteTime": {
     "end_time": "2022-01-05T02:28:58.138672Z",
     "start_time": "2022-01-05T02:28:58.138672Z"
    },
    "id": "uYvXm5Zd75Vw"
   },
   "outputs": [],
   "source": [
    "#após treinamento\n",
    "t3.tag(tokens)\n",
    "\n"
   ]
  },
  {
   "cell_type": "code",
   "execution_count": null,
   "metadata": {
    "ExecuteTime": {
     "end_time": "2022-01-05T02:28:58.140671Z",
     "start_time": "2022-01-05T02:28:58.140671Z"
    },
    "id": "o-piIZ5QS2BZ"
   },
   "outputs": [],
   "source": [
    "#separando sentenças\n",
    "sentencasdodom= nltk.sent_tokenize(dom)\n",
    "palavrasdodom= [nltk.word_tokenize(sent) for sent in sentencasdodom]\n",
    "palavrastageadas = [t3.tag(word) for word in palavrasdodom]\n",
    "print(palavrastageadas)"
   ]
  },
  {
   "cell_type": "code",
   "execution_count": null,
   "metadata": {
    "ExecuteTime": {
     "end_time": "2022-01-05T02:28:58.142670Z",
     "start_time": "2022-01-05T02:28:58.142670Z"
    },
    "id": "hneR9TkJcSXf"
   },
   "outputs": [],
   "source": [
    "#regexp_tokenize - baseado em expressões regulares\n",
    "\n",
    "\n",
    "# Módulos\n",
    "from nltk.tokenize import regexp_tokenize\n",
    "# Padrao regex para encontrar palavras\n",
    "pattern1 = r\"W\\w+\"\n",
    "\n",
    "palavrascomW = regexp_tokenize(dom, pattern1)\n",
    "print(palavrascomW)\n",
    "\n"
   ]
  },
  {
   "cell_type": "code",
   "execution_count": null,
   "metadata": {
    "ExecuteTime": {
     "end_time": "2022-01-05T02:28:58.144668Z",
     "start_time": "2022-01-05T02:28:58.144668Z"
    },
    "id": "cGv-8L0Mv01S"
   },
   "outputs": [],
   "source": [
    "#PREPROCESSAMENTO\n",
    "\n",
    "from collections import Counter\n",
    "\n",
    "tokens_dom = word_tokenize(dom)\n",
    "\n",
    "tokens_dom_minusculas = [t.lower() for t in tokens_dom]\n",
    "\n",
    "cesta_de_palavras = Counter(tokens_dom_minusculas)\n",
    "\n",
    "print(cesta_de_palavras.most_common(10))"
   ]
  },
  {
   "cell_type": "code",
   "execution_count": null,
   "metadata": {
    "ExecuteTime": {
     "end_time": "2022-01-05T02:28:58.147667Z",
     "start_time": "2022-01-05T02:28:58.147667Z"
    },
    "id": "UJN_IcVe2ty0"
   },
   "outputs": [],
   "source": [
    "tokens_dom_alfabetica = [w for w in tokens_dom_minusculas if w.isalpha()]\n",
    "\n",
    "cesta_alfabetica = Counter(tokens_dom_alfabetica)\n",
    "\n",
    "print(cesta_alfabetica.most_common(10))"
   ]
  },
  {
   "cell_type": "code",
   "execution_count": null,
   "metadata": {
    "ExecuteTime": {
     "end_time": "2022-01-05T02:28:58.150667Z",
     "start_time": "2022-01-05T02:28:58.149665Z"
    },
    "id": "4yIYBOyDXcsO"
   },
   "outputs": [],
   "source": [
    "nltk.download('stopwords')\n",
    "stopwordsPT = nltk.corpus.stopwords.words('portuguese')\n",
    "stopwordsPT[:10]"
   ]
  },
  {
   "cell_type": "code",
   "execution_count": null,
   "metadata": {
    "ExecuteTime": {
     "end_time": "2022-01-05T02:28:58.152664Z",
     "start_time": "2022-01-05T02:28:58.152664Z"
    },
    "id": "h7hjIdpW2g2Y"
   },
   "outputs": [],
   "source": [
    "tokens_dom_pronto = [w for w in tokens_dom_alfabetica if w not in stopwordsPT]\n",
    "\n",
    "cesta_pronta = Counter(tokens_dom_pronto)\n",
    "\n",
    "print(cesta_pronta.most_common(20))"
   ]
  },
  {
   "cell_type": "code",
   "execution_count": null,
   "metadata": {
    "ExecuteTime": {
     "end_time": "2022-01-05T02:28:58.154663Z",
     "start_time": "2022-01-05T02:28:58.154663Z"
    },
    "id": "Yp8g2KUv6Ni4"
   },
   "outputs": [],
   "source": [
    "#Stemming. #RSLPStemmer em português, WordNetLemmatizer em inglês\n",
    "nltk.download('rslp')\n",
    "from nltk.stem import RSLPStemmer\n",
    "\n",
    "\n",
    "stemmer = RSLPStemmer()\n",
    "stemmer.stem(\"casamento\")\n",
    "\n",
    "\n",
    "\n"
   ]
  },
  {
   "cell_type": "code",
   "execution_count": null,
   "metadata": {
    "ExecuteTime": {
     "end_time": "2022-01-05T02:28:58.157661Z",
     "start_time": "2022-01-05T02:28:58.156661Z"
    },
    "id": "6CkNAvVb7RHs"
   },
   "outputs": [],
   "source": [
    "#Fluxo ampliado preprocessamento\n",
    "from nltk.stem import RSLPStemmer\n",
    "from collections import Counter\n",
    "\n",
    "#Tokens\n",
    "tokens_dom = word_tokenize(dom)\n",
    "\n",
    "# Lower words: lower_only\n",
    "lower_only = [t.lower() for t in tokens_dom]\n",
    "\n",
    "# Retain alphabetic words: alpha_only\n",
    "alpha_only = [t for t in lower_only if t.isalpha()]\n",
    "\n",
    "# Remove all stop words: no_stops\n",
    "no_stops = [t for t in alpha_only if t not in stopwordsPT]\n",
    "\n",
    "# Instantiate the RSLPStemmer\n",
    "stemmer = RSLPStemmer()\n",
    "\n",
    "# Stem all tokens into a new list: stemmed\n",
    "stemmed = [stemmer.stem(t) for t in no_stops]\n",
    "\n",
    "# Create the bag-of-words: bow\n",
    "bow = Counter(stemmed)\n",
    "\n",
    "# Print the 10 most common tokens\n",
    "print(bow.most_common(10))"
   ]
  }
 ],
 "metadata": {
  "colab": {
   "name": "NLTK.ipynb",
   "provenance": []
  },
  "kernelspec": {
   "display_name": "Python 3 (ipykernel)",
   "language": "python",
   "name": "python3"
  },
  "language_info": {
   "codemirror_mode": {
    "name": "ipython",
    "version": 3
   },
   "file_extension": ".py",
   "mimetype": "text/x-python",
   "name": "python",
   "nbconvert_exporter": "python",
   "pygments_lexer": "ipython3",
   "version": "3.9.6"
  },
  "latex_envs": {
   "LaTeX_envs_menu_present": true,
   "autoclose": false,
   "autocomplete": true,
   "bibliofile": "biblio.bib",
   "cite_by": "apalike",
   "current_citInitial": 1,
   "eqLabelWithNumbers": true,
   "eqNumInitial": 1,
   "hotkeys": {
    "equation": "Ctrl-E",
    "itemize": "Ctrl-I"
   },
   "labels_anchors": false,
   "latex_user_defs": false,
   "report_style_numbering": false,
   "user_envs_cfg": false
  },
  "toc": {
   "base_numbering": 1,
   "nav_menu": {},
   "number_sections": true,
   "sideBar": true,
   "skip_h1_title": false,
   "title_cell": "Table of Contents",
   "title_sidebar": "Contents",
   "toc_cell": false,
   "toc_position": {},
   "toc_section_display": true,
   "toc_window_display": false
  },
  "varInspector": {
   "cols": {
    "lenName": 16,
    "lenType": 16,
    "lenVar": 40
   },
   "kernels_config": {
    "python": {
     "delete_cmd_postfix": "",
     "delete_cmd_prefix": "del ",
     "library": "var_list.py",
     "varRefreshCmd": "print(var_dic_list())"
    },
    "r": {
     "delete_cmd_postfix": ") ",
     "delete_cmd_prefix": "rm(",
     "library": "var_list.r",
     "varRefreshCmd": "cat(var_dic_list()) "
    }
   },
   "types_to_exclude": [
    "module",
    "function",
    "builtin_function_or_method",
    "instance",
    "_Feature"
   ],
   "window_display": false
  }
 },
 "nbformat": 4,
 "nbformat_minor": 1
}
