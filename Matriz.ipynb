{
 "cells": [
  {
   "cell_type": "code",
   "execution_count": 94,
   "metadata": {},
   "outputs": [
    {
     "name": "stdout",
     "output_type": "stream",
     "text": [
      "         v1        v2        v3        v4        v5        v6        v7  \\\n",
      "0  1.000000  0.061988 -0.625830 -0.550944  0.020692 -0.092323  0.553243   \n",
      "1  0.061988  1.000000 -0.306123 -0.429698 -0.426412 -0.261957 -0.035031   \n",
      "2 -0.625830 -0.306123  1.000000  0.832299  0.328504  0.328787 -0.323213   \n",
      "3 -0.550944 -0.429698  0.832299  1.000000  0.444633  0.379907 -0.122224   \n",
      "4  0.020692 -0.426412  0.328504  0.444633  1.000000  0.780361 -0.024135   \n",
      "5 -0.092323 -0.261957  0.328787  0.379907  0.780361  1.000000 -0.197662   \n",
      "6  0.553243 -0.035031 -0.323213 -0.122224 -0.024135 -0.197662  1.000000   \n",
      "7  0.276415  0.205071 -0.065886  0.089269 -0.109033 -0.145275  0.617889   \n",
      "8  0.509128 -0.070340 -0.486738 -0.452603 -0.195605 -0.269008  0.045440   \n",
      "\n",
      "         v8        v9  \n",
      "0  0.276415  0.509128  \n",
      "1  0.205071 -0.070340  \n",
      "2 -0.065886 -0.486738  \n",
      "3  0.089269 -0.452603  \n",
      "4 -0.109033 -0.195605  \n",
      "5 -0.145275 -0.269008  \n",
      "6  0.617889  0.045440  \n",
      "7  1.000000 -0.080270  \n",
      "8 -0.080270  1.000000  \n",
      "                                                   0  \\\n",
      "0                                            3.45272   \n",
      "1  [0.3688311351413847, 0.4285326649598611, 0.210...   \n",
      "\n",
      "                                                   1  \\\n",
      "0                                            1.79159   \n",
      "1  [0.23827407544308332, -0.2814038609757356, -0....   \n",
      "\n",
      "                                                   2  \\\n",
      "0                                            1.54753   \n",
      "1  [-0.4623015965292984, -0.050650526776077606, -...   \n",
      "\n",
      "                                                   3  \\\n",
      "0                                           0.966277   \n",
      "1  [-0.4552806913061169, 0.13483097314615194, -0....   \n",
      "\n",
      "                                                   4  \\\n",
      "0                                           0.513195   \n",
      "1  [-0.322600008177797, 0.43756350017052476, 0.30...   \n",
      "\n",
      "                                                   5  \\\n",
      "0                                           0.108385   \n",
      "1  [-0.3354603765186231, 0.3027308929798783, 0.29...   \n",
      "\n",
      "                                                   6  \\\n",
      "0                                           0.254785   \n",
      "1  [0.23473284092606278, 0.5292291151659686, -0.3...   \n",
      "\n",
      "                                                   7  \\\n",
      "0                                           0.199802   \n",
      "1  [0.14060897639329714, 0.3899283252956019, -0.5...   \n",
      "\n",
      "                                                   8  \n",
      "0                                           0.165723  \n",
      "1  [0.3077514652287223, 0.034516509890974, 0.4256...  \n"
     ]
    },
    {
     "data": {
      "text/plain": [
       "(2, 9)"
      ]
     },
     "execution_count": 94,
     "metadata": {},
     "output_type": "execute_result"
    }
   ],
   "source": [
    "# -*- coding: utf-8 -*-\n",
    "# Script para gravar em planilha Excel os valores dos autovalores e autovetores\n",
    "import numpy as np\n",
    "import pandas as pd\n",
    "import matplotlib.pyplot as plt\n",
    "%matplotlib inline\n",
    "\n",
    "\n",
    "df = pd.read_excel (r'C:\\Users\\Rafael\\Documents\\Python Scripts\\Mcorrelacao.xlsx')\n",
    "print (df)\n",
    "\n",
    "\n",
    "ev=np.linalg.eig((df))\n",
    "ev=pd.DataFrame(ev) \n",
    "\n",
    "print (ev)\n",
    "\n",
    "ev.to_excel(\"output.xlsx\")\n",
    "ev.shape # Preciso ajustar o shape para um dataframe de matriz quadrada"
   ]
  },
  {
   "cell_type": "code",
   "execution_count": 18,
   "metadata": {},
   "outputs": [
    {
     "name": "stdout",
     "output_type": "stream",
     "text": [
      "a =  [0, 7, 2, 3, 4]\n",
      "b =  [0, 7, 2, 3, 4]\n"
     ]
    }
   ],
   "source": [
    "def main():\n",
    "    a = [0, 1, 2, 3, 4]\n",
    "    b = a # b e apelido para a\n",
    "    b[1] = 7\n",
    "    print(\"a = \", a)\n",
    "    print(\"b = \", b)\n",
    "\n",
    "main()"
   ]
  },
  {
   "cell_type": "code",
   "execution_count": 88,
   "metadata": {},
   "outputs": [
    {
     "name": "stdout",
     "output_type": "stream",
     "text": [
      "                                                   0  \\\n",
      "0                                            3.45272   \n",
      "1  [0.3688311351413847, 0.4285326649598611, 0.210...   \n",
      "\n",
      "                                                   1  \\\n",
      "0                                            1.79159   \n",
      "1  [0.23827407544308332, -0.2814038609757356, -0....   \n",
      "\n",
      "                                                   2  \\\n",
      "0                                            1.54753   \n",
      "1  [-0.4623015965292984, -0.050650526776077606, -...   \n",
      "\n",
      "                                                   3  \\\n",
      "0                                           0.966277   \n",
      "1  [-0.4552806913061169, 0.13483097314615194, -0....   \n",
      "\n",
      "                                                   4  \\\n",
      "0                                           0.513195   \n",
      "1  [-0.322600008177797, 0.43756350017052476, 0.30...   \n",
      "\n",
      "                                                   5  \\\n",
      "0                                           0.108385   \n",
      "1  [-0.3354603765186231, 0.3027308929798783, 0.29...   \n",
      "\n",
      "                                                   6  \\\n",
      "0                                           0.254785   \n",
      "1  [0.23473284092606278, 0.5292291151659686, -0.3...   \n",
      "\n",
      "                                                   7  \\\n",
      "0                                           0.199802   \n",
      "1  [0.14060897639329714, 0.3899283252956019, -0.5...   \n",
      "\n",
      "                                                   8  \n",
      "0                                           0.165723  \n",
      "1  [0.3077514652287223, 0.034516509890974, 0.4256...  \n"
     ]
    },
    {
     "data": {
      "text/plain": [
       "(2, 9)"
      ]
     },
     "execution_count": 88,
     "metadata": {},
     "output_type": "execute_result"
    }
   ],
   "source": [
    "print(ev)\n",
    "ev.shape"
   ]
  },
  {
   "cell_type": "code",
   "execution_count": 90,
   "metadata": {},
   "outputs": [
    {
     "ename": "AttributeError",
     "evalue": "'DataFrame' object has no attribute 'arange'",
     "output_type": "error",
     "traceback": [
      "\u001b[1;31m---------------------------------------------------------------------------\u001b[0m",
      "\u001b[1;31mAttributeError\u001b[0m                            Traceback (most recent call last)",
      "\u001b[1;32m<ipython-input-90-4614c268e1fc>\u001b[0m in \u001b[0;36m<module>\u001b[1;34m\u001b[0m\n\u001b[1;32m----> 1\u001b[1;33m \u001b[0ma\u001b[0m \u001b[1;33m=\u001b[0m \u001b[0mev\u001b[0m\u001b[1;33m.\u001b[0m\u001b[0marange\u001b[0m\u001b[1;33m(\u001b[0m\u001b[1;36m81\u001b[0m\u001b[1;33m)\u001b[0m\u001b[1;33m\u001b[0m\u001b[1;33m\u001b[0m\u001b[0m\n\u001b[0m",
      "\u001b[1;32m~\\anaconda3\\lib\\site-packages\\pandas\\core\\generic.py\u001b[0m in \u001b[0;36m__getattr__\u001b[1;34m(self, name)\u001b[0m\n\u001b[0;32m   5272\u001b[0m             \u001b[1;32mif\u001b[0m \u001b[0mself\u001b[0m\u001b[1;33m.\u001b[0m\u001b[0m_info_axis\u001b[0m\u001b[1;33m.\u001b[0m\u001b[0m_can_hold_identifiers_and_holds_name\u001b[0m\u001b[1;33m(\u001b[0m\u001b[0mname\u001b[0m\u001b[1;33m)\u001b[0m\u001b[1;33m:\u001b[0m\u001b[1;33m\u001b[0m\u001b[1;33m\u001b[0m\u001b[0m\n\u001b[0;32m   5273\u001b[0m                 \u001b[1;32mreturn\u001b[0m \u001b[0mself\u001b[0m\u001b[1;33m[\u001b[0m\u001b[0mname\u001b[0m\u001b[1;33m]\u001b[0m\u001b[1;33m\u001b[0m\u001b[1;33m\u001b[0m\u001b[0m\n\u001b[1;32m-> 5274\u001b[1;33m             \u001b[1;32mreturn\u001b[0m \u001b[0mobject\u001b[0m\u001b[1;33m.\u001b[0m\u001b[0m__getattribute__\u001b[0m\u001b[1;33m(\u001b[0m\u001b[0mself\u001b[0m\u001b[1;33m,\u001b[0m \u001b[0mname\u001b[0m\u001b[1;33m)\u001b[0m\u001b[1;33m\u001b[0m\u001b[1;33m\u001b[0m\u001b[0m\n\u001b[0m\u001b[0;32m   5275\u001b[0m \u001b[1;33m\u001b[0m\u001b[0m\n\u001b[0;32m   5276\u001b[0m     \u001b[1;32mdef\u001b[0m \u001b[0m__setattr__\u001b[0m\u001b[1;33m(\u001b[0m\u001b[0mself\u001b[0m\u001b[1;33m,\u001b[0m \u001b[0mname\u001b[0m\u001b[1;33m:\u001b[0m \u001b[0mstr\u001b[0m\u001b[1;33m,\u001b[0m \u001b[0mvalue\u001b[0m\u001b[1;33m)\u001b[0m \u001b[1;33m->\u001b[0m \u001b[1;32mNone\u001b[0m\u001b[1;33m:\u001b[0m\u001b[1;33m\u001b[0m\u001b[1;33m\u001b[0m\u001b[0m\n",
      "\u001b[1;31mAttributeError\u001b[0m: 'DataFrame' object has no attribute 'arange'"
     ]
    }
   ],
   "source": [
    "a = ev.arange(81)"
   ]
  },
  {
   "cell_type": "code",
   "execution_count": 67,
   "metadata": {},
   "outputs": [
    {
     "ename": "AttributeError",
     "evalue": "'tuple' object has no attribute 'to_excel'",
     "output_type": "error",
     "traceback": [
      "\u001b[1;31m---------------------------------------------------------------------------\u001b[0m",
      "\u001b[1;31mAttributeError\u001b[0m                            Traceback (most recent call last)",
      "\u001b[1;32m<ipython-input-67-cd77b294dfb7>\u001b[0m in \u001b[0;36m<module>\u001b[1;34m\u001b[0m\n\u001b[1;32m----> 1\u001b[1;33m \u001b[0mev\u001b[0m\u001b[1;33m.\u001b[0m\u001b[0mto_excel\u001b[0m\u001b[1;33m(\u001b[0m\u001b[1;34m\"output.xlsx\"\u001b[0m\u001b[1;33m)\u001b[0m\u001b[1;33m\u001b[0m\u001b[1;33m\u001b[0m\u001b[0m\n\u001b[0m",
      "\u001b[1;31mAttributeError\u001b[0m: 'tuple' object has no attribute 'to_excel'"
     ]
    }
   ],
   "source": [
    "ev.to_excel(\"output.xlsx\")"
   ]
  },
  {
   "cell_type": "code",
   "execution_count": null,
   "metadata": {},
   "outputs": [],
   "source": []
  }
 ],
 "metadata": {
  "kernelspec": {
   "display_name": "Python 3",
   "language": "python",
   "name": "python3"
  },
  "language_info": {
   "codemirror_mode": {
    "name": "ipython",
    "version": 3
   },
   "file_extension": ".py",
   "mimetype": "text/x-python",
   "name": "python",
   "nbconvert_exporter": "python",
   "pygments_lexer": "ipython3",
   "version": "3.7.6"
  }
 },
 "nbformat": 4,
 "nbformat_minor": 4
}
