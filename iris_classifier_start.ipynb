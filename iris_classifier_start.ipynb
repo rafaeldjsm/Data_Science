{
  "nbformat": 4,
  "nbformat_minor": 0,
  "metadata": {
    "colab": {
      "name": "iris-classifier-start.ipynb",
      "provenance": [],
      "collapsed_sections": [],
      "include_colab_link": true
    },
    "kernelspec": {
      "name": "python3",
      "display_name": "Python 3"
    }
  },
  "cells": [
    {
      "cell_type": "markdown",
      "metadata": {
        "id": "view-in-github",
        "colab_type": "text"
      },
      "source": [
        "<a href=\"https://colab.research.google.com/github/rafaeldjsm/Data_Science/blob/master/iris_classifier_start.ipynb\" target=\"_parent\"><img src=\"https://colab.research.google.com/assets/colab-badge.svg\" alt=\"Open In Colab\"/></a>"
      ]
    },
    {
      "cell_type": "markdown",
      "metadata": {
        "id": "o0FydRedUP27"
      },
      "source": [
        "# Turning a Google Colab notebook into a web app\n",
        "\n",
        "---\n",
        "\n",
        "### This notebook is designed to be used alongside Anvil's [turning a Colab notebook into a web app tutorial](https://anvil.works/learn/tutorials/google-colab-to-web-app).\n",
        "\n",
        "The text cells below tell you the steps you need to take to connect this notebook to an Anvil app. The steps are:\n",
        "\n",
        "\n",
        "1. Install the `anvil-uplink` library\n",
        "2. Import the `anvil.server` package\n",
        "3. Connect the notebook using your apps Uplink key\n",
        "4. Create a function to call from your app that includes the `anvil.server.callable` decorator\n",
        "5. Add `anvil.server.wait_forever()` to the end of the notebook\n",
        "\n",
        "### Follow along below for more detail.\n",
        "\n",
        "---\n",
        "\n",
        "\n",
        "\n"
      ]
    },
    {
      "cell_type": "markdown",
      "metadata": {
        "id": "XRNEq2Tb5gnq"
      },
      "source": [
        "### Let's start by installing the `anvil-uplink` library, all we need to do is add `!pip install anvil-uplink` to the first cell of the notebook:"
      ]
    },
    {
      "cell_type": "code",
      "metadata": {
        "id": "5BvNgFgk5dE2"
      },
      "source": [
        "# pip install anvil-uplink"
      ],
      "execution_count": 1,
      "outputs": []
    },
    {
      "cell_type": "markdown",
      "metadata": {
        "id": "WOjHWnhO5k0x"
      },
      "source": [
        "### Next import the Anvil server package by adding `import anvil.server`:\n",
        "\n",
        "Importing `anvil.server` means, when this notebook is connected via the Uplink, it will behave in the same way as any other [Anvil Server Module](https://anvil.works/docs/server)."
      ]
    },
    {
      "cell_type": "code",
      "metadata": {
        "id": "EML6wBYQ5fiM"
      },
      "source": [
        "import anvil.server"
      ],
      "execution_count": 2,
      "outputs": []
    },
    {
      "cell_type": "markdown",
      "metadata": {
        "id": "-cuHx3s3Vm52"
      },
      "source": [
        ""
      ]
    },
    {
      "cell_type": "markdown",
      "metadata": {
        "id": "RV2ze8a7ScHo"
      },
      "source": [
        "### Then connect this notebook to your app using your Uplink key `anvil.server.connect(\"your-uplink-key\")`:\n",
        "\n",
        "For information on how to get your apps Uplink key, see [Step 4 - Enable the Uplink](https://anvil.works/learn/tutorials/google-colab-to-web-app#step-4-enable-the-uplink)."
      ]
    },
    {
      "cell_type": "code",
      "metadata": {
        "id": "MA9-qSCOSckw",
        "colab": {
          "base_uri": "https://localhost:8080/"
        },
        "outputId": "69cc0f6e-0f26-4395-c973-c796f96f2a6f"
      },
      "source": [
        "anvil.server.connect(\"LAHWLV27C7KTUBBDTMEJMHDW-24JS2UWI6ZAXDGOY\")"
      ],
      "execution_count": 3,
      "outputs": [
        {
          "output_type": "stream",
          "name": "stdout",
          "text": [
            "Connecting to wss://anvil.works/uplink\n",
            "Anvil websocket open\n",
            "Connected to \"Default environment\" as SERVER\n"
          ]
        }
      ]
    },
    {
      "cell_type": "markdown",
      "metadata": {
        "id": "Mlf9a7vM_PVF"
      },
      "source": [
        "### Build and train the classification model\n",
        "\n",
        "The next cell gets the dataset, finds an optimal number of neighbours and then builds and trains the model. How this works is outside the scope of this tutorial, however, if you want to read more about how the code below works, Towards Data Science has a useful article [here](https://towardsdatascience.com/knn-using-scikit-learn-c6bed765be75).\n",
        "\n",
        "#### *We don't need to change anything in the next cell.*\n"
      ]
    },
    {
      "cell_type": "code",
      "metadata": {
        "id": "Z9FGGe-2-V79",
        "outputId": "ada35426-a20b-4f65-928b-2d0a06a16e7b",
        "colab": {
          "base_uri": "https://localhost:8080/"
        }
      },
      "source": [
        "import matplotlib.pyplot as plt\n",
        "from sklearn import metrics\n",
        "from sklearn.datasets import load_iris\n",
        "from sklearn.model_selection import train_test_split\n",
        "from sklearn.neighbors import KNeighborsClassifier\n",
        "\n",
        "iris = load_iris()\n",
        "X = iris.data\n",
        "y = iris.target\n",
        "\n",
        "X_train, X_test, y_train, y_test = train_test_split(X, y, test_size=0.2 , random_state=4)\n",
        "\n",
        "# The following code is used only when needing to find the optimal n_neighbors\n",
        "\"\"\"\n",
        "scores = {}\n",
        "scores_list = []\n",
        "k_range = range(1, 26)\n",
        "for k in k_range:\n",
        "  knn = KNeighborsClassifier(n_neighbors=k)\n",
        "  knn.fit(X_train, y_train)\n",
        "  y_pred = knn.predict(X_test)\n",
        "  scores[k] = metrics.accuracy_score(y_test, y_pred)\n",
        "  scores_list.append(metrics.accuracy_score(y_test, y_pred))\n",
        "\n",
        "plt.plot(k_range,scores_list) \n",
        "plt.xlabel('Value of K for KNN')\n",
        "plt.ylabel('Testing Accuracy')\n",
        "\"\"\"\n",
        "\n",
        "knn = KNeighborsClassifier(n_neighbors=10)\n",
        "knn.fit(X,y)"
      ],
      "execution_count": 4,
      "outputs": [
        {
          "output_type": "execute_result",
          "data": {
            "text/plain": [
              "KNeighborsClassifier(n_neighbors=10)"
            ]
          },
          "metadata": {},
          "execution_count": 4
        }
      ]
    },
    {
      "cell_type": "markdown",
      "metadata": {
        "id": "Gdil_W7b-N9Z"
      },
      "source": [
        "### Next, we will create our `predict_iris()` function with a `@anvil.server.callable` decorator. The decorator makes the function callable from our Anvil app. \n",
        "Add the following code to the next cell:\n",
        "```\n",
        "@anvil.server.callable\n",
        "def predict_iris(sepal_length, sepal_width, petal_length, petal_width):\n",
        "  classification = knn.predict([[sepal_length, sepal_width, petal_length, petal_width]])\n",
        "  return iris.target_names[classification][0]\n",
        "```\n",
        "\n",
        "\n",
        "\n"
      ]
    },
    {
      "cell_type": "code",
      "metadata": {
        "id": "ChnTYxx3-MRt"
      },
      "source": [
        "@anvil.server.callable\n",
        "def predict_iris(sepal_length, sepal_width, petal_length, petal_width):\n",
        "  classification = knn.predict([[sepal_length, sepal_width, petal_length, petal_width]])\n",
        "  return iris.target_names[classification][0]"
      ],
      "execution_count": 8,
      "outputs": []
    },
    {
      "cell_type": "code",
      "source": [
        "predict_iris(3,3,2,3)"
      ],
      "metadata": {
        "colab": {
          "base_uri": "https://localhost:8080/",
          "height": 35
        },
        "id": "dG-55II3-ajk",
        "outputId": "cef66572-41d1-4a4d-c218-75725f81e433"
      },
      "execution_count": 9,
      "outputs": [
        {
          "output_type": "execute_result",
          "data": {
            "text/plain": [
              "'setosa'"
            ],
            "application/vnd.google.colaboratory.intrinsic+json": {
              "type": "string"
            }
          },
          "metadata": {},
          "execution_count": 9
        }
      ]
    },
    {
      "cell_type": "markdown",
      "metadata": {
        "id": "Y54Z7Ano6wT4"
      },
      "source": [
        "### Finally, let's add `anvil.server.wait_forever()` function so the notebook is always available to the web app:"
      ]
    },
    {
      "cell_type": "code",
      "metadata": {
        "id": "JF1L5rHt6wh6"
      },
      "source": [
        "anvil.server.wait_forever()"
      ],
      "execution_count": null,
      "outputs": []
    },
    {
      "cell_type": "markdown",
      "metadata": {
        "id": "WR1p147uXX0z"
      },
      "source": [
        "---\n",
        "\n",
        "## That's it, 5 simple steps to connect your notebook to your Anvil app! \n",
        "\n",
        "---"
      ]
    },
    {
      "cell_type": "markdown",
      "source": [
        "https://24JS2UWI6ZAXDGOY.anvil.app/H6DIMMXIUAGR6FFZQCENWTAP"
      ],
      "metadata": {
        "id": "iSK-BZjdEbph"
      }
    }
  ]
}