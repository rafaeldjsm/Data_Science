{
 "cells": [
  {
   "cell_type": "code",
   "execution_count": 2,
   "metadata": {},
   "outputs": [
    {
     "ename": "Terminator",
     "evalue": "",
     "output_type": "error",
     "traceback": [
      "\u001b[1;31m---------------------------------------------------------------------------\u001b[0m",
      "\u001b[1;31mTerminator\u001b[0m                                Traceback (most recent call last)",
      "\u001b[1;32m<ipython-input-2-52389cd8d3b1>\u001b[0m in \u001b[0;36m<module>\u001b[1;34m\u001b[0m\n\u001b[0;32m     23\u001b[0m \u001b[1;33m\u001b[0m\u001b[0m\n\u001b[0;32m     24\u001b[0m \u001b[0mturtle\u001b[0m\u001b[1;33m.\u001b[0m\u001b[0mdone\u001b[0m\u001b[1;33m(\u001b[0m\u001b[1;33m)\u001b[0m\u001b[1;33m\u001b[0m\u001b[1;33m\u001b[0m\u001b[0m\n\u001b[1;32m---> 25\u001b[1;33m \u001b[0mturtle\u001b[0m\u001b[1;33m.\u001b[0m\u001b[0mexitonclick\u001b[0m\u001b[1;33m(\u001b[0m\u001b[1;33m)\u001b[0m\u001b[1;33m\u001b[0m\u001b[1;33m\u001b[0m\u001b[0m\n\u001b[0m",
      "\u001b[1;32mc:\\program files (x86)\\python38-32\\lib\\turtle.py\u001b[0m in \u001b[0;36mexitonclick\u001b[1;34m()\u001b[0m\n",
      "\u001b[1;31mTerminator\u001b[0m: "
     ]
    }
   ],
   "source": [
    "import turtle\n",
    "\n",
    "wn = turtle.Screen()\n",
    "wn.bgcolor(\"#90ee90\") #rgb 144 238 144\n",
    "rafturtle = turtle.Turtle()\n",
    "\n",
    "rafturtle.shape(\"turtle\")\n",
    "rafturtle.color(\"blue\")\n",
    "rafturtle.pensize(3)\n",
    "\n",
    "rafturtle.up()\n",
    "rafturtle.stamp()\n",
    "\n",
    "for k in range(12):\n",
    "    rafturtle.forward(110)\n",
    "    rafturtle.down()\n",
    "    rafturtle.forward(10)\n",
    "    rafturtle.up()\n",
    "    rafturtle.forward(30)\n",
    "    rafturtle.stamp()\n",
    "    rafturtle.forward(-150)\n",
    "    rafturtle.right(30)\n",
    "\n",
    "turtle.done()\n",
    "turtle.exitonclick()"
   ]
  },
  {
   "cell_type": "code",
   "execution_count": 1,
   "metadata": {},
   "outputs": [
    {
     "name": "stdout",
     "output_type": "stream",
     "text": [
      "entre com a quantidade de números:7\n",
      "digite o valor do número:6\n",
      "digite o valor do número:-2\n",
      "digite o valor do número:7\n",
      "digite o valor do número:0\n",
      "digite o valor do número:-5\n",
      "digite o valor do número:8\n",
      "digite o valor do número:4\n",
      "Existem 5 pares e 2 impares\n"
     ]
    }
   ],
   "source": [
    "# escreva o seu programa\n",
    "# 6   -2   7   0  -5   8  4\n",
    "n = int(input(\"entre com a quantidade de números:\"))\n",
    "\n",
    "contpar = 0\n",
    "\n",
    "for k in range(n):\n",
    "    num =  int(input(\"digite o valor do número:\"))\n",
    "    if num % 2 == 0:\n",
    "        contpar = contpar + 1\n",
    "    \n",
    "    \n",
    "print(\"Existem\",contpar,\"pares e\",n-contpar,\"impares\")"
   ]
  },
  {
   "cell_type": "code",
   "execution_count": 16,
   "metadata": {},
   "outputs": [
    {
     "name": "stdout",
     "output_type": "stream",
     "text": [
      "entre com a quantidade de números:120\n",
      "120 é triangular e divisível por 2 3 e 4\n",
      "120 é triangular e divisível por 3 4 e 5\n",
      "120 é triangular e divisível por 4 5 e 6\n",
      "120 não é primo\n"
     ]
    }
   ],
   "source": [
    "n = int(input(\"entre com a quantidade de números:\"))\n",
    "\n",
    "div = 0\n",
    "tring = 0 \n",
    "for k in range(2,int(n**0.5)+1):\n",
    "    if n % k == 0:\n",
    "        div = div + 1        \n",
    "        if n % k == 0 and n % (k+1) == 0 and n % (k+2) == 0:\n",
    "            tring = tring + 1\n",
    "            print(n,\"é triangular e divisível por\",k,k+1,\"e\",k+2)\n",
    "                    \n",
    "if div == 0:\n",
    "    print(n,\"é um número primo\")\n",
    "else:\n",
    "    print(n,\"não é primo\")    \n",
    "    if tring == 0:\n",
    "        print(n,\"não é tringular\")"
   ]
  },
  {
   "cell_type": "code",
   "execution_count": 32,
   "metadata": {},
   "outputs": [
    {
     "name": "stdout",
     "output_type": "stream",
     "text": [
      "Digite um número inteiro: 45897\n",
      "não primo\n"
     ]
    }
   ],
   "source": [
    "#primo e não primo\n",
    "\n",
    "n = int(input(\"Digite um número inteiro: \"))\n",
    "\n",
    "div = 0\n",
    "k = 2\n",
    "\n",
    "while k <= int(n**0.5):\n",
    "    if n % k == 0:\n",
    "        div = div + 1\n",
    "    k+= 1\n",
    "                  \n",
    "if div == 0:\n",
    "    print(\"primo\")\n",
    "else:\n",
    "    print(\"não primo\")"
   ]
  },
  {
   "cell_type": "code",
   "execution_count": 19,
   "metadata": {},
   "outputs": [
    {
     "name": "stdout",
     "output_type": "stream",
     "text": [
      "Digite o numero de alunos: 7\n",
      "Digite uma nota: 6\n",
      "Digite uma nota: 2.3\n",
      "Digite uma nota: 3\n",
      "Digite uma nota: 5\n",
      "Digite uma nota: 6.5\n",
      "Digite uma nota: 8.7\n",
      "Digite uma nota: 4.9\n",
      "1 Alunos foram reprovados\n",
      "2 Alunos ficaram de recuperação\n",
      "4 Alunos foram aprovados\n",
      "1 Alunos tiveram desempenho muito bom\n"
     ]
    }
   ],
   "source": [
    "#6   2.3   3   5.0  6.5  8.7  4.9\n",
    "\n",
    "'''\n",
    "Total de alunos= 6\n",
    "Numero de alunos reprovados = 1\n",
    "Numero de alunos de recuperacao = 2\n",
    "Numero de alunos aprovados = 3\n",
    "Numero de alunos com desempenho muito bom = 1\n",
    "'''\n",
    "\n",
    "n = int(input(\"Digite o numero de alunos: \"))\n",
    "soma = 0\n",
    "cont_rec = 0\n",
    "cont_rep = 0\n",
    "cont_ap = 0\n",
    "cont_mb = 0\n",
    "for k in range(n):\n",
    "    nota = float(input(\"Digite uma nota: \"))  # veja o float() aqui\n",
    "    cont = cont +1\n",
    "    if nota < 3:\n",
    "        cont_rep = cont_rep +1    \n",
    "    \n",
    "    elif nota < 5:\n",
    "        cont_rec = cont_rec +1\n",
    "        \n",
    "    elif nota < 8:\n",
    "        cont_ap = cont_ap +1\n",
    "\n",
    "print(cont_rep,\"Alunos foram reprovados\")\n",
    "print(cont_rec,\"Alunos ficaram de recuperação\")\n",
    "print(n-cont_rep-cont_rec,\"Alunos foram aprovados\")\n",
    "print(n-cont_rep-cont_rec-cont_ap,\"Alunos tiveram desempenho muito bom\")"
   ]
  },
  {
   "cell_type": "code",
   "execution_count": 23,
   "metadata": {},
   "outputs": [
    {
     "name": "stdout",
     "output_type": "stream",
     "text": [
      "Entre com o número: 1234556\n",
      "O número contém digitos adjacentes\n"
     ]
    }
   ],
   "source": [
    "# 1234321 a resposta é não e\n",
    "# 1234556 a resposta é sim.\n",
    "\n",
    "\n",
    "n = int(input(\"Entre com o número: \"))\n",
    "\n",
    "k = n\n",
    "w = n % 10\n",
    "adj = 0\n",
    "\n",
    "while k > 0:\n",
    "    k = k // 10\n",
    "    if w == k % 10:\n",
    "        adj = adj +1\n",
    "        print(\"O número contém digitos adjacentes\")\n",
    "    w = k % 10\n",
    "    \n",
    "if adj == 0:\n",
    "    print(\"O número não contém digitos adjacentes\")"
   ]
  },
  {
   "cell_type": "code",
   "execution_count": 23,
   "metadata": {},
   "outputs": [
    {
     "name": "stdout",
     "output_type": "stream",
     "text": [
      "Digite um número inteiro: 1011\n",
      "sim\n"
     ]
    }
   ],
   "source": [
    "# Números adjacentes\n",
    "\n",
    "n = int(input(\"Digite um número inteiro: \"))\n",
    "\n",
    "k = n\n",
    "w = n % 10\n",
    "adj = 0\n",
    "\n",
    "while k > 0:\n",
    "    k = k // 10\n",
    "    if w == k % 10:\n",
    "        adj = adj +1\n",
    "        print(\"sim\")\n",
    "    w = k % 10\n",
    "    \n",
    "if adj == 0:\n",
    "    print(\"não\")"
   ]
  },
  {
   "cell_type": "code",
   "execution_count": 6,
   "metadata": {},
   "outputs": [
    {
     "name": "stdout",
     "output_type": "stream",
     "text": [
      "Digite o valor de n: 5\n",
      "120\n"
     ]
    }
   ],
   "source": [
    "#Fatorial\n",
    "n = int(input(\"Digite o valor de n: \"))\n",
    "k = 1\n",
    "fat = 1\n",
    "while k <= n:\n",
    "    fat = fat * k \n",
    "    k+=1\n",
    "print(fat)    "
   ]
  },
  {
   "cell_type": "code",
   "execution_count": 10,
   "metadata": {},
   "outputs": [
    {
     "name": "stdout",
     "output_type": "stream",
     "text": [
      "Digite o valor de n: 5\n",
      "1\n",
      "3\n",
      "5\n",
      "7\n",
      "9\n"
     ]
    }
   ],
   "source": [
    "#N Prmeiros impares\n",
    "n = int(input(\"Digite o valor de n: \"))\n",
    "k = 0\n",
    "\n",
    "while k < n:\n",
    "    print(2*k+1)\n",
    "    k+=1"
   ]
  },
  {
   "cell_type": "code",
   "execution_count": 12,
   "metadata": {},
   "outputs": [
    {
     "name": "stdout",
     "output_type": "stream",
     "text": [
      "Digite um número inteiro: 123456789\n",
      "45\n"
     ]
    }
   ],
   "source": [
    "#Soma dos dígitos\n",
    "n = int(input(\"Digite um número inteiro: \"))\n",
    "\n",
    "cnt = n\n",
    "k = 0\n",
    "\n",
    "while cnt > 0:\n",
    "    k = k + cnt % 10\n",
    "    cnt = cnt // 10\n",
    "    \n",
    "print(k)"
   ]
  },
  {
   "cell_type": "code",
   "execution_count": null,
   "metadata": {},
   "outputs": [],
   "source": []
  }
 ],
 "metadata": {
  "kernelspec": {
   "display_name": "Python 3",
   "language": "python",
   "name": "python3"
  },
  "language_info": {
   "codemirror_mode": {
    "name": "ipython",
    "version": 3
   },
   "file_extension": ".py",
   "mimetype": "text/x-python",
   "name": "python",
   "nbconvert_exporter": "python",
   "pygments_lexer": "ipython3",
   "version": "3.8.5"
  }
 },
 "nbformat": 4,
 "nbformat_minor": 4
}
