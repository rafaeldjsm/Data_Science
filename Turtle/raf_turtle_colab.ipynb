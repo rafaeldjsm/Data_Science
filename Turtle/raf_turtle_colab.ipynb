{
  "nbformat": 4,
  "nbformat_minor": 0,
  "metadata": {
    "colab": {
      "name": "raf_turtle_colab.ipynb",
      "provenance": [],
      "collapsed_sections": [],
      "authorship_tag": "ABX9TyMX8cnD80ZuJX+Men1W1fma",
      "include_colab_link": true
    },
    "kernelspec": {
      "name": "python3",
      "display_name": "Python 3"
    },
    "language_info": {
      "name": "python"
    }
  },
  "cells": [
    {
      "cell_type": "markdown",
      "metadata": {
        "id": "view-in-github",
        "colab_type": "text"
      },
      "source": [
        "<a href=\"https://colab.research.google.com/github/rafaeldjsm/Data_Science_Raf/blob/master/Turtle/raf_turtle_colab.ipynb\" target=\"_parent\"><img src=\"https://colab.research.google.com/assets/colab-badge.svg\" alt=\"Open In Colab\"/></a>"
      ]
    },
    {
      "cell_type": "code",
      "metadata": {
        "colab": {
          "base_uri": "https://localhost:8080/"
        },
        "id": "QHkhqxh7XUlX",
        "outputId": "55f8019c-73c9-4177-92dd-4fc85ff80c64"
      },
      "source": [
        "!pip3 install ColabTurtle"
      ],
      "execution_count": 1,
      "outputs": [
        {
          "output_type": "stream",
          "name": "stdout",
          "text": [
            "Requirement already satisfied: ColabTurtle in /usr/local/lib/python3.7/dist-packages (2.1.0)\n"
          ]
        }
      ]
    },
    {
      "cell_type": "code",
      "metadata": {
        "colab": {
          "base_uri": "https://localhost:8080/",
          "height": 521
        },
        "id": "3Xp6vHenWCS8",
        "outputId": "7e732c2e-3830-4011-e8e4-e324358eadc9"
      },
      "source": [
        "import ColabTurtle.Turtle as rafturtle\n",
        "\n",
        "rafturtle.initializeTurtle()\n",
        "rafturtle.bgcolor(\"rgb(144 238 144)\")\n",
        "\n",
        "rafturtle.shape(\"turtle\")\n",
        "rafturtle.color(\"blue\")\n",
        "rafturtle.pensize(3)\n",
        "\n",
        "rafturtle.up()\n",
        "rafturtle.isvisible()\n",
        "\n",
        "for k in range(12):\n",
        "    rafturtle.forward(110)\n",
        "    rafturtle.down()\n",
        "    rafturtle.forward(10)\n",
        "    rafturtle.up()\n",
        "    rafturtle.forward(30)\n",
        "    rafturtle.isvisible()\n",
        "    rafturtle.forward(-150)\n",
        "    rafturtle.right(30)"
      ],
      "execution_count": 2,
      "outputs": [
        {
          "output_type": "display_data",
          "data": {
            "text/html": [
              "\n",
              "      <svg width=\"800\" height=\"500\">\n",
              "        <rect width=\"100%\" height=\"100%\" fill=\"rgb(144 238 144)\"/>\n",
              "        <line x1=\"400.0\" y1=\"140.0\" x2=\"400.0\" y2=\"130.0\" stroke-linecap=\"round\" style=\"stroke:blue;stroke-width:3\"/><line x1=\"455.0\" y1=\"154.737\" x2=\"460.0\" y2=\"146.077\" stroke-linecap=\"round\" style=\"stroke:blue;stroke-width:3\"/><line x1=\"495.263\" y1=\"195.0\" x2=\"503.923\" y2=\"190.0\" stroke-linecap=\"round\" style=\"stroke:blue;stroke-width:3\"/><line x1=\"510.0\" y1=\"250.0\" x2=\"520.0\" y2=\"250.0\" stroke-linecap=\"round\" style=\"stroke:blue;stroke-width:3\"/><line x1=\"495.263\" y1=\"305.0\" x2=\"503.923\" y2=\"310.0\" stroke-linecap=\"round\" style=\"stroke:blue;stroke-width:3\"/><line x1=\"455.0\" y1=\"345.263\" x2=\"460.0\" y2=\"353.923\" stroke-linecap=\"round\" style=\"stroke:blue;stroke-width:3\"/><line x1=\"400.0\" y1=\"360.0\" x2=\"400.0\" y2=\"370.0\" stroke-linecap=\"round\" style=\"stroke:blue;stroke-width:3\"/><line x1=\"345.0\" y1=\"345.263\" x2=\"340.0\" y2=\"353.923\" stroke-linecap=\"round\" style=\"stroke:blue;stroke-width:3\"/><line x1=\"304.737\" y1=\"305.0\" x2=\"296.077\" y2=\"310.0\" stroke-linecap=\"round\" style=\"stroke:blue;stroke-width:3\"/><line x1=\"290.0\" y1=\"250.0\" x2=\"280.0\" y2=\"250.0\" stroke-linecap=\"round\" style=\"stroke:blue;stroke-width:3\"/><line x1=\"304.737\" y1=\"195.0\" x2=\"296.077\" y2=\"190.0\" stroke-linecap=\"round\" style=\"stroke:blue;stroke-width:3\"/><line x1=\"345.0\" y1=\"154.737\" x2=\"340.0\" y2=\"146.077\" stroke-linecap=\"round\" style=\"stroke:blue;stroke-width:3\"/>\n",
              "        <g visibility=visible transform=\"rotate(360,400.0,250.0) translate(382.0, 232.0)\">\n",
              "<path style=\" stroke:none;fill-rule:evenodd;fill:blue;fill-opacity:1;\" d=\"M 18.214844 0.632812 C 16.109375 1.800781 15.011719 4.074219 15.074219 7.132812 L 15.085938 7.652344 L 14.785156 7.496094 C 13.476562 6.824219 11.957031 6.671875 10.40625 7.066406 C 8.46875 7.550781 6.515625 9.15625 4.394531 11.992188 C 3.0625 13.777344 2.679688 14.636719 3.042969 15.027344 L 3.15625 15.152344 L 3.519531 15.152344 C 4.238281 15.152344 4.828125 14.886719 8.1875 13.039062 C 9.386719 12.378906 10.371094 11.839844 10.378906 11.839844 C 10.386719 11.839844 10.355469 11.929688 10.304688 12.035156 C 9.832031 13.09375 9.257812 14.820312 8.96875 16.078125 C 7.914062 20.652344 8.617188 24.53125 11.070312 27.660156 C 11.351562 28.015625 11.363281 27.914062 10.972656 28.382812 C 8.925781 30.84375 7.945312 33.28125 8.238281 35.1875 C 8.289062 35.527344 8.28125 35.523438 8.917969 35.523438 C 10.941406 35.523438 13.074219 34.207031 15.136719 31.6875 C 15.359375 31.417969 15.328125 31.425781 15.5625 31.574219 C 16.292969 32.042969 18.023438 32.964844 18.175781 32.964844 C 18.335938 32.964844 19.941406 32.210938 20.828125 31.71875 C 20.996094 31.625 21.136719 31.554688 21.136719 31.558594 C 21.203125 31.664062 21.898438 32.414062 22.222656 32.730469 C 23.835938 34.300781 25.5625 35.132812 27.582031 35.300781 C 27.90625 35.328125 27.9375 35.308594 28.007812 34.984375 C 28.382812 33.242188 27.625 30.925781 25.863281 28.425781 L 25.542969 27.96875 L 25.699219 27.785156 C 28.945312 23.960938 29.132812 18.699219 26.257812 11.96875 L 26.207031 11.84375 L 27.945312 12.703125 C 31.53125 14.476562 32.316406 14.800781 33.03125 14.800781 C 33.976562 14.800781 33.78125 13.9375 32.472656 12.292969 C 28.519531 7.355469 25.394531 5.925781 21.921875 7.472656 L 21.558594 7.636719 L 21.578125 7.542969 C 21.699219 6.992188 21.761719 5.742188 21.699219 5.164062 C 21.496094 3.296875 20.664062 1.964844 19.003906 0.855469 C 18.480469 0.503906 18.457031 0.5 18.214844 0.632812\"/>\n",
              "</g>\n",
              "      </svg>\n",
              "    "
            ],
            "text/plain": [
              "<IPython.core.display.HTML object>"
            ]
          },
          "metadata": {}
        }
      ]
    },
    {
      "cell_type": "code",
      "metadata": {
        "colab": {
          "base_uri": "https://localhost:8080/",
          "height": 521
        },
        "id": "Q_3dSfrlsASc",
        "outputId": "93fe87e8-ea19-41ee-f8bb-46400d414f0a"
      },
      "source": [
        "rafturtle.initializeTurtle()\n",
        "rafturtle.bgcolor(\"rgb(144 238 144)\")\n",
        "\n",
        "rafturtle.shape(\"turtle\")\n",
        "rafturtle.color(\"blue\")\n",
        "rafturtle.pensize(1)\n",
        "\n",
        "rafturtle.up()\n",
        "rafturtle.right(90)\n",
        "rafturtle.forward(-150)\n",
        "\n",
        "rafturtle.down()\n",
        "rafturtle.left(144)\n",
        "\n",
        "for k in range(5):\n",
        "    rafturtle.right(144)\n",
        "    rafturtle.forward(250)"
      ],
      "execution_count": 3,
      "outputs": [
        {
          "output_type": "display_data",
          "data": {
            "text/html": [
              "\n",
              "      <svg width=\"800\" height=\"500\">\n",
              "        <rect width=\"100%\" height=\"100%\" fill=\"rgb(144 238 144)\"/>\n",
              "        <line x1=\"250.0\" y1=\"250.0\" x2=\"500.0\" y2=\"250.0\" stroke-linecap=\"round\" style=\"stroke:blue;stroke-width:1\"/><line x1=\"500.0\" y1=\"250.0\" x2=\"297.746\" y2=\"396.946\" stroke-linecap=\"round\" style=\"stroke:blue;stroke-width:1\"/><line x1=\"297.746\" y1=\"396.946\" x2=\"375.0\" y2=\"159.182\" stroke-linecap=\"round\" style=\"stroke:blue;stroke-width:1\"/><line x1=\"375.0\" y1=\"159.182\" x2=\"452.254\" y2=\"396.946\" stroke-linecap=\"round\" style=\"stroke:blue;stroke-width:1\"/><line x1=\"452.254\" y1=\"396.946\" x2=\"250.0\" y2=\"250.0\" stroke-linecap=\"round\" style=\"stroke:blue;stroke-width:1\"/>\n",
              "        <g visibility=visible transform=\"rotate(306,250.0,250.0) translate(232.0, 232.0)\">\n",
              "<path style=\" stroke:none;fill-rule:evenodd;fill:blue;fill-opacity:1;\" d=\"M 18.214844 0.632812 C 16.109375 1.800781 15.011719 4.074219 15.074219 7.132812 L 15.085938 7.652344 L 14.785156 7.496094 C 13.476562 6.824219 11.957031 6.671875 10.40625 7.066406 C 8.46875 7.550781 6.515625 9.15625 4.394531 11.992188 C 3.0625 13.777344 2.679688 14.636719 3.042969 15.027344 L 3.15625 15.152344 L 3.519531 15.152344 C 4.238281 15.152344 4.828125 14.886719 8.1875 13.039062 C 9.386719 12.378906 10.371094 11.839844 10.378906 11.839844 C 10.386719 11.839844 10.355469 11.929688 10.304688 12.035156 C 9.832031 13.09375 9.257812 14.820312 8.96875 16.078125 C 7.914062 20.652344 8.617188 24.53125 11.070312 27.660156 C 11.351562 28.015625 11.363281 27.914062 10.972656 28.382812 C 8.925781 30.84375 7.945312 33.28125 8.238281 35.1875 C 8.289062 35.527344 8.28125 35.523438 8.917969 35.523438 C 10.941406 35.523438 13.074219 34.207031 15.136719 31.6875 C 15.359375 31.417969 15.328125 31.425781 15.5625 31.574219 C 16.292969 32.042969 18.023438 32.964844 18.175781 32.964844 C 18.335938 32.964844 19.941406 32.210938 20.828125 31.71875 C 20.996094 31.625 21.136719 31.554688 21.136719 31.558594 C 21.203125 31.664062 21.898438 32.414062 22.222656 32.730469 C 23.835938 34.300781 25.5625 35.132812 27.582031 35.300781 C 27.90625 35.328125 27.9375 35.308594 28.007812 34.984375 C 28.382812 33.242188 27.625 30.925781 25.863281 28.425781 L 25.542969 27.96875 L 25.699219 27.785156 C 28.945312 23.960938 29.132812 18.699219 26.257812 11.96875 L 26.207031 11.84375 L 27.945312 12.703125 C 31.53125 14.476562 32.316406 14.800781 33.03125 14.800781 C 33.976562 14.800781 33.78125 13.9375 32.472656 12.292969 C 28.519531 7.355469 25.394531 5.925781 21.921875 7.472656 L 21.558594 7.636719 L 21.578125 7.542969 C 21.699219 6.992188 21.761719 5.742188 21.699219 5.164062 C 21.496094 3.296875 20.664062 1.964844 19.003906 0.855469 C 18.480469 0.503906 18.457031 0.5 18.214844 0.632812\"/>\n",
              "</g>\n",
              "      </svg>\n",
              "    "
            ],
            "text/plain": [
              "<IPython.core.display.HTML object>"
            ]
          },
          "metadata": {}
        }
      ]
    },
    {
      "cell_type": "markdown",
      "metadata": {
        "id": "KBc8HfByjXeI"
      },
      "source": [
        "## Usando a tartatura para escrever meu nome Rafael"
      ]
    },
    {
      "cell_type": "code",
      "metadata": {
        "colab": {
          "base_uri": "https://localhost:8080/",
          "height": 521
        },
        "id": "PmSrAbZFizjo",
        "outputId": "34da3d2b-4f6d-4f7a-cf40-b9fd596ca711"
      },
      "source": [
        "import math\n",
        "\n",
        "rafturtle.initializeTurtle()\n",
        "rafturtle.bgcolor(\"rgb(144 238 144)\")\n",
        "rafturtle.shape(\"turtle\")\n",
        "rafturtle.color(\"blue\")\n",
        "\n",
        "rafturtle.penup()\n",
        "rafturtle.goto(200, 250)\n",
        "rafturtle.pendown()\n",
        "rafturtle.forward(100)\n",
        "\n",
        "rafturtle.right(90)\n",
        "rafturtle.forward(25)\n",
        "\n",
        "rafturtle.speed(12)\n",
        "for k in range(18):\n",
        "  rafturtle.right(10)\n",
        "  rafturtle.forward(5)\n",
        "\n",
        "rafturtle.forward(20)\n",
        "rafturtle.left(135)\n",
        "rafturtle.forward(65)\n",
        "\n",
        "rafturtle.speed(5)\n",
        "rafturtle.left(45)\n",
        "rafturtle.penup()\n",
        "rafturtle.forward(25)\n",
        "rafturtle.pendown()\n",
        "\n",
        "def escrever_a_f():\n",
        "  #a\n",
        "  rafturtle.setheading(18-90)\n",
        "  rafturtle.forward(100)\n",
        "  rafturtle.right(180-2*18)\n",
        "  rafturtle.forward(100)\n",
        "  rafturtle.forward(-50)\n",
        "  rafturtle.setheading(180)\n",
        "  rafturtle.forward(30)\n",
        "  rafturtle.penup()\n",
        "  rafturtle.setheading(0)\n",
        "  rafturtle.forward(60)\n",
        "  #f\n",
        "  rafturtle.pendown()\n",
        "  rafturtle.forward(30)\n",
        "  rafturtle.setheading(180)\n",
        "  rafturtle.forward(30)\n",
        "  rafturtle.setheading(90)\n",
        "  rafturtle.forward(50)\n",
        "  rafturtle.forward(-100)\n",
        "  rafturtle.right(90)\n",
        "  rafturtle.forward(-60)\n",
        "\n",
        "\n",
        "escrever_a_f()\n",
        "\n",
        "\n",
        "rafturtle.penup()\n",
        "rafturtle.left(90)\n",
        "rafturtle.forward(100)\n",
        "\n",
        "rafturtle.down()\n",
        "escrever_a_f()\n",
        "\n",
        "rafturtle.up()\n",
        "rafturtle.left(90)\n",
        "rafturtle.forward(100)\n",
        "rafturtle.right(90)\n",
        "rafturtle.down()\n",
        "rafturtle.forward(60)\n",
        "\n",
        "rafturtle.up()\n",
        "rafturtle.backward(60+25+70)\n",
        "rafturtle.down()\n",
        "rafturtle.forward(50+25)\n",
        "rafturtle.right(90)\n",
        "rafturtle.forward(100)\n",
        "\n",
        "rafturtle.up()\n",
        "rafturtle.right(90)\n",
        "rafturtle.goto(200, 280)\n",
        "rafturtle.color(\"#FF8C00\")\n",
        "rafturtle.down()\n",
        "rafturtle.forward(440)\n",
        "\n",
        "rafturtle.pensize(1)\n",
        "rafturtle.speed(13)\n",
        "for k in range(1,100):\n",
        "  rafturtle.goto(200+(445/2)+((400)/k)*math.cos(k), 280 + k)\n",
        "\n",
        "\n",
        "rafturtle.color(\"black\")\n",
        "rafturtle.speed(5)\n",
        "rafturtle.up()\n",
        "rafturtle.goto(200+(445/2), 400)\n",
        "rafturtle.setheading(-90)\n",
        "rafturtle.write(\"ColabTurtle Test\", align=\"center\", font=(25, \"Arial\", \"italic\"))\n",
        "rafturtle.forward(-50)"
      ],
      "execution_count": 6,
      "outputs": [
        {
          "output_type": "display_data",
          "data": {
            "text/html": [
              "\n",
              "      <svg width=\"800\" height=\"500\">\n",
              "        <rect width=\"100%\" height=\"100%\" fill=\"rgb(144 238 144)\"/>\n",
              "        <line x1=\"200\" y1=\"250\" x2=\"200.0\" y2=\"150.0\" stroke-linecap=\"round\" style=\"stroke:blue;stroke-width:4\"/><line x1=\"200.0\" y1=\"150.0\" x2=\"225.0\" y2=\"150.0\" stroke-linecap=\"round\" style=\"stroke:blue;stroke-width:4\"/><line x1=\"225.0\" y1=\"150.0\" x2=\"229.924\" y2=\"150.868\" stroke-linecap=\"round\" style=\"stroke:blue;stroke-width:4\"/><line x1=\"229.924\" y1=\"150.868\" x2=\"234.622\" y2=\"152.578\" stroke-linecap=\"round\" style=\"stroke:blue;stroke-width:4\"/><line x1=\"234.622\" y1=\"152.578\" x2=\"238.952\" y2=\"155.078\" stroke-linecap=\"round\" style=\"stroke:blue;stroke-width:4\"/><line x1=\"238.952\" y1=\"155.078\" x2=\"242.782\" y2=\"158.292\" stroke-linecap=\"round\" style=\"stroke:blue;stroke-width:4\"/><line x1=\"242.782\" y1=\"158.292\" x2=\"245.996\" y2=\"162.122\" stroke-linecap=\"round\" style=\"stroke:blue;stroke-width:4\"/><line x1=\"245.996\" y1=\"162.122\" x2=\"248.496\" y2=\"166.452\" stroke-linecap=\"round\" style=\"stroke:blue;stroke-width:4\"/><line x1=\"248.496\" y1=\"166.452\" x2=\"250.206\" y2=\"171.15\" stroke-linecap=\"round\" style=\"stroke:blue;stroke-width:4\"/><line x1=\"250.206\" y1=\"171.15\" x2=\"251.074\" y2=\"176.074\" stroke-linecap=\"round\" style=\"stroke:blue;stroke-width:4\"/><line x1=\"251.074\" y1=\"176.074\" x2=\"251.074\" y2=\"181.074\" stroke-linecap=\"round\" style=\"stroke:blue;stroke-width:4\"/><line x1=\"251.074\" y1=\"181.074\" x2=\"250.206\" y2=\"185.998\" stroke-linecap=\"round\" style=\"stroke:blue;stroke-width:4\"/><line x1=\"250.206\" y1=\"185.998\" x2=\"248.496\" y2=\"190.696\" stroke-linecap=\"round\" style=\"stroke:blue;stroke-width:4\"/><line x1=\"248.496\" y1=\"190.696\" x2=\"245.996\" y2=\"195.026\" stroke-linecap=\"round\" style=\"stroke:blue;stroke-width:4\"/><line x1=\"245.996\" y1=\"195.026\" x2=\"242.782\" y2=\"198.856\" stroke-linecap=\"round\" style=\"stroke:blue;stroke-width:4\"/><line x1=\"242.782\" y1=\"198.856\" x2=\"238.952\" y2=\"202.07\" stroke-linecap=\"round\" style=\"stroke:blue;stroke-width:4\"/><line x1=\"238.952\" y1=\"202.07\" x2=\"234.622\" y2=\"204.57\" stroke-linecap=\"round\" style=\"stroke:blue;stroke-width:4\"/><line x1=\"234.622\" y1=\"204.57\" x2=\"229.924\" y2=\"206.28\" stroke-linecap=\"round\" style=\"stroke:blue;stroke-width:4\"/><line x1=\"229.924\" y1=\"206.28\" x2=\"225.0\" y2=\"207.148\" stroke-linecap=\"round\" style=\"stroke:blue;stroke-width:4\"/><line x1=\"225.0\" y1=\"207.148\" x2=\"220.0\" y2=\"207.148\" stroke-linecap=\"round\" style=\"stroke:blue;stroke-width:4\"/><line x1=\"220.0\" y1=\"207.148\" x2=\"200.0\" y2=\"207.148\" stroke-linecap=\"round\" style=\"stroke:blue;stroke-width:4\"/><line x1=\"200.0\" y1=\"207.148\" x2=\"245.962\" y2=\"253.11\" stroke-linecap=\"round\" style=\"stroke:blue;stroke-width:4\"/><line x1=\"270.962\" y1=\"253.11\" x2=\"301.864\" y2=\"158.004\" stroke-linecap=\"round\" style=\"stroke:blue;stroke-width:4\"/><line x1=\"301.864\" y1=\"158.004\" x2=\"332.766\" y2=\"253.11\" stroke-linecap=\"round\" style=\"stroke:blue;stroke-width:4\"/><line x1=\"332.766\" y1=\"253.11\" x2=\"317.315\" y2=\"205.557\" stroke-linecap=\"round\" style=\"stroke:blue;stroke-width:4\"/><line x1=\"317.315\" y1=\"205.557\" x2=\"287.315\" y2=\"205.557\" stroke-linecap=\"round\" style=\"stroke:blue;stroke-width:4\"/><line x1=\"347.315\" y1=\"205.557\" x2=\"377.315\" y2=\"205.557\" stroke-linecap=\"round\" style=\"stroke:blue;stroke-width:4\"/><line x1=\"377.315\" y1=\"205.557\" x2=\"347.315\" y2=\"205.557\" stroke-linecap=\"round\" style=\"stroke:blue;stroke-width:4\"/><line x1=\"347.315\" y1=\"205.557\" x2=\"347.315\" y2=\"255.557\" stroke-linecap=\"round\" style=\"stroke:blue;stroke-width:4\"/><line x1=\"347.315\" y1=\"255.557\" x2=\"347.315\" y2=\"155.557\" stroke-linecap=\"round\" style=\"stroke:blue;stroke-width:4\"/><line x1=\"347.315\" y1=\"155.557\" x2=\"407.315\" y2=\"155.557\" stroke-linecap=\"round\" style=\"stroke:blue;stroke-width:4\"/><line x1=\"407.315\" y1=\"255.557\" x2=\"438.217\" y2=\"160.451\" stroke-linecap=\"round\" style=\"stroke:blue;stroke-width:4\"/><line x1=\"438.217\" y1=\"160.451\" x2=\"469.119\" y2=\"255.557\" stroke-linecap=\"round\" style=\"stroke:blue;stroke-width:4\"/><line x1=\"469.119\" y1=\"255.557\" x2=\"453.668\" y2=\"208.004\" stroke-linecap=\"round\" style=\"stroke:blue;stroke-width:4\"/><line x1=\"453.668\" y1=\"208.004\" x2=\"423.668\" y2=\"208.004\" stroke-linecap=\"round\" style=\"stroke:blue;stroke-width:4\"/><line x1=\"483.668\" y1=\"208.004\" x2=\"513.668\" y2=\"208.004\" stroke-linecap=\"round\" style=\"stroke:blue;stroke-width:4\"/><line x1=\"513.668\" y1=\"208.004\" x2=\"483.668\" y2=\"208.004\" stroke-linecap=\"round\" style=\"stroke:blue;stroke-width:4\"/><line x1=\"483.668\" y1=\"208.004\" x2=\"483.668\" y2=\"258.004\" stroke-linecap=\"round\" style=\"stroke:blue;stroke-width:4\"/><line x1=\"483.668\" y1=\"258.004\" x2=\"483.668\" y2=\"158.004\" stroke-linecap=\"round\" style=\"stroke:blue;stroke-width:4\"/><line x1=\"483.668\" y1=\"158.004\" x2=\"543.668\" y2=\"158.004\" stroke-linecap=\"round\" style=\"stroke:blue;stroke-width:4\"/><line x1=\"543.668\" y1=\"258.004\" x2=\"483.668\" y2=\"258.004\" stroke-linecap=\"round\" style=\"stroke:blue;stroke-width:4\"/><line x1=\"638.668\" y1=\"258.004\" x2=\"563.668\" y2=\"258.004\" stroke-linecap=\"round\" style=\"stroke:blue;stroke-width:4\"/><line x1=\"563.668\" y1=\"258.004\" x2=\"563.668\" y2=\"158.004\" stroke-linecap=\"round\" style=\"stroke:blue;stroke-width:4\"/><line x1=\"200\" y1=\"280\" x2=\"640.0\" y2=\"280.0\" stroke-linecap=\"round\" style=\"stroke:#ff8c00;stroke-width:4\"/><line x1=\"640.0\" y1=\"280.0\" x2=\"638.621\" y2=\"281\" stroke-linecap=\"round\" style=\"stroke:#ff8c00;stroke-width:1\"/><line x1=\"638.621\" y1=\"281\" x2=\"339.271\" y2=\"282\" stroke-linecap=\"round\" style=\"stroke:#ff8c00;stroke-width:1\"/><line x1=\"339.271\" y1=\"282\" x2=\"290.501\" y2=\"283\" stroke-linecap=\"round\" style=\"stroke:#ff8c00;stroke-width:1\"/><line x1=\"290.501\" y1=\"283\" x2=\"357.136\" y2=\"284\" stroke-linecap=\"round\" style=\"stroke:#ff8c00;stroke-width:1\"/><line x1=\"357.136\" y1=\"284\" x2=\"445.193\" y2=\"285\" stroke-linecap=\"round\" style=\"stroke:#ff8c00;stroke-width:1\"/><line x1=\"445.193\" y1=\"285\" x2=\"486.511\" y2=\"286\" stroke-linecap=\"round\" style=\"stroke:#ff8c00;stroke-width:1\"/><line x1=\"486.511\" y1=\"286\" x2=\"465.58\" y2=\"287\" stroke-linecap=\"round\" style=\"stroke:#ff8c00;stroke-width:1\"/><line x1=\"465.58\" y1=\"287\" x2=\"415.225\" y2=\"288\" stroke-linecap=\"round\" style=\"stroke:#ff8c00;stroke-width:1\"/><line x1=\"415.225\" y1=\"288\" x2=\"382.005\" y2=\"289\" stroke-linecap=\"round\" style=\"stroke:#ff8c00;stroke-width:1\"/><line x1=\"382.005\" y1=\"289\" x2=\"388.937\" y2=\"290\" stroke-linecap=\"round\" style=\"stroke:#ff8c00;stroke-width:1\"/><line x1=\"388.937\" y1=\"290\" x2=\"422.661\" y2=\"291\" stroke-linecap=\"round\" style=\"stroke:#ff8c00;stroke-width:1\"/><line x1=\"422.661\" y1=\"291\" x2=\"450.628\" y2=\"292\" stroke-linecap=\"round\" style=\"stroke:#ff8c00;stroke-width:1\"/><line x1=\"450.628\" y1=\"292\" x2=\"450.421\" y2=\"293\" stroke-linecap=\"round\" style=\"stroke:#ff8c00;stroke-width:1\"/><line x1=\"450.421\" y1=\"293\" x2=\"426.407\" y2=\"294\" stroke-linecap=\"round\" style=\"stroke:#ff8c00;stroke-width:1\"/><line x1=\"426.407\" y1=\"294\" x2=\"402.242\" y2=\"295\" stroke-linecap=\"round\" style=\"stroke:#ff8c00;stroke-width:1\"/><line x1=\"402.242\" y1=\"295\" x2=\"398.559\" y2=\"296\" stroke-linecap=\"round\" style=\"stroke:#ff8c00;stroke-width:1\"/><line x1=\"398.559\" y1=\"296\" x2=\"416.026\" y2=\"297\" stroke-linecap=\"round\" style=\"stroke:#ff8c00;stroke-width:1\"/><line x1=\"416.026\" y1=\"297\" x2=\"437.174\" y2=\"298\" stroke-linecap=\"round\" style=\"stroke:#ff8c00;stroke-width:1\"/><line x1=\"437.174\" y1=\"298\" x2=\"443.315\" y2=\"299\" stroke-linecap=\"round\" style=\"stroke:#ff8c00;stroke-width:1\"/><line x1=\"443.315\" y1=\"299\" x2=\"430.662\" y2=\"300\" stroke-linecap=\"round\" style=\"stroke:#ff8c00;stroke-width:1\"/><line x1=\"430.662\" y1=\"300\" x2=\"412.067\" y2=\"301\" stroke-linecap=\"round\" style=\"stroke:#ff8c00;stroke-width:1\"/><line x1=\"412.067\" y1=\"301\" x2=\"404.319\" y2=\"302\" stroke-linecap=\"round\" style=\"stroke:#ff8c00;stroke-width:1\"/><line x1=\"404.319\" y1=\"302\" x2=\"413.233\" y2=\"303\" stroke-linecap=\"round\" style=\"stroke:#ff8c00;stroke-width:1\"/><line x1=\"413.233\" y1=\"303\" x2=\"429.57\" y2=\"304\" stroke-linecap=\"round\" style=\"stroke:#ff8c00;stroke-width:1\"/><line x1=\"429.57\" y1=\"304\" x2=\"438.359\" y2=\"305\" stroke-linecap=\"round\" style=\"stroke:#ff8c00;stroke-width:1\"/><line x1=\"438.359\" y1=\"305\" x2=\"432.453\" y2=\"306\" stroke-linecap=\"round\" style=\"stroke:#ff8c00;stroke-width:1\"/><line x1=\"432.453\" y1=\"306\" x2=\"418.172\" y2=\"307\" stroke-linecap=\"round\" style=\"stroke:#ff8c00;stroke-width:1\"/><line x1=\"418.172\" y1=\"307\" x2=\"408.748\" y2=\"308\" stroke-linecap=\"round\" style=\"stroke:#ff8c00;stroke-width:1\"/><line x1=\"408.748\" y1=\"308\" x2=\"412.182\" y2=\"309\" stroke-linecap=\"round\" style=\"stroke:#ff8c00;stroke-width:1\"/><line x1=\"412.182\" y1=\"309\" x2=\"424.557\" y2=\"310\" stroke-linecap=\"round\" style=\"stroke:#ff8c00;stroke-width:1\"/><line x1=\"424.557\" y1=\"310\" x2=\"434.303\" y2=\"311\" stroke-linecap=\"round\" style=\"stroke:#ff8c00;stroke-width:1\"/><line x1=\"434.303\" y1=\"311\" x2=\"432.928\" y2=\"312\" stroke-linecap=\"round\" style=\"stroke:#ff8c00;stroke-width:1\"/><line x1=\"432.928\" y1=\"312\" x2=\"422.339\" y2=\"313\" stroke-linecap=\"round\" style=\"stroke:#ff8c00;stroke-width:1\"/><line x1=\"422.339\" y1=\"313\" x2=\"412.517\" y2=\"314\" stroke-linecap=\"round\" style=\"stroke:#ff8c00;stroke-width:1\"/><line x1=\"412.517\" y1=\"314\" x2=\"412.172\" y2=\"315\" stroke-linecap=\"round\" style=\"stroke:#ff8c00;stroke-width:1\"/><line x1=\"412.172\" y1=\"315\" x2=\"421.078\" y2=\"316\" stroke-linecap=\"round\" style=\"stroke:#ff8c00;stroke-width:1\"/><line x1=\"421.078\" y1=\"316\" x2=\"430.775\" y2=\"317\" stroke-linecap=\"round\" style=\"stroke:#ff8c00;stroke-width:1\"/><line x1=\"430.775\" y1=\"317\" x2=\"432.553\" y2=\"318\" stroke-linecap=\"round\" style=\"stroke:#ff8c00;stroke-width:1\"/><line x1=\"432.553\" y1=\"318\" x2=\"425.235\" y2=\"319\" stroke-linecap=\"round\" style=\"stroke:#ff8c00;stroke-width:1\"/><line x1=\"425.235\" y1=\"319\" x2=\"415.831\" y2=\"320\" stroke-linecap=\"round\" style=\"stroke:#ff8c00;stroke-width:1\"/><line x1=\"415.831\" y1=\"320\" x2=\"412.867\" y2=\"321\" stroke-linecap=\"round\" style=\"stroke:#ff8c00;stroke-width:1\"/><line x1=\"412.867\" y1=\"321\" x2=\"418.691\" y2=\"322\" stroke-linecap=\"round\" style=\"stroke:#ff8c00;stroke-width:1\"/><line x1=\"418.691\" y1=\"322\" x2=\"427.664\" y2=\"323\" stroke-linecap=\"round\" style=\"stroke:#ff8c00;stroke-width:1\"/><line x1=\"427.664\" y1=\"323\" x2=\"431.589\" y2=\"324\" stroke-linecap=\"round\" style=\"stroke:#ff8c00;stroke-width:1\"/><line x1=\"431.589\" y1=\"324\" x2=\"427.17\" y2=\"325\" stroke-linecap=\"round\" style=\"stroke:#ff8c00;stroke-width:1\"/><line x1=\"427.17\" y1=\"325\" x2=\"418.742\" y2=\"326\" stroke-linecap=\"round\" style=\"stroke:#ff8c00;stroke-width:1\"/><line x1=\"418.742\" y1=\"326\" x2=\"414.055\" y2=\"327\" stroke-linecap=\"round\" style=\"stroke:#ff8c00;stroke-width:1\"/><line x1=\"414.055\" y1=\"327\" x2=\"417.165\" y2=\"328\" stroke-linecap=\"round\" style=\"stroke:#ff8c00;stroke-width:1\"/><line x1=\"417.165\" y1=\"328\" x2=\"424.954\" y2=\"329\" stroke-linecap=\"round\" style=\"stroke:#ff8c00;stroke-width:1\"/><line x1=\"424.954\" y1=\"329\" x2=\"430.22\" y2=\"330\" stroke-linecap=\"round\" style=\"stroke:#ff8c00;stroke-width:1\"/><line x1=\"430.22\" y1=\"330\" x2=\"428.321\" y2=\"331\" stroke-linecap=\"round\" style=\"stroke:#ff8c00;stroke-width:1\"/><line x1=\"428.321\" y1=\"331\" x2=\"421.246\" y2=\"332\" stroke-linecap=\"round\" style=\"stroke:#ff8c00;stroke-width:1\"/><line x1=\"421.246\" y1=\"332\" x2=\"415.57\" y2=\"333\" stroke-linecap=\"round\" style=\"stroke:#ff8c00;stroke-width:1\"/><line x1=\"415.57\" y1=\"333\" x2=\"416.357\" y2=\"334\" stroke-linecap=\"round\" style=\"stroke:#ff8c00;stroke-width:1\"/><line x1=\"416.357\" y1=\"334\" x2=\"422.661\" y2=\"335\" stroke-linecap=\"round\" style=\"stroke:#ff8c00;stroke-width:1\"/><line x1=\"422.661\" y1=\"335\" x2=\"428.594\" y2=\"336\" stroke-linecap=\"round\" style=\"stroke:#ff8c00;stroke-width:1\"/><line x1=\"428.594\" y1=\"336\" x2=\"428.815\" y2=\"337\" stroke-linecap=\"round\" style=\"stroke:#ff8c00;stroke-width:1\"/><line x1=\"428.815\" y1=\"337\" x2=\"423.322\" y2=\"338\" stroke-linecap=\"round\" style=\"stroke:#ff8c00;stroke-width:1\"/><line x1=\"423.322\" y1=\"338\" x2=\"417.272\" y2=\"339\" stroke-linecap=\"round\" style=\"stroke:#ff8c00;stroke-width:1\"/><line x1=\"417.272\" y1=\"339\" x2=\"416.151\" y2=\"340\" stroke-linecap=\"round\" style=\"stroke:#ff8c00;stroke-width:1\"/><line x1=\"416.151\" y1=\"340\" x2=\"420.808\" y2=\"341\" stroke-linecap=\"round\" style=\"stroke:#ff8c00;stroke-width:1\"/><line x1=\"420.808\" y1=\"341\" x2=\"426.845\" y2=\"342\" stroke-linecap=\"round\" style=\"stroke:#ff8c00;stroke-width:1\"/><line x1=\"426.845\" y1=\"342\" x2=\"428.76\" y2=\"343\" stroke-linecap=\"round\" style=\"stroke:#ff8c00;stroke-width:1\"/><line x1=\"428.76\" y1=\"343\" x2=\"424.949\" y2=\"344\" stroke-linecap=\"round\" style=\"stroke:#ff8c00;stroke-width:1\"/><line x1=\"424.949\" y1=\"344\" x2=\"419.039\" y2=\"345\" stroke-linecap=\"round\" style=\"stroke:#ff8c00;stroke-width:1\"/><line x1=\"419.039\" y1=\"345\" x2=\"416.442\" y2=\"346\" stroke-linecap=\"round\" style=\"stroke:#ff8c00;stroke-width:1\"/><line x1=\"416.442\" y1=\"346\" x2=\"419.409\" y2=\"347\" stroke-linecap=\"round\" style=\"stroke:#ff8c00;stroke-width:1\"/><line x1=\"419.409\" y1=\"347\" x2=\"425.089\" y2=\"348\" stroke-linecap=\"round\" style=\"stroke:#ff8c00;stroke-width:1\"/><line x1=\"425.089\" y1=\"348\" x2=\"428.259\" y2=\"349\" stroke-linecap=\"round\" style=\"stroke:#ff8c00;stroke-width:1\"/><line x1=\"428.259\" y1=\"349\" x2=\"426.119\" y2=\"350\" stroke-linecap=\"round\" style=\"stroke:#ff8c00;stroke-width:1\"/><line x1=\"426.119\" y1=\"350\" x2=\"420.759\" y2=\"351\" stroke-linecap=\"round\" style=\"stroke:#ff8c00;stroke-width:1\"/><line x1=\"420.759\" y1=\"351\" x2=\"417.126\" y2=\"352\" stroke-linecap=\"round\" style=\"stroke:#ff8c00;stroke-width:1\"/><line x1=\"417.126\" y1=\"352\" x2=\"418.466\" y2=\"353\" stroke-linecap=\"round\" style=\"stroke:#ff8c00;stroke-width:1\"/><line x1=\"418.466\" y1=\"353\" x2=\"423.428\" y2=\"354\" stroke-linecap=\"round\" style=\"stroke:#ff8c00;stroke-width:1\"/><line x1=\"423.428\" y1=\"354\" x2=\"427.416\" y2=\"355\" stroke-linecap=\"round\" style=\"stroke:#ff8c00;stroke-width:1\"/><line x1=\"427.416\" y1=\"355\" x2=\"426.839\" y2=\"356\" stroke-linecap=\"round\" style=\"stroke:#ff8c00;stroke-width:1\"/><line x1=\"426.839\" y1=\"356\" x2=\"422.339\" y2=\"357\" stroke-linecap=\"round\" style=\"stroke:#ff8c00;stroke-width:1\"/><line x1=\"422.339\" y1=\"357\" x2=\"418.101\" y2=\"358\" stroke-linecap=\"round\" style=\"stroke:#ff8c00;stroke-width:1\"/><line x1=\"418.101\" y1=\"358\" x2=\"417.963\" y2=\"359\" stroke-linecap=\"round\" style=\"stroke:#ff8c00;stroke-width:1\"/><line x1=\"417.963\" y1=\"359\" x2=\"421.948\" y2=\"360\" stroke-linecap=\"round\" style=\"stroke:#ff8c00;stroke-width:1\"/><line x1=\"421.948\" y1=\"360\" x2=\"426.335\" y2=\"361\" stroke-linecap=\"round\" style=\"stroke:#ff8c00;stroke-width:1\"/><line x1=\"426.335\" y1=\"361\" x2=\"427.133\" y2=\"362\" stroke-linecap=\"round\" style=\"stroke:#ff8c00;stroke-width:1\"/><line x1=\"427.133\" y1=\"362\" x2=\"423.703\" y2=\"363\" stroke-linecap=\"round\" style=\"stroke:#ff8c00;stroke-width:1\"/><line x1=\"423.703\" y1=\"363\" x2=\"419.262\" y2=\"364\" stroke-linecap=\"round\" style=\"stroke:#ff8c00;stroke-width:1\"/><line x1=\"419.262\" y1=\"364\" x2=\"417.868\" y2=\"365\" stroke-linecap=\"round\" style=\"stroke:#ff8c00;stroke-width:1\"/><line x1=\"417.868\" y1=\"365\" x2=\"420.715\" y2=\"366\" stroke-linecap=\"round\" style=\"stroke:#ff8c00;stroke-width:1\"/><line x1=\"420.715\" y1=\"366\" x2=\"425.12\" y2=\"367\" stroke-linecap=\"round\" style=\"stroke:#ff8c00;stroke-width:1\"/><line x1=\"425.12\" y1=\"367\" x2=\"427.043\" y2=\"368\" stroke-linecap=\"round\" style=\"stroke:#ff8c00;stroke-width:1\"/><line x1=\"427.043\" y1=\"368\" x2=\"424.793\" y2=\"369\" stroke-linecap=\"round\" style=\"stroke:#ff8c00;stroke-width:1\"/><line x1=\"424.793\" y1=\"369\" x2=\"420.509\" y2=\"370\" stroke-linecap=\"round\" style=\"stroke:#ff8c00;stroke-width:1\"/><line x1=\"420.509\" y1=\"370\" x2=\"418.129\" y2=\"371\" stroke-linecap=\"round\" style=\"stroke:#ff8c00;stroke-width:1\"/><line x1=\"418.129\" y1=\"371\" x2=\"419.776\" y2=\"372\" stroke-linecap=\"round\" style=\"stroke:#ff8c00;stroke-width:1\"/><line x1=\"419.776\" y1=\"372\" x2=\"423.865\" y2=\"373\" stroke-linecap=\"round\" style=\"stroke:#ff8c00;stroke-width:1\"/><line x1=\"423.865\" y1=\"373\" x2=\"426.625\" y2=\"374\" stroke-linecap=\"round\" style=\"stroke:#ff8c00;stroke-width:1\"/><line x1=\"426.625\" y1=\"374\" x2=\"425.574\" y2=\"375\" stroke-linecap=\"round\" style=\"stroke:#ff8c00;stroke-width:1\"/><line x1=\"425.574\" y1=\"375\" x2=\"421.748\" y2=\"376\" stroke-linecap=\"round\" style=\"stroke:#ff8c00;stroke-width:1\"/><line x1=\"421.748\" y1=\"376\" x2=\"418.685\" y2=\"377\" stroke-linecap=\"round\" style=\"stroke:#ff8c00;stroke-width:1\"/><line x1=\"418.685\" y1=\"377\" x2=\"419.156\" y2=\"378\" stroke-linecap=\"round\" style=\"stroke:#ff8c00;stroke-width:1\"/><line x1=\"419.156\" y1=\"378\" x2=\"422.661\" y2=\"379\" stroke-linecap=\"round\" style=\"stroke:#ff8c00;stroke-width:1\"/><text x=\"422.5\" y=\"400\" fill=\"black\" text-anchor=\"middle\" style=\"font-size:25px;font-family:'Arial';font-style:italic;\">ColabTurtle Test</text>\n",
              "        <g visibility=visible transform=\"rotate(360,422.5,450.0) translate(404.5, 432.0)\">\n",
              "<path style=\" stroke:none;fill-rule:evenodd;fill:black;fill-opacity:1;\" d=\"M 18.214844 0.632812 C 16.109375 1.800781 15.011719 4.074219 15.074219 7.132812 L 15.085938 7.652344 L 14.785156 7.496094 C 13.476562 6.824219 11.957031 6.671875 10.40625 7.066406 C 8.46875 7.550781 6.515625 9.15625 4.394531 11.992188 C 3.0625 13.777344 2.679688 14.636719 3.042969 15.027344 L 3.15625 15.152344 L 3.519531 15.152344 C 4.238281 15.152344 4.828125 14.886719 8.1875 13.039062 C 9.386719 12.378906 10.371094 11.839844 10.378906 11.839844 C 10.386719 11.839844 10.355469 11.929688 10.304688 12.035156 C 9.832031 13.09375 9.257812 14.820312 8.96875 16.078125 C 7.914062 20.652344 8.617188 24.53125 11.070312 27.660156 C 11.351562 28.015625 11.363281 27.914062 10.972656 28.382812 C 8.925781 30.84375 7.945312 33.28125 8.238281 35.1875 C 8.289062 35.527344 8.28125 35.523438 8.917969 35.523438 C 10.941406 35.523438 13.074219 34.207031 15.136719 31.6875 C 15.359375 31.417969 15.328125 31.425781 15.5625 31.574219 C 16.292969 32.042969 18.023438 32.964844 18.175781 32.964844 C 18.335938 32.964844 19.941406 32.210938 20.828125 31.71875 C 20.996094 31.625 21.136719 31.554688 21.136719 31.558594 C 21.203125 31.664062 21.898438 32.414062 22.222656 32.730469 C 23.835938 34.300781 25.5625 35.132812 27.582031 35.300781 C 27.90625 35.328125 27.9375 35.308594 28.007812 34.984375 C 28.382812 33.242188 27.625 30.925781 25.863281 28.425781 L 25.542969 27.96875 L 25.699219 27.785156 C 28.945312 23.960938 29.132812 18.699219 26.257812 11.96875 L 26.207031 11.84375 L 27.945312 12.703125 C 31.53125 14.476562 32.316406 14.800781 33.03125 14.800781 C 33.976562 14.800781 33.78125 13.9375 32.472656 12.292969 C 28.519531 7.355469 25.394531 5.925781 21.921875 7.472656 L 21.558594 7.636719 L 21.578125 7.542969 C 21.699219 6.992188 21.761719 5.742188 21.699219 5.164062 C 21.496094 3.296875 20.664062 1.964844 19.003906 0.855469 C 18.480469 0.503906 18.457031 0.5 18.214844 0.632812\"/>\n",
              "</g>\n",
              "      </svg>\n",
              "    "
            ],
            "text/plain": [
              "<IPython.core.display.HTML object>"
            ]
          },
          "metadata": {}
        }
      ]
    }
  ]
}