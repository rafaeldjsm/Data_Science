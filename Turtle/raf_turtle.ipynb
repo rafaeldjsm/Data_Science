{
 "cells": [
  {
   "cell_type": "code",
   "execution_count": 1,
   "metadata": {},
   "outputs": [],
   "source": [
    "import turtle\n",
    "\n",
    "wn = turtle.Screen()\n",
    "wn.bgcolor(\"#90ee90\") #rgb 144 238 144\n",
    "rafturtle = turtle.Turtle()\n",
    "\n",
    "rafturtle.shape(\"turtle\")\n",
    "rafturtle.color(\"blue\")\n",
    "rafturtle.pensize(3)\n",
    "\n",
    "rafturtle.up()\n",
    "rafturtle.stamp()\n",
    "\n",
    "for k in range(12):\n",
    "    rafturtle.forward(110)\n",
    "    rafturtle.down()\n",
    "    rafturtle.forward(10)\n",
    "    rafturtle.up()\n",
    "    rafturtle.forward(30)\n",
    "    rafturtle.stamp()\n",
    "    rafturtle.forward(-150)\n",
    "    rafturtle.right(30)\n",
    "    \n",
    "wn.exitonclick()"
   ]
  },
  {
   "cell_type": "code",
   "execution_count": 2,
   "metadata": {},
   "outputs": [],
   "source": [
    "import turtle\n",
    "\n",
    "wn2 = turtle.Screen()\n",
    "lovelace = turtle.Turtle()\n",
    "\n",
    "# move the turtle forward a little so that the whole path fits on the screen\n",
    "lovelace.penup()\n",
    "lovelace.forward(60)\n",
    "\n",
    "# now draw the drunk pirate's path\n",
    "lovelace.pendown()\n",
    "for k in range(5):\n",
    "    lovelace.right(144)\n",
    "    lovelace.forward(150)\n",
    "    \n",
    "wn2.exitonclick()"
   ]
  },
  {
   "cell_type": "code",
   "execution_count": null,
   "metadata": {},
   "outputs": [],
   "source": []
  }
 ],
 "metadata": {
  "kernelspec": {
   "display_name": "Python 3",
   "language": "python",
   "name": "python3"
  },
  "language_info": {
   "codemirror_mode": {
    "name": "ipython",
    "version": 3
   },
   "file_extension": ".py",
   "mimetype": "text/x-python",
   "name": "python",
   "nbconvert_exporter": "python",
   "pygments_lexer": "ipython3",
   "version": "3.8.5"
  }
 },
 "nbformat": 4,
 "nbformat_minor": 4
}
