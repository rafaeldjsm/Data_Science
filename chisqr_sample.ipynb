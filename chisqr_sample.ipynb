{
  "nbformat": 4,
  "nbformat_minor": 0,
  "metadata": {
    "colab": {
      "name": "chisqr_sample",
      "provenance": [],
      "collapsed_sections": [],
      "authorship_tag": "ABX9TyPGGLUTD0KKqK/KD19Y3J/A",
      "include_colab_link": true
    },
    "kernelspec": {
      "name": "python3",
      "display_name": "Python 3"
    },
    "language_info": {
      "name": "python"
    }
  },
  "cells": [
    {
      "cell_type": "markdown",
      "metadata": {
        "id": "view-in-github",
        "colab_type": "text"
      },
      "source": [
        "<a href=\"https://colab.research.google.com/github/rafaeldjsm/Data_Science/blob/master/chisqr_sample.ipynb\" target=\"_parent\"><img src=\"https://colab.research.google.com/assets/colab-badge.svg\" alt=\"Open In Colab\"/></a>"
      ]
    },
    {
      "cell_type": "code",
      "source": [
        "import numpy as np\n",
        "import seaborn as sns\n",
        "from scipy.stats import chisquare\n",
        "from scipy.stats import norm\n",
        "from scipy.stats import chi2\n",
        "\n",
        "np.random.seed(1)\n",
        "\n",
        "data = np.random.normal(loc = 20, scale = 5, size = 150)\n",
        "\n",
        "mu_data = data.mean()\n",
        "\n",
        "std_data = data.std(ddof = 1)"
      ],
      "metadata": {
        "id": "k5p46G54LKrQ"
      },
      "execution_count": 1,
      "outputs": []
    },
    {
      "cell_type": "code",
      "source": [
        "# Valor do Qui_quadrado para uma distribuição uniforme (mesma probabilidade para cada elemento)\n",
        "\n",
        "# ref \n",
        "# https://www.real-statistics.com/tests-normality-and-symmetry/statistical-tests-normality-symmetry/chi-square-test-for-normality/\n",
        "\n",
        "\n",
        "qstt = ((data - mu_data)**2)/mu_data\n",
        "sum(qstt)"
      ],
      "metadata": {
        "colab": {
          "base_uri": "https://localhost:8080/"
        },
        "id": "5ZqsmcR-MVbX",
        "outputId": "9c340621-061a-4589-eae6-712de768efb7"
      },
      "execution_count": 2,
      "outputs": [
        {
          "output_type": "execute_result",
          "data": {
            "text/plain": [
              "142.98840583926983"
            ]
          },
          "metadata": {},
          "execution_count": 2
        }
      ]
    },
    {
      "cell_type": "markdown",
      "source": [
        "Notice how the value is the same as the cell above"
      ],
      "metadata": {
        "id": "CIxahK3Cl79X"
      }
    },
    {
      "cell_type": "code",
      "source": [
        "# Observe como o valor é o mesmo da célula acima\n",
        "\n",
        "# scipy.stats.chisquare(f_obs, f_exp=None, ddof=0, axis=0)\n",
        "# Calculate a one-way chi-square test.\n",
        "# The chi-square test tests the null hypothesis that the categorical data has the given ***frequencies***.\n",
        "\n",
        "\n",
        "# f_exp : Expected frequencies in each category. By default the categories are assumed to be equally likely.\n",
        "\n",
        "statistic, pvalue = chisquare(data)\n",
        "statistic, pvalue"
      ],
      "metadata": {
        "colab": {
          "base_uri": "https://localhost:8080/"
        },
        "id": "DA6ed7KcLrhd",
        "outputId": "1b8b02c5-0471-4bed-910e-1b0e7c5db996"
      },
      "execution_count": 3,
      "outputs": [
        {
          "output_type": "execute_result",
          "data": {
            "text/plain": [
              "(142.98840583926986, 0.6233444674034908)"
            ]
          },
          "metadata": {},
          "execution_count": 3
        }
      ]
    },
    {
      "cell_type": "code",
      "source": [
        "f_obs, bins = np.histogram(data, bins = 'auto')\n",
        "\n",
        "sns.displot(data, bins=bins, kde=True);"
      ],
      "metadata": {
        "colab": {
          "base_uri": "https://localhost:8080/",
          "height": 369
        },
        "id": "YEqNGMH4M5sB",
        "outputId": "6f459b58-e4d9-4363-a668-1b695b54fc05"
      },
      "execution_count": 4,
      "outputs": [
        {
          "output_type": "display_data",
          "data": {
            "text/plain": [
              "<Figure size 360x360 with 1 Axes>"
            ],
            "image/png": "[encoded data removed]"
          },
          "metadata": {
            "needs_background": "light"
          }
        }
      ]
    },
    {
      "cell_type": "markdown",
      "source": [
        "Chi-square for Normality tests"
      ],
      "metadata": {
        "id": "zUZb1bkxmFeN"
      }
    },
    {
      "cell_type": "code",
      "source": [
        "# Frequencia acumulada esperada\n",
        "xf_cum = norm.cdf(bins, loc = data.mean() , scale = data.std(ddof = 1))\n",
        "\n",
        "\n",
        "# Cálculo da Frequência relativa esperada\n",
        "f_exp_rel = ((np.roll(xf_cum, -1) - xf_cum)[:-1]) * len(data) \n",
        "\n",
        "# Cálculo da Frequência absoluta esperada\n",
        "f_exp_abs = f_exp_rel  * len(data) / (f_exp_rel.sum())"
      ],
      "metadata": {
        "id": "TeGUandaYGMv"
      },
      "execution_count": 5,
      "outputs": []
    },
    {
      "cell_type": "code",
      "source": [
        "alfa = 0.05\n",
        "\n",
        "statistic_n, pvalue_n = chisquare(f_obs, f_exp = f_exp_abs)\n",
        "statistic_n, pvalue_n"
      ],
      "metadata": {
        "colab": {
          "base_uri": "https://localhost:8080/"
        },
        "id": "jkvGlq7FWme9",
        "outputId": "c1e37279-017a-4b73-9a1d-675403233bd5"
      },
      "execution_count": 6,
      "outputs": [
        {
          "output_type": "execute_result",
          "data": {
            "text/plain": [
              "(6.961469737770473, 0.6411310982991709)"
            ]
          },
          "metadata": {},
          "execution_count": 6
        }
      ]
    },
    {
      "cell_type": "code",
      "source": [
        "# pvalue of chisquare test for x² > statistic_n\n",
        "# Quanto menor o valor de x², melhor e maior o p-value -> Aréa a direita da curva P[X²(df)> = X²]\n",
        "\n",
        "1 - chi2.cdf(statistic_n, df = len(f_obs)-1)"
      ],
      "metadata": {
        "colab": {
          "base_uri": "https://localhost:8080/"
        },
        "id": "YPEEc3auUVdi",
        "outputId": "e96b99a2-b93f-45ed-bbf0-737f3919e1c3"
      },
      "execution_count": 7,
      "outputs": [
        {
          "output_type": "execute_result",
          "data": {
            "text/plain": [
              "0.6411310982991709"
            ]
          },
          "metadata": {},
          "execution_count": 7
        }
      ]
    },
    {
      "cell_type": "code",
      "source": [
        "# X² tabelado (crítico) Se X²calc for menor que o crítico, então a amostra se assemelha a uma gaussiana\n",
        "\n",
        "chi2.ppf(1-alfa, df = len(f_obs)-1)"
      ],
      "metadata": {
        "colab": {
          "base_uri": "https://localhost:8080/"
        },
        "id": "xS84bZ2luyg9",
        "outputId": "49b30869-4048-4a43-974d-2b05b40a466f"
      },
      "execution_count": 8,
      "outputs": [
        {
          "output_type": "execute_result",
          "data": {
            "text/plain": [
              "16.918977604620448"
            ]
          },
          "metadata": {},
          "execution_count": 8
        }
      ]
    },
    {
      "cell_type": "code",
      "source": [
        "# Para a distribuição uniforme, a frequência esperada será:\n",
        "\n",
        "f_exp_abs = np.ones(len(f_obs))*sum(f_obs)/len(f_obs)\n",
        "\n",
        "statistic_n, pvalue_n = chisquare(f_obs, f_exp = f_exp_abs)\n",
        "statistic_n, pvalue_n"
      ],
      "metadata": {
        "colab": {
          "base_uri": "https://localhost:8080/"
        },
        "id": "V5XvrWqOsd0Q",
        "outputId": "c45c5bb2-67f7-4d16-ee87-f3deb0fcf3a0"
      },
      "execution_count": 9,
      "outputs": [
        {
          "output_type": "execute_result",
          "data": {
            "text/plain": [
              "(68.26666666666667, 3.326872091275081e-11)"
            ]
          },
          "metadata": {},
          "execution_count": 9
        }
      ]
    },
    {
      "cell_type": "code",
      "source": [
        "chi2.cdf(0.211, df = 2) # P[X²(df = 2)>=0.211] = 1 - chi2.cdf(0.211, df = 2) = 90%"
      ],
      "metadata": {
        "colab": {
          "base_uri": "https://localhost:8080/"
        },
        "id": "csDq0b48wsuk",
        "outputId": "59484a59-ac72-4284-ee66-c69248a958ba"
      },
      "execution_count": 10,
      "outputs": [
        {
          "output_type": "execute_result",
          "data": {
            "text/plain": [
              "0.10012552715321657"
            ]
          },
          "metadata": {},
          "execution_count": 10
        }
      ]
    },
    {
      "cell_type": "code",
      "source": [
        "1 - chi2.cdf(6.02, df = 2) # P[X²(df = 2)>=6.02] = 1 - chi2.cdf(0.211, df = 2) = 4.99%"
      ],
      "metadata": {
        "colab": {
          "base_uri": "https://localhost:8080/"
        },
        "id": "Ot9zpUjuz_kA",
        "outputId": "076408cd-f7b7-40bb-8fd3-ac17757f2215"
      },
      "execution_count": 11,
      "outputs": [
        {
          "output_type": "execute_result",
          "data": {
            "text/plain": [
              "0.04929167876046214"
            ]
          },
          "metadata": {},
          "execution_count": 11
        }
      ]
    },
    {
      "cell_type": "code",
      "source": [
        "chi2.ppf(0.95, df = 16) # 95% é a probabilidade de x < 26.3"
      ],
      "metadata": {
        "colab": {
          "base_uri": "https://localhost:8080/"
        },
        "id": "8OZg12NYJZ5w",
        "outputId": "1ad2d8bb-aee4-402a-c6f7-ee0025cef902"
      },
      "execution_count": 12,
      "outputs": [
        {
          "output_type": "execute_result",
          "data": {
            "text/plain": [
              "26.29622760486423"
            ]
          },
          "metadata": {},
          "execution_count": 12
        }
      ]
    },
    {
      "cell_type": "code",
      "source": [
        "chi2.ppf(0.95, df = 7) # X² tabelado (crítico)"
      ],
      "metadata": {
        "colab": {
          "base_uri": "https://localhost:8080/"
        },
        "id": "_hE49KNjTOO6",
        "outputId": "0f4de5da-f858-41f6-94e3-969cc107a227"
      },
      "execution_count": 13,
      "outputs": [
        {
          "output_type": "execute_result",
          "data": {
            "text/plain": [
              "14.067140449340169"
            ]
          },
          "metadata": {},
          "execution_count": 13
        }
      ]
    }
  ]
}