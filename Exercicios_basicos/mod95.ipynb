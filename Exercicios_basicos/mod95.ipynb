{
 "cells": [
  {
   "cell_type": "code",
   "execution_count": 8,
   "id": "7c2b1f11",
   "metadata": {
    "ExecuteTime": {
     "end_time": "2021-09-02T01:23:54.923828Z",
     "start_time": "2021-09-02T01:23:49.283094Z"
    }
   },
   "outputs": [
    {
     "name": "stdout",
     "output_type": "stream",
     "text": [
      "Insira o primeiro número: 5\n",
      "Insira um número: 6\n",
      "Insira um número: 8\n",
      "Insira um número: 0\n",
      "19\n"
     ]
    }
   ],
   "source": [
    "num = int(input(\"Insira o primeiro número: \"))\n",
    "sum = 0\n",
    "while num != 0:\n",
    "    sum = sum + num\n",
    "    num = int(input(\"Insira um número: \")) \n",
    "\n",
    "print(sum)"
   ]
  },
  {
   "cell_type": "code",
   "execution_count": 4,
   "id": "176ef262",
   "metadata": {
    "ExecuteTime": {
     "end_time": "2021-10-06T02:18:45.111682Z",
     "start_time": "2021-10-06T02:18:45.101706Z"
    }
   },
   "outputs": [
    {
     "name": "stdout",
     "output_type": "stream",
     "text": [
      "The set is {5,9}.\n"
     ]
    }
   ],
   "source": [
    "a = 5\n",
    "b = 9\n",
    "setStr =  'The set is {{{},{}}}.'.format(a, b) # Como usar chaves nas f strings\n",
    "print(setStr)"
   ]
  },
  {
   "cell_type": "code",
   "execution_count": 6,
   "id": "fb92bbe8",
   "metadata": {
    "ExecuteTime": {
     "end_time": "2021-10-06T02:22:54.810072Z",
     "start_time": "2021-10-06T02:22:54.794080Z"
    }
   },
   "outputs": [
    {
     "name": "stdout",
     "output_type": "stream",
     "text": [
      "The set is {5,9}.\n"
     ]
    }
   ],
   "source": [
    "print(f'The set is {{{a},{b}}}.')"
   ]
  },
  {
   "cell_type": "code",
   "execution_count": 10,
   "id": "b58a1c73",
   "metadata": {
    "ExecuteTime": {
     "end_time": "2021-10-06T02:31:52.238094Z",
     "start_time": "2021-10-06T02:31:52.223042Z"
    }
   },
   "outputs": [],
   "source": [
    "def para_segundos(h,m,s):\n",
    "    \"\"\"\n",
    "    Função que converte horas, minutos e segundos em um número total de segundos.\n",
    "    \"\"\"\n",
    "    hs = 60*60*h\n",
    "    ms = 60*m\n",
    "    return int(hs+ms+s)"
   ]
  },
  {
   "cell_type": "code",
   "execution_count": 11,
   "id": "d829f99d",
   "metadata": {
    "ExecuteTime": {
     "end_time": "2021-10-06T02:31:53.036332Z",
     "start_time": "2021-10-06T02:31:53.018337Z"
    }
   },
   "outputs": [
    {
     "data": {
      "text/plain": [
       "90"
      ]
     },
     "execution_count": 11,
     "metadata": {},
     "output_type": "execute_result"
    }
   ],
   "source": [
    "para_segundos(0,1.5,0)"
   ]
  },
  {
   "cell_type": "code",
   "execution_count": 14,
   "id": "985a4098",
   "metadata": {
    "ExecuteTime": {
     "end_time": "2021-10-06T02:44:17.290585Z",
     "start_time": "2021-10-06T02:44:17.269527Z"
    }
   },
   "outputs": [],
   "source": [
    "def horas_em(s):\n",
    "    return s//3600\n",
    "\n",
    "def minutos_em(s):\n",
    "    return (s//60)%60\n",
    "\n",
    "def segundos_em(s):\n",
    "    h = horas_em(s)\n",
    "    min_rst = s%3600\n",
    "    min_rst2 = min_rst//60\n",
    "    s = min_rst%60\n",
    "    return s"
   ]
  },
  {
   "cell_type": "code",
   "execution_count": 19,
   "id": "ee6a7d92",
   "metadata": {
    "ExecuteTime": {
     "end_time": "2021-10-06T02:46:21.321361Z",
     "start_time": "2021-10-06T02:46:21.309367Z"
    }
   },
   "outputs": [],
   "source": [
    "def compare(a,b):\n",
    "    if a > b:\n",
    "        return 1\n",
    "    elif a == b:\n",
    "        return 0\n",
    "    else:\n",
    "        return -1"
   ]
  },
  {
   "cell_type": "code",
   "execution_count": 20,
   "id": "eb38aee4",
   "metadata": {
    "ExecuteTime": {
     "end_time": "2021-10-06T02:47:53.049675Z",
     "start_time": "2021-10-06T02:47:53.040673Z"
    }
   },
   "outputs": [],
   "source": [
    "def inclinacao(x1, y1, x2, y2):\n",
    "    return (y2-y1)/(x2-x1)"
   ]
  },
  {
   "cell_type": "code",
   "execution_count": 21,
   "id": "dc03ad41",
   "metadata": {
    "ExecuteTime": {
     "end_time": "2021-10-06T02:52:31.499173Z",
     "start_time": "2021-10-06T02:52:31.486183Z"
    }
   },
   "outputs": [],
   "source": [
    "def intersecta(x1, y1, x2, y2):\n",
    "    return (y2*x1-y1*x2)/(x1-x2)"
   ]
  },
  {
   "cell_type": "code",
   "execution_count": 22,
   "id": "f37f1c1b",
   "metadata": {
    "ExecuteTime": {
     "end_time": "2021-10-06T02:53:37.385337Z",
     "start_time": "2021-10-06T02:53:37.380306Z"
    }
   },
   "outputs": [
    {
     "data": {
      "text/plain": [
       "2.25"
      ]
     },
     "execution_count": 22,
     "metadata": {},
     "output_type": "execute_result"
    }
   ],
   "source": [
    "inclinacao(-1, 8, -5, -1) #A(-1, 8) e B(-5, -1)."
   ]
  },
  {
   "cell_type": "code",
   "execution_count": 23,
   "id": "2ee40b8d",
   "metadata": {
    "ExecuteTime": {
     "end_time": "2021-10-06T02:54:16.451515Z",
     "start_time": "2021-10-06T02:54:16.444519Z"
    }
   },
   "outputs": [
    {
     "data": {
      "text/plain": [
       "10.25"
      ]
     },
     "execution_count": 23,
     "metadata": {},
     "output_type": "execute_result"
    }
   ],
   "source": [
    "intersecta(-1, 8, -5, -1)"
   ]
  },
  {
   "cell_type": "code",
   "execution_count": 35,
   "id": "0e92b5b3",
   "metadata": {
    "ExecuteTime": {
     "end_time": "2021-10-06T03:05:30.139797Z",
     "start_time": "2021-10-06T03:05:30.126865Z"
    }
   },
   "outputs": [],
   "source": [
    "def f2c(t):\n",
    "    return 5*(t-32)/9\n",
    "\n",
    "def c2f(t):\n",
    "    return (9*t/5)+32"
   ]
  },
  {
   "cell_type": "code",
   "execution_count": 36,
   "id": "374d1a26",
   "metadata": {
    "ExecuteTime": {
     "end_time": "2021-10-06T03:05:31.159307Z",
     "start_time": "2021-10-06T03:05:31.150297Z"
    }
   },
   "outputs": [
    {
     "name": "stdout",
     "output_type": "stream",
     "text": [
      "ºF \t ºC\n",
      "0 \t -17.778\n",
      "1 \t -17.222\n",
      "2 \t -16.667\n",
      "3 \t -16.111\n",
      "4 \t -15.556\n",
      "5 \t -15.000\n",
      "6 \t -14.444\n",
      "7 \t -13.889\n",
      "8 \t -13.333\n",
      "9 \t -12.778\n"
     ]
    }
   ],
   "source": [
    "print(\"ºF\",\"\\t\",\"ºC\")\n",
    "for k in range(10):\n",
    "    print(k,\"\\t\",f\"{f2c(k):.3f}\")"
   ]
  },
  {
   "cell_type": "code",
   "execution_count": 37,
   "id": "70718e63",
   "metadata": {
    "ExecuteTime": {
     "end_time": "2021-10-06T03:05:32.657121Z",
     "start_time": "2021-10-06T03:05:32.637143Z"
    }
   },
   "outputs": [
    {
     "name": "stdout",
     "output_type": "stream",
     "text": [
      "ºC \t ºF\n",
      "0 \t 32.000\n",
      "1 \t 33.800\n",
      "2 \t 35.600\n",
      "3 \t 37.400\n",
      "4 \t 39.200\n",
      "5 \t 41.000\n",
      "6 \t 42.800\n",
      "7 \t 44.600\n",
      "8 \t 46.400\n",
      "9 \t 48.200\n"
     ]
    }
   ],
   "source": [
    "print(\"ºC\",\"\\t\",\"ºF\")\n",
    "for k in range(10):\n",
    "    print(k,\"\\t\",f\"{c2f(k):.3f}\")"
   ]
  }
 ],
 "metadata": {
  "kernelspec": {
   "display_name": "Python 3 (ipykernel)",
   "language": "python",
   "name": "python3"
  },
  "language_info": {
   "codemirror_mode": {
    "name": "ipython",
    "version": 3
   },
   "file_extension": ".py",
   "mimetype": "text/x-python",
   "name": "python",
   "nbconvert_exporter": "python",
   "pygments_lexer": "ipython3",
   "version": "3.9.6"
  },
  "latex_envs": {
   "LaTeX_envs_menu_present": true,
   "autoclose": false,
   "autocomplete": true,
   "bibliofile": "biblio.bib",
   "cite_by": "apalike",
   "current_citInitial": 1,
   "eqLabelWithNumbers": true,
   "eqNumInitial": 1,
   "hotkeys": {
    "equation": "Ctrl-E",
    "itemize": "Ctrl-I"
   },
   "labels_anchors": false,
   "latex_user_defs": false,
   "report_style_numbering": false,
   "user_envs_cfg": false
  },
  "toc": {
   "base_numbering": 1,
   "nav_menu": {},
   "number_sections": true,
   "sideBar": true,
   "skip_h1_title": false,
   "title_cell": "Table of Contents",
   "title_sidebar": "Contents",
   "toc_cell": false,
   "toc_position": {},
   "toc_section_display": true,
   "toc_window_display": false
  },
  "varInspector": {
   "cols": {
    "lenName": 16,
    "lenType": 16,
    "lenVar": 40
   },
   "kernels_config": {
    "python": {
     "delete_cmd_postfix": "",
     "delete_cmd_prefix": "del ",
     "library": "var_list.py",
     "varRefreshCmd": "print(var_dic_list())"
    },
    "r": {
     "delete_cmd_postfix": ") ",
     "delete_cmd_prefix": "rm(",
     "library": "var_list.r",
     "varRefreshCmd": "cat(var_dic_list()) "
    }
   },
   "types_to_exclude": [
    "module",
    "function",
    "builtin_function_or_method",
    "instance",
    "_Feature"
   ],
   "window_display": false
  }
 },
 "nbformat": 4,
 "nbformat_minor": 5
}
