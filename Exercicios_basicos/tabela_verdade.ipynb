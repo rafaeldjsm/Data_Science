{
 "cells": [
  {
   "cell_type": "code",
   "execution_count": 1,
   "metadata": {},
   "outputs": [],
   "source": [
    "def prodcuto_cart(lista,repeticoes=2):\n",
    "\n",
    "    res = lista\n",
    "    \n",
    "    if repeticoes > 1:\n",
    "        res = [(a, b) for a in res for b in lista]\n",
    "        for _ in range(repeticoes-2):\n",
    "            res = [(*a, b) for a in res for b in lista] \n",
    "        \n",
    "    return res"
   ]
  },
  {
   "cell_type": "code",
   "execution_count": 2,
   "metadata": {},
   "outputs": [
    {
     "data": {
      "text/plain": [
       "[(1, 1, 1),\n",
       " (1, 1, 0),\n",
       " (1, 0, 1),\n",
       " (1, 0, 0),\n",
       " (0, 1, 1),\n",
       " (0, 1, 0),\n",
       " (0, 0, 1),\n",
       " (0, 0, 0)]"
      ]
     },
     "execution_count": 2,
     "metadata": {},
     "output_type": "execute_result"
    }
   ],
   "source": [
    "boolist = [1,0]\n",
    "res_x = prodcuto_cart(boolist,3)\n",
    "res_x"
   ]
  },
  {
   "cell_type": "code",
   "execution_count": 3,
   "metadata": {},
   "outputs": [
    {
     "name": "stdout",
     "output_type": "stream",
     "text": [
      "False False\n",
      "True True\n",
      "True True\n",
      "True True\n",
      "True True\n",
      "True True\n",
      "True True\n",
      "True True\n"
     ]
    }
   ],
   "source": [
    "for k in res_x:\n",
    "    a = True if k[0]==1 else False\n",
    "    b = True if k[1]==1 else False\n",
    "    c = True if k[2]==1 else False\n",
    "    print(not(a and b and c),((not a) or (not b) or (not c)))"
   ]
  }
 ],
 "metadata": {
  "kernelspec": {
   "display_name": "Python 3",
   "language": "python",
   "name": "python3"
  },
  "language_info": {
   "codemirror_mode": {
    "name": "ipython",
    "version": 3
   },
   "file_extension": ".py",
   "mimetype": "text/x-python",
   "name": "python",
   "nbconvert_exporter": "python",
   "pygments_lexer": "ipython3",
   "version": "3.8.5"
  }
 },
 "nbformat": 4,
 "nbformat_minor": 4
}
