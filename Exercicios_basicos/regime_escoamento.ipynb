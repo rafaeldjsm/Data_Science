{
 "cells": [
  {
   "cell_type": "markdown",
   "metadata": {
    "id": "xrFh88H6E3q8"
   },
   "source": [
    "# Cálculo do Valor do Número de Reynolds para definição de regime de escoamento.\n",
    "\n",
    "## Uma maneira de testar a integração colab google sheets."
   ]
  },
  {
   "cell_type": "code",
   "execution_count": 1,
   "metadata": {
    "id": "Un1bYgLJZEa2"
   },
   "outputs": [
    {
     "name": "stdout",
     "output_type": "stream",
     "text": [
      "Defaulting to user installation because normal site-packages is not writeable\n"
     ]
    },
    {
     "name": "stderr",
     "output_type": "stream",
     "text": [
      "WARNING: Retrying (Retry(total=4, connect=None, read=None, redirect=None, status=None)) after connection broken by 'ConnectTimeoutError(<pip._vendor.urllib3.connection.HTTPSConnection object at 0x03A04B38>, 'Connection to pypi.org timed out. (connect timeout=15)')': /simple/gspread/\n",
      "WARNING: Retrying (Retry(total=3, connect=None, read=None, redirect=None, status=None)) after connection broken by 'ConnectTimeoutError(<pip._vendor.urllib3.connection.HTTPSConnection object at 0x03A04D18>, 'Connection to pypi.org timed out. (connect timeout=15)')': /simple/gspread/\n",
      "WARNING: Retrying (Retry(total=2, connect=None, read=None, redirect=None, status=None)) after connection broken by 'ConnectTimeoutError(<pip._vendor.urllib3.connection.HTTPSConnection object at 0x03A04DD8>, 'Connection to pypi.org timed out. (connect timeout=15)')': /simple/gspread/\n",
      "WARNING: Retrying (Retry(total=1, connect=None, read=None, redirect=None, status=None)) after connection broken by 'ConnectTimeoutError(<pip._vendor.urllib3.connection.HTTPSConnection object at 0x03A04E98>, 'Connection to pypi.org timed out. (connect timeout=15)')': /simple/gspread/\n",
      "WARNING: Retrying (Retry(total=0, connect=None, read=None, redirect=None, status=None)) after connection broken by 'ConnectTimeoutError(<pip._vendor.urllib3.connection.HTTPSConnection object at 0x03A04F58>, 'Connection to pypi.org timed out. (connect timeout=15)')': /simple/gspread/\n",
      "ERROR: Could not find a version that satisfies the requirement gspread (from versions: none)\n",
      "ERROR: No matching distribution found for gspread\n"
     ]
    }
   ],
   "source": [
    "!pip install --upgrade gspread"
   ]
  },
  {
   "cell_type": "code",
   "execution_count": null,
   "metadata": {
    "id": "gTL8-hfIE0rF"
   },
   "outputs": [],
   "source": [
    "import pandas as pd\n",
    "import gspread\n",
    "from oauth2client.client import GoogleCredentials\n",
    "from google.colab import auth\n",
    "auth.authenticate_user()\n",
    "\n",
    "gc = gspread.authorize(GoogleCredentials.get_application_default())\n",
    "\n",
    "spreadsheet = gc.open_by_url('https://docs.google.com/spreadsheets/d/1PP29m4YoU3fDAH60vssQdMBgG3onDTjKx4hwUzuRVqQ') # use this when you have the complete url (the edit#gid means permission)\n",
    "sheet =  spreadsheet.get_worksheet(0)  # 0 means the first sheet in the file\n"
   ]
  },
  {
   "cell_type": "code",
   "execution_count": null,
   "metadata": {
    "colab": {
     "base_uri": "https://localhost:8080/"
    },
    "id": "FBwBf3OjdWiy",
    "outputId": "d303c38b-6b1d-4a63-8d33-7d2e12d2d662"
   },
   "outputs": [],
   "source": [
    "sheet.col_values(2)"
   ]
  },
  {
   "cell_type": "code",
   "execution_count": null,
   "metadata": {
    "colab": {
     "base_uri": "https://localhost:8080/"
    },
    "id": "EXXSFHw4ZiIj",
    "outputId": "e9e3b43f-5b7d-4910-e17b-90e35fb466f9"
   },
   "outputs": [],
   "source": [
    "values_list = sheet.col_values(2)[1:] # Como algumas vezes a celula do número de Reynolds pode estar vazia, analisaremos as celulas após ela.\n",
    "values_list = [k.replace(\".\",\"\") for k in values_list] # Como os valores são mportados em strings, retiro os pontos marcadores da milhagem\n",
    "values_list = [k.replace(\",\",\".\") for k in values_list] # Como os valores são mportados em strings, troco o indicador de decimal de \",\" para \".\"\n",
    "values_list = [float(k) for k in values_list] #Converto para float\n",
    "values_list"
   ]
  },
  {
   "cell_type": "code",
   "execution_count": null,
   "metadata": {
    "colab": {
     "base_uri": "https://localhost:8080/"
    },
    "id": "4zDLBTwlXD5r",
    "outputId": "0c695669-b0b4-449f-bee9-b46668914371"
   },
   "outputs": [
    {
     "data": {
      "text/plain": [
       "{'spreadsheetId': '1PP29m4YoU3fDAH60vssQdMBgG3onDTjKx4hwUzuRVqQ',\n",
       " 'updatedCells': 1,\n",
       " 'updatedColumns': 1,\n",
       " 'updatedRange': \"'Página1'!B1\",\n",
       " 'updatedRows': 1}"
      ]
     },
     "execution_count": 5,
     "metadata": {},
     "output_type": "execute_result"
    }
   ],
   "source": [
    "Re = values_list[0]*values_list[1]*values_list[2]/values_list[3] #Utilizo os valores obtidos para atualizar a célula referente ao nuúmeor de Reynolds\n",
    "\n",
    "sheet.update(\"B1\", Re)"
   ]
  },
  {
   "cell_type": "code",
   "execution_count": null,
   "metadata": {
    "id": "RNdMoVizgzRG"
   },
   "outputs": [],
   "source": [
    "if Re <= 2000:\n",
    "  sheet.update(\"C1\", \"Regime Laminar\")\n",
    "elif Re > 2000 and Re <= 4000:\n",
    "  sheet.update(\"C1\", \"Regime de Transição\")\n",
    "else:\n",
    "  sheet.update(\"C1\", \"Regime Turbulento\")"
   ]
  }
 ],
 "metadata": {
  "colab": {
   "collapsed_sections": [],
   "name": "regime_escoamento.ipynb",
   "provenance": []
  },
  "kernelspec": {
   "display_name": "Python 3",
   "language": "python",
   "name": "python3"
  },
  "language_info": {
   "codemirror_mode": {
    "name": "ipython",
    "version": 3
   },
   "file_extension": ".py",
   "mimetype": "text/x-python",
   "name": "python",
   "nbconvert_exporter": "python",
   "pygments_lexer": "ipython3",
   "version": "3.8.5"
  }
 },
 "nbformat": 4,
 "nbformat_minor": 1
}
