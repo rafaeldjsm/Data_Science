{
 "cells": [
  {
   "cell_type": "code",
   "execution_count": 45,
   "metadata": {
    "ExecuteTime": {
     "end_time": "2021-11-01T23:46:08.517634Z",
     "start_time": "2021-11-01T23:46:02.512726Z"
    }
   },
   "outputs": [],
   "source": [
    "import pandas as pd\n",
    "import numpy as np\n",
    "import random as rnd\n",
    "import seaborn as sns\n",
    "import string \n",
    "import turtle\n",
    "import math\n",
    "import sys"
   ]
  },
  {
   "cell_type": "markdown",
   "metadata": {},
   "source": [
    "## Dicionários"
   ]
  },
  {
   "cell_type": "markdown",
   "metadata": {},
   "source": [
    "## Comparação entre dicionários"
   ]
  },
  {
   "cell_type": "code",
   "execution_count": 46,
   "metadata": {},
   "outputs": [],
   "source": [
    "dict1 = {'a':3,'b':5,'c':7,'d':11,'e':13}\n",
    "dict2 = {'e':13,'d':11,'a':3,'b':5,'c':7}"
   ]
  },
  {
   "cell_type": "code",
   "execution_count": 47,
   "metadata": {},
   "outputs": [
    {
     "data": {
      "text/plain": [
       "True"
      ]
     },
     "execution_count": 47,
     "metadata": {},
     "output_type": "execute_result"
    }
   ],
   "source": [
    "dict1 == dict2"
   ]
  },
  {
   "cell_type": "code",
   "execution_count": 49,
   "metadata": {},
   "outputs": [
    {
     "name": "stdout",
     "output_type": "stream",
     "text": [
      "Dial a number5\n"
     ]
    },
    {
     "data": {
      "text/plain": [
       "'Entered 5'"
      ]
     },
     "execution_count": 49,
     "metadata": {},
     "output_type": "execute_result"
    }
   ],
   "source": [
    "def switcher(number):\n",
    "\n",
    "  # Use dicionário para armazenar switch cases\n",
    "  # Se não for encontrado, o get() será o valor padrão\n",
    "  return {\n",
    "    '0':\"Entered 0\",\n",
    "    '1':\"Entered 1\",\n",
    "    '2':\"Entered 2\",\n",
    "    '3':\"Entered 3\",\n",
    "    '4':\"Entered 4\",\n",
    "    '5':\"Entered 5\",\n",
    "    '6':\"Entered 6\",\n",
    "    '7':\"Entered 7\",\n",
    "    '8':\"Entered 8\",\n",
    "    '9':\"Entered 9\",\n",
    "  }.get(number,\"Invalid number!\")\n",
    "\n",
    "\n",
    "# input() lê uma entrado do usuário de stdin\n",
    "number = input(\"Dial a number\")\n",
    "switcher(number)"
   ]
  },
  {
   "cell_type": "code",
   "execution_count": null,
   "metadata": {},
   "outputs": [],
   "source": [
    "switcher('9')"
   ]
  },
  {
   "cell_type": "code",
   "execution_count": null,
   "metadata": {},
   "outputs": [],
   "source": [
    "\"\"\"\n",
    "EXERCÍCIO: implemente o exemplo de switch case acima usando as condições \"if/else\"\n",
    "\n",
    "Prompt: para cada dígito entre 0-9, o programa imprimirá uma confirmação \n",
    "para o valor inserido ou irá imprimir \"invalid inputs\" para todos os outros números.\n",
    "\"\"\"\n",
    "def switcher2(number):\n",
    "    if number == '0':\n",
    "        return \"Entered 0\"\n",
    "    elif number == '1':\n",
    "        return \"Entered 1\"\n",
    "    elif number == '2':\n",
    "        return \"Entered 2\"\n",
    "    elif number == '3':\n",
    "        return \"Entered 3\"\n",
    "    elif number == '4':\n",
    "        return \"Entered 4\"\n",
    "    elif number == '5':\n",
    "        return \"Entered 5\"\n",
    "    elif number == '6':\n",
    "        return \"Entered 6\"\n",
    "    elif number == '7':\n",
    "        return \"Entered 7\"\n",
    "    elif number == '8':\n",
    "        return \"Entered 8\"\n",
    "    elif number == '9':\n",
    "        return \"Entered 9\"\n",
    "    else:\n",
    "        return \"Invalid number!\""
   ]
  },
  {
   "cell_type": "code",
   "execution_count": null,
   "metadata": {},
   "outputs": [],
   "source": [
    "number = input(\"Dial a number\")\n",
    "switcher2(number)"
   ]
  },
  {
   "cell_type": "code",
   "execution_count": null,
   "metadata": {},
   "outputs": [],
   "source": [
    "eng2sp = {}\n",
    "eng2sp['one'] = 'uno'"
   ]
  },
  {
   "cell_type": "code",
   "execution_count": null,
   "metadata": {},
   "outputs": [],
   "source": [
    "eng2sp"
   ]
  },
  {
   "cell_type": "code",
   "execution_count": null,
   "metadata": {},
   "outputs": [],
   "source": [
    "inventory = {'apples': 430, 'bananas': 430, 'oranges': 525, 'pears': 217}"
   ]
  },
  {
   "cell_type": "markdown",
   "metadata": {},
   "source": [
    "Como excluir um par key:value de um dicionário"
   ]
  },
  {
   "cell_type": "code",
   "execution_count": null,
   "metadata": {},
   "outputs": [],
   "source": [
    "del inventory['pears']"
   ]
  },
  {
   "cell_type": "code",
   "execution_count": null,
   "metadata": {},
   "outputs": [],
   "source": [
    "# Para remover o último item num dicionário, pode-se utilizar o método popitem() :\n",
    "\n",
    "dictionary = {\"cat\": \"chat\", \"dog\": \"chien\", \"horse\": \"cheval\"}\n",
    "\n",
    "dictionary.popitem()\n",
    "print(dictionary)    # outputs: {'cat': 'chat', 'dog': 'chien'}"
   ]
  },
  {
   "cell_type": "code",
   "execution_count": null,
   "metadata": {},
   "outputs": [],
   "source": [
    "pol_eng_dictionary = {\n",
    "    \"zamek\": \"castle\",\n",
    "    \"woda\": \"water\",\n",
    "    \"gleba\": \"soil\"\n",
    "    }\n",
    "\n",
    "print(len(pol_eng_dictionary))    # outputs: 3\n",
    "del pol_eng_dictionary[\"zamek\"]    # remove an item\n",
    "print(len(pol_eng_dictionary))    # outputs: 2\n",
    "\n",
    "pol_eng_dictionary.clear()   # removes all the items\n",
    "print(len(pol_eng_dictionary))    # outputs: 0\n",
    "\n",
    "del pol_eng_dictionary    # removes the dictionary\n",
    "\n",
    "print(pol_eng_dictionary)"
   ]
  },
  {
   "cell_type": "code",
   "execution_count": null,
   "metadata": {},
   "outputs": [],
   "source": [
    "d1 = {'Adam Smith': 'A', 'Judy Paxton': 'B+'}\n",
    "d2 = {'Mary Louis': 'A', 'Patrick White': 'C'}\n",
    "d3 = {}\n",
    "\n",
    "for item in (d1, d2):\n",
    "    d3.update(item)\n",
    "\n",
    "print(d3)"
   ]
  },
  {
   "cell_type": "code",
   "execution_count": null,
   "metadata": {},
   "outputs": [],
   "source": [
    "for item in (d1, d2):\n",
    "    print(item)"
   ]
  },
  {
   "cell_type": "markdown",
   "metadata": {},
   "source": [
    "Transformando tupla em dicionário"
   ]
  },
  {
   "cell_type": "code",
   "execution_count": null,
   "metadata": {},
   "outputs": [],
   "source": [
    "colors = ((\"green\", \"#008000\"), (\"blue\", \"#0000FF\"))\n",
    "\n",
    "colors_dictionary = dict(colors)\n",
    "print(colors_dictionary)"
   ]
  },
  {
   "cell_type": "code",
   "execution_count": null,
   "metadata": {},
   "outputs": [],
   "source": [
    "my_dictionary = {\"A\": 1, \"B\": 2}\n",
    "copy_my_dictionary = my_dictionary#.copy()\n",
    "my_dictionary.clear()\n",
    "\n",
    "print(copy_my_dictionary)\n"
   ]
  },
  {
   "cell_type": "code",
   "execution_count": null,
   "metadata": {},
   "outputs": [],
   "source": [
    "listat = [430,430,525,217]\n",
    "listat.remove(430) #inventory['pears']\n",
    "listat"
   ]
  },
  {
   "cell_type": "code",
   "execution_count": null,
   "metadata": {},
   "outputs": [],
   "source": [
    "inventory.remove(430) #inventory['pears']\n",
    "inventory"
   ]
  },
  {
   "cell_type": "code",
   "execution_count": null,
   "metadata": {},
   "outputs": [],
   "source": [
    "inventory = {'apples': 430, 'bananas': 312, 'oranges': 525, 'pears': 217}\n",
    "\n",
    "for k in inventory:\n",
    "   print(\"Got key\", k)"
   ]
  },
  {
   "cell_type": "markdown",
   "metadata": {},
   "source": [
    "## Break e Continue\n",
    "\n",
    "* Break: pular os códigos restantes no loop bem como as iterações remanecentes, quebrar (break) o loop mais interno.\n",
    "* Continue: pular os códigos restantes no loop e continuar para a próxima iteração do loop."
   ]
  },
  {
   "cell_type": "code",
   "execution_count": null,
   "metadata": {},
   "outputs": [],
   "source": [
    "value = None\n",
    "if value is None:\n",
    "    print(\"Sorry, you don't carry any value\")"
   ]
  },
  {
   "cell_type": "code",
   "execution_count": null,
   "metadata": {
    "ExecuteTime": {
     "end_time": "2021-10-16T20:52:58.535650Z",
     "start_time": "2021-10-16T20:52:58.518660Z"
    }
   },
   "outputs": [],
   "source": [
    "count = 1\n",
    "\n",
    "# Implementação do loop WHILE\n",
    "while count + 1 <= 20:\n",
    "  if count % 5 == 0:\n",
    "    print(\"SKIP\")\n",
    "    count += 1\n",
    "    continue\n",
    "  print(count)\n",
    "  count += 1"
   ]
  },
  {
   "cell_type": "code",
   "execution_count": null,
   "metadata": {
    "ExecuteTime": {
     "end_time": "2021-10-16T20:53:03.665523Z",
     "start_time": "2021-10-16T20:53:03.648535Z"
    }
   },
   "outputs": [],
   "source": [
    "# Implementação do loop FOR \n",
    "\n",
    "for i in range (1, 20):\n",
    "  if i % 5 == 0:\n",
    "    print(\"SKIP\")\n",
    "    continue\n",
    "  print(i)"
   ]
  },
  {
   "cell_type": "markdown",
   "metadata": {},
   "source": [
    "Não se sinta obrigado a codificar os seus programas de uma forma que seja sempre a mais curta e a mais compacta. A legibilidade pode ser um fator mais importante. Mantenha o seu código preparado para um novo programador."
   ]
  },
  {
   "cell_type": "code",
   "execution_count": null,
   "metadata": {
    "ExecuteTime": {
     "end_time": "2021-10-16T20:53:08.251662Z",
     "start_time": "2021-10-16T20:53:08.228677Z"
    }
   },
   "outputs": [],
   "source": [
    "# Implementação do loop FOR \n",
    "\n",
    "for i in range (1, 20):\n",
    "  if i % 5 == 0:\n",
    "    print(\"Break\")\n",
    "    break\n",
    "  print(i)"
   ]
  },
  {
   "cell_type": "code",
   "execution_count": null,
   "metadata": {},
   "outputs": [],
   "source": [
    "secret_number = 777\n",
    "\n",
    "print(\n",
    "\"\"\"\n",
    "+================================+\n",
    "| Welcome to my game, muggle!    |\n",
    "| Enter an integer number        |\n",
    "| and guess what number I've     |\n",
    "| picked for you.                |\n",
    "| So, what is the secret number? |\n",
    "+================================+\n",
    "\"\"\")\n",
    "\n",
    "number = int(input(\"what is the secret number?: \"))\n",
    "\n",
    "while number != secret_number:\n",
    "    print(\"Ha ha! You're stuck in my loop!\")\n",
    "    number = int(input(\"what is the secret number?: \"))\n",
    "\n",
    "print(\"Well done, muggle! You are free now.\")"
   ]
  },
  {
   "cell_type": "markdown",
   "metadata": {},
   "source": [
    "## Listas"
   ]
  },
  {
   "cell_type": "code",
   "execution_count": null,
   "metadata": {},
   "outputs": [],
   "source": [
    "# step 1\n",
    "beatles = []\n",
    "print(\"Step 1:\", beatles)\n",
    "\n",
    "# step 2\n",
    "beatles.append('John Lennon')\n",
    "beatles.append('Paul McCartney')\n",
    "beatles.append('George Harrison')\n",
    "\n",
    "print(\"Step 2:\", beatles)\n",
    "\n",
    "# step 3\n",
    "for k in ['Stu Sutcliffe','Pete Best']:\n",
    "    beatles.append(k)\n",
    "print(\"Step 3:\", beatles)\n",
    "\n",
    "# step 4\n",
    "del beatles[-1]\n",
    "del beatles[-1]\n",
    "print(\"Step 4:\", beatles)\n",
    "\n",
    "# step 5\n",
    "beatles.insert(0,'Ringo Starr')\n",
    "print(\"Step 5:\", beatles)\n",
    "\n",
    "\n",
    "# testing list legth\n",
    "print(\"The Fab\", len(beatles))"
   ]
  },
  {
   "cell_type": "code",
   "execution_count": null,
   "metadata": {},
   "outputs": [],
   "source": [
    "my_list = [1, 2, 4, 4, 1, 4, 2,2, 6, 2, 9,9]\n",
    "#\n",
    "# Write your code here.\n",
    "k = 0\n",
    "while k < len(my_list)-1:\n",
    "    if my_list[k] in my_list[k+1:]:\n",
    "        del my_list[k]\n",
    "    else:\n",
    "        k += 1\n",
    "\n",
    "#\n",
    "print(\"The list with unique elements only:\")\n",
    "print(my_list)"
   ]
  },
  {
   "cell_type": "code",
   "execution_count": null,
   "metadata": {
    "ExecuteTime": {
     "end_time": "2021-10-16T21:12:21.207740Z",
     "start_time": "2021-10-16T21:12:21.186752Z"
    }
   },
   "outputs": [],
   "source": [
    "a = [1,3,7,5,8,2,3,6,7,12,3,2,3,3]\n",
    "\n",
    "def remov_rep2(s):\n",
    "    k = 0\n",
    "    sc = s[:] # Para evitar que a função modifique a lista usada como argumento\n",
    "    while k < len(sc):\n",
    "        if sc[k] in sc[k+1:]:\n",
    "            del sc[k]\n",
    "        else:\n",
    "            k+=1\n",
    "    return sc\n",
    "        \n",
    "        \n",
    "remov_rep2(a)"
   ]
  },
  {
   "cell_type": "code",
   "execution_count": null,
   "metadata": {
    "ExecuteTime": {
     "end_time": "2021-10-16T21:22:43.054858Z",
     "start_time": "2021-10-16T21:22:43.037868Z"
    }
   },
   "outputs": [],
   "source": [
    "a = [1,3,7,5,8,2,3,6,7,12,3,2,3,3]\n",
    "\n",
    "def remov_rep3(s):\n",
    "    st1 = []\n",
    "    for k in s:\n",
    "        if k not in st1:\n",
    "            st1.append(k)\n",
    "    return st1\n",
    "             \n",
    "remov_rep3(a)"
   ]
  },
  {
   "cell_type": "markdown",
   "metadata": {},
   "source": [
    "## Strings"
   ]
  },
  {
   "cell_type": "code",
   "execution_count": null,
   "metadata": {
    "ExecuteTime": {
     "end_time": "2021-10-16T20:54:50.177252Z",
     "start_time": "2021-10-16T20:54:35.632336Z"
    }
   },
   "outputs": [],
   "source": [
    "def isPalindrome(str_in):\n",
    "    \n",
    "    str_in = ''.join(ch for ch in str_in if ch not in string.punctuation)\n",
    "    str_in = str_in.replace(\" \", \"\").lower() # Diferente do strip, pois tira até espaços em branco entre palavras\n",
    "    return str_in == str_in[::-1]\n",
    "\n",
    "# Solicitar que o usuário digite a sentença\n",
    "def main():\n",
    "  userInput = input(\"Enter a WORD to be tested as a palindrome:\")\n",
    "\n",
    "  if (isPalindrome(userInput)):\n",
    "    print(userInput + \" is a palindrome!\")\n",
    "  else:\n",
    "    print(userInput + \" is NOT a palindrome!\")\n",
    "\n",
    "if __name__ == \"__main__\":\n",
    "    main()"
   ]
  },
  {
   "cell_type": "code",
   "execution_count": null,
   "metadata": {},
   "outputs": [],
   "source": [
    "string.punctuation"
   ]
  },
  {
   "cell_type": "code",
   "execution_count": null,
   "metadata": {},
   "outputs": [],
   "source": [
    "st = 'amora é uma ótima fruta'"
   ]
  },
  {
   "cell_type": "code",
   "execution_count": null,
   "metadata": {},
   "outputs": [],
   "source": [
    "''.join(ch for ch in st if ch not in string.punctuation)"
   ]
  },
  {
   "cell_type": "code",
   "execution_count": null,
   "metadata": {},
   "outputs": [],
   "source": [
    "st.strip()"
   ]
  },
  {
   "cell_type": "code",
   "execution_count": null,
   "metadata": {},
   "outputs": [],
   "source": [
    "st.replace(\" \", \"\").lower()"
   ]
  },
  {
   "cell_type": "code",
   "execution_count": null,
   "metadata": {},
   "outputs": [],
   "source": [
    "# Initiate a list with elements\n",
    "list2 = ['hello', 'hola', 'olá']\n",
    "\n",
    "# Insert a new element as a specific location, at index 1\n",
    "list2.insert(1,'hallo')\n",
    "list2[1]"
   ]
  },
  {
   "cell_type": "code",
   "execution_count": null,
   "metadata": {},
   "outputs": [],
   "source": [
    "list2"
   ]
  },
  {
   "cell_type": "code",
   "execution_count": null,
   "metadata": {},
   "outputs": [],
   "source": [
    "a = [5,8,2,38,3]\n",
    "\n",
    "sorted(a)"
   ]
  },
  {
   "cell_type": "code",
   "execution_count": null,
   "metadata": {},
   "outputs": [],
   "source": [
    "a"
   ]
  },
  {
   "cell_type": "code",
   "execution_count": null,
   "metadata": {},
   "outputs": [],
   "source": [
    "a.sort() # Não tem retorno, apenas modifica a lista original"
   ]
  },
  {
   "cell_type": "code",
   "execution_count": null,
   "metadata": {},
   "outputs": [],
   "source": [
    "x = (1,2,3)\n",
    "x[1]"
   ]
  },
  {
   "cell_type": "code",
   "execution_count": null,
   "metadata": {},
   "outputs": [],
   "source": [
    "x.index(1)"
   ]
  },
  {
   "cell_type": "markdown",
   "metadata": {},
   "source": [
    "* Uma aspa precedida por uma barra invertida muda o seu significado - não é um delimitador, mas apenas uma aspa. Isto funcionará como pretendido:"
   ]
  },
  {
   "cell_type": "code",
   "execution_count": null,
   "metadata": {},
   "outputs": [],
   "source": [
    "print(\"I like \\\"Monty Python\\\"\")"
   ]
  },
  {
   "cell_type": "code",
   "execution_count": null,
   "metadata": {},
   "outputs": [],
   "source": [
    "print('I like \"Monty Python\"')"
   ]
  },
  {
   "cell_type": "code",
   "execution_count": null,
   "metadata": {},
   "outputs": [],
   "source": [
    "print(\"I like 'Monty Python'\")"
   ]
  },
  {
   "cell_type": "markdown",
   "metadata": {},
   "source": [
    "## Conjuntos : set\n",
    "\n",
    "* set : Conjunto: uma estrutura de dados mutável que armazena objetos não duplicados e imutáveis e ordena os elementos em ordem ascendente. Cada elemento do conjunto é único."
   ]
  },
  {
   "cell_type": "code",
   "execution_count": null,
   "metadata": {},
   "outputs": [],
   "source": [
    "ex2 = {j for j in range(10)}\n",
    "\n",
    "# 2 já existe no ex2. O que acontece se quisermos acrescentar o 2 novamente?\n",
    "  # Nota: A implementação do conjunto NÃO definiu append(), então usaremos add().\n",
    "    # add() irá inserir o novo elemento na posição correta com a ordenação do conjunto\n",
    "ex2.add(2)\n",
    "ex2.add(100)\n",
    "ex2.add(50)\n",
    "ex2"
   ]
  },
  {
   "cell_type": "code",
   "execution_count": null,
   "metadata": {},
   "outputs": [],
   "source": [
    "type(ex2)"
   ]
  },
  {
   "cell_type": "code",
   "execution_count": null,
   "metadata": {},
   "outputs": [],
   "source": [
    "ex3 = {3,5,6,2,8,2}\n",
    "ex3, type(ex3)"
   ]
  },
  {
   "cell_type": "code",
   "execution_count": null,
   "metadata": {},
   "outputs": [],
   "source": [
    "# objetos mutáveis não podem ser colocados em um conjunto\n",
    "d_set = {[1,2,3]}\n",
    "\n",
    "d_set"
   ]
  },
  {
   "cell_type": "code",
   "execution_count": null,
   "metadata": {},
   "outputs": [],
   "source": [
    "testst = set()\n",
    "testst"
   ]
  },
  {
   "cell_type": "code",
   "execution_count": null,
   "metadata": {},
   "outputs": [],
   "source": [
    "testst.add(6)\n",
    "testst"
   ]
  },
  {
   "cell_type": "code",
   "execution_count": null,
   "metadata": {
    "scrolled": true
   },
   "outputs": [],
   "source": [
    "3e8"
   ]
  },
  {
   "cell_type": "code",
   "execution_count": null,
   "metadata": {},
   "outputs": [],
   "source": [
    "print(True > False)\n",
    "print(True < False)"
   ]
  },
  {
   "cell_type": "code",
   "execution_count": null,
   "metadata": {},
   "outputs": [],
   "source": [
    "d = 2+4\n",
    "type(d)"
   ]
  },
  {
   "cell_type": "code",
   "execution_count": null,
   "metadata": {},
   "outputs": [],
   "source": [
    "lst = [[x for x in range(3)] for y in range(3)]\n",
    "lst"
   ]
  },
  {
   "cell_type": "code",
   "execution_count": null,
   "metadata": {},
   "outputs": [],
   "source": [
    "x = 1\n",
    "y = 2\n",
    "x,y,z = x,x,y\n",
    "z,y,z = x,y,z\n",
    "\n",
    "print(x,y,z)"
   ]
  },
  {
   "cell_type": "code",
   "execution_count": null,
   "metadata": {},
   "outputs": [],
   "source": [
    "[i for i in range(-1,-2)]"
   ]
  },
  {
   "cell_type": "code",
   "execution_count": null,
   "metadata": {},
   "outputs": [],
   "source": [
    "print = 2\n",
    "print"
   ]
  },
  {
   "cell_type": "markdown",
   "metadata": {},
   "source": [
    "* The get method allows us to access the value associated with a key, similar to the [ ] operator. The important difference is that get will not cause a runtime error if the key is not present.\n",
    "\n",
    "* the in operator returns True if a key is in the dictionary"
   ]
  },
  {
   "cell_type": "code",
   "execution_count": null,
   "metadata": {
    "scrolled": false
   },
   "outputs": [],
   "source": [
    "import random\n",
    "\n",
    "def display_board(board):\n",
    "    # The function accepts one parameter containing the board's current status\n",
    "    # and prints it out to the console.\n",
    "\n",
    "    '''\n",
    "    board - > lista\n",
    "    '''\n",
    "    \n",
    "    str1 = '+-------+-------+-------+\\n|       |       |       |\\n'\n",
    "    str2 = '|       |       |       |\\n+-------+-------+-------+\\n'\n",
    "    str3 = '|       |       |       |\\n'\n",
    "    strt = str1\n",
    "    \n",
    "    for k in range(3):\n",
    "        str4 = f'|   {board[3*k]}   |   {board[3*k+1]}   |   {board[3*k+2]}   |\\n'\n",
    "        if k == 2:\n",
    "            str3 = ''\n",
    "        strt += str4 + str2 + str3\n",
    "        \n",
    "    print(strt)\n",
    "  \n",
    "\n",
    "def enter_move(board):\n",
    "    # The function accepts the board current status, asks the user about their move, \n",
    "    # checks the input and updates the board according to the user's decision.\n",
    "    n = int(input(\"Entre your move: \"))\n",
    "    \n",
    "    while n not in make_list_of_free_fields(board):\n",
    "        n = int(input(\"Entre your move: \"))\n",
    "    \n",
    "    board[n-1] = 'O'\n",
    "\n",
    "def make_list_of_free_fields(board):\n",
    "    # The function browses the board and builds a list of all the free squares; \n",
    "    # the list consists of tuples, while each tuple is a pair of row and column numbers.   \n",
    "    return [k for k in board if k not in ['O','X']]\n",
    "\n",
    "\n",
    "def victory_for(board, sign):\n",
    "    # The function analyzes the board status in order to check if \n",
    "    # the player using 'O's or 'X's has won the game\n",
    "    \n",
    "    lst_o = [k+1 for k in range(9) if board[k] == 'O']\n",
    "    lst_x = [k+1 for k in range(9) if board[k] == 'X']\n",
    "    \n",
    "\n",
    "    if ({1,2,3}.issubset(set(lst_o)) or \n",
    "        {4,5,6}.issubset(set(lst_o)) or\n",
    "        {7,8,9}.issubset(set(lst_o)) or\n",
    "        {1,4,7}.issubset(set(lst_o)) or\n",
    "        {2,5,8}.issubset(set(lst_o)) or\n",
    "        {3,6,9}.issubset(set(lst_o)) or\n",
    "        {1,5,9}.issubset(set(lst_o)) or\n",
    "        {3,5,7}.issubset(set(lst_o))):\n",
    "        print('You won!')\n",
    "        sign = False\n",
    "\n",
    "    if ({1,2,3}.issubset(set(lst_x)) or \n",
    "        {4,5,6}.issubset(set(lst_x)) or\n",
    "        {7,8,9}.issubset(set(lst_x)) or\n",
    "        {1,4,7}.issubset(set(lst_x)) or\n",
    "        {2,5,8}.issubset(set(lst_x)) or\n",
    "        {3,6,9}.issubset(set(lst_x)) or        \n",
    "        {1,5,9}.issubset(set(lst_x)) or\n",
    "        {3,5,7}.issubset(set(lst_x))):\n",
    "        print('Computer won!')\n",
    "        sign = False \n",
    "        \n",
    "    if len(make_list_of_free_fields(board)) == 0 and sign:\n",
    "        print(\"the game's tied.\")\n",
    "        sign = False\n",
    "    \n",
    "    return sign\n",
    "\n",
    "def draw_move(board):\n",
    "    # The function draws the computer's move and updates the board.\n",
    "    n = random.choice(make_list_of_free_fields(board))\n",
    "    board[n - 1] = 'X'\n",
    "\n",
    "    \n",
    "board = [*range(1,10)]\n",
    "board[4] = 'X'\n",
    "sign = True\n",
    "display_board(board)\n",
    "\n",
    "while victory_for(board, sign):\n",
    "    enter_move(board)\n",
    "    display_board(board)\n",
    "    sign = victory_for(board, sign)\n",
    "    if sign == False:\n",
    "        break\n",
    "    draw_move(board)\n",
    "    display_board(board)\n",
    "    sign = victory_for(board, sign)\n",
    "    if sign == False:\n",
    "        break"
   ]
  },
  {
   "cell_type": "code",
   "execution_count": null,
   "metadata": {},
   "outputs": [],
   "source": [
    "def fun(in=2,out=3):\n",
    "    return in* out \n",
    "\n",
    "print(fun(3))"
   ]
  },
  {
   "cell_type": "markdown",
   "metadata": {},
   "source": [
    "program that allows the user to enter a string. It then prints a table of the letters of the alphabet in alphabetical order which occur in the string together with the number of times each letter occurs. Case should be ignored."
   ]
  },
  {
   "cell_type": "code",
   "execution_count": null,
   "metadata": {},
   "outputs": [],
   "source": [
    "chr(1)"
   ]
  },
  {
   "cell_type": "code",
   "execution_count": null,
   "metadata": {},
   "outputs": [],
   "source": [
    "ord('a')"
   ]
  },
  {
   "cell_type": "code",
   "execution_count": null,
   "metadata": {},
   "outputs": [],
   "source": [
    "ord(\"z\")"
   ]
  },
  {
   "cell_type": "code",
   "execution_count": null,
   "metadata": {},
   "outputs": [],
   "source": [
    "def letterhist(texto):\n",
    "    \n",
    "    texto2 = texto.lower()\n",
    "    textol = list(texto2)\n",
    "    textol = list(set(textol))\n",
    "    textol.sort()\n",
    "    \n",
    "    dic_alfa = {}\n",
    "    \n",
    "    for k in textol:\n",
    "        dic_alfa[k] = texto2.count(k)\n",
    "        print(k,'\\t',texto2.count(k))"
   ]
  },
  {
   "cell_type": "code",
   "execution_count": null,
   "metadata": {},
   "outputs": [],
   "source": [
    "txt = 'ThiS is String with Upper and lower case Letters.'\n",
    "letterhist(txt)"
   ]
  },
  {
   "cell_type": "code",
   "execution_count": null,
   "metadata": {
    "scrolled": true
   },
   "outputs": [],
   "source": [
    "def letterhist_ret(texto):\n",
    "    \n",
    "    texto2 = texto.lower()\n",
    "    textol = list(texto2)\n",
    "    textol = list(set(textol))\n",
    "    textol.sort()\n",
    "    \n",
    "    dic_alfa = {}\n",
    "    \n",
    "    for k in textol:\n",
    "        dic_alfa[k] = texto2.count(k)\n",
    "    return dic_alfa\n",
    "\n",
    "\n",
    "conteudo = 'cBabAagaabtyadzutv qtdaqtakablahbautf'\n",
    "    \n",
    "histl_dc = letterhist_ret(conteudo)\n",
    "\n",
    "histl_dc"
   ]
  },
  {
   "cell_type": "code",
   "execution_count": null,
   "metadata": {},
   "outputs": [],
   "source": [
    "histl_dc.items()"
   ]
  },
  {
   "cell_type": "code",
   "execution_count": null,
   "metadata": {},
   "outputs": [],
   "source": [
    "# Ordenando um dicionário\n",
    "\n",
    "ordenado = sorted(histl_dc.items(), key = lambda item : item[1], reverse = True)\n",
    "print(ordenado)"
   ]
  },
  {
   "cell_type": "code",
   "execution_count": null,
   "metadata": {},
   "outputs": [],
   "source": [
    "def wordhist(texto):\n",
    "    \n",
    "    texto = texto.replace('#','').replace('$','').replace(',','').replace('\"','')\n",
    "    texto = texto.replace(\"'\",'').replace('(','').replace('*','').replace('.','')\n",
    "    texto = texto.replace(\"-\",'').replace('_','').replace(')','').replace('?','')\n",
    "    texto = texto.replace(\"[\",'').replace(']','').replace(';','').replace(':','')\n",
    "    texto = texto.replace(\"!\",'').replace(']','').replace(';','').replace(':','')\n",
    "       \n",
    "    \n",
    "    texto2 = texto.lower()\n",
    "    texto2l = texto2.split()\n",
    "    texto_l_ord = list(set(texto2l))\n",
    "    texto_l_ord.sort()\n",
    "    \n",
    "    dic_alfa = {}\n",
    "    \n",
    "    for k in texto_l_ord:\n",
    "        if k.isalpha():\n",
    "            dic_alfa[k] = texto2l.count(k)\n",
    "    \n",
    "    return dic_alfa\n",
    "\n",
    "nome = '11-0.txt'\n",
    "\n",
    "arq_entrada = open(nome, 'r', encoding='utf-8-sig')\n",
    "\n",
    "conteudo = arq_entrada.read()\n",
    "     \n",
    "alice_dc = wordhist(conteudo)"
   ]
  },
  {
   "cell_type": "code",
   "execution_count": null,
   "metadata": {},
   "outputs": [],
   "source": [
    "print(f\"A palavra 'alice'aparece {alice_dc.get('alice',0)} vezes no livro\")"
   ]
  },
  {
   "cell_type": "code",
   "execution_count": null,
   "metadata": {},
   "outputs": [],
   "source": [
    "cmp = 0\n",
    "mp = ''\n",
    "\n",
    "for k in alice_dc:\n",
    "    if len(k) > cmp:\n",
    "        cmp = len(k)\n",
    "        mp = k\n",
    "\n",
    "\n",
    "freq_palavra = alice_dc.get(mp,0)\n",
    "stx = 'vez' if freq_palavra == 1 else 'vezes'\n",
    "\n",
    "print(f'A maior palavra do livro é \"{mp}\" com comprimento de',cmp,'que aparece',freq_palavra,f'{stx} no livro')"
   ]
  },
  {
   "cell_type": "code",
   "execution_count": null,
   "metadata": {},
   "outputs": [],
   "source": [
    "dct2 = {'sir': 'matey',\n",
    " 'hotel': 'fleabag inn',\n",
    " 'student':'swabbie',\n",
    "  'boy': 'matey',\n",
    " 'madam':'proud beauty',\n",
    " 'professor': 'foul blaggart',\n",
    " 'restaurant': 'galley',\n",
    " 'your': 'yer',\n",
    " 'excuse': 'arr',\n",
    " 'students':'swabbies',\n",
    " 'are': 'be',\n",
    " 'lawyer': 'foul blaggart',\n",
    " 'the': 'th’',\n",
    " 'restroom': 'head',\n",
    " 'my': 'me',\n",
    " 'hello': 'avast',\n",
    " 'is': 'be',\n",
    " 'man': 'matey'}\n",
    "\n",
    "def translate_eng2pir(texto):\n",
    "    texto_t = texto[:]\n",
    "    for k in texto.split():\n",
    "        texto_t = texto_t.replace(k,dct2.get(k,k))\n",
    "    return texto_t"
   ]
  },
  {
   "cell_type": "code",
   "execution_count": null,
   "metadata": {},
   "outputs": [],
   "source": [
    "translate_eng2pir('hello there students')"
   ]
  },
  {
   "cell_type": "code",
   "execution_count": null,
   "metadata": {},
   "outputs": [],
   "source": [
    "# Values in the dictionary can be mix-typed\n",
    "# Let's look at an example with dict{}, an empty dictionary initiated above.\n",
    "# Fist, we will insert some key/value pairs into the program. \n",
    "dicte = {}\n",
    "\n",
    "dicte[\"greeting\"] = \"hello message\"\n",
    "dicte[\"alphabet\"] = ['a', 'b', 'c', 'd', 'e']\n",
    "dicte[\"check-in\"] = False\n",
    "dicte[\"phoneNumber\"] = 8007782346\n",
    "\n",
    "dicte"
   ]
  },
  {
   "cell_type": "code",
   "execution_count": null,
   "metadata": {},
   "outputs": [],
   "source": [
    "dicte.keys()"
   ]
  },
  {
   "cell_type": "code",
   "execution_count": null,
   "metadata": {},
   "outputs": [],
   "source": [
    "# Também pode inserir um item num dicionário utilizando o método update() , por exemplo:\n",
    "\n",
    "dictionary = {\"cat\": \"chat\", \"dog\": \"chien\", \"horse\": \"cheval\"}\n",
    "\n",
    "dictionary.update({\"duck\": \"canard\"})\n",
    "print(dictionary)"
   ]
  },
  {
   "cell_type": "code",
   "execution_count": null,
   "metadata": {},
   "outputs": [],
   "source": [
    "'''There’s one other useful feature. The exception code can access a variable that contains information about exactly what \n",
    "the error was. Thus, for example, in the except clause you could print out the information that would normally be printed \n",
    "as an error message but continue on with execution of the rest of the program. To do that, you specify a variable name after\n",
    "the exception class that’s being handled. The exception clause code can refer to that variable name.'''\n",
    "\n",
    "try:\n",
    "    items = ['a', 'b']\n",
    "    third = items[2]\n",
    "    print(\"This won't print\")\n",
    "except Exception as e:\n",
    "    print(\"got an error\")\n",
    "    print(e)\n",
    "\n",
    "print(\"continuing\")"
   ]
  },
  {
   "cell_type": "code",
   "execution_count": null,
   "metadata": {},
   "outputs": [],
   "source": [
    "dictionary = {\"cat\": \"chat\", \"dog\": \"chien\", \"horse\": \"cheval\"}\n",
    "\n",
    "del dictionary['dog']\n",
    "print(dictionary)"
   ]
  },
  {
   "cell_type": "code",
   "execution_count": null,
   "metadata": {
    "ExecuteTime": {
     "end_time": "2021-09-02T01:23:54.923828Z",
     "start_time": "2021-09-02T01:23:49.283094Z"
    }
   },
   "outputs": [],
   "source": [
    "# Padrão de acumulação para o somatório\n",
    "\n",
    "num = int(input(\"Insira o primeiro número: \"))\n",
    "sum = 0\n",
    "while num != 0:\n",
    "    sum = sum + num\n",
    "    num = int(eval(input(\"Insira um número: \")))\n",
    "\n",
    "print(sum)"
   ]
  },
  {
   "cell_type": "code",
   "execution_count": null,
   "metadata": {
    "ExecuteTime": {
     "end_time": "2021-10-06T02:18:45.111682Z",
     "start_time": "2021-10-06T02:18:45.101706Z"
    }
   },
   "outputs": [],
   "source": [
    "a = 5\n",
    "b = 9\n",
    "setStr = 'The set is {{{},{}}}.'.format(a, b)  # Como usar chaves nas f strings\n",
    "print(setStr)"
   ]
  },
  {
   "cell_type": "code",
   "execution_count": null,
   "metadata": {
    "ExecuteTime": {
     "end_time": "2021-10-06T02:22:54.810072Z",
     "start_time": "2021-10-06T02:22:54.794080Z"
    }
   },
   "outputs": [],
   "source": [
    "print(f'The set is {{{a},{b}}}.')"
   ]
  },
  {
   "cell_type": "code",
   "execution_count": null,
   "metadata": {
    "ExecuteTime": {
     "end_time": "2021-10-06T02:31:52.238094Z",
     "start_time": "2021-10-06T02:31:52.223042Z"
    }
   },
   "outputs": [],
   "source": [
    "def para_segundos(h, m, s):\n",
    "    \"\"\"\n",
    "    Função que converte horas, minutos e segundos em um número total de segundos.\n",
    "    \"\"\"\n",
    "    hs = 60*60*h\n",
    "    ms = 60*m\n",
    "    return int(hs+ms+s)"
   ]
  },
  {
   "cell_type": "code",
   "execution_count": null,
   "metadata": {
    "ExecuteTime": {
     "end_time": "2021-10-06T02:31:53.036332Z",
     "start_time": "2021-10-06T02:31:53.018337Z"
    }
   },
   "outputs": [],
   "source": [
    "para_segundos(0, 1.5, 0)"
   ]
  },
  {
   "cell_type": "code",
   "execution_count": null,
   "metadata": {
    "ExecuteTime": {
     "end_time": "2021-10-06T02:44:17.290585Z",
     "start_time": "2021-10-06T02:44:17.269527Z"
    }
   },
   "outputs": [],
   "source": [
    "def horas_em(s):\n",
    "    return s//3600\n",
    "\n",
    "\n",
    "def minutos_em(s):\n",
    "    return (s//60) % 60\n",
    "\n",
    "\n",
    "def segundos_em(s):\n",
    "    h = horas_em(s)\n",
    "    min_rst = s % 3600\n",
    "    min_rst2 = min_rst//60\n",
    "    s = min_rst % 60\n",
    "    return s"
   ]
  },
  {
   "cell_type": "code",
   "execution_count": null,
   "metadata": {
    "ExecuteTime": {
     "end_time": "2021-10-06T02:46:21.321361Z",
     "start_time": "2021-10-06T02:46:21.309367Z"
    }
   },
   "outputs": [],
   "source": [
    "def compare(a, b):\n",
    "    if a > b:\n",
    "        return 1\n",
    "    elif a == b:\n",
    "        return 0\n",
    "    else:\n",
    "        return -1"
   ]
  },
  {
   "cell_type": "code",
   "execution_count": null,
   "metadata": {
    "ExecuteTime": {
     "end_time": "2021-10-06T02:47:53.049675Z",
     "start_time": "2021-10-06T02:47:53.040673Z"
    }
   },
   "outputs": [],
   "source": [
    "def inclinacao(x1, y1, x2, y2):\n",
    "    return (y2-y1)/(x2-x1)"
   ]
  },
  {
   "cell_type": "code",
   "execution_count": null,
   "metadata": {
    "ExecuteTime": {
     "end_time": "2021-10-06T02:52:31.499173Z",
     "start_time": "2021-10-06T02:52:31.486183Z"
    }
   },
   "outputs": [],
   "source": [
    "def intersecta(x1, y1, x2, y2):\n",
    "    return (y2*x1-y1*x2)/(x1-x2)"
   ]
  },
  {
   "cell_type": "code",
   "execution_count": null,
   "metadata": {
    "ExecuteTime": {
     "end_time": "2021-10-06T02:53:37.385337Z",
     "start_time": "2021-10-06T02:53:37.380306Z"
    }
   },
   "outputs": [],
   "source": [
    "inclinacao(-1, 8, -5, -1)  # A(-1, 8) e B(-5, -1)."
   ]
  },
  {
   "cell_type": "code",
   "execution_count": null,
   "metadata": {
    "ExecuteTime": {
     "end_time": "2021-10-06T02:54:16.451515Z",
     "start_time": "2021-10-06T02:54:16.444519Z"
    }
   },
   "outputs": [],
   "source": [
    "intersecta(-1, 8, -5, -1)"
   ]
  },
  {
   "cell_type": "code",
   "execution_count": null,
   "metadata": {
    "ExecuteTime": {
     "end_time": "2021-10-06T03:05:30.139797Z",
     "start_time": "2021-10-06T03:05:30.126865Z"
    }
   },
   "outputs": [],
   "source": [
    "def f2c(t): # Converte Fahrenheit para Celsius\n",
    "    return 5*(t-32)/9\n",
    "\n",
    "\n",
    "def c2f(t): # Convert Celsius para Fahrenheit\n",
    "    return (9*t/5)+32"
   ]
  },
  {
   "cell_type": "code",
   "execution_count": null,
   "metadata": {
    "ExecuteTime": {
     "end_time": "2021-10-06T03:05:31.159307Z",
     "start_time": "2021-10-06T03:05:31.150297Z"
    }
   },
   "outputs": [],
   "source": [
    "print((\"ºF\", \"\\t\", \"ºC\"))\n",
    "for k in range(10):\n",
    "    print(k, \"\\t\", f\"{f2c(k):.3f}\")"
   ]
  },
  {
   "cell_type": "code",
   "execution_count": null,
   "metadata": {
    "ExecuteTime": {
     "end_time": "2021-10-06T03:05:32.657121Z",
     "start_time": "2021-10-06T03:05:32.637143Z"
    }
   },
   "outputs": [],
   "source": [
    "print((\"ºC \\t ºF\"))\n",
    "for k in range(10):\n",
    "    print(f\"{k} \\t {c2f(k):.3f}\")"
   ]
  },
  {
   "cell_type": "code",
   "execution_count": null,
   "metadata": {},
   "outputs": [],
   "source": [
    "print(\"a \\t b \\t c\")"
   ]
  },
  {
   "cell_type": "code",
   "execution_count": null,
   "metadata": {
    "ExecuteTime": {
     "end_time": "2021-10-06T03:05:30.139797Z",
     "start_time": "2021-10-06T03:05:30.126865Z"
    }
   },
   "outputs": [],
   "source": [
    "def f2c(t):\n",
    "    return 5*(t-32)/9\n",
    "\n",
    "\n",
    "def c2f(t):\n",
    "    return (9*t/5)+32"
   ]
  },
  {
   "cell_type": "code",
   "execution_count": null,
   "metadata": {
    "ExecuteTime": {
     "end_time": "2021-10-06T03:05:31.159307Z",
     "start_time": "2021-10-06T03:05:31.150297Z"
    }
   },
   "outputs": [],
   "source": [
    "print((\"ºF \\t ºC\"))\n",
    "for k in range(10):\n",
    "    print(k, \"\\t\", f\"{f2c(k):.3f}\")"
   ]
  },
  {
   "cell_type": "code",
   "execution_count": null,
   "metadata": {
    "ExecuteTime": {
     "end_time": "2021-10-06T03:05:32.657121Z",
     "start_time": "2021-10-06T03:05:32.637143Z"
    }
   },
   "outputs": [],
   "source": [
    "print((\"ºC\", \"\\t\", \"ºF\"))\n",
    "for k in range(10):\n",
    "    print(k, \"\\t\", f\"{c2f(k):.3f}\")"
   ]
  },
  {
   "cell_type": "markdown",
   "metadata": {},
   "source": [
    "'''\n",
    "Um ano é bissexto se ele é divisível por 4 a menos que seja um século que não é divisível por 400. \n",
    "Escreva uma função que receba um ano como argumento e retorna True se o ano é bissexto e False caso contrário.\n",
    "'''"
   ]
  },
  {
   "cell_type": "code",
   "execution_count": null,
   "metadata": {},
   "outputs": [],
   "source": [
    "def is_year_leap(year):\n",
    "\n",
    "    if year < 1582:\n",
    "        return\n",
    "    else:\n",
    "        if year % 4 != 0:\n",
    "            return False\n",
    "        else:\n",
    "            if year % 100 != 0:\n",
    "                return True\n",
    "            else:\n",
    "                if year % 400 != 0:\n",
    "                    return False\n",
    "                else:\n",
    "                    return True\n",
    "\n",
    "test_data = [1900, 2000, 2016, 1987]\n",
    "test_results = [False, True, True, False]\n",
    "for i in range(len(test_data)):\n",
    "\tyr = test_data[i]\n",
    "\tprint(yr,\"->\",end=\"\")\n",
    "\tresult = is_year_leap(yr)\n",
    "\tif result == test_results[i]:\n",
    "\t\tprint(\"OK\")\n",
    "\telse:\n",
    "\t\tprint(\"Failed\")"
   ]
  },
  {
   "cell_type": "code",
   "execution_count": null,
   "metadata": {},
   "outputs": [],
   "source": [
    "def days_in_month(year, month):\n",
    "    lst_dm = [31,28,31,30,31,30,31,31,30,31,30,31]\n",
    "    if month in range(1,13):\n",
    "        if month == 2:\n",
    "            if is_year_leap(year):\n",
    "                return 29\n",
    "            else:\n",
    "                return 28\n",
    "        else:\n",
    "            return lst_dm[month-1]\n",
    "\n",
    "\n",
    "test_years = [1900, 2000, 2016, 1987,2021]\n",
    "test_months = [2, 2, 1, 11,13]\n",
    "test_results = [28, 29, 31, 30,None]\n",
    "for i in range(len(test_years)):\n",
    "\tyr = test_years[i]\n",
    "\tmo = test_months[i]\n",
    "\tprint(yr, mo, \"->\", end=\"\")\n",
    "\tresult = days_in_month(yr, mo)\n",
    "\tif result == test_results[i]:\n",
    "\t\tprint(\"OK\")\n",
    "\telse:\n",
    "\t\tprint(\"Failed\")"
   ]
  },
  {
   "cell_type": "code",
   "execution_count": null,
   "metadata": {},
   "outputs": [],
   "source": [
    "def day_of_year(year, month, day):\n",
    "    if month >= 1 and month <= 12 and day <= 31:\n",
    "        if is_year_leap(year):\n",
    "            lst_dm = [31,29,31,30,31,30,31,31,30,31,30,31]\n",
    "        else:\n",
    "            lst_dm = [31,28,31,30,31,30,31,31,30,31,30,31]\n",
    "        \n",
    "        if day <= days_in_month(year, month):\n",
    "            days = sum(lst_dm[:month-1]) + day\n",
    "\n",
    "        return days\n",
    "\n",
    "print(day_of_year(2000, 12, 31))\n",
    "print(day_of_year(2000, 2, 29))\n",
    "print(day_of_year(2000, 2, 1))"
   ]
  },
  {
   "cell_type": "code",
   "execution_count": null,
   "metadata": {},
   "outputs": [],
   "source": [
    "def liters_100km_to_miles_gallon(liters):\n",
    "    \n",
    "    miles = 100000/1609.344\n",
    "    gallon = liters / 3.785411784\n",
    "    \n",
    "    return miles / gallon\n",
    "\n",
    "def miles_gallon_to_liters_100km(miles):\n",
    "    \n",
    "    km = miles*1609.344/1000\n",
    "    liters = 3.785411784\n",
    "    return 100*liters / km\n",
    "\n",
    "print(liters_100km_to_miles_gallon(3.9))\n",
    "print(liters_100km_to_miles_gallon(7.5))\n",
    "print(liters_100km_to_miles_gallon(10.))\n",
    "print(miles_gallon_to_liters_100km(60.3))\n",
    "print(miles_gallon_to_liters_100km(31.4))\n",
    "print(miles_gallon_to_liters_100km(23.5))"
   ]
  },
  {
   "cell_type": "code",
   "execution_count": null,
   "metadata": {},
   "outputs": [],
   "source": [
    "# Example 2\n",
    "def wishes():\n",
    "    print(\"My Wishes\")\n",
    "    return \"Happy Birthday\"\n",
    "\n",
    "print(wishes())"
   ]
  },
  {
   "cell_type": "markdown",
   "metadata": {},
   "source": [
    "Existe um método especial Python que pode alargar o scope de uma variável de forma a incluir os corpos das funções (mesmo que se pretenda não só ler os valores, mas também modificá-los).\n",
    "\n",
    "Tal efeito é causado por uma keyword chamada global:"
   ]
  },
  {
   "cell_type": "code",
   "execution_count": null,
   "metadata": {},
   "outputs": [],
   "source": [
    "def ft_and_inch_to_m(ft, inch = 0.0):\n",
    "    return ft * 0.3048 + inch * 0.0254\n",
    "\n",
    "\n",
    "def lb_to_kg(lb):\n",
    "    return lb * 0.45359237\n",
    "\n",
    "\n",
    "def bmi(weight, height):\n",
    "    if height < 1.0 or height > 2.5 or weight < 20 or weight > 200:\n",
    "        return None\n",
    "    \n",
    "    return weight / height ** 2\n",
    "\n",
    "\n",
    "print(bmi(weight = lb_to_kg(176), height = ft_and_inch_to_m(5, 7)))"
   ]
  },
  {
   "cell_type": "markdown",
   "metadata": {},
   "source": [
    "## Módulos"
   ]
  },
  {
   "cell_type": "code",
   "execution_count": null,
   "metadata": {},
   "outputs": [],
   "source": [
    "import math as m\n",
    "\n",
    "print(m.sin(m.pi/2))"
   ]
  },
  {
   "cell_type": "code",
   "execution_count": null,
   "metadata": {},
   "outputs": [],
   "source": [
    "for name in dir(m):\n",
    "    print(name, end=\"\\t\")"
   ]
  },
  {
   "cell_type": "code",
   "execution_count": null,
   "metadata": {},
   "outputs": [],
   "source": [
    "np.nan"
   ]
  },
  {
   "cell_type": "code",
   "execution_count": null,
   "metadata": {},
   "outputs": [],
   "source": [
    "m.nan,np.nan, pd.NA"
   ]
  },
  {
   "cell_type": "code",
   "execution_count": null,
   "metadata": {},
   "outputs": [],
   "source": [
    "m.nan != np.nan, m.nan == np.nan"
   ]
  },
  {
   "cell_type": "code",
   "execution_count": null,
   "metadata": {},
   "outputs": [],
   "source": [
    "np.isnan(m.nan), np.isnan(np.nan), np.isnan(pd.NA)"
   ]
  },
  {
   "cell_type": "code",
   "execution_count": null,
   "metadata": {},
   "outputs": [],
   "source": [
    "pd.isna(m.nan), pd.isna(m.nan), pd.isna(pd.NA)"
   ]
  },
  {
   "cell_type": "code",
   "execution_count": null,
   "metadata": {},
   "outputs": [],
   "source": [
    "print(rnd.randrange(1), end=' ')\n",
    "print(rnd.randrange(0, 1), end=' ')\n",
    "print(rnd.randrange(0, 1, 1), end=' ')\n",
    "print(rnd.randint(0, 1)) # Não exclui o 'end' neste caso o valor 1."
   ]
  },
  {
   "cell_type": "markdown",
   "metadata": {},
   "source": [
    "# Modelos com o módulo Turtle"
   ]
  },
  {
   "cell_type": "code",
   "execution_count": null,
   "metadata": {
    "ExecuteTime": {
     "end_time": "2021-10-07T01:12:05.277946Z",
     "start_time": "2021-10-07T01:11:42.130872Z"
    }
   },
   "outputs": [],
   "source": [
    "wn = turtle.Screen()\n",
    "wn.bgcolor(\"#90ee90\") #rgb 144 238 144\n",
    "rafturtle = turtle.Turtle()\n",
    "\n",
    "rafturtle.shape(\"turtle\")\n",
    "rafturtle.color(\"blue\")\n",
    "rafturtle.pensize(3)\n",
    "\n",
    "rafturtle.up()\n",
    "rafturtle.stamp()\n",
    "\n",
    "for k in range(12):\n",
    "    rafturtle.forward(110)\n",
    "    rafturtle.down()\n",
    "    rafturtle.forward(10)\n",
    "    rafturtle.up()\n",
    "    rafturtle.forward(30)\n",
    "    rafturtle.stamp()\n",
    "    rafturtle.forward(-150)v\n",
    "    rafturtle.right(30)\n",
    "\n",
    "turtle.done()\n",
    "turtle.exitonclick()"
   ]
  },
  {
   "cell_type": "code",
   "execution_count": null,
   "metadata": {
    "ExecuteTime": {
     "end_time": "2021-10-25T00:21:18.566086Z",
     "start_time": "2021-10-25T00:21:13.626326Z"
    }
   },
   "outputs": [],
   "source": [
    "wn = turtle.Screen()\n",
    "\n",
    "t = turtle.Turtle()\n",
    "t2 = turtle.Turtle()\n",
    "t3 = turtle.Turtle()\n",
    "t.goto(0,0)\n",
    "t2.goto(10,0)\n",
    "t3.goto(10,0)\n",
    "t3.lt(120+2*360)\n",
    "t3.fd(10)\n",
    "\n",
    "\n",
    "turtle.done()\n",
    "turtle.exitonclick()"
   ]
  },
  {
   "cell_type": "code",
   "execution_count": null,
   "metadata": {
    "ExecuteTime": {
     "end_time": "2021-10-25T00:21:24.439009Z",
     "start_time": "2021-10-25T00:21:24.430026Z"
    }
   },
   "outputs": [],
   "source": [
    "t.distance(t3), t.distance(t2),t2.distance(t3)"
   ]
  },
  {
   "cell_type": "code",
   "execution_count": null,
   "metadata": {
    "ExecuteTime": {
     "end_time": "2021-10-25T00:21:25.122619Z",
     "start_time": "2021-10-25T00:21:25.114623Z"
    }
   },
   "outputs": [],
   "source": [
    "(t3.pos()+t2.pos())*0.5"
   ]
  },
  {
   "cell_type": "code",
   "execution_count": null,
   "metadata": {
    "ExecuteTime": {
     "end_time": "2021-10-25T00:21:25.900190Z",
     "start_time": "2021-10-25T00:21:25.888198Z"
    }
   },
   "outputs": [],
   "source": [
    "t.distance((t3.pos()+t2.pos())*0.5)"
   ]
  },
  {
   "cell_type": "code",
   "execution_count": null,
   "metadata": {
    "ExecuteTime": {
     "end_time": "2021-10-25T00:21:26.927334Z",
     "start_time": "2021-10-25T00:21:26.922338Z"
    }
   },
   "outputs": [],
   "source": [
    "t.towards(t3)"
   ]
  },
  {
   "cell_type": "code",
   "execution_count": null,
   "metadata": {
    "ExecuteTime": {
     "end_time": "2021-10-25T00:21:41.214042Z",
     "start_time": "2021-10-25T00:21:41.205050Z"
    }
   },
   "outputs": [],
   "source": [
    "print(t)"
   ]
  },
  {
   "cell_type": "code",
   "execution_count": null,
   "metadata": {},
   "outputs": [],
   "source": [
    "dx = 2\n",
    "\n",
    "# Dados do Cavalo\n",
    "lfrontal = 2.49 #   Largura frontal\n",
    "eixof = 1.45 # Recuo do eixo em relação a frente do veículo\n",
    "d_eixo = 4.2 # Distância entre eixos\n",
    "ltraseira = 2.49 #   Largura traseira\n",
    "eixot = 0.71 # Recuo do eixo em relação a traseira do veículo\n",
    "\n",
    "# Dados do Reboque\n",
    "\n",
    "lrbq = 2.6 #Largura do reboque\n",
    "d4pr = 0.35 #Distância do eixo traseiro do cavalo mecânico ao pino em m (O pino fica a frente do eixo traseiro do cavalo mecânico)\n",
    "efr = 2 #Recuo do 1ºeixo (frontal) do reboque\n",
    "etr = 4.75 #Recuo do 2ºeixo (traseiro) do reboque\n",
    "dexr = 8.1 #Distância entre os eixos do reboque\n",
    "\n",
    "estsm = 15 # Angulo máximo de Esterçamento semi-reboque/CM (Graus)\n",
    "\n",
    "alfa = 15 #25 #ângulo máximo de esterçamento : alfa (Graus)\n",
    "#dx = 0.5 # Discretização, indicando o acrescimo de posição a cada iteração\n",
    "rmin = d_eixo / sin(radians(alfa)) # Raio mínimo da composição\n",
    "teta = degrees(2*asin(dx/(2*rmin)))# Angulo de giro pata a trajetória circular de menor raio definida\n",
    "\n",
    "t = [0,0]\n",
    "\n",
    "\n",
    "# Eixos e extremidades do cavalo\n",
    "# Roda dianteira direita\n",
    "t2 = [eixof,-lfrontal/2]\n",
    "\n",
    "\n",
    "# Roda dianteira esquerda\n",
    "t3 = [eixof,+lfrontal/2]\n",
    "\n",
    "\n",
    "# Eixo traseiro\n",
    "t4 = [-d_eixo,0]\n",
    "\n",
    "\n",
    "# Lateral traseira direita\n",
    "t5 = [t4[0]-eixot,-ltraseira/2]\n",
    "\n",
    "\n",
    "# Lateral traseira esquerda\n",
    "t6 = [t4[0]-eixot,ltraseira/2]\n",
    "\n",
    "\n",
    "## Eixos e extremidades do reboque ##\n",
    "\n",
    "t7 = [t4[0]+d4pr,0]\n",
    "\n",
    "\n",
    "# Extremidade direita forntal do reboque\n",
    "t8 = [t7[0]+efr,-lrbq/2]\n",
    "\n",
    "# Extremidade equerda forntal do reboque\n",
    "t9 = [t8[0],lrbq/2]\n",
    "\n",
    "# Eixo traseiro do reboque\n",
    "t10 = [t7[0]-dexr,0]\n",
    "d710 = dexr\n",
    "\n",
    "# Lateral traseira direita\n",
    "t11 = [t10[0]-etr,-lrbq/2]\n",
    "\n",
    "# Lateral traseira esquerda\n",
    "t12 = [t11[0],+lrbq/2]\n",
    "\n",
    "\n",
    "d14 = d_eixo # Distância entre t1(t) e t4\n",
    "d47 = distance(t4,t7)\n",
    "d4_10 = distance(t10,t4) # Distância entre t4 e t10\n",
    "d17 = distance(t,t7)\n",
    "\n",
    "\n",
    "#Menor distância permitida entre os pontos 1 e 10 com esterçamento máximo do semireboque\n",
    "md110 = (d17**2 + dexr**2 + 2*d17*dexr*cos(radians(estsm)))**(1/2)\n",
    "print(md110)"
   ]
  },
  {
   "cell_type": "code",
   "execution_count": null,
   "metadata": {},
   "outputs": [],
   "source": [
    "rmin"
   ]
  },
  {
   "cell_type": "code",
   "execution_count": null,
   "metadata": {},
   "outputs": [],
   "source": [
    "lstt = [t,t2,t3,t4,t5,t6,t7,t8,t9,t10,t11,t12]\n",
    "\n",
    "xs = [p[0] for p in lstt]\n",
    "ys = [p[1] for p in lstt]\n",
    "\n",
    "import matplotlib.pyplot as plt\n",
    "plt.plot(xs,ys)\n",
    "plt.ylabel('some numbers')\n",
    "plt.show()"
   ]
  },
  {
   "cell_type": "code",
   "execution_count": null,
   "metadata": {},
   "outputs": [],
   "source": [
    "c = 0\n",
    "out = open('defveic2.scr', 'w')\n",
    "out.write('_PLINE')\n",
    "out.write('\\n')\n",
    "for k in lstt:\n",
    "    c+=1\n",
    "    out.write(f'{k[0]:.4f},{k[1]:.4f}')\n",
    "    out.write('\\n')\n",
    "    \n",
    "out.close()"
   ]
  },
  {
   "cell_type": "code",
   "execution_count": null,
   "metadata": {},
   "outputs": [],
   "source": [
    "ref_arquivo = open(\"coord_projmod.txt\",\"r\",encoding='utf-8-sig')\n",
    "lista_de_coord = ref_arquivo.readlines()\n",
    "ref_arquivo.close()\n",
    "\n",
    "lcoor = []\n",
    "for k in lista_de_coord:\n",
    "    k = k.replace('\\n','')\n",
    "    if len(k) > 0:\n",
    "        w = k.split(',')\n",
    "        w[0] = eval(w[0])\n",
    "        w[1] = eval(w[1])\n",
    "\n",
    "    lcoor.append(w)"
   ]
  },
  {
   "cell_type": "markdown",
   "metadata": {},
   "source": [
    "## Condicionais"
   ]
  },
  {
   "cell_type": "code",
   "execution_count": null,
   "metadata": {},
   "outputs": [],
   "source": [
    "# escreva o seu programa\n",
    "\n",
    "# entre com a quantidade de números: 7\n",
    "\n",
    "# 6   -2   7   0  -5   8  4\n",
    "\n",
    "n = int(input(\"entre com a quantidade de números:\"))\n",
    "\n",
    "contpar = 0\n",
    "\n",
    "for k in range(n):\n",
    "    num =  int(input(\"digite o valor do número:\"))\n",
    "    if num % 2 == 0:\n",
    "        contpar = contpar + 1\n",
    "    \n",
    "    \n",
    "print(\"Existem\",contpar,\"pares e\",n-contpar,\"impares\")"
   ]
  },
  {
   "cell_type": "code",
   "execution_count": null,
   "metadata": {},
   "outputs": [],
   "source": [
    "n = int(input(\"entre com a quantidade de números:\"))\n",
    "\n",
    "div = 0\n",
    "tring = 0 \n",
    "for k in range(2,int(n**0.5)+1):\n",
    "    if n % k == 0:\n",
    "        div = div + 1        \n",
    "        if n % k == 0 and n % (k+1) == 0 and n % (k+2) == 0:\n",
    "            tring = tring + 1\n",
    "            print(n,\"é triangular e divisível por\",k,k+1,\"e\",k+2)\n",
    "                    \n",
    "if div == 0:\n",
    "    print(n,\"é um número primo\")\n",
    "else:\n",
    "    print(n,\"não é primo\")    \n",
    "    if tring == 0:\n",
    "        print(n,\"não é tringular\")"
   ]
  },
  {
   "cell_type": "code",
   "execution_count": null,
   "metadata": {},
   "outputs": [],
   "source": [
    "for k in range(1,20):\n",
    "    print(k,k*(k+1)//2)"
   ]
  },
  {
   "cell_type": "code",
   "execution_count": null,
   "metadata": {},
   "outputs": [],
   "source": [
    "# Número de iterações para a convergência do problema 3n+1\n",
    "\n",
    "c0 = int(input(\"Entre com o número: \"))\n",
    "\n",
    "step = 0\n",
    "while c0 != 1:\n",
    "    if c0 % 2:\n",
    "        c0 = 3*c0 + 1\n",
    "    else:\n",
    "        c0 = c0 // 2\n",
    "    print(c0)\n",
    "    step += 1\n",
    "\n",
    "print(\"steps =\",step)"
   ]
  },
  {
   "cell_type": "code",
   "execution_count": null,
   "metadata": {},
   "outputs": [],
   "source": [
    "flag_register = 0x1234"
   ]
  },
  {
   "cell_type": "code",
   "execution_count": null,
   "metadata": {},
   "outputs": [],
   "source": [
    "flag_register"
   ]
  },
  {
   "cell_type": "code",
   "execution_count": null,
   "metadata": {},
   "outputs": [],
   "source": [
    "# Operadores bitwise\n",
    "\n",
    "x = 4\n",
    "y = 1\n",
    "\n",
    "a = x & y\n",
    "b = x | y\n",
    "c = ~x  # tricky! 011 = 3 falta 5 para potencia de 2 (2³)\n",
    "d = x ^ 5\n",
    "e = x >> 2 # Divide por 2\n",
    "f = x << 2 # Multiplica por 2\n",
    "\n",
    "print(a, b, c, d, e, f)"
   ]
  },
  {
   "cell_type": "code",
   "execution_count": null,
   "metadata": {},
   "outputs": [],
   "source": [
    "x = 4\n",
    "~x"
   ]
  },
  {
   "cell_type": "code",
   "execution_count": null,
   "metadata": {},
   "outputs": [],
   "source": [
    "hat_list = [1, 2, 3, 4, 5]  # This is an existing list of numbers hidden in the hat.\n",
    "\n",
    "# Step 1: write a line of code that prompts the user\n",
    "nw = int(input(\"Entre com um novo número médio pra lista: \"))\n",
    "# to replace the middle number with an integer number entered by the user.\n",
    "\n",
    "hat_list[len(hat_list) // 2] = nw\n",
    "\n",
    "# Step 2: write a line of code that removes the last element from the list.\n",
    "del hat_list[-1]\n",
    "\n",
    "# Step 3: write a line of code that prints the length of the existing list.\n",
    "\n",
    "print(len(hat_list))\n",
    "\n",
    "print(hat_list)"
   ]
  },
  {
   "cell_type": "code",
   "execution_count": null,
   "metadata": {},
   "outputs": [],
   "source": [
    "# Qual a altura de uma priramide formada por n blocos?\n",
    "\n",
    "blocks = int(input(\"Enter the number of blocks: \"))\n",
    "\n",
    "height = 1\n",
    "\n",
    "#\n",
    "# Write your code here.\n",
    "#\t\n",
    "\n",
    "while blocks >= height*(height+1)/2 :\n",
    "    height += 1\n",
    "\n",
    "print(\"The height of the pyramid:\", height-1)\n",
    "\n",
    "# Ou\n",
    "\n",
    "blocks = int(input(\"Enter the number of blocks: \"))\n",
    "\n",
    "height = 1\n",
    "bloc_tr = 0\n",
    "\n",
    "while blocks > bloc_tr :\n",
    "    height += 1\n",
    "    bloc_tr += height\n",
    "\n",
    "print(\"The height of the pyramid:\", height-1)"
   ]
  },
  {
   "cell_type": "code",
   "execution_count": null,
   "metadata": {},
   "outputs": [],
   "source": [
    "#primo e não primo\n",
    "\n",
    "n = int(input(\"Digite um número inteiro: \"))\n",
    "\n",
    "div = 0\n",
    "k = 2\n",
    "\n",
    "while k <= int(n**0.5):\n",
    "    if n % k == 0:\n",
    "        div = div + 1\n",
    "    k+= 1\n",
    "                  \n",
    "if div == 0:\n",
    "    print(\"primo\")\n",
    "else:\n",
    "    print(\"não primo\")"
   ]
  },
  {
   "cell_type": "code",
   "execution_count": null,
   "metadata": {},
   "outputs": [],
   "source": [
    "#6   2.3   3   5.0  6.5  8.7  4.9\n",
    "\n",
    "'''\n",
    "Total de alunos= 6\n",
    "Numero de alunos reprovados = 1\n",
    "Numero de alunos de recuperacao = 2\n",
    "Numero de alunos aprovados = 3\n",
    "Numero de alunos com desempenho muito bom = 1\n",
    "'''\n",
    "\n",
    "n = int(input(\"Digite o numero de alunos: \"))\n",
    "soma = 0\n",
    "cont_rec = cont = 0\n",
    "cont_rep = 0\n",
    "cont_ap = 0\n",
    "cont_mb = 0\n",
    "for k in range(n):\n",
    "    nota = float(input(\"Digite uma nota: \"))  # veja o float() aqui\n",
    "    cont = cont +1\n",
    "    if nota < 3:\n",
    "        cont_rep = cont_rep +1    \n",
    "    \n",
    "    elif nota < 5:\n",
    "        cont_rec = cont_rec +1\n",
    "        \n",
    "    elif nota < 8:\n",
    "        cont_ap = cont_ap +1\n",
    "\n",
    "print(cont_rep,\"Alunos foram reprovados\")\n",
    "print(cont_rec,\"Alunos ficaram de recuperação\")\n",
    "print(n-cont_rep-cont_rec,\"Alunos foram aprovados\")\n",
    "print(n-cont_rep-cont_rec-cont_ap,\"Alunos tiveram desempenho muito bom\")"
   ]
  },
  {
   "cell_type": "code",
   "execution_count": null,
   "metadata": {},
   "outputs": [],
   "source": [
    "# 1234321 a resposta é não e\n",
    "# 1234556 a resposta é sim.\n",
    "\n",
    "\n",
    "n = int(input(\"Entre com o número: \"))\n",
    "\n",
    "k = n\n",
    "w = n % 10\n",
    "adj = 0\n",
    "\n",
    "while k > 0:\n",
    "    k = k // 10\n",
    "    if w == k % 10:\n",
    "        adj = adj +1\n",
    "        print(\"O número contém digitos adjacentes\")\n",
    "    w = k % 10\n",
    "    \n",
    "if adj == 0:\n",
    "    print(\"O número não contém digitos adjacentes\")"
   ]
  },
  {
   "cell_type": "code",
   "execution_count": null,
   "metadata": {},
   "outputs": [],
   "source": [
    "# Números adjacentes\n",
    "\n",
    "n = int(input(\"Digite um número inteiro: \"))\n",
    "\n",
    "k = n\n",
    "w = n % 10\n",
    "adj = 0\n",
    "\n",
    "while k > 0:\n",
    "    k = k // 10\n",
    "    if w == k % 10:\n",
    "        adj = adj +1\n",
    "        print(\"sim\")\n",
    "    w = k % 10\n",
    "    \n",
    "if adj == 0:\n",
    "    print(\"não\")"
   ]
  },
  {
   "cell_type": "code",
   "execution_count": null,
   "metadata": {},
   "outputs": [],
   "source": [
    "#Fatorial\n",
    "n = int(input(\"Digite o valor de n: \"))\n",
    "k = 1\n",
    "fat = 1\n",
    "while k <= n:\n",
    "    fat = fat * k \n",
    "    k+=1\n",
    "print(fat)    "
   ]
  },
  {
   "cell_type": "code",
   "execution_count": null,
   "metadata": {},
   "outputs": [],
   "source": [
    "#N Prmeiros impares\n",
    "n = int(input(\"Digite o valor de n: \"))\n",
    "k = 0\n",
    "\n",
    "while k < n:\n",
    "    print(2*k+1)\n",
    "    k+=1"
   ]
  },
  {
   "cell_type": "code",
   "execution_count": null,
   "metadata": {},
   "outputs": [],
   "source": [
    "#Soma dos dígitos\n",
    "n = int(input(\"Digite um número inteiro: \"))\n",
    "\n",
    "cnt = n\n",
    "k = 0\n",
    "\n",
    "while cnt > 0:\n",
    "    k = k + cnt % 10\n",
    "    cnt = cnt // 10\n",
    "    \n",
    "print(k)"
   ]
  },
  {
   "cell_type": "markdown",
   "metadata": {},
   "source": [
    "# Mod 7"
   ]
  },
  {
   "cell_type": "markdown",
   "metadata": {},
   "source": [
    "## Fatorial"
   ]
  },
  {
   "cell_type": "code",
   "execution_count": null,
   "metadata": {},
   "outputs": [],
   "source": [
    "n = 1\n",
    "\n",
    "while n > 0:\n",
    "    n = int(input(\"Digite um número inteiro positivo: \"))\n",
    "    fat = 1\n",
    "    while n >= 1:\n",
    "        fat = fat*n\n",
    "        n+=-1\n",
    "    print(fat)"
   ]
  },
  {
   "cell_type": "markdown",
   "metadata": {},
   "source": [
    "## Decomposição em primos."
   ]
  },
  {
   "cell_type": "code",
   "execution_count": null,
   "metadata": {},
   "outputs": [],
   "source": [
    "n = int(input(\"Digite um número inteiro positivo > 1: \"))\n",
    "\n",
    "k = 2\n",
    "div = n\n",
    "\n",
    "while div > 1:\n",
    "    m = 0\n",
    "    while div % k == 0:\n",
    "        div = div // k\n",
    "        m+=1\n",
    "    if m > 0:\n",
    "        print(k,\"^\",m,\"é fator de \",n)\n",
    "    k+= 1"
   ]
  },
  {
   "cell_type": "markdown",
   "metadata": {},
   "source": [
    "## Função para verificar se um número é primo"
   ]
  },
  {
   "cell_type": "code",
   "execution_count": null,
   "metadata": {
    "ExecuteTime": {
     "end_time": "2021-10-12T02:03:19.100548Z",
     "start_time": "2021-10-12T02:03:19.094554Z"
    }
   },
   "outputs": [],
   "source": [
    "def ehprimo(n):\n",
    "    k = 2\n",
    "    \n",
    "    while n % k != 0 and k <= int(n**0.5): \n",
    "        k+= 1\n",
    "                      \n",
    "    return n % k != 0 or n == 2"
   ]
  },
  {
   "cell_type": "markdown",
   "metadata": {},
   "source": [
    "## Imprimindo os 1000 primeiros primos"
   ]
  },
  {
   "cell_type": "code",
   "execution_count": null,
   "metadata": {},
   "outputs": [],
   "source": [
    "def colors_256(color_,txt='texto'):\n",
    "    num1 = str(color_)\n",
    "    if color_ % 16 == 0:\n",
    "        return(f\"\\033[38;5;{num1}m {txt} \\033[0;0m\\n\")\n",
    "    else:\n",
    "        return(f\"\\033[38;5;{num1}m {txt} \\033[0;0m\")"
   ]
  },
  {
   "cell_type": "code",
   "execution_count": null,
   "metadata": {},
   "outputs": [],
   "source": [
    "k = 0\n",
    "w = 1\n",
    "while k <= 1000:\n",
    "    w+= 1\n",
    "    if ehprimo(w):\n",
    "        k+= 1\n",
    "        print(colors_256(w % 10,str(w)),end=\",\")"
   ]
  },
  {
   "cell_type": "code",
   "execution_count": null,
   "metadata": {},
   "outputs": [],
   "source": [
    "ehprimo(654923)"
   ]
  },
  {
   "cell_type": "code",
   "execution_count": null,
   "metadata": {},
   "outputs": [],
   "source": [
    "ehprimo(7927)"
   ]
  },
  {
   "cell_type": "markdown",
   "metadata": {},
   "source": [
    "## Exercício 1"
   ]
  },
  {
   "cell_type": "markdown",
   "metadata": {},
   "source": [
    "### imprime_retangulo_cheio.py"
   ]
  },
  {
   "cell_type": "code",
   "execution_count": null,
   "metadata": {
    "scrolled": false
   },
   "outputs": [],
   "source": [
    "l = int(input(\"digite a largura: \"))\n",
    "a = int(input(\"digite a altura: \"))\n",
    "k = 0\n",
    "\n",
    "while k < a:\n",
    "    k+=1\n",
    "    j = 0\n",
    "    while j < l:\n",
    "        j+=1\n",
    "        print(\"#\",end=\"\")\n",
    "    print()"
   ]
  },
  {
   "cell_type": "markdown",
   "metadata": {},
   "source": [
    "### imprime_retangulo_vazado.py"
   ]
  },
  {
   "cell_type": "code",
   "execution_count": null,
   "metadata": {},
   "outputs": [],
   "source": [
    "l = int(input(\"digite a largura: \"))\n",
    "a = int(input(\"digite a altura: \"))\n",
    "k = 0\n",
    "\n",
    "while k < a:\n",
    "    k+=1\n",
    "    j = 0\n",
    "    while j < l:\n",
    "        j+=1\n",
    "        if k in [1,a]:\n",
    "            print(\"#\",end=\"\")\n",
    "        else:\n",
    "            if j in [1,l]:\n",
    "                print(\"#\",end=\"\")\n",
    "            else:\n",
    "                print(\" \",end=\"\")\n",
    "    print()"
   ]
  },
  {
   "cell_type": "code",
   "execution_count": null,
   "metadata": {},
   "outputs": [],
   "source": [
    "### Exercício 1 - Primos\n",
    "\n",
    "# conta_primos.py\n",
    "\n",
    "def ehprimo(n):\n",
    "    k = 2\n",
    "    \n",
    "    while n % k != 0 and k <= int(n**0.5): \n",
    "        k+= 1\n",
    "                      \n",
    "    return n % k != 0 or n == 2\n",
    "\n",
    "def n_primos(n):\n",
    "    cnt = 0\n",
    "    while n >= 2:\n",
    "        if ehprimo(n):\n",
    "            cnt+=1\n",
    "        n+=-1\n",
    "    return cnt"
   ]
  },
  {
   "cell_type": "code",
   "execution_count": null,
   "metadata": {},
   "outputs": [],
   "source": [
    "n_primos(121)"
   ]
  },
  {
   "cell_type": "code",
   "execution_count": null,
   "metadata": {},
   "outputs": [],
   "source": [
    "x=2\n",
    "y=4\n",
    "\n",
    "x=x/y\n",
    "y=y/x"
   ]
  },
  {
   "cell_type": "code",
   "execution_count": null,
   "metadata": {},
   "outputs": [],
   "source": [
    "1/2+3//3+4**2"
   ]
  },
  {
   "cell_type": "code",
   "execution_count": null,
   "metadata": {},
   "outputs": [],
   "source": [
    "# soma_hipotenusas.py\n",
    "\n",
    "def é_hipotenusa(n):\n",
    "    k = cnt = 1\n",
    "    while k <= n and (n**2 - k**2)**0.5 != int((n**2 - k**2)**0.5):\n",
    "        k+=1\n",
    "\n",
    "    return k != n\n",
    "\n",
    "def soma_hipotenusas(n):\n",
    "    k = s = 0\n",
    "    while k <= n:\n",
    "        if é_hipotenusa(k):\n",
    "            s+=k\n",
    "        k+=1\n",
    "    return s"
   ]
  },
  {
   "cell_type": "code",
   "execution_count": null,
   "metadata": {},
   "outputs": [],
   "source": [
    "é_hipotenusa(13)"
   ]
  },
  {
   "cell_type": "code",
   "execution_count": null,
   "metadata": {
    "scrolled": true
   },
   "outputs": [],
   "source": [
    "soma_hipotenusas(25)"
   ]
  },
  {
   "cell_type": "code",
   "execution_count": null,
   "metadata": {},
   "outputs": [],
   "source": [
    "n = 100\n",
    "\n",
    "x = [*range(n)]\n",
    "\n",
    "y = []\n",
    "\n",
    "j = k = 0\n",
    "while j < n:\n",
    "    if é_hipotenusa(k):\n",
    "        y.append(k)\n",
    "        j+=1\n",
    "    k+=1\n",
    "    \n",
    "\n",
    "y2 = []\n",
    "j = k = 0\n",
    "while j < n:\n",
    "    if soma_hipotenusas(k):\n",
    "        y2.append(k)\n",
    "        j+=1\n",
    "    k+=1"
   ]
  },
  {
   "cell_type": "code",
   "execution_count": null,
   "metadata": {},
   "outputs": [],
   "source": [
    "for k in y:\n",
    "    print(k,end=\",\")"
   ]
  },
  {
   "cell_type": "code",
   "execution_count": null,
   "metadata": {},
   "outputs": [],
   "source": [
    "sns.lineplot(x=x, y=y);"
   ]
  },
  {
   "cell_type": "code",
   "execution_count": null,
   "metadata": {},
   "outputs": [],
   "source": [
    "sns.lineplot(x=x, y=y2);"
   ]
  },
  {
   "cell_type": "code",
   "execution_count": null,
   "metadata": {
    "ExecuteTime": {
     "end_time": "2021-10-12T02:08:33.076842Z",
     "start_time": "2021-10-12T02:08:23.530196Z"
    }
   },
   "outputs": [],
   "source": [
    "def main():\n",
    "    n = 1\n",
    "    cnt = 0\n",
    "    while n != 0:\n",
    "        n = int(input(\"Digite um número inteiro: \"))\n",
    "        if ehprimo(n):\n",
    "            cnt+=1\n",
    "    return cnt\n",
    "\n",
    "        \n",
    "def ehprimo(n):\n",
    "    k = 2\n",
    "    \n",
    "    while n % k != 0 and k <= int(n**0.5): \n",
    "        k+= 1\n",
    "                      \n",
    "    return n % k != 0 or n == 2        \n",
    "        \n",
    "#-----------------------------------------------------\n",
    "main() # chamada da funcao principal"
   ]
  },
  {
   "cell_type": "markdown",
   "metadata": {},
   "source": [
    "# MDC"
   ]
  },
  {
   "cell_type": "code",
   "execution_count": null,
   "metadata": {},
   "outputs": [],
   "source": [
    "def main():\n",
    "    n = int(input(\"Quantos números deseja analisar: \"))\n",
    "\n",
    "    k = 1\n",
    "\n",
    "    mod = int(input(\"Digite o 1º. número: \"))\n",
    "\n",
    "    while k < n:\n",
    "        k+=1\n",
    "        num = int(input(\"Digite o %dº. número: \" %(k)))\n",
    "        mod = mdc(mod,num)\n",
    "\n",
    "    print(mod)    \n",
    "\n",
    "def mdc(a,b):\n",
    "    \n",
    "    mod = a if a > b else b\n",
    "    \n",
    "    while a%mod != 0 or b%mod != 0:\n",
    "        mod+=-1\n",
    "    print(\"O MDC dos números inseridos é\",mod)\n",
    "    return mod\n",
    "\n",
    "main()"
   ]
  },
  {
   "cell_type": "markdown",
   "metadata": {},
   "source": [
    "# Fatorial"
   ]
  },
  {
   "cell_type": "code",
   "execution_count": null,
   "metadata": {},
   "outputs": [],
   "source": [
    "'''Exercício 7.3\n",
    "Dados um número inteiro n, n > 0, e uma sequência com n números inteiros maiores do que zero, \n",
    "determinar o fatorial de cada número da sequência.'''\n",
    "\n",
    "def fatorial(n):\n",
    "\n",
    "    fat = 1\n",
    "    while n >= 1:\n",
    "        fat = fat*n\n",
    "        n+=-1\n",
    "    return fat\n",
    "\n",
    "def main():\n",
    "    n = int(input(\"Quantos números deseja analisar: \"))    \n",
    "    k = 0\n",
    "\n",
    "    while k < n:\n",
    "        k+=1\n",
    "        num = int(input(\"Digite o %dº. número: \" %(k)))\n",
    "        print(num,fatorial(num))  \n",
    "        \n",
    "main()"
   ]
  },
  {
   "cell_type": "code",
   "execution_count": null,
   "metadata": {},
   "outputs": [],
   "source": [
    "def inout(x,y):\n",
    "    if ( (abs(x) <= 3) and (y <= 2 and y >= 1)):\n",
    "        print(\"fora\")\n",
    "        \n",
    "    elif (abs(x)>=1 and abs(x)<=4 and y<8):\n",
    "        if ((abs(x)> 2 and abs(x)< 3) and (y>5 and y<6)):\n",
    "            print(\"dentro\")\n",
    "        else:\n",
    "            print(\"fora\")\n",
    "            \n",
    "    elif abs(x) >= 5 or (y<=0 or y>=8):\n",
    "        print(\"Ponto não contemplado\")\n",
    "    else:\n",
    "        print(\"dentro\")"
   ]
  },
  {
   "cell_type": "code",
   "execution_count": null,
   "metadata": {},
   "outputs": [],
   "source": [
    "inout(-3,1)"
   ]
  },
  {
   "cell_type": "code",
   "execution_count": null,
   "metadata": {},
   "outputs": [],
   "source": [
    "'''\n",
    "Exercício 8.2\n",
    "Nota: Exercício 9 da lista sobre inteiros.\n",
    "\n",
    "Dados números inteiros n, i e j, todos maiores do que zero, imprimir em ordem crescente os n primeiros naturais que são múltiplos de i ou de j e ou de ambos.\n",
    "\n",
    "Por exemplo, para n = 6, i = 2 e j = 3 a saída deverá ser:\n",
    "\n",
    "0   2   3   4   6   8\n",
    "'''\n",
    "\n",
    "n = int(input(\"Digite n: \"))\n",
    "i = int(input(\"Digite i: \"))\n",
    "j = int(input(\"Digite j: \"))\n",
    "\n",
    "k = 1\n",
    "\n",
    "mi = 1\n",
    "mj = 1\n",
    "\n",
    "print(0,end=\" \")\n",
    "\n",
    "while k <= n:\n",
    "    if mi*i > mj*j:\n",
    "        print(mi*i, end=\" \")\n",
    "        mj+= 1 \n",
    "    else:\n",
    "        print(mj*j, end=\" \")\n",
    "        mi+= 1 \n",
    "    k = mi + mj"
   ]
  },
  {
   "cell_type": "markdown",
   "metadata": {},
   "source": [
    "## MDC pelo Algoritmo de Euclides"
   ]
  },
  {
   "cell_type": "code",
   "execution_count": null,
   "metadata": {},
   "outputs": [],
   "source": [
    "def mdc_eu(a,b):\n",
    "    a = abs(a)\n",
    "    b = abs(b)\n",
    "    \n",
    "    if a < b:\n",
    "        a,b=b,a\n",
    "        \n",
    "    if (b == 0):\n",
    "        return a\n",
    "    else:\n",
    "        return mdc_eu(b, a % b)"
   ]
  },
  {
   "cell_type": "code",
   "execution_count": null,
   "metadata": {},
   "outputs": [],
   "source": [
    "mdc_eu(156,348)"
   ]
  },
  {
   "cell_type": "markdown",
   "metadata": {},
   "source": [
    "# Lista Inversa"
   ]
  },
  {
   "cell_type": "code",
   "execution_count": null,
   "metadata": {
    "scrolled": true
   },
   "outputs": [],
   "source": [
    "n = k = 1\n",
    "lst = []\n",
    "\n",
    "while n != 0:\n",
    "    n = int(input(f\"Digite o {k}º Número, terminar em 0 (zero): \"))\n",
    "    k+=1\n",
    "    if n != 0:\n",
    "        lst.append(n)\n",
    "print(lst[::-1])"
   ]
  },
  {
   "cell_type": "code",
   "execution_count": null,
   "metadata": {},
   "outputs": [],
   "source": [
    "aluno = [\"Fulano de Tal\", 25, \"Rua xyz, 123\", \"São Paulo\", 3, \"Matemática\", 7.5, \"Português\", 6.6, \"Artes\", 10]\n",
    "len(aluno)"
   ]
  },
  {
   "cell_type": "code",
   "execution_count": null,
   "metadata": {},
   "outputs": [],
   "source": [
    "aluno[4]"
   ]
  },
  {
   "cell_type": "code",
   "execution_count": null,
   "metadata": {},
   "outputs": [],
   "source": [
    "len(aluno)"
   ]
  },
  {
   "cell_type": "code",
   "execution_count": null,
   "metadata": {},
   "outputs": [],
   "source": [
    "a = pd.DataFrame([[1,2,9],[6,7,3],[7,3,2]])\n",
    "\n",
    "b = a.iloc[:2,:2] # Atribuindo a b sem \"copy\"\n",
    "\n",
    "b"
   ]
  },
  {
   "cell_type": "code",
   "execution_count": null,
   "metadata": {},
   "outputs": [],
   "source": [
    "b.iloc[0,0] = 25\n",
    "b # Neste caso, qualquer valor atualizado em a, altera também b"
   ]
  },
  {
   "cell_type": "code",
   "execution_count": null,
   "metadata": {},
   "outputs": [],
   "source": [
    "a"
   ]
  },
  {
   "cell_type": "code",
   "execution_count": null,
   "metadata": {},
   "outputs": [],
   "source": [
    "a = pd.DataFrame([[1,2,9],[6,7,3],[7,3,2]])\n",
    "\n",
    "b = a.iloc[:2,:2].copy() # Atribuindo a b com \"copy\"\n",
    "\n",
    "b"
   ]
  },
  {
   "cell_type": "code",
   "execution_count": null,
   "metadata": {},
   "outputs": [],
   "source": [
    "a.iloc[0,0] = 25\n",
    "b # Neste caso, qualquer valor atualizado em a, não altera também b (b vira um clone de a e se torna idependente)"
   ]
  },
  {
   "cell_type": "code",
   "execution_count": null,
   "metadata": {},
   "outputs": [],
   "source": [
    "alfabeto = [\"a\", \"b\", \"c\", \"d\", \"e\", \"f\", \"g\", \"h\", \"i\", \"j\", \"k\", \"l\", \"m\", \"n\", \"o\", \"p\", \"q\", \"r\", \"s\", \"t\", \"u\", \"v\", \"w\", \"x\", \"y\", \"z\"]"
   ]
  },
  {
   "cell_type": "code",
   "execution_count": null,
   "metadata": {},
   "outputs": [],
   "source": [
    "alfabeto[1:10], len(alfabeto[1:10])"
   ]
  },
  {
   "cell_type": "code",
   "execution_count": null,
   "metadata": {},
   "outputs": [],
   "source": [
    "len(alfabeto)"
   ]
  },
  {
   "cell_type": "code",
   "execution_count": null,
   "metadata": {},
   "outputs": [],
   "source": [
    "alfabeto[13:35]"
   ]
  },
  {
   "cell_type": "code",
   "execution_count": null,
   "metadata": {},
   "outputs": [],
   "source": [
    "letras = alfabeto[1:10]\n",
    "letras"
   ]
  },
  {
   "cell_type": "code",
   "execution_count": null,
   "metadata": {},
   "outputs": [],
   "source": [
    "len(letras)"
   ]
  },
  {
   "cell_type": "code",
   "execution_count": null,
   "metadata": {},
   "outputs": [],
   "source": [
    "alfabeto[:13]"
   ]
  },
  {
   "cell_type": "code",
   "execution_count": null,
   "metadata": {},
   "outputs": [],
   "source": [
    "alfabeto[13:],len(alfabeto[13:])"
   ]
  },
  {
   "cell_type": "code",
   "execution_count": null,
   "metadata": {},
   "outputs": [],
   "source": [
    "def remove_repetidos(lst):\n",
    "    '''\n",
    "    Função para eliminar termos repetidos em uma lista e retornar \n",
    "    uma nova lista ordenada\n",
    "    '''\n",
    "    lista_temp = []\n",
    "    for j,k in enumerate(lst):\n",
    "        if k not in lst[j+1:]:\n",
    "            lista_temp.append(k)\n",
    "        \n",
    "    return sorted(lista_temp)"
   ]
  },
  {
   "cell_type": "code",
   "execution_count": null,
   "metadata": {},
   "outputs": [],
   "source": [
    "remove_repetidos([1,2,1,3,4,7,10])"
   ]
  },
  {
   "cell_type": "code",
   "execution_count": null,
   "metadata": {},
   "outputs": [],
   "source": [
    "remove_repetidos([2, 4, 2, 2, 3, 3, 1])"
   ]
  },
  {
   "cell_type": "code",
   "execution_count": null,
   "metadata": {},
   "outputs": [],
   "source": [
    "def remove_repetidos2(lst):\n",
    "    '''\n",
    "    Função para eliminar termos repetidos em uma lista e retornar \n",
    "    uma nova lista ordenada\n",
    "    '''\n",
    "    set_temp = set(lst)\n",
    "    lista_temp = list(set_temp)\n",
    "        \n",
    "    return lista_temp"
   ]
  },
  {
   "cell_type": "code",
   "execution_count": null,
   "metadata": {},
   "outputs": [],
   "source": [
    "remove_repetidos2([1,2,1,3,4,7,10])"
   ]
  },
  {
   "cell_type": "code",
   "execution_count": null,
   "metadata": {},
   "outputs": [],
   "source": [
    "remove_repetidos2([2, 4, 2, 2, 3, 3, 1])"
   ]
  },
  {
   "cell_type": "code",
   "execution_count": null,
   "metadata": {},
   "outputs": [],
   "source": [
    "lst = [2, 4, 2, 2, 3, 3, 1]\n",
    "lst.sort() # Modifica a lista orignal, como um \"inplace\"\n",
    "lst"
   ]
  },
  {
   "cell_type": "code",
   "execution_count": null,
   "metadata": {},
   "outputs": [],
   "source": [
    "lst = [2, 4, 2, 2, 3, 3, 1]\n",
    "sorted(lst) # Não modifica a lista original, apenas retorna uma lista nova ordenada\n",
    "lst"
   ]
  },
  {
   "cell_type": "markdown",
   "metadata": {},
   "source": [
    "os **parâmetros** existem apenas dentro das funções em que foram definidos, e o único lugar onde o parâmetro pode ser definido é um espaço entre um par de parêntesis na declaração def ;\n",
    "atribuir um valor ao parâmetro é feito no momento da invocação da função, especificando o **argumento** correspondente.\n",
    "\n",
    "\n",
    "os **parâmetros** vivem dentro de funções (este é o seu ambiente natural)\n",
    "os **argumentos** existem fora de funções, e são portadores de valores passados para parâmetros correspondentes."
   ]
  },
  {
   "cell_type": "code",
   "execution_count": null,
   "metadata": {},
   "outputs": [],
   "source": [
    "def soma_elementos (lst):\n",
    "    '''\n",
    "    Função que recebe como parâmetro uma lista com números inteiros e \n",
    "    devolve um número inteiro correspondente à soma dos elementos da lista recebida.\n",
    "    '''\n",
    "    sum = 0 \n",
    "    for k in lst:\n",
    "        sum = sum + k\n",
    "    return sum"
   ]
  },
  {
   "cell_type": "code",
   "execution_count": null,
   "metadata": {},
   "outputs": [],
   "source": [
    "soma_elementos(lst)"
   ]
  },
  {
   "cell_type": "code",
   "execution_count": null,
   "metadata": {},
   "outputs": [],
   "source": [
    "sum(lst)"
   ]
  },
  {
   "cell_type": "code",
   "execution_count": null,
   "metadata": {},
   "outputs": [],
   "source": [
    "def maior_elemento(lista):\n",
    "    '''\n",
    "    Função que recebe como parâmetro uma lista com números inteiros e devolve \n",
    "    um número inteiro correspondente ao maior valor presente na lista recebida.\n",
    "    '''\n",
    "    maior = lista[0]\n",
    "    for k in lista:\n",
    "        if k > maior:\n",
    "            maior = k\n",
    "    return maior"
   ]
  },
  {
   "cell_type": "code",
   "execution_count": null,
   "metadata": {},
   "outputs": [],
   "source": [
    "maior_elemento(lst+[39])"
   ]
  },
  {
   "cell_type": "code",
   "execution_count": null,
   "metadata": {},
   "outputs": [],
   "source": [
    "n = 1\n",
    "lista = []\n",
    "while n != 0:\n",
    "    n = int(input(\"Digite um número: \"))\n",
    "    lista.append(n)\n",
    "\n",
    "comp = len(lista)\n",
    "print()\n",
    "for k in range(2,comp+1):\n",
    "    print(lista[-k])"
   ]
  },
  {
   "cell_type": "code",
   "execution_count": null,
   "metadata": {},
   "outputs": [],
   "source": [
    "def concat_ordena(lista_m,lista_n):\n",
    "    '''\n",
    "    Dados dois números naturais m e n e duas sequências ordenadas com m e n números\n",
    "    inteiros, obtem uma única sequência ordenada contendo todos os elementos \n",
    "    das sequências originais sem repetição.\n",
    "    '''\n",
    "    listao = lista_m + lista_n\n",
    "    \n",
    "    return remove_repetidos(listao)"
   ]
  },
  {
   "cell_type": "code",
   "execution_count": null,
   "metadata": {},
   "outputs": [],
   "source": [
    "concat_ordena([1,2,3,3,4,9],[1,5,6,7,3,4,9])"
   ]
  },
  {
   "cell_type": "code",
   "execution_count": null,
   "metadata": {},
   "outputs": [],
   "source": [
    "def maior_soma(lista):\n",
    "    '''\n",
    "    Dados um número inteiro n e uma sequência com n números reais, \n",
    "    determinar a maior soma de um segmento da sequência (com pelo menos um elemento). \n",
    "    Um segmento é uma subsequência de números consecutivos.\n",
    "    '''\n",
    "    comp = len(lista)\n",
    "    soma = 0\n",
    "    lista_soma = []\n",
    "    for k in range(comp):\n",
    "        for i in range(comp - k):\n",
    "            if sum(lista[i:k+i]) > soma:\n",
    "                soma = sum(lista[i:k+i])\n",
    "                lista_soma = lista[i:k+i]\n",
    "    return lista_soma"
   ]
  },
  {
   "cell_type": "code",
   "execution_count": null,
   "metadata": {},
   "outputs": [],
   "source": [
    "maior_soma([5, -2, -2, -7, 3, 14, 10, -3, 9, -6, 4, 1])"
   ]
  },
  {
   "cell_type": "code",
   "execution_count": null,
   "metadata": {},
   "outputs": [],
   "source": [
    "help(maior_soma)"
   ]
  },
  {
   "cell_type": "code",
   "execution_count": null,
   "metadata": {},
   "outputs": [],
   "source": [
    "def seq3np1_n_iteracoes(n):\n",
    "    \"\"\"\n",
    "    Indica o número de iterações até a sequencia 3n+1\n",
    "    até que a sequência convirja para 1.\n",
    "    \"\"\"\n",
    "    count = 1\n",
    "    while n != 1:\n",
    "        count+=1\n",
    "        if n % 2 == 0:        # n is even\n",
    "            n = n // 2\n",
    "        else:                 # n is odd\n",
    "            n = n * 3 + 1\n",
    "    return count                  # the last print is 1"
   ]
  },
  {
   "cell_type": "code",
   "execution_count": null,
   "metadata": {},
   "outputs": [],
   "source": [
    "def seq3np1(n):\n",
    "    \"\"\"\n",
    "    retorna uma lista da sequencia 3n+1 tendo como termo inicial n\n",
    "    e\n",
    "    Indica o número de iterações até a sequencia 3n+1\n",
    "    até que a sequência convirja para 1.\n",
    "    \"\"\"\n",
    "    lista = [n]\n",
    "    count = 1\n",
    "    while n != 1:\n",
    "        count+=1\n",
    "        if n % 2 == 0:        # n is even\n",
    "            n = n // 2\n",
    "        else:                 # n is odd\n",
    "            n = n * 3 + 1\n",
    "        lista.append(n)\n",
    "    return lista,count                  # the last print is 1"
   ]
  },
  {
   "cell_type": "code",
   "execution_count": null,
   "metadata": {},
   "outputs": [],
   "source": [
    "n = 2\n",
    "while seq3np1(n)[1] < 100:\n",
    "    n+=1\n",
    "print(n)"
   ]
  },
  {
   "cell_type": "code",
   "execution_count": null,
   "metadata": {},
   "outputs": [],
   "source": [
    "seq3np1(26)"
   ]
  },
  {
   "cell_type": "code",
   "execution_count": null,
   "metadata": {},
   "outputs": [],
   "source": [
    "def checkout():\n",
    "    total = 0\n",
    "    count = 0\n",
    "    moreItems = True\n",
    "    while moreItems:\n",
    "        price = float(input('Enter price of item (0 when done): '))\n",
    "        if price != 0 and price > 0:\n",
    "            count = count + 1\n",
    "            total = total + price\n",
    "            print('Subtotal: $', total)           \n",
    "        elif price < 0:\n",
    "            print('Valor Inválido')\n",
    "        else:\n",
    "            moreItems = False\n",
    "            \n",
    "    if count != 0:\n",
    "        average = total / count\n",
    "        print('Total items:', count)\n",
    "        print('Total $', total)\n",
    "        print(f'Average price per item: ${average:.2f}')\n",
    "    else:\n",
    "        print(\"you can’t compute an average without data\")\n",
    "\n",
    "checkout()"
   ]
  },
  {
   "cell_type": "code",
   "execution_count": null,
   "metadata": {},
   "outputs": [],
   "source": [
    "ar1 = np.array([[-1,0,1],[-2,0,2],[-1,0,1]])\n",
    "\n",
    "ar2 = np.array([[1,2,1],[0,0,0],[-1,-2,-1]])\n",
    "\n",
    "max1 = 0\n",
    "for _ in range(25000):\n",
    "    C = np.array([[rnd.randint(700,765)],[rnd.randint(700,765)],[rnd.randint(700,765)]])\n",
    "    Gx = np.matmul(ar1,C)\n",
    "    Gy = np.matmul(ar2,C)\n",
    "    G = (sum(Gx*Gx) + sum(Gy*Gy))**0.5\n",
    "    if G > max1:\n",
    "        max1 = G\n",
    "        \n",
    "max1"
   ]
  },
  {
   "cell_type": "code",
   "execution_count": null,
   "metadata": {},
   "outputs": [],
   "source": [
    "max1 = 0\n",
    "for k in range(700,766):\n",
    "    for j in range(700,766):\n",
    "        for w in range(700,766):\n",
    "            C = np.array([[k],[j],[w]])\n",
    "            Gx = np.matmul(ar1,C)\n",
    "            Gy = np.matmul(ar2,C)\n",
    "            G = (sum(Gx*Gx) + sum(Gy*Gy))**0.5\n",
    "            if G > max1:\n",
    "                max1 = G\n",
    "        \n",
    "max1"
   ]
  },
  {
   "cell_type": "code",
   "execution_count": null,
   "metadata": {},
   "outputs": [],
   "source": [
    "def inclinacao(x1, y1, x2, y2):\n",
    "    if (x1-x2) == 0:\n",
    "        return \"Angulo reto\"\n",
    "    else:\n",
    "        return (y2-y1)/(x2-x1)"
   ]
  },
  {
   "cell_type": "code",
   "execution_count": null,
   "metadata": {},
   "outputs": [],
   "source": [
    "def intersecta(x1, y1, x2, y2):\n",
    "    if (x1-x2) == 0:\n",
    "        return \"Angulo reto\"\n",
    "    else:\n",
    "        return (y2*x1-y1*x2)/(x1-x2)"
   ]
  },
  {
   "cell_type": "code",
   "execution_count": null,
   "metadata": {},
   "outputs": [],
   "source": [
    "def intersecta2(x1, y1, x2, y2):\n",
    "    return y2 - inclinacao(x1, y1, x2, y2)*x2"
   ]
  },
  {
   "cell_type": "code",
   "execution_count": null,
   "metadata": {},
   "outputs": [],
   "source": [
    "for _ in range(100):\n",
    "    \n",
    "    k,j,l,m = rnd.randint(0,10),rnd.randint(0,10),rnd.randint(0,10),rnd.randint(0,10)\n",
    "    if (k-l) != 0:\n",
    "        if intersecta(k,j,l,m) != intersecta2(k,j,l,m): # COMPARANDO OS MÉTODOS\n",
    "            print(intersecta(k,j,l,m),intersecta2(k,j,l,m))"
   ]
  },
  {
   "cell_type": "markdown",
   "metadata": {},
   "source": [
    "## Strings are Immutable"
   ]
  },
  {
   "cell_type": "code",
   "execution_count": null,
   "metadata": {},
   "outputs": [],
   "source": [
    "greeting = \"Hello, world!\"\n",
    "# greeting[0] = 'J'            # ERROR!\n",
    "print(greeting)"
   ]
  },
  {
   "cell_type": "code",
   "execution_count": null,
   "metadata": {
    "ExecuteTime": {
     "end_time": "2021-10-07T01:13:55.202253Z",
     "start_time": "2021-10-07T01:13:55.192256Z"
    },
    "scrolled": true
   },
   "outputs": [],
   "source": [
    "print(\"Hello\")\n",
    "# Storing the characters space, tab etc\n",
    "result = string.whitespace\n",
    "  \n",
    "# Printing the values\n",
    "print(result[1])\n",
    "print(\"Rafael\",result[4],\"de Jesus\")"
   ]
  },
  {
   "cell_type": "code",
   "execution_count": null,
   "metadata": {
    "ExecuteTime": {
     "end_time": "2021-10-07T01:13:55.233233Z",
     "start_time": "2021-10-07T01:13:55.205250Z"
    }
   },
   "outputs": [],
   "source": [
    "string.whitespace,len(string.whitespace)"
   ]
  },
  {
   "cell_type": "code",
   "execution_count": null,
   "metadata": {
    "ExecuteTime": {
     "end_time": "2021-10-07T01:13:55.249226Z",
     "start_time": "2021-10-07T01:13:55.236231Z"
    }
   },
   "outputs": [],
   "source": [
    "prefixes = \"JKLMNOPQ\"\n",
    "\n",
    "for p in prefixes:\n",
    "    if p in 'OQ':\n",
    "        suffix = \"uack\"\n",
    "    else:\n",
    "        suffix = \"ack\"\n",
    "    print(p + suffix)"
   ]
  },
  {
   "cell_type": "code",
   "execution_count": null,
   "metadata": {
    "ExecuteTime": {
     "end_time": "2021-10-07T01:13:55.265215Z",
     "start_time": "2021-10-07T01:13:55.251222Z"
    }
   },
   "outputs": [],
   "source": [
    "roos_quote = \"\"\"It is not the critic who counts; not the man who points out how the strong man stumbles, or where the doer of deeds could have done them better. The credit belongs to the man who is actually in the arena, whose face is marred by dust and sweat and blood; who strives valiantly; who errs, who comes short again and again, because there is no effort without error and shortcoming; but who does actually strive to do the deeds; who knows great enthusiasms, the great devotions; who spends himself in a worthy cause; who at the best knows in the end the triumph of high achievement, and who at the worst, if he fails, at least fails while daring greatly, so that his place shall never be with those cold and timid souls who neither know victory nor defeat.\"\"\"\n",
    "\n",
    "# Theodore Roosevelt\n",
    "\n",
    "roos_quote"
   ]
  },
  {
   "cell_type": "code",
   "execution_count": null,
   "metadata": {
    "ExecuteTime": {
     "end_time": "2021-10-07T01:13:55.281205Z",
     "start_time": "2021-10-07T01:13:55.269212Z"
    }
   },
   "outputs": [],
   "source": [
    "print(roos_quote)"
   ]
  },
  {
   "cell_type": "code",
   "execution_count": null,
   "metadata": {
    "ExecuteTime": {
     "end_time": "2021-10-07T01:13:55.297197Z",
     "start_time": "2021-10-07T01:13:55.283205Z"
    }
   },
   "outputs": [],
   "source": [
    "def contalfa(string,item):\n",
    "    cnt = 0\n",
    "    for k in string:\n",
    "        if item == k:\n",
    "            cnt+=1\n",
    "    return cnt"
   ]
  },
  {
   "cell_type": "code",
   "execution_count": null,
   "metadata": {
    "ExecuteTime": {
     "end_time": "2021-10-07T01:13:55.313190Z",
     "start_time": "2021-10-07T01:13:55.299196Z"
    }
   },
   "outputs": [],
   "source": [
    "contalfa(roos_quote,\"I\")"
   ]
  },
  {
   "cell_type": "code",
   "execution_count": null,
   "metadata": {
    "ExecuteTime": {
     "end_time": "2021-10-07T01:13:55.345169Z",
     "start_time": "2021-10-07T01:13:55.315186Z"
    }
   },
   "outputs": [],
   "source": [
    "lista0 = [*set(roos_quote)]\n",
    "lista0.sort()\n",
    "lista0"
   ]
  },
  {
   "cell_type": "code",
   "execution_count": null,
   "metadata": {
    "ExecuteTime": {
     "end_time": "2021-10-07T01:13:55.361160Z",
     "start_time": "2021-10-07T01:13:55.348167Z"
    }
   },
   "outputs": [],
   "source": [
    "lista = []\n",
    "\n",
    "let = mod = 0 \n",
    "\n",
    "for k in lista0:\n",
    "    a = contalfa(roos_quote,k)\n",
    "    lista.append([k,a])\n",
    "    if a > mod:\n",
    "        mod = a\n",
    "        let = k\n",
    "lista, mod, let"
   ]
  },
  {
   "cell_type": "code",
   "execution_count": null,
   "metadata": {
    "ExecuteTime": {
     "end_time": "2021-10-07T01:36:19.966147Z",
     "start_time": "2021-10-07T01:36:19.943167Z"
    }
   },
   "outputs": [],
   "source": [
    "# Print out a neatly formatted multiplication table, up to 12 x 12\n",
    "\n",
    "for k in range(1,13):\n",
    "    for j in range(1,13):\n",
    "        print(f\"{j}x{k}={k*j}\",end=\"\\t\")\n",
    "    print()"
   ]
  },
  {
   "cell_type": "code",
   "execution_count": null,
   "metadata": {
    "ExecuteTime": {
     "end_time": "2021-10-07T01:13:55.425122Z",
     "start_time": "2021-10-07T01:13:55.398138Z"
    }
   },
   "outputs": [],
   "source": [
    "#Write a function that will return the number of digits in an integer.\n",
    "def numDigits(n):\n",
    "    n_str = str(n)\n",
    "    return len(n_str)\n",
    "\n",
    "\n",
    "print(numDigits(50))\n",
    "print(numDigits(20000))\n",
    "print(numDigits(1))"
   ]
  },
  {
   "cell_type": "code",
   "execution_count": null,
   "metadata": {
    "ExecuteTime": {
     "end_time": "2021-10-07T01:13:55.441113Z",
     "start_time": "2021-10-07T01:13:55.428122Z"
    }
   },
   "outputs": [],
   "source": [
    "# Write a function that reverses its string argument.\n",
    "def reverses_str(string):\n",
    "    \"\"\"\n",
    "    function that reverses its string argument\n",
    "    \"\"\"\n",
    "    string2 = \"\"\n",
    "    for k in string:\n",
    "        string2 = k + string2\n",
    "    return string2"
   ]
  },
  {
   "cell_type": "code",
   "execution_count": null,
   "metadata": {
    "ExecuteTime": {
     "end_time": "2021-10-07T01:13:55.457104Z",
     "start_time": "2021-10-07T01:13:55.445111Z"
    }
   },
   "outputs": [],
   "source": [
    "reverses_str('Rafael')"
   ]
  },
  {
   "cell_type": "code",
   "execution_count": null,
   "metadata": {
    "ExecuteTime": {
     "end_time": "2021-10-07T01:13:55.473094Z",
     "start_time": "2021-10-07T01:13:55.460103Z"
    }
   },
   "outputs": [],
   "source": [
    "def mirror_str(string):\n",
    "    \"\"\"Write a function that mirrors its string argument, generating a string containing the original string and the string backwards.\n",
    "    \"\"\"\n",
    "    return string + reverses_str(string)"
   ]
  },
  {
   "cell_type": "code",
   "execution_count": null,
   "metadata": {
    "ExecuteTime": {
     "end_time": "2021-10-07T01:13:55.489086Z",
     "start_time": "2021-10-07T01:13:55.476093Z"
    }
   },
   "outputs": [],
   "source": [
    "mirror_str('string')"
   ]
  },
  {
   "cell_type": "code",
   "execution_count": null,
   "metadata": {
    "ExecuteTime": {
     "end_time": "2021-10-07T01:13:55.505077Z",
     "start_time": "2021-10-07T01:13:55.491085Z"
    }
   },
   "outputs": [],
   "source": [
    "def remove_str(string,item):\n",
    "    string2 = \"\"\n",
    "    for k in string:\n",
    "        if k != item:\n",
    "            string2 = string2 + k\n",
    "    return string2"
   ]
  },
  {
   "cell_type": "code",
   "execution_count": null,
   "metadata": {
    "ExecuteTime": {
     "end_time": "2021-10-07T01:13:55.521067Z",
     "start_time": "2021-10-07T01:13:55.508075Z"
    }
   },
   "outputs": [],
   "source": [
    "remove_str('string',\"s\")"
   ]
  },
  {
   "cell_type": "code",
   "execution_count": null,
   "metadata": {
    "ExecuteTime": {
     "end_time": "2021-10-07T01:13:55.537058Z",
     "start_time": "2021-10-07T01:13:55.523067Z"
    }
   },
   "outputs": [],
   "source": [
    "def eh_palindromo(string1,string2):\n",
    "    \"\"\"\n",
    "    Write a function that recognizes palindromes.\n",
    "    \"\"\"\n",
    "    return string1 == reverses_str(string2)\n",
    "\n",
    "eh_palindromo(\"rafael\",\"leafar\")"
   ]
  },
  {
   "cell_type": "code",
   "execution_count": null,
   "metadata": {},
   "outputs": [],
   "source": [
    "def eh_palindromo2(string1,string2):\n",
    "    \"\"\"\n",
    "    Write a function that recognizes palindromes.\n",
    "    \"\"\"\n",
    "    return string1 == string2[::-1]\n",
    "\n",
    "eh_palindromo2(\"rafael\",\"leafar\")"
   ]
  },
  {
   "cell_type": "code",
   "execution_count": null,
   "metadata": {},
   "outputs": [],
   "source": [
    "strx = 'Ando devagar porque já tive pressa'"
   ]
  },
  {
   "cell_type": "code",
   "execution_count": null,
   "metadata": {},
   "outputs": [],
   "source": [
    "strx[::-1]"
   ]
  },
  {
   "cell_type": "code",
   "execution_count": null,
   "metadata": {
    "ExecuteTime": {
     "end_time": "2021-10-07T01:13:55.553050Z",
     "start_time": "2021-10-07T01:13:55.539057Z"
    }
   },
   "outputs": [],
   "source": [
    "def cont_substr(string,substr):\n",
    "    \"\"\"\n",
    "    function that counts how many non-overlapping occurences of a substring appear in a string.\n",
    "    \"\"\"\n",
    "    start = 0\n",
    "    cnt = 0\n",
    "    include = True\n",
    "    while include:\n",
    "        if string.find(substr,start) >= 0:\n",
    "            start = string.find(substr,start) + len(substr)\n",
    "            cnt+=1\n",
    "        else:\n",
    "            include = False      \n",
    "    return cnt"
   ]
  },
  {
   "cell_type": "code",
   "execution_count": null,
   "metadata": {
    "ExecuteTime": {
     "end_time": "2021-10-07T01:13:55.585030Z",
     "start_time": "2021-10-07T01:13:55.556048Z"
    }
   },
   "outputs": [],
   "source": [
    "def cont_substr2(string,substr):\n",
    "    \"\"\"\n",
    "    function that counts how many occurences of a substring appear in a string.\n",
    "    \"\"\"\n",
    "    start = 0\n",
    "    cnt = 0\n",
    "    include = True\n",
    "    while include:\n",
    "        if string.find(substr,start) >= 0:\n",
    "            start = string.find(substr,start)+1\n",
    "            cnt+=1\n",
    "        else:\n",
    "            include = False      \n",
    "    return cnt"
   ]
  },
  {
   "cell_type": "code",
   "execution_count": null,
   "metadata": {
    "ExecuteTime": {
     "end_time": "2021-10-07T01:13:55.601022Z",
     "start_time": "2021-10-07T01:13:55.587030Z"
    },
    "scrolled": true
   },
   "outputs": [],
   "source": [
    "cont_substr2('abababa','aba')"
   ]
  },
  {
   "cell_type": "code",
   "execution_count": null,
   "metadata": {
    "ExecuteTime": {
     "end_time": "2021-10-07T01:13:55.617013Z",
     "start_time": "2021-10-07T01:13:55.603021Z"
    }
   },
   "outputs": [],
   "source": [
    "cont_substr('abababa','aba')"
   ]
  },
  {
   "cell_type": "code",
   "execution_count": null,
   "metadata": {
    "ExecuteTime": {
     "end_time": "2021-10-07T01:33:07.835255Z",
     "start_time": "2021-10-07T01:33:07.821264Z"
    }
   },
   "outputs": [],
   "source": [
    "def cont_substr3(string,substr):\n",
    "    \"\"\"\n",
    "    function that counts how many non-overlapping occurences of a substring appear in a string.\n",
    "    and return counter and positions of substrings\n",
    "    \"\"\"\n",
    "    start = 0\n",
    "    cnt = 0\n",
    "    include = True\n",
    "    lista = []\n",
    "    while include:\n",
    "        pos = string.find(substr,start)\n",
    "        if pos >= 0:\n",
    "            start = pos + len(substr)\n",
    "            lista.append(pos)\n",
    "            cnt+=1\n",
    "        else:\n",
    "            include = False      \n",
    "    return cnt,lista\n",
    "\n",
    "def remove_fststr2str(string,substr):\n",
    "    \"\"\"\n",
    "    function that removes first occurrence of a string from another string\n",
    "    \"\"\"\n",
    "    string2 = \"\"\n",
    "    lenght = len(substr)\n",
    "    cnt,lista = cont_substr3(string,substr)\n",
    "    \n",
    "    lista2 = []\n",
    "    for j in range(lenght):\n",
    "        lista2.append(lista[0]+j)\n",
    "        \n",
    "    \n",
    "    for k in range(len(string)):\n",
    "        if k not in lista2:\n",
    "            string2 = string2 + string[k]\n",
    "\n",
    "    return string2\n",
    "\n",
    "def remove_str2str(string,substr):\n",
    "    \"\"\"\n",
    "    function that removes all occurrences of a string from another string\n",
    "    \"\"\"\n",
    "    string2 = \"\"\n",
    "    lenght = len(substr)\n",
    "    cnt,lista = cont_substr3(string,substr)\n",
    "    \n",
    "    lista2 = []\n",
    "    for k in lista:\n",
    "        for j in range(lenght):\n",
    "            lista2.append(k+j)\n",
    "        \n",
    "    \n",
    "    for k in range(len(string)):\n",
    "        if k not in lista2:\n",
    "            string2 = string2 + string[k]\n",
    "\n",
    "    return string2"
   ]
  },
  {
   "cell_type": "code",
   "execution_count": null,
   "metadata": {
    "ExecuteTime": {
     "end_time": "2021-10-07T01:33:08.528591Z",
     "start_time": "2021-10-07T01:33:08.509604Z"
    }
   },
   "outputs": [],
   "source": [
    "cont_substr3('abababa','aba')"
   ]
  },
  {
   "cell_type": "code",
   "execution_count": null,
   "metadata": {
    "ExecuteTime": {
     "end_time": "2021-10-07T01:33:09.615638Z",
     "start_time": "2021-10-07T01:33:09.607644Z"
    }
   },
   "outputs": [],
   "source": [
    "remove_fststr2str('abababa','aba')"
   ]
  },
  {
   "cell_type": "code",
   "execution_count": null,
   "metadata": {
    "ExecuteTime": {
     "end_time": "2021-10-07T02:06:00.713092Z",
     "start_time": "2021-10-07T02:06:00.706097Z"
    }
   },
   "outputs": [],
   "source": [
    "remove_str2str('abababa','aba')"
   ]
  },
  {
   "cell_type": "code",
   "execution_count": null,
   "metadata": {
    "ExecuteTime": {
     "end_time": "2021-10-07T02:06:00.745093Z",
     "start_time": "2021-10-07T02:06:00.719092Z"
    }
   },
   "outputs": [],
   "source": [
    "string.printable"
   ]
  },
  {
   "cell_type": "code",
   "execution_count": null,
   "metadata": {
    "ExecuteTime": {
     "end_time": "2021-10-07T02:06:00.761064Z",
     "start_time": "2021-10-07T02:06:00.747075Z"
    }
   },
   "outputs": [],
   "source": [
    "len(string.printable)"
   ]
  },
  {
   "cell_type": "code",
   "execution_count": null,
   "metadata": {
    "ExecuteTime": {
     "end_time": "2021-10-07T02:06:00.777056Z",
     "start_time": "2021-10-07T02:06:00.763065Z"
    }
   },
   "outputs": [],
   "source": [
    "rng = np.random.RandomState(0)\n",
    "\n",
    "lista3 = [*rng.permutation(100)]"
   ]
  },
  {
   "cell_type": "code",
   "execution_count": null,
   "metadata": {
    "ExecuteTime": {
     "end_time": "2021-10-07T02:06:00.793046Z",
     "start_time": "2021-10-07T02:06:00.781053Z"
    }
   },
   "outputs": [],
   "source": [
    "str3 = \"\".join([string.printable[k] for k in lista3])\n",
    "str3"
   ]
  },
  {
   "cell_type": "code",
   "execution_count": null,
   "metadata": {
    "ExecuteTime": {
     "end_time": "2021-10-07T02:06:00.825047Z",
     "start_time": "2021-10-07T02:06:00.795046Z"
    }
   },
   "outputs": [],
   "source": [
    "def encrypt(string1, chave = str3):\n",
    "\n",
    "    \"\"\"\n",
    "    Function that implements a substitution cipher. \n",
    "    In a substitution cipher one letter is substituted for another to garble the message. \n",
    "    For example A -> Q, B -> T, C -> G etc. \n",
    "    With two parameters, the message you want to encrypt, and a string that \n",
    "    represents the mapping of the 26 letters in the alphabet. \n",
    "    Your function should return a string that is the encrypted version of the message.\n",
    "    \"\"\"\n",
    "    string2 = \"\"\n",
    "    for k in string1:\n",
    "        if k in string.printable:\n",
    "            pos = string.printable.find(k)\n",
    "            string2 = string2 + str3[pos]\n",
    "        else:\n",
    "            string2 = string2 + k\n",
    "        \n",
    "    return string2"
   ]
  },
  {
   "cell_type": "code",
   "execution_count": null,
   "metadata": {
    "ExecuteTime": {
     "end_time": "2021-10-07T02:06:00.841018Z",
     "start_time": "2021-10-07T02:06:00.827026Z"
    }
   },
   "outputs": [],
   "source": [
    "encrypt(roos_quote)"
   ]
  },
  {
   "cell_type": "code",
   "execution_count": null,
   "metadata": {
    "ExecuteTime": {
     "end_time": "2021-10-07T02:06:00.857010Z",
     "start_time": "2021-10-07T02:06:00.843019Z"
    }
   },
   "outputs": [],
   "source": [
    "def decrypt(string1, lst = str3):\n",
    "\n",
    "    \"\"\"\n",
    "    Function that implements a substitution cipher. \n",
    "    In a substitution cipher one letter is substituted for another to garble the message. \n",
    "    For example A -> Q, B -> T, C -> G etc. \n",
    "    With two parameters, the message you want to encrypt, and a string that \n",
    "    represents the mapping of the 26 letters in the alphabet. \n",
    "    Your function should return a string that is the encrypted version of the message.\n",
    "    \"\"\"\n",
    "    string2 = \"\"\n",
    "    for k in string1:\n",
    "        if k in lst:\n",
    "            pos = str3.find(k)\n",
    "            string2 = string2 + string.printable[pos]\n",
    "        else:\n",
    "            string2 = string2 + k\n",
    "        \n",
    "    return string2"
   ]
  },
  {
   "cell_type": "code",
   "execution_count": null,
   "metadata": {
    "ExecuteTime": {
     "end_time": "2021-10-07T02:06:00.873000Z",
     "start_time": "2021-10-07T02:06:00.859008Z"
    }
   },
   "outputs": [],
   "source": [
    "decrypt(encrypt(roos_quote))"
   ]
  },
  {
   "cell_type": "code",
   "execution_count": null,
   "metadata": {
    "ExecuteTime": {
     "end_time": "2021-10-07T02:06:00.888991Z",
     "start_time": "2021-10-07T02:06:00.874999Z"
    }
   },
   "outputs": [],
   "source": [
    "chr(0)"
   ]
  },
  {
   "cell_type": "code",
   "execution_count": null,
   "metadata": {
    "ExecuteTime": {
     "end_time": "2021-10-07T02:06:00.904981Z",
     "start_time": "2021-10-07T02:06:00.892989Z"
    }
   },
   "outputs": [],
   "source": [
    "chr(600)"
   ]
  },
  {
   "cell_type": "code",
   "execution_count": null,
   "metadata": {
    "ExecuteTime": {
     "end_time": "2021-10-07T02:06:00.920972Z",
     "start_time": "2021-10-07T02:06:00.906981Z"
    }
   },
   "outputs": [],
   "source": [
    "ord('ɘ')"
   ]
  },
  {
   "cell_type": "code",
   "execution_count": null,
   "metadata": {
    "ExecuteTime": {
     "end_time": "2021-10-07T02:06:00.936963Z",
     "start_time": "2021-10-07T02:06:00.922972Z"
    }
   },
   "outputs": [],
   "source": [
    "ord('0')"
   ]
  },
  {
   "cell_type": "code",
   "execution_count": null,
   "metadata": {
    "ExecuteTime": {
     "end_time": "2021-10-07T02:06:00.952954Z",
     "start_time": "2021-10-07T02:06:00.938962Z"
    }
   },
   "outputs": [],
   "source": [
    "def remove_dups(inputString):\n",
    "    \"\"\"\n",
    "    that takes a string and creates a new string by only adding those characters \n",
    "    that are not already present. In other words, there will never be a duplicate \n",
    "    letter added to the new string.\n",
    "    \"\"\"\n",
    "    newString = ''\n",
    "    for i,ch in enumerate(inputString):\n",
    "        if ch not in inputString[i+1:]:\n",
    "            newString = newString + ch\n",
    "    return newString\n",
    "\n",
    "print(remove_dups(\"mississippi\"))"
   ]
  },
  {
   "cell_type": "code",
   "execution_count": null,
   "metadata": {
    "ExecuteTime": {
     "end_time": "2021-10-07T02:06:00.968945Z",
     "start_time": "2021-10-07T02:06:00.956952Z"
    }
   },
   "outputs": [],
   "source": [
    "string.ascii_uppercase[0]"
   ]
  },
  {
   "cell_type": "code",
   "execution_count": null,
   "metadata": {
    "ExecuteTime": {
     "end_time": "2021-10-07T02:06:01.000926Z",
     "start_time": "2021-10-07T02:06:00.976941Z"
    }
   },
   "outputs": [],
   "source": [
    "\"\".join([string.ascii_uppercase[k] for k in range(-13,13)])"
   ]
  },
  {
   "cell_type": "code",
   "execution_count": null,
   "metadata": {
    "ExecuteTime": {
     "end_time": "2021-10-07T02:10:27.950990Z",
     "start_time": "2021-10-07T02:10:27.932001Z"
    }
   },
   "outputs": [],
   "source": [
    "def rot13(str_input):\n",
    "    \"\"\"\n",
    "    uses the Caesar cipher to encrypt a message. \n",
    "    The Caesar cipher works like a substitution cipher but \n",
    "    each character is replaced by the character 13 characters to ‘its right’ in the alphabet\n",
    "    \"\"\"\n",
    "    letterp13 = \"\".join([string.ascii_uppercase[k] for k in range(-13,13)])\n",
    "    string2 = \"\"\n",
    "    \n",
    "    str_input = str_input.upper()\n",
    "    \n",
    "    for k in str_input:\n",
    "        if k in string.ascii_uppercase:\n",
    "            pos = string.ascii_uppercase.find(k)\n",
    "            string2 = string2 + letterp13[pos]\n",
    "        else:\n",
    "            string2 = string2 + k\n",
    "        \n",
    "    return string2"
   ]
  },
  {
   "cell_type": "code",
   "execution_count": null,
   "metadata": {
    "ExecuteTime": {
     "end_time": "2021-10-07T02:10:29.163954Z",
     "start_time": "2021-10-07T02:10:29.148328Z"
    }
   },
   "outputs": [],
   "source": [
    "rot13(roos_quote)"
   ]
  },
  {
   "cell_type": "code",
   "execution_count": null,
   "metadata": {
    "ExecuteTime": {
     "end_time": "2021-10-07T02:10:31.110249Z",
     "start_time": "2021-10-07T02:10:31.092605Z"
    }
   },
   "outputs": [],
   "source": [
    "def derot13(str_input):\n",
    "    \"\"\"\n",
    "    uses the Caesar cipher to encrypt a message. \n",
    "    The Caesar cipher works like a substitution cipher but \n",
    "    each character is replaced by the character 13 characters to ‘its right’ in the alphabet\n",
    "    \"\"\"\n",
    "    letterp13 = \"\".join([string.ascii_uppercase[k] for k in range(-13,13)])\n",
    "    string2 = \"\"\n",
    "    \n",
    "    str_input = str_input.upper()\n",
    "    \n",
    "    for k in str_input:\n",
    "        if k in string.ascii_uppercase:\n",
    "            pos = letterp13.find(k)\n",
    "            string2 = string2 + string.ascii_uppercase[pos]\n",
    "        else:\n",
    "            string2 = string2 + k\n",
    "        \n",
    "    return string2"
   ]
  },
  {
   "cell_type": "code",
   "execution_count": null,
   "metadata": {
    "ExecuteTime": {
     "end_time": "2021-10-07T02:11:07.696545Z",
     "start_time": "2021-10-07T02:11:07.682550Z"
    }
   },
   "outputs": [],
   "source": [
    "derot13(rot13(roos_quote))"
   ]
  },
  {
   "cell_type": "code",
   "execution_count": null,
   "metadata": {
    "ExecuteTime": {
     "end_time": "2021-10-07T02:11:25.064642Z",
     "start_time": "2021-10-07T02:11:25.049653Z"
    }
   },
   "outputs": [],
   "source": [
    "rot13(rot13(roos_quote))"
   ]
  },
  {
   "cell_type": "code",
   "execution_count": null,
   "metadata": {},
   "outputs": [],
   "source": [
    "print(f'{200/5:,.2%}'.replace(\",\",\"_\").replace(\".\",\",\").replace(\"_\",\".\"))"
   ]
  },
  {
   "cell_type": "code",
   "execution_count": null,
   "metadata": {},
   "outputs": [],
   "source": [
    "print(f'R${20000.00:,.2f}'.replace(\",\",\"_\").replace(\".\",\",\").replace(\"_\",\".\")) # Para notação Brasileira"
   ]
  },
  {
   "cell_type": "code",
   "execution_count": null,
   "metadata": {},
   "outputs": [],
   "source": [
    "print(f'R${20000:d}'.replace(\",\",\"_\").replace(\".\",\",\").replace(\"_\",\".\")) # Para notação Brasileira"
   ]
  },
  {
   "cell_type": "code",
   "execution_count": null,
   "metadata": {},
   "outputs": [],
   "source": [
    "def rot_n(str_input,n=13):\n",
    "    \"\"\"\n",
    "    uses the Caesar cipher to encrypt a message. \n",
    "    The Caesar cipher works like a substitution cipher but \n",
    "    each character is replaced by the character n characters to ‘its right’ in the alphabet\n",
    "    \"\"\"\n",
    "    letterp13 = \"\".join([string.ascii_uppercase[k] for k in range(-(26-n),n)])\n",
    "    string2 = \"\"\n",
    "    \n",
    "    str_input = str_input.upper()\n",
    "    \n",
    "    for k in str_input:\n",
    "        if k in string.ascii_uppercase:\n",
    "            pos = letterp13.find(k)\n",
    "            string2 = string2 + string.ascii_uppercase[pos]\n",
    "        else:\n",
    "            string2 = string2 + k\n",
    "        \n",
    "    return string2"
   ]
  },
  {
   "cell_type": "code",
   "execution_count": null,
   "metadata": {},
   "outputs": [],
   "source": [
    "rot_n(rot_n(roos_quote,4),22) # 4 + 22 +1 = 27 Letras do alfabeto"
   ]
  },
  {
   "cell_type": "code",
   "execution_count": null,
   "metadata": {},
   "outputs": [],
   "source": [
    "def checkout():\n",
    "    total = 0\n",
    "    count = 0\n",
    "    moreItems = True\n",
    "    while moreItems:\n",
    "        price = float(input('Enter price of item (0 when done): '))\n",
    "        if price != 0:\n",
    "            count = count + 1\n",
    "            total = total + price\n",
    "            print(f'Subtotal: {total:.2f}$')\n",
    "        else:\n",
    "            moreItems = False\n",
    "    average = total / count\n",
    "    print(f'Total items:{count:.2f}')\n",
    "    print(f'Total ${total:.2f}')\n",
    "    print(f'Average price per item: ${average:.2f}')\n",
    "\n",
    "checkout()"
   ]
  },
  {
   "cell_type": "code",
   "execution_count": null,
   "metadata": {},
   "outputs": [],
   "source": [
    "def picket_fence(string_in, key = 2):\n",
    "    \"\"\"\n",
    "    Apply a decoder fence cipher (sometimes called zigzag cipher) is a transposition \n",
    "    cipher that jumbles up the order of the letters of a message\n",
    "    \"\"\"\n",
    "    lista_strings = [\"\" for k in range(key)]\n",
    "    cnt = 0\n",
    "    \n",
    "    for j,k in enumerate(string_in):\n",
    "        \n",
    "        lista_strings[cnt] = lista_strings[cnt] + k\n",
    "        \n",
    "        if (j//(key-1)) %2 == 0: # Cria uma função serrote 0121012... Usando teoria dos números\n",
    "            cnt = cnt + 1\n",
    "        else:\n",
    "            cnt = cnt - 1\n",
    "                   \n",
    "    return ''.join(lista_strings)"
   ]
  },
  {
   "cell_type": "code",
   "execution_count": null,
   "metadata": {},
   "outputs": [],
   "source": [
    "picket_fence('THISISASECRETMESSAGE',3)"
   ]
  },
  {
   "cell_type": "code",
   "execution_count": null,
   "metadata": {},
   "outputs": [],
   "source": [
    "def flatlst(lista):\n",
    "    listaplana = []\n",
    "    for k in lista: listaplana = listaplana + k\n",
    "    return listaplana\n",
    "\n",
    "def picket_fencelst(string_in, key = 2):\n",
    "    \"\"\"\n",
    "    Apply a decoder fence cipher (sometimes called zigzag cipher) is a transposition \n",
    "    cipher that jumbles up the order of the letters of a message.\n",
    "    Return a list values\n",
    "    \"\"\"    \n",
    "    \n",
    "    lista_strings = [[] for k in range(key)]\n",
    "    cnt = ([*range(key - 1)] + [*range(key - 1, 0, -1)]) * (len(string_in)//key)\n",
    "    \n",
    "    for j,k in enumerate(string_in):\n",
    "        lista_strings[cnt[j]] = lista_strings[cnt[j]] + [k]\n",
    "    \n",
    "    lista_strings = flatlst(lista_strings)\n",
    "    \n",
    "    return lista_strings\n",
    "    \n",
    "\n",
    "def picket_fence2(string_in, key = 2):\n",
    "    \"\"\"\n",
    "    Apply a decoder fence cipher (sometimes called zigzag cipher) is a transposition \n",
    "    cipher that jumbles up the order of the letters of a message\n",
    "    Return a string value\n",
    "    \"\"\"               \n",
    "    return  ''.join(str(v) for v in picket_fencelst(string_in, key))"
   ]
  },
  {
   "cell_type": "code",
   "execution_count": null,
   "metadata": {},
   "outputs": [],
   "source": [
    "picket_fence('THISISASECRETMESSAGE', key = 4)"
   ]
  },
  {
   "cell_type": "code",
   "execution_count": null,
   "metadata": {},
   "outputs": [],
   "source": [
    "picket_fence2('THISISASECRETMESSAGE', key = 4)"
   ]
  },
  {
   "cell_type": "code",
   "execution_count": null,
   "metadata": {},
   "outputs": [],
   "source": [
    "def decoder_picket_fence2(string_in, key = 4):\n",
    "    \"\"\"\n",
    "    Apply a decoder fence cipher (sometimes called zigzag cipher) is a transposition \n",
    "    cipher that jumbles up the order of the letters of a message\n",
    "    \"\"\"\n",
    "    lista_lst = [[] for k in range(key)]\n",
    "    cnt = ([*range(key - 1)] + [*range(key - 1, 0, -1)]) * (len(string_in)//key)\n",
    "    \n",
    "    for j,k in enumerate(string_in):\n",
    "        \n",
    "        lista_lst[cnt[j]] = lista_lst[cnt[j]] + [j]\n",
    "    \n",
    "    fltlst = [] \n",
    "    for k in lista_lst: fltlst = fltlst + k\n",
    "        \n",
    "    str0 = \"\"\n",
    "    for k in range(len(string_in)):\n",
    "        str0 = str0 + string_in[fltlst.index(k)] \n",
    "                   \n",
    "    return str0"
   ]
  },
  {
   "cell_type": "code",
   "execution_count": null,
   "metadata": {},
   "outputs": [],
   "source": [
    "decoder_picket_fence2('TATGHSSEMAEIIERESSCS', key = 4)"
   ]
  },
  {
   "cell_type": "code",
   "execution_count": null,
   "metadata": {},
   "outputs": [],
   "source": [
    "def decoder_picket_fence3(string_in, key = 4):\n",
    "    \"\"\"\n",
    "    Apply a decoder fence cipher (sometimes called zigzag cipher) is a transposition \n",
    "    cipher that jumbles up the order of the letters of a message\n",
    "    \"\"\"\n",
    "    posicoes = picket_fencelst(range(len(string_in)), key)\n",
    "                         \n",
    "    return ''.join(string_in[posicoes.index(k)] for k in range(len(string_in)))"
   ]
  },
  {
   "cell_type": "code",
   "execution_count": null,
   "metadata": {},
   "outputs": [],
   "source": [
    "decoder_picket_fence3('TATGHSSEMAEIIERESSCS', key = 4)"
   ]
  },
  {
   "cell_type": "code",
   "execution_count": null,
   "metadata": {},
   "outputs": [],
   "source": [
    "string_in = 'TATGHSSEMAEIIERESSCS'\n",
    "\n",
    "picket_fencelst(range(len(string_in)), 4)"
   ]
  },
  {
   "cell_type": "code",
   "execution_count": null,
   "metadata": {},
   "outputs": [],
   "source": [
    "def fence(lst, numrails):\n",
    "    fence = [[None] * len(lst) for n in range(numrails)]\n",
    "    rails = [*range(numrails - 1)] + [*range(numrails - 1, 0, -1)]\n",
    "    for n, x in enumerate(lst):\n",
    "        fence[rails[n % (2*numrails-2)]][n] = x\n",
    "\n",
    "    if 0: # debug\n",
    "        for rail in fence:\n",
    "            print (''.join('.' if c is None else str(c) for c in rail))\n",
    "\n",
    "    return [c for rail in fence for c in rail if c is not None]\n",
    "\n",
    "def encode(text, n):\n",
    "    return ''.join(fence(text, n))\n",
    "\n",
    "def decode(text, n):\n",
    "    rng = range(len(text))\n",
    "    pos = fence(rng, n)\n",
    "    return ''.join(text[pos.index(n)] for n in rng)\n",
    "\n",
    "z = encode('THISISASECRETMESSAGE', 3)    \n",
    "print (z) # ACTWTAKA.ANT.D\n",
    "y = decode(z, 3)\n",
    "print (y) # ATTACK.AT.DAWN"
   ]
  },
  {
   "cell_type": "code",
   "execution_count": null,
   "metadata": {},
   "outputs": [],
   "source": [
    "def inv_lista(lista):\n",
    "    listatemp = []\n",
    "    for k in lista:\n",
    "        listatemp = [k] + listatemp\n",
    "    return listatemp\n",
    "\n",
    "inv_lista([2, 1, 5, 3])"
   ]
  },
  {
   "cell_type": "code",
   "execution_count": null,
   "metadata": {},
   "outputs": [],
   "source": [
    "listdf = []\n",
    "\n",
    "for _ in range(12):\n",
    "    list00 = []\n",
    "    list01 = []\n",
    "    for k in range(10):\n",
    "        list00.append(rnd.randint(1,9))\n",
    "        list01.append(list00)\n",
    "\n",
    "    df = pd.DataFrame(list01)\n",
    "    listdf.append(df)"
   ]
  },
  {
   "cell_type": "code",
   "execution_count": null,
   "metadata": {},
   "outputs": [],
   "source": [
    "df"
   ]
  },
  {
   "cell_type": "code",
   "execution_count": null,
   "metadata": {},
   "outputs": [],
   "source": [
    "listdf[0]"
   ]
  },
  {
   "cell_type": "code",
   "execution_count": null,
   "metadata": {},
   "outputs": [],
   "source": [
    "df1 = pd.DataFrame()\n",
    "\n",
    "for j in listdf:\n",
    "    df1 = pd.concat([df1, j])\n",
    "    \n",
    "df1"
   ]
  },
  {
   "cell_type": "code",
   "execution_count": null,
   "metadata": {},
   "outputs": [],
   "source": [
    "pd.concat(listdf)"
   ]
  },
  {
   "cell_type": "code",
   "execution_count": null,
   "metadata": {},
   "outputs": [],
   "source": [
    "alist = [4, 5, 6]\n",
    "id(alist)"
   ]
  },
  {
   "cell_type": "code",
   "execution_count": null,
   "metadata": {},
   "outputs": [],
   "source": [
    "b = alist\n",
    "c = alist.copy()\n",
    "b[0] = 33\n",
    "id(b), id(c)"
   ]
  },
  {
   "cell_type": "code",
   "execution_count": null,
   "metadata": {},
   "outputs": [],
   "source": [
    "# podemos remover elementos de uma lista atribuindo a lista vazia a eles.\n",
    "uma_lista = ['a', 'b', 'c', 'd', 'e', 'f']\n",
    "uma_lista[1:3] = []\n",
    "print(uma_lista)"
   ]
  },
  {
   "cell_type": "code",
   "execution_count": null,
   "metadata": {},
   "outputs": [],
   "source": [
    "# Podemos inserir elementos em uma lista espremendo-os em uma fatia vazia na posição desejada.\n",
    "uma_lista = ['a', 'd', 'f']\n",
    "uma_lista[1:1] = ['b', 'c']\n",
    "print(uma_lista)\n",
    "uma_lista[4:4] = ['e']\n",
    "print(uma_lista)"
   ]
  },
  {
   "cell_type": "code",
   "execution_count": null,
   "metadata": {},
   "outputs": [],
   "source": [
    "# Objects and References for strings\n",
    "\n",
    "a = \"banana\"\n",
    "b = \"banana\"\n",
    "\n",
    "print(a is b)\n",
    "print(id(a))\n",
    "print(id(b))"
   ]
  },
  {
   "cell_type": "code",
   "execution_count": null,
   "metadata": {},
   "outputs": [],
   "source": [
    "# Objects and References for lists\n",
    "\n",
    "a = [81, 82, 83]\n",
    "b = [81, 82, 83]\n",
    "\n",
    "print(a is b)\n",
    "\n",
    "print(a == b)"
   ]
  },
  {
   "cell_type": "code",
   "execution_count": null,
   "metadata": {},
   "outputs": [],
   "source": [
    "# \"Com a concatenação um nova lista é criada.\"\n",
    "uma_lista = [4, 2, 8, 6, 5]\n",
    "print(id(uma_lista))\n",
    "uma_lista = uma_lista + [999]\n",
    "print(uma_lista)\n",
    "print(id(uma_lista))"
   ]
  },
  {
   "cell_type": "code",
   "execution_count": null,
   "metadata": {},
   "outputs": [],
   "source": [
    "\"\"\"com append, a lista original é simplesmente modificada. \n",
    "É possível ver isto observando o id de lista_orig. \n",
    "O id é o mesmo antes e depois de executarmos append.\"\"\"\n",
    "\n",
    "_lista = [4, 2, 8, 6, 5]\n",
    "print(id(_lista))\n",
    "_lista.append(999)\n",
    "print(id(_lista))"
   ]
  },
  {
   "cell_type": "code",
   "execution_count": null,
   "metadata": {},
   "outputs": [],
   "source": [
    "\"\"\"For each word in words, add ‘d’ to the end of the word if the word ends in “e” to make\n",
    "it past tense. Otherwise, add ‘ed’ to make it past tense. Save these past tense words to a list called past_tense.\"\"\"\n",
    "words = [\"adopt\", \"bake\", \"beam\", \"confide\", \"grill\", \"plant\", \"time\", \"wave\", \"wish\"]\n",
    "\n",
    "past_tense = []\n",
    "\n",
    "for k in words:\n",
    "    if \"e\" == k[-1]:\n",
    "        past_tense.append(k+\"d\")\n",
    "    else:\n",
    "        past_tense.append(k+\"ed\")\n",
    "        \n",
    "past_tense"
   ]
  },
  {
   "cell_type": "code",
   "execution_count": null,
   "metadata": {},
   "outputs": [],
   "source": [
    "def doubleStuff(aList):\n",
    "    \"\"\" Overwrite each element in aList with double its value. \"\"\"\n",
    "    for position in range(len(aList)):\n",
    "        aList[position] = 2 * aList[position]\n",
    "    listt = aList.copy()\n",
    "    return listt\n",
    "\n",
    "things = [2, 5, 9]\n",
    "print(things)\n",
    "doubleStuff(things)\n",
    "print(things)\n",
    "print(doubleStuff(things))"
   ]
  },
  {
   "cell_type": "code",
   "execution_count": null,
   "metadata": {},
   "outputs": [],
   "source": [
    "#dir() # Para retornar as variáveis usadas"
   ]
  },
  {
   "cell_type": "code",
   "execution_count": null,
   "metadata": {},
   "outputs": [],
   "source": [
    "a = 57\n",
    "\n",
    "def functest(x):\n",
    "    x = x*2\n",
    "    a = 0 # Este \"a\" é uma variável local\n",
    "    return x\n",
    "\n",
    "print(a)\n",
    "functest(a)\n",
    "print(a)\n",
    "print(functest(a))"
   ]
  },
  {
   "cell_type": "code",
   "execution_count": null,
   "metadata": {},
   "outputs": [],
   "source": [
    "a = [57]\n",
    "\n",
    "print(a)\n",
    "functest(a) # Não modifica a lista original se mudarmos um elemento\n",
    "print(a)\n",
    "print(functest(a))"
   ]
  },
  {
   "cell_type": "code",
   "execution_count": null,
   "metadata": {},
   "outputs": [],
   "source": [
    "a = [57]\n",
    "\n",
    "def functest2(x):\n",
    "    x[0] = x*2 # Modifica a lista original se mudarmos um elemento\n",
    "    return x\n",
    "\n",
    "print(a)\n",
    "functest2(a)\n",
    "print(a)\n",
    "print(functest2(a))"
   ]
  },
  {
   "cell_type": "code",
   "execution_count": null,
   "metadata": {},
   "outputs": [],
   "source": [
    "minha_lista = [76, 92.3, \"oi\", True, 4, 76]\n",
    "print(minha_lista)"
   ]
  },
  {
   "cell_type": "code",
   "execution_count": null,
   "metadata": {
    "ExecuteTime": {
     "end_time": "2021-10-24T22:43:11.181645Z",
     "start_time": "2021-10-24T22:43:11.154661Z"
    }
   },
   "outputs": [],
   "source": [
    "lista = [rnd.randint(0,1000) for k in range(100)]\n",
    "print(lista)\n",
    "\n",
    "def media(lista):\n",
    "    soma = 0\n",
    "    for k in lista:\n",
    "        soma = soma + k\n",
    "    return soma/len(lista)\n",
    "        \n",
    "print(media(lista))\n",
    "print(max(lista))\n",
    "\n",
    "def maximo(lista):\n",
    "    mx = lista[0]\n",
    "    for k in lista:\n",
    "        if k>mx:\n",
    "            mx = k\n",
    "    return mx\n",
    "\n",
    "def somaquad(lista):\n",
    "    soma = 0\n",
    "    for k in lista:\n",
    "        soma = soma + k**2\n",
    "    return soma\n",
    "\n",
    "def nimpares(lista):\n",
    "    imp = 0\n",
    "    for k in lista:\n",
    "        if k%2==1:\n",
    "            imp+=1\n",
    "    return imp\n",
    "\n",
    "def npares(lista):\n",
    "    return len(lista) - nimpares(lista)\n",
    "\n",
    "def nnegat(lista):\n",
    "    neg = 0\n",
    "    for k in lista:\n",
    "        if k < 0:\n",
    "            neg+=1\n",
    "    return neg\n",
    "\n",
    "print(nimpares(lista))\n",
    "print(npares(lista))\n",
    "nnegat(lista)"
   ]
  },
  {
   "cell_type": "code",
   "execution_count": null,
   "metadata": {},
   "outputs": [],
   "source": [
    "\"\"\"Escreva uma função que recebe uma lista de palavras (strings) e retorna o número de palavras na lista que tem comprimento 5.\"\"\"\n",
    "\n",
    "def strigual5(string_in):\n",
    "    cnt = 0\n",
    "    for k in string_in:\n",
    "        if len(k)==5:\n",
    "            cnt+=1\n",
    "    return cnt"
   ]
  },
  {
   "cell_type": "code",
   "execution_count": null,
   "metadata": {},
   "outputs": [],
   "source": [
    "def countWords(lst):\n",
    "    cnt = 0\n",
    "    for k in lst:\n",
    "        if len(k) == 5:\n",
    "            cnt+=1\n",
    "    return cnt\n",
    "lista = ['Rafael','Jesus','Silva','Monteiro']      \n",
    "\n",
    "print(countWords(lista))\n",
    "\n",
    "lista = [7,11,13,4,17,21,8,3,2]\n",
    "\n",
    "def summeven(lst):\n",
    "    \"\"\"\n",
    "    Recebe uma lista de números inteiros e retorna a soma dos números na lista exclusive o primeiro número par\n",
    "    \"\"\"\n",
    "    lst2 = lst.copy()\n",
    "    ind = s = 0\n",
    "    for k in lst:\n",
    "        if k%2==0 and ind==0:\n",
    "            ind = 1\n",
    "        else:\n",
    "            s+=k\n",
    "    return s\n",
    "\n",
    "print(summeven(lista))\n",
    "print(sum(lista))"
   ]
  },
  {
   "cell_type": "code",
   "execution_count": null,
   "metadata": {
    "ExecuteTime": {
     "end_time": "2021-10-24T22:43:43.932515Z",
     "start_time": "2021-10-24T22:43:43.912512Z"
    }
   },
   "outputs": [],
   "source": [
    "def sum2(lst):\n",
    "    sum = 0\n",
    "    index = 0\n",
    "    while index < len(lst) and lst[index] % 2 != 0:\n",
    "        sum = sum + lst[index]\n",
    "        index = index + 1\n",
    "    return sum\n",
    "\n",
    "lst = []\n",
    "for i in range(100):\n",
    "    lst.append(rnd.randint(0,1000))\n",
    "\n",
    "print(lst)    \n",
    "print(sum2(lst))"
   ]
  },
  {
   "cell_type": "code",
   "execution_count": null,
   "metadata": {},
   "outputs": [],
   "source": [
    "print(summeven(lst))\n",
    "print(sum(lst))\n",
    "\n",
    "print(sum2(lst))"
   ]
  },
  {
   "cell_type": "code",
   "execution_count": null,
   "metadata": {},
   "outputs": [],
   "source": [
    "def looksam(lista_in):\n",
    "    \"\"\"\n",
    "    Count how many words occur in a list up to and including the first occurrence of the word “sam”.\n",
    "    \"\"\"\n",
    "    cnt = 0\n",
    "    lista_in2 = lista_in.split()\n",
    "    while \"sam\" not in lista_in2[cnt] and cnt<=len(lista_in2):\n",
    "        cnt+=1\n",
    "    return cnt+1"
   ]
  },
  {
   "cell_type": "code",
   "execution_count": null,
   "metadata": {},
   "outputs": [],
   "source": [
    "str2 = \"Fomos a guerrra apoiados pelo 'tio sam', mas este não era nosso ideal\"\n",
    "\n",
    "looksam(str2)"
   ]
  },
  {
   "cell_type": "code",
   "execution_count": null,
   "metadata": {},
   "outputs": [],
   "source": [
    "def replace(s, old, new):\n",
    "    ls = len(s)\n",
    "    slt = list(s)\n",
    "    newlst = list(new)\n",
    "    lold = len(old)\n",
    "    for k in range(ls-lold):\n",
    "        if old == s[k:k+lold]:\n",
    "            slt[k:k+lold] = newlst\n",
    "    \n",
    "    return ''.join(slt)\n",
    "    \n",
    "\n",
    "print(replace('Mississippi', 'i', 'I'))"
   ]
  },
  {
   "cell_type": "code",
   "execution_count": null,
   "metadata": {},
   "outputs": [],
   "source": [
    "s = 'I love spom!  Spom is my favorite food.  Spom, spom, spom, yum!'\n",
    "print(replace(s, 'om', 'am'))"
   ]
  },
  {
   "cell_type": "markdown",
   "metadata": {},
   "source": [
    "# Atenção na utilização de listas como argumentos de funções"
   ]
  },
  {
   "cell_type": "code",
   "execution_count": null,
   "metadata": {},
   "outputs": [],
   "source": [
    "def testef(x):\n",
    "    for j,k in enumerate(x):\n",
    "        if k % 2 == 1:\n",
    "            x[j] = 2*k\n",
    "            \n",
    "    return x.copy()\n",
    "\n",
    "def testef2():\n",
    "    x = lst.copy()\n",
    "    for j,k in enumerate(x):\n",
    "        if k % 2 == 0:\n",
    "            x[j] = 2*k+1\n",
    "            \n",
    "    return x"
   ]
  },
  {
   "cell_type": "code",
   "execution_count": null,
   "metadata": {},
   "outputs": [],
   "source": [
    "lst = [3,4,6,7,12,13,21]\n",
    "\n",
    "print(lst)\n",
    "\n",
    "lst2 = testef(lst)\n",
    "print(lst2)\n",
    "print(lst)\n",
    "\n",
    "lst3 = testef2()\n",
    "print(lst3)\n",
    "print(lst)"
   ]
  },
  {
   "cell_type": "markdown",
   "metadata": {},
   "source": [
    "## Exercício 10.1"
   ]
  },
  {
   "cell_type": "code",
   "execution_count": null,
   "metadata": {},
   "outputs": [],
   "source": [
    "#-------------------------------------------------\n",
    "def pertence(item,lista):\n",
    "    '''(objeto, list) -> bool\n",
    "\n",
    "    Recebe uma lista de itens e um item e\n",
    "    retorna True se o item eh um elemento da lista e\n",
    "    False em caso contrario.\n",
    "    '''\n",
    "    pert = False\n",
    "    k = 0\n",
    "    while k <= len(lista) and pert == False:\n",
    "        if item == lista[k]:\n",
    "            pert = True\n",
    "        k+=1\n",
    "    return pert\n",
    "\n",
    "\n",
    "#---------------------------------------------------\n",
    "# testes\n",
    "lista  = [1, \"oi\", 3.14, 7, True]"
   ]
  },
  {
   "cell_type": "code",
   "execution_count": null,
   "metadata": {},
   "outputs": [],
   "source": [
    "pertence(3.14,lista)"
   ]
  },
  {
   "cell_type": "code",
   "execution_count": null,
   "metadata": {},
   "outputs": [],
   "source": [
    "n = int(input('Número: '))\n",
    "inv = 0\n",
    "while n > 0:\n",
    "    inv *= 10\n",
    "    print(inv,n)\n",
    "    inv += n % 10\n",
    "    print(inv,n)\n",
    "    n //= 10\n",
    "print(inv)"
   ]
  },
  {
   "cell_type": "markdown",
   "metadata": {},
   "source": [
    "Problema de Josephus.  Imagine que temos n pessoas dispostas em círculo. Suponha que as pessoas estão numeradas 1 a n no sentido horário. Começando com a pessoa de número 1, percorra o círculo no sentido horário e elimine cada m-ésima pessoa enquanto o círculo tiver duas ou mais pessoas. Qual o número do sobrevivente? Teste para n = 50 e m = 3, reposta 11. "
   ]
  },
  {
   "cell_type": "code",
   "execution_count": null,
   "metadata": {},
   "outputs": [],
   "source": [
    "def josephus(n,m):\n",
    "    ln = n\n",
    "    nlist = [*range(n)]\n",
    "    pos = 0\n",
    "    while ln > 2:\n",
    "        ln = len(nlist)\n",
    "        del nlist[(pos-1 + m)%ln]\n",
    "        pos = (pos-1 + m) % ln\n",
    "        \n",
    "    return nlist[0]+1  "
   ]
  },
  {
   "cell_type": "code",
   "execution_count": null,
   "metadata": {},
   "outputs": [],
   "source": [
    "josephus(50,3),josephus(41,3)"
   ]
  },
  {
   "cell_type": "code",
   "execution_count": null,
   "metadata": {},
   "outputs": [],
   "source": [
    "def perm(x,y):\n",
    "    xl = []\n",
    "    yl = []\n",
    "    for k in x:\n",
    "        for j in y:\n",
    "            xl.append(k)\n",
    "            yl.append(j)\n",
    "    lx = len(x)        \n",
    "    xa = np.array(xl).reshape(lx,lx)\n",
    "    ya = np.array(yl).reshape(lx,lx)\n",
    "    return xa,ya,xl,yl"
   ]
  },
  {
   "cell_type": "code",
   "execution_count": null,
   "metadata": {},
   "outputs": [],
   "source": [
    "from mpl_toolkits import mplot3d\n",
    "%matplotlib inline\n",
    "import matplotlib.pyplot as plt\n",
    "\n",
    "x = np.arange(3, 26)\n",
    "y = np.arange(3, 26)\n",
    "\n",
    "X, Y, XL, YL = perm(x,y)\n",
    "\n",
    "\n",
    "Z = np.array([josephus(k,j) for k,j in zip(XL,YL)]).reshape(X.shape)\n",
    "\n",
    "fig = plt.figure(figsize=(12,50))\n",
    "\n",
    "ax = plt.axes(projection='3d')\n",
    "ax.plot_surface(X, Y, Z, rstride=1, cstride=1,\n",
    "                cmap='viridis', edgecolor='none') # plot_surface\n",
    "\n",
    "\n",
    "ax.set_title('Valores da ultimas posições do problema de Josephus');\n",
    "ax.view_init(30, -80)"
   ]
  },
  {
   "cell_type": "code",
   "execution_count": null,
   "metadata": {},
   "outputs": [],
   "source": [
    "fig = plt.figure(figsize=(12,50))\n",
    "ax = plt.axes(projection='3d')\n",
    "ax.contour3D(X, Y, Z, 50, cmap='binary')\n",
    "ax.set_xlabel('x')\n",
    "ax.set_ylabel('y')\n",
    "ax.set_zlabel('z');"
   ]
  },
  {
   "cell_type": "markdown",
   "metadata": {},
   "source": [
    "## Crivo de Eratóstenes"
   ]
  },
  {
   "cell_type": "code",
   "execution_count": null,
   "metadata": {},
   "outputs": [],
   "source": [
    "def eratostenes(n):\n",
    "    \"\"\"\n",
    "    encontrar números primos até um certo valor limite.\n",
    "    \"\"\"\n",
    "    lst0 = [2]+[*range(3,n+1,2)] # Vou começar só os impares, pois todo primo é impar a exceção de 2\n",
    "    lst1 = lst0.copy()\n",
    "    sqt = int(n**0.5)+1\n",
    "    for k in lst0[1:sqt]:\n",
    "        for j in lst0[1+k:]:\n",
    "            if j % k == 0 and (j in lst1):\n",
    "                lst1.remove(j)\n",
    "    \n",
    "    return lst1"
   ]
  },
  {
   "cell_type": "code",
   "execution_count": null,
   "metadata": {},
   "outputs": [],
   "source": [
    "eratostenes(58)"
   ]
  },
  {
   "cell_type": "code",
   "execution_count": null,
   "metadata": {},
   "outputs": [],
   "source": [
    "def fibo(n):\n",
    "    a = [1,2]\n",
    "    if n ==1:\n",
    "        return 1\n",
    "    else:\n",
    "        while len(a)<n:\n",
    "            a.append(a[-1]+a[-2])\n",
    "\n",
    "        return a[-1]"
   ]
  },
  {
   "cell_type": "code",
   "execution_count": null,
   "metadata": {},
   "outputs": [],
   "source": [
    "soma = 0\n",
    "fib = 0\n",
    "k = 0\n",
    "while fib < 4_000_000:\n",
    "    soma = soma + fib\n",
    "    k+=1\n",
    "    fib = fibo(k)\n",
    "       \n",
    "soma,k-1"
   ]
  },
  {
   "cell_type": "code",
   "execution_count": null,
   "metadata": {},
   "outputs": [],
   "source": [
    "fibo(32)"
   ]
  },
  {
   "cell_type": "code",
   "execution_count": null,
   "metadata": {},
   "outputs": [],
   "source": [
    "soma = 0\n",
    "for k in range(1,33):\n",
    "    fib = fibo(k)\n",
    "    soma = soma + fib\n",
    "    print(k,fib,soma)"
   ]
  },
  {
   "cell_type": "code",
   "execution_count": null,
   "metadata": {},
   "outputs": [],
   "source": [
    "def fin(n):\n",
    "    a, b = 1, 2\n",
    "\n",
    "    for i in range(n):\n",
    "        yield a\n",
    "        a, b = b, a + b"
   ]
  },
  {
   "cell_type": "code",
   "execution_count": null,
   "metadata": {},
   "outputs": [],
   "source": [
    "n = 5\n",
    "for k in fin(n):\n",
    "    print(k)"
   ]
  },
  {
   "cell_type": "code",
   "execution_count": null,
   "metadata": {},
   "outputs": [],
   "source": [
    "def fib3(n):\n",
    "    if n < 1:\n",
    "        return None\n",
    "    if n < 3:\n",
    "        return 1\n",
    "\n",
    "    elem_1 = elem_2 = 1\n",
    "    the_sum = 0\n",
    "    for i in range(3, n + 1):\n",
    "        the_sum = elem_1 + elem_2\n",
    "        elem_1, elem_2 = elem_2, the_sum\n",
    "    return the_sum\n",
    "\n",
    "\n",
    "for n in range(1, 10):  # testing\n",
    "    print(n, \"->\", fib3(n))"
   ]
  },
  {
   "cell_type": "code",
   "execution_count": null,
   "metadata": {},
   "outputs": [],
   "source": [
    "def pi_n(n):\n",
    "    sump = 4\n",
    "    for k in range(1,n):\n",
    "        sump = sump + 4*((-1)**(k%2))/(2*k+1)\n",
    "    return sump"
   ]
  },
  {
   "cell_type": "code",
   "execution_count": null,
   "metadata": {},
   "outputs": [],
   "source": [
    "pi_n(100000)"
   ]
  },
  {
   "cell_type": "code",
   "execution_count": null,
   "metadata": {},
   "outputs": [],
   "source": [
    "[k for k in range(1,2)]"
   ]
  },
  {
   "cell_type": "code",
   "execution_count": null,
   "metadata": {},
   "outputs": [],
   "source": [
    "lista1 = [\"carro\", \"barco\"]\n",
    "lista2 = [lista1] * 3\n",
    "lista3 = lista1 * 3\n",
    "lista1[1] = \"metrô\""
   ]
  },
  {
   "cell_type": "code",
   "execution_count": null,
   "metadata": {},
   "outputs": [],
   "source": [
    "lista1"
   ]
  },
  {
   "cell_type": "code",
   "execution_count": null,
   "metadata": {},
   "outputs": [],
   "source": [
    "lista2"
   ]
  },
  {
   "cell_type": "code",
   "execution_count": null,
   "metadata": {},
   "outputs": [],
   "source": [
    "lista3"
   ]
  },
  {
   "cell_type": "markdown",
   "metadata": {},
   "source": [
    "## Coh_pia"
   ]
  },
  {
   "cell_type": "code",
   "execution_count": null,
   "metadata": {
    "ExecuteTime": {
     "end_time": "2021-10-09T21:19:24.465588Z",
     "start_time": "2021-10-09T21:19:24.437606Z"
    }
   },
   "outputs": [],
   "source": [
    "import re\n",
    "\n",
    "def le_assinatura():\n",
    "    '''A funcao le os valores dos tracos linguisticos do modelo e devolve uma assinatura a ser comparada com os textos fornecidos'''\n",
    "    print(\"Bem-vindo ao detector automático de COH-PIAH.\")\n",
    "    print(\"Informe a assinatura típica de um aluno infectado:\\n\")\n",
    "\n",
    "    wal = float(input(\"Entre o tamanho médio de palavra: \"))\n",
    "    ttr = float(input(\"Entre a relação Type-Token: \"))\n",
    "    hlr = float(input(\"Entre a Razão Hapax Legomana: \"))\n",
    "    sal = float(input(\"Entre o tamanho médio de sentença: \"))\n",
    "    sac = float(input(\"Entre a complexidade média da sentença: \"))\n",
    "    pal = float(input(\"Entre o tamanho medio de frase: \"))\n",
    "\n",
    "    return [wal, ttr, hlr, sal, sac, pal]\n",
    "\n",
    "def le_textos():\n",
    "    '''A funcao le todos os textos a serem comparados e devolve uma lista contendo cada texto como um elemento'''\n",
    "    i = 1\n",
    "    textos = []\n",
    "    texto = input(\"Digite o texto \" + str(i) +\" (aperte enter para sair):\")\n",
    "    while texto:\n",
    "        textos.append(texto)\n",
    "        i += 1\n",
    "        texto = input(\"Digite o texto \" + str(i) +\" (aperte enter para sair):\")\n",
    "\n",
    "    return textos\n",
    "\n",
    "def separa_sentencas(texto):\n",
    "    '''A funcao recebe um texto e devolve uma lista das sentencas dentro do texto'''\n",
    "    sentencas = re.split(r'[.!?]+', texto)\n",
    "    if sentencas[-1] == '':\n",
    "        del sentencas[-1]\n",
    "    return sentencas\n",
    "\n",
    "def separa_frases(sentenca):\n",
    "    '''A funcao recebe uma sentenca e devolve uma lista das frases dentro da sentenca'''\n",
    "    return re.split(r'[,:;]+', sentenca)\n",
    "\n",
    "def separa_palavras(frase):\n",
    "    '''A funcao recebe uma frase e devolve uma lista das palavras dentro da frase'''\n",
    "    return frase.split()\n",
    "\n",
    "def n_palavras_unicas(lista_palavras):\n",
    "    '''Essa funcao recebe uma lista de palavras e devolve o numero de palavras que aparecem uma unica vez'''\n",
    "    freq = dict()\n",
    "    unicas = 0\n",
    "    for palavra in lista_palavras:\n",
    "        p = palavra.lower()\n",
    "        if p in freq:\n",
    "            if freq[p] == 1:\n",
    "                unicas -= 1\n",
    "            freq[p] += 1\n",
    "        else:\n",
    "            freq[p] = 1\n",
    "            unicas += 1\n",
    "\n",
    "    return unicas\n",
    "\n",
    "def n_palavras_diferentes(lista_palavras):\n",
    "    '''Essa funcao recebe uma lista de palavras e devolve o numero de palavras diferentes utilizadas'''\n",
    "    freq = dict()\n",
    "    for palavra in lista_palavras:\n",
    "        p = palavra.lower()\n",
    "        if p in freq:\n",
    "            freq[p] += 1\n",
    "        else:\n",
    "            freq[p] = 1\n",
    "\n",
    "    return len(freq)\n",
    "\n",
    "def compara_assinatura(as_a, as_b):\n",
    "    '''Essa funcao recebe duas assinaturas de texto e deve devolver o grau de similaridade nas assinaturas.'''\n",
    "    grau_similaridade = 0\n",
    "    \n",
    "    for k,j in zip(as_a,as_b):\n",
    "        grau_similaridade = grau_similaridade + abs(k-j)/6\n",
    "                             \n",
    "    return grau_similaridade\n",
    "\n",
    "def calcula_assinatura(texto):\n",
    "    '''Essa funcao recebe um texto e deve devolver a assinatura do texto.'''\n",
    "    sent = separa_sentencas(texto) # Sent é uma lista de sentenças\n",
    "    \n",
    "    frs_list = []\n",
    "    for k in sent:\n",
    "        frs_list.append(separa_frases(k))\n",
    "    \n",
    "    palav_list = []\n",
    "    for k in frs_list:\n",
    "        for j in k:\n",
    "            palav_list.append(separa_palavras(j))\n",
    "            \n",
    "    def flatlist(lista):\n",
    "        lst = []\n",
    "        for k in lista:\n",
    "            lst = lst + k\n",
    "        return lst\n",
    "    \n",
    "    palav_list_plana = flatlist(palav_list.copy())\n",
    "    frs_list_plana = flatlist(frs_list.copy())\n",
    "    \n",
    "    \n",
    "    ##### Cálculo do tamanho médio das palavras em todo o texto #####\n",
    "    soma0 = 0\n",
    "    for k in palav_list_plana:\n",
    "        soma0 = soma0 + len(k)\n",
    "    tam_medio = soma0/len(palav_list_plana) # Tamanho médio das palavras\n",
    "    ##################################################################\n",
    "    \n",
    "    ###### Relação Type-Token ########################################\n",
    "    rel_type_token = n_palavras_diferentes(palav_list_plana)/len(palav_list_plana)\n",
    "    ##################################################################\n",
    "    \n",
    "    ###### Razão Hapax Legomana #####################################\n",
    "    rzao_hapax = n_palavras_unicas(palav_list_plana)/len(palav_list_plana)\n",
    "    ##################################################################\n",
    "    \n",
    "    ###### Tamanho Médio da sentença #################################\n",
    "    soma1 = 0\n",
    "    for k in sent:\n",
    "        soma1 = soma1 + len(k)\n",
    "        \n",
    "    tam_med_sentenca = soma1/len(sent)\n",
    "    ##################################################################\n",
    "    \n",
    "    ###### Complexidade da Sentença ##################################\n",
    "    comp_sentencias = len(frs_list_plana)/len(sent)\n",
    "    ##################################################################\n",
    "    \n",
    "    ###### Tamanho médio de frase ####################################\n",
    "    soma2 = 0\n",
    "    for k in frs_list_plana:\n",
    "        soma2 = soma2 + len(k)\n",
    "    tam_med_frase = soma2/len(frs_list_plana)\n",
    "    ##################################################################    \n",
    "    \n",
    "    \n",
    "    return [tam_medio,rel_type_token,rzao_hapax,tam_med_sentenca,comp_sentencias,tam_med_frase]\n",
    "    \n",
    "\n",
    "def avalia_textos(textos, ass_cp):\n",
    "    '''Essa funcao recebe uma lista de textos e uma assinatura ass_cp e deve devolver o numero (1 a n) do texto com maior probabilidade de ter sido infectado por COH-PIAH.'''\n",
    "    \n",
    "    sim_lista = []\n",
    "    for k in textos:\n",
    "        ass_k = calcula_assinatura(k)\n",
    "        sim_k_mod = compara_assinatura(ass_cp, ass_k) \n",
    "        sim_lista.append(sim_k_mod)\n",
    "    \n",
    "    \n",
    "    return sim_lista.index(min(sim_lista))+1\n",
    "\n",
    "\n",
    "def main():\n",
    "    \n",
    "    ass_mod = le_assinatura() \n",
    "    \n",
    "    lsttext = []\n",
    "    txt_in = input(\"\\nDigite o texto 1 (aperte enter para sair): \")\n",
    "    \n",
    "    cnt = 2\n",
    "    \n",
    "    while txt_in:\n",
    "        lsttext.append(txt_in)\n",
    "        txt_in = input(f\"\\nDigite o texto {cnt} (aperte enter para sair): \")\n",
    "        cnt+=1\n",
    "        \n",
    "    print(f\"\\nO autor do texto {avalia_textos(lsttext, ass_mod)} está infectado com COH-PIAH\")\n",
    "\n",
    "    \n",
    "# Fernando Pessoa\n",
    "txt1 = \"Num fabulário ainda por encontrar será um dia lida esta fábula: A uma bordadora dum país longínquo foi encomendado pela sua rainha que bordasse, sobre seda ou cetim, entre folhas, uma rosa branca. A bordadora, como era muito jovem, foi procurar por toda a parte aquela rosa branca perfeitíssima, em cuja semelhança bordasse a sua. Mas sucedia que umas rosas eram menos belas do que lhe convinha, e que outras não eram brancas como deviam ser. Gastou dias sobre dias, chorosas horas, buscando a rosa que imitasse com seda, e, como nos países longínquos nunca deixa de haver pena de morte, ela sabia bem que, pelas leis dos contos como este, não podiam deixar de a matar se ela não bordasse a rosa branca. Por fim, não tendo melhor remédio, bordou de memória a rosa que lhe haviam exigido. Depois de a bordar foi compará-la com as rosas brancas que existem realmente nas roseiras. Sucedeu que todas as rosas brancas se pareciam exactamente com a rosa que ela bordara, que cada uma delas era exactamente aquela. Ela levou o trabalho ao palácio e é de supor que casasse com o príncipe. No fabulário, onde vem, esta fábula não traz moralidade. Mesmo porque, na idade de ouro, as fábulas não tinham moralidade nenhuma.\"\n",
    "\n",
    "\n",
    "# Machado de Assis\n",
    "txt2 = \"Voltei-me para ela; Capitu tinha os olhos no chão. Ergueu-os logo, devagar, e ficamos a olhar um para o outro... Confissão de crianças, tu valias bem duas ou três páginas, mas quero ser poupado. Em verdade, não falamos nada; o muro falou por nós. Não nos movemos, as mãos é que se estenderam pouco a pouco, todas quatro, pegando-se, apertando-se, fundindo-se. Não marquei a hora exata daquele gesto. Devia tê-la marcado; sinto a falta de uma nota escrita naquela mesma noite, e que eu poria aqui com os erros de ortografia que trouxesse, mas não traria nenhum, tal era a diferença entre o estudante e o adolescente. Conhecia as regras do escrever, sem suspeitar as do amar; tinha orgias de latim e era virgem de mulheres.\"\n",
    "\n",
    "# Machado de Assis\n",
    "txt3 = \"Senão quando, estando eu ocupado em preparar e apurar a minha invenção, recebi em cheio um golpe de ar; adoeci logo, e não me tratei. Tinha o emplasto no cérebro; trazia comigo a idéia fixa dos doidos e dos fortes. Via-me, ao longe, ascender do chão das turbas, e remontar ao Céu, como uma águia imortal, e não é diante de tão excelso espetáculo que um homem pode sentir a dor que o punge. No outro dia estava pior; tratei-me enfim, mas incompletamente, sem método, nem cuidado, nem persistência; tal foi a origem do mal que me trouxe à eternidade. Sabem já que morri numa sexta-feira, dia aziago, e creio haver provado que foi a minha invenção que me matou. Há demonstrações menos lúcidas e não menos triunfantes. Não era impossível, entretanto, que eu chegasse a galgar o cimo de um século, e a figurar nas folhas públicas, entre macróbios. Tinha saúde e robustez. Suponha-se que, em vez de estar lançando os alicerces de uma invenção farmacêutica, tratava de coligir os elementos de uma instituição política, ou de uma reforma religiosa. Vinha a corrente de ar, que vence em eficácia o cálculo humano, e lá se ia tudo. Assim corre a sorte dos homens.\"\n",
    "\n",
    "# Mário de Andrade\n",
    "txt4 = \"Então resolveu ir brincar com a Máquina pra ser também imperador dos filhos da mandioca. Mas as três cunhas deram muitas risadas e falaram que isso de deuses era gorda mentira antiga, que não tinha deus não e que com a máquina ninguém não brinca porque ela mata. A máquina não era deus não, nem possuía os distintivos femininos de que o herói gostava tanto. Era feita pelos homens. Se mexia com eletricidade com fogo com água com vento com fumo, os homens aproveitando as forças da natureza. Porém jacaré acreditou? nem o herói! Se levantou na cama e com um gesto, esse sim! bem guaçu de desdém, tó! batendo o antebraço esquerdo dentro do outro dobrado, mexeu com energia a munheca direita pras três cunhas e partiu. Nesse instante, falam, ele inventou o gesto famanado de ofensa: a pacova.\"\n",
    "\n",
    "txt5 = \"O gato caçava o rato\""
   ]
  },
  {
   "cell_type": "code",
   "execution_count": null,
   "metadata": {
    "ExecuteTime": {
     "end_time": "2021-10-09T21:20:47.289525Z",
     "start_time": "2021-10-09T21:19:34.966616Z"
    }
   },
   "outputs": [],
   "source": [
    "main()"
   ]
  },
  {
   "cell_type": "code",
   "execution_count": null,
   "metadata": {
    "ExecuteTime": {
     "end_time": "2021-10-09T21:39:15.057313Z",
     "start_time": "2021-10-09T21:39:15.039324Z"
    }
   },
   "outputs": [],
   "source": [
    "snte = separa_sentencas(txt1)\n",
    "snte"
   ]
  },
  {
   "cell_type": "code",
   "execution_count": null,
   "metadata": {
    "ExecuteTime": {
     "end_time": "2021-10-09T21:40:40.612741Z",
     "start_time": "2021-10-09T21:40:40.591758Z"
    }
   },
   "outputs": [],
   "source": [
    "frslis = [separa_frases(k) for k in snte]\n",
    "frslis"
   ]
  },
  {
   "cell_type": "code",
   "execution_count": null,
   "metadata": {
    "ExecuteTime": {
     "end_time": "2021-10-09T21:53:29.244577Z",
     "start_time": "2021-10-09T21:53:29.218593Z"
    }
   },
   "outputs": [],
   "source": [
    "pllis = [separa_palavras(k) for j in frslis for k in j]\n",
    "pllis # Considera as preposições como palavras"
   ]
  },
  {
   "cell_type": "code",
   "execution_count": null,
   "metadata": {
    "ExecuteTime": {
     "end_time": "2021-10-09T22:13:43.127054Z",
     "start_time": "2021-10-09T22:13:43.098070Z"
    }
   },
   "outputs": [],
   "source": [
    "# Usando o texto 2 como modelo e tentando identificar qual texto pertence ao mesmo autor\n",
    "\n",
    "def main2(lsttext2,txt):\n",
    "    \"\"\"\n",
    "    Função para havaliar uma lista de textos e indicar qual provavelmente pertence ao mesmo autor do txt2\n",
    "    \"\"\"\n",
    "    \n",
    "    ass_mod2 = calcula_assinatura(txt) \n",
    "        \n",
    "    print(f\"\\nO autor do {avalia_textos(lsttext2, ass_mod2)}º texto provavelmente é o mesmo do texto analisado\")\n",
    "\n",
    "main2([txt1,txt3,txt4],txt2)"
   ]
  },
  {
   "cell_type": "code",
   "execution_count": null,
   "metadata": {
    "ExecuteTime": {
     "end_time": "2021-10-09T22:14:05.157310Z",
     "start_time": "2021-10-09T22:14:05.151614Z"
    }
   },
   "outputs": [],
   "source": [
    "txt5 = \"O amor romântico é como um traje, que, como não é eterno, dura tanto quanto dura; e, em breve, sob a veste do ideal que formamos, que se esfacela, surge o corpo real da pessoa humana, em que o vestimos. O amor romântico, portanto, é um caminho de desilusão. Só o não é quando a desilusão, aceite desde o princípio, decide variar de ideal constantemente, tecer constantemente, nas oficinas da alma, novos trajes, com que constantemente se renove o aspecto da criatura, por eles vestida.\"\n",
    "\n",
    "main2([txt1,txt3,txt4],txt5)"
   ]
  },
  {
   "cell_type": "code",
   "execution_count": null,
   "metadata": {
    "ExecuteTime": {
     "end_time": "2021-10-12T02:50:06.600652Z",
     "start_time": "2021-10-12T02:50:06.588664Z"
    }
   },
   "outputs": [],
   "source": [
    "def fatoracao(n):\n",
    "    dividendo = n\n",
    "    k = 2\n",
    "    pilhdiv = Pilha()\n",
    "    while dividendo > 1:\n",
    "        while dividendo % k == 0:\n",
    "            quociente = dividendo // k\n",
    "            dividendo = quociente\n",
    "            pilhdiv.push(k)\n",
    "        k=k+1\n",
    "    \n",
    "    while not pilhdiv.isEmpty():\n",
    "        print(pilhdiv.pop(),end=\"*\")"
   ]
  },
  {
   "cell_type": "code",
   "execution_count": null,
   "metadata": {
    "ExecuteTime": {
     "end_time": "2021-10-12T02:50:07.282664Z",
     "start_time": "2021-10-12T02:50:07.260679Z"
    }
   },
   "outputs": [],
   "source": [
    "fatoracao(589654)"
   ]
  },
  {
   "cell_type": "markdown",
   "metadata": {},
   "source": [
    "# Python USP Coursera - Parte 2"
   ]
  },
  {
   "cell_type": "code",
   "execution_count": null,
   "metadata": {
    "ExecuteTime": {
     "end_time": "2021-10-12T02:41:22.281339Z",
     "start_time": "2021-10-12T02:41:22.260354Z"
    }
   },
   "outputs": [],
   "source": [
    "def cria_matriz(linhas,colunas):\n",
    "    \"\"\"\n",
    "    Função que cria uma matriz com m x n (m linhas e n colunas) com as entradas dos valores pelo usuário.\n",
    "    \"\"\"\n",
    "    matriz = []\n",
    "    for k in range(linhas):\n",
    "        linhas = []\n",
    "        for j in range(colunas):\n",
    "            valores = float(input(f\"Digite o valor do elemento [{k}][{j}]: \"))\n",
    "            linhas.append(valores)\n",
    "        matriz.append(linhas)\n",
    "    return matriz"
   ]
  },
  {
   "cell_type": "code",
   "execution_count": null,
   "metadata": {},
   "outputs": [],
   "source": [
    "def matriz2():\n",
    "    m = int(input(\"Quantas linhas deseja na Matriz?: \"))\n",
    "    n = int(input(\"Quantas colunas deseja na Matriz?: \"))\n",
    "    return cria_matriz(m,n)"
   ]
  },
  {
   "cell_type": "code",
   "execution_count": null,
   "metadata": {
    "ExecuteTime": {
     "end_time": "2021-10-12T02:08:55.832134Z",
     "start_time": "2021-10-12T02:08:55.810148Z"
    }
   },
   "outputs": [],
   "source": [
    "def matriz3():\n",
    "    \"\"\"\n",
    "    Função para imprimir a matriz na forma de melhor visualização\n",
    "    \"\"\"\n",
    "    m = int(input(\"Quantas linhas deseja na Matriz?: \"))\n",
    "    n = int(input(\"Quantas colunas deseja na Matriz?: \"))\n",
    "    \n",
    "    mat = cria_matriz(m,n)\n",
    "    \n",
    "    for k in mat:\n",
    "        print(k)\n",
    "    \n",
    "    return "
   ]
  },
  {
   "cell_type": "code",
   "execution_count": null,
   "metadata": {
    "ExecuteTime": {
     "end_time": "2021-10-12T02:36:49.708563Z",
     "start_time": "2021-10-12T02:36:49.690575Z"
    }
   },
   "outputs": [],
   "source": [
    "matriz3()"
   ]
  },
  {
   "cell_type": "code",
   "execution_count": null,
   "metadata": {},
   "outputs": [],
   "source": [
    "def dimensoes(matriz):\n",
    "    \"\"\"\n",
    "    função dimensoes(matriz) que recebe uma matriz como parâmetro e imprime as dimensões da matriz recebida, no formato iXj.\n",
    "    \"\"\"\n",
    "    print(f\"{len(matriz)}X{len(matriz[0])}\")"
   ]
  },
  {
   "cell_type": "code",
   "execution_count": null,
   "metadata": {},
   "outputs": [],
   "source": [
    "minha_matriz = [[1], [2], [3]]\n",
    "dimensoes(minha_matriz)"
   ]
  },
  {
   "cell_type": "code",
   "execution_count": null,
   "metadata": {},
   "outputs": [],
   "source": [
    "minha_matriz = [[1, 2, 3], [4, 5, 6]]\n",
    "dimensoes(minha_matriz)"
   ]
  },
  {
   "cell_type": "code",
   "execution_count": null,
   "metadata": {},
   "outputs": [],
   "source": [
    "def dimensoes2(matriz):\n",
    "    \"\"\"\n",
    "    função dimensoes(matriz) que recebe uma matriz como parâmetro e \n",
    "    retorna as dimensões da matriz recebida, no formato de tupla (i,j).\n",
    "    \"\"\"\n",
    "    return len(matriz),len(matriz[0])\n",
    "\n",
    "def soma_matrizes(m1, m2):\n",
    "    \"\"\"\n",
    "    função soma_matrizes(m1, m2) que recebe 2 matrizes e devolve uma matriz \n",
    "    que represente sua soma caso as matrizes tenham dimensões iguais. \n",
    "    Caso contrário, a função deve devolver False.\n",
    "    \"\"\"\n",
    "    msoma = [row.copy() for row in m1]\n",
    "      \n",
    "    linhas,colunas = dimensoes2(m1)\n",
    "    \n",
    "    if (linhas,colunas) != dimensoes2(m2):\n",
    "        return False\n",
    "    else:\n",
    "        for k in range(linhas):\n",
    "            for j in range(colunas):\n",
    "                msoma[k][j] = m1[k][j] + m2[k][j]\n",
    "                \n",
    "    return msoma"
   ]
  },
  {
   "cell_type": "code",
   "execution_count": null,
   "metadata": {},
   "outputs": [],
   "source": [
    "m1 = [[1, 2, 3], [4, 5, 6]]\n",
    "m2 = [[2, 3, 4], [5, 6, 7]]\n",
    "soma_matrizes(m1, m2)"
   ]
  },
  {
   "cell_type": "code",
   "execution_count": null,
   "metadata": {},
   "outputs": [],
   "source": [
    "m1"
   ]
  },
  {
   "cell_type": "code",
   "execution_count": null,
   "metadata": {},
   "outputs": [],
   "source": [
    "m1 = [[1], [2], [3]]\n",
    "m2 = [[2, 3, 4], [5, 6, 7]]\n",
    "soma_matrizes(m1, m2)"
   ]
  },
  {
   "cell_type": "code",
   "execution_count": null,
   "metadata": {},
   "outputs": [],
   "source": [
    "def imprime_matriz(mat):\n",
    "    \"\"\"\n",
    "    Função para imprimir a matriz na forma de melhor visualização\n",
    "    \"\"\"\n",
    "    linhas = len(mat)\n",
    "    colunas = len(mat[0])\n",
    "    \n",
    "    for k in range(linhas):\n",
    "        for j in range(colunas):\n",
    "            if j == colunas-1:\n",
    "                print(mat[k][j])\n",
    "            else:\n",
    "                print(mat[k][j],end = \" \")"
   ]
  },
  {
   "cell_type": "code",
   "execution_count": null,
   "metadata": {},
   "outputs": [],
   "source": [
    "minha_matriz = [[1], [2], [3]]\n",
    "imprime_matriz(minha_matriz)"
   ]
  },
  {
   "cell_type": "code",
   "execution_count": null,
   "metadata": {},
   "outputs": [],
   "source": [
    "minha_matriz = [[1, 2, 3], [4, 5, 6]]\n",
    "imprime_matriz(minha_matriz)"
   ]
  },
  {
   "cell_type": "code",
   "execution_count": null,
   "metadata": {},
   "outputs": [],
   "source": [
    "def sao_multiplicaveis(m1, m2):\n",
    "        return len(m1[0]) == len(m2)"
   ]
  },
  {
   "cell_type": "code",
   "execution_count": null,
   "metadata": {},
   "outputs": [],
   "source": [
    "m1 = [[1, 2, 3], [4, 5, 6]]\n",
    "m2 = [[2, 3, 4], [5, 6, 7]]\n",
    "sao_multiplicaveis(m1, m2)"
   ]
  },
  {
   "cell_type": "code",
   "execution_count": null,
   "metadata": {},
   "outputs": [],
   "source": [
    "m1 = [[1], [2], [3]]\n",
    "m2 = [[1, 2, 3]]\n",
    "sao_multiplicaveis(m1, m2)"
   ]
  },
  {
   "cell_type": "code",
   "execution_count": null,
   "metadata": {},
   "outputs": [],
   "source": [
    "linha_com_zeros = [0]*5\n",
    "A = [ linha_com_zeros ] * 5\n",
    "A[1][1] = 2"
   ]
  },
  {
   "cell_type": "code",
   "execution_count": null,
   "metadata": {},
   "outputs": [],
   "source": [
    "A"
   ]
  },
  {
   "cell_type": "code",
   "execution_count": null,
   "metadata": {},
   "outputs": [],
   "source": [
    "def crie_matriz_errada(n_linhas, n_colunas, valor):\n",
    "    ''' (int, int, valor) -> matriz (lista de listas)\n",
    "\n",
    "    Cria e retorna uma matriz com n_linhas linha e n_colunas\n",
    "    colunas em que cada elemento é igual ao valor dado.\n",
    "    '''\n",
    "\n",
    "    matriz = [] # lista vazia\n",
    "    # cria uma linha com valor\n",
    "\n",
    "    linha = [] # lista vazia\n",
    "    for j in range(n_colunas):\n",
    "        linha.append(valor)\n",
    "\n",
    "    for i in range(n_linhas):\n",
    "\n",
    "        # coloque linha na matriz\n",
    "        matriz.append(linha)\n",
    "\n",
    "    return matriz\n",
    "\n",
    "#----------------------------\n",
    "A = crie_matriz_errada(3,4,0)      # A mudança em um elemento de uma linha se repete em todos os demais, \n",
    "A[1][1] = 2                        # devido a ser criado pela mesma linha"
   ]
  },
  {
   "cell_type": "code",
   "execution_count": null,
   "metadata": {},
   "outputs": [],
   "source": [
    "def leia_matriz():\n",
    "    linhas = int(input(\"Digite o número de linhas: \"))\n",
    "    colunas = int(input(\"Digite o número de colunas: \"))\n",
    "    matriz = []\n",
    "    \n",
    "    \n",
    "    for k in range(linhas):\n",
    "        linha = []\n",
    "        print(f\"matriz = {matriz}\")\n",
    "        for j in range(colunas):\n",
    "            valores = int(input(f\"Digite o elemento ({k},{j}): \"))\n",
    "            linha.append(valores)\n",
    "            print(f\"linha {k} = {linha}\")\n",
    "        matriz.append(linha)\n",
    "    print(f\"matriz = {matriz}\")"
   ]
  },
  {
   "cell_type": "code",
   "execution_count": null,
   "metadata": {
    "scrolled": false
   },
   "outputs": [],
   "source": [
    "leia_matriz()"
   ]
  },
  {
   "cell_type": "code",
   "execution_count": null,
   "metadata": {},
   "outputs": [],
   "source": [
    "def imprima_matriz(mat):\n",
    "    \"\"\"\n",
    "    Função para imprimir a matriz na forma de melhor visualização\n",
    "    \"\"\"\n",
    "    linhas = len(mat)\n",
    "    colunas = len(mat[0])\n",
    "    \n",
    "    for k in range(linhas):\n",
    "        for j in range(colunas):\n",
    "            if j == colunas-1:\n",
    "                print(mat[k][j])\n",
    "            else:\n",
    "                print(mat[k][j],end = \"\\t\")\n",
    "\n",
    "a = [[1,2,3],[2,1,4],[3,4,1]]\n",
    "imprima_matriz(a)"
   ]
  },
  {
   "cell_type": "code",
   "execution_count": null,
   "metadata": {},
   "outputs": [],
   "source": [
    "def simetrica(matriz):\n",
    "    marc = True\n",
    "    linhas = len(matriz)\n",
    "    cols = len(matriz[0])\n",
    "    \n",
    "    if linhas != cols:\n",
    "        marc = False\n",
    "    \n",
    "    for k in range(linhas):\n",
    "        colunas = k\n",
    "        for j in range(colunas):\n",
    "            if matriz[k][j] != matriz[j][k]:\n",
    "                marc = False\n",
    "    return marc"
   ]
  },
  {
   "cell_type": "code",
   "execution_count": null,
   "metadata": {},
   "outputs": [],
   "source": [
    "a = [[1,2,3],[2,1,4],[3,4,1]]\n",
    "simetrica(a)"
   ]
  },
  {
   "cell_type": "code",
   "execution_count": null,
   "metadata": {},
   "outputs": [],
   "source": [
    "imprima_matriz(a)"
   ]
  },
  {
   "cell_type": "code",
   "execution_count": null,
   "metadata": {},
   "outputs": [],
   "source": [
    "# testes\n",
    "a = [[11, -3, 4, 8], [-3, 12, 6, 11], [4, 6, 5, 13], [8, 11, 13, 5]]\n",
    "if simetrica(a):\n",
    "    print(\"Passou no primeiro teste! :-)\")\n",
    "else:\n",
    "    print(\"Nao passou no primeiro teste! :-(\")"
   ]
  },
  {
   "cell_type": "code",
   "execution_count": null,
   "metadata": {},
   "outputs": [],
   "source": [
    "imprima_matriz(a)"
   ]
  },
  {
   "cell_type": "code",
   "execution_count": null,
   "metadata": {},
   "outputs": [],
   "source": [
    "def linhaszeros(matriz):\n",
    "    \"\"\"\n",
    "     leia inteiros positivos m e n e os elementos de uma matriz A de números inteiros de dimensão m x n \n",
    "     e conta o número de linhas e colunas que tem apenas zeros.\n",
    "    \"\"\"\n",
    "    linhas = len(matriz)\n",
    "    colunas = len(matriz[0])\n",
    "    \n",
    "    cntlinzero = 0\n",
    "    cntcolzero = 0\n",
    "    for k in matriz:\n",
    "        if k.count(0) == colunas:\n",
    "            cntlinzero = cntlinzero + 1\n",
    "        \n",
    "    for j in range(colunas):\n",
    "        cnt = 0 \n",
    "        for k in range(linhas):\n",
    "            if matriz[k][j] == 0:\n",
    "                cnt = cnt + 1\n",
    "        if cnt == linhas:\n",
    "            cntcolzero = cntcolzero + 1\n",
    "\n",
    "    print(f\"Matriz: {linhas} x {colunas}\")\n",
    "    \n",
    "    imprima_matriz(matriz)\n",
    "    \n",
    "    print(f\"Linhas  nulas = {cntlinzero}\")\n",
    "    print(f\"Colunas nulas = {cntcolzero}\")\n",
    "        "
   ]
  },
  {
   "cell_type": "code",
   "execution_count": null,
   "metadata": {},
   "outputs": [],
   "source": [
    "M = [[0,0,0,0,1]\n",
    "    ,[0,0,0,0,0]\n",
    "    ,[0,1,0,0,0]\n",
    "    ,[0,0,0,0,0]]"
   ]
  },
  {
   "cell_type": "code",
   "execution_count": null,
   "metadata": {},
   "outputs": [],
   "source": [
    "linhaszeros(M)"
   ]
  },
  {
   "cell_type": "code",
   "execution_count": null,
   "metadata": {},
   "outputs": [],
   "source": [
    "def sao_multiplicaveis(m1, m2):\n",
    "        return len(m1[0]) == len(m2)\n",
    "    \n",
    "def multiplica_matriz(a_mat, b_mat):\n",
    "    \"\"\"\n",
    "    (matriz,matriz) -> matriz\n",
    "\n",
    "    Recebe duas matriz a_mat e b_mat e cria e retorna\n",
    "    a matriz produto  de a_mat por b_mat.\n",
    "\n",
    "    Pre-condicao: a funcao supoe que o numero\n",
    "    de coluna de a_mat e igual ao numero de linhas de b_mat\n",
    "    \"\"\"\n",
    "    if not sao_multiplicaveis(a_mat, b_mat):\n",
    "        return False\n",
    "    \n",
    "    linhas1 = len(a_mat)\n",
    "    colunas1 = len(a_mat[0])\n",
    "    colunas2 = len(b_mat[0])\n",
    "    \n",
    "    matrizmult = []\n",
    "\n",
    "    for i in range(linhas1):\n",
    "        linha = []\n",
    "        for j in range(colunas2):\n",
    "            valor = 0\n",
    "            for k in range(colunas1):\n",
    "                valor = valor + a_mat[i][k]*b_mat[k][j]\n",
    "            linha.append(valor)\n",
    "        matrizmult.append(linha)\n",
    "    \n",
    "    \n",
    "    return matrizmult"
   ]
  },
  {
   "cell_type": "code",
   "execution_count": null,
   "metadata": {},
   "outputs": [],
   "source": [
    "a_mat = [ [1, 2, -1], [0, 3, 2] ]\n",
    "b_mat = [ [1, -1], [2, 0], [3, 2] ]\n",
    "\n",
    "multiplica_matriz(a_mat, b_mat)"
   ]
  },
  {
   "cell_type": "code",
   "execution_count": null,
   "metadata": {},
   "outputs": [],
   "source": [
    "a = [ [1, 2, -1], [0, 3, 2] ]\n",
    "b = [ [1, -1], [2, 0], [3, 2] ]\n",
    "c = multiplica_matriz(a,b)\n",
    "resultado = [ [2, -3], [12, 4] ]\n",
    "if c == resultado:\n",
    "    print(\"Passou no primeiro teste! :-)\")\n",
    "else:\n",
    "    print(\"Nao passou no primeiro teste! :-(\")"
   ]
  },
  {
   "cell_type": "code",
   "execution_count": null,
   "metadata": {},
   "outputs": [],
   "source": [
    "def produto_lincol(lin, a_mat, col, b_mat):\n",
    "    '''(int, matriz, int, matriz) -> float\n",
    "\n",
    "    Recebe duas matriz a_mat e b_mat e dois inteiros lin e col\n",
    "    e calcula a soma o produto entre a linha lin de a_mat com\n",
    "    a coluna col de b_mat\n",
    "\n",
    "    Pre-condicao: a funcao supoe que o numero\n",
    "       de colunas de a_mat e igual ao numero de linhas\n",
    "       de b_mat\n",
    "    '''\n",
    "    if not sao_multiplicaveis(a_mat, b_mat):\n",
    "        return False\n",
    "    \n",
    "    linhas1 = len(a_mat)\n",
    "    colunas1 = len(a_mat[0])\n",
    "    colunas2 = len(b_mat[0])    \n",
    "    \n",
    "    valor = 0\n",
    "    \n",
    "    for k in range(colunas1):\n",
    "        valor = valor + a_mat[lin][k]*b_mat[k][col]\n",
    "    return valor"
   ]
  },
  {
   "cell_type": "code",
   "execution_count": null,
   "metadata": {},
   "outputs": [],
   "source": [
    "A = [ [1, 2, 1],\n",
    "      [2, 2, 2],\n",
    "      [1, 3, 2]]\n",
    "B = [ [1, 1],\n",
    "      [2, 0],\n",
    "      [0, 1] ]\n",
    "produto_lincol(1, A, 0, B)"
   ]
  },
  {
   "cell_type": "code",
   "execution_count": null,
   "metadata": {},
   "outputs": [],
   "source": [
    "def multiplica_matriz2(a_mat, b_mat):\n",
    "    \"\"\"\n",
    "    (matriz,matriz) -> matriz\n",
    "\n",
    "    Recebe duas matriz a_mat e b_mat e cria e retorna\n",
    "    a matriz produto  de a_mat por b_mat.\n",
    "\n",
    "    Pre-condicao: a funcao supoe que o numero\n",
    "    de coluna de a_mat e igual ao numero de linhas de b_mat\n",
    "    \"\"\"\n",
    "    if not sao_multiplicaveis(a_mat, b_mat):\n",
    "        return False\n",
    "    \n",
    "    linhas1 = len(a_mat)\n",
    "    colunas1 = len(a_mat[0])\n",
    "    colunas2 = len(b_mat[0])\n",
    "    \n",
    "    matrizmult = []\n",
    "\n",
    "    for i in range(linhas1):\n",
    "        linha = []\n",
    "        for j in range(colunas2):\n",
    "            valor = produto_lincol(i, a_mat, j, b_mat)\n",
    "            linha.append(valor)\n",
    "        matrizmult.append(linha)\n",
    "    \n",
    "    return matrizmult"
   ]
  },
  {
   "cell_type": "code",
   "execution_count": null,
   "metadata": {},
   "outputs": [],
   "source": [
    "multiplica_matriz2(a_mat,b_mat)"
   ]
  },
  {
   "cell_type": "code",
   "execution_count": null,
   "metadata": {},
   "outputs": [],
   "source": [
    "def acha_max(A):\n",
    "    '''(matriz) -> int, int, int\n",
    "\n",
    "    Recebe uma matriz A e devolve 3 inteiros:\n",
    "    k (um maior valor), e sua posicao lin, col.\n",
    "    '''\n",
    "    linhas = len(A)\n",
    "    colunas = len(A[0])\n",
    "    max_a = A[0][0]\n",
    "    lin = col = 0\n",
    "    \n",
    "    for i in range(linhas):\n",
    "        for j in range(colunas):\n",
    "            if A[i][j] > max_a:\n",
    "                max_a = A[i][j]\n",
    "                lin = i\n",
    "                col = j\n",
    "    return max_a,lin,col"
   ]
  },
  {
   "cell_type": "code",
   "execution_count": null,
   "metadata": {},
   "outputs": [],
   "source": [
    "A = [ [3, 7, 1], [1, 2, 8], [5, 3, 4]]\n",
    "acha_max(A)"
   ]
  },
  {
   "cell_type": "code",
   "execution_count": null,
   "metadata": {},
   "outputs": [],
   "source": [
    "A"
   ]
  },
  {
   "cell_type": "code",
   "execution_count": null,
   "metadata": {},
   "outputs": [],
   "source": [
    "def acha_min(A):\n",
    "    \n",
    "    linhas = len(A)\n",
    "    colunas = len(A[0])    \n",
    "    \n",
    "    min_a = A[0][0]\n",
    "    for k in range(linhas):\n",
    "        for j in range(colunas):\n",
    "            if A[k][j] < min_a:\n",
    "                min_a = A[k][j]\n",
    "    return min_a"
   ]
  },
  {
   "cell_type": "code",
   "execution_count": null,
   "metadata": {},
   "outputs": [],
   "source": [
    "def ord_matriz(A):\n",
    "    \"\"\"\n",
    "    dado dois inteiros nl e nc e uma matriz quadrada de dimensão nl x nc,\n",
    "    cujos elementos são todos inteiros, imprime uma tabela onde os elementos \n",
    "    são listados em ordem decrescente, acompanhados da indicação de linha e coluna \n",
    "    a que pertencem. Havendo repetições de elementos na matriz, a ordem é irrelevante.\n",
    "    \"\"\"\n",
    "    Ac = [row[:] for row in A] # Forma mais simples de copiar uma matriz\n",
    "    \n",
    "    linhas = len(Ac)\n",
    "    colunas = len(Ac[0])\n",
    "             \n",
    "    min_a = acha_min(Ac)\n",
    "    \n",
    "    \n",
    "    a,b,c = acha_max(Ac)\n",
    "    max_lst = [[a,b,c]]\n",
    "    \n",
    "    for k in range(linhas*colunas-1):\n",
    "        Ac[b][c] = min_a\n",
    "        a,b,c = acha_max(Ac)\n",
    "        max_lst.append([a,b,c])\n",
    "        \n",
    "    return max_lst"
   ]
  },
  {
   "cell_type": "code",
   "execution_count": null,
   "metadata": {},
   "outputs": [],
   "source": [
    "print(\"Elem\\tLinha\\tColuna\")\n",
    "for i in ord_matriz(A):\n",
    "    for j in i:\n",
    "        print(j,end=\"\\t\")\n",
    "    print()"
   ]
  },
  {
   "cell_type": "code",
   "execution_count": null,
   "metadata": {},
   "outputs": [],
   "source": [
    "id(A)"
   ]
  },
  {
   "cell_type": "code",
   "execution_count": null,
   "metadata": {},
   "outputs": [],
   "source": [
    "acha_min(A)"
   ]
  },
  {
   "cell_type": "code",
   "execution_count": null,
   "metadata": {},
   "outputs": [],
   "source": [
    "A"
   ]
  },
  {
   "cell_type": "code",
   "execution_count": null,
   "metadata": {},
   "outputs": [],
   "source": [
    "# Cria uma matriz 8 x 8 usando llist comprehensions\n",
    "board = [[0 for i in range(8)] for j in range(8)]"
   ]
  },
  {
   "cell_type": "code",
   "execution_count": null,
   "metadata": {},
   "outputs": [],
   "source": [
    "board"
   ]
  },
  {
   "cell_type": "code",
   "execution_count": null,
   "metadata": {},
   "outputs": [],
   "source": [
    "EMPTY = \"-\"\n",
    "ROOK = \"ROOK\"\n",
    "board = []\n",
    "\n",
    "for i in range(8):\n",
    "    row = [EMPTY for i in range(8)]\n",
    "    board.append(row)\n",
    "\n",
    "board[0][0] = ROOK\n",
    "board[0][7] = ROOK\n",
    "board[7][0] = ROOK\n",
    "board[7][7] = ROOK\n",
    "\n",
    "KNIGHT = 'KNIGHT'\n",
    "PAWN = 'PAWN'\n",
    "\n",
    "board[4][2] = KNIGHT # cavaleiro (knight)\n",
    "board[3][4] = PAWN # peão (pawn)\n",
    "\n",
    "print(board)\n"
   ]
  },
  {
   "cell_type": "code",
   "execution_count": null,
   "metadata": {},
   "outputs": [],
   "source": [
    "z = 10\n",
    "y = 0\n",
    "\n",
    "y<z or z>y and y>z or z<y"
   ]
  },
  {
   "cell_type": "code",
   "execution_count": null,
   "metadata": {},
   "outputs": [],
   "source": [
    "z =2\n",
    "y = 1\n",
    "\n",
    "y<z or z>y and y>z or z<y"
   ]
  },
  {
   "cell_type": "code",
   "execution_count": null,
   "metadata": {},
   "outputs": [],
   "source": [
    "my_list = [1,2,3]\n",
    "\n",
    "for v in range(len(my_list)):\n",
    "    my_list.insert(1,my_list[v])\n",
    "    \n",
    "my_list"
   ]
  },
  {
   "cell_type": "code",
   "execution_count": null,
   "metadata": {},
   "outputs": [],
   "source": [
    "var = 1\n",
    "while var < 10:\n",
    "    print(\"#\")\n",
    "    var = var << 1 # Aumenta o numero x2\n",
    "    print(var)\n"
   ]
  },
  {
   "cell_type": "code",
   "execution_count": null,
   "metadata": {},
   "outputs": [],
   "source": [
    "BOMBA = -1\n",
    "\n",
    "def conta_bomba(A, lin, col):\n",
    "    '''\n",
    "    Recebe uma matriz inteira A e uma posicao (lin, col), e\n",
    "    retorna o numero de bombas ao redor de (lin, col)\n",
    "    '''\n",
    "    BOMBA = -1\n",
    "    cnt = 0\n",
    "    \n",
    "    linhas = len(A)\n",
    "    colunas = len(A[0])\n",
    "    \n",
    "    for i in [-1, 0, 1]:\n",
    "        for j in [-1, 0, 1]:\n",
    "            if (lin+i >=0) and (col+j >=0) and (lin+i <= linhas-1) and (col+j <= colunas-1):\n",
    "                if A[lin+i][col+j] == BOMBA:\n",
    "                    if not(i == 0 and j == 0):\n",
    "                        cnt+=1\n",
    "    return cnt"
   ]
  },
  {
   "cell_type": "code",
   "execution_count": null,
   "metadata": {},
   "outputs": [],
   "source": [
    "B = [[-1, -1, 1], [0, -1, 8], [5, 3, -1]]\n",
    "conta_bomba(B, 2, 2)"
   ]
  },
  {
   "cell_type": "code",
   "execution_count": null,
   "metadata": {},
   "outputs": [],
   "source": [
    "imprima_matriz(B)"
   ]
  },
  {
   "cell_type": "code",
   "execution_count": null,
   "metadata": {},
   "outputs": [],
   "source": [
    "def matriz_campominado(A):\n",
    "    '''\n",
    "    Le uma matriz A com 0's e 1's e calcula a quantidade de\n",
    "    bombas ao redor de cada posição livre.\n",
    "    '''\n",
    "    BOMBA = -1\n",
    "    LIVRE =  0\n",
    "    linhas = len(A)\n",
    "    colunas = len(A[0])\n",
    "    matriz = []\n",
    "    \n",
    "    for i in range(linhas):\n",
    "        linha = []\n",
    "        for j in range(colunas):\n",
    "            valor = conta_bomba(A, i, j)\n",
    "            linha.append(valor)\n",
    "        matriz.append(linha)\n",
    "    \n",
    "    return matriz"
   ]
  },
  {
   "cell_type": "code",
   "execution_count": null,
   "metadata": {},
   "outputs": [],
   "source": [
    "matriz_campominado(B)"
   ]
  },
  {
   "cell_type": "code",
   "execution_count": null,
   "metadata": {},
   "outputs": [],
   "source": [
    "frase = \" Python É Uma Linguagem Poderosa \"\n",
    "frase.capitalize()"
   ]
  },
  {
   "cell_type": "code",
   "execution_count": null,
   "metadata": {},
   "outputs": [],
   "source": [
    "frase[14:]"
   ]
  },
  {
   "cell_type": "code",
   "execution_count": null,
   "metadata": {},
   "outputs": [],
   "source": [
    "frase[:6]"
   ]
  },
  {
   "cell_type": "code",
   "execution_count": null,
   "metadata": {},
   "outputs": [],
   "source": [
    "frase = \"São Paulo é a maior cidade do Brasil\"\n",
    "frase.find(\"ai\")"
   ]
  },
  {
   "cell_type": "code",
   "execution_count": null,
   "metadata": {},
   "outputs": [],
   "source": [
    "len(frase)"
   ]
  },
  {
   "cell_type": "code",
   "execution_count": null,
   "metadata": {},
   "outputs": [],
   "source": [
    "frase.count(\"o\")"
   ]
  },
  {
   "cell_type": "code",
   "execution_count": null,
   "metadata": {},
   "outputs": [],
   "source": [
    "a = \"gato\"\n",
    "\n",
    "b = \"O gato subiu no telhado\"\n",
    "\n",
    "c = \"telhado\""
   ]
  },
  {
   "cell_type": "code",
   "execution_count": null,
   "metadata": {},
   "outputs": [],
   "source": [
    "b[2:6] == a"
   ]
  },
  {
   "cell_type": "code",
   "execution_count": null,
   "metadata": {},
   "outputs": [],
   "source": [
    "b[16:]"
   ]
  },
  {
   "cell_type": "code",
   "execution_count": null,
   "metadata": {},
   "outputs": [],
   "source": [
    "a>c"
   ]
  },
  {
   "cell_type": "code",
   "execution_count": null,
   "metadata": {},
   "outputs": [],
   "source": [
    "x = 150\n",
    "y = 200"
   ]
  },
  {
   "cell_type": "code",
   "execution_count": null,
   "metadata": {},
   "outputs": [],
   "source": [
    "assert (x == y)"
   ]
  },
  {
   "cell_type": "code",
   "execution_count": null,
   "metadata": {},
   "outputs": [],
   "source": [
    "def calculo(x, y = 10, z = 5):\n",
    "    return x + y * z;"
   ]
  },
  {
   "cell_type": "code",
   "execution_count": null,
   "metadata": {},
   "outputs": [],
   "source": [
    "calculo(0,1,2)"
   ]
  },
  {
   "cell_type": "code",
   "execution_count": null,
   "metadata": {},
   "outputs": [],
   "source": [
    "def horario_em_segundos(h, m, s):\n",
    "    assert h >= 0 and m >= 0 and s >= 0\n",
    "    return h * 3600 + m * 60 + s"
   ]
  },
  {
   "cell_type": "code",
   "execution_count": null,
   "metadata": {},
   "outputs": [],
   "source": [
    "horario_em_segundos(1,2,3)"
   ]
  },
  {
   "cell_type": "code",
   "execution_count": null,
   "metadata": {},
   "outputs": [],
   "source": [
    "def maiusculas(s):\n",
    "    st = \"\"\n",
    "    for k in s:\n",
    "        if ord(k) >= 65 and ord(k) <= 90:\n",
    "            st = st + k\n",
    "    return st"
   ]
  },
  {
   "cell_type": "code",
   "execution_count": null,
   "metadata": {},
   "outputs": [],
   "source": [
    "ord(\"A\")"
   ]
  },
  {
   "cell_type": "code",
   "execution_count": null,
   "metadata": {},
   "outputs": [],
   "source": [
    "ord(\"Z\")"
   ]
  },
  {
   "cell_type": "code",
   "execution_count": null,
   "metadata": {},
   "outputs": [],
   "source": [
    "maiusculas('Programamos em python 2?')\n",
    "# deve devolver 'P'"
   ]
  },
  {
   "cell_type": "code",
   "execution_count": null,
   "metadata": {},
   "outputs": [],
   "source": [
    "maiusculas('Programamos em Python 3.')\n",
    "# deve devolver 'PP'"
   ]
  },
  {
   "cell_type": "code",
   "execution_count": null,
   "metadata": {},
   "outputs": [],
   "source": [
    "maiusculas('PrOgRaMaMoS em python!')\n",
    "# deve devolver 'PORMMS'"
   ]
  },
  {
   "cell_type": "code",
   "execution_count": null,
   "metadata": {},
   "outputs": [],
   "source": [
    "def menor_nome(lst):\n",
    "\n",
    "    men_nome = lst[0]\n",
    "    for k in lst:\n",
    "        ks = k.strip()\n",
    "        if len(ks) < len(men_nome):\n",
    "            men_nome = ks\n",
    "    return men_nome.capitalize()"
   ]
  },
  {
   "cell_type": "code",
   "execution_count": null,
   "metadata": {},
   "outputs": [],
   "source": [
    "s = [\"rafael\",\" jesus\",\" silva\",\" monteiro\"]\n",
    "\n",
    "menor_nome(s)"
   ]
  },
  {
   "cell_type": "code",
   "execution_count": null,
   "metadata": {},
   "outputs": [],
   "source": [
    "menor_nome(['maria', 'josé', 'PAULO', 'Catarina'])\n",
    "# deve devolver 'José'"
   ]
  },
  {
   "cell_type": "code",
   "execution_count": null,
   "metadata": {},
   "outputs": [],
   "source": [
    "menor_nome(['maria', ' josé  ', '  PAULO', 'Catarina  '])\n",
    "# deve devolver 'José'"
   ]
  },
  {
   "cell_type": "code",
   "execution_count": null,
   "metadata": {},
   "outputs": [],
   "source": [
    "menor_nome(['Bárbara', 'JOSÉ  ', 'Bill'])\n",
    "# deve devolver José"
   ]
  },
  {
   "cell_type": "code",
   "execution_count": null,
   "metadata": {},
   "outputs": [],
   "source": [
    "chr(65)"
   ]
  },
  {
   "cell_type": "code",
   "execution_count": null,
   "metadata": {},
   "outputs": [],
   "source": [
    "ord(\"A\"),ord(\"Z\")"
   ]
  },
  {
   "cell_type": "code",
   "execution_count": null,
   "metadata": {},
   "outputs": [],
   "source": [
    "def conta_letras(frase, contar = \"vogais\"):\n",
    "    cnt = 0\n",
    "    \n",
    "    frase = frase.upper()\n",
    "    \n",
    "    if contar == \"vogais\":\n",
    "        for k in frase:\n",
    "            if k in 'AEIOU':\n",
    "                cnt += 1\n",
    "    else:\n",
    "        lst_cons = [chr(x) for x in range(65,91) if chr(x) not in 'AEIOU']\n",
    "        for k in frase:\n",
    "            if k in lst_cons:\n",
    "                cnt += 1\n",
    "    return cnt"
   ]
  },
  {
   "cell_type": "code",
   "execution_count": null,
   "metadata": {},
   "outputs": [],
   "source": [
    "conta_letras('programamos em python')\n",
    "# deve devolver 6"
   ]
  },
  {
   "cell_type": "code",
   "execution_count": null,
   "metadata": {},
   "outputs": [],
   "source": [
    "conta_letras('programamos em python', 'vogais')\n",
    "# deve devolver 6"
   ]
  },
  {
   "cell_type": "code",
   "execution_count": null,
   "metadata": {},
   "outputs": [],
   "source": [
    "len('programamos em python')"
   ]
  },
  {
   "cell_type": "code",
   "execution_count": null,
   "metadata": {},
   "outputs": [],
   "source": [
    "'programamos em python'.count(\" \")"
   ]
  },
  {
   "cell_type": "code",
   "execution_count": null,
   "metadata": {},
   "outputs": [],
   "source": [
    "conta_letras('programamos em python', 'consoantes')\n",
    "# deve devolver 13"
   ]
  },
  {
   "cell_type": "code",
   "execution_count": null,
   "metadata": {},
   "outputs": [],
   "source": [
    "[chr(x) for x in range(65,91) if chr(x) not in 'AEIOU']"
   ]
  },
  {
   "cell_type": "code",
   "execution_count": null,
   "metadata": {},
   "outputs": [],
   "source": [
    "def primeiro_lex(lst):\n",
    "\n",
    "    men_nome = lst[0]\n",
    "    for k in lst:\n",
    "        ks = k.strip()\n",
    "        if ks < men_nome:\n",
    "            men_nome = ks\n",
    "    return men_nome"
   ]
  },
  {
   "cell_type": "code",
   "execution_count": null,
   "metadata": {},
   "outputs": [],
   "source": [
    "s = [\"rafael\",\" jesus\",\" silva\",\" monteiro\"]\n",
    "\n",
    "primeiro_lex(s)"
   ]
  },
  {
   "cell_type": "code",
   "execution_count": null,
   "metadata": {},
   "outputs": [],
   "source": [
    "primeiro_lex(['oĺá', 'A', 'a', 'casa'])\n",
    "# deve devolver 'A'"
   ]
  },
  {
   "cell_type": "code",
   "execution_count": null,
   "metadata": {},
   "outputs": [],
   "source": [
    "primeiro_lex(['AAAAAA', 'b'])\n",
    "# deve devolver 'AAAAAA'"
   ]
  },
  {
   "cell_type": "code",
   "execution_count": null,
   "metadata": {},
   "outputs": [],
   "source": [
    "nome = \"poesia.txt\"    # poderia ser um input(\"Digite o nome do arquivo: \")\n",
    "\n",
    "with open(nome, 'w', encoding='utf-8') as arq:\n",
    "    # CORPO DO WITH\n",
    "    arq.write(\"    O poeta é um fingidor.      \\n\")\n",
    "    arq.write(\"    Finge tão completamente     \\n\")\n",
    "    arq.write(\"    Que chega a fingir que é dor\\n\")\n",
    "    arq.write(\"    A dor que deveras sente.    \\n\")\n",
    "    arq.write(\"                Fernando Pessoa.\\n\")"
   ]
  },
  {
   "cell_type": "code",
   "execution_count": null,
   "metadata": {},
   "outputs": [],
   "source": [
    "nome = \"poesia.txt\"    # poderia ser um input(\"Digite o nome do arquivo: \")\n",
    "\n",
    "with open(nome, 'r', encoding='utf-8') as arq_entrada:\n",
    "    # CORPO DO WITH\n",
    "    conteudo = arq_entrada.read()\n",
    "\n",
    "# continue o programa usando conteudo\n",
    "print(conteudo)"
   ]
  },
  {
   "cell_type": "code",
   "execution_count": null,
   "metadata": {},
   "outputs": [],
   "source": [
    "type(conteudo)"
   ]
  },
  {
   "cell_type": "code",
   "execution_count": null,
   "metadata": {},
   "outputs": [],
   "source": [
    "fileref = open(\"ccdata.txt\", \"r\",encoding='UTF-8')"
   ]
  },
  {
   "cell_type": "code",
   "execution_count": null,
   "metadata": {},
   "outputs": [],
   "source": [
    "text2 = fileref.read()\n",
    "text2\n",
    "fileref.close()"
   ]
  },
  {
   "cell_type": "code",
   "execution_count": null,
   "metadata": {},
   "outputs": [],
   "source": [
    "type(text2)"
   ]
  },
  {
   "cell_type": "code",
   "execution_count": null,
   "metadata": {},
   "outputs": [],
   "source": [
    "text2"
   ]
  },
  {
   "cell_type": "code",
   "execution_count": null,
   "metadata": {
    "scrolled": true
   },
   "outputs": [],
   "source": [
    "fileref = open(\"ccdata.txt\", \"r\",encoding='UTF-8')\n",
    "print(fileref.read())\n",
    "fileref.close()"
   ]
  },
  {
   "cell_type": "code",
   "execution_count": null,
   "metadata": {},
   "outputs": [],
   "source": [
    "ccfile = open(\"ccdata.txt\", \"r\",encoding='UTF-8')"
   ]
  },
  {
   "cell_type": "code",
   "execution_count": null,
   "metadata": {},
   "outputs": [],
   "source": [
    "temp_list = []\n",
    "for aline in ccfile:\n",
    "    values = aline.split()\n",
    "    temp_list.append(values)\n",
    "\n",
    "    \n",
    "for k in temp_list[1:]:\n",
    "    print('In', k[0], 'the average temp. was', k[1], '°C and CO2 emmisions were', k[2], 'gigatons.')\n",
    "\n",
    "ccfile.close()"
   ]
  },
  {
   "cell_type": "code",
   "execution_count": null,
   "metadata": {},
   "outputs": [],
   "source": [
    "ref_arquivo = open(\"qbdata.txt\",\"r\",encoding='UTF-8')\n",
    "# print(ref_arquivo.read())"
   ]
  },
  {
   "cell_type": "code",
   "execution_count": null,
   "metadata": {},
   "outputs": [],
   "source": [
    "for linha in ref_arquivo:\n",
    "    valores = linha.split()\n",
    "    print('QB ', valores[0], valores[1], 'obteve a avaliacao ', valores[10] )\n",
    "\n",
    "ref_arquivo.close()"
   ]
  },
  {
   "cell_type": "code",
   "execution_count": null,
   "metadata": {},
   "outputs": [],
   "source": [
    "infile = open(\"ccdata.txt\", \"r\")\n",
    "line = infile.readline()\n",
    "while line:\n",
    "    values = line.split()\n",
    "    print('In', values[0], 'the average temp. was', values[1], '°C and CO2 emmisions were', values[2], 'gigatons.')\n",
    "    line = infile.readline()\n",
    "\n",
    "infile.close()"
   ]
  },
  {
   "cell_type": "code",
   "execution_count": null,
   "metadata": {},
   "outputs": [],
   "source": [
    "infile = open(\"ccdata.txt\", \"r\",encoding='UTF-8')\n",
    "line = infile.readline()\n",
    "line"
   ]
  },
  {
   "cell_type": "code",
   "execution_count": null,
   "metadata": {},
   "outputs": [],
   "source": [
    "line"
   ]
  },
  {
   "cell_type": "code",
   "execution_count": null,
   "metadata": {},
   "outputs": [],
   "source": [
    "infile.readline()"
   ]
  },
  {
   "cell_type": "code",
   "execution_count": null,
   "metadata": {},
   "outputs": [],
   "source": [
    "print(infile.readline())\n",
    "\n",
    "infile.close()"
   ]
  },
  {
   "cell_type": "code",
   "execution_count": null,
   "metadata": {},
   "outputs": [],
   "source": [
    "txt = 'Melhorando a cada dia minhas habilidades de programação'\n",
    "k = -1\n",
    "while txt:\n",
    "    k+=1\n",
    "    try:\n",
    "        print(txt[k],end = \"\")\n",
    "    except:\n",
    "        break"
   ]
  },
  {
   "cell_type": "code",
   "execution_count": null,
   "metadata": {},
   "outputs": [],
   "source": [
    "ref_arquivo = open(\"qbdata.txt\",\"r\",encoding='UTF-8')\n",
    "lista_de_linhas = ref_arquivo.readlines()\n",
    "ref_arquivo.close()"
   ]
  },
  {
   "cell_type": "code",
   "execution_count": null,
   "metadata": {},
   "outputs": [],
   "source": [
    "lista_de_linhas"
   ]
  },
  {
   "cell_type": "code",
   "execution_count": null,
   "metadata": {},
   "outputs": [],
   "source": [
    "infile = open(\"ccdata.txt\", \"r\",encoding='UTF-8')\n",
    "outfile = open(\"emissiondata.txt\", \"w\",encoding='UTF-8')\n",
    "\n",
    "aline = infile.readline()\n",
    "outfile.write(\"Year \\tEmmision\\n\")\n",
    "while aline:\n",
    "    items = aline.split()\n",
    "    dataline = items[0] + '\\t' + items[2]\n",
    "    outfile.write(dataline + '\\n')\n",
    "    aline = infile.readline()\n",
    "\n",
    "infile.close()\n",
    "outfile.close()"
   ]
  },
  {
   "cell_type": "code",
   "execution_count": null,
   "metadata": {},
   "outputs": [],
   "source": [
    "ref_arquivo = open(\"studentdata.txt\",\"r\",encoding='utf-8-sig')\n",
    "lista_de_linhas2 = ref_arquivo.readlines()\n",
    "ref_arquivo.close()"
   ]
  },
  {
   "cell_type": "code",
   "execution_count": null,
   "metadata": {},
   "outputs": [],
   "source": [
    "for k in lista_de_linhas2:\n",
    "    print(k,end = \"\")"
   ]
  },
  {
   "cell_type": "code",
   "execution_count": null,
   "metadata": {},
   "outputs": [],
   "source": [
    "lista_de_linhas2"
   ]
  },
  {
   "cell_type": "code",
   "execution_count": null,
   "metadata": {},
   "outputs": [],
   "source": [
    "for k in lista_de_linhas2:\n",
    "    \"\"\"\n",
    "    prints out the names of students that have more than six quiz scores.\n",
    "    \"\"\"\n",
    "    ks = k.split()\n",
    "    if len(ks) > 7:\n",
    "        print(ks[0])"
   ]
  },
  {
   "cell_type": "code",
   "execution_count": null,
   "metadata": {},
   "outputs": [],
   "source": [
    "\"\"\"\n",
    "calculates the average grade for each student, and print out the student’s name along with their average grade.\n",
    "\"\"\"\n",
    "for k in lista_de_linhas2:\n",
    "    \"\"\"\n",
    "    prints out the names of students that have more than six quiz scores.\n",
    "    \"\"\"\n",
    "    ks = k.split()\n",
    "    soma = 0\n",
    "    for j in ks[1:]:\n",
    "        soma+= float(j)\n",
    "    print(ks[0],f\"\\t{soma/(len(ks)-1):.2f}\")"
   ]
  },
  {
   "cell_type": "code",
   "execution_count": null,
   "metadata": {},
   "outputs": [],
   "source": [
    "\"\"\"\n",
    "calculates the minimum and maximum score for each student. Print out their name as well.\n",
    "\"\"\"\n",
    "\n",
    "for k in lista_de_linhas2:\n",
    "    \"\"\"\n",
    "    prints out the names of students that have more than six quiz scores.\n",
    "    \"\"\"\n",
    "    ks = k.split()\n",
    "    mx = float(ks[1])\n",
    "    mn = float(ks[1])\n",
    "    for j in ks[1:]:\n",
    "        jf = float(j)\n",
    "        if jf > mx:\n",
    "            mx = jf\n",
    "        elif jf < mn:\n",
    "            mn = jf         \n",
    "    print(ks[0],f\"\\t -> Nota Máxima : {mx:.2f}\\t Nota Mínima : {mn:.2f}\")"
   ]
  },
  {
   "cell_type": "code",
   "execution_count": null,
   "metadata": {},
   "outputs": [],
   "source": [
    "ref_arquivo = open(\"labdata.txt\",\"r\",encoding='utf-8-sig')\n",
    "lista_de_linhas3 = ref_arquivo.readlines()\n",
    "ref_arquivo.close()"
   ]
  },
  {
   "cell_type": "code",
   "execution_count": null,
   "metadata": {},
   "outputs": [],
   "source": [
    "x = []\n",
    "y = []\n",
    "for k in lista_de_linhas3:\n",
    "    ks = k.split()\n",
    "    x.append(float(ks[0]))\n",
    "    y.append(float(ks[1]))\n",
    "    "
   ]
  },
  {
   "cell_type": "code",
   "execution_count": null,
   "metadata": {},
   "outputs": [],
   "source": [
    "t = turtle.Turtle()\n",
    "wn = turtle.Screen()\n",
    "\n",
    "wn.setworldcoordinates(0,0,150,150)\n",
    "\n",
    "t.up()\n",
    "\n",
    "n = len(x)\n",
    "\n",
    "if n == len(y):\n",
    "    my = sum(y)/n\n",
    "    mx = sum(x)/n\n",
    "    sum_xy = sum([k*j for k,j in zip(x,y)])\n",
    "    sum_x2 = sum([k**2 for k in x])\n",
    "    m = (sum_xy - n*mx*my) / (sum_x2 - n*mx**2)\n",
    "else:\n",
    "    print(\"Vetores com tamanhos diferentes\")\n",
    "    \n",
    "\n",
    "for i,j in zip(x,y): \n",
    "    t.goto(i,j)\n",
    "    t.dot()\n",
    "    t.write([i,j])\n",
    "    \n",
    "yr = [my + m*(k - mx) for k in sorted(x)]\n",
    "\n",
    "t.goto(sorted(x)[0],yr[0])\n",
    "t.down()\n",
    "t.color('red')\n",
    "\n",
    "for i,j in zip(sorted(x),yr): \n",
    "    t.goto(i,j)\n",
    "\n",
    "sig_inclin = \"+\" if m>0 else \"\"\n",
    "\n",
    "t.write(f\"y = {my - m*mx:.4f} {sig_inclin} {m:.4f}*x\")\n",
    "t.ht()    \n",
    "    \n",
    "turtle.done()\n",
    "turtle.exitonclick()"
   ]
  },
  {
   "cell_type": "code",
   "execution_count": null,
   "metadata": {},
   "outputs": [],
   "source": [
    "init_printing(use_latex='mathjax')\n"
   ]
  },
  {
   "cell_type": "code",
   "execution_count": null,
   "metadata": {},
   "outputs": [],
   "source": [
    "from sympy import *\n",
    "x, y, z = symbols('x, y, z')\n",
    "eq1 = x**2 -3*x - 3\n",
    "solve(eq1, x)"
   ]
  },
  {
   "cell_type": "code",
   "execution_count": null,
   "metadata": {},
   "outputs": [],
   "source": [
    "solve([x**2 -3*x*y - 3, y**2 +3*x*y + 6], x, y, set=True)"
   ]
  },
  {
   "cell_type": "code",
   "execution_count": null,
   "metadata": {
    "scrolled": false
   },
   "outputs": [],
   "source": [
    "eq1 = x**2 -3*x*y - 3\n",
    "eq2 = y**2 +3*x*y + 6\n",
    "solve([eq1, eq2], (x, y))"
   ]
  },
  {
   "cell_type": "markdown",
   "metadata": {},
   "source": [
    "## Dinossauro"
   ]
  },
  {
   "cell_type": "code",
   "execution_count": null,
   "metadata": {
    "ExecuteTime": {
     "end_time": "2021-10-16T21:27:10.243575Z",
     "start_time": "2021-10-16T21:27:10.211596Z"
    }
   },
   "outputs": [],
   "source": [
    "ref_arquivo = open(\"mystery.txt\",\"r\",encoding='utf-8-sig')\n",
    "lista_de_linhas4 = ref_arquivo.readlines()\n",
    "ref_arquivo.close()"
   ]
  },
  {
   "cell_type": "code",
   "execution_count": null,
   "metadata": {
    "ExecuteTime": {
     "end_time": "2021-10-16T21:28:38.081843Z",
     "start_time": "2021-10-16T21:28:12.256985Z"
    }
   },
   "outputs": [],
   "source": [
    "t = turtle.Turtle()\n",
    "wn = turtle.Screen()\n",
    "\n",
    "# wn.setworldcoordinates(0,0,150,150)\n",
    "\n",
    "\n",
    "for k in lista_de_linhas4:\n",
    "    ks = k.split()\n",
    "    if ks[0] =='UP':\n",
    "        t.up()\n",
    "    elif ks[0] =='DOWN':\n",
    "        t.down()\n",
    "    else:\n",
    "        t.goto(float(ks[0]),float(ks[1]))\n",
    "\n",
    "t.ht()\n",
    "        \n",
    "turtle.done()\n",
    "turtle.exitonclick()"
   ]
  },
  {
   "cell_type": "code",
   "execution_count": null,
   "metadata": {},
   "outputs": [],
   "source": [
    "def separa(texto, sep):\n",
    "    \"\"\"\n",
    "    A função “corta” o texto nos separadores, \n",
    "    retornando uma lista com as palavras do texto. Exemplo: \n",
    "    para o texto: ”,1,,2,3,” a saída deve ser a lista: [‘’, ‘1’, ‘’, ‘2’, ‘3’, ‘’] \n",
    "    onde ‘’ indica uma palavra vazia (entre 2 separadores consecutivos).\n",
    "    \"\"\"\n",
    "    return texto.split(\",\")"
   ]
  },
  {
   "cell_type": "code",
   "execution_count": null,
   "metadata": {},
   "outputs": [],
   "source": [
    "separa(\",1,,2,3,\", \",\")"
   ]
  },
  {
   "cell_type": "code",
   "execution_count": null,
   "metadata": {},
   "outputs": [],
   "source": [
    "name = input(\"Digite o nome do arquivo: \")\n",
    "ref_arquivo = open(name,\"r\",encoding='utf-8-sig')\n",
    "lista_de_linhas4 = ref_arquivo.readlines()\n",
    "ref_arquivo.close()\n",
    "\n",
    "somat = 0\n",
    "\n",
    "for k in lista_de_linhas4:\n",
    "    \"\"\"\n",
    "    prints out the names of students that have more than six quiz scores.\n",
    "    \"\"\"\n",
    "    ks = k.split()\n",
    "    soma = 0\n",
    "    for j in ks:\n",
    "        soma+= float(j)\n",
    "    print(f\"Soma \\t{soma:.6f}\")\n",
    "    somat+=soma\n",
    "    \n",
    "print(f\"Total \\t{somat:.6f}\")"
   ]
  },
  {
   "cell_type": "code",
   "execution_count": null,
   "metadata": {
    "ExecuteTime": {
     "end_time": "2021-10-24T20:15:10.105692Z",
     "start_time": "2021-10-24T20:15:10.095700Z"
    }
   },
   "outputs": [],
   "source": [
    "''' Observe que para n=10, os resultados são iguais, mas para n=100…'''\n",
    "\n",
    "\n",
    "def harmonicoDE(n):\n",
    "    h = 0\n",
    "    for k in range(n):\n",
    "        h = h + 1/(n-k)\n",
    "    return h\n",
    "\n",
    "\"\"\"\n",
    "A razão da diferença é que ambas as somas são aproximadas mas, ao somar os números “grandes” primeiro,\n",
    "a precisão da soma devido a grande quantidade de números “pequenos” é perdida. Portanto o resultado da \n",
    "soma DE (de 1/n a 1) é mais preciso que da soma ED.\n",
    "\"\"\"\n",
    "\n",
    "def harmonicoED(n):\n",
    "    h = 0\n",
    "    for k in range(1,n+1):\n",
    "        h = h + 1/k\n",
    "    return h"
   ]
  },
  {
   "cell_type": "code",
   "execution_count": null,
   "metadata": {
    "ExecuteTime": {
     "end_time": "2021-10-24T20:15:10.153663Z",
     "start_time": "2021-10-24T20:15:10.139673Z"
    }
   },
   "outputs": [],
   "source": [
    "harmonicoDE(10),harmonicoDE(100),harmonicoED(10),harmonicoED(100)"
   ]
  },
  {
   "cell_type": "code",
   "execution_count": null,
   "metadata": {
    "ExecuteTime": {
     "end_time": "2021-10-24T20:15:10.200643Z",
     "start_time": "2021-10-24T20:15:10.186644Z"
    }
   },
   "outputs": [],
   "source": [
    "def fatorial(n):\n",
    "\n",
    "    fat = 1\n",
    "    while n >= 1:\n",
    "        fat = fat*n\n",
    "        n+=-1\n",
    "    return fat\n",
    "\n",
    "def num_euler(x,n):\n",
    "    \"\"\"\n",
    "    Calcula o numero de Euler elevado a x expandido até o grau n do polinomio de Taylor\n",
    "    \"\"\"\n",
    "    e = 0\n",
    "    for k in range(n+1):\n",
    "        e = e + (x**n)/fatorial(k)\n",
    "    return e"
   ]
  },
  {
   "cell_type": "code",
   "execution_count": null,
   "metadata": {
    "ExecuteTime": {
     "end_time": "2021-10-24T20:15:10.248609Z",
     "start_time": "2021-10-24T20:15:10.235618Z"
    }
   },
   "outputs": [],
   "source": [
    "num_euler(1,5)"
   ]
  },
  {
   "cell_type": "code",
   "execution_count": null,
   "metadata": {
    "ExecuteTime": {
     "end_time": "2021-10-24T20:18:26.960661Z",
     "start_time": "2021-10-24T20:18:26.949667Z"
    }
   },
   "outputs": [],
   "source": [
    "def arctan(x):\n",
    "    \"\"\"\n",
    "    que recebe o número real x∈[0,1] e devolve uma aproximação do arco tangente de x (em radianos) \n",
    "    através da série incluindo todos os termos da série\n",
    "    \"\"\"\n",
    "    at = x\n",
    "    ini = 1\n",
    "    k = 3\n",
    "    cnt = 1\n",
    "    while abs(ini) >= 0.0001 and cnt<=1000:\n",
    "        ini = ((-1)**cnt)*(x**k)/k\n",
    "        at = at + ini\n",
    "        k+=2\n",
    "        cnt+=1\n",
    "    return at"
   ]
  },
  {
   "cell_type": "code",
   "execution_count": null,
   "metadata": {
    "ExecuteTime": {
     "end_time": "2021-10-24T20:18:28.031402Z",
     "start_time": "2021-10-24T20:18:28.011396Z"
    }
   },
   "outputs": [],
   "source": [
    "def angulo_com_x(x,y):\n",
    "    if x == 0:\n",
    "        ang = 90\n",
    "    else:\n",
    "        if  abs(y/x) <= 1:\n",
    "            ang = 180*arctan(abs(y/x))/np.pi\n",
    "        else:\n",
    "            ang = 90 - 180*arctan(abs(x/y))/np.pi\n",
    "            \n",
    "    if x*y > 0:\n",
    "        if x < 0:\n",
    "            ang = 180 + ang\n",
    "    else:\n",
    "        if x < 0:\n",
    "            ang = 180 - ang\n",
    "        elif x > 0:\n",
    "            ang = 360 - ang\n",
    "            \n",
    "    return round(ang,0)"
   ]
  },
  {
   "cell_type": "code",
   "execution_count": null,
   "metadata": {
    "ExecuteTime": {
     "end_time": "2021-10-24T20:18:29.388295Z",
     "start_time": "2021-10-24T20:18:29.366309Z"
    }
   },
   "outputs": [],
   "source": [
    "angulos = [(0, 1),(2, 2),(1, 4),(5, 1),(-2,2),(-3,-2),(5,-4)]\n",
    "\n",
    "for k in angulos:\n",
    "    print(angulo_com_x(k[0],k[1]))"
   ]
  },
  {
   "cell_type": "code",
   "execution_count": null,
   "metadata": {
    "ExecuteTime": {
     "end_time": "2021-10-24T20:20:44.331791Z",
     "start_time": "2021-10-24T20:20:32.294836Z"
    }
   },
   "outputs": [],
   "source": [
    "t = turtle.Turtle()\n",
    "t1 = turtle.Turtle()\n",
    "for k in angulos:\n",
    "    t.goto(k)\n",
    "    print(t1.towards(t))\n",
    "\n",
    "    \n",
    "turtle.done()\n",
    "turtle.exitonclick()"
   ]
  },
  {
   "cell_type": "code",
   "execution_count": null,
   "metadata": {},
   "outputs": [],
   "source": [
    "def menor_angulo(lst):\n",
    "    menor = angulo_com_x(lst[0][0],lst[0][1])\n",
    "    ind = 0\n",
    "    for j,k in enumerate(lst):\n",
    "        ang = angulo_com_x(k[0],k[1])\n",
    "        if ang > menor:\n",
    "            menor = ang\n",
    "            ind = j\n",
    "            \n",
    "    return [j,lst[j]]"
   ]
  },
  {
   "cell_type": "code",
   "execution_count": null,
   "metadata": {},
   "outputs": [],
   "source": [
    "menor_angulo(angulos)"
   ]
  },
  {
   "cell_type": "code",
   "execution_count": null,
   "metadata": {
    "ExecuteTime": {
     "end_time": "2021-10-24T22:18:23.672597Z",
     "start_time": "2021-10-24T22:18:23.635618Z"
    }
   },
   "outputs": [],
   "source": [
    "arctan(4)"
   ]
  },
  {
   "cell_type": "code",
   "execution_count": null,
   "metadata": {},
   "outputs": [],
   "source": [
    "def divide(d, m, n):\n",
    "    \"\"\"\n",
    "    ecebe três inteiros positivos m, n, d, e retorna False, m, n caso d não for divisor de m ou n. \n",
    "    Caso contrário, função retorna True, \n",
    "    m’ e n’, onde m’=m/d caso m for múltiplo de d e m’ = m caso contrário, e n’=n/d caso n for múltiplo de d e n’ = n \n",
    "    caso contrário.\n",
    "    \"\"\"\n",
    "    if m % d != 0 and n % d != 0:\n",
    "        return False,m,n\n",
    "    else:\n",
    "        if m % d == 0:\n",
    "            m = m // d\n",
    "        if n % d == 0:\n",
    "            n = n // d\n",
    "        return True,m,n"
   ]
  },
  {
   "cell_type": "code",
   "execution_count": null,
   "metadata": {},
   "outputs": [],
   "source": [
    "divlist = [[2, 5, 15],[3, 7, 9],[3, 9, 21]]\n",
    "\n",
    "for k in divlist:\n",
    "    print(divide(k[0], k[1], k[2]))"
   ]
  },
  {
   "cell_type": "code",
   "execution_count": null,
   "metadata": {},
   "outputs": [],
   "source": [
    "def mmc(m,n):\n",
    "    k = True\n",
    "    d = 2\n",
    "    prod = 1\n",
    "    \n",
    "    while m != 1 or n != 1:\n",
    "    \n",
    "        k, m, n = divide(d, m, n)\n",
    "        if k:\n",
    "            prod = prod*d\n",
    "        print(prod)\n",
    "            \n",
    "        if not divide(d, m, n)[0]:\n",
    "            d+=1\n",
    "        \n",
    "    return prod"
   ]
  },
  {
   "cell_type": "code",
   "execution_count": null,
   "metadata": {
    "scrolled": true
   },
   "outputs": [],
   "source": [
    "mmc(15,25)"
   ]
  },
  {
   "cell_type": "code",
   "execution_count": null,
   "metadata": {},
   "outputs": [],
   "source": [
    "def insereSeNovo (nome, lista):\n",
    "    n = len(lista)\n",
    "    if nome not in lista:\n",
    "        lista.append(nome)\n",
    "        return n\n",
    "    else:\n",
    "        return lista.index(nome)\n",
    "    \n",
    "# Codigo para testar a sua funcao\n",
    "lista = [\"Ronaldo\", \"Romario\", \"Rivelino\"]\n",
    "pos = insereSeNovo(\"Romario\", lista)\n",
    "pos = insereSeNovo(\"Pele\", lista)\n",
    "pos = insereSeNovo(\"Rivelino\", lista)\n",
    "print(lista, \" que deve ser Ronaldo, Romario, Rivelino, Pele\")"
   ]
  },
  {
   "cell_type": "code",
   "execution_count": null,
   "metadata": {},
   "outputs": [],
   "source": [
    "def pos_atacadas(linha,coluna):\n",
    "    \"\"\"\n",
    "    recebe uma posição de xadrez (uma matriz 8x8 de caracteres) \n",
    "    contendo a psoição da rainhas e devolve uma lista das posição atacadas\n",
    "    \"\"\"\n",
    "    # linha = y Interpretando o tabuleiro como um sistema cartesiano\n",
    "    # coluna = as posições das linhas representam o y e as colunas o x\n",
    "    \n",
    "    atacadas = []\n",
    "    for k in range(8):\n",
    "        if k != coluna or k != linha:\n",
    "            atacadas.append([linha,k])\n",
    "            atacadas.append([k,coluna])\n",
    "    \n",
    "    for k in range(8):\n",
    "        if k != coluna:\n",
    "            eq1 = k + (linha - coluna)     # y = x + (y0-x0)\n",
    "            eq2 = (linha + coluna) - k     # y = -x + (y0+x0)\n",
    "\n",
    "            if eq1 >= 0 and eq1 < 8:                  # Reta que passa na posição coluna,linha m = 1\n",
    "                atacadas.append([eq1,k])               # y = x + (y0-x0)\n",
    "            if eq2 >= 0 and eq2 < 8:                  # Reta que passa na posição coluna,linha m = -1\n",
    "                atacadas.append([eq2,k])              # y = -x + (y0+x0)\n",
    "\n",
    "    return atacadas"
   ]
  },
  {
   "cell_type": "code",
   "execution_count": null,
   "metadata": {},
   "outputs": [],
   "source": [
    "def marque_atacadas(tab):\n",
    "    \"\"\"\n",
    "    recebe uma tabuleiro tab de xadrez (uma matriz 8x8 de caracteres) contendo rainhas (posições com R) \n",
    "    e marca as regiões atacadas com um X\n",
    "    \"\"\"\n",
    "    linha = [k.count(\"R\") for k in tab].index(1) # y Interpretando o tabuleiro como um sistema cartesiano\n",
    "    coluna = tab[linha].index(\"R\")               # as posições das linhas representam o y e as colunas o x\n",
    "    \n",
    "    atacadas = pos_atacadas(linha,coluna)\n",
    "        \n",
    "    tab_o = [row.copy() for row in tab] # Criando uma cópia do tabuleiro para evitar efeitos colaterais\n",
    "    \n",
    "    for i in range(8):\n",
    "        for j in range(8):\n",
    "            if [i,j] in atacadas:\n",
    "                tab_o[i][j] = \"X\"\n",
    "    \n",
    "    return tab_o"
   ]
  },
  {
   "cell_type": "code",
   "execution_count": null,
   "metadata": {},
   "outputs": [],
   "source": [
    "tabuleiro = [ list('        '),\n",
    "              list('        '),\n",
    "              list('        '),\n",
    "              list('   R    '),\n",
    "              list('        '),\n",
    "              list('        '),\n",
    "              list('        '),\n",
    "              list('        ') ]\n",
    "\n",
    "marque_atacadas(tabuleiro)"
   ]
  },
  {
   "cell_type": "code",
   "execution_count": null,
   "metadata": {},
   "outputs": [],
   "source": [
    "def cria_tab():\n",
    "    \"\"\"\n",
    "    Função que cria uma lista representando um tabuleiro vazio\n",
    "    \"\"\"\n",
    "    lin_h = list('+---+---+---+---+---+---+---+---+\\n')\n",
    "    peças = list('|   |   |   |   |   |   |   |   |\\n')\n",
    "    tab = []\n",
    "    for i in range(8):\n",
    "        tab.append(lin_h.copy())\n",
    "        tab.append(peças.copy())\n",
    "    tab.append(lin_h.copy())\n",
    "    return tab\n",
    "            \n",
    "\n",
    "def mark_pos(lst, string_in = \"R\"):\n",
    "    \"\"\"\n",
    "    Dado uma posição da rainha, cria um tabuleiro com moldura mostrando \n",
    "    a posição da peça indicada marcada com a string indicada e X as posições atacadas\n",
    "    \"\"\"\n",
    "\n",
    "    tab_mod = cria_tab() # Cria uma cópia do tabuleiro vazio\n",
    "    \n",
    "    atacadas = pos_atacadas(lst[0],lst[1])\n",
    "\n",
    "    for i in range(8):\n",
    "        for j in range(8):\n",
    "            if [i,j] == lst:\n",
    "                tab_mod[1+2*i][2+4*j] = string_in\n",
    "                \n",
    "            elif [i,j] in atacadas:\n",
    "                tab_mod[1+2*i][2+4*j] = \"X\"\n",
    "            else:\n",
    "                tab_mod[1+2*i][2+4*j] = \" \"\n",
    "    \n",
    "    tab_str = \"\"\n",
    "    for k in tab_mod:\n",
    "        tab_str = tab_str + \"\".join(k)\n",
    "    \n",
    "    return tab_str\n",
    "    \n",
    "print(mark_pos([3,3]))"
   ]
  },
  {
   "cell_type": "code",
   "execution_count": null,
   "metadata": {},
   "outputs": [],
   "source": [
    "print(mark_pos([4,3]))"
   ]
  },
  {
   "cell_type": "markdown",
   "metadata": {},
   "source": [
    "# POO - Programação Orientada a Objeto"
   ]
  },
  {
   "cell_type": "code",
   "execution_count": null,
   "metadata": {},
   "outputs": [],
   "source": [
    "class Carro:\n",
    "    pass"
   ]
  },
  {
   "cell_type": "code",
   "execution_count": null,
   "metadata": {},
   "outputs": [],
   "source": [
    "meu_carro = Carro()"
   ]
  },
  {
   "cell_type": "code",
   "execution_count": null,
   "metadata": {},
   "outputs": [],
   "source": [
    "meu_carro"
   ]
  },
  {
   "cell_type": "code",
   "execution_count": null,
   "metadata": {},
   "outputs": [],
   "source": [
    "carro_do_ime = Carro()"
   ]
  },
  {
   "cell_type": "markdown",
   "metadata": {},
   "source": [
    "## Criando Instâncias"
   ]
  },
  {
   "cell_type": "code",
   "execution_count": null,
   "metadata": {},
   "outputs": [],
   "source": [
    "meu_carro.ano = 1968\n",
    "meu_carro.modelo = 'Fusca'\n",
    "meu_carro.cor = 'Azul'"
   ]
  },
  {
   "cell_type": "code",
   "execution_count": null,
   "metadata": {},
   "outputs": [],
   "source": [
    "meu_carro.ano"
   ]
  },
  {
   "cell_type": "code",
   "execution_count": null,
   "metadata": {},
   "outputs": [],
   "source": [
    "carro_do_ime.ano = 1981\n",
    "carro_do_ime.modelo = 'Brasília'\n",
    "carro_do_ime.cor = 'Amarelo'"
   ]
  },
  {
   "cell_type": "markdown",
   "metadata": {},
   "source": [
    "## Método Construtor  \\__init__\n",
    "\n",
    "* all methods defined in a class that operate on objects of that class will have self as their first parameter. "
   ]
  },
  {
   "cell_type": "markdown",
   "metadata": {},
   "source": [
    "Funções vs. métodos <br>\n",
    "<font bold> Um método é um tipo específico de função - comporta-se como uma função e parece uma função, mas difere na forma como atua, e no seu estilo de invocação.<font bold>\n",
    "\n",
    "* Uma função não pertence a nenhum dado - recebe dados, pode criar novos dados e (geralmente) produz um resultado.*\n",
    "\n",
    "* Um método faz todas estas coisas, mas também é capaz de alterar o estado de uma entidade selecionada.*\n",
    "\n",
    "* Um método é propriedade dos dados para os quais trabalha, enquanto uma função é propriedade de todo o código.*"
   ]
  },
  {
   "cell_type": "code",
   "execution_count": null,
   "metadata": {
    "ExecuteTime": {
     "end_time": "2021-10-24T23:46:29.467134Z",
     "start_time": "2021-10-24T23:46:29.447148Z"
    }
   },
   "outputs": [],
   "source": [
    "class Carro:\n",
    "    def __init__(self,modelo,ano,cor):\n",
    "        self.modelo = modelo\n",
    "        self.ano = ano\n",
    "        self.cor = cor\n",
    "    def __str__(self):\n",
    "        return self.modelo +','+ self.cor +','+ self.ano"
   ]
  },
  {
   "cell_type": "code",
   "execution_count": null,
   "metadata": {
    "ExecuteTime": {
     "end_time": "2021-10-24T23:46:29.834924Z",
     "start_time": "2021-10-24T23:46:29.827934Z"
    }
   },
   "outputs": [],
   "source": [
    "meu_fusca = Carro('Fusca','1998','Branco')"
   ]
  },
  {
   "cell_type": "code",
   "execution_count": null,
   "metadata": {
    "ExecuteTime": {
     "end_time": "2021-10-24T23:46:31.037453Z",
     "start_time": "2021-10-24T23:46:31.024481Z"
    }
   },
   "outputs": [],
   "source": [
    "print(meu_fusca)"
   ]
  },
  {
   "cell_type": "code",
   "execution_count": null,
   "metadata": {},
   "outputs": [],
   "source": [
    "class operacoes:\n",
    "    \"\"\"\n",
    "    int,int -> float\n",
    "    \"\"\"\n",
    "    def __init__(self,a,b):\n",
    "        self.a = a\n",
    "        self.b = b\n",
    "        \n",
    "    def divisao(self):\n",
    "        return self.a/self.b"
   ]
  },
  {
   "cell_type": "code",
   "execution_count": null,
   "metadata": {},
   "outputs": [],
   "source": [
    "di = operacoes(1,2)"
   ]
  },
  {
   "cell_type": "code",
   "execution_count": null,
   "metadata": {},
   "outputs": [],
   "source": [
    "di.divisao()"
   ]
  },
  {
   "cell_type": "code",
   "execution_count": null,
   "metadata": {
    "ExecuteTime": {
     "end_time": "2021-10-24T23:42:02.450766Z",
     "start_time": "2021-10-24T23:42:02.438773Z"
    }
   },
   "outputs": [],
   "source": [
    "class Point:\n",
    "    \"\"\" Point class for representing and manipulating x,y coordinates. \"\"\"\n",
    "\n",
    "    def __init__(self, initX, initY):\n",
    "        \"\"\" Create a new point at the given coordinates. \"\"\"\n",
    "        self.x = initX\n",
    "        self.y = initY\n",
    "\n",
    "    def getX(self):\n",
    "        return self.x\n",
    "\n",
    "    def getY(self):\n",
    "        return self.y\n",
    "\n",
    "    def distanceFromOrigin(self):\n",
    "        return ((self.x ** 2) + (self.y ** 2)) ** 0.5\n",
    "\n",
    "    def __str__(self):\n",
    "        return \"x=\" + str(self.x) + \", y=\" + str(self.y)\n",
    "    \n",
    "    def halfway(self, target):\n",
    "        mx = (self.x + target.x) / 2\n",
    "        my = (self.y + target.y) / 2\n",
    "        return Point(mx, my)\n",
    "    \n",
    "    def distanceFromPoint(self,target):\n",
    "        '''\n",
    "        Método para calcular a distancia entre dois pontos\n",
    "        '''\n",
    "        return (((self.x - target.x)** 2) + ((self.y -target.y)** 2)) ** 0.5\n",
    "    \n",
    "    def reflect_x(self):\n",
    "        '''\n",
    "        Método espelhar um ponto em relação ao eixo x\n",
    "        '''\n",
    "        return Point(self.x, -self.y)\n",
    "    \n",
    "    def slope_from_origin(self):\n",
    "        '''\n",
    "        returns the slope of the line joining the origin to the point\n",
    "        '''\n",
    "        return self.y/self.x\n",
    "    \n",
    "    def get_line_to(self,target):\n",
    "        '''\n",
    "        Retorna uma tupla com coeficiente angular e ponto de interseção no eixo y \n",
    "        que definem uma reta que liga os dois pontos\n",
    "        '''\n",
    "        if self.__str__() == target.__str__():\n",
    "            return None\n",
    "        \n",
    "        else:\n",
    "            if (target.x - self.x) != 0:\n",
    "                m = (target.y - self.y)/(target.x - self.x)\n",
    "                b = self.y - m*self.x\n",
    "            else:\n",
    "                m = 0\n",
    "        \n",
    "        return m,self.y\n",
    "    \n",
    "    def move(self,dx,dy):\n",
    "        self.x = self.x + dx\n",
    "        self.y = self.y + dy\n",
    "        \n",
    "    def circle(self,p1,p2):\n",
    "        '''\n",
    "        Given three points that fall on the circumference of a circle, find the center and radius of the circle.\n",
    "        '''\n",
    "        if self.get_line_to(p1) == self.get_line_to(p2) or self.get_line_to(p1) == None or self.get_line_to(p2) == None:\n",
    "            return None\n",
    "        \n",
    "        else:\n",
    "            p01 = self.halfway(p1)           # Calcula o ponto médio entre o ponto inicial e o primeiro ponto\n",
    "            m01 = self.get_line_to(p1)[0]    # Calcula o coeficiente da reta que liga o ponto 0 ao 1\n",
    "\n",
    "            p02 = self.halfway(p2)            # Calcula o ponto médio entre o ponto inicial e o primeiro ponto\n",
    "            m02 = self.get_line_to(p2)[0]     # Calcula o coeficiente da reta que liga o ponto 0 ao 1\n",
    "            \n",
    "            if m01 == 0:\n",
    "                b02 = p02.y + p02.x/m02\n",
    "                x12 = p01.x             # Ponto de encontro das mediatrizes em x (Centro da circunferencia)\n",
    "                y12 = b02 - x12/m02\n",
    "                \n",
    "            elif m02 == 0:\n",
    "                b01 = p01.y + p01.x/m01\n",
    "                x12 = p02.x              # Ponto de encontro das mediatrizes em x (Centro da circunferencia)\n",
    "                y12 = b01 - x12/m01\n",
    "                \n",
    "            else:\n",
    "                b01 = p01.y + p01.x/m01\n",
    "                b02 = p02.y + p02.x/m02\n",
    "                x12 = (b02 - b01)/(1/m02 - 1/m01) # Ponto de encontro das mediatrizes em y (Centro da circunferencia)\n",
    "                y12 = b01 - x12/m01\n",
    "                \n",
    "            c = Point(x12,y12)\n",
    "            r = self.distanceFromPoint(c)  # Raio da circunferência\n",
    "\n",
    "            return (x12,y12,r)\n",
    "    \n",
    "p = Point(7, 6)\n",
    "print(p)"
   ]
  },
  {
   "cell_type": "code",
   "execution_count": null,
   "metadata": {},
   "outputs": [],
   "source": [
    "math.hypot(1,2,3,4)"
   ]
  },
  {
   "cell_type": "code",
   "execution_count": null,
   "metadata": {},
   "outputs": [],
   "source": [
    "math.sqrt(1**2 + 2**2 + 3**2 + 4**2)"
   ]
  },
  {
   "cell_type": "code",
   "execution_count": null,
   "metadata": {},
   "outputs": [],
   "source": [
    "math.hypot(1-3,2-4), math.hypot(1-2,3-4)"
   ]
  },
  {
   "cell_type": "code",
   "execution_count": null,
   "metadata": {},
   "outputs": [],
   "source": [
    "pt = Point(7, 6)\n",
    "pw = Point(7, 6)"
   ]
  },
  {
   "cell_type": "code",
   "execution_count": null,
   "metadata": {},
   "outputs": [],
   "source": [
    "pt.__str__() == pw.__str__()"
   ]
  },
  {
   "cell_type": "code",
   "execution_count": null,
   "metadata": {},
   "outputs": [],
   "source": [
    "pt == pw"
   ]
  },
  {
   "cell_type": "code",
   "execution_count": null,
   "metadata": {},
   "outputs": [],
   "source": [
    "print(Point(3, 5).reflect_x())"
   ]
  },
  {
   "cell_type": "code",
   "execution_count": null,
   "metadata": {},
   "outputs": [],
   "source": [
    "print(Point(4, 10).slope_from_origin())"
   ]
  },
  {
   "cell_type": "code",
   "execution_count": null,
   "metadata": {},
   "outputs": [],
   "source": [
    "print(Point(4, 11).get_line_to(Point(6, 15)))"
   ]
  },
  {
   "cell_type": "code",
   "execution_count": null,
   "metadata": {},
   "outputs": [],
   "source": [
    "print(Point(3, 15).get_line_to(Point(4, 15)))"
   ]
  },
  {
   "cell_type": "code",
   "execution_count": null,
   "metadata": {},
   "outputs": [],
   "source": [
    "p.move(2,3)\n",
    "print(p)"
   ]
  },
  {
   "cell_type": "code",
   "execution_count": null,
   "metadata": {},
   "outputs": [],
   "source": [
    "p0 = Point(2,3)\n",
    "p2 = Point(1,3)\n",
    "p1 = Point(5,4)"
   ]
  },
  {
   "cell_type": "code",
   "execution_count": null,
   "metadata": {},
   "outputs": [],
   "source": [
    "print(p0.circle(p1,p2))"
   ]
  },
  {
   "cell_type": "code",
   "execution_count": null,
   "metadata": {},
   "outputs": [],
   "source": [
    "import math\n",
    "\"\"\" Point class for representing and manipulating x,y coordinates. \"\"\"\n",
    "\n",
    "class Point:\n",
    "    def __init__(self, x=0.0, y=0.0):\n",
    "        \"\"\" Create a new point at the given coordinates. \"\"\"\n",
    "        self.x = x\n",
    "        self.y = y\n",
    "        \n",
    "    def __str__(self):\n",
    "         return str((self.x,self.y))\n",
    "        \n",
    "    def getx(self):\n",
    "         return self.x\n",
    "\n",
    "    def gety(self):\n",
    "        return self.y\n",
    "\n",
    "    def distance_from_xy(self, x, y):\n",
    "        return math.hypot(x-self.x,y-self.y)\n",
    "\n",
    "    def distance_from_point(self, point):\n",
    "        return math.hypot(point.x-self.x,point.y-self.y)\n",
    "\n",
    "point1 = Point(0, 0)\n",
    "point2 = Point(1, 1)\n",
    "print(point1.distance_from_point(point2))\n",
    "print(point2.distance_from_xy(2, 0))"
   ]
  },
  {
   "cell_type": "code",
   "execution_count": null,
   "metadata": {},
   "outputs": [],
   "source": [
    "print(point2)"
   ]
  },
  {
   "cell_type": "code",
   "execution_count": null,
   "metadata": {},
   "outputs": [],
   "source": [
    "point1.__dict__"
   ]
  },
  {
   "cell_type": "code",
   "execution_count": null,
   "metadata": {},
   "outputs": [],
   "source": [
    "class Triangle:\n",
    "    def __init__(self, vertice1, vertice2, vertice3):\n",
    "        self.vertice1 = vertice1\n",
    "        self.vertice2 = vertice2\n",
    "        self.vertice3 = vertice3\n",
    "\n",
    "    def perimeter(self):\n",
    "        d12 = self.vertice1.distance_from_point(self.vertice2)\n",
    "        d23 = self.vertice2.distance_from_point(self.vertice3)\n",
    "        d31 = self.vertice3.distance_from_point(self.vertice1)\n",
    "        return d12 + d23 + d31\n",
    "\n",
    "\n",
    "triangle = Triangle(Point(0, 0), Point(1, 0), Point(0, 1))\n",
    "print(triangle.perimeter())"
   ]
  },
  {
   "cell_type": "code",
   "execution_count": null,
   "metadata": {},
   "outputs": [],
   "source": [
    "triangle.__dict__"
   ]
  },
  {
   "cell_type": "markdown",
   "metadata": {},
   "source": [
    "## Inheritance (Legado, Herança)"
   ]
  },
  {
   "cell_type": "code",
   "execution_count": null,
   "metadata": {},
   "outputs": [],
   "source": [
    "class LabeledPoint(Point):\n",
    "\n",
    "    def __init__(self, initX, initY, label = 'Here'):\n",
    "        self.x = initX\n",
    "        self.y = initY\n",
    "        self.label = label\n",
    "\n",
    "    def __str__(self):\n",
    "        return \"x=\" + str(self.x) + \", y=\" + str(self.y) + \" (\" + self.label + \")\"\n",
    "\n",
    "labeledPt = LabeledPoint(7,6,\"Teste\")\n",
    "print(labeledPt)"
   ]
  },
  {
   "cell_type": "code",
   "execution_count": null,
   "metadata": {},
   "outputs": [],
   "source": [
    "p = LabeledPoint(7,6)\n",
    "dist = p.distanceFromOrigin()\n",
    "dist"
   ]
  },
  {
   "cell_type": "code",
   "execution_count": null,
   "metadata": {},
   "outputs": [],
   "source": [
    "pt = Point(5,10)\n",
    "labeledPt = LabeledPoint(7, 6, \"Lah\")\n",
    "\n",
    "ptStr = str(pt)\n",
    "labeledPtStr = str(labeledPt)\n",
    "print(pt)\n",
    "print(labeledPt)"
   ]
  },
  {
   "cell_type": "code",
   "execution_count": null,
   "metadata": {},
   "outputs": [],
   "source": [
    "class Rectangle:\n",
    "    def __init__(self,ponto,lx,ly):\n",
    "        self.ponto = ponto\n",
    "        self.lx = lx\n",
    "        self.ly = ly\n",
    "        \n",
    "    def __str__(self):\n",
    "        return '('+ str(self.ponto.__str__()) +')'+ str((self.lx,self.ly))\n",
    "    \n",
    "    def getWidth(self):\n",
    "        return self.lx\n",
    "    \n",
    "    def getHeight(self):\n",
    "        return self.ly\n",
    "    \n",
    "    def area(self):\n",
    "        return self.lx * self.ly\n",
    "    \n",
    "    def perimeter(self):\n",
    "        return 2*(self.lx + self.ly)\n",
    "\n",
    "    def transpose(self):\n",
    "        self.lx , self.ly = self.ly, self.lx\n",
    "    \n",
    "    def contains(self,ponto_in):\n",
    "        return  ((ponto_in.x >= self.ponto.x) and \n",
    "                 (ponto_in.x < (self.ponto.x + self.lx)) and\n",
    "                 (ponto_in.y >= self.ponto.y) and\n",
    "                 (ponto_in.y < (self.ponto.y + self.ly)))\n",
    "\n",
    "    def diagonal(self):\n",
    "        return (self.lx**2 + self.ly**2)**0.5\n",
    "    \n",
    "    def vertice(self):\n",
    "        p1 = Point(self.ponto.x + self.lx,self.ponto.y)\n",
    "        p2 = Point(self.ponto.x + self.lx,self.ponto.y + self.ly)\n",
    "        p3 = Point(self.ponto.x,self.ponto.y + self.ly)\n",
    "        \n",
    "        return self.ponto,p1,p2,p3\n",
    "        \n",
    "    def Is_intersetion(self,rect_in):\n",
    "        \n",
    "        lst_1 = [rect_in.contains(k) for k in self.vertice()]\n",
    "        lst_2 = [self.contains(k) for k in rect_in.vertice()]\n",
    "        \n",
    "        return any(lst_1 + lst_2)"
   ]
  },
  {
   "cell_type": "code",
   "execution_count": null,
   "metadata": {},
   "outputs": [],
   "source": [
    "any([False,False,True,False])"
   ]
  },
  {
   "cell_type": "code",
   "execution_count": null,
   "metadata": {},
   "outputs": [],
   "source": [
    "any([False,False,False,False])"
   ]
  },
  {
   "cell_type": "code",
   "execution_count": null,
   "metadata": {},
   "outputs": [],
   "source": [
    "any([False,False,False,False])"
   ]
  },
  {
   "cell_type": "code",
   "execution_count": null,
   "metadata": {},
   "outputs": [],
   "source": [
    "ret = Rectangle(Point(1,2),3,4)\n",
    "print(ret)"
   ]
  },
  {
   "cell_type": "code",
   "execution_count": null,
   "metadata": {},
   "outputs": [],
   "source": [
    "ret.getWidth(),ret.getHeight()"
   ]
  },
  {
   "cell_type": "code",
   "execution_count": null,
   "metadata": {},
   "outputs": [],
   "source": [
    "r = Rectangle(Point(0, 0), 10, 5)\n",
    "r.area()"
   ]
  },
  {
   "cell_type": "code",
   "execution_count": null,
   "metadata": {},
   "outputs": [],
   "source": [
    "r.perimeter()"
   ]
  },
  {
   "cell_type": "code",
   "execution_count": null,
   "metadata": {},
   "outputs": [],
   "source": [
    "r.getHeight(),r.getWidth()"
   ]
  },
  {
   "cell_type": "code",
   "execution_count": null,
   "metadata": {},
   "outputs": [],
   "source": [
    "r.diagonal()"
   ]
  },
  {
   "cell_type": "code",
   "execution_count": null,
   "metadata": {},
   "outputs": [],
   "source": [
    "r.transpose()"
   ]
  },
  {
   "cell_type": "code",
   "execution_count": null,
   "metadata": {},
   "outputs": [],
   "source": [
    "r.getHeight(),r.getWidth()"
   ]
  },
  {
   "cell_type": "code",
   "execution_count": null,
   "metadata": {},
   "outputs": [],
   "source": [
    "r.diagonal()"
   ]
  },
  {
   "cell_type": "code",
   "execution_count": null,
   "metadata": {},
   "outputs": [],
   "source": [
    "r = Rectangle(Point(0, 0), 10, 5)\n",
    "print(r.contains(Point(0, 0)), True)\n",
    "print(r.contains(Point(3, 3)), True)\n",
    "print(r.contains(Point(3, 7)), False)\n",
    "print(r.contains(Point(3, 5)), False)\n",
    "print(r.contains(Point(3, 4.99999)), True)\n",
    "print(r.contains(Point(-3, -3)), False)"
   ]
  },
  {
   "cell_type": "code",
   "execution_count": null,
   "metadata": {},
   "outputs": [],
   "source": [
    "'''\n",
    "determine whether two rectangles collide\n",
    "'''\n",
    "r1 = Rectangle(Point(0, 0), 10, 5)\n",
    "r2 = Rectangle(Point(5, 4), 5, 5)"
   ]
  },
  {
   "cell_type": "code",
   "execution_count": null,
   "metadata": {},
   "outputs": [],
   "source": [
    "r1.Is_intersetion(r2)"
   ]
  },
  {
   "cell_type": "markdown",
   "metadata": {},
   "source": [
    "## Extending"
   ]
  },
  {
   "cell_type": "code",
   "execution_count": null,
   "metadata": {},
   "outputs": [],
   "source": [
    "class LabeledPoint(Point):\n",
    "\n",
    "    def __init__(self, initX, initY, label):\n",
    "        super().__init__(initX, initY)\n",
    "        self.label = label"
   ]
  },
  {
   "cell_type": "code",
   "execution_count": null,
   "metadata": {},
   "outputs": [],
   "source": [
    "class Complexo:\n",
    "    '''\n",
    "    permita representar números complexos e ao menos os métodos\n",
    "    '''\n",
    "    def __init__(self,a,b):\n",
    "        self.a = a    \n",
    "        self.b = b\n",
    "        \n",
    "    def __str__(self):\n",
    "        if self.b > 0:\n",
    "            sig = '+'\n",
    "        else:\n",
    "            sig = ''\n",
    "        return f'{self.a}{self.b:+}i'\n",
    "    \n",
    "    def __add__(self,x):\n",
    "        return Complexo(self.a + x.a, self.b + x.b)\n",
    "    \n",
    "    def __mul__(self, x):\n",
    "        return Complexo(self.a*x.a - self.b*x.b, self.a*x.b + self.b*x.a)"
   ]
  },
  {
   "cell_type": "code",
   "execution_count": null,
   "metadata": {},
   "outputs": [],
   "source": [
    "c = Complexo(-1,1)"
   ]
  },
  {
   "cell_type": "code",
   "execution_count": null,
   "metadata": {},
   "outputs": [],
   "source": [
    "print(c)"
   ]
  },
  {
   "cell_type": "code",
   "execution_count": null,
   "metadata": {},
   "outputs": [],
   "source": [
    "a = Complexo(2.5,2.7)\n",
    "b = Complexo(2.37,-3.58)\n",
    "print(a+b)"
   ]
  },
  {
   "cell_type": "code",
   "execution_count": null,
   "metadata": {},
   "outputs": [],
   "source": [
    "print(a*b)"
   ]
  },
  {
   "cell_type": "code",
   "execution_count": null,
   "metadata": {},
   "outputs": [],
   "source": [
    "complex(2.5,2.7)*complex(2.37,-3.58)"
   ]
  },
  {
   "cell_type": "code",
   "execution_count": null,
   "metadata": {},
   "outputs": [],
   "source": [
    "class Racional:\n",
    "    def __init__(self, n=0, d=1):\n",
    "        mdc = mdc_eu(n,d)\n",
    "        self.num = n//mdc\n",
    "        self.den = d//mdc\n",
    "\n",
    "    def __str__(self):\n",
    "        if self.den != 1:\n",
    "            return \"%d/%d\"%(self.num, self.den)\n",
    "        else:\n",
    "            return f'{self.num}'\n",
    "    \n",
    "    def put(self, n=0, d=1):\n",
    "        self.num, self.den = n, d\n",
    "\n",
    "    def mul(self, other):\n",
    "        n = self.num * other.num\n",
    "        d = self.den * other.den\n",
    "        return Racional(n, d)\n",
    "    \n",
    "    def __add__(self, other):\n",
    "        n = self.num * other.den + self.den * other.num\n",
    "        d = self.den * other.den\n",
    "        return Racional(n, d)\n",
    "    \n",
    "    def __sub__(self, other):\n",
    "        n = self.num * other.den - self.den * other.num\n",
    "        d = self.den * other.den\n",
    "        return Racional(n, d)  \n",
    "    \n",
    "    def __truediv__(self, other):\n",
    "        n = self.num * other.den\n",
    "        d = self.den * other.num\n",
    "        return Racional(n, d)\n",
    "\n",
    "# testes\n",
    "r1 = Racional()\n",
    "r2 = Racional(4)\n",
    "r3 = Racional(3,2)\n",
    "print(r1)\n",
    "print(r2)\n",
    "print(r3)\n",
    "print(Racional(12,20))"
   ]
  },
  {
   "cell_type": "code",
   "execution_count": null,
   "metadata": {},
   "outputs": [],
   "source": [
    "print(Racional(3,2)-Racional(5,2))"
   ]
  },
  {
   "cell_type": "code",
   "execution_count": null,
   "metadata": {},
   "outputs": [],
   "source": [
    "mdc_eu(-5,2)"
   ]
  },
  {
   "cell_type": "code",
   "execution_count": null,
   "metadata": {},
   "outputs": [],
   "source": [
    "print(Racional(3,2)/Racional(5,2))"
   ]
  },
  {
   "cell_type": "code",
   "execution_count": null,
   "metadata": {},
   "outputs": [],
   "source": [
    "def main():\n",
    "    # modifique o codigo para incluir o calculo de DE\n",
    "    # e verifique se o resultado é diferente de ED usando\n",
    "    # soma de reais e soma de racionais.\n",
    "\n",
    "    n = 50\n",
    "    soma_ed = 0\n",
    "    soma_ed_rac = Racional()\n",
    "\n",
    "    for i in range(1, n+1):\n",
    "        soma_ed = soma_ed + 1/i\n",
    "        soma_ed_rac = soma_ed_rac + Racional(1, i)\n",
    "\n",
    "    print(\"Soma ED:          \", soma_ed)\n",
    "    print(\"Soma ED racional: \", soma_ed_rac)\n",
    "    print(\"                = \", soma_ed_rac.num/soma_ed_rac.den)\n",
    "    \n",
    "    \n",
    "    ######\n",
    "    soma_de = 0\n",
    "    soma_de_rac = Racional()\n",
    "    \n",
    "    for i in range(1, n+1):\n",
    "        soma_de += 1/(n+1-i)\n",
    "        soma_de_rac += Racional(1, i)\n",
    "\n",
    "    print(\"Soma DE:          \", soma_de)\n",
    "    print(\"Soma DE racional: \", soma_de_rac)\n",
    "    print(\"                = \", soma_de_rac.num/soma_de_rac.den)"
   ]
  },
  {
   "cell_type": "code",
   "execution_count": null,
   "metadata": {},
   "outputs": [],
   "source": [
    "main()"
   ]
  },
  {
   "cell_type": "code",
   "execution_count": null,
   "metadata": {},
   "outputs": [],
   "source": [
    "class Ponto3d:\n",
    "    \"\"\" Point class for representing and manipulating x,y coordinates. \"\"\"\n",
    "\n",
    "    def __init__(self, initX, initY, initZ):\n",
    "        \"\"\" Create a new point at the given coordinates. \"\"\"\n",
    "        self.x = initX\n",
    "        self.y = initY\n",
    "        self.z = initZ\n",
    "\n",
    "    def getX(self):\n",
    "        return self.x\n",
    "\n",
    "    def getY(self):\n",
    "        return self.y\n",
    "\n",
    "    def distanceFromOrigin(self):\n",
    "        return ((self.x ** 2) + (self.y ** 2) + (self.z ** 2)) ** 0.5\n",
    "\n",
    "    def __str__(self):\n",
    "        return \"x=\" + str(self.x) + \", y=\" + str(self.y)+\", z=\" + str(self.z)\n",
    "    \n",
    "    def halfway(self, target):\n",
    "        mx = (self.x + target.x) / 2\n",
    "        my = (self.y + target.y) / 2\n",
    "        mz = (self.z + target.z) / 2\n",
    "        return Point(mx, my, mz)\n",
    "    \n",
    "    def distanceFromPoint(self,target):\n",
    "        '''\n",
    "        Método para calcular a distancia entre dois pontos\n",
    "        '''\n",
    "        return (((self.x - target.x)** 2) + ((self.y -target.y)** 2) ++ ((self.z -target.z)** 2)) ** 0.5\n",
    "    \n",
    "    \n",
    "    def move(self,dx,dy,dz):\n",
    "        self.x = self.x + dx\n",
    "        self.y = self.y + dy\n",
    "        self.z = self.z + dz\n",
    "        \n",
    "    \n",
    "p = Ponto3d(7, 6, 3)\n",
    "print(p)"
   ]
  },
  {
   "cell_type": "code",
   "execution_count": null,
   "metadata": {},
   "outputs": [],
   "source": [
    "def main():\n",
    "    # programa de teste da classe Balde\n",
    "    balde = Balde(10)\n",
    "    d1 = balde.deposita(3)\n",
    "    d2 = balde.deposita(4)\n",
    "    print(balde)\n",
    "    d3 = balde.deposita(5)\n",
    "    print(balde)\n",
    "    print(d1, d2, d3)\n",
    "    balde.deposita(5)\n",
    "    print(balde.derramado)\n",
    "\n",
    "class Balde:\n",
    "    def __init__(self, cap):\n",
    "        self.capacidade = cap\n",
    "        self.volume     = 0\n",
    "        self.derramado  = 0\n",
    "        self.cheio      = False\n",
    "\n",
    "    def __str__(self):\n",
    "        if self.cheio:\n",
    "            return f'*{self.volume}*'\n",
    "        else:\n",
    "            return f'[{self.volume}]*'\n",
    "\n",
    "    def deposita(self, vol):\n",
    "        self.volume += vol\n",
    "        if self.volume >= self.capacidade:\n",
    "            self.derramado = self.derramado + (self.volume-self.capacidade)\n",
    "            self.volume = self.capacidade\n",
    "            self.cheio      = True\n",
    "         \n",
    "        if self.volume >= self.capacidade/2 and self.volume < self.capacidade:\n",
    "            print(\"Volume do reservatório acima da metade\")\n",
    "        return self.volume\n",
    "    \n",
    "main()"
   ]
  },
  {
   "cell_type": "code",
   "execution_count": null,
   "metadata": {
    "ExecuteTime": {
     "end_time": "2021-10-11T16:18:21.924832Z",
     "start_time": "2021-10-11T16:18:21.902846Z"
    }
   },
   "outputs": [],
   "source": [
    "class Pilha:\n",
    "    def __init__(self):\n",
    "        self.items = []\n",
    "    \n",
    "    def __str__(self):\n",
    "        return str(self.items)\n",
    "\n",
    "    def isEmpty(self):\n",
    "        return self.items == []\n",
    "\n",
    "    def push(self, item):\n",
    "        self.items.append(item)\n",
    "\n",
    "    def pop(self):\n",
    "        return self.items.pop()\n",
    "\n",
    "    def peek(self):\n",
    "        return self.items[len(self.items)-1]\n",
    "\n",
    "    def size(self):\n",
    "        return len(self.items)\n",
    "\n",
    "    def elementos(self):\n",
    "        return self.items"
   ]
  },
  {
   "cell_type": "code",
   "execution_count": null,
   "metadata": {},
   "outputs": [],
   "source": [
    "pp = Pilha()\n",
    "\n",
    "pp.push(1)\n",
    "pp.push(5)\n",
    "pp.push(7)\n",
    "pp.push(13)\n",
    "pp.push(12)\n",
    "pp.pop()\n",
    "pp.push(17)\n",
    "pp.pop()\n",
    "\n",
    "print(pp.peek())"
   ]
  },
  {
   "cell_type": "code",
   "execution_count": null,
   "metadata": {},
   "outputs": [],
   "source": [
    "pp.elementos()"
   ]
  },
  {
   "cell_type": "code",
   "execution_count": null,
   "metadata": {},
   "outputs": [],
   "source": [
    "print(pp)"
   ]
  },
  {
   "cell_type": "code",
   "execution_count": null,
   "metadata": {
    "ExecuteTime": {
     "end_time": "2021-10-11T16:24:52.311067Z",
     "start_time": "2021-10-11T16:24:52.287081Z"
    }
   },
   "outputs": [],
   "source": [
    "def caracteres_xcy(s):\n",
    "    x = Pilha()\n",
    "    n = len(s)\n",
    "    \n",
    "    for k in range(n):\n",
    "        if s[k] not in 'ABC':\n",
    "            print('A sequência não é valida (tem caracteres diferentes de A,B e C')\n",
    "            return False\n",
    "\n",
    "        if k < n // 2:      \n",
    "            x.push(s[k])\n",
    "        elif k > n // 2:\n",
    "            if s[k] == x.peek():\n",
    "                x.pop()\n",
    "        else:\n",
    "            if s[k] != 'C':\n",
    "                return False             \n",
    "                \n",
    "    if x.isEmpty():\n",
    "        print('Y é o inverso de X')\n",
    "        return True\n",
    "    else:\n",
    "        return False"
   ]
  },
  {
   "cell_type": "code",
   "execution_count": null,
   "metadata": {
    "ExecuteTime": {
     "end_time": "2021-10-11T16:29:01.779681Z",
     "start_time": "2021-10-11T16:29:01.773685Z"
    }
   },
   "outputs": [],
   "source": [
    "caracteres_xcy('ABBABCBABBB')"
   ]
  },
  {
   "cell_type": "code",
   "execution_count": null,
   "metadata": {},
   "outputs": [],
   "source": [
    "import pytest\n",
    "\n",
    "\n",
    "@pytest.mark.parametrize(\"test_input,expected\", [(\"3+5\", 8), (\"2+4\", 6), (\"6*9\", 42)])\n",
    "def test_eval(test_input, expected):\n",
    "    assert eval(test_input) == expected"
   ]
  },
  {
   "cell_type": "code",
   "execution_count": null,
   "metadata": {},
   "outputs": [],
   "source": [
    "eval('55+2*2.5')"
   ]
  },
  {
   "cell_type": "code",
   "execution_count": null,
   "metadata": {},
   "outputs": [],
   "source": [
    "class Triangulo:\n",
    "    \n",
    "    def __init__(self,a,b,c):\n",
    "        self.a = a\n",
    "        self.b = b\n",
    "        self.c = c\n",
    "        \n",
    "    def perimetro(self):\n",
    "        return self.a + self.b + self.c\n",
    "    \n",
    "    def tipo_lado(self):\n",
    "        if self.a == self.b and self.a == self.c:\n",
    "            return 'equilátero'\n",
    "        elif self.a == self.b or self.a == self.c or self.b == self.c:\n",
    "            return 'isósceles'\n",
    "        else:\n",
    "            return 'escaleno'\n",
    "        \n",
    "    def retangulo(self):\n",
    "        l1,l2,hp = sorted([self.a,self.b,self.c])\n",
    "        return abs(hp**2 - l1**2 - l2**2) < 0.000001\n",
    "    \n",
    "    def semelhantes(self,t):\n",
    "        l1,l2,hp = sorted([self.a,self.b,self.c])\n",
    "        l12,l22,hp2 = sorted([t.a,t.b,t.c])\n",
    "        return (hp/hp2) == (l1/l12) == (l2/l22)"
   ]
  },
  {
   "cell_type": "code",
   "execution_count": null,
   "metadata": {},
   "outputs": [],
   "source": [
    "t = Triangulo(1, 1, 1)"
   ]
  },
  {
   "cell_type": "code",
   "execution_count": null,
   "metadata": {},
   "outputs": [],
   "source": [
    "t.a"
   ]
  },
  {
   "cell_type": "code",
   "execution_count": null,
   "metadata": {},
   "outputs": [],
   "source": [
    "t.b"
   ]
  },
  {
   "cell_type": "code",
   "execution_count": null,
   "metadata": {},
   "outputs": [],
   "source": [
    "t.c"
   ]
  },
  {
   "cell_type": "code",
   "execution_count": null,
   "metadata": {},
   "outputs": [],
   "source": [
    "t.perimetro()"
   ]
  },
  {
   "cell_type": "code",
   "execution_count": null,
   "metadata": {},
   "outputs": [],
   "source": [
    "t = Triangulo(4, 4, 4)\n",
    "t.tipo_lado()"
   ]
  },
  {
   "cell_type": "code",
   "execution_count": null,
   "metadata": {},
   "outputs": [],
   "source": [
    "u = Triangulo(3, 4, 5)\n",
    "u.tipo_lado()"
   ]
  },
  {
   "cell_type": "code",
   "execution_count": null,
   "metadata": {},
   "outputs": [],
   "source": [
    "t = Triangulo(1, 3, 5)\n",
    "t.retangulo()"
   ]
  },
  {
   "cell_type": "code",
   "execution_count": null,
   "metadata": {},
   "outputs": [],
   "source": [
    "u = Triangulo(3, 4, 5)\n",
    "u.retangulo()"
   ]
  },
  {
   "cell_type": "code",
   "execution_count": null,
   "metadata": {},
   "outputs": [],
   "source": [
    "t1 = Triangulo(2, 3, 5)\n",
    "t2 = Triangulo(4, 6, 10)\n",
    "t1.semelhantes(t2)"
   ]
  },
  {
   "cell_type": "code",
   "execution_count": null,
   "metadata": {},
   "outputs": [],
   "source": [
    "d,e,f = {4, 6, 10}"
   ]
  },
  {
   "cell_type": "code",
   "execution_count": null,
   "metadata": {},
   "outputs": [],
   "source": [
    "d"
   ]
  },
  {
   "cell_type": "code",
   "execution_count": null,
   "metadata": {},
   "outputs": [],
   "source": [
    "e"
   ]
  },
  {
   "cell_type": "code",
   "execution_count": null,
   "metadata": {},
   "outputs": [],
   "source": [
    "f"
   ]
  },
  {
   "cell_type": "code",
   "execution_count": null,
   "metadata": {},
   "outputs": [],
   "source": [
    "x,y,z = sorted([6,10,4])"
   ]
  },
  {
   "cell_type": "code",
   "execution_count": null,
   "metadata": {},
   "outputs": [],
   "source": [
    "x"
   ]
  },
  {
   "cell_type": "code",
   "execution_count": null,
   "metadata": {},
   "outputs": [],
   "source": [
    "y"
   ]
  },
  {
   "cell_type": "code",
   "execution_count": null,
   "metadata": {},
   "outputs": [],
   "source": [
    "z"
   ]
  },
  {
   "cell_type": "code",
   "execution_count": null,
   "metadata": {},
   "outputs": [],
   "source": [
    "\"\"\"\n",
    "A library book.\n",
    "\"\"\"\n",
    "class LibraryBook(object):\n",
    "    \"\"\"\n",
    "    A library book.\n",
    "    \"\"\"\n",
    "         \n",
    "    def __init__(self, title, author, pub_year, call_no):\n",
    "        self.title = title\n",
    "        self.author = author\n",
    "        self.year = pub_year\n",
    "        self.call_number = call_no\n",
    "    \n",
    "    \"\"\"\n",
    "    Methods for LibraryBook\n",
    "    \"\"\"  \n",
    "\n",
    "    # Returns the title and author information of the book as a string\n",
    "    def title_and_author(self):\n",
    "        return \"{} {}: {}\".format(self.author[1], self.author[0], self.title) \n",
    "    \n",
    "    # Prints all information associated with a book in this format\n",
    "    def __str__(self): #make sure that __str__ returns a string!\n",
    "        return \"{} {} ({}): {}\".format(self.author[1], self.author[0], self.year, self.title) \n",
    "\n",
    "    # Returns a string representation of the book with it' title and call_number   \n",
    "    def __repr__(self): \n",
    "        return \"<Book: {} ({})>\".format(self.title, self.call_number)"
   ]
  },
  {
   "cell_type": "code",
   "execution_count": null,
   "metadata": {},
   "outputs": [],
   "source": [
    "testcls = LibraryBook(\"Memórias Póstumas de Bras Cubas\",(\"Machado\",\" de Assis\"),1811,125)"
   ]
  },
  {
   "cell_type": "code",
   "execution_count": null,
   "metadata": {},
   "outputs": [],
   "source": [
    "# Another way to check the type of some object\n",
    "isinstance(testcls, LibraryBook)"
   ]
  },
  {
   "cell_type": "code",
   "execution_count": null,
   "metadata": {},
   "outputs": [],
   "source": [
    "# print is triggering the __string__()\n",
    "print(testcls)"
   ]
  },
  {
   "cell_type": "code",
   "execution_count": null,
   "metadata": {},
   "outputs": [],
   "source": [
    "class Animal(object):\n",
    "    pass\n",
    "\n",
    "class Vertebrate(Animal):\n",
    "    pass\n",
    "\n",
    "class Fish(Vertebrate):\n",
    "\n",
    "    # self.name is not defined in Fish class, but is defined in the ClownFish class.\n",
    "    def __str__(self):\n",
    "        return \"Hello, my name is {}\".format(self.name)\n",
    "    \n",
    "class ClownFish(Fish):\n",
    "    def __init__(self, name):\n",
    "        self.name = name\n",
    "\n",
    "class TangFish(Fish):\n",
    "    pass"
   ]
  },
  {
   "cell_type": "code",
   "execution_count": null,
   "metadata": {},
   "outputs": [],
   "source": [
    "nemo = ClownFish(\"nemo\")\n",
    "\n",
    "# The self.name attribute for the __str__() is from the ClownFish class\n",
    "# but the __str__() is from the Fish class\n",
    "print(nemo)"
   ]
  },
  {
   "cell_type": "code",
   "execution_count": null,
   "metadata": {},
   "outputs": [],
   "source": [
    "\"\"\"\n",
    "ERROR, because if nemo is an instance of fish class, \n",
    "then it does NOT have the name attribute.\n",
    "\"\"\"\n",
    "nemo = Fish()\n",
    "print(nemo)"
   ]
  },
  {
   "cell_type": "code",
   "execution_count": null,
   "metadata": {},
   "outputs": [],
   "source": [
    "isinstance(nemo, ClownFish)"
   ]
  },
  {
   "cell_type": "code",
   "execution_count": null,
   "metadata": {},
   "outputs": [],
   "source": [
    "isinstance('nemo', str)"
   ]
  },
  {
   "cell_type": "code",
   "execution_count": null,
   "metadata": {},
   "outputs": [],
   "source": [
    "isinstance(nemo, TangFish)"
   ]
  },
  {
   "cell_type": "code",
   "execution_count": null,
   "metadata": {},
   "outputs": [],
   "source": [
    "# the is-a relationship is transitive\n",
    "isinstance(nemo, Animal) "
   ]
  },
  {
   "cell_type": "code",
   "execution_count": null,
   "metadata": {},
   "outputs": [],
   "source": [
    "# the is-a relationship is transitive\n",
    "isinstance('nemo', Animal) "
   ]
  },
  {
   "cell_type": "code",
   "execution_count": null,
   "metadata": {},
   "outputs": [],
   "source": [
    "# All classes have a parent class of Object.\n",
    "isinstance(nemo, object)"
   ]
  },
  {
   "cell_type": "code",
   "execution_count": null,
   "metadata": {},
   "outputs": [],
   "source": [
    "# All classes have a parent class of Object.\n",
    "isinstance('nemo', object)"
   ]
  },
  {
   "cell_type": "code",
   "execution_count": null,
   "metadata": {},
   "outputs": [],
   "source": [
    "import tkinter as tk\n",
    "from tkinter import ttk\n",
    "\n",
    "# Create the application window\n",
    "window = tk.Tk()\n",
    "\n",
    "# Create the user interface\n",
    "my_label = ttk.Label(window, text=\"Hello World\")\n",
    "my_label.grid(row=1, column=1)\n",
    "\n",
    "quit_button = ttk.Button(window, text=\"Quit\")\n",
    "quit_button.grid(row=2, column=1)\n",
    "quit_button['command'] = window.destroy\n",
    "\n",
    "# Start the GUI event loop\n",
    "window.mainloop()"
   ]
  },
  {
   "cell_type": "code",
   "execution_count": null,
   "metadata": {},
   "outputs": [],
   "source": [
    "# A stack - a abordagem ao objeto: continuação\n",
    "# Dê uma vista de olhos - adicionamos dois underscores antes do nome stack_list - nada mais:\n",
    "\n",
    "class Stack:\n",
    "    def __init__(self):\n",
    "        self.__stack_list = []\n",
    "\n",
    "stack_object = Stack()\n",
    "print(len(stack_object.__stack_list))\n",
    "\n",
    "\n",
    "# A alteração invalida o programa.\n",
    "\n",
    "# Porquê?\n",
    "\n",
    "# Quando qualquer componente de classe tem um nome que começa com dois underscores (__),\n",
    "# torna-se privado - isto significa que só pode ser acedido de dentro da classe.\n",
    "\n",
    "# Não se pode vê-lo do mundo exterior. É assim que o Python implementa o conceito de encapsulamento.\n",
    "\n",
    "# Execute o programa para testar as nossas suposições - uma exceção AttributeError deve ser levantada."
   ]
  },
  {
   "cell_type": "code",
   "execution_count": null,
   "metadata": {},
   "outputs": [],
   "source": [
    "class Stack:\n",
    "    def __init__(self):\n",
    "        self.__stack_list = []\n",
    "\n",
    "    def push(self, val):\n",
    "        self.__stack_list.append(val)\n",
    "\n",
    "    def pop(self):\n",
    "        val = self.__stack_list[-1]\n",
    "        del self.__stack_list[-1]\n",
    "        return val\n",
    "\n",
    "\n",
    "little_stack = Stack()\n",
    "another_stack = Stack()\n",
    "funny_stack = Stack()\n",
    "\n",
    "little_stack.push(1)\n",
    "another_stack.push(little_stack.pop() + 1)\n",
    "funny_stack.push(another_stack.pop() - 2)\n",
    "\n",
    "print(funny_stack.pop())"
   ]
  },
  {
   "cell_type": "code",
   "execution_count": null,
   "metadata": {},
   "outputs": [],
   "source": [
    "class AddingStack(Stack):\n",
    "    def __init__(self):\n",
    "        Stack.__init__(self)\n",
    "        self.__sum = 0\n",
    "\n",
    "    def get_sum(self):\n",
    "        return self.__sum\n",
    "\n",
    "    def push(self, val):\n",
    "        self.__sum += val\n",
    "        Stack.push(self, val)\n",
    "\n",
    "    def pop(self):\n",
    "        val = Stack.pop(self)\n",
    "        self.__sum -= val\n",
    "        return val\n",
    "\n",
    "\n",
    "stack_object = AddingStack()\n",
    "\n",
    "for i in range(5):\n",
    "    stack_object.push(i)\n",
    "print(stack_object.get_sum())\n",
    "\n",
    "for i in range(5):\n",
    "    print(stack_object.pop())"
   ]
  },
  {
   "cell_type": "markdown",
   "metadata": {},
   "source": [
    "LIFO (Last In - First Out)"
   ]
  },
  {
   "cell_type": "code",
   "execution_count": null,
   "metadata": {},
   "outputs": [],
   "source": [
    "class CountingStack(Stack):\n",
    "    def __init__(self):\n",
    "        Stack.__init__(self)\n",
    "        self.__sum = 0\n",
    "        self.__count = 0\n",
    "\n",
    "    def get_counter(self):\n",
    "        return self.__count\n",
    "\n",
    "    def get_sum(self):\n",
    "        return self.__sum\n",
    "\n",
    "    def push(self, val):\n",
    "        self.__sum += val\n",
    "        self.__count += 1\n",
    "        Stack.push(self, val)\n",
    "\n",
    "    def pop(self):\n",
    "        val = Stack.pop(self)\n",
    "        self.__sum -= val\n",
    "        self.__count -= 1\n",
    "        return val\n",
    "\t\n",
    "\n",
    "stk = CountingStack()\n",
    "for i in range(100):\n",
    "    stk.push(i)\n",
    "    if i % 3 == 0:\n",
    "        stk.pop()\n",
    "print(stk.get_counter())"
   ]
  },
  {
   "cell_type": "code",
   "execution_count": null,
   "metadata": {},
   "outputs": [],
   "source": [
    "class Queue:\n",
    "    def __init__(self):\n",
    "        self.__stack_list = []\n",
    "        self.__count = 0\n",
    "\n",
    "    def put(self, elem):\n",
    "        self.__count += 1\n",
    "        self.__stack_list.append(elem)\n",
    "\n",
    "    def get(self):\n",
    "        val = self.__stack_list[0]\n",
    "        del self.__stack_list[0]\n",
    "        self.__count -= 1\n",
    "        return val\n",
    "    \n",
    "    def get_counter(self):\n",
    "        return self.__count\n",
    "\n",
    "class QueueError(Queue):  # Choose base class for the new exception.\n",
    "    def __init__(self):\n",
    "#         Queue.__init__(self) # Preciso disso?\n",
    "        assert Queue.get_counter() != 0\n",
    "        \n",
    "class SuperQueue(Queue): \n",
    "    def __init__(self):\n",
    "        Queue.__init__(self)\n",
    "        \n",
    "    def isempty(self):\n",
    "        return self.get_counter() == 0\n",
    "\n",
    "que = Queue()\n",
    "que.put(1)\n",
    "que.put(\"dog\")\n",
    "que.put(False)\n",
    "try:\n",
    "    for i in range(4):\n",
    "        print(que.get())\n",
    "except:\n",
    "    print(\"Queue error\")"
   ]
  },
  {
   "cell_type": "code",
   "execution_count": null,
   "metadata": {},
   "outputs": [],
   "source": [
    "que = SuperQueue()\n",
    "que.put(1)\n",
    "que.put(\"dog\")\n",
    "que.put(False)\n",
    "for i in range(4):\n",
    "    if not que.isempty():\n",
    "        print(que.get())\n",
    "    else:\n",
    "        print(\"Queue empty\")"
   ]
  },
  {
   "cell_type": "code",
   "execution_count": null,
   "metadata": {},
   "outputs": [],
   "source": [
    "class ExampleClass:\n",
    "    def __init__(self, val = 1):\n",
    "        self.first = val\n",
    "\n",
    "    def set_second(self, val):\n",
    "        self.second = val\n",
    "\n",
    "\n",
    "example_object_1 = ExampleClass()\n",
    "example_object_2 = ExampleClass(2)\n",
    "\n",
    "example_object_2.set_second(3)\n",
    "\n",
    "example_object_3 = ExampleClass(4)\n",
    "example_object_3.third = 5\n",
    "\n",
    "print(example_object_1.__dict__)\n",
    "print(example_object_2.__dict__)\n",
    "print(example_object_3.__dict__)"
   ]
  },
  {
   "cell_type": "code",
   "execution_count": null,
   "metadata": {},
   "outputs": [],
   "source": [
    "class ExampleClass:\n",
    "    counter = 0\n",
    "    def __init__(self, val = 1):\n",
    "        self.__first = val\n",
    "        ExampleClass.counter += 1\n",
    "\n",
    "\n",
    "example_object_1 = ExampleClass()\n",
    "example_object_2 = ExampleClass(2)\n",
    "example_object_3 = ExampleClass(4)\n",
    "\n",
    "print(example_object_1.__dict__, example_object_1.counter)\n",
    "print(example_object_2.__dict__, example_object_2.counter)\n",
    "print(example_object_3.__dict__, example_object_3.counter)"
   ]
  },
  {
   "cell_type": "markdown",
   "metadata": {},
   "source": [
    "Verificação da existência de um atributo: continuação\n",
    "A instrução try-except dá-lhe a oportunidade de evitar problemas com propriedades inexistentes.\n",
    "\n",
    "É fácil - veja o código no editor.\n",
    "\n",
    "Como se pode ver, esta ação não é muito sofisticada. Essencialmente, apenas varremos o problema para debaixo do tapete.\n",
    "\n",
    "Felizmente, há mais uma forma de lidar com o problema.\n",
    "\n",
    "\n",
    "O Python fornece uma função capaz de verificar com segurança se algum objeto/classe contém uma propriedade especificada. A função é chamada **hasattr**, e espera que lhe sejam transmitidos dois argumentos:\n",
    "\n",
    "A classe ou o objeto a ser verificado;\n",
    "o nome da propriedade cuja existência tem de ser comunicada (nota: tem de ser uma string contendo o nome do atributo, e não apenas o nome)\n",
    "A função devolve True ou False.\n",
    "\n",
    "É assim que a pode utilizar:\n",
    "\n",
    "class ExampleClass:"
   ]
  },
  {
   "cell_type": "code",
   "execution_count": null,
   "metadata": {},
   "outputs": [],
   "source": [
    "class ExampleClass:\n",
    "    def __init__(self, val):\n",
    "        if val % 2 != 0:\n",
    "            self.a = 1\n",
    "        else:\n",
    "            self.b = 1\n",
    "\n",
    "\n",
    "example_object = ExampleClass(1)\n",
    "print(example_object.a)\n",
    "\n",
    "if hasattr(example_object, 'b'):\n",
    "    print(example_object.b)"
   ]
  },
  {
   "cell_type": "markdown",
   "metadata": {},
   "source": [
    "Tudo o que dissemos sobre mangling de nome de propriedade aplica-se também a nomes de métodos - um método cujo nome começa com __ está (parcialmente) oculto.\n",
    "\n",
    "O exemplo mostra este efeito:"
   ]
  },
  {
   "cell_type": "code",
   "execution_count": null,
   "metadata": {},
   "outputs": [],
   "source": [
    "class Classy:\n",
    "    def visible(self):\n",
    "        print(\"visible\")\n",
    "    \n",
    "    def __hidden(self):\n",
    "        print(\"hidden\")\n",
    "\n",
    "\n",
    "obj = Classy()\n",
    "obj.visible()\n",
    "\n",
    "try:\n",
    "    obj.__hidden()\n",
    "except:\n",
    "    print(\"failed\")\n",
    "\n",
    "obj._Classy__hidden()"
   ]
  },
  {
   "cell_type": "markdown",
   "metadata": {},
   "source": [
    "3. Todas as classes (mas não objetos) contêm uma propriedade chamada __name__, que armazena o nome da classe. Além disso, uma propriedade chamada __module__ armazena o nome do módulo no qual a classe foi declarada, enquanto a propriedade nomeada __bases__ é um tuple contendo as superclasses de uma classe.\n",
    "\n",
    "__bases__ é um tuple. O tuple contém classes (não nomes de classe) que são superclasses diretas para a classe.\n",
    "\n",
    "A ordem é a mesma que é utilizada dentro da definição de classe.\n",
    "\n",
    "Mostrar-lhe-emos apenas um exemplo muito básico, uma vez que queremos destacar como funciona a herança.\n",
    "\n",
    "Além disso, vamos mostrar-lhe como utilizar este atributo quando discutirmos os aspetos objetivos das exceções.\n",
    "\n",
    "Nota: apenas as classes têm este atributo - os objetos não o têm.\n",
    "\n",
    "Definimos uma função chamada printbases(), concebida para apresentar claramente o conteúdo do tuple.\n",
    "\n",
    "Veja o código no editor. Analise e execute-o. Ele terá como output:"
   ]
  },
  {
   "cell_type": "code",
   "execution_count": null,
   "metadata": {},
   "outputs": [],
   "source": [
    "class SuperOne:\n",
    "    pass\n",
    "\n",
    "\n",
    "class SuperTwo:\n",
    "    pass\n",
    "\n",
    "\n",
    "class Sub(SuperOne, SuperTwo):\n",
    "    pass\n",
    "\n",
    "\n",
    "def printBases(cls):\n",
    "    print('( ', end='')\n",
    "\n",
    "    for x in cls.__bases__:\n",
    "        print(x.__name__, end=' ')\n",
    "    print(')')\n",
    "\n",
    "\n",
    "printBases(SuperOne)\n",
    "printBases(SuperTwo)\n",
    "printBases(Sub)"
   ]
  },
  {
   "cell_type": "code",
   "execution_count": null,
   "metadata": {},
   "outputs": [],
   "source": [
    "class Snake:\n",
    "    pass\n",
    "\n",
    "\n",
    "class Python(Snake):\n",
    "    pass\n",
    "\n",
    "\n",
    "print(Python.__name__, 'is a', Snake.__name__)\n",
    "print(Python.__bases__[0].__name__, 'can be', Python.__name__)"
   ]
  },
  {
   "cell_type": "code",
   "execution_count": null,
   "metadata": {},
   "outputs": [],
   "source": [
    "print(Python.__bases__)"
   ]
  },
  {
   "cell_type": "code",
   "execution_count": null,
   "metadata": {},
   "outputs": [],
   "source": [
    "class Timer:\n",
    "    def __init__(self,hh,mm,ss):\n",
    "        self.mm = mm\n",
    "        self.ss = ss\n",
    "        self.tts = (hh * 60 + mm)*60 + ss\n",
    "    def __str__(self):\n",
    "        return f'{str(self.hh).zfill(2)}:{str(self.mm).zfill(2)}:{str(self.ss).zfill(2)}'\n",
    "        \n",
    "    def tts_2hms(self):\n",
    "        ss2 = self.tts % 60\n",
    "        mm2t = self.tts // 60\n",
    "        mm2 = mm2t % 60\n",
    "        hh2t = mm2t // 60\n",
    "        hh2 = hh2t % 24\n",
    "        return hh2,mm2,ss2\n",
    "\n",
    "    def next_second(self):\n",
    "        self.tts += 1\n",
    "        self.hh, self.mm, self.ss = self.tts_2hms()\n",
    "        \n",
    "    def prev_second(self):\n",
    "        self.tts -= 1\n",
    "        self.hh, self.mm, self.ss = self.tts_2hms()\n",
    "\n",
    "\n",
    "timer = Timer(23, 59, 59)\n",
    "print(timer)\n",
    "timer.next_second()\n",
    "print(timer)\n",
    "timer.prev_second()\n",
    "print(timer)"
   ]
  },
  {
   "cell_type": "code",
   "execution_count": null,
   "metadata": {},
   "outputs": [],
   "source": [
    "weekday.nday"
   ]
  },
  {
   "cell_type": "code",
   "execution_count": null,
   "metadata": {},
   "outputs": [],
   "source": [
    "class WeekDayError(Exception):\n",
    "    pass\n",
    "\n",
    "class Weeker:\n",
    "    \n",
    "    def __init__(self, day):\n",
    "        \n",
    "        self.day = day\n",
    "        self.dias_semana = ['Mon', 'Thu', 'Wed', 'Thu', 'Fri', 'Sat', 'Sun']\n",
    "        if day in self.dias_semana:\n",
    "            self.nday = self.dias_semana.index(self.day)\n",
    "        else:\n",
    "            raise WeekDayError\n",
    "\n",
    "    def __str__(self):\n",
    "        return f'{self.day}'\n",
    "\n",
    "    def add_days(self, n):\n",
    "        self.nday += n%7\n",
    "        self.day = self.dias_semana[self.nday]\n",
    "\n",
    "    def subtract_days(self, n):\n",
    "        self.nday -= n%7\n",
    "        self.nday = self.nday if self.nday>0 else 7 + self.nday\n",
    "        self.day = self.dias_semana[self.nday]\n",
    "\n",
    "\n",
    "try:\n",
    "    weekday = Weeker('Mon')\n",
    "    print(weekday)\n",
    "    weekday.add_days(15)\n",
    "    print(weekday)\n",
    "    weekday.subtract_days(23)\n",
    "    print(weekday)\n",
    "    weekday = Weeker('Monday')\n",
    "except WeekDayError:\n",
    "    print(\"Sorry, I can't serve your request.\")"
   ]
  },
  {
   "cell_type": "code",
   "execution_count": null,
   "metadata": {},
   "outputs": [],
   "source": [
    "for k in Weeker('Mon'):\n",
    "    print(k)"
   ]
  },
  {
   "cell_type": "code",
   "execution_count": null,
   "metadata": {},
   "outputs": [],
   "source": [
    "weekday.day"
   ]
  },
  {
   "cell_type": "markdown",
   "metadata": {},
   "source": [
    "Herança: issubclass()\n",
    "O Python oferece uma função que é capaz de identificar uma relação entre duas classes, e embora o seu diagnóstico não seja complexo, pode verificar se uma determinada classe é uma subclasse de qualquer outra classe.\n",
    "\n",
    "1. Uma função chamada issubclass(Class_1, Class_2) é capaz de determinar se Class_1 é uma subclasse de Class_2.\n",
    "2. Uma função chamada isinstance(Object, Class) verifica se um objeto vem de uma classe indicada.\n"
   ]
  },
  {
   "cell_type": "code",
   "execution_count": null,
   "metadata": {},
   "outputs": [],
   "source": [
    "# Formas de criar uma herença\n",
    "\n",
    "class Super:\n",
    "    def __init__(self, name):\n",
    "        self.name = name\n",
    "\n",
    "    def __str__(self):\n",
    "        return \"My name is \" + self.name + \".\"\n",
    "\n",
    "\n",
    "class Sub(Super):\n",
    "    def __init__(self, name):\n",
    "        Super.__init__(self, name)\n",
    "\n",
    "\n",
    "obj = Sub(\"Andy\")\n",
    "\n",
    "print(obj)"
   ]
  },
  {
   "cell_type": "code",
   "execution_count": null,
   "metadata": {},
   "outputs": [],
   "source": [
    "# A função super() cria um contexto em que não é necessário (além disso, não se deve) passar o argumento self \n",
    "# ao método invocado - é por isso que é possível ativar o construtor da superclasse usando apenas um argumento.\n",
    "\n",
    "# Nota: pode utilizar este mecanismo não só para invocar o construtor da superclasse, mas também para ter \n",
    "# acesso a qualquer um dos recursos disponíveis dentro da superclasse.\n",
    "\n",
    "class Super:\n",
    "    def __init__(self, name):\n",
    "        self.name = name\n",
    "\n",
    "    def __str__(self):\n",
    "        return \"My name is \" + self.name + \".\"\n",
    "\n",
    "\n",
    "class Sub(Super):\n",
    "    def __init__(self, name):\n",
    "        super().__init__(name)\n",
    "\n",
    "\n",
    "obj = Sub(\"Andy\")\n",
    "\n",
    "print(obj)"
   ]
  },
  {
   "cell_type": "markdown",
   "metadata": {},
   "source": [
    "# Polimorfismo"
   ]
  },
  {
   "cell_type": "code",
   "execution_count": null,
   "metadata": {},
   "outputs": [],
   "source": [
    "class One:\n",
    "    def do_it(self):\n",
    "        print(\"do_it from One\")\n",
    "\n",
    "    def doanything(self):\n",
    "        self.do_it()\n",
    "\n",
    "\n",
    "class Two(One):\n",
    "    def do_it(self):\n",
    "        print(\"do_it from Two\")\n",
    "\n",
    "\n",
    "one = One()\n",
    "two = Two()\n",
    "\n",
    "one.doanything()\n",
    "two.doanything()"
   ]
  },
  {
   "cell_type": "code",
   "execution_count": null,
   "metadata": {},
   "outputs": [],
   "source": [
    "import time\n",
    "\n",
    "class TrackedVehicle:\n",
    "    def control_track(left, stop):\n",
    "        pass\n",
    "\n",
    "    def turn(left):\n",
    "        control_track(left, True)\n",
    "        time.sleep(0.25)\n",
    "        control_track(left, False)\n",
    "\n",
    "\n",
    "class WheeledVehicle:\n",
    "    def turn_front_wheels(left, on):\n",
    "        pass\n",
    "\n",
    "    def turn(left):\n",
    "        turn_front_wheels(left, True)\n",
    "        time.sleep(0.25)\n",
    "        turn_front_wheels(left, False)\n"
   ]
  },
  {
   "cell_type": "code",
   "execution_count": null,
   "metadata": {},
   "outputs": [],
   "source": [
    "# O que é o Method Resolution Order (MRO) e porque é que nem todas as heranças fazem sentido?\n",
    "\n",
    "class Top:\n",
    "    def m_top(self):\n",
    "        print(\"top\")\n",
    "\n",
    "\n",
    "class Middle(Top):\n",
    "    def m_middle(self):\n",
    "        print(\"middle\")\n",
    "\n",
    "\n",
    "class Bottom(Top, Middle):\n",
    "    def m_bottom(self):\n",
    "        print(\"bottom\")\n",
    "\n",
    "\n",
    "object = Bottom()\n",
    "object.m_bottom()\n",
    "object.m_middle()\n",
    "object.m_top()"
   ]
  },
  {
   "cell_type": "code",
   "execution_count": null,
   "metadata": {},
   "outputs": [],
   "source": [
    "def reciprocal(n):\n",
    "    try:\n",
    "        n = 1 / n\n",
    "    except ZeroDivisionError:\n",
    "        print(\"Division failed\")\n",
    "        n = None\n",
    "    else:\n",
    "        print(\"Everything went fine\")\n",
    "    finally:\n",
    "        print(\"It's time to say goodbye\")\n",
    "        return n\n",
    "\n",
    "\n",
    "print(reciprocal(2))\n",
    "print(reciprocal(0))"
   ]
  },
  {
   "cell_type": "markdown",
   "metadata": {},
   "source": [
    "## Funções recursivas"
   ]
  },
  {
   "cell_type": "code",
   "execution_count": null,
   "metadata": {},
   "outputs": [],
   "source": [
    "def inv_str(texto):\n",
    "    if len(texto) == 1:\n",
    "        return texto\n",
    "    else:\n",
    "        return texto[-1] + inv_str(texto[:-1])"
   ]
  },
  {
   "cell_type": "code",
   "execution_count": null,
   "metadata": {},
   "outputs": [],
   "source": [
    "inv_str(\"Rafael\")"
   ]
  },
  {
   "cell_type": "code",
   "execution_count": null,
   "metadata": {},
   "outputs": [],
   "source": [
    "def is_palindromo(texto):\n",
    "    txt = texto.replace(' ','').replace(',','').replace(';','').replace('’','').replace('.','').upper()\n",
    "    return txt == inv_str(txt)"
   ]
  },
  {
   "cell_type": "code",
   "execution_count": null,
   "metadata": {},
   "outputs": [],
   "source": [
    "litspalin = ['kayak',\n",
    "             'aibohphobia',\n",
    "             'Live not on evil',\n",
    "             'Reviled did I live, said I, as evil I did deliver',\n",
    "             'Go hang a salami; I’m a lasagna hog.',\n",
    "             'Able was I ere I saw Elba',\n",
    "             'Kanakanak',\n",
    "             'Wassamassaw']\n",
    "\n",
    "[is_palindromo(k) for k in litspalin]"
   ]
  },
  {
   "cell_type": "code",
   "execution_count": null,
   "metadata": {},
   "outputs": [],
   "source": [
    "'Live not on evil'.replace(' ','').upper()"
   ]
  },
  {
   "cell_type": "code",
   "execution_count": null,
   "metadata": {
    "ExecuteTime": {
     "end_time": "2021-10-24T22:45:24.028920Z",
     "start_time": "2021-10-24T22:45:24.020917Z"
    }
   },
   "outputs": [],
   "source": [
    "def fat_rec(n):\n",
    "    if n <= 1:\n",
    "        return 1\n",
    "    else:\n",
    "        return n*fat_rec(n-1)"
   ]
  },
  {
   "cell_type": "code",
   "execution_count": null,
   "metadata": {
    "ExecuteTime": {
     "end_time": "2021-10-24T22:45:25.516168Z",
     "start_time": "2021-10-24T22:45:25.505155Z"
    }
   },
   "outputs": [],
   "source": [
    "fat_rec(5)"
   ]
  },
  {
   "cell_type": "code",
   "execution_count": null,
   "metadata": {
    "ExecuteTime": {
     "end_time": "2021-10-24T22:45:27.250235Z",
     "start_time": "2021-10-24T22:45:27.232248Z"
    }
   },
   "outputs": [],
   "source": [
    "def fibo_rec(n):\n",
    "    a,b = 1,1\n",
    "    if n <= 2:\n",
    "        return a\n",
    "    else:\n",
    "        return fibo_rec(n-1) + fibo_rec(n-2)"
   ]
  },
  {
   "cell_type": "code",
   "execution_count": null,
   "metadata": {
    "ExecuteTime": {
     "end_time": "2021-10-24T22:45:28.960293Z",
     "start_time": "2021-10-24T22:45:28.945283Z"
    }
   },
   "outputs": [],
   "source": [
    "fibo_rec(5)"
   ]
  },
  {
   "cell_type": "code",
   "execution_count": null,
   "metadata": {
    "ExecuteTime": {
     "end_time": "2021-10-24T22:45:31.502416Z",
     "start_time": "2021-10-24T22:45:31.483426Z"
    }
   },
   "outputs": [],
   "source": [
    "fibo_rec(8)"
   ]
  },
  {
   "cell_type": "code",
   "execution_count": null,
   "metadata": {},
   "outputs": [],
   "source": [
    "def fibonacci(n):\n",
    "    if n <= 2:\n",
    "        return 1\n",
    "    else:\n",
    "        return fibonacci(n-1) + fibonacci(n-2)"
   ]
  },
  {
   "cell_type": "code",
   "execution_count": null,
   "metadata": {},
   "outputs": [],
   "source": [
    "fibonacci(4)"
   ]
  },
  {
   "cell_type": "code",
   "execution_count": null,
   "metadata": {},
   "outputs": [],
   "source": [
    "fibonacci(2)"
   ]
  },
  {
   "cell_type": "code",
   "execution_count": null,
   "metadata": {},
   "outputs": [],
   "source": [
    "# Recursive Python function to solve the tower of hanoi\n",
    "  \n",
    "def TowerOfHanoi(n , source, destination, auxiliary):\n",
    "    if n==1:\n",
    "        print (\"Move disk 1 from source\",source,\"to destination\",destination)\n",
    "        return\n",
    "    TowerOfHanoi(n-1, source, auxiliary, destination)\n",
    "    print(\"Move disk\",n,\"from source\",source,\"to destination\",destination)\n",
    "    TowerOfHanoi(n-1, auxiliary, destination, source)\n",
    "          \n",
    "# Driver code\n",
    "n = 4\n",
    "TowerOfHanoi(n,'A','B','C') \n",
    "# A, C, B are the name of rods\n",
    "  \n",
    "# Contributed By Dilip Jain"
   ]
  },
  {
   "cell_type": "code",
   "execution_count": null,
   "metadata": {},
   "outputs": [],
   "source": [
    "# Imprimindo o triangulo pascal sem usar combinação\n",
    "\n",
    "def tri_pascal(n):\n",
    "    lst = []\n",
    "    if n == 1:\n",
    "        lst.append(1)\n",
    "    elif n == 2:\n",
    "        lst.append(tri_pascal(1))\n",
    "        lst.append([1,1])\n",
    "    else:\n",
    "        lst2 = []\n",
    "        for k in tri_pascal(n-1):\n",
    "            lst.append(k)\n",
    "        lst2.append(1)\n",
    "        for k in range(1,n-1):\n",
    "            lst2.append(tri_pascal(n-1)[-1][k-1]+tri_pascal(n-1)[-1][k])\n",
    "        lst2.append(1)\n",
    "        lst.append(lst2)\n",
    "       \n",
    "    return lst"
   ]
  },
  {
   "cell_type": "code",
   "execution_count": null,
   "metadata": {},
   "outputs": [],
   "source": [
    "for k in tri_pascal(6):\n",
    "    for i in k:\n",
    "        print(i, end = '\\t')\n",
    "    print()"
   ]
  },
  {
   "cell_type": "markdown",
   "metadata": {},
   "source": [
    "### RECURSÃO PARA BUSCA BINÁRIA"
   ]
  },
  {
   "cell_type": "code",
   "execution_count": null,
   "metadata": {},
   "outputs": [],
   "source": [
    "if f == None:\n",
    "    print(\"Yes\")"
   ]
  },
  {
   "cell_type": "code",
   "execution_count": null,
   "metadata": {},
   "outputs": [],
   "source": [
    "def x(n):\n",
    "    if n == 0:\n",
    "        print(n,end=\" \")\n",
    "        \n",
    "    else:\n",
    "        x(n-1)\n",
    "        print(n,end=\" \")"
   ]
  },
  {
   "cell_type": "code",
   "execution_count": null,
   "metadata": {},
   "outputs": [],
   "source": [
    "x(10)"
   ]
  },
  {
   "cell_type": "code",
   "execution_count": null,
   "metadata": {},
   "outputs": [],
   "source": [
    "def x(n, m):\n",
    "    if n == m or m == 0:\n",
    "        print(1)\n",
    "        return 1\n",
    "    else:\n",
    "        print(2)\n",
    "        return x(n-1,m) + x(n-1,m+1) # x(n-1,m=1) m+1 cresce e n-1 descresce indefinidamente___ m não vai ser igual a 0 e nem igual a n\n",
    "\n",
    "# print(x(5,3)) # looping infinito"
   ]
  },
  {
   "cell_type": "code",
   "execution_count": null,
   "metadata": {},
   "outputs": [],
   "source": [
    "def x(n):\n",
    "    if n >= 0 or n <= 2:\n",
    "        print(1)\n",
    "        return n\n",
    "    else:\n",
    "        print(2)\n",
    "        return x(n-1) + x(n-2) + x(n-3)\n",
    "\n",
    "print(x(6))"
   ]
  },
  {
   "cell_type": "code",
   "execution_count": null,
   "metadata": {},
   "outputs": [],
   "source": [
    "def x(n):\n",
    "    if n >= 0 and n <= 2:\n",
    "        print(n,end=\" \")\n",
    "        return n\n",
    "    else:\n",
    "        print(n,end=\" \")\n",
    "        return x(n-1) + x(n-2) + x(n-3)\n",
    "\n",
    "print(x(6))"
   ]
  },
  {
   "cell_type": "code",
   "execution_count": null,
   "metadata": {},
   "outputs": [],
   "source": [
    "def busca_binaria(lista, elemento, min=0, max=None):\n",
    "    print(1)\n",
    "    if max == None:\n",
    "        max = len(lista)-1\n",
    "\n",
    "    if max < min:\n",
    "        return False\n",
    "    else:\n",
    "        meio = min + (max-min)//2\n",
    "\n",
    "    if lista[meio] > elemento:\n",
    "        return busca_binaria(lista, elemento, min, meio - 1)\n",
    "    elif lista[meio] < elemento:\n",
    "        return busca_binaria(lista, elemento, meio + 1, max)\n",
    "    else:\n",
    "        return meio"
   ]
  },
  {
   "cell_type": "code",
   "execution_count": null,
   "metadata": {},
   "outputs": [],
   "source": [
    "a = [-10, -2, 0, 5, 66, 77, 99, 102, 239, 567, 875, 934]"
   ]
  },
  {
   "cell_type": "code",
   "execution_count": null,
   "metadata": {},
   "outputs": [],
   "source": [
    "len(a)"
   ]
  },
  {
   "cell_type": "code",
   "execution_count": null,
   "metadata": {},
   "outputs": [],
   "source": [
    "busca_binaria(a,99)"
   ]
  },
  {
   "cell_type": "code",
   "execution_count": null,
   "metadata": {},
   "outputs": [],
   "source": [
    "a[1:]"
   ]
  },
  {
   "cell_type": "code",
   "execution_count": null,
   "metadata": {},
   "outputs": [],
   "source": [
    "a[:1]"
   ]
  },
  {
   "cell_type": "code",
   "execution_count": null,
   "metadata": {},
   "outputs": [],
   "source": [
    "def soma_lista(lista):\n",
    "    if len(lista) == 1:\n",
    "        return lista[0]\n",
    "    else:\n",
    "        return lista[0] + soma_lista(lista[1:])"
   ]
  },
  {
   "cell_type": "code",
   "execution_count": null,
   "metadata": {},
   "outputs": [],
   "source": [
    "sum(a)"
   ]
  },
  {
   "cell_type": "code",
   "execution_count": null,
   "metadata": {},
   "outputs": [],
   "source": [
    "soma_lista(a)"
   ]
  },
  {
   "cell_type": "code",
   "execution_count": null,
   "metadata": {},
   "outputs": [],
   "source": [
    "b = [1,3,4]"
   ]
  },
  {
   "cell_type": "code",
   "execution_count": null,
   "metadata": {},
   "outputs": [],
   "source": [
    "b.extend([2,5])\n",
    "b"
   ]
  },
  {
   "cell_type": "code",
   "execution_count": null,
   "metadata": {},
   "outputs": [],
   "source": [
    "def encontra_impares(lista):\n",
    "    if len(lista) == 1:\n",
    "        return lista if lista[0] % 2 == 1 else []\n",
    "    else:\n",
    "        k = lista[:1] if lista[0] % 2 == 1 else []\n",
    "        k.extend(encontra_impares(lista[1:]))\n",
    "        return k"
   ]
  },
  {
   "cell_type": "code",
   "execution_count": null,
   "metadata": {},
   "outputs": [],
   "source": [
    "encontra_impares(b)"
   ]
  },
  {
   "cell_type": "code",
   "execution_count": null,
   "metadata": {},
   "outputs": [],
   "source": [
    "encontra_impares(a)"
   ]
  },
  {
   "cell_type": "code",
   "execution_count": null,
   "metadata": {},
   "outputs": [],
   "source": [
    "def incomodam(n):\n",
    "    if n < 1:\n",
    "        return \"\"\n",
    "    else:\n",
    "        return \"incomodam \" + incomodam(n-1)\n",
    "\n",
    "\n",
    "def elefantes(n):\n",
    "    if n < 1:\n",
    "        return \"\"\n",
    "    \n",
    "    if n == 2:\n",
    "        return \"Um elefante incomoda muita gente\\n2 elefantes incomodam incomodam muito mais\\n\"\n",
    "    else:\n",
    "        return  elefantes(n-1)+f\"{n-1} elefantes incomodam muita gente\\n{n} elefantes {incomodam(n)}muito mais\\n\""
   ]
  },
  {
   "cell_type": "code",
   "execution_count": null,
   "metadata": {},
   "outputs": [],
   "source": [
    "print(elefantes(4))"
   ]
  },
  {
   "cell_type": "code",
   "execution_count": null,
   "metadata": {},
   "outputs": [],
   "source": [
    "def fibonacci(n):\n",
    "    "
   ]
  },
  {
   "cell_type": "markdown",
   "metadata": {},
   "source": [
    "## Tratamento de Erro"
   ]
  },
  {
   "cell_type": "code",
   "execution_count": null,
   "metadata": {},
   "outputs": [],
   "source": [
    "def distance(l1,l2):\n",
    "    \n",
    "    return ((l2[1]-l1[1])**2 + (l2[0]-l1[0])**2)**0.5"
   ]
  },
  {
   "cell_type": "code",
   "execution_count": null,
   "metadata": {},
   "outputs": [],
   "source": [
    "from os import strerror\n",
    "\n",
    "try:\n",
    "    s = open(\"c:/users/user/Desktop/file.txt\", \"rt\")\n",
    "    # Actual processing goes here.\n",
    "    s.close()\n",
    "except Exception as exc:\n",
    "    print(\"The file could not be opened:\", strerror(exc.errno))"
   ]
  },
  {
   "cell_type": "markdown",
   "metadata": {},
   "source": [
    "Três streams predefinidos já estão abertos quando o programa é iniciado:\n",
    "\n",
    "sys.stdin — standard input;\n",
    "sys.stdout — standard output;\n",
    "sys.stderr — standard error output."
   ]
  },
  {
   "cell_type": "code",
   "execution_count": null,
   "metadata": {},
   "outputs": [],
   "source": [
    "from os import strerror\n",
    "\n",
    "try:\n",
    "    cnt = 0\n",
    "    s = open('text.txt', \"rt\")\n",
    "    ch = s.read(1)\n",
    "    while ch != '':\n",
    "        print(ch, end='')\n",
    "        cnt += 1\n",
    "        ch = s.read(1)\n",
    "    s.close()\n",
    "    print(\"\\n\\nCharacters in file:\", cnt)\n",
    "except IOError as e:\n",
    "    print(\"I/O error occurred: \", strerror(e.errno))"
   ]
  },
  {
   "cell_type": "code",
   "execution_count": null,
   "metadata": {},
   "outputs": [],
   "source": [
    "cnt = 0\n",
    "s = open('text.txt', \"rt\")\n",
    "ch = s.read(1)\n",
    "print(ch)"
   ]
  },
  {
   "cell_type": "code",
   "execution_count": null,
   "metadata": {},
   "outputs": [],
   "source": [
    "ch = s.read(1)\n",
    "print(ch)\n",
    "s.close()"
   ]
  },
  {
   "cell_type": "code",
   "execution_count": null,
   "metadata": {},
   "outputs": [],
   "source": [
    "ch = s.read(1)\n",
    "print(ch)"
   ]
  },
  {
   "cell_type": "code",
   "execution_count": null,
   "metadata": {},
   "outputs": [],
   "source": [
    "s = open('text.txt', \"rt\")\n",
    "content = s.read()\n",
    "print(content)\n",
    "\n",
    "s.close()\n",
    "# Se quiser tratar o conteúdo do ficheiro como um conjunto de linhas e não como um monte de carateres, \n",
    "# o método readline() irá ajudá-lo com isso.\n",
    "\n"
   ]
  },
  {
   "cell_type": "code",
   "execution_count": null,
   "metadata": {},
   "outputs": [],
   "source": [
    "s = open('text.txt', \"rt\")\n",
    "content = s.readline()\n",
    "print(content)"
   ]
  },
  {
   "cell_type": "code",
   "execution_count": null,
   "metadata": {},
   "outputs": [],
   "source": [
    "content = s.readline()\n",
    "content # A cada iteração um novo valor é mostrado"
   ]
  },
  {
   "cell_type": "code",
   "execution_count": null,
   "metadata": {},
   "outputs": [],
   "source": [
    "s = open(\"text.txt\")\n",
    "print(s.readlines(20))\n",
    "print(s.readlines(20))\n",
    "print(s.readlines(20))\n",
    "print(s.readlines(20)) # O tamanho máximo aceite do buffer de input é passado para o método como seu argumento.\n",
    "s.close()"
   ]
  },
  {
   "cell_type": "code",
   "execution_count": null,
   "metadata": {},
   "outputs": [],
   "source": [
    "# O protocolo de iteração definido para o objeto de ficheiro é muito simples - \n",
    "# o seu método __next__ apenas devolve a próxima linha lida a partir do ficheiro.\n",
    "\n",
    "# Além disso, pode esperar que o objeto invoque automaticamente close() quando qualquer \n",
    "# uma das leituras do ficheiro chegar ao fim do ficheiro.\n",
    "\n",
    "try:\n",
    "\tccnt = lcnt = 0\n",
    "\tfor line in open('text.txt', 'rt'):\n",
    "\t\tlcnt += 1\n",
    "\t\tfor ch in line:\n",
    "\t\t\tprint(ch, end='')\n",
    "\t\t\tccnt += 1\n",
    "\tprint(\"\\n\\nCharacters in file:\", ccnt)\n",
    "\tprint(\"Lines in file:     \", lcnt)\n",
    "except IOError as e:\n",
    "\tprint(\"I/O error occurred: \", strerror(e.errno))"
   ]
  },
  {
   "cell_type": "code",
   "execution_count": null,
   "metadata": {},
   "outputs": [],
   "source": [
    "print(s.readlines(20))"
   ]
  },
  {
   "cell_type": "code",
   "execution_count": null,
   "metadata": {},
   "outputs": [],
   "source": [
    "s.readlines"
   ]
  },
  {
   "cell_type": "code",
   "execution_count": null,
   "metadata": {},
   "outputs": [],
   "source": [
    "fileref = open(\"Jekyllse.txt\", \"r\",encoding='UTF-8')"
   ]
  },
  {
   "cell_type": "code",
   "execution_count": null,
   "metadata": {},
   "outputs": [],
   "source": [
    "text2 = open(\"Jekyllse.txt\", \"r\",encoding='UTF-8').read()\n",
    "\n",
    "fileref.close()\n",
    "text2"
   ]
  },
  {
   "cell_type": "code",
   "execution_count": null,
   "metadata": {},
   "outputs": [],
   "source": [
    "class StudentsDataException(Exception):\n",
    "    pass\n",
    "\n",
    "\n",
    "class BadLine(StudentsDataException):\n",
    "    pass\n",
    "\n",
    "\n",
    "class FileEmpty(StudentsDataException):\n",
    "    pass\n",
    "    \n",
    "    \n",
    "try:\n",
    "    fo = open('Jekyll.txt', 'rt')\n",
    "    \n",
    "    string = fo.read()\n",
    "       \n",
    "    if len(string) == 0:\n",
    "        raise FileEmpty\n",
    "        fo.close()\n",
    "        \n",
    "    lista_str = string.split('\\n')\n",
    "    \n",
    "    lista_2 = [k.split() for k in lista_str]\n",
    "    \n",
    "    dict1 = {}\n",
    "    \n",
    "    for i,k in enumerate(lista_2):\n",
    "        if len(k) != 3:\n",
    "            raise BadLine\n",
    "            fo.close()\n",
    "            \n",
    "        elif not k[2].isnumeric:\n",
    "            raise BadLine\n",
    "            fo.close()\n",
    "        else:\n",
    "            k[2] = float(k[2])\n",
    "            if k[0]+' '+k[1] in dict1:\n",
    "                dict1[k[0]+' '+k[1]] = dict1[k[0]+' '+k[1]] + k[2]\n",
    "            else:\n",
    "                dict1[k[0]+' '+k[1]] = k[2]\n",
    "            \n",
    "except BadLine:\n",
    "    print(\"falha nos dados introduzidos\")\n",
    "    \n",
    "except FileEmpty:\n",
    "    print(\"Arquivo Vazio\")\n",
    "    \n",
    "except IOError as e:\n",
    "    print(\"I/O error occurred: \", strerror(e.errno))"
   ]
  },
  {
   "cell_type": "code",
   "execution_count": null,
   "metadata": {},
   "outputs": [],
   "source": [
    "lista_2"
   ]
  },
  {
   "cell_type": "code",
   "execution_count": null,
   "metadata": {},
   "outputs": [],
   "source": [
    "dict1"
   ]
  },
  {
   "cell_type": "code",
   "execution_count": null,
   "metadata": {},
   "outputs": [],
   "source": [
    "dict1.items()"
   ]
  },
  {
   "cell_type": "code",
   "execution_count": null,
   "metadata": {},
   "outputs": [],
   "source": [
    "tup_ord = sorted(dict1.items(), key = lambda item : item[1], reverse = True)\n",
    "tup_ord"
   ]
  },
  {
   "cell_type": "code",
   "execution_count": null,
   "metadata": {},
   "outputs": [],
   "source": [
    "dstname = input(\"Enter the destination file name: \")\n",
    "try:\n",
    "    dst = open(dstname, 'w')\n",
    "except Exception as e:\n",
    "    print(\"Cannot create the destination file: \", strerror(e.errno))\n",
    "    src.close()\n",
    "    exit(e.errno)\t\n",
    "\n",
    "try:\n",
    "    for k,j in tup_ord:\n",
    "        dst.write(k+' '+str(j)+'\\n')\n",
    "\n",
    "except IOError as e:\n",
    "    print(\"Cannot create the destination file: \", strerror(e.errno))\n",
    "    exit(e.errno)\t\n",
    "    \n",
    "print(total,'byte(s) succesfully written')\n",
    "fo.close()\n",
    "dst.close()"
   ]
  },
  {
   "cell_type": "markdown",
   "metadata": {},
   "source": [
    "### bytearray"
   ]
  },
  {
   "cell_type": "code",
   "execution_count": null,
   "metadata": {},
   "outputs": [],
   "source": [
    "data = bytearray(10)\n",
    "print(data)"
   ]
  },
  {
   "cell_type": "code",
   "execution_count": null,
   "metadata": {},
   "outputs": [],
   "source": [
    "for i in range(len(data)):\n",
    "    data[i] = 10 + i\n",
    "\n",
    "try:\n",
    "    bf = open('file.bin', 'wb')\n",
    "    bf.write(data)\n",
    "    bf.close()\n",
    "except IOError as e:\n",
    "    print(\"I/O error occurred:\", strerror(e.errno))\n",
    "\n",
    "# Your code that reads bytes from the stream should go here.\n",
    "for b in data:\n",
    "    print(hex(b), end=' ')"
   ]
  },
  {
   "cell_type": "code",
   "execution_count": null,
   "metadata": {},
   "outputs": [],
   "source": [
    "try:\n",
    "    bf = open('file.bin', 'rb')\n",
    "    bf.readinto(data)\n",
    "    bf.close()\n",
    "\n",
    "    for b in data:\n",
    "        print(hex(b), end=' ')\n",
    "except IOError as e:\n",
    "    print(\"I/O error occurred:\", strerror(e.errno))"
   ]
  },
  {
   "cell_type": "code",
   "execution_count": null,
   "metadata": {},
   "outputs": [],
   "source": [
    "matrisco = open('matriz_risco.txt','r').read()\n",
    "lista_matrisco = matrisco.split('\\n')\n",
    "\n",
    "for k in range(12):\n",
    "    for j in range(10):\n",
    "        print(lista_matrisco[j + 10 * k],end = ' ')\n",
    "    print()"
   ]
  },
  {
   "cell_type": "code",
   "execution_count": null,
   "metadata": {},
   "outputs": [],
   "source": [
    "pd.DataFrame(np.array(lista_matrisco).reshape(12,10)).to_excel(\"matrizrisco.xlsx\")"
   ]
  },
  {
   "cell_type": "markdown",
   "metadata": {},
   "source": [
    "### Criando um APP Web"
   ]
  },
  {
   "cell_type": "code",
   "execution_count": null,
   "metadata": {
    "scrolled": true
   },
   "outputs": [],
   "source": [
    "\"\"\"\n",
    "app.route defines the URL and what function to run for each URL.\n",
    "\n",
    "When only '/' is specified in the URL, it is assumed to be the home page. \n",
    "This web application will serve the text '<h1>WELCOME to My Home Page</h1>'\n",
    "in header 1 style. \n",
    "\n",
    "When the URL contains a name in the URL, the name from the URL is parsed to be used \n",
    "in the function that serves the web page. This is known as a \"dynamic webpage.\" \n",
    "\n",
    "When admin is specific in the URL, the admin() will run to \n",
    "redirects the page to show the home page. \n",
    "\n",
    "Refer to the images below for a view of how each page.\n",
    "\"\"\" \n",
    "\n",
    "\n",
    "# Import packages\n",
    "from flask import Flask, redirect, url_for\n",
    "\n",
    "app = Flask(__name__)\n",
    "\n",
    "@app.route(\"/\")\n",
    "def home():\n",
    "  return \"<h1>WELCOME to My Home Page</h1>\"\n",
    "\n",
    "@app.route(\"/<name>\")\n",
    "def user(name):\n",
    "  return f\"<h3>Hello, nice to meet you {name}!</h3>\"\n",
    "\n",
    "@app.route(\"/admin\")\n",
    "def admin():\n",
    "  return redirect(url_for(\"home\"))\n",
    "\n",
    "if __name__ == \"__main__\":\n",
    "  app.run()"
   ]
  },
  {
   "cell_type": "code",
   "execution_count": null,
   "metadata": {},
   "outputs": [],
   "source": [
    "3"
   ]
  },
  {
   "cell_type": "code",
   "execution_count": null,
   "metadata": {},
   "outputs": [],
   "source": [
    "class Fish(): \n",
    "\n",
    "    pass \n",
    "\n",
    "class ClownFish(Fish): \n",
    "\n",
    "    pass \n",
    "\n",
    "fish = ClownFish() \n",
    "\n",
    "isinstance(fish, Fish)"
   ]
  },
  {
   "cell_type": "markdown",
   "metadata": {},
   "source": [
    "## Busca Sequencial"
   ]
  },
  {
   "cell_type": "code",
   "execution_count": null,
   "metadata": {},
   "outputs": [],
   "source": [
    "'''\n",
    "Escreva a função ordenada(lista), que recebe uma lista com números inteiros como parâmetro\n",
    "e devolve o booleano True se a lista estiver ordenada e False se a lista não estiver ordenada.\n",
    "'''\n",
    "\n",
    "def ordena(lista):\n",
    "    for i,k in enumerate(lista[:-1]):\n",
    "        if k > lista[i+1]:\n",
    "            return False\n",
    "    return True"
   ]
  },
  {
   "cell_type": "code",
   "execution_count": null,
   "metadata": {},
   "outputs": [],
   "source": [
    "ordena(['a', 'e', 'i'])"
   ]
  },
  {
   "cell_type": "code",
   "execution_count": null,
   "metadata": {},
   "outputs": [],
   "source": []
  },
  {
   "cell_type": "code",
   "execution_count": null,
   "metadata": {},
   "outputs": [],
   "source": [
    "def busca(lista,elem):\n",
    "    for i,k in enumerate(lista):\n",
    "        if k == elem:\n",
    "            return i\n",
    "    return False"
   ]
  },
  {
   "cell_type": "code",
   "execution_count": null,
   "metadata": {},
   "outputs": [],
   "source": [
    "busca(['a', 'e', 'i'], 'e')"
   ]
  },
  {
   "cell_type": "code",
   "execution_count": null,
   "metadata": {},
   "outputs": [],
   "source": [
    "busca([12, 13, 14], 15)"
   ]
  },
  {
   "cell_type": "code",
   "execution_count": null,
   "metadata": {},
   "outputs": [],
   "source": [
    "def listg(n):\n",
    "    return [rnd.randint(0,n) for k in range(n)]\n",
    "\n",
    "for k in listg(50):\n",
    "    print(k,end=\" \")"
   ]
  },
  {
   "cell_type": "code",
   "execution_count": null,
   "metadata": {},
   "outputs": [],
   "source": [
    "import random as rnd\n",
    "\n",
    "def lista_grande(n):\n",
    "    return rnd.sample(range(n), n)"
   ]
  },
  {
   "cell_type": "code",
   "execution_count": null,
   "metadata": {},
   "outputs": [],
   "source": [
    "lista1 = lista_grande(100)\n",
    "for k in lista1:\n",
    "    print(k,end=' ')"
   ]
  },
  {
   "cell_type": "code",
   "execution_count": null,
   "metadata": {},
   "outputs": [],
   "source": [
    "def selecao_direta(lista):\n",
    "    fim = len(lista)\n",
    "    for k in range(fim-1):\n",
    "        for j in range(k+1,fim):\n",
    "            if lista[j] < lista[k]:\n",
    "                lista[k],lista[j] = lista[j],lista[k]\n",
    "    return lista"
   ]
  },
  {
   "cell_type": "code",
   "execution_count": null,
   "metadata": {},
   "outputs": [],
   "source": [
    "for k in selecao_direta(lista1):\n",
    "    print(k,end=' ')"
   ]
  },
  {
   "cell_type": "markdown",
   "metadata": {},
   "source": [
    "### Busca Binária"
   ]
  },
  {
   "cell_type": "markdown",
   "metadata": {},
   "source": [
    "https://panda.ime.usp.br/pythonds/static/pythonds_pt/05-OrdenacaoBusca/ExerciciosDeProgramacao.html\n",
    "\n",
    "https://panda.ime.usp.br/panda/static/pythonds_pt/05-OrdenacaoBusca/OBubbleSort.html"
   ]
  },
  {
   "cell_type": "code",
   "execution_count": null,
   "metadata": {},
   "outputs": [],
   "source": [
    "# Considerando que a lista esteja ordenada\n",
    "\n",
    "def busca_binaria(lista,elem):\n",
    "\n",
    "    lgt = len(lista)\n",
    "    lista2 = lista[:]\n",
    "\n",
    "    while len(lista2) > 1:\n",
    "        lgt = lgt//2\n",
    "        if lista2[lgt] == elem:\n",
    "            return True\n",
    "        elif lista2[lgt] > elem:\n",
    "            lista2 = lista2[:lgt]\n",
    "        else:\n",
    "            lista2 = lista2[lgt:]\n",
    "    return False"
   ]
  },
  {
   "cell_type": "code",
   "execution_count": null,
   "metadata": {
    "scrolled": true
   },
   "outputs": [],
   "source": [
    "testlist = [0, 1, 2, 8, 13, 17, 19, 32, 42,]\n",
    "print(busca_binaria(testlist, 3))\n",
    "print(busca_binaria(testlist, 13))"
   ]
  },
  {
   "cell_type": "markdown",
   "metadata": {},
   "source": [
    "## Medindo Desempenho"
   ]
  },
  {
   "cell_type": "code",
   "execution_count": null,
   "metadata": {},
   "outputs": [],
   "source": [
    "import time\n",
    "\n",
    "antes = time.time()\n",
    "\n",
    "s = 0\n",
    "for k in range(100):\n",
    "    s += k\n",
    "    \n",
    "print(s)\n",
    "\n",
    "depois = time.time()\n",
    "\n",
    "print(depois-antes)"
   ]
  },
  {
   "cell_type": "code",
   "execution_count": null,
   "metadata": {},
   "outputs": [],
   "source": [
    "import random\n",
    "\n",
    "class Ordenador:\n",
    "    \n",
    "    def selecao_direta(self,lista):\n",
    "        fim = len(lista)\n",
    "        for k in range(fim-1):\n",
    "            for j in range(k+1,fim):\n",
    "                if lista[j] < lista[k]:\n",
    "                    lista[k],lista[j] = lista[j],lista[k]   \n",
    "                    \n",
    "    def bolha(self,lista): # Bolha curta\n",
    "        fim = len(lista)\n",
    "        for i in range(fim-1,0,-1):\n",
    "            trocou = False # Verifica se a lista já esta ordenada.\n",
    "            for j in range(i):\n",
    "                if lista[j] > lista[j+1]:\n",
    "                    lista[j],lista[j+1] = lista[j+1],lista[j]\n",
    "                    trocou = True\n",
    "            if not trocou:\n",
    "                return\n",
    "                    \n",
    "            \n",
    "class Contatempos:\n",
    "    def lista_aleatoria(self,n):\n",
    "        return [random.randrange(1000) for x in range(n)]\n",
    "    \n",
    "    def compara(self,n):\n",
    "        lista1 = self.lista_aleatoria(n)\n",
    "        lista2 = lista1[:]\n",
    "        \n",
    "        o = Ordenador()\n",
    "        \n",
    "        antes = time.time()\n",
    "        o.bolha(lista1)\n",
    "        depois = time.time()\n",
    "        print(\"O algoritimo da bolha demorou\", depois - antes, 'segundos')\n",
    "        \n",
    "        antes = time.time()\n",
    "        o.selecao_direta(lista1)\n",
    "        depois = time.time()\n",
    "        print(\"O algoritimo selecao_direta\", depois - antes, 'segundos')"
   ]
  },
  {
   "cell_type": "code",
   "execution_count": null,
   "metadata": {},
   "outputs": [],
   "source": [
    "a = Contatempos()"
   ]
  },
  {
   "cell_type": "code",
   "execution_count": null,
   "metadata": {},
   "outputs": [],
   "source": [
    "a.compara(1000)"
   ]
  },
  {
   "cell_type": "code",
   "execution_count": null,
   "metadata": {},
   "outputs": [],
   "source": [
    "a.compara(5000)"
   ]
  },
  {
   "cell_type": "code",
   "execution_count": null,
   "metadata": {},
   "outputs": [],
   "source": [
    "# import pytest\n",
    "# class TestaOrdenador:\n",
    "    \n",
    "    "
   ]
  },
  {
   "cell_type": "markdown",
   "metadata": {},
   "source": [
    "## Módulo Plataform"
   ]
  },
  {
   "cell_type": "code",
   "execution_count": null,
   "metadata": {},
   "outputs": [],
   "source": [
    "from platform import platform\n",
    "\n",
    "print(platform())\n",
    "print(platform(1))\n",
    "print(platform(0, 1))"
   ]
  },
  {
   "cell_type": "markdown",
   "metadata": {},
   "source": [
    "* aliased → quando definido para True (ou qualquer valor não nulo) pode fazer com que a função apresente os nomes alternativos das camadas subjacentes em vez dos nomes comuns;\n",
    "* terse → quando definido para True (ou qualquer valor não nulo) pode convencer a função a apresentar uma forma mais breve do resultado (se possível)"
   ]
  },
  {
   "cell_type": "code",
   "execution_count": null,
   "metadata": {},
   "outputs": [],
   "source": [
    "platform(aliased = False, terse = False)"
   ]
  },
  {
   "cell_type": "code",
   "execution_count": null,
   "metadata": {},
   "outputs": [],
   "source": [
    "import platform \n",
    "print(platform.machine())"
   ]
  },
  {
   "cell_type": "code",
   "execution_count": null,
   "metadata": {},
   "outputs": [],
   "source": [
    "print(platform.processor()) # CPU"
   ]
  },
  {
   "cell_type": "code",
   "execution_count": null,
   "metadata": {},
   "outputs": [],
   "source": [
    "print(platform.system())"
   ]
  },
  {
   "cell_type": "code",
   "execution_count": null,
   "metadata": {},
   "outputs": [],
   "source": [
    "print(platform.version())"
   ]
  },
  {
   "cell_type": "code",
   "execution_count": null,
   "metadata": {},
   "outputs": [],
   "source": [
    "from platform import python_implementation, python_version_tuple\n",
    "\n",
    "print(python_implementation())\n",
    "\n",
    "for atr in python_version_tuple():\n",
    "    print(atr)"
   ]
  },
  {
   "cell_type": "markdown",
   "metadata": {},
   "source": [
    "### Módulo sys para importar modulos de outras pastas"
   ]
  },
  {
   "cell_type": "code",
   "execution_count": null,
   "metadata": {},
   "outputs": [],
   "source": [
    "# for p in sys.path:\n",
    "#     print(p)"
   ]
  },
  {
   "cell_type": "code",
   "execution_count": null,
   "metadata": {},
   "outputs": [],
   "source": [
    "sys.path.insert(1, \"C:\\\\Users...\\\\Modulo_imp\")"
   ]
  },
  {
   "cell_type": "code",
   "execution_count": null,
   "metadata": {},
   "outputs": [],
   "source": [
    "import s5\n",
    "\n",
    "s5.soma5(32)"
   ]
  },
  {
   "cell_type": "markdown",
   "metadata": {},
   "source": [
    "Os nomes shabang, shebang, hasbang, poundbange hashpling descrevem o dígrafo escrito como #!, utilizado para instruir os SOs do tipo Unix como o source file Python deve ser lançado. Esta convenção não tem efeito no MS Windows.\n",
    "\n",
    "os pacotes, como os módulos, podem precisar de inicialização.\n",
    "\n",
    "A inicialização de um módulo é feita por um código unbound (não vinculado) (não faz parte de nenhuma função) localizado dentro do ficheiro do módulo. Como um pacote não é um ficheiro, esta técnica é inútil para inicializar pacotes.\n",
    "\n",
    "Em vez disso, é preciso usar um truque diferente - o Python espera que haja um ficheiro com um nome muito único dentro da pasta do pacote: __init__.py.\n",
    "\n",
    "O conteúdo do ficheiro é executado quando qualquer um dos módulos do pacote é importado. Se não quiser inicializações especiais, pode deixar o ficheiro vazio, mas não o deve omitir.\n",
    "\n",
    "6. Um ficheiro Python chamado \"__init__.py\" é implicitamente executado quando um pacote que o contém é sujeito a importação, e é utilizado para inicializar um pacote e/ou os seus sub-pacotes (se existirem). O ficheiro pode estar vazio, mas não deve estar ausente."
   ]
  },
  {
   "cell_type": "code",
   "execution_count": null,
   "metadata": {},
   "outputs": [],
   "source": [
    "int(False)"
   ]
  },
  {
   "cell_type": "code",
   "execution_count": null,
   "metadata": {},
   "outputs": [],
   "source": [
    "import math\n",
    "\n",
    "result = math"
   ]
  },
  {
   "cell_type": "code",
   "execution_count": null,
   "metadata": {},
   "outputs": [],
   "source": [
    "result.e"
   ]
  },
  {
   "cell_type": "code",
   "execution_count": null,
   "metadata": {},
   "outputs": [],
   "source": [
    "result.pi"
   ]
  },
  {
   "cell_type": "code",
   "execution_count": null,
   "metadata": {},
   "outputs": [],
   "source": [
    "print(\"cisco.com\".rstrip(\".com\"))"
   ]
  },
  {
   "cell_type": "code",
   "execution_count": null,
   "metadata": {},
   "outputs": [],
   "source": [
    "txt = \"banana,,,,,ssqqqww.....\"\n",
    "\n",
    "x = txt.rstrip(\",.qsw\")\n",
    "\n",
    "print(x)"
   ]
  },
  {
   "cell_type": "code",
   "execution_count": null,
   "metadata": {},
   "outputs": [],
   "source": [
    "s1 = 'Where are the snows of yesteryear?'\n",
    "s2 = s1.split()\n",
    "print(s2[-2])"
   ]
  },
  {
   "cell_type": "code",
   "execution_count": null,
   "metadata": {},
   "outputs": [],
   "source": [
    "def mysplit(strng):\n",
    "    \n",
    "    lista_fim = []\n",
    "    k = strng.find(\" \")\n",
    "    lista_espacos = [0,k]\n",
    "    \n",
    "    while k <= len(strng) and k != -1:\n",
    "        k = strng.find(\" \",k+1)\n",
    "        lista_espacos.append(k)\n",
    "    \n",
    "    for i in range(len(lista_espacos)-1):\n",
    "        string = strng[lista_espacos[i]:lista_espacos[i+1]].strip()\n",
    "        if string != \"\":\n",
    "            lista_fim.append(string)\n",
    "            \n",
    "    return lista_fim\n",
    "\n",
    "\n",
    "print(mysplit(\"To be or not to be, that is the question\"))\n",
    "print(mysplit(\"To be or not to be,that is the question\"))\n",
    "print(mysplit(\"   \"))\n",
    "print(mysplit(\" abc \"))\n",
    "print(mysplit(\"\"))"
   ]
  },
  {
   "cell_type": "markdown",
   "metadata": {},
   "source": [
    "programa que seja capaz de simular o trabalho de um dispositivo de seven-display,"
   ]
  },
  {
   "cell_type": "code",
   "execution_count": null,
   "metadata": {},
   "outputs": [],
   "source": [
    "string = ('''\n",
    "  # ### ### # # ### ### ### ### ### ### \n",
    "  #   #   # # # #   #     # # # # # # # \n",
    "  # ### ### ### ### ###   # ### ### # # \n",
    "  # #     #   #   # # #   # # #   # # # \n",
    "  # ### ###   # ### ###   # ### ### ###''')\n",
    "  \n",
    "print(string)"
   ]
  },
  {
   "cell_type": "code",
   "execution_count": null,
   "metadata": {},
   "outputs": [],
   "source": [
    "def seven_display(num):\n",
    "\n",
    "    lista0 = ['### ', '# # ', '# # ', '# # ', '### ']\n",
    "    lista1 = ['#   ', '#   ', '#   ', '#   ', '#   ']\n",
    "    lista2 = ['### ', '  # ', '### ', '#   ', '### ']\n",
    "    lista3 = ['### ', '  # ', '### ', '  # ', '### ']\n",
    "    lista4 = ['# # ', '# # ', '### ', '  # ', '  # ']\n",
    "    lista5 = ['### ', '#   ', '### ', '  # ', '### ']\n",
    "    lista6 = ['### ', '#   ', '### ', '# # ', '### ']\n",
    "    lista7 = ['### ', '  # ', '  # ', '  # ', '  # ']\n",
    "    lista8 = ['### ', '# # ', '### ', '# # ', '### ']\n",
    "    lista9 = ['### ', '# # ', '### ', '  # ', '### ']\n",
    "    \n",
    "    lst_result = []\n",
    "    for j in range(5):\n",
    "        for k in str(num):\n",
    "            lst_result.append(eval('lista'+k)[j])\n",
    "        lst_result.append('\\n')\n",
    "            \n",
    "    return \"\".join(lst_result)"
   ]
  },
  {
   "cell_type": "code",
   "execution_count": null,
   "metadata": {},
   "outputs": [],
   "source": [
    "print(seven_display(123))"
   ]
  },
  {
   "cell_type": "code",
   "execution_count": null,
   "metadata": {},
   "outputs": [],
   "source": [
    "print(seven_display(9081726354))"
   ]
  },
  {
   "cell_type": "markdown",
   "metadata": {},
   "source": [
    "Um desses conceitos é a distância Hamming, que é usada para determinar a semelhança de duas strings. Se este problema lhe interessa, pode encontrar mais informações aqui: https://en.wikipedia.org/wiki/Hamming_distance. Outra solução do mesmo tipo, mas baseada numa suposição diferente, é a distância Levenshtein descrita aqui: https://en.wikipedia.org/wiki/Levenshtein_distance."
   ]
  },
  {
   "cell_type": "code",
   "execution_count": null,
   "metadata": {},
   "outputs": [],
   "source": [
    "import string\n",
    "\n",
    "def rot_n_sens(str_input):\n",
    "    \"\"\"\n",
    "    cipher\n",
    "    \"\"\"\n",
    "    n = 0\n",
    "    res = True\n",
    "    \n",
    "    while res:\n",
    "        n = int(input(\"Entre com o valor do deslocamento: \"))\n",
    "        if n not in range(1,26):\n",
    "            continue\n",
    "        letterp13 = \"\".join([string.ascii_lowercase[k] for k in range(-(26-n),n)])\n",
    "        string2 = \"\"\n",
    "\n",
    "        for k in str_input:\n",
    "            if k.lower() in string.ascii_lowercase:\n",
    "                pos = string.ascii_lowercase.find(k.lower())\n",
    "\n",
    "                if k.isupper():\n",
    "                    string2 = string2 + letterp13[pos].upper()\n",
    "                else:\n",
    "                    string2 = string2 + letterp13[pos]\n",
    "            else:\n",
    "                string2 = string2 + k\n",
    "            res = False\n",
    "        \n",
    "    return string2\n",
    "    \n",
    "rot_n_sens('abcxyzABCxyz 123')"
   ]
  },
  {
   "cell_type": "code",
   "execution_count": null,
   "metadata": {},
   "outputs": [],
   "source": [
    "rot_n_sens('The die is cast')"
   ]
  },
  {
   "cell_type": "code",
   "execution_count": null,
   "metadata": {},
   "outputs": [],
   "source": [
    "def ispalind(string):\n",
    "        \n",
    "    string2 = string.lower().replace(\" \",\"\")\n",
    "    \n",
    "    if string2 == string2[::-1] and len(string) > 0:\n",
    "        print(\"It's a palindrome\")\n",
    "    else:\n",
    "        print(\"It's not a palindrome\")\n",
    "        \n",
    "ispalind('Ten animals I slam in a net')\n",
    "\n",
    "ispalind('Eleven animals I slam in a net')"
   ]
  },
  {
   "cell_type": "code",
   "execution_count": null,
   "metadata": {},
   "outputs": [],
   "source": [
    "sorted(list('Listen')) # Cria uma nova lista"
   ]
  },
  {
   "cell_type": "code",
   "execution_count": null,
   "metadata": {},
   "outputs": [],
   "source": [
    "list('Listen').sort() # Altera a própria lista"
   ]
  },
  {
   "cell_type": "code",
   "execution_count": null,
   "metadata": {},
   "outputs": [],
   "source": [
    "sorted('Listen') == ['L', 'e', 'i', 'n', 's', 'T']"
   ]
  },
  {
   "cell_type": "code",
   "execution_count": null,
   "metadata": {},
   "outputs": [],
   "source": [
    "def isanagram(string1,string2):\n",
    "    if  sorted(string1.lower()) == sorted(string2.lower()):\n",
    "        print(\"Anagrams\")\n",
    "    else:\n",
    "        print(\"Not anagrams\")\n",
    "        \n",
    "isanagram(\"Listen\",\"Silent\")\n",
    "isanagram(\"modern\",\"norman\")"
   ]
  },
  {
   "cell_type": "code",
   "execution_count": null,
   "metadata": {},
   "outputs": [],
   "source": [
    "def digt_vida(data = 19850427):\n",
    "    soma = 0\n",
    "    for k in str(data):\n",
    "        soma += int(k)\n",
    "    if soma > 9:\n",
    "        soma = digt_vida(soma)\n",
    "        \n",
    "    return soma\n",
    "      \n",
    "print(digt_vida(19991229))\n",
    "print(digt_vida(20000101))"
   ]
  },
  {
   "cell_type": "markdown",
   "metadata": {},
   "source": [
    "## Comparação de strings\n",
    "\n",
    "A sua tarefa é a de escrever um programa que responda à seguinte questão: os carateres que compõem a primeira string estão escondidos dentro da segunda string?\n",
    "\n",
    "Por exemplo:\n",
    "\n",
    "se a segunda string for dada como “vcxzxduybfdsobywuefgas”, a resposta é yes;\n",
    "se a segunda string for “vcxzxdcybfdstbywuefsas”, a resposta é no (visto não haver as letras “d”, “o”, ou “g”, nesta ordem)"
   ]
  },
  {
   "cell_type": "code",
   "execution_count": null,
   "metadata": {},
   "outputs": [],
   "source": [
    "def encontra_letras(string1, string2):\n",
    "    w = -1\n",
    "    marcador = True\n",
    "    for k in string1:\n",
    "        j = string2.find(k,w+1)\n",
    "        if j < w:\n",
    "            marcador = False\n",
    "        else:\n",
    "            w = j\n",
    "            \n",
    "    if marcador == True:\n",
    "        print(\"Yes\")\n",
    "    else:\n",
    "        print(\"No\")\n",
    "\n",
    "encontra_letras('dog','vcxzxduybfdsobywuefgas')\n",
    "encontra_letras('dog','vcxzxdcybfdstbywuefsas')\n",
    "encontra_letras('donor','Nabucodonosor')\n",
    "encontra_letras('donut','Nabucodonosor')"
   ]
  },
  {
   "cell_type": "code",
   "execution_count": null,
   "metadata": {},
   "outputs": [],
   "source": [
    "'''295743861\n",
    "431865927\n",
    "876192543\n",
    "387459216\n",
    "612387495\n",
    "549216738\n",
    "763524189\n",
    "928671354\n",
    "154938672'''.split()"
   ]
  },
  {
   "cell_type": "code",
   "execution_count": null,
   "metadata": {},
   "outputs": [],
   "source": [
    "def is_sudoku(string):\n",
    "    \n",
    "    marcador = True\n",
    "    \n",
    "    lista = string.split()\n",
    "    \n",
    "    lista19 = [str(k) for k in range(1,10)]\n",
    "    \n",
    "    for i,k in enumerate(lista):\n",
    "        listt = list(k)\n",
    "        if sorted(list(k)) != lista19:\n",
    "            marcador = False\n",
    "            break\n",
    "        else:\n",
    "            lista[i] = listt\n",
    "        \n",
    "    lista1 = [[i[k] for i in lista] for k in range(9)]\n",
    "    for j in lista1:\n",
    "        if sorted(j) != lista19:\n",
    "            marcador = False\n",
    "            break\n",
    "            \n",
    "    if marcador:\n",
    "        print(\"Yes\")\n",
    "    else:\n",
    "        print(\"No\")\n",
    "        \n",
    "    return lista,lista1"
   ]
  },
  {
   "cell_type": "code",
   "execution_count": null,
   "metadata": {},
   "outputs": [],
   "source": [
    "string = '''295743861\n",
    "431865927\n",
    "876192543\n",
    "387459216\n",
    "612387495\n",
    "549216738\n",
    "763524189\n",
    "928671354\n",
    "154938672'''\n",
    "\n",
    "is_sudoku(string)"
   ]
  },
  {
   "cell_type": "code",
   "execution_count": null,
   "metadata": {},
   "outputs": [],
   "source": [
    "for i,k in enumerate(l1):\n",
    "    for j in k:\n",
    "        if k.count(j)>1:\n",
    "            print(i)"
   ]
  },
  {
   "cell_type": "code",
   "execution_count": null,
   "metadata": {},
   "outputs": [],
   "source": [
    "string2 = '''195743862\n",
    "431865927\n",
    "876192543\n",
    "387459216\n",
    "612387495\n",
    "549216738\n",
    "763524189\n",
    "928671354\n",
    "254938671'''\n",
    "\n",
    "is_sudoku(string2)"
   ]
  },
  {
   "cell_type": "code",
   "execution_count": null,
   "metadata": {},
   "outputs": [],
   "source": [
    "l1,l2 = is_sudoku(string2)"
   ]
  },
  {
   "cell_type": "code",
   "execution_count": null,
   "metadata": {},
   "outputs": [],
   "source": [
    "lista19 = [str(k) for k in range(1,10)]\n",
    "cnt = 0\n",
    "for k,j in zip(l1,l2):\n",
    "    if sorted(k)!= lista19:\n",
    "        print(\"l1\",k)\n",
    "        \n",
    "    if sorted(j)!= lista19:\n",
    "        print(\"l2\",j)"
   ]
  },
  {
   "cell_type": "code",
   "execution_count": null,
   "metadata": {},
   "outputs": [],
   "source": [
    "for k in l2:\n",
    "    soma = 0\n",
    "    for j in k:\n",
    "        soma += int(j)\n",
    "    print(soma)"
   ]
  },
  {
   "cell_type": "code",
   "execution_count": null,
   "metadata": {},
   "outputs": [],
   "source": [
    "x = int(input(\"Enter a number: \"))\n",
    "y = 1 / x\n",
    "print(y)"
   ]
  },
  {
   "cell_type": "code",
   "execution_count": null,
   "metadata": {},
   "outputs": [],
   "source": [
    "print(\"Let's try to do this\")\n",
    "print(\"#\"[2])"
   ]
  },
  {
   "cell_type": "markdown",
   "metadata": {},
   "source": [
    "## Excepts"
   ]
  },
  {
   "cell_type": "code",
   "execution_count": null,
   "metadata": {},
   "outputs": [],
   "source": [
    "def read_int(prompt, min, max):\n",
    "\n",
    "    while True:\n",
    "        try:\n",
    "            n = int(input(prompt))\n",
    "            if not(n < max and n > min):\n",
    "                print(f'Error: the value is not within permitted range ({min}..{max})')\n",
    "            else:\n",
    "                return n\n",
    "        \n",
    "        except ValueError:\n",
    "            print(\"Error: wrong input\")\n",
    "    \n",
    "    \n",
    "v = read_int(\"Enter a number from -10 to 10: \", -10, 10)\n",
    "\n",
    "\n",
    "print(\"The number is:\", v)"
   ]
  },
  {
   "cell_type": "code",
   "execution_count": null,
   "metadata": {},
   "outputs": [],
   "source": [
    "def print_exception_tree(thisclass, nest = 0):\n",
    "    if nest > 1:\n",
    "        print(\"   |\" * (nest - 1), end=\"\")\n",
    "    if nest > 0:\n",
    "        print(\"   +---\", end=\"\")\n",
    "\n",
    "    print(thisclass.__name__)\n",
    "\n",
    "    for subclass in thisclass.__subclasses__():\n",
    "        print_exception_tree(subclass, nest + 1)\n",
    "\n",
    "\n",
    "print_exception_tree(BaseException)"
   ]
  },
  {
   "cell_type": "code",
   "execution_count": null,
   "metadata": {},
   "outputs": [],
   "source": [
    "class MyZeroDivisionError(ZeroDivisionError):\t\n",
    "    pass\n",
    "\n",
    "\n",
    "def do_the_division(mine):\n",
    "    if mine:\n",
    "        raise MyZeroDivisionError(\"some worse news\")\n",
    "    else:\t\t\n",
    "        raise ZeroDivisionError(\"some bad news\")\n",
    "\n",
    "\n",
    "for mode in [False, True]:\n",
    "    try:\n",
    "        do_the_division(mode)\n",
    "    except ZeroDivisionError:\n",
    "        print('Division by zero')\n",
    "\n",
    "for mode in [False, True]:\n",
    "    try:\n",
    "        do_the_division(mode)\n",
    "    except MyZeroDivisionError:\n",
    "        print('My division by zero')\n",
    "    except ZeroDivisionError:\n",
    "        print('Original division by zero')"
   ]
  },
  {
   "cell_type": "markdown",
   "metadata": {},
   "source": [
    "A função else: da declaração try é executado quando não houve nenhuma exceção durante a execução do bloco try:"
   ]
  },
  {
   "cell_type": "code",
   "execution_count": null,
   "metadata": {},
   "outputs": [],
   "source": [
    "try:\n",
    "    print(math.sqrt(9))\n",
    "except ValueError:\n",
    "    print(\"inf\")\n",
    "else:\n",
    "    print(\"fine\")"
   ]
  },
  {
   "cell_type": "code",
   "execution_count": null,
   "metadata": {},
   "outputs": [],
   "source": [
    "try:\n",
    "    print(math.sqrt(-9))\n",
    "except ValueError:\n",
    "    print(\"inf\")\n",
    "else:\n",
    "    print(\"fine\")\n",
    "    \n",
    "# O método finally: da declaração try é sempre executado."
   ]
  },
  {
   "cell_type": "code",
   "execution_count": null,
   "metadata": {},
   "outputs": [],
   "source": [
    "math.pow(2)"
   ]
  },
  {
   "cell_type": "code",
   "execution_count": null,
   "metadata": {},
   "outputs": [],
   "source": [
    "try:\n",
    "    raise Exception(1,2,3)\n",
    "except Exception as e:\n",
    "    print(len(e.args))"
   ]
  },
  {
   "cell_type": "code",
   "execution_count": null,
   "metadata": {},
   "outputs": [],
   "source": [
    "class A:\n",
    "    A = 1\n",
    "\n",
    "print(hasattr(A,'A'))"
   ]
  },
  {
   "cell_type": "code",
   "execution_count": null,
   "metadata": {},
   "outputs": [],
   "source": [
    "class A:\n",
    "    A = 1\n",
    "    def __init__(self):\n",
    "        self.a = 0\n",
    "        \n",
    "# A = A()\n",
    "\n",
    "print(hasattr(A,'a'))"
   ]
  },
  {
   "cell_type": "code",
   "execution_count": null,
   "metadata": {},
   "outputs": [],
   "source": [
    "class A:\n",
    "    A = 1\n",
    "    def __init__(self):\n",
    "        self.a = 0\n",
    "        \n",
    "# A = A()\n",
    "\n",
    "print(hasattr(A,'A'))"
   ]
  },
  {
   "cell_type": "code",
   "execution_count": null,
   "metadata": {},
   "outputs": [],
   "source": [
    "class Ex(Exception):\n",
    "    def __init__(self,msg):\n",
    "        Exception.__init__(self,msg + msg)\n",
    "        self.args = (msg,)\n",
    "        \n",
    "try:\n",
    "    raise Ex('ex')\n",
    "    print(1)\n",
    "except Ex as e:\n",
    "    print(e)\n",
    "    print(2)\n",
    "except Exception as e:\n",
    "    print(e)\n",
    "    print(3)"
   ]
  },
  {
   "cell_type": "code",
   "execution_count": null,
   "metadata": {},
   "outputs": [],
   "source": [
    "class A:\n",
    "    def __init__(self):\n",
    "        pass\n",
    "\n",
    "a = A(1)\n",
    "\n",
    "print(hasattr(a,'A'))"
   ]
  },
  {
   "cell_type": "code",
   "execution_count": null,
   "metadata": {},
   "outputs": [],
   "source": [
    "class A:\n",
    "    def __init__(self,name):\n",
    "        self.name = name\n",
    "\n",
    "a = A('class')\n",
    "\n",
    "print(a)"
   ]
  },
  {
   "cell_type": "code",
   "execution_count": null,
   "metadata": {},
   "outputs": [],
   "source": [
    "class A:\n",
    "    def __init__(self,v = 2):\n",
    "        self.v = v\n",
    "        \n",
    "    def set(self,v=1):\n",
    "        self.v += v\n",
    "        return self.v\n",
    "\n",
    "a = A()\n",
    "b = a\n",
    "b.set()\n",
    "\n",
    "print(a.v)"
   ]
  },
  {
   "cell_type": "code",
   "execution_count": null,
   "metadata": {},
   "outputs": [],
   "source": [
    "# Estudar o __iter__ e __next__\n",
    "\n",
    "class I:\n",
    "    def __init__(self):\n",
    "        self.s = 'abc'\n",
    "        self.i = 0\n",
    "        \n",
    "    def __iter__(self):\n",
    "        return self\n",
    "    \n",
    "    def __next__(self):\n",
    "        if self.i == len(self.s):\n",
    "            raise StopIteration\n",
    "        v = self.s[self.i]\n",
    "        self.i += 1\n",
    "        return v\n",
    "\n",
    "for x in I():\n",
    "    print(x,end='')"
   ]
  },
  {
   "cell_type": "markdown",
   "metadata": {},
   "source": [
    "Um iterador deve fornecer dois métodos:\n",
    "\n",
    "__iter__() que deve devolver o objeto em si e que é invocado uma vez (é necessário para que Python inicie com sucesso a iteração)\n",
    "__next__() que se destina a devolver o próximo valor (primeiro, segundo, etc.) da série desejada - será invocado pelas declarações for/in a fim de passar pela próxima iteração; se não houver mais valores a fornecer, o método deve levantar a exceção StopIteration ."
   ]
  },
  {
   "cell_type": "code",
   "execution_count": null,
   "metadata": {},
   "outputs": [],
   "source": [
    "'''linhas 8 a 10: o método __iter__ é obrigado a devolver o próprio objeto iterador; \n",
    "o seu objetivo pode ser um pouco ambíguo aqui, mas não há mistério; tente imaginar um \n",
    "objeto que não seja um iterador (por exemplo, é uma coleção de algumas entidades), \n",
    "mas um dos seus componentes é um iterador capaz de digitalizar a coleção; o método __iter__ deve \n",
    "extrair o iterador e confiar-lhe a execução do protocolo de iteração; como pode ver, o método inicia a \n",
    "sua ação imprimindo uma mensagem;\n",
    "\n",
    "linhas 12 a 21: o método __next__ é responsável pela criação da sequência; é um tanto ou quanto minucioso,\n",
    "mas isto deve torná-lo mais legível; primeiro, imprime uma mensagem, depois atualiza o número de valores desejados, \n",
    "e se chegar ao fim da sequência, o método quebra a iteração levantando a exceção StopIteration; o resto do código \n",
    "é simples, e reflete precisamente a definição que lhe mostrámos anteriormente;'''\n",
    "class Fib:\n",
    "    def __init__(self, nn):\n",
    "        self.__n = nn\n",
    "        self.__i = 0\n",
    "        self.__p1 = self.__p2 = 1\n",
    "\n",
    "    def __iter__(self):\n",
    "        print(\"Fib iter\")\n",
    "        return self\n",
    "\n",
    "    def __next__(self):\n",
    "        self.__i += 1\n",
    "        if self.__i > self.__n:\n",
    "            raise StopIteration\n",
    "        if self.__i in [1, 2]:\n",
    "            return 1\n",
    "        ret = self.__p1 + self.__p2\n",
    "        self.__p1, self.__p2 = self.__p2, ret\n",
    "        return ret\n",
    "\n",
    "# Uma composição de uma classe iteradora\n",
    "    \n",
    "class Class:\n",
    "    def __init__(self, n):\n",
    "        self.__iter = Fib(n)\n",
    "\n",
    "    def __iter__(self):\n",
    "        print(\"Class iter\")\n",
    "        return self.__iter;\n",
    "\n",
    "\n",
    "object = Class(8)\n",
    "\n",
    "for i in object:\n",
    "    print(i)\n",
    "\n"
   ]
  },
  {
   "cell_type": "code",
   "execution_count": null,
   "metadata": {},
   "outputs": [],
   "source": [
    "# Pode pensar na keyword yield como uma irmã mais inteligente da declaração return , com uma diferença essencial.\n",
    "\n",
    "def fun(n):\n",
    "    for i in range(n):\n",
    "        return i\n",
    "\n",
    "# Tem um aspecto estranho, não tem? É claro que o loop for não tem qualquer hipótese de terminar a sua primeira execução,\n",
    "# uma vez que o return vai quebrá-lo irrevogavelmente.\n",
    "\n",
    "# Além disso, invocar a função não mudará nada - o loop for começará do zero e será quebrado imediatamente.\n",
    "\n",
    "# Podemos dizer que tal função não é capaz de guardar e restaurar o seu estado entre invocações subsequentes.\n",
    "\n",
    "# Isto também significa que uma função como esta não pode ser usada como gerador.\n",
    "\n",
    "print(fun(4))"
   ]
  },
  {
   "cell_type": "code",
   "execution_count": null,
   "metadata": {},
   "outputs": [],
   "source": [
    "def fun(n):\n",
    "    for i in range(n):\n",
    "        yield i\n",
    "        \n",
    "# Adicionámos yield em vez de return. Esta pequena emenda transforma a função num gerador, e executar a declaração yield \n",
    "# tem alguns efeitos muito interessantes.\n",
    "\n",
    "# Antes de mais, fornece o valor da expressão especificada após a keyword yield , assim como return, mas não perde o estado\n",
    "# da função.\n",
    "\n",
    "# Todos os valores das variáveis são congelados e aguardam a próxima invocação, quando a execução é retomada (não tirada \n",
    "# do zero, como depois return).\n",
    "\n",
    "# Há uma limitação importante: tal função não deve ser invocada explicitamente porque - na realidade - já não é uma\n",
    "# função; é um objeto gerador.\n",
    "\n",
    "# A invocação devolverá o identificador do objeto, não a série que esperamos do gerador.\n",
    "\n",
    "# Devido às mesmas razões, a função anterior (a função com a declaração return ) só pode ser invocada explicitamente,\n",
    "# e não deve ser usada como um gerador.\n",
    "\n",
    "print(fun(4))"
   ]
  },
  {
   "cell_type": "code",
   "execution_count": null,
   "metadata": {},
   "outputs": [],
   "source": [
    "for k in fun(5):\n",
    "    print(k)"
   ]
  },
  {
   "cell_type": "code",
   "execution_count": null,
   "metadata": {},
   "outputs": [],
   "source": [
    "def powers_of_2(n):\n",
    "    power = 1\n",
    "    for i in range(n):\n",
    "        yield power\n",
    "        power *= 2\n",
    "\n",
    "\n",
    "t = [x for x in powers_of_2(5)]\n",
    "print(t)"
   ]
  },
  {
   "cell_type": "code",
   "execution_count": null,
   "metadata": {},
   "outputs": [],
   "source": [
    "t = list(powers_of_2(3))\n",
    "print(t)"
   ]
  },
  {
   "cell_type": "code",
   "execution_count": null,
   "metadata": {},
   "outputs": [],
   "source": [
    "for i in range(20):\n",
    "    if i in powers_of_2(4):\n",
    "        print(i)"
   ]
  },
  {
   "cell_type": "code",
   "execution_count": null,
   "metadata": {},
   "outputs": [],
   "source": [
    "def fibonacci(n):\n",
    "    p = pp = 1\n",
    "    for i in range(n):\n",
    "        if i in [0, 1]:\n",
    "            yield 1\n",
    "        else:\n",
    "            n = p + pp\n",
    "            pp, p = p, n\n",
    "            yield n\n",
    "\n",
    "fibs = list(fibonacci(10))\n",
    "print(fibs)"
   ]
  },
  {
   "cell_type": "code",
   "execution_count": null,
   "metadata": {},
   "outputs": [],
   "source": [
    "# Compreensões de lista vs. geradores\n",
    "\n",
    "for v in [1 if x % 2 == 0 else 0 for x in range(10)]:\n",
    "    print(v, end=\" \")\n",
    "print()\n",
    "\n",
    "for v in (1 if x % 2 == 0 else 0 for x in range(10)):\n",
    "    print(v, end=\" \")\n",
    "print()"
   ]
  },
  {
   "cell_type": "code",
   "execution_count": null,
   "metadata": {},
   "outputs": [],
   "source": [
    "# A declaração da função lambda não se assemelha a uma declaração de função normal de forma alguma - veja por si mesmo:\n",
    "\n",
    "# lambda parameters: expression\n",
    "\n",
    "two = lambda: 2\n",
    "sqr = lambda x: x * x\n",
    "pwr = lambda x, y: x ** y\n",
    "\n",
    "for a in range(-2, 3):\n",
    "    print(sqr(a), end=\" \")\n",
    "    print(pwr(a, two()))"
   ]
  },
  {
   "cell_type": "code",
   "execution_count": null,
   "metadata": {},
   "outputs": [],
   "source": [
    "def print_function(args, fun):\n",
    "    for x in args:\n",
    "        print('f(', x,')=', fun(x), sep='')\n",
    "\n",
    "\n",
    "def poly(x):\n",
    "    return 2 * x**2 - 4 * x + 2\n",
    "\n",
    "\n",
    "print_function([x for x in range(-2, 3)], poly)\n"
   ]
  },
  {
   "cell_type": "code",
   "execution_count": null,
   "metadata": {},
   "outputs": [],
   "source": [
    "def print_function(args, fun):\n",
    "    for x in args:\n",
    "        print('f(', x,')=', fun(x), sep='')\n",
    "\n",
    "print_function([x for x in range(-2, 3)], lambda x: 2 * x**2 - 4 * x + 2)"
   ]
  },
  {
   "cell_type": "code",
   "execution_count": null,
   "metadata": {},
   "outputs": [],
   "source": [
    "# Lambdas e a função map() .\n",
    "# No mais simples de todos os casos possíveis, a função map() .\n",
    "\n",
    "# map(function, list)\n",
    "\n",
    "\n",
    "# toma dois argumentos:\n",
    "\n",
    "# uma função;\n",
    "# uma lista.\n",
    "\n",
    "# o segundo argumento map() pode ser qualquer entidade que possa ser iterada (por exemplo, um tuple, ou apenas um gerador)\n",
    "# map() pode aceitar mais de dois argumentos.\n",
    "\n",
    "import matplotlib.pyplot as plt\n",
    "\n",
    "plt.plot(list(map(math.sin,np.arange(0, 2*3.15, 0.1))));"
   ]
  },
  {
   "cell_type": "code",
   "execution_count": null,
   "metadata": {},
   "outputs": [],
   "source": [
    "from random import seed, randint\n",
    "\n",
    "# Lambdas e a função filter() .\n",
    "# Outra função Python que pode ser significativamente embelezada pela aplicação de um lambda é filter().\n",
    "\n",
    "# Espera o mesmo tipo de argumentos que **map()**, mas faz algo diferente - filtra o seu segundo argumento ao\n",
    "# mesmo tempo que é guiado por instruções que fluem da função especificada como o primeiro argumento \n",
    "# (a função é invocada para cada elemento da lista, tal como em map()).\n",
    "\n",
    "\n",
    "seed()\n",
    "data = [randint(-10,10) for x in range(5)]\n",
    "filtered = list(filter(lambda x: x > 0 and x % 2 == 0, data))\n",
    "\n",
    "print(data)\n",
    "print(filtered)"
   ]
  },
  {
   "cell_type": "code",
   "execution_count": null,
   "metadata": {},
   "outputs": [],
   "source": [
    "def make_closure(par):\n",
    "    loc = par\n",
    "\n",
    "    def power(p):\n",
    "        return p ** loc\n",
    "    return power\n",
    "\n",
    "\n",
    "fsqr = make_closure(2)\n",
    "fcub = make_closure(3)\n",
    "\n",
    "for i in range(5):\n",
    "    print(i, fsqr(i), fcub(i))"
   ]
  },
  {
   "cell_type": "code",
   "execution_count": null,
   "metadata": {},
   "outputs": [],
   "source": [
    "make_closure(2)(3)"
   ]
  },
  {
   "cell_type": "code",
   "execution_count": null,
   "metadata": {},
   "outputs": [],
   "source": [
    "# A função filter(fun, list) cria uma cópia desses elementos list , que causam que a função fun devolva True. \n",
    "# O resultado da função é um gerador que fornece o novo conteúdo da lista elemento por elemento. Por exemplo:\n",
    "\n",
    "short_list = [1, \"Python\", -1, \"Monty\"]\n",
    "new_list = list(filter(lambda s: isinstance(s, str), short_list))\n",
    "print(new_list)"
   ]
  },
  {
   "cell_type": "code",
   "execution_count": null,
   "metadata": {},
   "outputs": [],
   "source": [
    "# Escreva uma função lambda, definindo a parte menos significativa do seu argumento inteiro, \n",
    "# e aplique-a à função map() para produzir a string 1 3 3 5 na consola.\n",
    "\n",
    "\n",
    "any_list = [*range(4)]\n",
    "list(map(lambda n: n | 1, any_list))"
   ]
  },
  {
   "cell_type": "markdown",
   "metadata": {},
   "source": [
    "## Módulo os"
   ]
  },
  {
   "cell_type": "code",
   "execution_count": null,
   "metadata": {},
   "outputs": [],
   "source": [
    "import os\n",
    "print(os.uname())"
   ]
  },
  {
   "cell_type": "code",
   "execution_count": null,
   "metadata": {},
   "outputs": [],
   "source": [
    "os.mkdir(\"my_first_directory_jp\")"
   ]
  },
  {
   "cell_type": "code",
   "execution_count": null,
   "metadata": {},
   "outputs": [],
   "source": [
    "os.makedirs(\"my_first_directoryjp2/my_second_directory\")\n",
    "os.chdir(\"my_first_directoryjp2\")\n",
    "print(os.listdir())"
   ]
  },
  {
   "cell_type": "code",
   "execution_count": null,
   "metadata": {},
   "outputs": [],
   "source": [
    "# os.getcwd()"
   ]
  },
  {
   "cell_type": "code",
   "execution_count": null,
   "metadata": {},
   "outputs": [],
   "source": [
    "os.mkdir(\"my_first_directory\")\n",
    "print(os.listdir())"
   ]
  },
  {
   "cell_type": "code",
   "execution_count": null,
   "metadata": {},
   "outputs": [],
   "source": [
    "# Eliminar diretorias em Python\n",
    "os.rmdir(\"my_first_directory\")\n",
    "os.rmdir(\"my_second_directory\")\n",
    "print(os.listdir())"
   ]
  },
  {
   "cell_type": "code",
   "execution_count": null,
   "metadata": {},
   "outputs": [],
   "source": [
    "os.chdir(\"C:\\\\Users\\\\...\")"
   ]
  },
  {
   "cell_type": "code",
   "execution_count": null,
   "metadata": {},
   "outputs": [],
   "source": [
    "os.rmdir(\"my_first_directory\")\n",
    "os.rmdir(\"my_first_directory_jp\")\n",
    "os.rmdir(\"my_first_directoryjp2\")"
   ]
  },
  {
   "cell_type": "code",
   "execution_count": null,
   "metadata": {},
   "outputs": [],
   "source": [
    "os.removedirs(\"my_first_directoryjp2/my_first_directory_jp\")\n",
    "os.removedirs(\"my_first_directoryjp2/my_first_directoryjp2\")\n",
    "os.removedirs(\"my_first_directoryjp2/my_second_directory\")\n",
    "print(os.listdir())"
   ]
  },
  {
   "cell_type": "code",
   "execution_count": null,
   "metadata": {},
   "outputs": [],
   "source": [
    "returned_value = os.system(\"mkdir my_first_directory\")\n",
    "print(returned_value)"
   ]
  },
  {
   "cell_type": "code",
   "execution_count": null,
   "metadata": {},
   "outputs": [],
   "source": [
    "# print(os.listdir())"
   ]
  },
  {
   "cell_type": "code",
   "execution_count": null,
   "metadata": {},
   "outputs": [],
   "source": [
    "# os.getcwd()"
   ]
  },
  {
   "cell_type": "code",
   "execution_count": null,
   "metadata": {},
   "outputs": [],
   "source": [
    "def find(path=\"./tree\", diretorio=\"python\"):\n",
    "    caminho_in = os.getcwd() # Caminho atual\n",
    "    lista_dir = os.listdir()\n",
    "    pth_str = path[path.rfind('/')+1:]\n",
    "    \n",
    "    if pth_str in lista_dir: # Atualizar o caminho do diretório atual\n",
    "        os.chdir(path)\n",
    "        \n",
    "    directory = os.getcwd()\n",
    "    lista_caminh = []\n",
    "\n",
    "    for root, subdirectories, files in os.walk(directory):\n",
    "        for subdirectory in subdirectories:\n",
    "            lista_caminh.append(os.path.join(root, subdirectory))\n",
    "\n",
    "    lista_caminh_filt = list(filter(lambda x:(diretorio in x[-len(path):]),lista_caminh))\n",
    "    \n",
    "    for k in lista_caminh_filt:\n",
    "        print(k)"
   ]
  },
  {
   "cell_type": "code",
   "execution_count": null,
   "metadata": {},
   "outputs": [],
   "source": [
    "# find()"
   ]
  },
  {
   "cell_type": "code",
   "execution_count": null,
   "metadata": {},
   "outputs": [],
   "source": [
    "# os.getcwd()"
   ]
  },
  {
   "cell_type": "code",
   "execution_count": null,
   "metadata": {},
   "outputs": [],
   "source": [
    "# os.chdir('C:\\\\Users\\\\...\\\\Python Scripts')\n",
    "# os.getcwd()"
   ]
  },
  {
   "cell_type": "code",
   "execution_count": null,
   "metadata": {},
   "outputs": [],
   "source": [
    "os.listdir()"
   ]
  },
  {
   "cell_type": "code",
   "execution_count": null,
   "metadata": {},
   "outputs": [],
   "source": [
    "path=\"./gahrt/tree\"\n",
    "path.rfind('/')"
   ]
  },
  {
   "cell_type": "code",
   "execution_count": null,
   "metadata": {},
   "outputs": [],
   "source": [
    "path[path.rfind('/')+1:]"
   ]
  },
  {
   "cell_type": "code",
   "execution_count": null,
   "metadata": {},
   "outputs": [],
   "source": [
    "# list(os.walk(directory))"
   ]
  },
  {
   "cell_type": "code",
   "execution_count": null,
   "metadata": {},
   "outputs": [],
   "source": [
    "directory = os.getcwd()\n",
    "lista_caminh = []\n",
    "\n",
    "for root, subdirectories, files in os.walk(directory):\n",
    "    for subdirectory in subdirectories:\n",
    "        lista_caminh.append(os.path.join(root, subdirectory))"
   ]
  },
  {
   "cell_type": "code",
   "execution_count": null,
   "metadata": {},
   "outputs": [],
   "source": [
    "# lista_caminh"
   ]
  },
  {
   "cell_type": "code",
   "execution_count": null,
   "metadata": {},
   "outputs": [],
   "source": [
    "print(os.name)"
   ]
  },
  {
   "cell_type": "code",
   "execution_count": null,
   "metadata": {},
   "outputs": [],
   "source": [
    "os.mkdir('my_first_directory')"
   ]
  },
  {
   "cell_type": "code",
   "execution_count": null,
   "metadata": {},
   "outputs": [],
   "source": [
    "bytearray(3)"
   ]
  },
  {
   "cell_type": "code",
   "execution_count": null,
   "metadata": {},
   "outputs": [],
   "source": [
    "os.chdir('../')"
   ]
  },
  {
   "cell_type": "code",
   "execution_count": null,
   "metadata": {},
   "outputs": [],
   "source": [
    "# os.getcwd()"
   ]
  },
  {
   "cell_type": "code",
   "execution_count": null,
   "metadata": {},
   "outputs": [],
   "source": [
    "def fun(n):\n",
    "    s = '+'\n",
    "    for i in range(n):\n",
    "        s += s\n",
    "        yield s\n",
    "        \n",
    "for x in fun(2):\n",
    "    print(x,end='')"
   ]
  },
  {
   "cell_type": "code",
   "execution_count": null,
   "metadata": {},
   "outputs": [],
   "source": [
    "from datetime import date\n",
    "\n",
    "print(date(1992,1,16)-date(1991,2,5))"
   ]
  },
  {
   "cell_type": "code",
   "execution_count": null,
   "metadata": {},
   "outputs": [],
   "source": [
    "# os.chdir('C:\\\\Users\\\\...\\\\Python Scripts')"
   ]
  },
  {
   "cell_type": "code",
   "execution_count": null,
   "metadata": {},
   "outputs": [],
   "source": [
    "os.mkdir('pictures')\n",
    "os.chdir('pictures')\n",
    "os.mkdir('thumbnails')\n",
    "os.chdir('thumbnails')\n",
    "os.mkdir('tmp')\n",
    "os.chdir('../')\n",
    "\n",
    "# os.getcwd()"
   ]
  },
  {
   "cell_type": "code",
   "execution_count": null,
   "metadata": {},
   "outputs": [],
   "source": [
    "ord('p')"
   ]
  },
  {
   "cell_type": "code",
   "execution_count": null,
   "metadata": {},
   "outputs": [],
   "source": [
    "chr(114)"
   ]
  },
  {
   "cell_type": "code",
   "execution_count": null,
   "metadata": {},
   "outputs": [],
   "source": [
    "x = \"\\\\\\\"\n",
    "print(len(x))"
   ]
  },
  {
   "cell_type": "code",
   "execution_count": null,
   "metadata": {},
   "outputs": [],
   "source": [
    "1 + 1//2 +1/2 +2"
   ]
  },
  {
   "cell_type": "code",
   "execution_count": null,
   "metadata": {},
   "outputs": [],
   "source": [
    "str_1 = 'string'\n",
    "str_2 = str_1[:]\n",
    "\n",
    "str_1 is str_2"
   ]
  },
  {
   "cell_type": "code",
   "execution_count": null,
   "metadata": {},
   "outputs": [],
   "source": [
    "len((1,))"
   ]
  },
  {
   "cell_type": "code",
   "execution_count": null,
   "metadata": {},
   "outputs": [],
   "source": [
    "d = {1:0,2:1,3:2,0:1}\n",
    "x = 0\n",
    "for _ in range(len(d)):\n",
    "    x = d[x]\n",
    "    \n",
    "print(x)"
   ]
  },
  {
   "cell_type": "code",
   "execution_count": null,
   "metadata": {},
   "outputs": [],
   "source": [
    "x = \"\"\"\n",
    "\"\"\"\n",
    "print(len(x))"
   ]
  },
  {
   "cell_type": "code",
   "execution_count": null,
   "metadata": {},
   "outputs": [],
   "source": [
    "x = \"\\\"\n",
    "print(len(x))"
   ]
  },
  {
   "cell_type": "code",
   "execution_count": null,
   "metadata": {},
   "outputs": [],
   "source": [
    "def fun(x):\n",
    "    return 1 if x % 2 != 0 else 2\n",
    "\n",
    "print(fun(fun(1)))"
   ]
  },
  {
   "cell_type": "code",
   "execution_count": null,
   "metadata": {},
   "outputs": [],
   "source": [
    "s = open('Jekyll.txt','r').read()\n",
    "\n",
    "s.readlines()"
   ]
  },
  {
   "cell_type": "code",
   "execution_count": null,
   "metadata": {},
   "outputs": [],
   "source": [
    "def fun(d,k,v):\n",
    "    d[k] = v\n",
    "    \n",
    "my_dictio = {}\n",
    "\n",
    "print(fun(my_dictio,'1','v'))"
   ]
  },
  {
   "cell_type": "code",
   "execution_count": null,
   "metadata": {},
   "outputs": [],
   "source": [
    "def fun(par2,par1):\n",
    "    return par2+par1\n",
    "\n",
    "print(fun(par2=1,2))"
   ]
  },
  {
   "cell_type": "code",
   "execution_count": null,
   "metadata": {},
   "outputs": [],
   "source": [
    "d = {'one':1,'three':3,'two':2}\n",
    "\n",
    "for k in sorted(d.values()):\n",
    "    print(k,end=' ')"
   ]
  },
  {
   "cell_type": "code",
   "execution_count": null,
   "metadata": {},
   "outputs": [],
   "source": [
    "i = 4\n",
    "\n",
    "while i>0:\n",
    "    i -= 2\n",
    "    print(\"*\")\n",
    "    if i == 2:\n",
    "        break\n",
    "else:\n",
    "    print(\"*\")"
   ]
  },
  {
   "cell_type": "code",
   "execution_count": null,
   "metadata": {},
   "outputs": [],
   "source": [
    "x = 16\n",
    "\n",
    "while x >0:\n",
    "    print(\"*\")\n",
    "    x //= 2"
   ]
  },
  {
   "cell_type": "code",
   "execution_count": null,
   "metadata": {},
   "outputs": [],
   "source": [
    "class A:\n",
    "    A = 1\n",
    "    def __init__(self,v=2):\n",
    "        self.v = v + A.A\n",
    "        A.A += 1\n",
    "        \n",
    "    def set(self,v):\n",
    "        self.v += v\n",
    "        A.A += 1\n",
    "        return\n",
    "    \n",
    "a = A()    \n",
    "a.set(2)\n",
    "print(a.v)"
   ]
  },
  {
   "cell_type": "code",
   "execution_count": null,
   "metadata": {},
   "outputs": [],
   "source": [
    "lista = [[c for c in range(r)] for r in range(3)]\n",
    "\n",
    "for ele in lista:\n",
    "    if len(ele)<2:\n",
    "        print('*')"
   ]
  },
  {
   "cell_type": "code",
   "execution_count": null,
   "metadata": {},
   "outputs": [],
   "source": [
    "class A:\n",
    "    def __init__(self,v):\n",
    "        self._a = v + 1\n",
    "    \n",
    "a = A(0)\n",
    "print(a._a)"
   ]
  },
  {
   "cell_type": "code",
   "execution_count": null,
   "metadata": {},
   "outputs": [],
   "source": [
    "my_string_1 = 'Bond'\n",
    "my_string_2 = 'James Bond'\n",
    "\n",
    "print(my_string_1.isalpha(),my_string_2.isalpha())"
   ]
  },
  {
   "cell_type": "code",
   "execution_count": null,
   "metadata": {},
   "outputs": [],
   "source": [
    "# Python program to demonstrate\n",
    "# defaultdict\n",
    " \n",
    "from collections import defaultdict\n",
    " \n",
    "\n",
    "# Defining the dict\n",
    "d = defaultdict(lambda: \"Not Present\")\n",
    "d[\"a\"] = 1\n",
    "d[\"b\"] = 2\n",
    " \n",
    "# Provides the default value\n",
    "# for the key\n",
    "print(d.__missing__('a'))\n",
    "print(d.__missing__('d'))"
   ]
  },
  {
   "cell_type": "code",
   "execution_count": null,
   "metadata": {},
   "outputs": [],
   "source": [
    "print(d[\"a\"])\n",
    "print(d[\"b\"])\n",
    "print(d[\"c\"])"
   ]
  },
  {
   "cell_type": "code",
   "execution_count": null,
   "metadata": {},
   "outputs": [],
   "source": [
    "d"
   ]
  },
  {
   "cell_type": "code",
   "execution_count": null,
   "metadata": {},
   "outputs": [],
   "source": []
  },
  {
   "cell_type": "code",
   "execution_count": null,
   "metadata": {},
   "outputs": [],
   "source": []
  }
 ],
 "metadata": {
  "kernelspec": {
   "display_name": "Python 3",
   "language": "python",
   "name": "python3"
  },
  "language_info": {
   "codemirror_mode": {
    "name": "ipython",
    "version": 3
   },
   "file_extension": ".py",
   "mimetype": "text/x-python",
   "name": "python",
   "nbconvert_exporter": "python",
   "pygments_lexer": "ipython3",
   "version": "3.8.5"
  },
  "latex_envs": {
   "LaTeX_envs_menu_present": true,
   "autoclose": false,
   "autocomplete": true,
   "bibliofile": "biblio.bib",
   "cite_by": "apalike",
   "current_citInitial": 1,
   "eqLabelWithNumbers": true,
   "eqNumInitial": 1,
   "hotkeys": {
    "equation": "Ctrl-E",
    "itemize": "Ctrl-I"
   },
   "labels_anchors": false,
   "latex_user_defs": false,
   "report_style_numbering": false,
   "user_envs_cfg": false
  },
  "toc": {
   "base_numbering": 1,
   "nav_menu": {},
   "number_sections": true,
   "sideBar": true,
   "skip_h1_title": false,
   "title_cell": "Table of Contents",
   "title_sidebar": "Contents",
   "toc_cell": false,
   "toc_position": {},
   "toc_section_display": true,
   "toc_window_display": false
  },
  "varInspector": {
   "cols": {
    "lenName": 16,
    "lenType": 16,
    "lenVar": 40
   },
   "kernels_config": {
    "python": {
     "delete_cmd_postfix": "",
     "delete_cmd_prefix": "del ",
     "library": "var_list.py",
     "varRefreshCmd": "print(var_dic_list())"
    },
    "r": {
     "delete_cmd_postfix": ") ",
     "delete_cmd_prefix": "rm(",
     "library": "var_list.r",
     "varRefreshCmd": "cat(var_dic_list()) "
    }
   },
   "types_to_exclude": [
    "module",
    "function",
    "builtin_function_or_method",
    "instance",
    "_Feature"
   ],
   "window_display": false
  }
 },
 "nbformat": 4,
 "nbformat_minor": 4
}
