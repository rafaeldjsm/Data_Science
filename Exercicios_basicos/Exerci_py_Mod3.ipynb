{
 "cells": [
  {
   "cell_type": "code",
   "execution_count": 1,
   "metadata": {
    "ExecuteTime": {
     "end_time": "2021-10-16T20:52:52.483114Z",
     "start_time": "2021-10-16T20:52:49.491658Z"
    }
   },
   "outputs": [],
   "source": [
    "import pandas as pd\n",
    "import numpy as np\n",
    "import random as rnd\n",
    "import seaborn as sns\n",
    "import string \n",
    "import turtle"
   ]
  },
  {
   "cell_type": "code",
   "execution_count": 2,
   "metadata": {},
   "outputs": [
    {
     "name": "stdout",
     "output_type": "stream",
     "text": [
      "Dial a number8\n"
     ]
    },
    {
     "data": {
      "text/plain": [
       "'Entered 8'"
      ]
     },
     "execution_count": 2,
     "metadata": {},
     "output_type": "execute_result"
    }
   ],
   "source": [
    "def switcher(number):\n",
    "\n",
    "  # Use dicionário para armazenar switch cases\n",
    "  # Se não for encontrado, o get() será o valor padrão\n",
    "  return {\n",
    "    '0':\"Entered 0\",\n",
    "    '1':\"Entered 1\",\n",
    "    '2':\"Entered 2\",\n",
    "    '3':\"Entered 3\",\n",
    "    '4':\"Entered 4\",\n",
    "    '5':\"Entered 5\",\n",
    "    '6':\"Entered 6\",\n",
    "    '7':\"Entered 7\",\n",
    "    '8':\"Entered 8\",\n",
    "    '9':\"Entered 9\",\n",
    "  }.get(number,\"Invalid number!\")\n",
    "\n",
    "\n",
    "# input() lê uma entrado do usuário de stdin\n",
    "number = input(\"Dial a number\")\n",
    "switcher(number)"
   ]
  },
  {
   "cell_type": "code",
   "execution_count": null,
   "metadata": {},
   "outputs": [],
   "source": [
    "switcher('9')"
   ]
  },
  {
   "cell_type": "code",
   "execution_count": null,
   "metadata": {},
   "outputs": [],
   "source": [
    "\"\"\"\n",
    "EXERCÍCIO: implemente o exemplo de switch case acima usando as condições \"if/else\"\n",
    "\n",
    "Prompt: para cada dígito entre 0-9, o programa imprimirá uma confirmação \n",
    "para o valor inserido ou irá imprimir \"invalid inputs\" para todos os outros números.\n",
    "\"\"\"\n",
    "def switcher2(number):\n",
    "    if number == '0':\n",
    "        return \"Entered 0\"\n",
    "    elif number == '1':\n",
    "        return \"Entered 1\"\n",
    "    elif number == '2':\n",
    "        return \"Entered 2\"\n",
    "    elif number == '3':\n",
    "        return \"Entered 3\"\n",
    "    elif number == '4':\n",
    "        return \"Entered 4\"\n",
    "    elif number == '5':\n",
    "        return \"Entered 5\"\n",
    "    elif number == '6':\n",
    "        return \"Entered 6\"\n",
    "    elif number == '7':\n",
    "        return \"Entered 7\"\n",
    "    elif number == '8':\n",
    "        return \"Entered 8\"\n",
    "    elif number == '9':\n",
    "        return \"Entered 9\"\n",
    "    else:\n",
    "        return \"Invalid number!\""
   ]
  },
  {
   "cell_type": "code",
   "execution_count": null,
   "metadata": {},
   "outputs": [],
   "source": [
    "number = input(\"Dial a number\")\n",
    "switcher2(number)"
   ]
  },
  {
   "cell_type": "markdown",
   "metadata": {},
   "source": [
    "* Break: pular os códigos restantes no loop bem como as iterações remanecentes, quebrar (break) o loop mais interno.\n",
    "* Continue: pular os códigos restantes no loop e continuar para a próxima iteração do loop."
   ]
  },
  {
   "cell_type": "code",
   "execution_count": 3,
   "metadata": {
    "ExecuteTime": {
     "end_time": "2021-10-16T20:52:58.535650Z",
     "start_time": "2021-10-16T20:52:58.518660Z"
    }
   },
   "outputs": [
    {
     "name": "stdout",
     "output_type": "stream",
     "text": [
      "1\n",
      "2\n",
      "3\n",
      "4\n",
      "SKIP\n",
      "6\n",
      "7\n",
      "8\n",
      "9\n",
      "SKIP\n",
      "11\n",
      "12\n",
      "13\n",
      "14\n",
      "SKIP\n",
      "16\n",
      "17\n",
      "18\n",
      "19\n"
     ]
    }
   ],
   "source": [
    "count = 1\n",
    "\n",
    "# Implementação do loop WHILE\n",
    "while count + 1 <= 20:\n",
    "  if count % 5 == 0:\n",
    "    print(\"SKIP\")\n",
    "    count += 1\n",
    "    continue\n",
    "  print(count)\n",
    "  count += 1"
   ]
  },
  {
   "cell_type": "code",
   "execution_count": 4,
   "metadata": {
    "ExecuteTime": {
     "end_time": "2021-10-16T20:53:03.665523Z",
     "start_time": "2021-10-16T20:53:03.648535Z"
    }
   },
   "outputs": [
    {
     "name": "stdout",
     "output_type": "stream",
     "text": [
      "1\n",
      "2\n",
      "3\n",
      "4\n",
      "SKIP\n",
      "6\n",
      "7\n",
      "8\n",
      "9\n",
      "SKIP\n",
      "11\n",
      "12\n",
      "13\n",
      "14\n",
      "SKIP\n",
      "16\n",
      "17\n",
      "18\n",
      "19\n"
     ]
    }
   ],
   "source": [
    "# Implementação do loop FOR \n",
    "\n",
    "for i in range (1, 20):\n",
    "  if i % 5 == 0:\n",
    "    print(\"SKIP\")\n",
    "    continue\n",
    "  print(i)"
   ]
  },
  {
   "cell_type": "code",
   "execution_count": 5,
   "metadata": {
    "ExecuteTime": {
     "end_time": "2021-10-16T20:53:08.251662Z",
     "start_time": "2021-10-16T20:53:08.228677Z"
    }
   },
   "outputs": [
    {
     "name": "stdout",
     "output_type": "stream",
     "text": [
      "1\n",
      "2\n",
      "3\n",
      "4\n",
      "Break\n"
     ]
    }
   ],
   "source": [
    "# Implementação do loop FOR \n",
    "\n",
    "for i in range (1, 20):\n",
    "  if i % 5 == 0:\n",
    "    print(\"Break\")\n",
    "    break\n",
    "  print(i)"
   ]
  },
  {
   "cell_type": "code",
   "execution_count": 19,
   "metadata": {
    "ExecuteTime": {
     "end_time": "2021-10-16T21:12:21.207740Z",
     "start_time": "2021-10-16T21:12:21.186752Z"
    }
   },
   "outputs": [
    {
     "data": {
      "text/plain": [
       "[1, 5, 8, 6, 7, 12, 2, 3]"
      ]
     },
     "execution_count": 19,
     "metadata": {},
     "output_type": "execute_result"
    }
   ],
   "source": [
    "a = [1,3,7,5,8,2,3,6,7,12,3,2,3,3]\n",
    "\n",
    "def remov_rep2(s):\n",
    "    k = 0\n",
    "    sc = s[:] # Para evitar que a função modifique a lista usada como argumento\n",
    "    while k < len(sc):\n",
    "        if sc[k] in sc[k+1:]:\n",
    "            del sc[k]\n",
    "        else:\n",
    "            k+=1\n",
    "    return sc\n",
    "        \n",
    "        \n",
    "remov_rep2(a)"
   ]
  },
  {
   "cell_type": "code",
   "execution_count": 23,
   "metadata": {
    "ExecuteTime": {
     "end_time": "2021-10-16T21:22:43.054858Z",
     "start_time": "2021-10-16T21:22:43.037868Z"
    }
   },
   "outputs": [
    {
     "data": {
      "text/plain": [
       "[1, 3, 7, 5, 8, 2, 6, 12]"
      ]
     },
     "execution_count": 23,
     "metadata": {},
     "output_type": "execute_result"
    }
   ],
   "source": [
    "a = [1,3,7,5,8,2,3,6,7,12,3,2,3,3]\n",
    "\n",
    "def remov_rep3(s):\n",
    "    st1 = []\n",
    "    for k in s:\n",
    "        if k not in st1:\n",
    "            st1.append(k)\n",
    "    return st1\n",
    "             \n",
    "remov_rep3(a)"
   ]
  },
  {
   "cell_type": "code",
   "execution_count": 5,
   "metadata": {
    "ExecuteTime": {
     "end_time": "2021-10-16T20:54:50.177252Z",
     "start_time": "2021-10-16T20:54:35.632336Z"
    }
   },
   "outputs": [
    {
     "name": "stdout",
     "output_type": "stream",
     "text": [
      "Enter a WORD to be tested as a palindrome:recacer\n",
      "recacer is a palindrome!\n"
     ]
    }
   ],
   "source": [
    "def isPalindrome(str_in):\n",
    "    \n",
    "    str_in = ''.join(ch for ch in str_in if ch not in string.punctuation)\n",
    "    str_in = str_in.replace(\" \", \"\").lower() # Diferente do strip, pois tira até espaços em branco entre palavras\n",
    "    return str_in == str_in[::-1]\n",
    "\n",
    "# Solicitar que o usuário digite a sentença\n",
    "def main():\n",
    "  userInput = input(\"Enter a WORD to be tested as a palindrome:\")\n",
    "\n",
    "  if (isPalindrome(userInput)):\n",
    "    print(userInput + \" is a palindrome!\")\n",
    "  else:\n",
    "    print(userInput + \" is NOT a palindrome!\")\n",
    "\n",
    "if __name__ == \"__main__\":\n",
    "    main()"
   ]
  },
  {
   "cell_type": "code",
   "execution_count": null,
   "metadata": {},
   "outputs": [],
   "source": []
  },
  {
   "cell_type": "code",
   "execution_count": null,
   "metadata": {},
   "outputs": [],
   "source": [
    "string.punctuation"
   ]
  },
  {
   "cell_type": "code",
   "execution_count": null,
   "metadata": {},
   "outputs": [],
   "source": [
    "st = 'amora é uma ótima fruta'"
   ]
  },
  {
   "cell_type": "code",
   "execution_count": null,
   "metadata": {},
   "outputs": [],
   "source": [
    "''.join(ch for ch in st if ch not in string.punctuation)"
   ]
  },
  {
   "cell_type": "code",
   "execution_count": null,
   "metadata": {},
   "outputs": [],
   "source": [
    "st.strip()"
   ]
  },
  {
   "cell_type": "code",
   "execution_count": null,
   "metadata": {},
   "outputs": [],
   "source": [
    "st.replace(\" \", \"\").lower()"
   ]
  },
  {
   "cell_type": "code",
   "execution_count": null,
   "metadata": {},
   "outputs": [],
   "source": [
    "# Initiate a list with elements\n",
    "list2 = ['hello', 'hola', 'olá']\n",
    "\n",
    "# Insert a new element as a specific location, at index 1\n",
    "list2.insert(1,'hallo')\n",
    "list2[1]"
   ]
  },
  {
   "cell_type": "code",
   "execution_count": null,
   "metadata": {},
   "outputs": [],
   "source": [
    "list2"
   ]
  },
  {
   "cell_type": "code",
   "execution_count": null,
   "metadata": {},
   "outputs": [],
   "source": [
    "a = [5,8,2,38,3]\n",
    "\n",
    "sorted(a)"
   ]
  },
  {
   "cell_type": "code",
   "execution_count": null,
   "metadata": {},
   "outputs": [],
   "source": [
    "a"
   ]
  },
  {
   "cell_type": "code",
   "execution_count": null,
   "metadata": {},
   "outputs": [],
   "source": [
    "a.sort() # Não tem retorno, apenas modifica a lista original"
   ]
  },
  {
   "cell_type": "code",
   "execution_count": null,
   "metadata": {},
   "outputs": [],
   "source": [
    "x = (1,2,3)\n",
    "x[1]"
   ]
  },
  {
   "cell_type": "code",
   "execution_count": null,
   "metadata": {},
   "outputs": [],
   "source": [
    "x.index(1)"
   ]
  },
  {
   "cell_type": "markdown",
   "metadata": {},
   "source": [
    "* set : Conjunto: uma estrutura de dados mutável que armazena objetos não duplicados e imutáveis e ordena os elementos em ordem ascendente. Cada elemento do conjunto é único."
   ]
  },
  {
   "cell_type": "code",
   "execution_count": 81,
   "metadata": {},
   "outputs": [
    {
     "data": {
      "text/plain": [
       "{0, 1, 2, 3, 4, 5, 6, 7, 8, 9, 50, 100}"
      ]
     },
     "execution_count": 81,
     "metadata": {},
     "output_type": "execute_result"
    }
   ],
   "source": [
    "ex2 = {j for j in range(10)}\n",
    "\n",
    "# 2 já existe no ex2. O que acontece se quisermos acrescentar o 2 novamente?\n",
    "  # Nota: A implementação do conjunto NÃO definiu append(), então usaremos add().\n",
    "    # add() irá inserir o novo elemento na posição correta com a ordenação do conjunto\n",
    "ex2.add(2)\n",
    "ex2.add(100)\n",
    "ex2.add(50)\n",
    "ex2"
   ]
  },
  {
   "cell_type": "code",
   "execution_count": 82,
   "metadata": {},
   "outputs": [
    {
     "data": {
      "text/plain": [
       "set"
      ]
     },
     "execution_count": 82,
     "metadata": {},
     "output_type": "execute_result"
    }
   ],
   "source": [
    "type(ex2)"
   ]
  },
  {
   "cell_type": "code",
   "execution_count": 83,
   "metadata": {},
   "outputs": [
    {
     "data": {
      "text/plain": [
       "({2, 3, 5, 6, 8}, set)"
      ]
     },
     "execution_count": 83,
     "metadata": {},
     "output_type": "execute_result"
    }
   ],
   "source": [
    "ex3 = {3,5,6,2,8,2}\n",
    "ex3, type(ex3)"
   ]
  },
  {
   "cell_type": "code",
   "execution_count": 2,
   "metadata": {},
   "outputs": [
    {
     "ename": "TypeError",
     "evalue": "unhashable type: 'list'",
     "output_type": "error",
     "traceback": [
      "\u001b[1;31m---------------------------------------------------------------------------\u001b[0m",
      "\u001b[1;31mTypeError\u001b[0m                                 Traceback (most recent call last)",
      "\u001b[1;32m<ipython-input-2-320e4fde0d0d>\u001b[0m in \u001b[0;36m<module>\u001b[1;34m\u001b[0m\n\u001b[0;32m      1\u001b[0m \u001b[1;31m# objetos mutáveis não podem ser colocados em um conjunto\u001b[0m\u001b[1;33m\u001b[0m\u001b[1;33m\u001b[0m\u001b[1;33m\u001b[0m\u001b[0m\n\u001b[1;32m----> 2\u001b[1;33m \u001b[0md_set\u001b[0m \u001b[1;33m=\u001b[0m \u001b[1;33m{\u001b[0m\u001b[1;33m[\u001b[0m\u001b[1;36m1\u001b[0m\u001b[1;33m,\u001b[0m\u001b[1;36m2\u001b[0m\u001b[1;33m,\u001b[0m\u001b[1;36m3\u001b[0m\u001b[1;33m]\u001b[0m\u001b[1;33m}\u001b[0m\u001b[1;33m\u001b[0m\u001b[1;33m\u001b[0m\u001b[0m\n\u001b[0m\u001b[0;32m      3\u001b[0m \u001b[1;33m\u001b[0m\u001b[0m\n\u001b[0;32m      4\u001b[0m \u001b[0md_set\u001b[0m\u001b[1;33m\u001b[0m\u001b[1;33m\u001b[0m\u001b[0m\n",
      "\u001b[1;31mTypeError\u001b[0m: unhashable type: 'list'"
     ]
    }
   ],
   "source": [
    "# objetos mutáveis não podem ser colocados em um conjunto\n",
    "d_set = {[1,2,3]}\n",
    "\n",
    "d_set"
   ]
  },
  {
   "cell_type": "code",
   "execution_count": 88,
   "metadata": {},
   "outputs": [
    {
     "data": {
      "text/plain": [
       "set()"
      ]
     },
     "execution_count": 88,
     "metadata": {},
     "output_type": "execute_result"
    }
   ],
   "source": [
    "testst = set()\n",
    "testst"
   ]
  },
  {
   "cell_type": "code",
   "execution_count": 90,
   "metadata": {},
   "outputs": [
    {
     "data": {
      "text/plain": [
       "{6}"
      ]
     },
     "execution_count": 90,
     "metadata": {},
     "output_type": "execute_result"
    }
   ],
   "source": [
    "testst.add(6)\n",
    "testst"
   ]
  },
  {
   "cell_type": "markdown",
   "metadata": {},
   "source": [
    "# Modelos com o módulo Turtle"
   ]
  },
  {
   "cell_type": "code",
   "execution_count": null,
   "metadata": {
    "ExecuteTime": {
     "end_time": "2021-10-07T01:12:05.277946Z",
     "start_time": "2021-10-07T01:11:42.130872Z"
    }
   },
   "outputs": [],
   "source": [
    "wn = turtle.Screen()\n",
    "wn.bgcolor(\"#90ee90\") #rgb 144 238 144\n",
    "rafturtle = turtle.Turtle()\n",
    "\n",
    "rafturtle.shape(\"turtle\")\n",
    "rafturtle.color(\"blue\")\n",
    "rafturtle.pensize(3)\n",
    "\n",
    "rafturtle.up()\n",
    "rafturtle.stamp()\n",
    "\n",
    "for k in range(12):\n",
    "    rafturtle.forward(110)\n",
    "    rafturtle.down()\n",
    "    rafturtle.forward(10)\n",
    "    rafturtle.up()\n",
    "    rafturtle.forward(30)\n",
    "    rafturtle.stamp()\n",
    "    rafturtle.forward(-150)\n",
    "    rafturtle.right(30)\n",
    "\n",
    "turtle.done()\n",
    "turtle.exitonclick()"
   ]
  },
  {
   "cell_type": "code",
   "execution_count": null,
   "metadata": {},
   "outputs": [],
   "source": [
    "# escreva o seu programa\n",
    "# 6   -2   7   0  -5   8  4\n",
    "n = int(input(\"entre com a quantidade de números:\"))\n",
    "\n",
    "contpar = 0\n",
    "\n",
    "for k in range(n):\n",
    "    num =  int(input(\"digite o valor do número:\"))\n",
    "    if num % 2 == 0:\n",
    "        contpar = contpar + 1\n",
    "    \n",
    "    \n",
    "print(\"Existem\",contpar,\"pares e\",n-contpar,\"impares\")"
   ]
  },
  {
   "cell_type": "code",
   "execution_count": null,
   "metadata": {},
   "outputs": [],
   "source": [
    "n = int(input(\"entre com a quantidade de números:\"))\n",
    "\n",
    "div = 0\n",
    "tring = 0 \n",
    "for k in range(2,int(n**0.5)+1):\n",
    "    if n % k == 0:\n",
    "        div = div + 1        \n",
    "        if n % k == 0 and n % (k+1) == 0 and n % (k+2) == 0:\n",
    "            tring = tring + 1\n",
    "            print(n,\"é triangular e divisível por\",k,k+1,\"e\",k+2)\n",
    "                    \n",
    "if div == 0:\n",
    "    print(n,\"é um número primo\")\n",
    "else:\n",
    "    print(n,\"não é primo\")    \n",
    "    if tring == 0:\n",
    "        print(n,\"não é tringular\")"
   ]
  },
  {
   "cell_type": "code",
   "execution_count": null,
   "metadata": {},
   "outputs": [],
   "source": [
    "#primo e não primo\n",
    "\n",
    "n = int(input(\"Digite um número inteiro: \"))\n",
    "\n",
    "div = 0\n",
    "k = 2\n",
    "\n",
    "while k <= int(n**0.5):\n",
    "    if n % k == 0:\n",
    "        div = div + 1\n",
    "    k+= 1\n",
    "                  \n",
    "if div == 0:\n",
    "    print(\"primo\")\n",
    "else:\n",
    "    print(\"não primo\")"
   ]
  },
  {
   "cell_type": "code",
   "execution_count": null,
   "metadata": {},
   "outputs": [],
   "source": [
    "#6   2.3   3   5.0  6.5  8.7  4.9\n",
    "\n",
    "'''\n",
    "Total de alunos= 6\n",
    "Numero de alunos reprovados = 1\n",
    "Numero de alunos de recuperacao = 2\n",
    "Numero de alunos aprovados = 3\n",
    "Numero de alunos com desempenho muito bom = 1\n",
    "'''\n",
    "\n",
    "n = int(input(\"Digite o numero de alunos: \"))\n",
    "soma = 0\n",
    "cont_rec = cont = 0\n",
    "cont_rep = 0\n",
    "cont_ap = 0\n",
    "cont_mb = 0\n",
    "for k in range(n):\n",
    "    nota = float(input(\"Digite uma nota: \"))  # veja o float() aqui\n",
    "    cont = cont +1\n",
    "    if nota < 3:\n",
    "        cont_rep = cont_rep +1    \n",
    "    \n",
    "    elif nota < 5:\n",
    "        cont_rec = cont_rec +1\n",
    "        \n",
    "    elif nota < 8:\n",
    "        cont_ap = cont_ap +1\n",
    "\n",
    "print(cont_rep,\"Alunos foram reprovados\")\n",
    "print(cont_rec,\"Alunos ficaram de recuperação\")\n",
    "print(n-cont_rep-cont_rec,\"Alunos foram aprovados\")\n",
    "print(n-cont_rep-cont_rec-cont_ap,\"Alunos tiveram desempenho muito bom\")"
   ]
  },
  {
   "cell_type": "code",
   "execution_count": null,
   "metadata": {},
   "outputs": [],
   "source": [
    "# 1234321 a resposta é não e\n",
    "# 1234556 a resposta é sim.\n",
    "\n",
    "\n",
    "n = int(input(\"Entre com o número: \"))\n",
    "\n",
    "k = n\n",
    "w = n % 10\n",
    "adj = 0\n",
    "\n",
    "while k > 0:\n",
    "    k = k // 10\n",
    "    if w == k % 10:\n",
    "        adj = adj +1\n",
    "        print(\"O número contém digitos adjacentes\")\n",
    "    w = k % 10\n",
    "    \n",
    "if adj == 0:\n",
    "    print(\"O número não contém digitos adjacentes\")"
   ]
  },
  {
   "cell_type": "code",
   "execution_count": null,
   "metadata": {},
   "outputs": [],
   "source": [
    "# Números adjacentes\n",
    "\n",
    "n = int(input(\"Digite um número inteiro: \"))\n",
    "\n",
    "k = n\n",
    "w = n % 10\n",
    "adj = 0\n",
    "\n",
    "while k > 0:\n",
    "    k = k // 10\n",
    "    if w == k % 10:\n",
    "        adj = adj +1\n",
    "        print(\"sim\")\n",
    "    w = k % 10\n",
    "    \n",
    "if adj == 0:\n",
    "    print(\"não\")"
   ]
  },
  {
   "cell_type": "code",
   "execution_count": null,
   "metadata": {},
   "outputs": [],
   "source": [
    "#Fatorial\n",
    "n = int(input(\"Digite o valor de n: \"))\n",
    "k = 1\n",
    "fat = 1\n",
    "while k <= n:\n",
    "    fat = fat * k \n",
    "    k+=1\n",
    "print(fat)    "
   ]
  },
  {
   "cell_type": "code",
   "execution_count": null,
   "metadata": {},
   "outputs": [],
   "source": [
    "#N Prmeiros impares\n",
    "n = int(input(\"Digite o valor de n: \"))\n",
    "k = 0\n",
    "\n",
    "while k < n:\n",
    "    print(2*k+1)\n",
    "    k+=1"
   ]
  },
  {
   "cell_type": "code",
   "execution_count": null,
   "metadata": {},
   "outputs": [],
   "source": [
    "#Soma dos dígitos\n",
    "n = int(input(\"Digite um número inteiro: \"))\n",
    "\n",
    "cnt = n\n",
    "k = 0\n",
    "\n",
    "while cnt > 0:\n",
    "    k = k + cnt % 10\n",
    "    cnt = cnt // 10\n",
    "    \n",
    "print(k)"
   ]
  },
  {
   "cell_type": "markdown",
   "metadata": {},
   "source": [
    "# Mod 7"
   ]
  },
  {
   "cell_type": "markdown",
   "metadata": {},
   "source": [
    "## Fatorial"
   ]
  },
  {
   "cell_type": "code",
   "execution_count": null,
   "metadata": {},
   "outputs": [],
   "source": [
    "n = 1\n",
    "\n",
    "while n > 0:\n",
    "    n = int(input(\"Digite um número inteiro positivo: \"))\n",
    "    fat = 1\n",
    "    while n >= 1:\n",
    "        fat = fat*n\n",
    "        n+=-1\n",
    "    print(fat)"
   ]
  },
  {
   "cell_type": "markdown",
   "metadata": {},
   "source": [
    "## Decomposição em primos."
   ]
  },
  {
   "cell_type": "code",
   "execution_count": null,
   "metadata": {},
   "outputs": [],
   "source": [
    "n = int(input(\"Digite um número inteiro positivo > 1: \"))\n",
    "\n",
    "k = 2\n",
    "div = n\n",
    "\n",
    "while div > 1:\n",
    "    m = 0\n",
    "    while div % k == 0:\n",
    "        div = div // k\n",
    "        m+=1\n",
    "    if m > 0:\n",
    "        print(k,\"^\",m,\"é fator de \",n)\n",
    "    k+= 1"
   ]
  },
  {
   "cell_type": "markdown",
   "metadata": {},
   "source": [
    "## Função para verificar se um número é primo"
   ]
  },
  {
   "cell_type": "code",
   "execution_count": null,
   "metadata": {
    "ExecuteTime": {
     "end_time": "2021-10-12T02:03:19.100548Z",
     "start_time": "2021-10-12T02:03:19.094554Z"
    }
   },
   "outputs": [],
   "source": [
    "def ehprimo(n):\n",
    "    k = 2\n",
    "    \n",
    "    while n % k != 0 and k <= int(n**0.5): \n",
    "        k+= 1\n",
    "                      \n",
    "    return n % k != 0 or n == 2"
   ]
  },
  {
   "cell_type": "markdown",
   "metadata": {},
   "source": [
    "## Imprimindo os 1000 primeiros primos"
   ]
  },
  {
   "cell_type": "code",
   "execution_count": null,
   "metadata": {},
   "outputs": [],
   "source": [
    "def colors_256(color_,txt='texto'):\n",
    "    num1 = str(color_)\n",
    "    if color_ % 16 == 0:\n",
    "        return(f\"\\033[38;5;{num1}m {txt} \\033[0;0m\\n\")\n",
    "    else:\n",
    "        return(f\"\\033[38;5;{num1}m {txt} \\033[0;0m\")"
   ]
  },
  {
   "cell_type": "code",
   "execution_count": null,
   "metadata": {},
   "outputs": [],
   "source": [
    "k = 0\n",
    "w = 1\n",
    "while k <= 1000:\n",
    "    w+= 1\n",
    "    if ehprimo(w):\n",
    "        k+= 1\n",
    "        print(colors_256(w % 10,str(w)),end=\",\")"
   ]
  },
  {
   "cell_type": "code",
   "execution_count": null,
   "metadata": {},
   "outputs": [],
   "source": [
    "ehprimo(654923)"
   ]
  },
  {
   "cell_type": "code",
   "execution_count": null,
   "metadata": {},
   "outputs": [],
   "source": [
    "ehprimo(7927)"
   ]
  },
  {
   "cell_type": "markdown",
   "metadata": {},
   "source": [
    "## Exercício 1"
   ]
  },
  {
   "cell_type": "markdown",
   "metadata": {},
   "source": [
    "### imprime_retangulo_cheio.py"
   ]
  },
  {
   "cell_type": "code",
   "execution_count": null,
   "metadata": {
    "scrolled": false
   },
   "outputs": [],
   "source": [
    "l = int(input(\"digite a largura: \"))\n",
    "a = int(input(\"digite a altura: \"))\n",
    "k = 0\n",
    "\n",
    "while k < a:\n",
    "    k+=1\n",
    "    j = 0\n",
    "    while j < l:\n",
    "        j+=1\n",
    "        print(\"#\",end=\"\")\n",
    "    print()"
   ]
  },
  {
   "cell_type": "markdown",
   "metadata": {},
   "source": [
    "### imprime_retangulo_vazado.py"
   ]
  },
  {
   "cell_type": "code",
   "execution_count": null,
   "metadata": {},
   "outputs": [],
   "source": [
    "l = int(input(\"digite a largura: \"))\n",
    "a = int(input(\"digite a altura: \"))\n",
    "k = 0\n",
    "\n",
    "while k < a:\n",
    "    k+=1\n",
    "    j = 0\n",
    "    while j < l:\n",
    "        j+=1\n",
    "        if k in [1,a]:\n",
    "            print(\"#\",end=\"\")\n",
    "        else:\n",
    "            if j in [1,l]:\n",
    "                print(\"#\",end=\"\")\n",
    "            else:\n",
    "                print(\" \",end=\"\")\n",
    "    print()"
   ]
  },
  {
   "cell_type": "code",
   "execution_count": null,
   "metadata": {},
   "outputs": [],
   "source": [
    "### Exercício 1 - Primos\n",
    "\n",
    "# conta_primos.py\n",
    "\n",
    "def ehprimo(n):\n",
    "    k = 2\n",
    "    \n",
    "    while n % k != 0 and k <= int(n**0.5): \n",
    "        k+= 1\n",
    "                      \n",
    "    return n % k != 0 or n == 2\n",
    "\n",
    "def n_primos(n):\n",
    "    cnt = 0\n",
    "    while n >= 2:\n",
    "        if ehprimo(n):\n",
    "            cnt+=1\n",
    "        n+=-1\n",
    "    return cnt"
   ]
  },
  {
   "cell_type": "code",
   "execution_count": null,
   "metadata": {},
   "outputs": [],
   "source": [
    "n_primos(121)"
   ]
  },
  {
   "cell_type": "code",
   "execution_count": null,
   "metadata": {},
   "outputs": [],
   "source": [
    "# soma_hipotenusas.py\n",
    "\n",
    "def é_hipotenusa(n):\n",
    "    k = cnt = 1\n",
    "    while k <= n and (n**2 - k**2)**0.5 != int((n**2 - k**2)**0.5):\n",
    "        k+=1\n",
    "\n",
    "    return k != n\n",
    "\n",
    "def soma_hipotenusas(n):\n",
    "    k = s = 0\n",
    "    while k <= n:\n",
    "        if é_hipotenusa(k):\n",
    "            s+=k\n",
    "        k+=1\n",
    "    return s"
   ]
  },
  {
   "cell_type": "code",
   "execution_count": null,
   "metadata": {},
   "outputs": [],
   "source": [
    "é_hipotenusa(13)"
   ]
  },
  {
   "cell_type": "code",
   "execution_count": null,
   "metadata": {
    "scrolled": true
   },
   "outputs": [],
   "source": [
    "soma_hipotenusas(25)"
   ]
  },
  {
   "cell_type": "code",
   "execution_count": null,
   "metadata": {},
   "outputs": [],
   "source": [
    "n = 100\n",
    "\n",
    "x = [*range(n)]\n",
    "\n",
    "y = []\n",
    "\n",
    "j = k = 0\n",
    "while j < n:\n",
    "    if é_hipotenusa(k):\n",
    "        y.append(k)\n",
    "        j+=1\n",
    "    k+=1\n",
    "    \n",
    "\n",
    "y2 = []\n",
    "j = k = 0\n",
    "while j < n:\n",
    "    if soma_hipotenusas(k):\n",
    "        y2.append(k)\n",
    "        j+=1\n",
    "    k+=1"
   ]
  },
  {
   "cell_type": "code",
   "execution_count": null,
   "metadata": {},
   "outputs": [],
   "source": [
    "for k in y:\n",
    "    print(k,end=\",\")"
   ]
  },
  {
   "cell_type": "code",
   "execution_count": null,
   "metadata": {},
   "outputs": [],
   "source": [
    "sns.lineplot(x=x, y=y);"
   ]
  },
  {
   "cell_type": "code",
   "execution_count": null,
   "metadata": {},
   "outputs": [],
   "source": [
    "sns.lineplot(x=x, y=y2);"
   ]
  },
  {
   "cell_type": "code",
   "execution_count": null,
   "metadata": {
    "ExecuteTime": {
     "end_time": "2021-10-12T02:08:33.076842Z",
     "start_time": "2021-10-12T02:08:23.530196Z"
    }
   },
   "outputs": [],
   "source": [
    "def main():\n",
    "    n = 1\n",
    "    cnt = 0\n",
    "    while n != 0:\n",
    "        n = int(input(\"Digite um número inteiro: \"))\n",
    "        if ehprimo(n):\n",
    "            cnt+=1\n",
    "    return cnt\n",
    "\n",
    "        \n",
    "def ehprimo(n):\n",
    "    k = 2\n",
    "    \n",
    "    while n % k != 0 and k <= int(n**0.5): \n",
    "        k+= 1\n",
    "                      \n",
    "    return n % k != 0 or n == 2        \n",
    "        \n",
    "#-----------------------------------------------------\n",
    "main() # chamada da funcao principal"
   ]
  },
  {
   "cell_type": "markdown",
   "metadata": {},
   "source": [
    "# MDC"
   ]
  },
  {
   "cell_type": "code",
   "execution_count": null,
   "metadata": {},
   "outputs": [],
   "source": [
    "def main():\n",
    "    n = int(input(\"Quantos números deseja analisar: \"))\n",
    "\n",
    "    k = 1\n",
    "\n",
    "    mod = int(input(\"Digite o 1º. número: \"))\n",
    "\n",
    "    while k < n:\n",
    "        k+=1\n",
    "        num = int(input(\"Digite o %dº. número: \" %(k)))\n",
    "        mod = mdc(mod,num)\n",
    "\n",
    "    print(mod)    \n",
    "\n",
    "def mdc(a,b):\n",
    "    \n",
    "    mod = a if a > b else b\n",
    "    \n",
    "    while a%mod != 0 or b%mod != 0:\n",
    "        mod+=-1\n",
    "    print(\"O MDC dos números inseridos é\",mod)\n",
    "    return mod\n",
    "\n",
    "main()"
   ]
  },
  {
   "cell_type": "markdown",
   "metadata": {},
   "source": [
    "# Fatorial"
   ]
  },
  {
   "cell_type": "code",
   "execution_count": null,
   "metadata": {},
   "outputs": [],
   "source": [
    "'''Exercício 7.3\n",
    "Dados um número inteiro n, n > 0, e uma sequência com n números inteiros maiores do que zero, \n",
    "determinar o fatorial de cada número da sequência.'''\n",
    "\n",
    "def fatorial(n):\n",
    "\n",
    "    fat = 1\n",
    "    while n >= 1:\n",
    "        fat = fat*n\n",
    "        n+=-1\n",
    "    return fat\n",
    "\n",
    "def main():\n",
    "    n = int(input(\"Quantos números deseja analisar: \"))    \n",
    "    k = 0\n",
    "\n",
    "    while k < n:\n",
    "        k+=1\n",
    "        num = int(input(\"Digite o %dº. número: \" %(k)))\n",
    "        print(num,fatorial(num))  \n",
    "        \n",
    "main()"
   ]
  },
  {
   "cell_type": "code",
   "execution_count": null,
   "metadata": {},
   "outputs": [],
   "source": [
    "def inout(x,y):\n",
    "    if ( (abs(x) <= 3) and (y <= 2 and y >= 1)):\n",
    "        print(\"fora\")\n",
    "        \n",
    "    elif (abs(x)>=1 and abs(x)<=4 and y<8):\n",
    "        if ((abs(x)> 2 and abs(x)< 3) and (y>5 and y<6)):\n",
    "            print(\"dentro\")\n",
    "        else:\n",
    "            print(\"fora\")\n",
    "            \n",
    "    elif abs(x) >= 5 or (y<=0 or y>=8):\n",
    "        print(\"Ponto não contemplado\")\n",
    "    else:\n",
    "        print(\"dentro\")"
   ]
  },
  {
   "cell_type": "code",
   "execution_count": null,
   "metadata": {},
   "outputs": [],
   "source": [
    "inout(-3,1)"
   ]
  },
  {
   "cell_type": "code",
   "execution_count": null,
   "metadata": {},
   "outputs": [],
   "source": [
    "'''\n",
    "Exercício 8.2\n",
    "Nota: Exercício 9 da lista sobre inteiros.\n",
    "\n",
    "Dados números inteiros n, i e j, todos maiores do que zero, imprimir em ordem crescente os n primeiros naturais que são múltiplos de i ou de j e ou de ambos.\n",
    "\n",
    "Por exemplo, para n = 6, i = 2 e j = 3 a saída deverá ser:\n",
    "\n",
    "0   2   3   4   6   8\n",
    "'''\n",
    "\n",
    "n = int(input(\"Digite n: \"))\n",
    "i = int(input(\"Digite i: \"))\n",
    "j = int(input(\"Digite j: \"))\n",
    "\n",
    "k = 1\n",
    "\n",
    "mi = 1\n",
    "mj = 1\n",
    "\n",
    "print(0,end=\" \")\n",
    "\n",
    "while k <= n:\n",
    "    if mi*i > mj*j:\n",
    "        print(mi*i, end=\" \")\n",
    "        mj+= 1 \n",
    "    else:\n",
    "        print(mj*j, end=\" \")\n",
    "        mi+= 1 \n",
    "    k = mi + mj"
   ]
  },
  {
   "cell_type": "markdown",
   "metadata": {},
   "source": [
    "## MDC pelo Algoritmo de Euclides"
   ]
  },
  {
   "cell_type": "code",
   "execution_count": null,
   "metadata": {},
   "outputs": [],
   "source": [
    "def mdc_eu(a,b):\n",
    "    \n",
    "    if a < b:\n",
    "        a,b=b,a\n",
    "        \n",
    "    if (b == 0):\n",
    "        return a\n",
    "    else:\n",
    "        return mdc_eu(b, a % b)"
   ]
  },
  {
   "cell_type": "code",
   "execution_count": null,
   "metadata": {},
   "outputs": [],
   "source": [
    "mdc_eu(156,348)"
   ]
  },
  {
   "cell_type": "markdown",
   "metadata": {},
   "source": [
    "# Lista Inversa"
   ]
  },
  {
   "cell_type": "code",
   "execution_count": null,
   "metadata": {
    "scrolled": true
   },
   "outputs": [],
   "source": [
    "n = k = 1\n",
    "lst = []\n",
    "\n",
    "while n != 0:\n",
    "    n = int(input(f\"Digite o {k}º Número, terminar em 0 (zero): \"))\n",
    "    k+=1\n",
    "    if n != 0:\n",
    "        lst.append(n)\n",
    "print(lst[::-1])"
   ]
  },
  {
   "cell_type": "code",
   "execution_count": null,
   "metadata": {},
   "outputs": [],
   "source": [
    "aluno = [\"Fulano de Tal\", 25, \"Rua xyz, 123\", \"São Paulo\", 3, \"Matemática\", 7.5, \"Português\", 6.6, \"Artes\", 10]\n",
    "len(aluno)"
   ]
  },
  {
   "cell_type": "code",
   "execution_count": null,
   "metadata": {},
   "outputs": [],
   "source": [
    "aluno[4]"
   ]
  },
  {
   "cell_type": "code",
   "execution_count": null,
   "metadata": {},
   "outputs": [],
   "source": [
    "len(aluno)"
   ]
  },
  {
   "cell_type": "code",
   "execution_count": null,
   "metadata": {},
   "outputs": [],
   "source": [
    "a = pd.DataFrame([[1,2,9],[6,7,3],[7,3,2]])\n",
    "\n",
    "b = a.iloc[:2,:2] # Atribuindo a b sem \"copy\"\n",
    "\n",
    "b"
   ]
  },
  {
   "cell_type": "code",
   "execution_count": null,
   "metadata": {},
   "outputs": [],
   "source": [
    "b.iloc[0,0] = 25\n",
    "b # Neste caso, qualquer valor atualizado em a, altera também b"
   ]
  },
  {
   "cell_type": "code",
   "execution_count": null,
   "metadata": {},
   "outputs": [],
   "source": [
    "a"
   ]
  },
  {
   "cell_type": "code",
   "execution_count": null,
   "metadata": {},
   "outputs": [],
   "source": [
    "a = pd.DataFrame([[1,2,9],[6,7,3],[7,3,2]])\n",
    "\n",
    "b = a.iloc[:2,:2].copy() # Atribuindo a b com \"copy\"\n",
    "\n",
    "b"
   ]
  },
  {
   "cell_type": "code",
   "execution_count": null,
   "metadata": {},
   "outputs": [],
   "source": [
    "a.iloc[0,0] = 25\n",
    "b # Neste caso, qualquer valor atualizado em a, não altera também b (b vira um clone de a e se torna idependente)"
   ]
  },
  {
   "cell_type": "code",
   "execution_count": null,
   "metadata": {},
   "outputs": [],
   "source": [
    "alfabeto = [\"a\", \"b\", \"c\", \"d\", \"e\", \"f\", \"g\", \"h\", \"i\", \"j\", \"k\", \"l\", \"m\", \"n\", \"o\", \"p\", \"q\", \"r\", \"s\", \"t\", \"u\", \"v\", \"w\", \"x\", \"y\", \"z\"]"
   ]
  },
  {
   "cell_type": "code",
   "execution_count": null,
   "metadata": {},
   "outputs": [],
   "source": [
    "alfabeto[1:10], len(alfabeto[1:10])"
   ]
  },
  {
   "cell_type": "code",
   "execution_count": null,
   "metadata": {},
   "outputs": [],
   "source": [
    "len(alfabeto)"
   ]
  },
  {
   "cell_type": "code",
   "execution_count": null,
   "metadata": {},
   "outputs": [],
   "source": [
    "alfabeto[13:35]"
   ]
  },
  {
   "cell_type": "code",
   "execution_count": null,
   "metadata": {},
   "outputs": [],
   "source": [
    "letras = alfabeto[1:10]\n",
    "letras"
   ]
  },
  {
   "cell_type": "code",
   "execution_count": null,
   "metadata": {},
   "outputs": [],
   "source": [
    "len(letras)"
   ]
  },
  {
   "cell_type": "code",
   "execution_count": null,
   "metadata": {},
   "outputs": [],
   "source": [
    "alfabeto[:13]"
   ]
  },
  {
   "cell_type": "code",
   "execution_count": null,
   "metadata": {},
   "outputs": [],
   "source": [
    "alfabeto[13:],len(alfabeto[13:])"
   ]
  },
  {
   "cell_type": "code",
   "execution_count": null,
   "metadata": {},
   "outputs": [],
   "source": [
    "def remove_repetidos(lst):\n",
    "    '''\n",
    "    Função para eliminar termos repetidos em uma lista e retornar \n",
    "    uma nova lista ordenada\n",
    "    '''\n",
    "    lista_temp = []\n",
    "    for j,k in enumerate(lst):\n",
    "        if k not in lst[j+1:]:\n",
    "            lista_temp.append(k)\n",
    "        \n",
    "    return sorted(lista_temp)"
   ]
  },
  {
   "cell_type": "code",
   "execution_count": null,
   "metadata": {},
   "outputs": [],
   "source": [
    "remove_repetidos([1,2,1,3,4,7,10])"
   ]
  },
  {
   "cell_type": "code",
   "execution_count": null,
   "metadata": {},
   "outputs": [],
   "source": [
    "remove_repetidos([2, 4, 2, 2, 3, 3, 1])"
   ]
  },
  {
   "cell_type": "code",
   "execution_count": null,
   "metadata": {},
   "outputs": [],
   "source": [
    "lst = [2, 4, 2, 2, 3, 3, 1]\n",
    "lst.sort() # Modifica a lista orignal, como um \"inplace\"\n",
    "lst"
   ]
  },
  {
   "cell_type": "code",
   "execution_count": null,
   "metadata": {},
   "outputs": [],
   "source": [
    "lst = [2, 4, 2, 2, 3, 3, 1]\n",
    "sorted(lst) # Não modifica a lista original, apenas retorna uma lista nova ordenada\n",
    "lst"
   ]
  },
  {
   "cell_type": "code",
   "execution_count": null,
   "metadata": {},
   "outputs": [],
   "source": [
    "def soma_elementos (lst):\n",
    "    '''\n",
    "    Função que recebe como parâmetro uma lista com números inteiros e \n",
    "    devolve um número inteiro correspondente à soma dos elementos da lista recebida.\n",
    "    '''\n",
    "    sum = 0 \n",
    "    for k in lst:\n",
    "        sum = sum + k\n",
    "    return sum"
   ]
  },
  {
   "cell_type": "code",
   "execution_count": null,
   "metadata": {},
   "outputs": [],
   "source": [
    "soma_elementos(lst)"
   ]
  },
  {
   "cell_type": "code",
   "execution_count": null,
   "metadata": {},
   "outputs": [],
   "source": [
    "sum(lst)"
   ]
  },
  {
   "cell_type": "code",
   "execution_count": null,
   "metadata": {},
   "outputs": [],
   "source": [
    "def maior_elemento(lista):\n",
    "    '''\n",
    "    Função que recebe como parâmetro uma lista com números inteiros e devolve \n",
    "    um número inteiro correspondente ao maior valor presente na lista recebida.\n",
    "    '''\n",
    "    maior = lista[0]\n",
    "    for k in lista:\n",
    "        if k > maior:\n",
    "            maior = k\n",
    "    return maior"
   ]
  },
  {
   "cell_type": "code",
   "execution_count": null,
   "metadata": {},
   "outputs": [],
   "source": [
    "maior_elemento(lst+[39])"
   ]
  },
  {
   "cell_type": "code",
   "execution_count": null,
   "metadata": {},
   "outputs": [],
   "source": [
    "n = 1\n",
    "lista = []\n",
    "while n != 0:\n",
    "    n = int(input(\"Digite um número: \"))\n",
    "    lista.append(n)\n",
    "\n",
    "comp = len(lista)\n",
    "print()\n",
    "for k in range(2,comp+1):\n",
    "    print(lista[-k])"
   ]
  },
  {
   "cell_type": "code",
   "execution_count": null,
   "metadata": {},
   "outputs": [],
   "source": [
    "def concat_ordena(lista_m,lista_n):\n",
    "    '''\n",
    "    Dados dois números naturais m e n e duas sequências ordenadas com m e n números\n",
    "    inteiros, obtem uma única sequência ordenada contendo todos os elementos \n",
    "    das sequências originais sem repetição.\n",
    "    '''\n",
    "    listao = lista_m + lista_n\n",
    "    \n",
    "    return remove_repetidos(listao)"
   ]
  },
  {
   "cell_type": "code",
   "execution_count": null,
   "metadata": {},
   "outputs": [],
   "source": [
    "concat_ordena([1,2,3,3,4,9],[1,5,6,7,3,4,9])"
   ]
  },
  {
   "cell_type": "code",
   "execution_count": null,
   "metadata": {},
   "outputs": [],
   "source": [
    "def maior_soma(lista):\n",
    "    '''\n",
    "    Dados um número inteiro n e uma sequência com n números reais, \n",
    "    determinar a maior soma de um segmento da sequência (com pelo menos um elemento). \n",
    "    Um segmento é uma subsequência de números consecutivos.\n",
    "    '''\n",
    "    comp = len(lista)\n",
    "    soma = 0\n",
    "    lista_soma = []\n",
    "    for k in range(comp):\n",
    "        for i in range(comp - k):\n",
    "            if sum(lista[i:k+i]) > soma:\n",
    "                soma = sum(lista[i:k+i])\n",
    "                lista_soma = lista[i:k+i]\n",
    "    return lista_soma"
   ]
  },
  {
   "cell_type": "code",
   "execution_count": null,
   "metadata": {},
   "outputs": [],
   "source": [
    "maior_soma([5, -2, -2, -7, 3, 14, 10, -3, 9, -6, 4, 1])"
   ]
  },
  {
   "cell_type": "code",
   "execution_count": null,
   "metadata": {},
   "outputs": [],
   "source": [
    "help(maior_soma)"
   ]
  },
  {
   "cell_type": "code",
   "execution_count": null,
   "metadata": {},
   "outputs": [],
   "source": [
    "def seq3np1_n_iteracoes(n):\n",
    "    \"\"\"\n",
    "    Indica o número de iterações até a sequencia 3n+1\n",
    "    até que a sequência convirja para 1.\n",
    "    \"\"\"\n",
    "    count = 1\n",
    "    while n != 1:\n",
    "        count+=1\n",
    "        if n % 2 == 0:        # n is even\n",
    "            n = n // 2\n",
    "        else:                 # n is odd\n",
    "            n = n * 3 + 1\n",
    "    return count                  # the last print is 1"
   ]
  },
  {
   "cell_type": "code",
   "execution_count": null,
   "metadata": {},
   "outputs": [],
   "source": [
    "def seq3np1(n):\n",
    "    \"\"\"\n",
    "    retorna uma lista da sequencia 3n+1 tendo como termo inicial n\n",
    "    e\n",
    "    Indica o número de iterações até a sequencia 3n+1\n",
    "    até que a sequência convirja para 1.\n",
    "    \"\"\"\n",
    "    lista = [n]\n",
    "    count = 1\n",
    "    while n != 1:\n",
    "        count+=1\n",
    "        if n % 2 == 0:        # n is even\n",
    "            n = n // 2\n",
    "        else:                 # n is odd\n",
    "            n = n * 3 + 1\n",
    "        lista.append(n)\n",
    "    return lista,count                  # the last print is 1"
   ]
  },
  {
   "cell_type": "code",
   "execution_count": null,
   "metadata": {},
   "outputs": [],
   "source": [
    "n = 2\n",
    "while seq3np1(n)[1] < 100:\n",
    "    n+=1\n",
    "print(n)"
   ]
  },
  {
   "cell_type": "code",
   "execution_count": null,
   "metadata": {},
   "outputs": [],
   "source": [
    "seq3np1(26)"
   ]
  },
  {
   "cell_type": "code",
   "execution_count": null,
   "metadata": {},
   "outputs": [],
   "source": [
    "def checkout():\n",
    "    total = 0\n",
    "    count = 0\n",
    "    moreItems = True\n",
    "    while moreItems:\n",
    "        price = float(input('Enter price of item (0 when done): '))\n",
    "        if price != 0 and price > 0:\n",
    "            count = count + 1\n",
    "            total = total + price\n",
    "            print('Subtotal: $', total)           \n",
    "        elif price < 0:\n",
    "            print('Valor Inválido')\n",
    "        else:\n",
    "            moreItems = False\n",
    "            \n",
    "    if count != 0:\n",
    "        average = total / count\n",
    "        print('Total items:', count)\n",
    "        print('Total $', total)\n",
    "        print(f'Average price per item: ${average:.2f}')\n",
    "    else:\n",
    "        print(\"you can’t compute an average without data\")\n",
    "\n",
    "checkout()"
   ]
  },
  {
   "cell_type": "code",
   "execution_count": null,
   "metadata": {},
   "outputs": [],
   "source": [
    "ar1 = np.array([[-1,0,1],[-2,0,2],[-1,0,1]])\n",
    "\n",
    "ar2 = np.array([[1,2,1],[0,0,0],[-1,-2,-1]])\n",
    "\n",
    "max1 = 0\n",
    "for _ in range(25000):\n",
    "    C = np.array([[rnd.randint(700,765)],[rnd.randint(700,765)],[rnd.randint(700,765)]])\n",
    "    Gx = np.matmul(ar1,C)\n",
    "    Gy = np.matmul(ar2,C)\n",
    "    G = (sum(Gx*Gx) + sum(Gy*Gy))**0.5\n",
    "    if G > max1:\n",
    "        max1 = G\n",
    "        \n",
    "max1"
   ]
  },
  {
   "cell_type": "code",
   "execution_count": null,
   "metadata": {},
   "outputs": [],
   "source": [
    "max1 = 0\n",
    "for k in range(700,766):\n",
    "    for j in range(700,766):\n",
    "        for w in range(700,766):\n",
    "            C = np.array([[k],[j],[w]])\n",
    "            Gx = np.matmul(ar1,C)\n",
    "            Gy = np.matmul(ar2,C)\n",
    "            G = (sum(Gx*Gx) + sum(Gy*Gy))**0.5\n",
    "            if G > max1:\n",
    "                max1 = G\n",
    "        \n",
    "max1"
   ]
  },
  {
   "cell_type": "code",
   "execution_count": null,
   "metadata": {},
   "outputs": [],
   "source": [
    "def inclinacao(x1, y1, x2, y2):\n",
    "    if (x1-x2) == 0:\n",
    "        return \"Angulo reto\"\n",
    "    else:\n",
    "        return (y2-y1)/(x2-x1)"
   ]
  },
  {
   "cell_type": "code",
   "execution_count": null,
   "metadata": {},
   "outputs": [],
   "source": [
    "def intersecta(x1, y1, x2, y2):\n",
    "    if (x1-x2) == 0:\n",
    "        return \"Angulo reto\"\n",
    "    else:\n",
    "        return (y2*x1-y1*x2)/(x1-x2)"
   ]
  },
  {
   "cell_type": "code",
   "execution_count": null,
   "metadata": {},
   "outputs": [],
   "source": [
    "def intersecta2(x1, y1, x2, y2):\n",
    "    return y2 - inclinacao(x1, y1, x2, y2)*x2"
   ]
  },
  {
   "cell_type": "code",
   "execution_count": null,
   "metadata": {},
   "outputs": [],
   "source": [
    "for _ in range(100):\n",
    "    \n",
    "    k,j,l,m = rnd.randint(0,10),rnd.randint(0,10),rnd.randint(0,10),rnd.randint(0,10)\n",
    "    if (k-l) != 0:\n",
    "        if intersecta(k,j,l,m) != intersecta2(k,j,l,m): # COMPARANDO OS MÉTODOS\n",
    "            print(intersecta(k,j,l,m),intersecta2(k,j,l,m))"
   ]
  },
  {
   "cell_type": "markdown",
   "metadata": {},
   "source": [
    "## Strings are Immutable"
   ]
  },
  {
   "cell_type": "code",
   "execution_count": null,
   "metadata": {},
   "outputs": [],
   "source": [
    "greeting = \"Hello, world!\"\n",
    "# greeting[0] = 'J'            # ERROR!\n",
    "print(greeting)"
   ]
  },
  {
   "cell_type": "code",
   "execution_count": null,
   "metadata": {
    "ExecuteTime": {
     "end_time": "2021-10-07T01:13:55.202253Z",
     "start_time": "2021-10-07T01:13:55.192256Z"
    },
    "scrolled": true
   },
   "outputs": [],
   "source": [
    "print(\"Hello\")\n",
    "# Storing the characters space, tab etc\n",
    "result = string.whitespace\n",
    "  \n",
    "# Printing the values\n",
    "print(result[1])\n",
    "print(\"Rafael\",result[4],\"de Jesus\")"
   ]
  },
  {
   "cell_type": "code",
   "execution_count": null,
   "metadata": {
    "ExecuteTime": {
     "end_time": "2021-10-07T01:13:55.233233Z",
     "start_time": "2021-10-07T01:13:55.205250Z"
    }
   },
   "outputs": [],
   "source": [
    "string.whitespace,len(string.whitespace)"
   ]
  },
  {
   "cell_type": "code",
   "execution_count": null,
   "metadata": {
    "ExecuteTime": {
     "end_time": "2021-10-07T01:13:55.249226Z",
     "start_time": "2021-10-07T01:13:55.236231Z"
    }
   },
   "outputs": [],
   "source": [
    "prefixes = \"JKLMNOPQ\"\n",
    "\n",
    "for p in prefixes:\n",
    "    if p in 'OQ':\n",
    "        suffix = \"uack\"\n",
    "    else:\n",
    "        suffix = \"ack\"\n",
    "    print(p + suffix)"
   ]
  },
  {
   "cell_type": "code",
   "execution_count": null,
   "metadata": {
    "ExecuteTime": {
     "end_time": "2021-10-07T01:13:55.265215Z",
     "start_time": "2021-10-07T01:13:55.251222Z"
    }
   },
   "outputs": [],
   "source": [
    "roos_quote = \"\"\"It is not the critic who counts; not the man who points out how the strong man stumbles, or where the doer of deeds could have done them better. The credit belongs to the man who is actually in the arena, whose face is marred by dust and sweat and blood; who strives valiantly; who errs, who comes short again and again, because there is no effort without error and shortcoming; but who does actually strive to do the deeds; who knows great enthusiasms, the great devotions; who spends himself in a worthy cause; who at the best knows in the end the triumph of high achievement, and who at the worst, if he fails, at least fails while daring greatly, so that his place shall never be with those cold and timid souls who neither know victory nor defeat.\"\"\"\n",
    "\n",
    "# Theodore Roosevelt\n",
    "\n",
    "roos_quote"
   ]
  },
  {
   "cell_type": "code",
   "execution_count": null,
   "metadata": {
    "ExecuteTime": {
     "end_time": "2021-10-07T01:13:55.281205Z",
     "start_time": "2021-10-07T01:13:55.269212Z"
    }
   },
   "outputs": [],
   "source": [
    "print(roos_quote)"
   ]
  },
  {
   "cell_type": "code",
   "execution_count": null,
   "metadata": {
    "ExecuteTime": {
     "end_time": "2021-10-07T01:13:55.297197Z",
     "start_time": "2021-10-07T01:13:55.283205Z"
    }
   },
   "outputs": [],
   "source": [
    "def contalfa(string,item):\n",
    "    cnt = 0\n",
    "    for k in string:\n",
    "        if item == k:\n",
    "            cnt+=1\n",
    "    return cnt"
   ]
  },
  {
   "cell_type": "code",
   "execution_count": null,
   "metadata": {
    "ExecuteTime": {
     "end_time": "2021-10-07T01:13:55.313190Z",
     "start_time": "2021-10-07T01:13:55.299196Z"
    }
   },
   "outputs": [],
   "source": [
    "contalfa(roos_quote,\"I\")"
   ]
  },
  {
   "cell_type": "code",
   "execution_count": null,
   "metadata": {
    "ExecuteTime": {
     "end_time": "2021-10-07T01:13:55.345169Z",
     "start_time": "2021-10-07T01:13:55.315186Z"
    }
   },
   "outputs": [],
   "source": [
    "lista0 = [*set(roos_quote)]\n",
    "lista0.sort()\n",
    "lista0"
   ]
  },
  {
   "cell_type": "code",
   "execution_count": null,
   "metadata": {
    "ExecuteTime": {
     "end_time": "2021-10-07T01:13:55.361160Z",
     "start_time": "2021-10-07T01:13:55.348167Z"
    }
   },
   "outputs": [],
   "source": [
    "lista = []\n",
    "\n",
    "let = mod = 0 \n",
    "\n",
    "for k in lista0:\n",
    "    a = contalfa(roos_quote,k)\n",
    "    lista.append([k,a])\n",
    "    if a > mod:\n",
    "        mod = a\n",
    "        let = k\n",
    "lista, mod, let"
   ]
  },
  {
   "cell_type": "code",
   "execution_count": null,
   "metadata": {
    "ExecuteTime": {
     "end_time": "2021-10-07T01:36:19.966147Z",
     "start_time": "2021-10-07T01:36:19.943167Z"
    }
   },
   "outputs": [],
   "source": [
    "# Print out a neatly formatted multiplication table, up to 12 x 12\n",
    "\n",
    "for k in range(1,13):\n",
    "    for j in range(1,13):\n",
    "        print(f\"{j}x{k}={k*j}\",end=\"\\t\")\n",
    "    print()"
   ]
  },
  {
   "cell_type": "code",
   "execution_count": null,
   "metadata": {
    "ExecuteTime": {
     "end_time": "2021-10-07T01:13:55.425122Z",
     "start_time": "2021-10-07T01:13:55.398138Z"
    }
   },
   "outputs": [],
   "source": [
    "#Write a function that will return the number of digits in an integer.\n",
    "def numDigits(n):\n",
    "    n_str = str(n)\n",
    "    return len(n_str)\n",
    "\n",
    "\n",
    "print(numDigits(50))\n",
    "print(numDigits(20000))\n",
    "print(numDigits(1))"
   ]
  },
  {
   "cell_type": "code",
   "execution_count": null,
   "metadata": {
    "ExecuteTime": {
     "end_time": "2021-10-07T01:13:55.441113Z",
     "start_time": "2021-10-07T01:13:55.428122Z"
    }
   },
   "outputs": [],
   "source": [
    "# Write a function that reverses its string argument.\n",
    "def reverses_str(string):\n",
    "    \"\"\"\n",
    "    function that reverses its string argument\n",
    "    \"\"\"\n",
    "    string2 = \"\"\n",
    "    for k in string:\n",
    "        string2 = k + string2\n",
    "    return string2"
   ]
  },
  {
   "cell_type": "code",
   "execution_count": null,
   "metadata": {
    "ExecuteTime": {
     "end_time": "2021-10-07T01:13:55.457104Z",
     "start_time": "2021-10-07T01:13:55.445111Z"
    }
   },
   "outputs": [],
   "source": [
    "reverses_str('Rafael')"
   ]
  },
  {
   "cell_type": "code",
   "execution_count": null,
   "metadata": {
    "ExecuteTime": {
     "end_time": "2021-10-07T01:13:55.473094Z",
     "start_time": "2021-10-07T01:13:55.460103Z"
    }
   },
   "outputs": [],
   "source": [
    "def mirror_str(string):\n",
    "    \"\"\"Write a function that mirrors its string argument, generating a string containing the original string and the string backwards.\n",
    "    \"\"\"\n",
    "    return string + reverses_str(string)"
   ]
  },
  {
   "cell_type": "code",
   "execution_count": null,
   "metadata": {
    "ExecuteTime": {
     "end_time": "2021-10-07T01:13:55.489086Z",
     "start_time": "2021-10-07T01:13:55.476093Z"
    }
   },
   "outputs": [],
   "source": [
    "mirror_str('string')"
   ]
  },
  {
   "cell_type": "code",
   "execution_count": null,
   "metadata": {
    "ExecuteTime": {
     "end_time": "2021-10-07T01:13:55.505077Z",
     "start_time": "2021-10-07T01:13:55.491085Z"
    }
   },
   "outputs": [],
   "source": [
    "def remove_str(string,item):\n",
    "    string2 = \"\"\n",
    "    for k in string:\n",
    "        if k != item:\n",
    "            string2 = string2 + k\n",
    "    return string2"
   ]
  },
  {
   "cell_type": "code",
   "execution_count": null,
   "metadata": {
    "ExecuteTime": {
     "end_time": "2021-10-07T01:13:55.521067Z",
     "start_time": "2021-10-07T01:13:55.508075Z"
    }
   },
   "outputs": [],
   "source": [
    "remove_str('string',\"s\")"
   ]
  },
  {
   "cell_type": "code",
   "execution_count": null,
   "metadata": {
    "ExecuteTime": {
     "end_time": "2021-10-07T01:13:55.537058Z",
     "start_time": "2021-10-07T01:13:55.523067Z"
    }
   },
   "outputs": [],
   "source": [
    "def eh_palindromo(string1,string2):\n",
    "    \"\"\"\n",
    "    Write a function that recognizes palindromes.\n",
    "    \"\"\"\n",
    "    return string1 == reverses_str(string2)\n",
    "\n",
    "eh_palindromo(\"rafael\",\"leafar\")"
   ]
  },
  {
   "cell_type": "code",
   "execution_count": null,
   "metadata": {
    "ExecuteTime": {
     "end_time": "2021-10-07T01:13:55.553050Z",
     "start_time": "2021-10-07T01:13:55.539057Z"
    }
   },
   "outputs": [],
   "source": [
    "def cont_substr(string,substr):\n",
    "    \"\"\"\n",
    "    function that counts how many non-overlapping occurences of a substring appear in a string.\n",
    "    \"\"\"\n",
    "    start = 0\n",
    "    cnt = 0\n",
    "    include = True\n",
    "    while include:\n",
    "        if string.find(substr,start) >= 0:\n",
    "            start = string.find(substr,start) + len(substr)\n",
    "            cnt+=1\n",
    "        else:\n",
    "            include = False      \n",
    "    return cnt"
   ]
  },
  {
   "cell_type": "code",
   "execution_count": null,
   "metadata": {
    "ExecuteTime": {
     "end_time": "2021-10-07T01:13:55.585030Z",
     "start_time": "2021-10-07T01:13:55.556048Z"
    }
   },
   "outputs": [],
   "source": [
    "def cont_substr2(string,substr):\n",
    "    \"\"\"\n",
    "    function that counts how many occurences of a substring appear in a string.\n",
    "    \"\"\"\n",
    "    start = 0\n",
    "    cnt = 0\n",
    "    include = True\n",
    "    while include:\n",
    "        if string.find(substr,start) >= 0:\n",
    "            start = string.find(substr,start)+1\n",
    "            cnt+=1\n",
    "        else:\n",
    "            include = False      \n",
    "    return cnt"
   ]
  },
  {
   "cell_type": "code",
   "execution_count": null,
   "metadata": {
    "ExecuteTime": {
     "end_time": "2021-10-07T01:13:55.601022Z",
     "start_time": "2021-10-07T01:13:55.587030Z"
    },
    "scrolled": true
   },
   "outputs": [],
   "source": [
    "cont_substr2('abababa','aba')"
   ]
  },
  {
   "cell_type": "code",
   "execution_count": null,
   "metadata": {
    "ExecuteTime": {
     "end_time": "2021-10-07T01:13:55.617013Z",
     "start_time": "2021-10-07T01:13:55.603021Z"
    }
   },
   "outputs": [],
   "source": [
    "cont_substr('abababa','aba')"
   ]
  },
  {
   "cell_type": "code",
   "execution_count": null,
   "metadata": {
    "ExecuteTime": {
     "end_time": "2021-10-07T01:33:07.835255Z",
     "start_time": "2021-10-07T01:33:07.821264Z"
    }
   },
   "outputs": [],
   "source": [
    "def cont_substr3(string,substr):\n",
    "    \"\"\"\n",
    "    function that counts how many non-overlapping occurences of a substring appear in a string.\n",
    "    and return counter and positions of substrings\n",
    "    \"\"\"\n",
    "    start = 0\n",
    "    cnt = 0\n",
    "    include = True\n",
    "    lista = []\n",
    "    while include:\n",
    "        pos = string.find(substr,start)\n",
    "        if pos >= 0:\n",
    "            start = pos + len(substr)\n",
    "            lista.append(pos)\n",
    "            cnt+=1\n",
    "        else:\n",
    "            include = False      \n",
    "    return cnt,lista\n",
    "\n",
    "def remove_fststr2str(string,substr):\n",
    "    \"\"\"\n",
    "    function that removes first occurrence of a string from another string\n",
    "    \"\"\"\n",
    "    string2 = \"\"\n",
    "    lenght = len(substr)\n",
    "    cnt,lista = cont_substr3(string,substr)\n",
    "    \n",
    "    lista2 = []\n",
    "    for j in range(lenght):\n",
    "        lista2.append(lista[0]+j)\n",
    "        \n",
    "    \n",
    "    for k in range(len(string)):\n",
    "        if k not in lista2:\n",
    "            string2 = string2 + string[k]\n",
    "\n",
    "    return string2\n",
    "\n",
    "def remove_str2str(string,substr):\n",
    "    \"\"\"\n",
    "    function that removes all occurrences of a string from another string\n",
    "    \"\"\"\n",
    "    string2 = \"\"\n",
    "    lenght = len(substr)\n",
    "    cnt,lista = cont_substr3(string,substr)\n",
    "    \n",
    "    lista2 = []\n",
    "    for k in lista:\n",
    "        for j in range(lenght):\n",
    "            lista2.append(k+j)\n",
    "        \n",
    "    \n",
    "    for k in range(len(string)):\n",
    "        if k not in lista2:\n",
    "            string2 = string2 + string[k]\n",
    "\n",
    "    return string2"
   ]
  },
  {
   "cell_type": "code",
   "execution_count": null,
   "metadata": {
    "ExecuteTime": {
     "end_time": "2021-10-07T01:33:08.528591Z",
     "start_time": "2021-10-07T01:33:08.509604Z"
    }
   },
   "outputs": [],
   "source": [
    "cont_substr3('abababa','aba')"
   ]
  },
  {
   "cell_type": "code",
   "execution_count": null,
   "metadata": {
    "ExecuteTime": {
     "end_time": "2021-10-07T01:33:09.615638Z",
     "start_time": "2021-10-07T01:33:09.607644Z"
    }
   },
   "outputs": [],
   "source": [
    "remove_fststr2str('abababa','aba')"
   ]
  },
  {
   "cell_type": "code",
   "execution_count": null,
   "metadata": {
    "ExecuteTime": {
     "end_time": "2021-10-07T02:06:00.713092Z",
     "start_time": "2021-10-07T02:06:00.706097Z"
    }
   },
   "outputs": [],
   "source": [
    "remove_str2str('abababa','aba')"
   ]
  },
  {
   "cell_type": "code",
   "execution_count": null,
   "metadata": {
    "ExecuteTime": {
     "end_time": "2021-10-07T02:06:00.745093Z",
     "start_time": "2021-10-07T02:06:00.719092Z"
    }
   },
   "outputs": [],
   "source": [
    "string.printable"
   ]
  },
  {
   "cell_type": "code",
   "execution_count": null,
   "metadata": {
    "ExecuteTime": {
     "end_time": "2021-10-07T02:06:00.761064Z",
     "start_time": "2021-10-07T02:06:00.747075Z"
    }
   },
   "outputs": [],
   "source": [
    "len(string.printable)"
   ]
  },
  {
   "cell_type": "code",
   "execution_count": null,
   "metadata": {
    "ExecuteTime": {
     "end_time": "2021-10-07T02:06:00.777056Z",
     "start_time": "2021-10-07T02:06:00.763065Z"
    }
   },
   "outputs": [],
   "source": [
    "rng = np.random.RandomState(0)\n",
    "\n",
    "lista3 = [*rng.permutation(100)]"
   ]
  },
  {
   "cell_type": "code",
   "execution_count": null,
   "metadata": {
    "ExecuteTime": {
     "end_time": "2021-10-07T02:06:00.793046Z",
     "start_time": "2021-10-07T02:06:00.781053Z"
    }
   },
   "outputs": [],
   "source": [
    "str3 = \"\".join([string.printable[k] for k in lista3])\n",
    "str3"
   ]
  },
  {
   "cell_type": "code",
   "execution_count": null,
   "metadata": {
    "ExecuteTime": {
     "end_time": "2021-10-07T02:06:00.825047Z",
     "start_time": "2021-10-07T02:06:00.795046Z"
    }
   },
   "outputs": [],
   "source": [
    "def encrypt(string1, chave = str3):\n",
    "\n",
    "    \"\"\"\n",
    "    Function that implements a substitution cipher. \n",
    "    In a substitution cipher one letter is substituted for another to garble the message. \n",
    "    For example A -> Q, B -> T, C -> G etc. \n",
    "    With two parameters, the message you want to encrypt, and a string that \n",
    "    represents the mapping of the 26 letters in the alphabet. \n",
    "    Your function should return a string that is the encrypted version of the message.\n",
    "    \"\"\"\n",
    "    string2 = \"\"\n",
    "    for k in string1:\n",
    "        if k in string.printable:\n",
    "            pos = string.printable.find(k)\n",
    "            string2 = string2 + str3[pos]\n",
    "        else:\n",
    "            string2 = string2 + k\n",
    "        \n",
    "    return string2"
   ]
  },
  {
   "cell_type": "code",
   "execution_count": null,
   "metadata": {
    "ExecuteTime": {
     "end_time": "2021-10-07T02:06:00.841018Z",
     "start_time": "2021-10-07T02:06:00.827026Z"
    }
   },
   "outputs": [],
   "source": [
    "encrypt(roos_quote)"
   ]
  },
  {
   "cell_type": "code",
   "execution_count": null,
   "metadata": {
    "ExecuteTime": {
     "end_time": "2021-10-07T02:06:00.857010Z",
     "start_time": "2021-10-07T02:06:00.843019Z"
    }
   },
   "outputs": [],
   "source": [
    "def decrypt(string1, lst = str3):\n",
    "\n",
    "    \"\"\"\n",
    "    Function that implements a substitution cipher. \n",
    "    In a substitution cipher one letter is substituted for another to garble the message. \n",
    "    For example A -> Q, B -> T, C -> G etc. \n",
    "    With two parameters, the message you want to encrypt, and a string that \n",
    "    represents the mapping of the 26 letters in the alphabet. \n",
    "    Your function should return a string that is the encrypted version of the message.\n",
    "    \"\"\"\n",
    "    string2 = \"\"\n",
    "    for k in string1:\n",
    "        if k in lst:\n",
    "            pos = str3.find(k)\n",
    "            string2 = string2 + string.printable[pos]\n",
    "        else:\n",
    "            string2 = string2 + k\n",
    "        \n",
    "    return string2"
   ]
  },
  {
   "cell_type": "code",
   "execution_count": null,
   "metadata": {
    "ExecuteTime": {
     "end_time": "2021-10-07T02:06:00.873000Z",
     "start_time": "2021-10-07T02:06:00.859008Z"
    }
   },
   "outputs": [],
   "source": [
    "decrypt(encrypt(roos_quote))"
   ]
  },
  {
   "cell_type": "code",
   "execution_count": null,
   "metadata": {
    "ExecuteTime": {
     "end_time": "2021-10-07T02:06:00.888991Z",
     "start_time": "2021-10-07T02:06:00.874999Z"
    }
   },
   "outputs": [],
   "source": [
    "chr(0)"
   ]
  },
  {
   "cell_type": "code",
   "execution_count": null,
   "metadata": {
    "ExecuteTime": {
     "end_time": "2021-10-07T02:06:00.904981Z",
     "start_time": "2021-10-07T02:06:00.892989Z"
    }
   },
   "outputs": [],
   "source": [
    "chr(600)"
   ]
  },
  {
   "cell_type": "code",
   "execution_count": null,
   "metadata": {
    "ExecuteTime": {
     "end_time": "2021-10-07T02:06:00.920972Z",
     "start_time": "2021-10-07T02:06:00.906981Z"
    }
   },
   "outputs": [],
   "source": [
    "ord('ɘ')"
   ]
  },
  {
   "cell_type": "code",
   "execution_count": null,
   "metadata": {
    "ExecuteTime": {
     "end_time": "2021-10-07T02:06:00.936963Z",
     "start_time": "2021-10-07T02:06:00.922972Z"
    }
   },
   "outputs": [],
   "source": [
    "ord('0')"
   ]
  },
  {
   "cell_type": "code",
   "execution_count": null,
   "metadata": {
    "ExecuteTime": {
     "end_time": "2021-10-07T02:06:00.952954Z",
     "start_time": "2021-10-07T02:06:00.938962Z"
    }
   },
   "outputs": [],
   "source": [
    "def remove_dups(inputString):\n",
    "    \"\"\"\n",
    "    that takes a string and creates a new string by only adding those characters \n",
    "    that are not already present. In other words, there will never be a duplicate \n",
    "    letter added to the new string.\n",
    "    \"\"\"\n",
    "    newString = ''\n",
    "    for i,ch in enumerate(inputString):\n",
    "        if ch not in inputString[i+1:]:\n",
    "            newString = newString + ch\n",
    "    return newString\n",
    "\n",
    "print(remove_dups(\"mississippi\"))"
   ]
  },
  {
   "cell_type": "code",
   "execution_count": null,
   "metadata": {
    "ExecuteTime": {
     "end_time": "2021-10-07T02:06:00.968945Z",
     "start_time": "2021-10-07T02:06:00.956952Z"
    }
   },
   "outputs": [],
   "source": [
    "string.ascii_uppercase[0]"
   ]
  },
  {
   "cell_type": "code",
   "execution_count": null,
   "metadata": {
    "ExecuteTime": {
     "end_time": "2021-10-07T02:06:01.000926Z",
     "start_time": "2021-10-07T02:06:00.976941Z"
    }
   },
   "outputs": [],
   "source": [
    "\"\".join([string.ascii_uppercase[k] for k in range(-13,13)])"
   ]
  },
  {
   "cell_type": "code",
   "execution_count": null,
   "metadata": {
    "ExecuteTime": {
     "end_time": "2021-10-07T02:10:27.950990Z",
     "start_time": "2021-10-07T02:10:27.932001Z"
    }
   },
   "outputs": [],
   "source": [
    "def rot13(str_input):\n",
    "    \"\"\"\n",
    "    uses the Caesar cipher to encrypt a message. \n",
    "    The Caesar cipher works like a substitution cipher but \n",
    "    each character is replaced by the character 13 characters to ‘its right’ in the alphabet\n",
    "    \"\"\"\n",
    "    letterp13 = \"\".join([string.ascii_uppercase[k] for k in range(-13,13)])\n",
    "    string2 = \"\"\n",
    "    \n",
    "    str_input = str_input.upper()\n",
    "    \n",
    "    for k in str_input:\n",
    "        if k in string.ascii_uppercase:\n",
    "            pos = string.ascii_uppercase.find(k)\n",
    "            string2 = string2 + letterp13[pos]\n",
    "        else:\n",
    "            string2 = string2 + k\n",
    "        \n",
    "    return string2"
   ]
  },
  {
   "cell_type": "code",
   "execution_count": null,
   "metadata": {
    "ExecuteTime": {
     "end_time": "2021-10-07T02:10:29.163954Z",
     "start_time": "2021-10-07T02:10:29.148328Z"
    }
   },
   "outputs": [],
   "source": [
    "rot13(roos_quote)"
   ]
  },
  {
   "cell_type": "code",
   "execution_count": null,
   "metadata": {
    "ExecuteTime": {
     "end_time": "2021-10-07T02:10:31.110249Z",
     "start_time": "2021-10-07T02:10:31.092605Z"
    }
   },
   "outputs": [],
   "source": [
    "def derot13(str_input):\n",
    "    \"\"\"\n",
    "    uses the Caesar cipher to encrypt a message. \n",
    "    The Caesar cipher works like a substitution cipher but \n",
    "    each character is replaced by the character 13 characters to ‘its right’ in the alphabet\n",
    "    \"\"\"\n",
    "    letterp13 = \"\".join([string.ascii_uppercase[k] for k in range(-13,13)])\n",
    "    string2 = \"\"\n",
    "    \n",
    "    str_input = str_input.upper()\n",
    "    \n",
    "    for k in str_input:\n",
    "        if k in string.ascii_uppercase:\n",
    "            pos = letterp13.find(k)\n",
    "            string2 = string2 + string.ascii_uppercase[pos]\n",
    "        else:\n",
    "            string2 = string2 + k\n",
    "        \n",
    "    return string2"
   ]
  },
  {
   "cell_type": "code",
   "execution_count": null,
   "metadata": {
    "ExecuteTime": {
     "end_time": "2021-10-07T02:11:07.696545Z",
     "start_time": "2021-10-07T02:11:07.682550Z"
    }
   },
   "outputs": [],
   "source": [
    "derot13(rot13(roos_quote))"
   ]
  },
  {
   "cell_type": "code",
   "execution_count": null,
   "metadata": {
    "ExecuteTime": {
     "end_time": "2021-10-07T02:11:25.064642Z",
     "start_time": "2021-10-07T02:11:25.049653Z"
    }
   },
   "outputs": [],
   "source": [
    "rot13(rot13(roos_quote))"
   ]
  },
  {
   "cell_type": "code",
   "execution_count": null,
   "metadata": {},
   "outputs": [],
   "source": [
    "print(f'{200/5:,.2%}'.replace(\",\",\"_\").replace(\".\",\",\").replace(\"_\",\".\"))"
   ]
  },
  {
   "cell_type": "code",
   "execution_count": null,
   "metadata": {},
   "outputs": [],
   "source": [
    "print(f'R${20000.00:,.2f}'.replace(\",\",\"_\").replace(\".\",\",\").replace(\"_\",\".\")) # Para notação Brasileira"
   ]
  },
  {
   "cell_type": "code",
   "execution_count": null,
   "metadata": {},
   "outputs": [],
   "source": [
    "print(f'R${20000:d}'.replace(\",\",\"_\").replace(\".\",\",\").replace(\"_\",\".\")) # Para notação Brasileira"
   ]
  },
  {
   "cell_type": "code",
   "execution_count": null,
   "metadata": {},
   "outputs": [],
   "source": [
    "def rot_n(str_input,n=13):\n",
    "    \"\"\"\n",
    "    uses the Caesar cipher to encrypt a message. \n",
    "    The Caesar cipher works like a substitution cipher but \n",
    "    each character is replaced by the character n characters to ‘its right’ in the alphabet\n",
    "    \"\"\"\n",
    "    letterp13 = \"\".join([string.ascii_uppercase[k] for k in range(-(26-n),n)])\n",
    "    string2 = \"\"\n",
    "    \n",
    "    str_input = str_input.upper()\n",
    "    \n",
    "    for k in str_input:\n",
    "        if k in string.ascii_uppercase:\n",
    "            pos = letterp13.find(k)\n",
    "            string2 = string2 + string.ascii_uppercase[pos]\n",
    "        else:\n",
    "            string2 = string2 + k\n",
    "        \n",
    "    return string2"
   ]
  },
  {
   "cell_type": "code",
   "execution_count": null,
   "metadata": {},
   "outputs": [],
   "source": [
    "rot_n(rot_n(roos_quote,4),22) # 4 + 22 +1 = 27 Letras do alfabeto"
   ]
  },
  {
   "cell_type": "code",
   "execution_count": null,
   "metadata": {},
   "outputs": [],
   "source": [
    "def checkout():\n",
    "    total = 0\n",
    "    count = 0\n",
    "    moreItems = True\n",
    "    while moreItems:\n",
    "        price = float(input('Enter price of item (0 when done): '))\n",
    "        if price != 0:\n",
    "            count = count + 1\n",
    "            total = total + price\n",
    "            print(f'Subtotal: {total:.2f}$')\n",
    "        else:\n",
    "            moreItems = False\n",
    "    average = total / count\n",
    "    print(f'Total items:{count:.2f}')\n",
    "    print(f'Total ${total:.2f}')\n",
    "    print(f'Average price per item: ${average:.2f}')\n",
    "\n",
    "checkout()"
   ]
  },
  {
   "cell_type": "code",
   "execution_count": null,
   "metadata": {},
   "outputs": [],
   "source": [
    "def picket_fence(string_in, key = 2):\n",
    "    \"\"\"\n",
    "    Apply a decoder fence cipher (sometimes called zigzag cipher) is a transposition \n",
    "    cipher that jumbles up the order of the letters of a message\n",
    "    \"\"\"\n",
    "    lista_strings = [\"\" for k in range(key)]\n",
    "    cnt = 0\n",
    "    \n",
    "    for j,k in enumerate(string_in):\n",
    "        \n",
    "        lista_strings[cnt] = lista_strings[cnt] + k\n",
    "        \n",
    "        if (j//(key-1)) %2 == 0: # Cria uma função serrote 0121012... Usando teoria dos números\n",
    "            cnt = cnt + 1\n",
    "        else:\n",
    "            cnt = cnt - 1\n",
    "                   \n",
    "    return ''.join(lista_strings)"
   ]
  },
  {
   "cell_type": "code",
   "execution_count": null,
   "metadata": {},
   "outputs": [],
   "source": [
    "picket_fence('THISISASECRETMESSAGE',3)"
   ]
  },
  {
   "cell_type": "code",
   "execution_count": null,
   "metadata": {},
   "outputs": [],
   "source": [
    "def flatlst(lista):\n",
    "    listaplana = []\n",
    "    for k in lista: listaplana = listaplana + k\n",
    "    return listaplana\n",
    "\n",
    "def picket_fencelst(string_in, key = 2):\n",
    "    \"\"\"\n",
    "    Apply a decoder fence cipher (sometimes called zigzag cipher) is a transposition \n",
    "    cipher that jumbles up the order of the letters of a message.\n",
    "    Return a list values\n",
    "    \"\"\"    \n",
    "    \n",
    "    lista_strings = [[] for k in range(key)]\n",
    "    cnt = ([*range(key - 1)] + [*range(key - 1, 0, -1)]) * (len(string_in)//key)\n",
    "    \n",
    "    for j,k in enumerate(string_in):\n",
    "        lista_strings[cnt[j]] = lista_strings[cnt[j]] + [k]\n",
    "    \n",
    "    lista_strings = flatlst(lista_strings)\n",
    "    \n",
    "    return lista_strings\n",
    "    \n",
    "\n",
    "def picket_fence2(string_in, key = 2):\n",
    "    \"\"\"\n",
    "    Apply a decoder fence cipher (sometimes called zigzag cipher) is a transposition \n",
    "    cipher that jumbles up the order of the letters of a message\n",
    "    Return a string value\n",
    "    \"\"\"               \n",
    "    return  ''.join(str(v) for v in picket_fencelst(string_in, key))"
   ]
  },
  {
   "cell_type": "code",
   "execution_count": null,
   "metadata": {},
   "outputs": [],
   "source": [
    "picket_fence('THISISASECRETMESSAGE', key = 4)"
   ]
  },
  {
   "cell_type": "code",
   "execution_count": null,
   "metadata": {},
   "outputs": [],
   "source": [
    "picket_fence2('THISISASECRETMESSAGE', key = 4)"
   ]
  },
  {
   "cell_type": "code",
   "execution_count": null,
   "metadata": {},
   "outputs": [],
   "source": [
    "def decoder_picket_fence2(string_in, key = 4):\n",
    "    \"\"\"\n",
    "    Apply a decoder fence cipher (sometimes called zigzag cipher) is a transposition \n",
    "    cipher that jumbles up the order of the letters of a message\n",
    "    \"\"\"\n",
    "    lista_lst = [[] for k in range(key)]\n",
    "    cnt = ([*range(key - 1)] + [*range(key - 1, 0, -1)]) * (len(string_in)//key)\n",
    "    \n",
    "    for j,k in enumerate(string_in):\n",
    "        \n",
    "        lista_lst[cnt[j]] = lista_lst[cnt[j]] + [j]\n",
    "    \n",
    "    fltlst = [] \n",
    "    for k in lista_lst: fltlst = fltlst + k\n",
    "        \n",
    "    str0 = \"\"\n",
    "    for k in range(len(string_in)):\n",
    "        str0 = str0 + string_in[fltlst.index(k)] \n",
    "                   \n",
    "    return str0"
   ]
  },
  {
   "cell_type": "code",
   "execution_count": null,
   "metadata": {},
   "outputs": [],
   "source": [
    "decoder_picket_fence2('TATGHSSEMAEIIERESSCS', key = 4)"
   ]
  },
  {
   "cell_type": "code",
   "execution_count": null,
   "metadata": {},
   "outputs": [],
   "source": [
    "def decoder_picket_fence3(string_in, key = 4):\n",
    "    \"\"\"\n",
    "    Apply a decoder fence cipher (sometimes called zigzag cipher) is a transposition \n",
    "    cipher that jumbles up the order of the letters of a message\n",
    "    \"\"\"\n",
    "    posicoes = picket_fencelst(range(len(string_in)), key)\n",
    "                         \n",
    "    return ''.join(string_in[posicoes.index(k)] for k in range(len(string_in)))"
   ]
  },
  {
   "cell_type": "code",
   "execution_count": null,
   "metadata": {},
   "outputs": [],
   "source": [
    "decoder_picket_fence3('TATGHSSEMAEIIERESSCS', key = 4)"
   ]
  },
  {
   "cell_type": "code",
   "execution_count": null,
   "metadata": {},
   "outputs": [],
   "source": [
    "string_in = 'TATGHSSEMAEIIERESSCS'\n",
    "\n",
    "picket_fencelst(range(len(string_in)), 4)"
   ]
  },
  {
   "cell_type": "code",
   "execution_count": null,
   "metadata": {},
   "outputs": [],
   "source": [
    "def fence(lst, numrails):\n",
    "    fence = [[None] * len(lst) for n in range(numrails)]\n",
    "    rails = [*range(numrails - 1)] + [*range(numrails - 1, 0, -1)]\n",
    "    for n, x in enumerate(lst):\n",
    "        fence[rails[n % (2*numrails-2)]][n] = x\n",
    "\n",
    "    if 0: # debug\n",
    "        for rail in fence:\n",
    "            print (''.join('.' if c is None else str(c) for c in rail))\n",
    "\n",
    "    return [c for rail in fence for c in rail if c is not None]\n",
    "\n",
    "def encode(text, n):\n",
    "    return ''.join(fence(text, n))\n",
    "\n",
    "def decode(text, n):\n",
    "    rng = range(len(text))\n",
    "    pos = fence(rng, n)\n",
    "    return ''.join(text[pos.index(n)] for n in rng)\n",
    "\n",
    "z = encode('THISISASECRETMESSAGE', 3)    \n",
    "print (z) # ACTWTAKA.ANT.D\n",
    "y = decode(z, 3)\n",
    "print (y) # ATTACK.AT.DAWN"
   ]
  },
  {
   "cell_type": "code",
   "execution_count": null,
   "metadata": {},
   "outputs": [],
   "source": [
    "def inv_lista(lista):\n",
    "    listatemp = []\n",
    "    for k in lista:\n",
    "        listatemp = [k] + listatemp\n",
    "    return listatemp\n",
    "\n",
    "inv_lista([2, 1, 5, 3])"
   ]
  },
  {
   "cell_type": "code",
   "execution_count": null,
   "metadata": {},
   "outputs": [],
   "source": [
    "import random as rnd\n",
    "\n",
    "listdf = []\n",
    "\n",
    "for _ in range(12):\n",
    "    list00 = []\n",
    "    list01 = []\n",
    "    for k in range(10):\n",
    "        list00.append(rnd.randint(1,9))\n",
    "        list01.append(list00)\n",
    "\n",
    "    df = pd.DataFrame(list01)\n",
    "    listdf.append(df)"
   ]
  },
  {
   "cell_type": "code",
   "execution_count": null,
   "metadata": {},
   "outputs": [],
   "source": [
    "df"
   ]
  },
  {
   "cell_type": "code",
   "execution_count": null,
   "metadata": {},
   "outputs": [],
   "source": [
    "listdf[0]"
   ]
  },
  {
   "cell_type": "code",
   "execution_count": null,
   "metadata": {},
   "outputs": [],
   "source": [
    "df1 = pd.DataFrame()\n",
    "\n",
    "for j in listdf:\n",
    "    df1 = pd.concat([df1, j])\n",
    "    \n",
    "df1"
   ]
  },
  {
   "cell_type": "code",
   "execution_count": null,
   "metadata": {},
   "outputs": [],
   "source": [
    "pd.concat(listdf)"
   ]
  },
  {
   "cell_type": "code",
   "execution_count": null,
   "metadata": {},
   "outputs": [],
   "source": [
    "alist = [4, 5, 6]\n",
    "id(alist)"
   ]
  },
  {
   "cell_type": "code",
   "execution_count": null,
   "metadata": {},
   "outputs": [],
   "source": [
    "b = alist\n",
    "c = alist.copy()\n",
    "b[0] = 33\n",
    "id(b), id(c)"
   ]
  },
  {
   "cell_type": "code",
   "execution_count": null,
   "metadata": {},
   "outputs": [],
   "source": [
    "# podemos remover elementos de uma lista atribuindo a lista vazia a eles.\n",
    "uma_lista = ['a', 'b', 'c', 'd', 'e', 'f']\n",
    "uma_lista[1:3] = []\n",
    "print(uma_lista)"
   ]
  },
  {
   "cell_type": "code",
   "execution_count": null,
   "metadata": {},
   "outputs": [],
   "source": [
    "# Podemos inserir elementos em uma lista espremendo-os em uma fatia vazia na posição desejada.\n",
    "uma_lista = ['a', 'd', 'f']\n",
    "uma_lista[1:1] = ['b', 'c']\n",
    "print(uma_lista)\n",
    "uma_lista[4:4] = ['e']\n",
    "print(uma_lista)"
   ]
  },
  {
   "cell_type": "code",
   "execution_count": null,
   "metadata": {},
   "outputs": [],
   "source": [
    "# Objects and References for strings\n",
    "\n",
    "a = \"banana\"\n",
    "b = \"banana\"\n",
    "\n",
    "print(a is b)\n",
    "print(id(a))\n",
    "print(id(b))"
   ]
  },
  {
   "cell_type": "code",
   "execution_count": null,
   "metadata": {},
   "outputs": [],
   "source": [
    "# Objects and References for lists\n",
    "\n",
    "a = [81, 82, 83]\n",
    "b = [81, 82, 83]\n",
    "\n",
    "print(a is b)\n",
    "\n",
    "print(a == b)"
   ]
  },
  {
   "cell_type": "code",
   "execution_count": null,
   "metadata": {},
   "outputs": [],
   "source": [
    "# \"Com a concatenação um nova lista é criada.\"\n",
    "uma_lista = [4, 2, 8, 6, 5]\n",
    "print(id(uma_lista))\n",
    "uma_lista = uma_lista + [999]\n",
    "print(uma_lista)\n",
    "print(id(uma_lista))"
   ]
  },
  {
   "cell_type": "code",
   "execution_count": null,
   "metadata": {},
   "outputs": [],
   "source": [
    "\"\"\"com append, a lista original é simplesmente modificada. \n",
    "É possível ver isto observando o id de lista_orig. \n",
    "O id é o mesmo antes e depois de executarmos append.\"\"\"\n",
    "\n",
    "_lista = [4, 2, 8, 6, 5]\n",
    "print(id(_lista))\n",
    "_lista.append(999)\n",
    "print(id(_lista))"
   ]
  },
  {
   "cell_type": "code",
   "execution_count": null,
   "metadata": {},
   "outputs": [],
   "source": [
    "\"\"\"For each word in words, add ‘d’ to the end of the word if the word ends in “e” to make\n",
    "it past tense. Otherwise, add ‘ed’ to make it past tense. Save these past tense words to a list called past_tense.\"\"\"\n",
    "words = [\"adopt\", \"bake\", \"beam\", \"confide\", \"grill\", \"plant\", \"time\", \"wave\", \"wish\"]\n",
    "\n",
    "past_tense = []\n",
    "\n",
    "for k in words:\n",
    "    if \"e\" == k[-1]:\n",
    "        past_tense.append(k+\"d\")\n",
    "    else:\n",
    "        past_tense.append(k+\"ed\")\n",
    "        \n",
    "past_tense"
   ]
  },
  {
   "cell_type": "code",
   "execution_count": null,
   "metadata": {},
   "outputs": [],
   "source": [
    "def doubleStuff(aList):\n",
    "    \"\"\" Overwrite each element in aList with double its value. \"\"\"\n",
    "    for position in range(len(aList)):\n",
    "        aList[position] = 2 * aList[position]\n",
    "    listt = aList.copy()\n",
    "    return listt\n",
    "\n",
    "things = [2, 5, 9]\n",
    "print(things)\n",
    "doubleStuff(things)\n",
    "print(things)\n",
    "print(doubleStuff(things))"
   ]
  },
  {
   "cell_type": "code",
   "execution_count": null,
   "metadata": {},
   "outputs": [],
   "source": [
    "#dir() # Para retornar as variáveis usadas"
   ]
  },
  {
   "cell_type": "code",
   "execution_count": null,
   "metadata": {},
   "outputs": [],
   "source": [
    "a = 57\n",
    "\n",
    "def functest(x):\n",
    "    x = x*2\n",
    "    a = 0 # Este \"a\" é uma variável local\n",
    "    return x\n",
    "\n",
    "print(a)\n",
    "functest(a)\n",
    "print(a)\n",
    "print(functest(a))"
   ]
  },
  {
   "cell_type": "code",
   "execution_count": null,
   "metadata": {},
   "outputs": [],
   "source": [
    "a = [57]\n",
    "\n",
    "print(a)\n",
    "functest(a) # Não modifica a lista original se mudarmos um elemento\n",
    "print(a)\n",
    "print(functest(a))"
   ]
  },
  {
   "cell_type": "code",
   "execution_count": null,
   "metadata": {},
   "outputs": [],
   "source": [
    "a = [57]\n",
    "\n",
    "def functest2(x):\n",
    "    x[0] = x*2 # Modifica a lista original se mudarmos um elemento\n",
    "    return x\n",
    "\n",
    "print(a)\n",
    "functest2(a)\n",
    "print(a)\n",
    "print(functest2(a))"
   ]
  },
  {
   "cell_type": "code",
   "execution_count": null,
   "metadata": {},
   "outputs": [],
   "source": [
    "minha_lista = [76, 92.3, \"oi\", True, 4, 76]\n",
    "print(minha_lista)"
   ]
  },
  {
   "cell_type": "code",
   "execution_count": null,
   "metadata": {},
   "outputs": [],
   "source": [
    "import random \n",
    "lista = [random.randint(0,1000) for k in range(100)]\n",
    "print(lista)\n",
    "\n",
    "def media(lista):\n",
    "    soma = 0\n",
    "    for k in lista:\n",
    "        soma = soma + k\n",
    "    return soma/len(lista)\n",
    "        \n",
    "print(media(lista))\n",
    "print(max(lista))\n",
    "\n",
    "def maximo(lista):\n",
    "    mx = lista[0]\n",
    "    for k in lista:\n",
    "        if k>mx:\n",
    "            mx = k\n",
    "    return mx\n",
    "\n",
    "def somaquad(lista):\n",
    "    soma = 0\n",
    "    for k in lista:\n",
    "        soma = soma + k**2\n",
    "    return soma\n",
    "\n",
    "def nimpares(lista):\n",
    "    imp = 0\n",
    "    for k in lista:\n",
    "        if k%2==1:\n",
    "            imp+=1\n",
    "    return imp\n",
    "\n",
    "def npares(lista):\n",
    "    return len(lista) - nimpares(lista)\n",
    "\n",
    "def nnegat(lista):\n",
    "    neg = 0\n",
    "    for k in lista:\n",
    "        if k < 0:\n",
    "            neg+=1\n",
    "    return neg\n",
    "\n",
    "print(nimpares(lista))\n",
    "print(npares(lista))\n",
    "nnegat(lista)"
   ]
  },
  {
   "cell_type": "code",
   "execution_count": null,
   "metadata": {},
   "outputs": [],
   "source": [
    "\"\"\"Escreva uma função que recebe uma lista de palavras (strings) e retorna o número de palavras na lista que tem comprimento 5.\"\"\"\n",
    "\n",
    "def strigual5(string_in):\n",
    "    cnt = 0\n",
    "    for k in string_in:\n",
    "        if len(k)==5:\n",
    "            cnt+=1\n",
    "    return cnt"
   ]
  },
  {
   "cell_type": "code",
   "execution_count": null,
   "metadata": {},
   "outputs": [],
   "source": [
    "def countWords(lst):\n",
    "    cnt = 0\n",
    "    for k in lst:\n",
    "        if len(k) == 5:\n",
    "            cnt+=1\n",
    "    return cnt\n",
    "lista = ['Rafael','Jesus','Silva','Monteiro']      \n",
    "\n",
    "print(countWords(lista))\n",
    "\n",
    "lista = [7,11,13,4,17,21,8,3,2]\n",
    "\n",
    "def summeven(lst):\n",
    "    \"\"\"\n",
    "    Recebe uma lista de números inteiros e retorna a soma dos números na lista exclusive o primeiro número par\n",
    "    \"\"\"\n",
    "    lst2 = lst.copy()\n",
    "    ind = s = 0\n",
    "    for k in lst:\n",
    "        if k%2==0 and ind==0:\n",
    "            ind = 1\n",
    "        else:\n",
    "            s+=k\n",
    "    return s\n",
    "\n",
    "print(summeven(lista))\n",
    "print(sum(lista))"
   ]
  },
  {
   "cell_type": "code",
   "execution_count": null,
   "metadata": {},
   "outputs": [],
   "source": [
    "import random\n",
    "\n",
    "def sum2(lst):\n",
    "    sum = 0\n",
    "    index = 0\n",
    "    while index < len(lst) and lst[index] % 2 != 0:\n",
    "        sum = sum + lst[index]\n",
    "        index = index + 1\n",
    "    return sum\n",
    "\n",
    "lst = []\n",
    "for i in range(100):\n",
    "    lst.append(random.randint(0,1000))\n",
    "\n",
    "print(lst)    \n",
    "print(sum2(lst))"
   ]
  },
  {
   "cell_type": "code",
   "execution_count": null,
   "metadata": {},
   "outputs": [],
   "source": [
    "print(summeven(lst))\n",
    "print(sum(lst))\n",
    "\n",
    "print(sum2(lst))"
   ]
  },
  {
   "cell_type": "code",
   "execution_count": null,
   "metadata": {},
   "outputs": [],
   "source": [
    "def looksam(lista_in):\n",
    "    \"\"\"\n",
    "    Count how many words occur in a list up to and including the first occurrence of the word “sam”.\n",
    "    \"\"\"\n",
    "    cnt = 0\n",
    "    lista_in2 = lista_in.split()\n",
    "    while \"sam\" not in lista_in2[cnt] and cnt<=len(lista_in2):\n",
    "        cnt+=1\n",
    "    return cnt+1"
   ]
  },
  {
   "cell_type": "code",
   "execution_count": null,
   "metadata": {},
   "outputs": [],
   "source": [
    "str2 = \"Fomos a guerrra apoiados pelo 'tio sam', mas este não era nosso ideal\"\n",
    "\n",
    "looksam(str2)"
   ]
  },
  {
   "cell_type": "code",
   "execution_count": null,
   "metadata": {},
   "outputs": [],
   "source": [
    "def replace(s, old, new):\n",
    "    ls = len(s)\n",
    "    slt = list(s)\n",
    "    newlst = list(new)\n",
    "    lold = len(old)\n",
    "    for k in range(ls-lold):\n",
    "        if old == s[k:k+lold]:\n",
    "            slt[k:k+lold] = newlst\n",
    "    \n",
    "    return ''.join(slt)\n",
    "    \n",
    "\n",
    "print(replace('Mississippi', 'i', 'I'))"
   ]
  },
  {
   "cell_type": "code",
   "execution_count": null,
   "metadata": {},
   "outputs": [],
   "source": [
    "s = 'I love spom!  Spom is my favorite food.  Spom, spom, spom, yum!'\n",
    "print(replace(s, 'om', 'am'))"
   ]
  },
  {
   "cell_type": "markdown",
   "metadata": {},
   "source": [
    "# Atenção na utilização de listas como argumentos de funções"
   ]
  },
  {
   "cell_type": "code",
   "execution_count": null,
   "metadata": {},
   "outputs": [],
   "source": [
    "def testef(x):\n",
    "    for j,k in enumerate(x):\n",
    "        if k % 2 == 1:\n",
    "            x[j] = 2*k\n",
    "            \n",
    "    return x.copy()\n",
    "\n",
    "def testef2():\n",
    "    x = lst.copy()\n",
    "    for j,k in enumerate(x):\n",
    "        if k % 2 == 0:\n",
    "            x[j] = 2*k+1\n",
    "            \n",
    "    return x"
   ]
  },
  {
   "cell_type": "code",
   "execution_count": null,
   "metadata": {},
   "outputs": [],
   "source": [
    "lst = [3,4,6,7,12,13,21]\n",
    "\n",
    "print(lst)\n",
    "\n",
    "lst2 = testef(lst)\n",
    "print(lst2)\n",
    "print(lst)\n",
    "\n",
    "lst3 = testef2()\n",
    "print(lst3)\n",
    "print(lst)"
   ]
  },
  {
   "cell_type": "markdown",
   "metadata": {},
   "source": [
    "## Exercício 10.1"
   ]
  },
  {
   "cell_type": "code",
   "execution_count": null,
   "metadata": {},
   "outputs": [],
   "source": [
    "#-------------------------------------------------\n",
    "def pertence(item,lista):\n",
    "    '''(objeto, list) -> bool\n",
    "\n",
    "    Recebe uma lista de itens e um item e\n",
    "    retorna True se o item eh um elemento da lista e\n",
    "    False em caso contrario.\n",
    "    '''\n",
    "    pert = False\n",
    "    k = 0\n",
    "    while k <= len(lista) and pert == False:\n",
    "        if item == lista[k]:\n",
    "            pert = True\n",
    "        k+=1\n",
    "    return pert\n",
    "\n",
    "\n",
    "#---------------------------------------------------\n",
    "# testes\n",
    "lista  = [1, \"oi\", 3.14, 7, True]"
   ]
  },
  {
   "cell_type": "code",
   "execution_count": null,
   "metadata": {},
   "outputs": [],
   "source": [
    "pertence(3.14,lista)"
   ]
  },
  {
   "cell_type": "code",
   "execution_count": null,
   "metadata": {},
   "outputs": [],
   "source": [
    "n = int(input('Número: '))\n",
    "inv = 0\n",
    "while n > 0:\n",
    "    inv *= 10\n",
    "    print(inv,n)\n",
    "    inv += n % 10\n",
    "    print(inv,n)\n",
    "    n //= 10\n",
    "print(inv)"
   ]
  },
  {
   "cell_type": "markdown",
   "metadata": {},
   "source": [
    "Problema de Josephus.  Imagine que temos n pessoas dispostas em círculo. Suponha que as pessoas estão numeradas 1 a n no sentido horário. Começando com a pessoa de número 1, percorra o círculo no sentido horário e elimine cada m-ésima pessoa enquanto o círculo tiver duas ou mais pessoas. Qual o número do sobrevivente? Teste para n = 50 e m = 3, reposta 11. "
   ]
  },
  {
   "cell_type": "code",
   "execution_count": null,
   "metadata": {},
   "outputs": [],
   "source": [
    "def josephus(n,m):\n",
    "    ln = n\n",
    "    nlist = [*range(n)]\n",
    "    pos = 0\n",
    "    while ln > 2:\n",
    "        ln = len(nlist)\n",
    "        del nlist[(pos-1 + m)%ln]\n",
    "        pos = (pos-1 + m) % ln\n",
    "        \n",
    "    return nlist[0]+1  "
   ]
  },
  {
   "cell_type": "code",
   "execution_count": null,
   "metadata": {},
   "outputs": [],
   "source": [
    "josephus(50,3),josephus(41,3)"
   ]
  },
  {
   "cell_type": "code",
   "execution_count": null,
   "metadata": {},
   "outputs": [],
   "source": [
    "def perm(x,y):\n",
    "    xl = []\n",
    "    yl = []\n",
    "    for k in x:\n",
    "        for j in y:\n",
    "            xl.append(k)\n",
    "            yl.append(j)\n",
    "    lx = len(x)        \n",
    "    xa = np.array(xl).reshape(lx,lx)\n",
    "    ya = np.array(yl).reshape(lx,lx)\n",
    "    return xa,ya,xl,yl"
   ]
  },
  {
   "cell_type": "code",
   "execution_count": null,
   "metadata": {},
   "outputs": [],
   "source": [
    "from mpl_toolkits import mplot3d\n",
    "%matplotlib inline\n",
    "import matplotlib.pyplot as plt\n",
    "\n",
    "x = np.arange(3, 26)\n",
    "y = np.arange(3, 26)\n",
    "\n",
    "X, Y, XL, YL = perm(x,y)\n",
    "\n",
    "\n",
    "Z = np.array([josephus(k,j) for k,j in zip(XL,YL)]).reshape(X.shape)\n",
    "\n",
    "fig = plt.figure(figsize=(12,50))\n",
    "\n",
    "ax = plt.axes(projection='3d')\n",
    "ax.plot_surface(X, Y, Z, rstride=1, cstride=1,\n",
    "                cmap='viridis', edgecolor='none') # plot_surface\n",
    "\n",
    "\n",
    "ax.set_title('Valores da ultimas posições do problema de Josephus');\n",
    "ax.view_init(30, -80)"
   ]
  },
  {
   "cell_type": "code",
   "execution_count": null,
   "metadata": {},
   "outputs": [],
   "source": [
    "fig = plt.figure(figsize=(12,50))\n",
    "ax = plt.axes(projection='3d')\n",
    "ax.contour3D(X, Y, Z, 50, cmap='binary')\n",
    "ax.set_xlabel('x')\n",
    "ax.set_ylabel('y')\n",
    "ax.set_zlabel('z');"
   ]
  },
  {
   "cell_type": "markdown",
   "metadata": {},
   "source": [
    "## Crivo de Eratóstenes"
   ]
  },
  {
   "cell_type": "code",
   "execution_count": null,
   "metadata": {},
   "outputs": [],
   "source": [
    "def eratostenes(n):\n",
    "    \"\"\"\n",
    "    encontrar números primos até um certo valor limite.\n",
    "    \"\"\"\n",
    "    lst0 = [2]+[*range(3,n+1,2)] # Vou começar só os impares, pois todo primo é impar a exceção de 2\n",
    "    lst1 = lst0.copy()\n",
    "    sqt = int(n**0.5)+1\n",
    "    for k in lst0[1:sqt]:\n",
    "        for j in lst0[1+k:]:\n",
    "            if j % k == 0 and (j in lst1):\n",
    "                lst1.remove(j)\n",
    "    \n",
    "    return lst1"
   ]
  },
  {
   "cell_type": "code",
   "execution_count": null,
   "metadata": {},
   "outputs": [],
   "source": [
    "eratostenes(58)"
   ]
  },
  {
   "cell_type": "code",
   "execution_count": null,
   "metadata": {},
   "outputs": [],
   "source": [
    "def fibo(n):\n",
    "    a = [1,2]\n",
    "    if n ==1:\n",
    "        return 1\n",
    "    else:\n",
    "        while len(a)<n:\n",
    "            a.append(a[-1]+a[-2])\n",
    "\n",
    "        return a[-1]"
   ]
  },
  {
   "cell_type": "code",
   "execution_count": null,
   "metadata": {},
   "outputs": [],
   "source": [
    "soma = 0\n",
    "fib = 0\n",
    "k = 0\n",
    "while fib < 4_000_000:\n",
    "    soma = soma + fib\n",
    "    k+=1\n",
    "    fib = fibo(k)\n",
    "       \n",
    "soma,k-1"
   ]
  },
  {
   "cell_type": "code",
   "execution_count": null,
   "metadata": {},
   "outputs": [],
   "source": [
    "fibo(32)"
   ]
  },
  {
   "cell_type": "code",
   "execution_count": null,
   "metadata": {},
   "outputs": [],
   "source": [
    "soma = 0\n",
    "for k in range(1,33):\n",
    "    fib = fibo(k)\n",
    "    soma = soma + fib\n",
    "    print(k,fib,soma)"
   ]
  },
  {
   "cell_type": "code",
   "execution_count": null,
   "metadata": {},
   "outputs": [],
   "source": [
    "def fin(n):\n",
    "    a, b = 1, 2\n",
    "\n",
    "    for i in range(n):\n",
    "        yield a\n",
    "        a, b = b, a + b"
   ]
  },
  {
   "cell_type": "code",
   "execution_count": null,
   "metadata": {},
   "outputs": [],
   "source": [
    "n = 5\n",
    "for k in fin(n):\n",
    "    print(k)"
   ]
  },
  {
   "cell_type": "code",
   "execution_count": null,
   "metadata": {},
   "outputs": [],
   "source": [
    "def pi_n(n):\n",
    "    sump = 4\n",
    "    for k in range(1,n):\n",
    "        sump = sump + 4*((-1)**(k%2))/(2*k+1)\n",
    "    return sump"
   ]
  },
  {
   "cell_type": "code",
   "execution_count": null,
   "metadata": {},
   "outputs": [],
   "source": [
    "pi_n(100000)"
   ]
  },
  {
   "cell_type": "code",
   "execution_count": null,
   "metadata": {},
   "outputs": [],
   "source": [
    "[k for k in range(1,2)]"
   ]
  },
  {
   "cell_type": "code",
   "execution_count": null,
   "metadata": {},
   "outputs": [],
   "source": [
    "lista1 = [\"carro\", \"barco\"]\n",
    "lista2 = [lista1] * 3\n",
    "lista3 = lista1 * 3\n",
    "lista1[1] = \"metrô\""
   ]
  },
  {
   "cell_type": "code",
   "execution_count": null,
   "metadata": {},
   "outputs": [],
   "source": [
    "lista1"
   ]
  },
  {
   "cell_type": "code",
   "execution_count": null,
   "metadata": {},
   "outputs": [],
   "source": [
    "lista2"
   ]
  },
  {
   "cell_type": "code",
   "execution_count": null,
   "metadata": {},
   "outputs": [],
   "source": [
    "lista3"
   ]
  },
  {
   "cell_type": "markdown",
   "metadata": {},
   "source": [
    "## Coh_pia"
   ]
  },
  {
   "cell_type": "code",
   "execution_count": null,
   "metadata": {
    "ExecuteTime": {
     "end_time": "2021-10-09T21:19:24.465588Z",
     "start_time": "2021-10-09T21:19:24.437606Z"
    }
   },
   "outputs": [],
   "source": [
    "import re\n",
    "\n",
    "def le_assinatura():\n",
    "    '''A funcao le os valores dos tracos linguisticos do modelo e devolve uma assinatura a ser comparada com os textos fornecidos'''\n",
    "    print(\"Bem-vindo ao detector automático de COH-PIAH.\")\n",
    "    print(\"Informe a assinatura típica de um aluno infectado:\\n\")\n",
    "\n",
    "    wal = float(input(\"Entre o tamanho médio de palavra: \"))\n",
    "    ttr = float(input(\"Entre a relação Type-Token: \"))\n",
    "    hlr = float(input(\"Entre a Razão Hapax Legomana: \"))\n",
    "    sal = float(input(\"Entre o tamanho médio de sentença: \"))\n",
    "    sac = float(input(\"Entre a complexidade média da sentença: \"))\n",
    "    pal = float(input(\"Entre o tamanho medio de frase: \"))\n",
    "\n",
    "    return [wal, ttr, hlr, sal, sac, pal]\n",
    "\n",
    "def le_textos():\n",
    "    '''A funcao le todos os textos a serem comparados e devolve uma lista contendo cada texto como um elemento'''\n",
    "    i = 1\n",
    "    textos = []\n",
    "    texto = input(\"Digite o texto \" + str(i) +\" (aperte enter para sair):\")\n",
    "    while texto:\n",
    "        textos.append(texto)\n",
    "        i += 1\n",
    "        texto = input(\"Digite o texto \" + str(i) +\" (aperte enter para sair):\")\n",
    "\n",
    "    return textos\n",
    "\n",
    "def separa_sentencas(texto):\n",
    "    '''A funcao recebe um texto e devolve uma lista das sentencas dentro do texto'''\n",
    "    sentencas = re.split(r'[.!?]+', texto)\n",
    "    if sentencas[-1] == '':\n",
    "        del sentencas[-1]\n",
    "    return sentencas\n",
    "\n",
    "def separa_frases(sentenca):\n",
    "    '''A funcao recebe uma sentenca e devolve uma lista das frases dentro da sentenca'''\n",
    "    return re.split(r'[,:;]+', sentenca)\n",
    "\n",
    "def separa_palavras(frase):\n",
    "    '''A funcao recebe uma frase e devolve uma lista das palavras dentro da frase'''\n",
    "    return frase.split()\n",
    "\n",
    "def n_palavras_unicas(lista_palavras):\n",
    "    '''Essa funcao recebe uma lista de palavras e devolve o numero de palavras que aparecem uma unica vez'''\n",
    "    freq = dict()\n",
    "    unicas = 0\n",
    "    for palavra in lista_palavras:\n",
    "        p = palavra.lower()\n",
    "        if p in freq:\n",
    "            if freq[p] == 1:\n",
    "                unicas -= 1\n",
    "            freq[p] += 1\n",
    "        else:\n",
    "            freq[p] = 1\n",
    "            unicas += 1\n",
    "\n",
    "    return unicas\n",
    "\n",
    "def n_palavras_diferentes(lista_palavras):\n",
    "    '''Essa funcao recebe uma lista de palavras e devolve o numero de palavras diferentes utilizadas'''\n",
    "    freq = dict()\n",
    "    for palavra in lista_palavras:\n",
    "        p = palavra.lower()\n",
    "        if p in freq:\n",
    "            freq[p] += 1\n",
    "        else:\n",
    "            freq[p] = 1\n",
    "\n",
    "    return len(freq)\n",
    "\n",
    "def compara_assinatura(as_a, as_b):\n",
    "    '''Essa funcao recebe duas assinaturas de texto e deve devolver o grau de similaridade nas assinaturas.'''\n",
    "    grau_similaridade = 0\n",
    "    \n",
    "    for k,j in zip(as_a,as_b):\n",
    "        grau_similaridade = grau_similaridade + abs(k-j)/6\n",
    "                             \n",
    "    return grau_similaridade\n",
    "\n",
    "def calcula_assinatura(texto):\n",
    "    '''Essa funcao recebe um texto e deve devolver a assinatura do texto.'''\n",
    "    sent = separa_sentencas(texto) # Sent é uma lista de sentenças\n",
    "    \n",
    "    frs_list = []\n",
    "    for k in sent:\n",
    "        frs_list.append(separa_frases(k))\n",
    "    \n",
    "    palav_list = []\n",
    "    for k in frs_list:\n",
    "        for j in k:\n",
    "            palav_list.append(separa_palavras(j))\n",
    "            \n",
    "    def flatlist(lista):\n",
    "        lst = []\n",
    "        for k in lista:\n",
    "            lst = lst + k\n",
    "        return lst\n",
    "    \n",
    "    palav_list_plana = flatlist(palav_list.copy())\n",
    "    frs_list_plana = flatlist(frs_list.copy())\n",
    "    \n",
    "    \n",
    "    ##### Cálculo do tamanho médio das palavras em todo o texto #####\n",
    "    soma0 = 0\n",
    "    for k in palav_list_plana:\n",
    "        soma0 = soma0 + len(k)\n",
    "    tam_medio = soma0/len(palav_list_plana) # Tamanho médio das palavras\n",
    "    ##################################################################\n",
    "    \n",
    "    ###### Relação Type-Token ########################################\n",
    "    rel_type_token = n_palavras_diferentes(palav_list_plana)/len(palav_list_plana)\n",
    "    ##################################################################\n",
    "    \n",
    "    ###### Razão Hapax Legomana #####################################\n",
    "    rzao_hapax = n_palavras_unicas(palav_list_plana)/len(palav_list_plana)\n",
    "    ##################################################################\n",
    "    \n",
    "    ###### Tamanho Médio da sentença #################################\n",
    "    soma1 = 0\n",
    "    for k in sent:\n",
    "        soma1 = soma1 + len(k)\n",
    "        \n",
    "    tam_med_sentenca = soma1/len(sent)\n",
    "    ##################################################################\n",
    "    \n",
    "    ###### Complexidade da Sentença ##################################\n",
    "    comp_sentencias = len(frs_list_plana)/len(sent)\n",
    "    ##################################################################\n",
    "    \n",
    "    ###### Tamanho médio de frase ####################################\n",
    "    soma2 = 0\n",
    "    for k in frs_list_plana:\n",
    "        soma2 = soma2 + len(k)\n",
    "    tam_med_frase = soma2/len(frs_list_plana)\n",
    "    ##################################################################    \n",
    "    \n",
    "    \n",
    "    return [tam_medio,rel_type_token,rzao_hapax,tam_med_sentenca,comp_sentencias,tam_med_frase]\n",
    "    \n",
    "\n",
    "def avalia_textos(textos, ass_cp):\n",
    "    '''Essa funcao recebe uma lista de textos e uma assinatura ass_cp e deve devolver o numero (1 a n) do texto com maior probabilidade de ter sido infectado por COH-PIAH.'''\n",
    "    \n",
    "    sim_lista = []\n",
    "    for k in textos:\n",
    "        ass_k = calcula_assinatura(k)\n",
    "        sim_k_mod = compara_assinatura(ass_cp, ass_k) \n",
    "        sim_lista.append(sim_k_mod)\n",
    "    \n",
    "    \n",
    "    return sim_lista.index(min(sim_lista))+1\n",
    "\n",
    "\n",
    "def main():\n",
    "    \n",
    "    ass_mod = le_assinatura() \n",
    "    \n",
    "    lsttext = []\n",
    "    txt_in = input(\"\\nDigite o texto 1 (aperte enter para sair): \")\n",
    "    \n",
    "    cnt = 2\n",
    "    \n",
    "    while txt_in:\n",
    "        lsttext.append(txt_in)\n",
    "        txt_in = input(f\"\\nDigite o texto {cnt} (aperte enter para sair): \")\n",
    "        cnt+=1\n",
    "        \n",
    "    print(f\"\\nO autor do texto {avalia_textos(lsttext, ass_mod)} está infectado com COH-PIAH\")\n",
    "\n",
    "    \n",
    "# Fernando Pessoa\n",
    "txt1 = \"Num fabulário ainda por encontrar será um dia lida esta fábula: A uma bordadora dum país longínquo foi encomendado pela sua rainha que bordasse, sobre seda ou cetim, entre folhas, uma rosa branca. A bordadora, como era muito jovem, foi procurar por toda a parte aquela rosa branca perfeitíssima, em cuja semelhança bordasse a sua. Mas sucedia que umas rosas eram menos belas do que lhe convinha, e que outras não eram brancas como deviam ser. Gastou dias sobre dias, chorosas horas, buscando a rosa que imitasse com seda, e, como nos países longínquos nunca deixa de haver pena de morte, ela sabia bem que, pelas leis dos contos como este, não podiam deixar de a matar se ela não bordasse a rosa branca. Por fim, não tendo melhor remédio, bordou de memória a rosa que lhe haviam exigido. Depois de a bordar foi compará-la com as rosas brancas que existem realmente nas roseiras. Sucedeu que todas as rosas brancas se pareciam exactamente com a rosa que ela bordara, que cada uma delas era exactamente aquela. Ela levou o trabalho ao palácio e é de supor que casasse com o príncipe. No fabulário, onde vem, esta fábula não traz moralidade. Mesmo porque, na idade de ouro, as fábulas não tinham moralidade nenhuma.\"\n",
    "\n",
    "\n",
    "# Machado de Assis\n",
    "txt2 = \"Voltei-me para ela; Capitu tinha os olhos no chão. Ergueu-os logo, devagar, e ficamos a olhar um para o outro... Confissão de crianças, tu valias bem duas ou três páginas, mas quero ser poupado. Em verdade, não falamos nada; o muro falou por nós. Não nos movemos, as mãos é que se estenderam pouco a pouco, todas quatro, pegando-se, apertando-se, fundindo-se. Não marquei a hora exata daquele gesto. Devia tê-la marcado; sinto a falta de uma nota escrita naquela mesma noite, e que eu poria aqui com os erros de ortografia que trouxesse, mas não traria nenhum, tal era a diferença entre o estudante e o adolescente. Conhecia as regras do escrever, sem suspeitar as do amar; tinha orgias de latim e era virgem de mulheres.\"\n",
    "\n",
    "# Machado de Assis\n",
    "txt3 = \"Senão quando, estando eu ocupado em preparar e apurar a minha invenção, recebi em cheio um golpe de ar; adoeci logo, e não me tratei. Tinha o emplasto no cérebro; trazia comigo a idéia fixa dos doidos e dos fortes. Via-me, ao longe, ascender do chão das turbas, e remontar ao Céu, como uma águia imortal, e não é diante de tão excelso espetáculo que um homem pode sentir a dor que o punge. No outro dia estava pior; tratei-me enfim, mas incompletamente, sem método, nem cuidado, nem persistência; tal foi a origem do mal que me trouxe à eternidade. Sabem já que morri numa sexta-feira, dia aziago, e creio haver provado que foi a minha invenção que me matou. Há demonstrações menos lúcidas e não menos triunfantes. Não era impossível, entretanto, que eu chegasse a galgar o cimo de um século, e a figurar nas folhas públicas, entre macróbios. Tinha saúde e robustez. Suponha-se que, em vez de estar lançando os alicerces de uma invenção farmacêutica, tratava de coligir os elementos de uma instituição política, ou de uma reforma religiosa. Vinha a corrente de ar, que vence em eficácia o cálculo humano, e lá se ia tudo. Assim corre a sorte dos homens.\"\n",
    "\n",
    "# Mário de Andrade\n",
    "txt4 = \"Então resolveu ir brincar com a Máquina pra ser também imperador dos filhos da mandioca. Mas as três cunhas deram muitas risadas e falaram que isso de deuses era gorda mentira antiga, que não tinha deus não e que com a máquina ninguém não brinca porque ela mata. A máquina não era deus não, nem possuía os distintivos femininos de que o herói gostava tanto. Era feita pelos homens. Se mexia com eletricidade com fogo com água com vento com fumo, os homens aproveitando as forças da natureza. Porém jacaré acreditou? nem o herói! Se levantou na cama e com um gesto, esse sim! bem guaçu de desdém, tó! batendo o antebraço esquerdo dentro do outro dobrado, mexeu com energia a munheca direita pras três cunhas e partiu. Nesse instante, falam, ele inventou o gesto famanado de ofensa: a pacova.\"\n",
    "\n",
    "txt5 = \"O gato caçava o rato\""
   ]
  },
  {
   "cell_type": "code",
   "execution_count": null,
   "metadata": {
    "ExecuteTime": {
     "end_time": "2021-10-09T21:20:47.289525Z",
     "start_time": "2021-10-09T21:19:34.966616Z"
    }
   },
   "outputs": [],
   "source": [
    "main()"
   ]
  },
  {
   "cell_type": "code",
   "execution_count": null,
   "metadata": {
    "ExecuteTime": {
     "end_time": "2021-10-09T21:39:15.057313Z",
     "start_time": "2021-10-09T21:39:15.039324Z"
    }
   },
   "outputs": [],
   "source": [
    "snte = separa_sentencas(txt1)\n",
    "snte"
   ]
  },
  {
   "cell_type": "code",
   "execution_count": null,
   "metadata": {
    "ExecuteTime": {
     "end_time": "2021-10-09T21:40:40.612741Z",
     "start_time": "2021-10-09T21:40:40.591758Z"
    }
   },
   "outputs": [],
   "source": [
    "frslis = [separa_frases(k) for k in snte]\n",
    "frslis"
   ]
  },
  {
   "cell_type": "code",
   "execution_count": null,
   "metadata": {
    "ExecuteTime": {
     "end_time": "2021-10-09T21:53:29.244577Z",
     "start_time": "2021-10-09T21:53:29.218593Z"
    }
   },
   "outputs": [],
   "source": [
    "pllis = [separa_palavras(k) for j in frslis for k in j]\n",
    "pllis # Considera as preposições como palavras"
   ]
  },
  {
   "cell_type": "code",
   "execution_count": null,
   "metadata": {
    "ExecuteTime": {
     "end_time": "2021-10-09T22:13:43.127054Z",
     "start_time": "2021-10-09T22:13:43.098070Z"
    }
   },
   "outputs": [],
   "source": [
    "# Usando o texto 2 como modelo e tentando identificar qual texto pertence ao mesmo autor\n",
    "\n",
    "def main2(lsttext2,txt):\n",
    "    \"\"\"\n",
    "    Função para havaliar uma lista de textos e indicar qual provavelmente pertence ao mesmo autor do txt2\n",
    "    \"\"\"\n",
    "    \n",
    "    ass_mod2 = calcula_assinatura(txt) \n",
    "        \n",
    "    print(f\"\\nO autor do {avalia_textos(lsttext2, ass_mod2)}º texto provavelmente é o mesmo do texto analisado\")\n",
    "\n",
    "main2([txt1,txt3,txt4],txt2)"
   ]
  },
  {
   "cell_type": "code",
   "execution_count": null,
   "metadata": {
    "ExecuteTime": {
     "end_time": "2021-10-09T22:14:05.157310Z",
     "start_time": "2021-10-09T22:14:05.151614Z"
    }
   },
   "outputs": [],
   "source": [
    "txt5 = \"O amor romântico é como um traje, que, como não é eterno, dura tanto quanto dura; e, em breve, sob a veste do ideal que formamos, que se esfacela, surge o corpo real da pessoa humana, em que o vestimos. O amor romântico, portanto, é um caminho de desilusão. Só o não é quando a desilusão, aceite desde o princípio, decide variar de ideal constantemente, tecer constantemente, nas oficinas da alma, novos trajes, com que constantemente se renove o aspecto da criatura, por eles vestida.\"\n",
    "\n",
    "main2([txt1,txt3,txt4],txt5)"
   ]
  },
  {
   "cell_type": "code",
   "execution_count": null,
   "metadata": {
    "ExecuteTime": {
     "end_time": "2021-10-12T02:50:06.600652Z",
     "start_time": "2021-10-12T02:50:06.588664Z"
    }
   },
   "outputs": [],
   "source": [
    "def fatoracao(n):\n",
    "    dividendo = n\n",
    "    k = 2\n",
    "    pilhdiv = Pilha()\n",
    "    while dividendo > 1:\n",
    "        while dividendo % k == 0:\n",
    "            quociente = dividendo // k\n",
    "            dividendo = quociente\n",
    "            pilhdiv.push(k)\n",
    "        k=k+1\n",
    "    \n",
    "    while not pilhdiv.isEmpty():\n",
    "        print(pilhdiv.pop(),end=\"*\")"
   ]
  },
  {
   "cell_type": "code",
   "execution_count": null,
   "metadata": {
    "ExecuteTime": {
     "end_time": "2021-10-12T02:50:07.282664Z",
     "start_time": "2021-10-12T02:50:07.260679Z"
    }
   },
   "outputs": [],
   "source": [
    "fatoracao(589654)"
   ]
  },
  {
   "cell_type": "markdown",
   "metadata": {},
   "source": [
    "# Python USP Coursera - Parte 2"
   ]
  },
  {
   "cell_type": "code",
   "execution_count": null,
   "metadata": {
    "ExecuteTime": {
     "end_time": "2021-10-12T02:41:22.281339Z",
     "start_time": "2021-10-12T02:41:22.260354Z"
    }
   },
   "outputs": [],
   "source": [
    "def cria_matriz(linhas,colunas):\n",
    "    \"\"\"\n",
    "    Função que cria uma matriz com m x n (m linhas e n colunas) com as entradas dos valores pelo usuário.\n",
    "    \"\"\"\n",
    "    matriz = []\n",
    "    for k in range(linhas):\n",
    "        linhas = []\n",
    "        for j in range(colunas):\n",
    "            valores = float(input(f\"Digite o valor do elemento [{k}][{j}]: \"))\n",
    "            linhas.append(valores)\n",
    "        matriz.append(linhas)\n",
    "    return matriz"
   ]
  },
  {
   "cell_type": "code",
   "execution_count": null,
   "metadata": {},
   "outputs": [],
   "source": [
    "def matriz2():\n",
    "    m = int(input(\"Quantas linhas deseja na Matriz?: \"))\n",
    "    n = int(input(\"Quantas colunas deseja na Matriz?: \"))\n",
    "    return cria_matriz(m,n)"
   ]
  },
  {
   "cell_type": "code",
   "execution_count": null,
   "metadata": {
    "ExecuteTime": {
     "end_time": "2021-10-12T02:08:55.832134Z",
     "start_time": "2021-10-12T02:08:55.810148Z"
    }
   },
   "outputs": [],
   "source": [
    "def matriz3():\n",
    "    \"\"\"\n",
    "    Função para imprimir a matriz na forma de melhor visualização\n",
    "    \"\"\"\n",
    "    m = int(input(\"Quantas linhas deseja na Matriz?: \"))\n",
    "    n = int(input(\"Quantas colunas deseja na Matriz?: \"))\n",
    "    \n",
    "    mat = cria_matriz(m,n)\n",
    "    \n",
    "    for k in mat:\n",
    "        print(k)\n",
    "    \n",
    "    return "
   ]
  },
  {
   "cell_type": "code",
   "execution_count": null,
   "metadata": {
    "ExecuteTime": {
     "end_time": "2021-10-12T02:36:49.708563Z",
     "start_time": "2021-10-12T02:36:49.690575Z"
    }
   },
   "outputs": [],
   "source": [
    "matriz3()"
   ]
  },
  {
   "cell_type": "code",
   "execution_count": null,
   "metadata": {},
   "outputs": [],
   "source": [
    "def dimensoes(matriz):\n",
    "    \"\"\"\n",
    "    função dimensoes(matriz) que recebe uma matriz como parâmetro e imprime as dimensões da matriz recebida, no formato iXj.\n",
    "    \"\"\"\n",
    "    print(f\"{len(matriz)}X{len(matriz[0])}\")"
   ]
  },
  {
   "cell_type": "code",
   "execution_count": null,
   "metadata": {},
   "outputs": [],
   "source": [
    "minha_matriz = [[1], [2], [3]]\n",
    "dimensoes(minha_matriz)"
   ]
  },
  {
   "cell_type": "code",
   "execution_count": null,
   "metadata": {},
   "outputs": [],
   "source": [
    "minha_matriz = [[1, 2, 3], [4, 5, 6]]\n",
    "dimensoes(minha_matriz)"
   ]
  },
  {
   "cell_type": "code",
   "execution_count": null,
   "metadata": {},
   "outputs": [],
   "source": [
    "def dimensoes2(matriz):\n",
    "    \"\"\"\n",
    "    função dimensoes(matriz) que recebe uma matriz como parâmetro e \n",
    "    retorna as dimensões da matriz recebida, no formato de tupla (i,j).\n",
    "    \"\"\"\n",
    "    return len(matriz),len(matriz[0])\n",
    "\n",
    "def soma_matrizes(m1, m2):\n",
    "    \"\"\"\n",
    "    função soma_matrizes(m1, m2) que recebe 2 matrizes e devolve uma matriz \n",
    "    que represente sua soma caso as matrizes tenham dimensões iguais. \n",
    "    Caso contrário, a função deve devolver False.\n",
    "    \"\"\"\n",
    "    msoma = [row.copy() for row in m1]\n",
    "      \n",
    "    linhas,colunas = dimensoes2(m1)\n",
    "    \n",
    "    if (linhas,colunas) != dimensoes2(m2):\n",
    "        return False\n",
    "    else:\n",
    "        for k in range(linhas):\n",
    "            for j in range(colunas):\n",
    "                msoma[k][j] = m1[k][j] + m2[k][j]\n",
    "                \n",
    "    return msoma"
   ]
  },
  {
   "cell_type": "code",
   "execution_count": null,
   "metadata": {},
   "outputs": [],
   "source": [
    "m1 = [[1, 2, 3], [4, 5, 6]]\n",
    "m2 = [[2, 3, 4], [5, 6, 7]]\n",
    "soma_matrizes(m1, m2)"
   ]
  },
  {
   "cell_type": "code",
   "execution_count": null,
   "metadata": {},
   "outputs": [],
   "source": [
    "m1"
   ]
  },
  {
   "cell_type": "code",
   "execution_count": null,
   "metadata": {},
   "outputs": [],
   "source": [
    "m1 = [[1], [2], [3]]\n",
    "m2 = [[2, 3, 4], [5, 6, 7]]\n",
    "soma_matrizes(m1, m2)"
   ]
  },
  {
   "cell_type": "code",
   "execution_count": null,
   "metadata": {},
   "outputs": [],
   "source": [
    "def imprime_matriz(mat):\n",
    "    \"\"\"\n",
    "    Função para imprimir a matriz na forma de melhor visualização\n",
    "    \"\"\"\n",
    "    linhas = len(mat)\n",
    "    colunas = len(mat[0])\n",
    "    \n",
    "    for k in range(linhas):\n",
    "        for j in range(colunas):\n",
    "            if j == colunas-1:\n",
    "                print(mat[k][j])\n",
    "            else:\n",
    "                print(mat[k][j],end = \" \")"
   ]
  },
  {
   "cell_type": "code",
   "execution_count": null,
   "metadata": {},
   "outputs": [],
   "source": [
    "minha_matriz = [[1], [2], [3]]\n",
    "imprime_matriz(minha_matriz)"
   ]
  },
  {
   "cell_type": "code",
   "execution_count": null,
   "metadata": {},
   "outputs": [],
   "source": [
    "minha_matriz = [[1, 2, 3], [4, 5, 6]]\n",
    "imprime_matriz(minha_matriz)"
   ]
  },
  {
   "cell_type": "code",
   "execution_count": null,
   "metadata": {},
   "outputs": [],
   "source": [
    "def sao_multiplicaveis(m1, m2):\n",
    "        return len(m1[0]) == len(m2)"
   ]
  },
  {
   "cell_type": "code",
   "execution_count": null,
   "metadata": {},
   "outputs": [],
   "source": [
    "m1 = [[1, 2, 3], [4, 5, 6]]\n",
    "m2 = [[2, 3, 4], [5, 6, 7]]\n",
    "sao_multiplicaveis(m1, m2)"
   ]
  },
  {
   "cell_type": "code",
   "execution_count": null,
   "metadata": {},
   "outputs": [],
   "source": [
    "m1 = [[1], [2], [3]]\n",
    "m2 = [[1, 2, 3]]\n",
    "sao_multiplicaveis(m1, m2)"
   ]
  },
  {
   "cell_type": "code",
   "execution_count": null,
   "metadata": {},
   "outputs": [],
   "source": [
    "linha_com_zeros = [0]*5\n",
    "A = [ linha_com_zeros ] * 5\n",
    "A[1][1] = 2"
   ]
  },
  {
   "cell_type": "code",
   "execution_count": null,
   "metadata": {},
   "outputs": [],
   "source": [
    "A"
   ]
  },
  {
   "cell_type": "code",
   "execution_count": null,
   "metadata": {},
   "outputs": [],
   "source": [
    "def crie_matriz_errada(n_linhas, n_colunas, valor):\n",
    "    ''' (int, int, valor) -> matriz (lista de listas)\n",
    "\n",
    "    Cria e retorna uma matriz com n_linhas linha e n_colunas\n",
    "    colunas em que cada elemento é igual ao valor dado.\n",
    "    '''\n",
    "\n",
    "    matriz = [] # lista vazia\n",
    "    # cria uma linha com valor\n",
    "\n",
    "    linha = [] # lista vazia\n",
    "    for j in range(n_colunas):\n",
    "        linha.append(valor)\n",
    "\n",
    "    for i in range(n_linhas):\n",
    "\n",
    "        # coloque linha na matriz\n",
    "        matriz.append(linha)\n",
    "\n",
    "    return matriz\n",
    "\n",
    "#-----------------------\n",
    "A = crie_matriz_errada(3,4,0)      # A mudança em um elemento de uma linha se repete em todos os demais, \n",
    "A[1][1] = 2                        # devido a ser criado pela mesma linha"
   ]
  },
  {
   "cell_type": "code",
   "execution_count": null,
   "metadata": {},
   "outputs": [],
   "source": [
    "def leia_matriz():\n",
    "    linhas = int(input(\"Digite o número de linhas: \"))\n",
    "    colunas = int(input(\"Digite o número de colunas: \"))\n",
    "    matriz = []\n",
    "    \n",
    "    \n",
    "    for k in range(linhas):\n",
    "        linha = []\n",
    "        print(f\"matriz = {matriz}\")\n",
    "        for j in range(colunas):\n",
    "            valores = int(input(f\"Digite o elemento ({k},{j}): \"))\n",
    "            linha.append(valores)\n",
    "            print(f\"linha {k} = {linha}\")\n",
    "        matriz.append(linha)\n",
    "    print(f\"matriz = {matriz}\")"
   ]
  },
  {
   "cell_type": "code",
   "execution_count": null,
   "metadata": {
    "scrolled": false
   },
   "outputs": [],
   "source": [
    "leia_matriz()"
   ]
  },
  {
   "cell_type": "code",
   "execution_count": 19,
   "metadata": {},
   "outputs": [
    {
     "name": "stdout",
     "output_type": "stream",
     "text": [
      "1\t2\t3\n",
      "2\t1\t4\n",
      "3\t4\t1\n"
     ]
    }
   ],
   "source": [
    "def imprima_matriz(mat):\n",
    "    \"\"\"\n",
    "    Função para imprimir a matriz na forma de melhor visualização\n",
    "    \"\"\"\n",
    "    linhas = len(mat)\n",
    "    colunas = len(mat[0])\n",
    "    \n",
    "    for k in range(linhas):\n",
    "        for j in range(colunas):\n",
    "            if j == colunas-1:\n",
    "                print(mat[k][j])\n",
    "            else:\n",
    "                print(mat[k][j],end = \"\\t\")\n",
    "\n",
    "a = [[1,2,3],[2,1,4],[3,4,1]]\n",
    "imprima_matriz(a)"
   ]
  },
  {
   "cell_type": "code",
   "execution_count": 20,
   "metadata": {},
   "outputs": [],
   "source": [
    "def simetrica(matriz):\n",
    "    marc = True\n",
    "    linhas = len(matriz)\n",
    "    cols = len(matriz[0])\n",
    "    \n",
    "    if linhas != cols:\n",
    "        marc = False\n",
    "    \n",
    "    for k in range(linhas):\n",
    "        colunas = k\n",
    "        for j in range(colunas):\n",
    "            if matriz[k][j] != matriz[j][k]:\n",
    "                marc = False\n",
    "    return marc"
   ]
  },
  {
   "cell_type": "code",
   "execution_count": 21,
   "metadata": {},
   "outputs": [
    {
     "data": {
      "text/plain": [
       "True"
      ]
     },
     "execution_count": 21,
     "metadata": {},
     "output_type": "execute_result"
    }
   ],
   "source": [
    "a = [[1,2,3],[2,1,4],[3,4,1]]\n",
    "simetrica(a)"
   ]
  },
  {
   "cell_type": "code",
   "execution_count": 22,
   "metadata": {},
   "outputs": [
    {
     "name": "stdout",
     "output_type": "stream",
     "text": [
      "1\t2\t3\n",
      "2\t1\t4\n",
      "3\t4\t1\n"
     ]
    }
   ],
   "source": [
    "imprima_matriz(a)"
   ]
  },
  {
   "cell_type": "code",
   "execution_count": 23,
   "metadata": {},
   "outputs": [
    {
     "name": "stdout",
     "output_type": "stream",
     "text": [
      "Passou no primeiro teste! :-)\n"
     ]
    }
   ],
   "source": [
    "# testes\n",
    "a = [[11, -3, 4, 8], [-3, 12, 6, 11], [4, 6, 5, 13], [8, 11, 13, 5]]\n",
    "if simetrica(a):\n",
    "    print(\"Passou no primeiro teste! :-)\")\n",
    "else:\n",
    "    print(\"Nao passou no primeiro teste! :-(\")"
   ]
  },
  {
   "cell_type": "code",
   "execution_count": 24,
   "metadata": {},
   "outputs": [
    {
     "name": "stdout",
     "output_type": "stream",
     "text": [
      "11\t-3\t4\t8\n",
      "-3\t12\t6\t11\n",
      "4\t6\t5\t13\n",
      "8\t11\t13\t5\n"
     ]
    }
   ],
   "source": [
    "imprima_matriz(a)"
   ]
  },
  {
   "cell_type": "code",
   "execution_count": 25,
   "metadata": {},
   "outputs": [],
   "source": [
    "def linhaszeros(matriz):\n",
    "    \"\"\"\n",
    "     leia inteiros positivos m e n e os elementos de uma matriz A de números inteiros de dimensão m x n \n",
    "     e conta o número de linhas e colunas que tem apenas zeros.\n",
    "    \"\"\"\n",
    "    linhas = len(matriz)\n",
    "    colunas = len(matriz[0])\n",
    "    \n",
    "    cntlinzero = 0\n",
    "    cntcolzero = 0\n",
    "    for k in matriz:\n",
    "        if k.count(0) == colunas:\n",
    "            cntlinzero = cntlinzero + 1\n",
    "        \n",
    "    for j in range(colunas):\n",
    "        cnt = 0 \n",
    "        for k in range(linhas):\n",
    "            if matriz[k][j] == 0:\n",
    "                cnt = cnt + 1\n",
    "        if cnt == linhas:\n",
    "            cntcolzero = cntcolzero + 1\n",
    "\n",
    "    print(f\"Matriz: {linhas} x {colunas}\")\n",
    "    \n",
    "    imprima_matriz(matriz)\n",
    "    \n",
    "    print(f\"Linhas  nulas = {cntlinzero}\")\n",
    "    print(f\"Colunas nulas = {cntcolzero}\")\n",
    "        "
   ]
  },
  {
   "cell_type": "code",
   "execution_count": 26,
   "metadata": {},
   "outputs": [],
   "source": [
    "M = [[0,0,0,0,1]\n",
    "    ,[0,0,0,0,0]\n",
    "    ,[0,1,0,0,0]\n",
    "    ,[0,0,0,0,0]]"
   ]
  },
  {
   "cell_type": "code",
   "execution_count": 27,
   "metadata": {},
   "outputs": [
    {
     "name": "stdout",
     "output_type": "stream",
     "text": [
      "Matriz: 4 x 5\n",
      "0\t0\t0\t0\t1\n",
      "0\t0\t0\t0\t0\n",
      "0\t1\t0\t0\t0\n",
      "0\t0\t0\t0\t0\n",
      "Linhas  nulas = 2\n",
      "Colunas nulas = 3\n"
     ]
    }
   ],
   "source": [
    "linhaszeros(M)"
   ]
  },
  {
   "cell_type": "code",
   "execution_count": null,
   "metadata": {},
   "outputs": [],
   "source": [
    "def sao_multiplicaveis(m1, m2):\n",
    "        return len(m1[0]) == len(m2)\n",
    "    \n",
    "def multiplica_matriz(a_mat, b_mat):\n",
    "    \"\"\"\n",
    "    (matriz,matriz) -> matriz\n",
    "\n",
    "    Recebe duas matriz a_mat e b_mat e cria e retorna\n",
    "    a matriz produto  de a_mat por b_mat.\n",
    "\n",
    "    Pre-condicao: a funcao supoe que o numero\n",
    "    de coluna de a_mat e igual ao numero de linhas de b_mat\n",
    "    \"\"\"\n",
    "    if not sao_multiplicaveis(a_mat, b_mat):\n",
    "        return False\n",
    "    \n",
    "    linhas1 = len(a_mat)\n",
    "    colunas1 = len(a_mat[0])\n",
    "    colunas2 = len(b_mat[0])\n",
    "    \n",
    "    matrizmult = []\n",
    "\n",
    "    for i in range(linhas1):\n",
    "        linha = []\n",
    "        for j in range(colunas2):\n",
    "            valor = 0\n",
    "            for k in range(colunas1):\n",
    "                valor = valor + a_mat[i][k]*b_mat[k][j]\n",
    "            linha.append(valor)\n",
    "        matrizmult.append(linha)\n",
    "    \n",
    "    \n",
    "    return matrizmult"
   ]
  },
  {
   "cell_type": "code",
   "execution_count": null,
   "metadata": {},
   "outputs": [],
   "source": [
    "a_mat = [ [1, 2, -1], [0, 3, 2] ]\n",
    "b_mat = [ [1, -1], [2, 0], [3, 2] ]\n",
    "\n",
    "multiplica_matriz(a_mat, b_mat)"
   ]
  },
  {
   "cell_type": "code",
   "execution_count": null,
   "metadata": {},
   "outputs": [],
   "source": [
    "a = [ [1, 2, -1], [0, 3, 2] ]\n",
    "b = [ [1, -1], [2, 0], [3, 2] ]\n",
    "c = multiplica_matriz(a,b)\n",
    "resultado = [ [2, -3], [12, 4] ]\n",
    "if c == resultado:\n",
    "    print(\"Passou no primeiro teste! :-)\")\n",
    "else:\n",
    "    print(\"Nao passou no primeiro teste! :-(\")"
   ]
  },
  {
   "cell_type": "code",
   "execution_count": null,
   "metadata": {},
   "outputs": [],
   "source": [
    "def produto_lincol(lin, a_mat, col, b_mat):\n",
    "    '''(int, matriz, int, matriz) -> float\n",
    "\n",
    "    Recebe duas matriz a_mat e b_mat e dois inteiros lin e col\n",
    "    e calcula a soma o produto entre a linha lin de a_mat com\n",
    "    a coluna col de b_mat\n",
    "\n",
    "    Pre-condicao: a funcao supoe que o numero\n",
    "       de colunas de a_mat e igual ao numero de linhas\n",
    "       de b_mat\n",
    "    '''\n",
    "    if not sao_multiplicaveis(a_mat, b_mat):\n",
    "        return False\n",
    "    \n",
    "    linhas1 = len(a_mat)\n",
    "    colunas1 = len(a_mat[0])\n",
    "    colunas2 = len(b_mat[0])    \n",
    "    \n",
    "    valor = 0\n",
    "    \n",
    "    for k in range(colunas1):\n",
    "        valor = valor + a_mat[lin][k]*b_mat[k][col]\n",
    "    return valor"
   ]
  },
  {
   "cell_type": "code",
   "execution_count": null,
   "metadata": {},
   "outputs": [],
   "source": [
    "A = [ [1, 2, 1],\n",
    "      [2, 2, 2],\n",
    "      [1, 3, 2]]\n",
    "B = [ [1, 1],\n",
    "      [2, 0],\n",
    "      [0, 1] ]\n",
    "produto_lincol(1, A, 0, B)"
   ]
  },
  {
   "cell_type": "code",
   "execution_count": null,
   "metadata": {},
   "outputs": [],
   "source": [
    "def multiplica_matriz2(a_mat, b_mat):\n",
    "    \"\"\"\n",
    "    (matriz,matriz) -> matriz\n",
    "\n",
    "    Recebe duas matriz a_mat e b_mat e cria e retorna\n",
    "    a matriz produto  de a_mat por b_mat.\n",
    "\n",
    "    Pre-condicao: a funcao supoe que o numero\n",
    "    de coluna de a_mat e igual ao numero de linhas de b_mat\n",
    "    \"\"\"\n",
    "    if not sao_multiplicaveis(a_mat, b_mat):\n",
    "        return False\n",
    "    \n",
    "    linhas1 = len(a_mat)\n",
    "    colunas1 = len(a_mat[0])\n",
    "    colunas2 = len(b_mat[0])\n",
    "    \n",
    "    matrizmult = []\n",
    "\n",
    "    for i in range(linhas1):\n",
    "        linha = []\n",
    "        for j in range(colunas2):\n",
    "            valor = produto_lincol(i, a_mat, j, b_mat)\n",
    "            linha.append(valor)\n",
    "        matrizmult.append(linha)\n",
    "    \n",
    "    return matrizmult"
   ]
  },
  {
   "cell_type": "code",
   "execution_count": null,
   "metadata": {},
   "outputs": [],
   "source": [
    "multiplica_matriz2(a_mat,b_mat)"
   ]
  },
  {
   "cell_type": "code",
   "execution_count": null,
   "metadata": {},
   "outputs": [],
   "source": [
    "def acha_max(A):\n",
    "    '''(matriz) -> int, int, int\n",
    "\n",
    "    Recebe uma matriz A e devolve 3 inteiros:\n",
    "    k (um maior valor), e sua posicao lin, col.\n",
    "    '''\n",
    "    linhas = len(A)\n",
    "    colunas = len(A[0])\n",
    "    max_a = A[0][0]\n",
    "    lin = col = 0\n",
    "    \n",
    "    for i in range(linhas):\n",
    "        for j in range(colunas):\n",
    "            if A[i][j] > max_a:\n",
    "                max_a = A[i][j]\n",
    "                lin = i\n",
    "                col = j\n",
    "    return max_a,lin,col"
   ]
  },
  {
   "cell_type": "code",
   "execution_count": null,
   "metadata": {},
   "outputs": [],
   "source": [
    "A = [ [3, 7, 1], [1, 2, 8], [5, 3, 4]]\n",
    "acha_max(A)"
   ]
  },
  {
   "cell_type": "code",
   "execution_count": null,
   "metadata": {},
   "outputs": [],
   "source": [
    "A"
   ]
  },
  {
   "cell_type": "code",
   "execution_count": null,
   "metadata": {},
   "outputs": [],
   "source": [
    "def acha_min(A):\n",
    "    \n",
    "    linhas = len(A)\n",
    "    colunas = len(A[0])    \n",
    "    \n",
    "    min_a = A[0][0]\n",
    "    for k in range(linhas):\n",
    "        for j in range(colunas):\n",
    "            if A[k][j] < min_a:\n",
    "                min_a = A[k][j]\n",
    "    return min_a"
   ]
  },
  {
   "cell_type": "code",
   "execution_count": null,
   "metadata": {},
   "outputs": [],
   "source": [
    "def ord_matriz(A):\n",
    "    \"\"\"\n",
    "    dado dois inteiros nl e nc e uma matriz quadrada de dimensão nl x nc,\n",
    "    cujos elementos são todos inteiros, imprime uma tabela onde os elementos \n",
    "    são listados em ordem decrescente, acompanhados da indicação de linha e coluna \n",
    "    a que pertencem. Havendo repetições de elementos na matriz, a ordem é irrelevante.\n",
    "    \"\"\"\n",
    "    Ac = [row[:] for row in A] # Forma mais simples de copiar uma matriz\n",
    "    \n",
    "    linhas = len(Ac)\n",
    "    colunas = len(Ac[0])\n",
    "             \n",
    "    min_a = acha_min(Ac)\n",
    "    \n",
    "    \n",
    "    a,b,c = acha_max(Ac)\n",
    "    max_lst = [[a,b,c]]\n",
    "    \n",
    "    for k in range(linhas*colunas-1):\n",
    "        Ac[b][c] = min_a\n",
    "        a,b,c = acha_max(Ac)\n",
    "        max_lst.append([a,b,c])\n",
    "        \n",
    "    return max_lst"
   ]
  },
  {
   "cell_type": "code",
   "execution_count": null,
   "metadata": {},
   "outputs": [],
   "source": [
    "print(\"Elem\\tLinha\\tColuna\")\n",
    "for i in ord_matriz(A):\n",
    "    for j in i:\n",
    "        print(j,end=\"\\t\")\n",
    "    print()"
   ]
  },
  {
   "cell_type": "code",
   "execution_count": null,
   "metadata": {},
   "outputs": [],
   "source": [
    "id(A)"
   ]
  },
  {
   "cell_type": "code",
   "execution_count": null,
   "metadata": {},
   "outputs": [],
   "source": [
    "acha_min(A)"
   ]
  },
  {
   "cell_type": "code",
   "execution_count": null,
   "metadata": {},
   "outputs": [],
   "source": [
    "A"
   ]
  },
  {
   "cell_type": "code",
   "execution_count": null,
   "metadata": {},
   "outputs": [],
   "source": [
    "BOMBA = -1\n",
    "\n",
    "def conta_bomba(A, lin, col):\n",
    "    '''\n",
    "    Recebe uma matriz inteira A e uma posicao (lin, col), e\n",
    "    retorna o numero de bombas ao redor de (lin, col)\n",
    "    '''\n",
    "    BOMBA = -1\n",
    "    cnt = 0\n",
    "    \n",
    "    linhas = len(A)\n",
    "    colunas = len(A[0])\n",
    "    \n",
    "    for i in [-1, 0, 1]:\n",
    "        for j in [-1, 0, 1]:\n",
    "            if (lin+i >=0) and (col+j >=0) and (lin+i <= linhas-1) and (col+j <= colunas-1):\n",
    "                if A[lin+i][col+j] == BOMBA:\n",
    "                    if not(i == 0 and j == 0):\n",
    "                        cnt+=1\n",
    "    return cnt"
   ]
  },
  {
   "cell_type": "code",
   "execution_count": null,
   "metadata": {},
   "outputs": [],
   "source": [
    "B = [[-1, -1, 1], [0, -1, 8], [5, 3, -1]]\n",
    "conta_bomba(B, 2, 2)"
   ]
  },
  {
   "cell_type": "code",
   "execution_count": null,
   "metadata": {},
   "outputs": [],
   "source": [
    "imprima_matriz(B)"
   ]
  },
  {
   "cell_type": "code",
   "execution_count": null,
   "metadata": {},
   "outputs": [],
   "source": [
    "def matriz_campominado(A):\n",
    "    '''\n",
    "    Le uma matriz A com 0's e 1's e calcula a quantidade de\n",
    "    bombas ao redor de cada posição livre.\n",
    "    '''\n",
    "    BOMBA = -1\n",
    "    LIVRE =  0\n",
    "    linhas = len(A)\n",
    "    colunas = len(A[0])\n",
    "    matriz = []\n",
    "    \n",
    "    for i in range(linhas):\n",
    "        linha = []\n",
    "        for j in range(colunas):\n",
    "            valor = conta_bomba(A, i, j)\n",
    "            linha.append(valor)\n",
    "        matriz.append(linha)\n",
    "    \n",
    "    return matriz"
   ]
  },
  {
   "cell_type": "code",
   "execution_count": null,
   "metadata": {},
   "outputs": [],
   "source": [
    "matriz_campominado(B)"
   ]
  },
  {
   "cell_type": "code",
   "execution_count": null,
   "metadata": {},
   "outputs": [],
   "source": [
    "frase = \" Python É Uma Linguagem Poderosa \"\n",
    "frase.capitalize()"
   ]
  },
  {
   "cell_type": "code",
   "execution_count": null,
   "metadata": {},
   "outputs": [],
   "source": [
    "frase[14:]"
   ]
  },
  {
   "cell_type": "code",
   "execution_count": null,
   "metadata": {},
   "outputs": [],
   "source": [
    "frase[:6]"
   ]
  },
  {
   "cell_type": "code",
   "execution_count": null,
   "metadata": {},
   "outputs": [],
   "source": [
    "frase = \"São Paulo é a maior cidade do Brasil\"\n",
    "frase.find(\"ai\")"
   ]
  },
  {
   "cell_type": "code",
   "execution_count": null,
   "metadata": {},
   "outputs": [],
   "source": [
    "len(frase)"
   ]
  },
  {
   "cell_type": "code",
   "execution_count": null,
   "metadata": {},
   "outputs": [],
   "source": [
    "frase.count(\"o\")"
   ]
  },
  {
   "cell_type": "code",
   "execution_count": null,
   "metadata": {},
   "outputs": [],
   "source": [
    "a = \"gato\"\n",
    "\n",
    "b = \"O gato subiu no telhado\"\n",
    "\n",
    "c = \"telhado\""
   ]
  },
  {
   "cell_type": "code",
   "execution_count": null,
   "metadata": {},
   "outputs": [],
   "source": [
    "b[2:6] == a"
   ]
  },
  {
   "cell_type": "code",
   "execution_count": null,
   "metadata": {},
   "outputs": [],
   "source": [
    "b[16:]"
   ]
  },
  {
   "cell_type": "code",
   "execution_count": null,
   "metadata": {},
   "outputs": [],
   "source": [
    "a>c"
   ]
  },
  {
   "cell_type": "code",
   "execution_count": null,
   "metadata": {},
   "outputs": [],
   "source": [
    "x = 150\n",
    "y = 200"
   ]
  },
  {
   "cell_type": "code",
   "execution_count": null,
   "metadata": {},
   "outputs": [],
   "source": [
    "assert (x == y)"
   ]
  },
  {
   "cell_type": "code",
   "execution_count": null,
   "metadata": {},
   "outputs": [],
   "source": [
    "def calculo(x, y = 10, z = 5):\n",
    "    return x + y * z;"
   ]
  },
  {
   "cell_type": "code",
   "execution_count": null,
   "metadata": {},
   "outputs": [],
   "source": [
    "calculo(0,1,2)"
   ]
  },
  {
   "cell_type": "code",
   "execution_count": null,
   "metadata": {},
   "outputs": [],
   "source": [
    "def horario_em_segundos(h, m, s):\n",
    "    assert h >= 0 and m >= 0 and s >= 0\n",
    "    return h * 3600 + m * 60 + s"
   ]
  },
  {
   "cell_type": "code",
   "execution_count": null,
   "metadata": {},
   "outputs": [],
   "source": [
    "horario_em_segundos(1,2,3)"
   ]
  },
  {
   "cell_type": "code",
   "execution_count": null,
   "metadata": {},
   "outputs": [],
   "source": [
    "def maiusculas(s):\n",
    "    st = \"\"\n",
    "    for k in s:\n",
    "        if ord(k) >= 65 and ord(k) <= 90:\n",
    "            st = st + k\n",
    "    return st"
   ]
  },
  {
   "cell_type": "code",
   "execution_count": null,
   "metadata": {},
   "outputs": [],
   "source": [
    "ord(\"A\")"
   ]
  },
  {
   "cell_type": "code",
   "execution_count": null,
   "metadata": {},
   "outputs": [],
   "source": [
    "ord(\"Z\")"
   ]
  },
  {
   "cell_type": "code",
   "execution_count": null,
   "metadata": {},
   "outputs": [],
   "source": [
    "maiusculas('Programamos em python 2?')\n",
    "# deve devolver 'P'"
   ]
  },
  {
   "cell_type": "code",
   "execution_count": null,
   "metadata": {},
   "outputs": [],
   "source": [
    "maiusculas('Programamos em Python 3.')\n",
    "# deve devolver 'PP'"
   ]
  },
  {
   "cell_type": "code",
   "execution_count": null,
   "metadata": {},
   "outputs": [],
   "source": [
    "maiusculas('PrOgRaMaMoS em python!')\n",
    "# deve devolver 'PORMMS'"
   ]
  },
  {
   "cell_type": "code",
   "execution_count": null,
   "metadata": {},
   "outputs": [],
   "source": [
    "def menor_nome(lst):\n",
    "\n",
    "    men_nome = lst[0]\n",
    "    for k in lst:\n",
    "        ks = k.strip()\n",
    "        if len(ks) < len(men_nome):\n",
    "            men_nome = ks\n",
    "    return men_nome.capitalize()"
   ]
  },
  {
   "cell_type": "code",
   "execution_count": null,
   "metadata": {},
   "outputs": [],
   "source": [
    "s = [\"rafael\",\" jesus\",\" silva\",\" monteiro\"]\n",
    "\n",
    "menor_nome(s)"
   ]
  },
  {
   "cell_type": "code",
   "execution_count": null,
   "metadata": {},
   "outputs": [],
   "source": [
    "menor_nome(['maria', 'josé', 'PAULO', 'Catarina'])\n",
    "# deve devolver 'José'"
   ]
  },
  {
   "cell_type": "code",
   "execution_count": null,
   "metadata": {},
   "outputs": [],
   "source": [
    "menor_nome(['maria', ' josé  ', '  PAULO', 'Catarina  '])\n",
    "# deve devolver 'José'"
   ]
  },
  {
   "cell_type": "code",
   "execution_count": null,
   "metadata": {},
   "outputs": [],
   "source": [
    "menor_nome(['Bárbara', 'JOSÉ  ', 'Bill'])\n",
    "# deve devolver José"
   ]
  },
  {
   "cell_type": "code",
   "execution_count": null,
   "metadata": {},
   "outputs": [],
   "source": [
    "chr(65)"
   ]
  },
  {
   "cell_type": "code",
   "execution_count": null,
   "metadata": {},
   "outputs": [],
   "source": [
    "ord(\"A\"),ord(\"Z\")"
   ]
  },
  {
   "cell_type": "code",
   "execution_count": null,
   "metadata": {},
   "outputs": [],
   "source": [
    "def conta_letras(frase, contar = \"vogais\"):\n",
    "    cnt = 0\n",
    "    \n",
    "    frase = frase.upper()\n",
    "    \n",
    "    if contar == \"vogais\":\n",
    "        for k in frase:\n",
    "            if k in 'AEIOU':\n",
    "                cnt += 1\n",
    "    else:\n",
    "        lst_cons = [chr(x) for x in range(65,91) if chr(x) not in 'AEIOU']\n",
    "        for k in frase:\n",
    "            if k in lst_cons:\n",
    "                cnt += 1\n",
    "    return cnt"
   ]
  },
  {
   "cell_type": "code",
   "execution_count": null,
   "metadata": {},
   "outputs": [],
   "source": [
    "conta_letras('programamos em python')\n",
    "# deve devolver 6"
   ]
  },
  {
   "cell_type": "code",
   "execution_count": null,
   "metadata": {},
   "outputs": [],
   "source": [
    "conta_letras('programamos em python', 'vogais')\n",
    "# deve devolver 6"
   ]
  },
  {
   "cell_type": "code",
   "execution_count": null,
   "metadata": {},
   "outputs": [],
   "source": [
    "len('programamos em python')"
   ]
  },
  {
   "cell_type": "code",
   "execution_count": null,
   "metadata": {},
   "outputs": [],
   "source": [
    "'programamos em python'.count(\" \")"
   ]
  },
  {
   "cell_type": "code",
   "execution_count": null,
   "metadata": {},
   "outputs": [],
   "source": [
    "conta_letras('programamos em python', 'consoantes')\n",
    "# deve devolver 13"
   ]
  },
  {
   "cell_type": "code",
   "execution_count": null,
   "metadata": {},
   "outputs": [],
   "source": [
    "[chr(x) for x in range(65,91) if chr(x) not in 'AEIOU']"
   ]
  },
  {
   "cell_type": "code",
   "execution_count": null,
   "metadata": {},
   "outputs": [],
   "source": [
    "def primeiro_lex(lst):\n",
    "\n",
    "    men_nome = lst[0]\n",
    "    for k in lst:\n",
    "        ks = k.strip()\n",
    "        if ks < men_nome:\n",
    "            men_nome = ks\n",
    "    return men_nome"
   ]
  },
  {
   "cell_type": "code",
   "execution_count": null,
   "metadata": {},
   "outputs": [],
   "source": [
    "s = [\"rafael\",\" jesus\",\" silva\",\" monteiro\"]\n",
    "\n",
    "primeiro_lex(s)"
   ]
  },
  {
   "cell_type": "code",
   "execution_count": null,
   "metadata": {},
   "outputs": [],
   "source": [
    "primeiro_lex(['oĺá', 'A', 'a', 'casa'])\n",
    "# deve devolver 'A'"
   ]
  },
  {
   "cell_type": "code",
   "execution_count": null,
   "metadata": {},
   "outputs": [],
   "source": [
    "primeiro_lex(['AAAAAA', 'b'])\n",
    "# deve devolver 'AAAAAA'"
   ]
  },
  {
   "cell_type": "code",
   "execution_count": null,
   "metadata": {},
   "outputs": [],
   "source": [
    "nome = \"poesia.txt\"    # poderia ser um input(\"Digite o nome do arquivo: \")\n",
    "\n",
    "with open(nome, 'w', encoding='utf-8') as arq:\n",
    "    # CORPO DO WITH\n",
    "    arq.write(\"    O poeta é um fingidor.      \\n\")\n",
    "    arq.write(\"    Finge tão completamente     \\n\")\n",
    "    arq.write(\"    Que chega a fingir que é dor\\n\")\n",
    "    arq.write(\"    A dor que deveras sente.    \\n\")\n",
    "    arq.write(\"                Fernando Pessoa.\\n\")"
   ]
  },
  {
   "cell_type": "code",
   "execution_count": null,
   "metadata": {},
   "outputs": [],
   "source": [
    "nome = \"poesia.txt\"    # poderia ser um input(\"Digite o nome do arquivo: \")\n",
    "\n",
    "with open(nome, 'r', encoding='utf-8') as arq_entrada:\n",
    "    # CORPO DO WITH\n",
    "    conteudo = arq_entrada.read()\n",
    "\n",
    "# continue o programa usando conteudo\n",
    "print(conteudo)"
   ]
  },
  {
   "cell_type": "code",
   "execution_count": null,
   "metadata": {},
   "outputs": [],
   "source": [
    "type(conteudo)"
   ]
  },
  {
   "cell_type": "code",
   "execution_count": null,
   "metadata": {},
   "outputs": [],
   "source": [
    "fileref = open(\"ccdata.txt\", \"r\",encoding='UTF-8')"
   ]
  },
  {
   "cell_type": "code",
   "execution_count": null,
   "metadata": {},
   "outputs": [],
   "source": [
    "text2 = fileref.read()\n",
    "text2\n",
    "fileref.close()"
   ]
  },
  {
   "cell_type": "code",
   "execution_count": null,
   "metadata": {},
   "outputs": [],
   "source": [
    "type(text2)"
   ]
  },
  {
   "cell_type": "code",
   "execution_count": null,
   "metadata": {
    "scrolled": true
   },
   "outputs": [],
   "source": [
    "fileref = open(\"ccdata.txt\", \"r\",encoding='UTF-8')\n",
    "print(fileref.read())\n",
    "fileref.close()"
   ]
  },
  {
   "cell_type": "code",
   "execution_count": null,
   "metadata": {},
   "outputs": [],
   "source": [
    "ccfile = open(\"ccdata.txt\", \"r\",encoding='UTF-8')"
   ]
  },
  {
   "cell_type": "code",
   "execution_count": null,
   "metadata": {},
   "outputs": [],
   "source": [
    "temp_list = []\n",
    "for aline in ccfile:\n",
    "    values = aline.split()\n",
    "    temp_list.append(values)\n",
    "\n",
    "    \n",
    "for k in temp_list[1:]:\n",
    "    print('In', k[0], 'the average temp. was', k[1], '°C and CO2 emmisions were', k[2], 'gigatons.')\n",
    "\n",
    "ccfile.close()"
   ]
  },
  {
   "cell_type": "code",
   "execution_count": null,
   "metadata": {},
   "outputs": [],
   "source": [
    "ref_arquivo = open(\"qbdata.txt\",\"r\",encoding='UTF-8')\n",
    "# print(ref_arquivo.read())"
   ]
  },
  {
   "cell_type": "code",
   "execution_count": null,
   "metadata": {},
   "outputs": [],
   "source": [
    "for linha in ref_arquivo:\n",
    "    valores = linha.split()\n",
    "    print('QB ', valores[0], valores[1], 'obteve a avaliacao ', valores[10] )\n",
    "\n",
    "ref_arquivo.close()"
   ]
  },
  {
   "cell_type": "code",
   "execution_count": null,
   "metadata": {},
   "outputs": [],
   "source": [
    "infile = open(\"ccdata.txt\", \"r\")\n",
    "line = infile.readline()\n",
    "while line:\n",
    "    values = line.split()\n",
    "    print('In', values[0], 'the average temp. was', values[1], '°C and CO2 emmisions were', values[2], 'gigatons.')\n",
    "    line = infile.readline()\n",
    "\n",
    "infile.close()"
   ]
  },
  {
   "cell_type": "code",
   "execution_count": null,
   "metadata": {},
   "outputs": [],
   "source": [
    "infile = open(\"ccdata.txt\", \"r\",encoding='UTF-8')\n",
    "line = infile.readline()\n",
    "line"
   ]
  },
  {
   "cell_type": "code",
   "execution_count": null,
   "metadata": {},
   "outputs": [],
   "source": [
    "line"
   ]
  },
  {
   "cell_type": "code",
   "execution_count": null,
   "metadata": {},
   "outputs": [],
   "source": [
    "infile.readline()"
   ]
  },
  {
   "cell_type": "code",
   "execution_count": null,
   "metadata": {},
   "outputs": [],
   "source": [
    "print(infile.readline())\n",
    "\n",
    "infile.close()"
   ]
  },
  {
   "cell_type": "code",
   "execution_count": null,
   "metadata": {},
   "outputs": [],
   "source": [
    "txt = 'Melhorando a cada dia minhas habilidades de programação'\n",
    "k = -1\n",
    "while txt:\n",
    "    k+=1\n",
    "    try:\n",
    "        print(txt[k],end = \"\")\n",
    "    except:\n",
    "        break"
   ]
  },
  {
   "cell_type": "code",
   "execution_count": null,
   "metadata": {},
   "outputs": [],
   "source": [
    "ref_arquivo = open(\"qbdata.txt\",\"r\",encoding='UTF-8')\n",
    "lista_de_linhas = ref_arquivo.readlines()\n",
    "ref_arquivo.close()"
   ]
  },
  {
   "cell_type": "code",
   "execution_count": null,
   "metadata": {},
   "outputs": [],
   "source": [
    "lista_de_linhas"
   ]
  },
  {
   "cell_type": "code",
   "execution_count": null,
   "metadata": {},
   "outputs": [],
   "source": [
    "infile = open(\"ccdata.txt\", \"r\",encoding='UTF-8')\n",
    "outfile = open(\"emissiondata.txt\", \"w\",encoding='UTF-8')\n",
    "\n",
    "aline = infile.readline()\n",
    "outfile.write(\"Year \\tEmmision\\n\")\n",
    "while aline:\n",
    "    items = aline.split()\n",
    "    dataline = items[0] + '\\t' + items[2]\n",
    "    outfile.write(dataline + '\\n')\n",
    "    aline = infile.readline()\n",
    "\n",
    "infile.close()\n",
    "outfile.close()"
   ]
  },
  {
   "cell_type": "code",
   "execution_count": null,
   "metadata": {},
   "outputs": [],
   "source": [
    "ref_arquivo = open(\"studentdata.txt\",\"r\",encoding='utf-8-sig')\n",
    "lista_de_linhas2 = ref_arquivo.readlines()\n",
    "ref_arquivo.close()"
   ]
  },
  {
   "cell_type": "code",
   "execution_count": null,
   "metadata": {},
   "outputs": [],
   "source": [
    "for k in lista_de_linhas2:\n",
    "    print(k,end = \"\")"
   ]
  },
  {
   "cell_type": "code",
   "execution_count": null,
   "metadata": {},
   "outputs": [],
   "source": [
    "lista_de_linhas2"
   ]
  },
  {
   "cell_type": "code",
   "execution_count": null,
   "metadata": {},
   "outputs": [],
   "source": [
    "for k in lista_de_linhas2:\n",
    "    \"\"\"\n",
    "    prints out the names of students that have more than six quiz scores.\n",
    "    \"\"\"\n",
    "    ks = k.split()\n",
    "    if len(ks) > 7:\n",
    "        print(ks[0])"
   ]
  },
  {
   "cell_type": "code",
   "execution_count": null,
   "metadata": {},
   "outputs": [],
   "source": [
    "\"\"\"\n",
    "calculates the average grade for each student, and print out the student’s name along with their average grade.\n",
    "\"\"\"\n",
    "for k in lista_de_linhas2:\n",
    "    \"\"\"\n",
    "    prints out the names of students that have more than six quiz scores.\n",
    "    \"\"\"\n",
    "    ks = k.split()\n",
    "    soma = 0\n",
    "    for j in ks[1:]:\n",
    "        soma+= float(j)\n",
    "    print(ks[0],f\"\\t{soma/(len(ks)-1):.2f}\")"
   ]
  },
  {
   "cell_type": "code",
   "execution_count": null,
   "metadata": {},
   "outputs": [],
   "source": [
    "\"\"\"\n",
    "calculates the minimum and maximum score for each student. Print out their name as well.\n",
    "\"\"\"\n",
    "\n",
    "for k in lista_de_linhas2:\n",
    "    \"\"\"\n",
    "    prints out the names of students that have more than six quiz scores.\n",
    "    \"\"\"\n",
    "    ks = k.split()\n",
    "    mx = float(ks[1])\n",
    "    mn = float(ks[1])\n",
    "    for j in ks[1:]:\n",
    "        jf = float(j)\n",
    "        if jf > mx:\n",
    "            mx = jf\n",
    "        elif jf < mn:\n",
    "            mn = jf         \n",
    "    print(ks[0],f\"\\t -> Nota Máxima : {mx:.2f}\\t Nota Mínima : {mn:.2f}\")"
   ]
  },
  {
   "cell_type": "code",
   "execution_count": null,
   "metadata": {},
   "outputs": [],
   "source": [
    "ref_arquivo = open(\"labdata.txt\",\"r\",encoding='utf-8-sig')\n",
    "lista_de_linhas3 = ref_arquivo.readlines()\n",
    "ref_arquivo.close()"
   ]
  },
  {
   "cell_type": "code",
   "execution_count": null,
   "metadata": {},
   "outputs": [],
   "source": [
    "x = []\n",
    "y = []\n",
    "for k in lista_de_linhas3:\n",
    "    ks = k.split()\n",
    "    x.append(float(ks[0]))\n",
    "    y.append(float(ks[1]))\n",
    "    "
   ]
  },
  {
   "cell_type": "code",
   "execution_count": null,
   "metadata": {},
   "outputs": [],
   "source": [
    "t = turtle.Turtle()\n",
    "wn = turtle.Screen()\n",
    "\n",
    "wn.setworldcoordinates(0,0,150,150)\n",
    "\n",
    "t.up()\n",
    "\n",
    "n = len(x)\n",
    "\n",
    "if n == len(y):\n",
    "    my = sum(y)/n\n",
    "    mx = sum(x)/n\n",
    "    sum_xy = sum([k*j for k,j in zip(x,y)])\n",
    "    sum_x2 = sum([k**2 for k in x])\n",
    "    m = (sum_xy - n*mx*my) / (sum_x2 - n*mx**2)\n",
    "else:\n",
    "    print(\"Vetores com tamanhos diferentes\")\n",
    "    \n",
    "\n",
    "for i,j in zip(x,y): \n",
    "    t.goto(i,j)\n",
    "    t.dot()\n",
    "    t.write([i,j])\n",
    "    \n",
    "yr = [my + m*(k - mx) for k in sorted(x)]\n",
    "\n",
    "t.goto(sorted(x)[0],yr[0])\n",
    "t.down()\n",
    "t.color('red')\n",
    "\n",
    "for i,j in zip(sorted(x),yr): \n",
    "    t.goto(i,j)\n",
    "\n",
    "sig_inclin = \"+\" if m>0 else \"\"\n",
    "\n",
    "t.write(f\"y = {my - m*mx:.4f} {sig_inclin} {m:.4f}*x\")\n",
    "t.ht()    \n",
    "    \n",
    "turtle.done()\n",
    "turtle.exitonclick()"
   ]
  },
  {
   "cell_type": "code",
   "execution_count": null,
   "metadata": {},
   "outputs": [],
   "source": [
    "init_printing(use_latex='mathjax')\n"
   ]
  },
  {
   "cell_type": "code",
   "execution_count": null,
   "metadata": {},
   "outputs": [],
   "source": [
    "from sympy import *\n",
    "x, y, z = symbols('x, y, z')\n",
    "eq1 = x**2 -3*x - 3\n",
    "solve(eq1, x)"
   ]
  },
  {
   "cell_type": "code",
   "execution_count": null,
   "metadata": {},
   "outputs": [],
   "source": [
    "solve([x**2 -3*x*y - 3, y**2 +3*x*y + 6], x, y, set=True)"
   ]
  },
  {
   "cell_type": "code",
   "execution_count": null,
   "metadata": {
    "scrolled": false
   },
   "outputs": [],
   "source": [
    "eq1 = x**2 -3*x*y - 3\n",
    "eq2 = y**2 +3*x*y + 6\n",
    "solve([eq1, eq2], (x, y))"
   ]
  },
  {
   "cell_type": "markdown",
   "metadata": {},
   "source": [
    "## Dinossauro"
   ]
  },
  {
   "cell_type": "code",
   "execution_count": 24,
   "metadata": {
    "ExecuteTime": {
     "end_time": "2021-10-16T21:27:10.243575Z",
     "start_time": "2021-10-16T21:27:10.211596Z"
    }
   },
   "outputs": [],
   "source": [
    "ref_arquivo = open(\"mystery.txt\",\"r\",encoding='utf-8-sig')\n",
    "lista_de_linhas4 = ref_arquivo.readlines()\n",
    "ref_arquivo.close()"
   ]
  },
  {
   "cell_type": "code",
   "execution_count": 26,
   "metadata": {
    "ExecuteTime": {
     "end_time": "2021-10-16T21:28:38.081843Z",
     "start_time": "2021-10-16T21:28:12.256985Z"
    }
   },
   "outputs": [
    {
     "ename": "Terminator",
     "evalue": "",
     "output_type": "error",
     "traceback": [
      "\u001b[1;31m---------------------------------------------------------------------------\u001b[0m",
      "\u001b[1;31mTerminator\u001b[0m                                Traceback (most recent call last)",
      "\u001b[1;32m~\\AppData\\Local\\Temp/ipykernel_15736/1537891055.py\u001b[0m in \u001b[0;36m<module>\u001b[1;34m\u001b[0m\n\u001b[0;32m     17\u001b[0m \u001b[1;33m\u001b[0m\u001b[0m\n\u001b[0;32m     18\u001b[0m \u001b[0mturtle\u001b[0m\u001b[1;33m.\u001b[0m\u001b[0mdone\u001b[0m\u001b[1;33m(\u001b[0m\u001b[1;33m)\u001b[0m\u001b[1;33m\u001b[0m\u001b[1;33m\u001b[0m\u001b[0m\n\u001b[1;32m---> 19\u001b[1;33m \u001b[0mturtle\u001b[0m\u001b[1;33m.\u001b[0m\u001b[0mexitonclick\u001b[0m\u001b[1;33m(\u001b[0m\u001b[1;33m)\u001b[0m\u001b[1;33m\u001b[0m\u001b[1;33m\u001b[0m\u001b[0m\n\u001b[0m",
      "\u001b[1;32mc:\\python39\\lib\\turtle.py\u001b[0m in \u001b[0;36mexitonclick\u001b[1;34m()\u001b[0m\n",
      "\u001b[1;31mTerminator\u001b[0m: "
     ]
    }
   ],
   "source": [
    "t = turtle.Turtle()\n",
    "wn = turtle.Screen()\n",
    "\n",
    "# wn.setworldcoordinates(0,0,150,150)\n",
    "\n",
    "\n",
    "for k in lista_de_linhas4:\n",
    "    ks = k.split()\n",
    "    if ks[0] =='UP':\n",
    "        t.up()\n",
    "    elif ks[0] =='DOWN':\n",
    "        t.down()\n",
    "    else:\n",
    "        t.goto(float(ks[0]),float(ks[1]))\n",
    "\n",
    "t.ht()\n",
    "        \n",
    "turtle.done()\n",
    "turtle.exitonclick()"
   ]
  },
  {
   "cell_type": "code",
   "execution_count": null,
   "metadata": {},
   "outputs": [],
   "source": [
    "def separa(texto, sep):\n",
    "    \"\"\"\n",
    "    A função “corta” o texto nos separadores, \n",
    "    retornando uma lista com as palavras do texto. Exemplo: \n",
    "    para o texto: ”,1,,2,3,” a saída deve ser a lista: [‘’, ‘1’, ‘’, ‘2’, ‘3’, ‘’] \n",
    "    onde ‘’ indica uma palavra vazia (entre 2 separadores consecutivos).\n",
    "    \"\"\"\n",
    "    return texto.split(\",\")"
   ]
  },
  {
   "cell_type": "code",
   "execution_count": null,
   "metadata": {},
   "outputs": [],
   "source": [
    "separa(\",1,,2,3,\", \",\")"
   ]
  },
  {
   "cell_type": "code",
   "execution_count": null,
   "metadata": {},
   "outputs": [],
   "source": [
    "name = input(\"Digite o nome do arquivo: \")\n",
    "ref_arquivo = open(name,\"r\",encoding='utf-8-sig')\n",
    "lista_de_linhas4 = ref_arquivo.readlines()\n",
    "ref_arquivo.close()\n",
    "\n",
    "somat = 0\n",
    "\n",
    "for k in lista_de_linhas4:\n",
    "    \"\"\"\n",
    "    prints out the names of students that have more than six quiz scores.\n",
    "    \"\"\"\n",
    "    ks = k.split()\n",
    "    soma = 0\n",
    "    for j in ks:\n",
    "        soma+= float(j)\n",
    "    print(f\"Soma \\t{soma:.6f}\")\n",
    "    somat+=soma\n",
    "    \n",
    "print(f\"Total \\t{somat:.6f}\")"
   ]
  },
  {
   "cell_type": "code",
   "execution_count": null,
   "metadata": {},
   "outputs": [],
   "source": [
    "def harmonicoDE(n):\n",
    "    h = 0\n",
    "    for k in range(n):\n",
    "        h = h + 1/(n-k)\n",
    "    return h\n",
    "\n",
    "def harmonicoED(n):\n",
    "    h = 0\n",
    "    for k in range(1,n+1):\n",
    "        h = h + 1/k\n",
    "    return h"
   ]
  },
  {
   "cell_type": "code",
   "execution_count": null,
   "metadata": {},
   "outputs": [],
   "source": [
    "harmonicoDE(10),harmonicoDE(100),harmonicoED(10),harmonicoED(100)"
   ]
  },
  {
   "cell_type": "code",
   "execution_count": null,
   "metadata": {},
   "outputs": [],
   "source": [
    "def fatorial(n):\n",
    "\n",
    "    fat = 1\n",
    "    while n >= 1:\n",
    "        fat = fat*n\n",
    "        n+=-1\n",
    "    return fat\n",
    "\n",
    "def num_euler(x,n):\n",
    "    \"\"\"\n",
    "    Calcula o numero de Euler elevado a x expandido até o grau n do polinomio de Taylor\n",
    "    \"\"\"\n",
    "    e = 0\n",
    "    for k in range(n+1):\n",
    "        e = e + (x**n)/fatorial(k)\n",
    "    return e"
   ]
  },
  {
   "cell_type": "code",
   "execution_count": null,
   "metadata": {},
   "outputs": [],
   "source": [
    "num_euler(1,5)"
   ]
  },
  {
   "cell_type": "code",
   "execution_count": 30,
   "metadata": {
    "ExecuteTime": {
     "end_time": "2021-10-16T21:31:09.298914Z",
     "start_time": "2021-10-16T21:31:09.286921Z"
    }
   },
   "outputs": [],
   "source": [
    "def arctan(x):\n",
    "    \"\"\"\n",
    "    que recebe o número real x∈[0,1] e devolve uma aproximação do arco tangente de x (em radianos) \n",
    "    através da série incluindo todos os termos da série\n",
    "    \"\"\"\n",
    "    at = x\n",
    "    ini = 1\n",
    "    k = 3\n",
    "    cnt = 1\n",
    "    while abs(ini) >= 0.0001 and cnt<=1000:\n",
    "        ini = ((-1)**cnt)*(x**k)/k\n",
    "        at = at + ini\n",
    "        k+=2\n",
    "        cnt+=1\n",
    "    return at"
   ]
  },
  {
   "cell_type": "code",
   "execution_count": null,
   "metadata": {},
   "outputs": [],
   "source": [
    "def angulo_com_x(x,y):\n",
    "    if x == 0:\n",
    "        ang = 90\n",
    "    else:\n",
    "        if  y < x: # Primeiro quadrante\n",
    "            ang = 180*arctan(abs(y/x))/np.pi\n",
    "        else: # Quarto quadrante\n",
    "            ang = 90 - 180*arctan(abs(x/y))/np.pi\n",
    "\n",
    "    return round(ang,0)"
   ]
  },
  {
   "cell_type": "code",
   "execution_count": null,
   "metadata": {},
   "outputs": [],
   "source": [
    "angulos = [(0, 1),(2, 2),(1, 4),(5, 1)]\n",
    "\n",
    "for k in angulos:\n",
    "    print(angulo_com_x(k[0],k[1]))"
   ]
  },
  {
   "cell_type": "code",
   "execution_count": null,
   "metadata": {},
   "outputs": [],
   "source": [
    "def menor_angulo(lst):\n",
    "    menor = angulo_com_x(lst[0][0],lst[0][1])\n",
    "    ind = 0\n",
    "    for j,k in enumerate(lst):\n",
    "        ang = angulo_com_x(k[0],k[1])\n",
    "        if ang > menor:\n",
    "            menor = ang\n",
    "            ind = j\n",
    "            \n",
    "    return [j,lst[j]]"
   ]
  },
  {
   "cell_type": "code",
   "execution_count": null,
   "metadata": {},
   "outputs": [],
   "source": [
    "menor_angulo(angulos)"
   ]
  },
  {
   "cell_type": "code",
   "execution_count": 29,
   "metadata": {
    "ExecuteTime": {
     "end_time": "2021-10-16T21:30:44.132392Z",
     "start_time": "2021-10-16T21:30:44.112408Z"
    }
   },
   "outputs": [
    {
     "data": {
      "text/plain": [
       "1.3258176636680326"
      ]
     },
     "execution_count": 29,
     "metadata": {},
     "output_type": "execute_result"
    }
   ],
   "source": [
    "import math\n",
    "\n",
    "math.atan(4)"
   ]
  },
  {
   "cell_type": "code",
   "execution_count": 31,
   "metadata": {
    "ExecuteTime": {
     "end_time": "2021-10-16T21:31:38.218989Z",
     "start_time": "2021-10-16T21:31:38.181014Z"
    }
   },
   "outputs": [
    {
     "ename": "OverflowError",
     "evalue": "integer division result too large for a float",
     "output_type": "error",
     "traceback": [
      "\u001b[1;31m---------------------------------------------------------------------------\u001b[0m",
      "\u001b[1;31mOverflowError\u001b[0m                             Traceback (most recent call last)",
      "\u001b[1;32m~\\AppData\\Local\\Temp/ipykernel_15736/4016015592.py\u001b[0m in \u001b[0;36m<module>\u001b[1;34m\u001b[0m\n\u001b[1;32m----> 1\u001b[1;33m \u001b[0marctan\u001b[0m\u001b[1;33m(\u001b[0m\u001b[1;36m4\u001b[0m\u001b[1;33m)\u001b[0m\u001b[1;33m\u001b[0m\u001b[1;33m\u001b[0m\u001b[0m\n\u001b[0m",
      "\u001b[1;32m~\\AppData\\Local\\Temp/ipykernel_15736/1490179916.py\u001b[0m in \u001b[0;36marctan\u001b[1;34m(x)\u001b[0m\n\u001b[0;32m      9\u001b[0m     \u001b[0mcnt\u001b[0m \u001b[1;33m=\u001b[0m \u001b[1;36m1\u001b[0m\u001b[1;33m\u001b[0m\u001b[1;33m\u001b[0m\u001b[0m\n\u001b[0;32m     10\u001b[0m     \u001b[1;32mwhile\u001b[0m \u001b[0mabs\u001b[0m\u001b[1;33m(\u001b[0m\u001b[0mini\u001b[0m\u001b[1;33m)\u001b[0m \u001b[1;33m>=\u001b[0m \u001b[1;36m0.0001\u001b[0m \u001b[1;32mand\u001b[0m \u001b[0mcnt\u001b[0m\u001b[1;33m<=\u001b[0m\u001b[1;36m1000\u001b[0m\u001b[1;33m:\u001b[0m\u001b[1;33m\u001b[0m\u001b[1;33m\u001b[0m\u001b[0m\n\u001b[1;32m---> 11\u001b[1;33m         \u001b[0mini\u001b[0m \u001b[1;33m=\u001b[0m \u001b[1;33m(\u001b[0m\u001b[1;33m(\u001b[0m\u001b[1;33m-\u001b[0m\u001b[1;36m1\u001b[0m\u001b[1;33m)\u001b[0m\u001b[1;33m**\u001b[0m\u001b[0mcnt\u001b[0m\u001b[1;33m)\u001b[0m\u001b[1;33m*\u001b[0m\u001b[1;33m(\u001b[0m\u001b[0mx\u001b[0m\u001b[1;33m**\u001b[0m\u001b[0mk\u001b[0m\u001b[1;33m)\u001b[0m\u001b[1;33m/\u001b[0m\u001b[0mk\u001b[0m\u001b[1;33m\u001b[0m\u001b[1;33m\u001b[0m\u001b[0m\n\u001b[0m\u001b[0;32m     12\u001b[0m         \u001b[0mat\u001b[0m \u001b[1;33m=\u001b[0m \u001b[0mat\u001b[0m \u001b[1;33m+\u001b[0m \u001b[0mini\u001b[0m\u001b[1;33m\u001b[0m\u001b[1;33m\u001b[0m\u001b[0m\n\u001b[0;32m     13\u001b[0m         \u001b[0mk\u001b[0m\u001b[1;33m+=\u001b[0m\u001b[1;36m2\u001b[0m\u001b[1;33m\u001b[0m\u001b[1;33m\u001b[0m\u001b[0m\n",
      "\u001b[1;31mOverflowError\u001b[0m: integer division result too large for a float"
     ]
    }
   ],
   "source": [
    "arctan(4)"
   ]
  },
  {
   "cell_type": "code",
   "execution_count": null,
   "metadata": {},
   "outputs": [],
   "source": [
    "def divide(d, m, n):\n",
    "    \"\"\"\n",
    "    ecebe três inteiros positivos m, n, d, e retorna False, m, n caso d não for divisor de m ou n. \n",
    "    Caso contrário, função retorna True, \n",
    "    m’ e n’, onde m’=m/d caso m for múltiplo de d e m’ = m caso contrário, e n’=n/d caso n for múltiplo de d e n’ = n \n",
    "    caso contrário.\n",
    "    \"\"\"\n",
    "    if m % d != 0 and n % d != 0:\n",
    "        return False,m,n\n",
    "    else:\n",
    "        if m % d == 0:\n",
    "            m = m // d\n",
    "        if n % d == 0:\n",
    "            n = n // d\n",
    "        return True,m,n"
   ]
  },
  {
   "cell_type": "code",
   "execution_count": null,
   "metadata": {},
   "outputs": [],
   "source": [
    "divlist = [[2, 5, 15],[3, 7, 9],[3, 9, 21]]\n",
    "\n",
    "for k in divlist:\n",
    "    print(divide(k[0], k[1], k[2]))"
   ]
  },
  {
   "cell_type": "code",
   "execution_count": null,
   "metadata": {},
   "outputs": [],
   "source": [
    "def mmc(m,n):\n",
    "    k = True\n",
    "    d = 2\n",
    "    prod = 1\n",
    "    \n",
    "    while m != 1 or n != 1:\n",
    "    \n",
    "        k, m, n = divide(d, m, n)\n",
    "        if k:\n",
    "            prod = prod*d\n",
    "        print(prod)\n",
    "            \n",
    "        if not divide(d, m, n)[0]:\n",
    "            d+=1\n",
    "        \n",
    "    return prod"
   ]
  },
  {
   "cell_type": "code",
   "execution_count": null,
   "metadata": {
    "scrolled": true
   },
   "outputs": [],
   "source": [
    "mmc(15,25)"
   ]
  },
  {
   "cell_type": "code",
   "execution_count": null,
   "metadata": {},
   "outputs": [],
   "source": [
    "def insereSeNovo (nome, lista):\n",
    "    n = len(lista)\n",
    "    if nome not in lista:\n",
    "        lista.append(nome)\n",
    "        return n\n",
    "    else:\n",
    "        return lista.index(nome)\n",
    "    \n",
    "# Codigo para testar a sua funcao\n",
    "lista = [\"Ronaldo\", \"Romario\", \"Rivelino\"]\n",
    "pos = insereSeNovo(\"Romario\", lista)\n",
    "pos = insereSeNovo(\"Pele\", lista)\n",
    "pos = insereSeNovo(\"Rivelino\", lista)\n",
    "print(lista, \" que deve ser Ronaldo, Romario, Rivelino, Pele\")"
   ]
  },
  {
   "cell_type": "code",
   "execution_count": null,
   "metadata": {},
   "outputs": [],
   "source": [
    "def pos_atacadas(linha,coluna):\n",
    "    \"\"\"\n",
    "    recebe uma posição de xadrez (uma matriz 8x8 de caracteres) \n",
    "    contendo a psoição da rainhas e devolve uma lista das posição atacadas\n",
    "    \"\"\"\n",
    "    # linha = y Interpretando o tabuleiro como um sistema cartesiano\n",
    "    # coluna = as posições das linhas representam o y e as colunas o x\n",
    "    \n",
    "    atacadas = []\n",
    "    for k in range(8):\n",
    "        if k != coluna or k != linha:\n",
    "            atacadas.append([linha,k])\n",
    "            atacadas.append([k,coluna])\n",
    "    \n",
    "    for k in range(8):\n",
    "        if k != coluna:\n",
    "            eq1 = k + (linha - coluna)     # y = x + (y0-x0)\n",
    "            eq2 = (linha + coluna) - k     # y = -x + (y0+x0)\n",
    "\n",
    "            if eq1 >= 0 and eq1 < 8:                  # Reta que passa na posição coluna,linha m = 1\n",
    "                atacadas.append([eq1,k])               # y = x + (y0-x0)\n",
    "            if eq2 >= 0 and eq2 < 8:                  # Reta que passa na posição coluna,linha m = -1\n",
    "                atacadas.append([eq2,k])              # y = -x + (y0+x0)\n",
    "\n",
    "    return atacadas"
   ]
  },
  {
   "cell_type": "code",
   "execution_count": null,
   "metadata": {},
   "outputs": [],
   "source": [
    "def marque_atacadas(tab):\n",
    "    \"\"\"\n",
    "    recebe uma tabuleiro tab de xadrez (uma matriz 8x8 de caracteres) contendo rainhas (posições com R) \n",
    "    e marca as regiões atacadas com um X\n",
    "    \"\"\"\n",
    "    linha = [k.count(\"R\") for k in tab].index(1) # y Interpretando o tabuleiro como um sistema cartesiano\n",
    "    coluna = tab[linha].index(\"R\")               # as posições das linhas representam o y e as colunas o x\n",
    "    \n",
    "    atacadas = pos_atacadas(linha,coluna)\n",
    "        \n",
    "    tab_o = [row.copy() for row in tab] # Criando uma cópia do tabuleiro para evitar efeitos colaterais\n",
    "    \n",
    "    for i in range(8):\n",
    "        for j in range(8):\n",
    "            if [i,j] in atacadas:\n",
    "                tab_o[i][j] = \"X\"\n",
    "    \n",
    "    return tab_o"
   ]
  },
  {
   "cell_type": "code",
   "execution_count": null,
   "metadata": {},
   "outputs": [],
   "source": [
    "tabuleiro = [ list('        '),\n",
    "              list('        '),\n",
    "              list('        '),\n",
    "              list('   R    '),\n",
    "              list('        '),\n",
    "              list('        '),\n",
    "              list('        '),\n",
    "              list('        ') ]\n",
    "\n",
    "marque_atacadas(tabuleiro)"
   ]
  },
  {
   "cell_type": "code",
   "execution_count": null,
   "metadata": {},
   "outputs": [],
   "source": [
    "def cria_tab():\n",
    "    \"\"\"\n",
    "    Função que cria uma lista representando um tabuleiro vazio\n",
    "    \"\"\"\n",
    "    lin_h = list('+---+---+---+---+---+---+---+---+\\n')\n",
    "    peças = list('|   |   |   |   |   |   |   |   |\\n')\n",
    "    tab = []\n",
    "    for i in range(8):\n",
    "        tab.append(lin_h.copy())\n",
    "        tab.append(peças.copy())\n",
    "    tab.append(lin_h.copy())\n",
    "    return tab\n",
    "            \n",
    "\n",
    "def mark_pos(lst, string_in = \"R\"):\n",
    "    \"\"\"\n",
    "    Dado uma posição da rainha, cria um tabuleiro com moldura mostrando \n",
    "    a posição da peça indicada marcada com a string indicada e X as posições atacadas\n",
    "    \"\"\"\n",
    "\n",
    "    tab_mod = cria_tab() # Cria uma cópia do tabuleiro vazio\n",
    "    \n",
    "    atacadas = pos_atacadas(lst[0],lst[1])\n",
    "\n",
    "    for i in range(8):\n",
    "        for j in range(8):\n",
    "            if [i,j] == lst:\n",
    "                tab_mod[1+2*i][2+4*j] = string_in\n",
    "                \n",
    "            elif [i,j] in atacadas:\n",
    "                tab_mod[1+2*i][2+4*j] = \"X\"\n",
    "            else:\n",
    "                tab_mod[1+2*i][2+4*j] = \" \"\n",
    "    \n",
    "    tab_str = \"\"\n",
    "    for k in tab_mod:\n",
    "        tab_str = tab_str + \"\".join(k)\n",
    "    \n",
    "    return tab_str\n",
    "    \n",
    "print(mark_pos([3,3]))"
   ]
  },
  {
   "cell_type": "code",
   "execution_count": null,
   "metadata": {},
   "outputs": [],
   "source": [
    "print(mark_pos([4,3]))"
   ]
  },
  {
   "cell_type": "markdown",
   "metadata": {},
   "source": [
    "# POO - Programação Orientada a Objeto"
   ]
  },
  {
   "cell_type": "code",
   "execution_count": 40,
   "metadata": {},
   "outputs": [],
   "source": [
    "class Carro:\n",
    "    pass"
   ]
  },
  {
   "cell_type": "code",
   "execution_count": 41,
   "metadata": {},
   "outputs": [],
   "source": [
    "meu_carro = Carro()"
   ]
  },
  {
   "cell_type": "code",
   "execution_count": 42,
   "metadata": {},
   "outputs": [
    {
     "data": {
      "text/plain": [
       "<__main__.Carro at 0x12704538>"
      ]
     },
     "execution_count": 42,
     "metadata": {},
     "output_type": "execute_result"
    }
   ],
   "source": [
    "meu_carro"
   ]
  },
  {
   "cell_type": "code",
   "execution_count": 31,
   "metadata": {},
   "outputs": [],
   "source": [
    "carro_do_ime = Carro()"
   ]
  },
  {
   "cell_type": "markdown",
   "metadata": {},
   "source": [
    "## Criando Instâncias"
   ]
  },
  {
   "cell_type": "code",
   "execution_count": 32,
   "metadata": {},
   "outputs": [],
   "source": [
    "meu_carro.ano = 1968\n",
    "meu_carro.modelo = 'Fusca'\n",
    "meu_carro.cor = 'Azul'"
   ]
  },
  {
   "cell_type": "code",
   "execution_count": 33,
   "metadata": {},
   "outputs": [
    {
     "data": {
      "text/plain": [
       "1968"
      ]
     },
     "execution_count": 33,
     "metadata": {},
     "output_type": "execute_result"
    }
   ],
   "source": [
    "meu_carro.ano"
   ]
  },
  {
   "cell_type": "code",
   "execution_count": 34,
   "metadata": {},
   "outputs": [],
   "source": [
    "carro_do_ime.ano = 1981\n",
    "carro_do_ime.modelo = 'Brasília'\n",
    "carro_do_ime.cor = 'Amarelo'"
   ]
  },
  {
   "cell_type": "markdown",
   "metadata": {},
   "source": [
    "## Método Construtor  \\__init__"
   ]
  },
  {
   "cell_type": "code",
   "execution_count": 38,
   "metadata": {},
   "outputs": [],
   "source": [
    "class Carro:\n",
    "    def __init__(self,modelo,ano,cor):\n",
    "        self.modelo = modelo\n",
    "        self.ano = ano\n",
    "        self.cor = cor"
   ]
  },
  {
   "cell_type": "code",
   "execution_count": 39,
   "metadata": {},
   "outputs": [
    {
     "data": {
      "text/plain": [
       "__main__.Carro"
      ]
     },
     "execution_count": 39,
     "metadata": {},
     "output_type": "execute_result"
    }
   ],
   "source": [
    "Carro"
   ]
  },
  {
   "cell_type": "code",
   "execution_count": 35,
   "metadata": {
    "ExecuteTime": {
     "end_time": "2021-10-11T16:18:21.924832Z",
     "start_time": "2021-10-11T16:18:21.902846Z"
    }
   },
   "outputs": [],
   "source": [
    "class Pilha:\n",
    "     def __init__(self):\n",
    "         self.items = []\n",
    "\n",
    "     def isEmpty(self):\n",
    "         return self.items == []\n",
    "\n",
    "     def push(self, item):\n",
    "         self.items.append(item)\n",
    "\n",
    "     def pop(self):\n",
    "         return self.items.pop()\n",
    "\n",
    "     def peek(self):\n",
    "         return self.items[len(self.items)-1]\n",
    "\n",
    "     def size(self):\n",
    "         return len(self.items)"
   ]
  },
  {
   "cell_type": "code",
   "execution_count": 36,
   "metadata": {
    "ExecuteTime": {
     "end_time": "2021-10-11T16:24:52.311067Z",
     "start_time": "2021-10-11T16:24:52.287081Z"
    }
   },
   "outputs": [],
   "source": [
    "def caracteres_xcy(s):\n",
    "    x = Pilha()\n",
    "    n = len(s)\n",
    "    \n",
    "    for k in range(n):\n",
    "        if s[k] not in 'ABC':\n",
    "            print('A sequência não é valida (tem caracteres diferentes de A,B e C')\n",
    "            return False\n",
    "\n",
    "        if k < n // 2:      \n",
    "            x.push(s[k])\n",
    "        elif k > n // 2:\n",
    "            if s[k] == x.peek():\n",
    "                x.pop()\n",
    "        else:\n",
    "            if s[k] != 'C':\n",
    "                return False             \n",
    "                \n",
    "    if x.isEmpty():\n",
    "        print('Y é o inverso de X')\n",
    "        return True\n",
    "    else:\n",
    "        return False"
   ]
  },
  {
   "cell_type": "code",
   "execution_count": 37,
   "metadata": {
    "ExecuteTime": {
     "end_time": "2021-10-11T16:29:01.779681Z",
     "start_time": "2021-10-11T16:29:01.773685Z"
    }
   },
   "outputs": [
    {
     "data": {
      "text/plain": [
       "False"
      ]
     },
     "execution_count": 37,
     "metadata": {},
     "output_type": "execute_result"
    }
   ],
   "source": [
    "caracteres_xcy('ABBABCBABBB')"
   ]
  },
  {
   "cell_type": "code",
   "execution_count": 43,
   "metadata": {},
   "outputs": [],
   "source": [
    "import pytest\n",
    "\n",
    "\n",
    "@pytest.mark.parametrize(\"test_input,expected\", [(\"3+5\", 8), (\"2+4\", 6), (\"6*9\", 42)])\n",
    "def test_eval(test_input, expected):\n",
    "    assert eval(test_input) == expected"
   ]
  },
  {
   "cell_type": "code",
   "execution_count": 44,
   "metadata": {},
   "outputs": [
    {
     "data": {
      "text/plain": [
       "60.0"
      ]
     },
     "execution_count": 44,
     "metadata": {},
     "output_type": "execute_result"
    }
   ],
   "source": [
    "eval('55+2*2.5')"
   ]
  },
  {
   "cell_type": "code",
   "execution_count": 306,
   "metadata": {},
   "outputs": [],
   "source": [
    "class Triangulo:\n",
    "    \n",
    "    def __init__(self,a,b,c):\n",
    "        self.a = a\n",
    "        self.b = b\n",
    "        self.c = c\n",
    "        \n",
    "    def perimetro(self):\n",
    "        return self.a + self.b + self.c\n",
    "    \n",
    "    def tipo_lado(self):\n",
    "        if self.a == self.b and self.a == self.c:\n",
    "            return 'equilátero'\n",
    "        elif self.a == self.b or self.a == self.c or self.b == self.c:\n",
    "            return 'isósceles'\n",
    "        else:\n",
    "            return 'escaleno'\n",
    "        \n",
    "    def retangulo(self):\n",
    "        l1,l2,hp = sorted([self.a,self.b,self.c])\n",
    "        return abs(hp**2 - l1**2 - l2**2) < 0.000001\n",
    "    \n",
    "    def semelhantes(self,t):\n",
    "        l1,l2,hp = sorted([self.a,self.b,self.c])\n",
    "        l12,l22,hp2 = sorted([t.a,t.b,t.c])\n",
    "        return (hp/hp2) == (l1/l12) == (l2/l22)"
   ]
  },
  {
   "cell_type": "code",
   "execution_count": 307,
   "metadata": {},
   "outputs": [],
   "source": [
    "t = Triangulo(1, 1, 1)"
   ]
  },
  {
   "cell_type": "code",
   "execution_count": 308,
   "metadata": {},
   "outputs": [
    {
     "data": {
      "text/plain": [
       "1"
      ]
     },
     "execution_count": 308,
     "metadata": {},
     "output_type": "execute_result"
    }
   ],
   "source": [
    "t.a"
   ]
  },
  {
   "cell_type": "code",
   "execution_count": 309,
   "metadata": {},
   "outputs": [
    {
     "data": {
      "text/plain": [
       "1"
      ]
     },
     "execution_count": 309,
     "metadata": {},
     "output_type": "execute_result"
    }
   ],
   "source": [
    "t.b"
   ]
  },
  {
   "cell_type": "code",
   "execution_count": 310,
   "metadata": {},
   "outputs": [
    {
     "data": {
      "text/plain": [
       "1"
      ]
     },
     "execution_count": 310,
     "metadata": {},
     "output_type": "execute_result"
    }
   ],
   "source": [
    "t.c"
   ]
  },
  {
   "cell_type": "code",
   "execution_count": 311,
   "metadata": {},
   "outputs": [
    {
     "data": {
      "text/plain": [
       "3"
      ]
     },
     "execution_count": 311,
     "metadata": {},
     "output_type": "execute_result"
    }
   ],
   "source": [
    "t.perimetro()"
   ]
  },
  {
   "cell_type": "code",
   "execution_count": 312,
   "metadata": {},
   "outputs": [
    {
     "data": {
      "text/plain": [
       "'equilátero'"
      ]
     },
     "execution_count": 312,
     "metadata": {},
     "output_type": "execute_result"
    }
   ],
   "source": [
    "t = Triangulo(4, 4, 4)\n",
    "t.tipo_lado()"
   ]
  },
  {
   "cell_type": "code",
   "execution_count": 313,
   "metadata": {},
   "outputs": [
    {
     "data": {
      "text/plain": [
       "'escaleno'"
      ]
     },
     "execution_count": 313,
     "metadata": {},
     "output_type": "execute_result"
    }
   ],
   "source": [
    "u = Triangulo(3, 4, 5)\n",
    "u.tipo_lado()"
   ]
  },
  {
   "cell_type": "code",
   "execution_count": 314,
   "metadata": {},
   "outputs": [
    {
     "data": {
      "text/plain": [
       "False"
      ]
     },
     "execution_count": 314,
     "metadata": {},
     "output_type": "execute_result"
    }
   ],
   "source": [
    "t = Triangulo(1, 3, 5)\n",
    "t.retangulo()"
   ]
  },
  {
   "cell_type": "code",
   "execution_count": 315,
   "metadata": {},
   "outputs": [
    {
     "data": {
      "text/plain": [
       "True"
      ]
     },
     "execution_count": 315,
     "metadata": {},
     "output_type": "execute_result"
    }
   ],
   "source": [
    "u = Triangulo(3, 4, 5)\n",
    "u.retangulo()"
   ]
  },
  {
   "cell_type": "code",
   "execution_count": 316,
   "metadata": {},
   "outputs": [
    {
     "data": {
      "text/plain": [
       "True"
      ]
     },
     "execution_count": 316,
     "metadata": {},
     "output_type": "execute_result"
    }
   ],
   "source": [
    "t1 = Triangulo(2, 3, 5)\n",
    "t2 = Triangulo(4, 6, 10)\n",
    "t1.semelhantes(t2)"
   ]
  },
  {
   "cell_type": "code",
   "execution_count": 317,
   "metadata": {},
   "outputs": [],
   "source": [
    "d,e,f = {4, 6, 10}"
   ]
  },
  {
   "cell_type": "code",
   "execution_count": 318,
   "metadata": {},
   "outputs": [
    {
     "data": {
      "text/plain": [
       "10"
      ]
     },
     "execution_count": 318,
     "metadata": {},
     "output_type": "execute_result"
    }
   ],
   "source": [
    "d"
   ]
  },
  {
   "cell_type": "code",
   "execution_count": 319,
   "metadata": {},
   "outputs": [
    {
     "data": {
      "text/plain": [
       "4"
      ]
     },
     "execution_count": 319,
     "metadata": {},
     "output_type": "execute_result"
    }
   ],
   "source": [
    "e"
   ]
  },
  {
   "cell_type": "code",
   "execution_count": 320,
   "metadata": {},
   "outputs": [
    {
     "data": {
      "text/plain": [
       "6"
      ]
     },
     "execution_count": 320,
     "metadata": {},
     "output_type": "execute_result"
    }
   ],
   "source": [
    "f"
   ]
  },
  {
   "cell_type": "code",
   "execution_count": 321,
   "metadata": {},
   "outputs": [],
   "source": [
    "x,y,z = sorted([6,10,4])"
   ]
  },
  {
   "cell_type": "code",
   "execution_count": 322,
   "metadata": {},
   "outputs": [
    {
     "data": {
      "text/plain": [
       "4"
      ]
     },
     "execution_count": 322,
     "metadata": {},
     "output_type": "execute_result"
    }
   ],
   "source": [
    "x"
   ]
  },
  {
   "cell_type": "code",
   "execution_count": 323,
   "metadata": {},
   "outputs": [
    {
     "data": {
      "text/plain": [
       "6"
      ]
     },
     "execution_count": 323,
     "metadata": {},
     "output_type": "execute_result"
    }
   ],
   "source": [
    "y"
   ]
  },
  {
   "cell_type": "code",
   "execution_count": 324,
   "metadata": {},
   "outputs": [
    {
     "data": {
      "text/plain": [
       "10"
      ]
     },
     "execution_count": 324,
     "metadata": {},
     "output_type": "execute_result"
    }
   ],
   "source": [
    "z"
   ]
  },
  {
   "cell_type": "code",
   "execution_count": null,
   "metadata": {},
   "outputs": [],
   "source": []
  }
 ],
 "metadata": {
  "kernelspec": {
   "display_name": "Python 3",
   "language": "python",
   "name": "python3"
  },
  "language_info": {
   "codemirror_mode": {
    "name": "ipython",
    "version": 3
   },
   "file_extension": ".py",
   "mimetype": "text/x-python",
   "name": "python",
   "nbconvert_exporter": "python",
   "pygments_lexer": "ipython3",
   "version": "3.8.5"
  },
  "latex_envs": {
   "LaTeX_envs_menu_present": true,
   "autoclose": false,
   "autocomplete": true,
   "bibliofile": "biblio.bib",
   "cite_by": "apalike",
   "current_citInitial": 1,
   "eqLabelWithNumbers": true,
   "eqNumInitial": 1,
   "hotkeys": {
    "equation": "Ctrl-E",
    "itemize": "Ctrl-I"
   },
   "labels_anchors": false,
   "latex_user_defs": false,
   "report_style_numbering": false,
   "user_envs_cfg": false
  },
  "toc": {
   "base_numbering": 1,
   "nav_menu": {},
   "number_sections": true,
   "sideBar": true,
   "skip_h1_title": false,
   "title_cell": "Table of Contents",
   "title_sidebar": "Contents",
   "toc_cell": false,
   "toc_position": {},
   "toc_section_display": true,
   "toc_window_display": false
  },
  "varInspector": {
   "cols": {
    "lenName": 16,
    "lenType": 16,
    "lenVar": 40
   },
   "kernels_config": {
    "python": {
     "delete_cmd_postfix": "",
     "delete_cmd_prefix": "del ",
     "library": "var_list.py",
     "varRefreshCmd": "print(var_dic_list())"
    },
    "r": {
     "delete_cmd_postfix": ") ",
     "delete_cmd_prefix": "rm(",
     "library": "var_list.r",
     "varRefreshCmd": "cat(var_dic_list()) "
    }
   },
   "types_to_exclude": [
    "module",
    "function",
    "builtin_function_or_method",
    "instance",
    "_Feature"
   ],
   "window_display": false
  }
 },
 "nbformat": 4,
 "nbformat_minor": 4
}
