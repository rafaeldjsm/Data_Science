{
 "cells": [
  {
   "cell_type": "code",
   "execution_count": 15,
   "metadata": {},
   "outputs": [
    {
     "name": "stdout",
     "output_type": "stream",
     "text": [
      "          0\n",
      "0  3.452715\n",
      "1  1.791592\n",
      "2  1.547525\n",
      "3  0.966277\n",
      "4  0.513195\n",
      "5  0.108385\n",
      "6  0.254785\n",
      "7  0.199802\n",
      "8  0.165723\n",
      "          0         1         2         3         4         5         6  \\\n",
      "0  0.368831  0.428533  0.210142  0.071461  0.061200 -0.344905 -0.466252   \n",
      "1  0.238274 -0.281404 -0.289357  0.659804  0.342378 -0.068903 -0.356830   \n",
      "2 -0.462302 -0.050651 -0.213040 -0.185843  0.260172  0.483892 -0.511261   \n",
      "3 -0.455281  0.134831 -0.237788 -0.259148  0.227219 -0.720581 -0.117063   \n",
      "4 -0.322600  0.437564  0.300114  0.250961  0.025624  0.223235 -0.186928   \n",
      "5 -0.335460  0.302731  0.290314  0.475126  0.142366 -0.017580  0.336247   \n",
      "6  0.234733  0.529229 -0.309945 -0.129196 -0.362083  0.188251 -0.194538   \n",
      "7  0.140609  0.389928 -0.564400  0.022460  0.429630  0.136923  0.440693   \n",
      "8  0.307751  0.034517  0.425699 -0.389787  0.650464  0.136291  0.011477   \n",
      "\n",
      "          7         8  \n",
      "0 -0.530796 -0.096006  \n",
      "1  0.291769  0.102671  \n",
      "2 -0.336667  0.164968  \n",
      "3  0.248684  0.066528  \n",
      "4  0.403401 -0.550684  \n",
      "5 -0.179613  0.565592  \n",
      "6  0.374748  0.455232  \n",
      "7 -0.184027 -0.278797  \n",
      "8  0.297729  0.201223  \n"
     ]
    }
   ],
   "source": [
    "# -*- coding: utf-8 -*-\n",
    "# Script para gravar em planilha Excel os valores dos autovalores e autovetores\n",
    "import numpy as np\n",
    "import pandas as pd\n",
    "import matplotlib.pyplot as plt\n",
    "%matplotlib inline\n",
    "\n",
    "df = pd.read_excel (r'C:\\Users\\Rafael\\Documents\\Python Scripts\\Mcorrelacao.xlsx')\n",
    "\n",
    "ev1,ev2=np.linalg.eig((df))\n",
    "\n",
    "ev1=pd.DataFrame(ev1)\n",
    "ev2=pd.DataFrame(ev2)\n",
    "\n",
    "\n",
    "ev1.to_excel(\"autovalores.xlsx\")\n",
    "\n",
    "ev2.to_excel(\"autovetores.xlsx\")\n",
    "\n",
    "print(ev1)\n",
    "print(ev2)"
   ]
  },
  {
   "cell_type": "code",
   "execution_count": null,
   "metadata": {},
   "outputs": [],
   "source": []
  },
  {
   "cell_type": "code",
   "execution_count": null,
   "metadata": {},
   "outputs": [],
   "source": []
  }
 ],
 "metadata": {
  "kernelspec": {
   "display_name": "Python 3",
   "language": "python",
   "name": "python3"
  },
  "language_info": {
   "codemirror_mode": {
    "name": "ipython",
    "version": 3
   },
   "file_extension": ".py",
   "mimetype": "text/x-python",
   "name": "python",
   "nbconvert_exporter": "python",
   "pygments_lexer": "ipython3",
   "version": "3.7.6"
  }
 },
 "nbformat": 4,
 "nbformat_minor": 4
}
