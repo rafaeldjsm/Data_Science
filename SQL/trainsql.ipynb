{
  "nbformat": 4,
  "nbformat_minor": 0,
  "metadata": {
    "colab": {
      "name": "trainsql.ipynb",
      "provenance": [],
      "collapsed_sections": [],
      "authorship_tag": "ABX9TyN2S3s/No0LQz3PdP1kERc9",
      "include_colab_link": true
    },
    "kernelspec": {
      "name": "python3",
      "display_name": "Python 3"
    },
    "language_info": {
      "name": "python"
    }
  },
  "cells": [
    {
      "cell_type": "markdown",
      "metadata": {
        "id": "view-in-github",
        "colab_type": "text"
      },
      "source": [
        "<a href=\"https://colab.research.google.com/github/rafaeldjsm/Data_Science/blob/master/SQL/trainsql.ipynb\" target=\"_parent\"><img src=\"https://colab.research.google.com/assets/colab-badge.svg\" alt=\"Open In Colab\"/></a>"
      ]
    },
    {
      "cell_type": "code",
      "source": [
        "from sqlalchemy import create_engine \n",
        "from sqlalchemy import inspect\n",
        "import pandas as pd"
      ],
      "metadata": {
        "id": "r0CwvNaqa55n"
      },
      "execution_count": 1,
      "outputs": []
    },
    {
      "cell_type": "code",
      "source": [
        "# download Northwind SQLite DB\n",
        "!wget https://raw.githubusercontent.com/rafaeldjsm/Data_Science/master/SQL/northwind.sqlite3\n",
        "!wget https://raw.githubusercontent.com/rafaeldjsm/Data_Science/master/SQL/Northwind_small.sqlite"
      ],
      "metadata": {
        "colab": {
          "base_uri": "https://localhost:8080/"
        },
        "id": "LZkH1Ohly7vR",
        "outputId": "4d372c9f-5df3-4cd6-92d5-f6c9b2cf1c56"
      },
      "execution_count": 2,
      "outputs": [
        {
          "output_type": "stream",
          "name": "stdout",
          "text": [
            "--2022-06-22 01:26:06--  https://raw.githubusercontent.com/rafaeldjsm/Data_Science/master/SQL/northwind.sqlite3\n",
            "Resolving raw.githubusercontent.com (raw.githubusercontent.com)... 185.199.111.133, 185.199.108.133, 185.199.110.133, ...\n",
            "Connecting to raw.githubusercontent.com (raw.githubusercontent.com)|185.199.111.133|:443... connected.\n",
            "HTTP request sent, awaiting response... 200 OK\n",
            "Length: 804864 (786K) [application/octet-stream]\n",
            "Saving to: ‘northwind.sqlite3’\n",
            "\n",
            "\rnorthwind.sqlite3     0%[                    ]       0  --.-KB/s               \rnorthwind.sqlite3   100%[===================>] 786.00K  --.-KB/s    in 0.05s   \n",
            "\n",
            "2022-06-22 01:26:06 (16.4 MB/s) - ‘northwind.sqlite3’ saved [804864/804864]\n",
            "\n",
            "--2022-06-22 01:26:06--  https://raw.githubusercontent.com/rafaeldjsm/Data_Science/master/SQL/Northwind_small.sqlite\n",
            "Resolving raw.githubusercontent.com (raw.githubusercontent.com)... 185.199.108.133, 185.199.109.133, 185.199.110.133, ...\n",
            "Connecting to raw.githubusercontent.com (raw.githubusercontent.com)|185.199.108.133|:443... connected.\n",
            "HTTP request sent, awaiting response... 200 OK\n",
            "Length: 290816 (284K) [application/octet-stream]\n",
            "Saving to: ‘Northwind_small.sqlite’\n",
            "\n",
            "Northwind_small.sql 100%[===================>] 284.00K  --.-KB/s    in 0.03s   \n",
            "\n",
            "2022-06-22 01:26:06 (8.58 MB/s) - ‘Northwind_small.sqlite’ saved [290816/290816]\n",
            "\n"
          ]
        }
      ]
    },
    {
      "cell_type": "code",
      "execution_count": 3,
      "metadata": {
        "id": "lE1lpnBJkk_K",
        "colab": {
          "base_uri": "https://localhost:8080/",
          "height": 35
        },
        "outputId": "f45f7a4b-7203-457c-d9d1-bf5496c3e12d"
      },
      "outputs": [
        {
          "output_type": "execute_result",
          "data": {
            "text/plain": [
              "'Connected: @test.db'"
            ],
            "application/vnd.google.colaboratory.intrinsic+json": {
              "type": "string"
            }
          },
          "metadata": {},
          "execution_count": 3
        }
      ],
      "source": [
        "# We will first load an sql extension into our environment\n",
        "# This extension will allow us to work with sql on Colaboratory\n",
        "#\n",
        "\n",
        "engine2 = create_engine('sqlite:///test.db', echo=False)\n",
        "\n",
        "%load_ext sql\n",
        "\n",
        "%sql sqlite:///test.db"
      ]
    },
    {
      "cell_type": "code",
      "source": [
        "#\n",
        "%%sql \n",
        "CREATE TABLE if not exists Classmates (\n",
        "    PersonID, \n",
        "    LastName, \n",
        "    FirstName, \n",
        "    Phone, \n",
        "    Residence\n",
        "); \n",
        "\n",
        "SELECT * From Classmates;"
      ],
      "metadata": {
        "colab": {
          "base_uri": "https://localhost:8080/",
          "height": 94
        },
        "id": "2VW1v6dnzoHF",
        "outputId": "7b1825da-f960-40eb-fbd2-a4ff9d8f64a1"
      },
      "execution_count": 4,
      "outputs": [
        {
          "output_type": "stream",
          "name": "stdout",
          "text": [
            " * sqlite:///test.db\n",
            "Done.\n",
            "Done.\n"
          ]
        },
        {
          "output_type": "execute_result",
          "data": {
            "text/plain": [
              "[]"
            ],
            "text/html": [
              "<table>\n",
              "    <thead>\n",
              "        <tr>\n",
              "            <th>PersonID</th>\n",
              "            <th>LastName</th>\n",
              "            <th>FirstName</th>\n",
              "            <th>Phone</th>\n",
              "            <th>Residence</th>\n",
              "        </tr>\n",
              "    </thead>\n",
              "    <tbody>\n",
              "    </tbody>\n",
              "</table>"
            ]
          },
          "metadata": {},
          "execution_count": 4
        }
      ]
    },
    {
      "cell_type": "code",
      "source": [
        "%%sql\n",
        "CREATE TABLE IF NOT EXISTS Cursos\n",
        "    (\"cod_curso\" int, \"desc_curso\" varchar(15))\n",
        ";\n",
        "    \n",
        "INSERT INTO Cursos\n",
        "    (\"cod_curso\", \"desc_curso\")\n",
        "VALUES\n",
        "    (1, 'Informática'),\n",
        "    (2, 'Eletrônica'),\n",
        "    (3, 'Desenho Técnico')\n",
        ";\n",
        "\n",
        "\n",
        "CREATE TABLE IF NOT EXISTS Professores\n",
        "    (\"cod_prof\" int, \"desc_prof\" varchar(15))\n",
        ";\n",
        "    \n",
        "INSERT INTO Professores\n",
        "    (\"cod_prof\", \"desc_prof\")\n",
        "VALUES\n",
        "    (1, 'Roberto Augusto'),\n",
        "    (2, 'César Amador'),\n",
        "    (3, 'Joice Silva')\n",
        ";\n",
        "\n",
        "\n",
        "CREATE TABLE IF NOT EXISTS Aulas\n",
        "    (\"data_aula\" varchar(10), \"hora_aula\" varchar(5), \"cod_prof\" int, \"cod_curso\" int)\n",
        ";\n",
        "    \n",
        "INSERT INTO Aulas\n",
        "    (\"data_aula\", \"hora_aula\", \"cod_prof\", \"cod_curso\")\n",
        "VALUES\n",
        "    ('01/05/2018', '13:00', 1, 1),\n",
        "    ('01/05/2018', '14:00', 2, 3),\n",
        "    ('01/01/2018', '15:00', 3, 2)"
      ],
      "metadata": {
        "colab": {
          "base_uri": "https://localhost:8080/"
        },
        "id": "B57gFVJLslCZ",
        "outputId": "7db45c6d-14bb-4a77-d8fa-9a09414614ea"
      },
      "execution_count": 5,
      "outputs": [
        {
          "output_type": "stream",
          "name": "stdout",
          "text": [
            " * sqlite:///test.db\n",
            "Done.\n",
            "3 rows affected.\n",
            "Done.\n",
            "3 rows affected.\n",
            "Done.\n",
            "3 rows affected.\n"
          ]
        },
        {
          "output_type": "execute_result",
          "data": {
            "text/plain": [
              "[]"
            ]
          },
          "metadata": {},
          "execution_count": 5
        }
      ]
    },
    {
      "cell_type": "code",
      "source": [
        "%%sql\n",
        "SELECT a.data_aula AS \"Data da Aula\",a.hora_aula AS \"Horário da Aula\",p.desc_prof AS \"Nome do Professor\",c.desc_curso AS \"Nome do Curso\"\n",
        "FROM Aulas AS a\n",
        "INNER JOIN Professores AS p\n",
        "ON a.cod_prof = p.cod_prof\n",
        "INNER JOIN Cursos AS c\n",
        "ON a.cod_curso = c.cod_curso\n",
        "ORDER BY \"Horário da Aula\""
      ],
      "metadata": {
        "colab": {
          "base_uri": "https://localhost:8080/",
          "height": 139
        },
        "id": "JHw_6DHisuhx",
        "outputId": "31bbe7b6-06b4-4774-cb09-c93621ec1400"
      },
      "execution_count": 6,
      "outputs": [
        {
          "output_type": "stream",
          "name": "stdout",
          "text": [
            " * sqlite:///test.db\n",
            "Done.\n"
          ]
        },
        {
          "output_type": "execute_result",
          "data": {
            "text/plain": [
              "[('01/05/2018', '13:00', 'Roberto Augusto', 'Informática'),\n",
              " ('01/05/2018', '14:00', 'César Amador', 'Desenho Técnico'),\n",
              " ('01/01/2018', '15:00', 'Joice Silva', 'Eletrônica')]"
            ],
            "text/html": [
              "<table>\n",
              "    <thead>\n",
              "        <tr>\n",
              "            <th>Data da Aula</th>\n",
              "            <th>Horário da Aula</th>\n",
              "            <th>Nome do Professor</th>\n",
              "            <th>Nome do Curso</th>\n",
              "        </tr>\n",
              "    </thead>\n",
              "    <tbody>\n",
              "        <tr>\n",
              "            <td>01/05/2018</td>\n",
              "            <td>13:00</td>\n",
              "            <td>Roberto Augusto</td>\n",
              "            <td>Informática</td>\n",
              "        </tr>\n",
              "        <tr>\n",
              "            <td>01/05/2018</td>\n",
              "            <td>14:00</td>\n",
              "            <td>César Amador</td>\n",
              "            <td>Desenho Técnico</td>\n",
              "        </tr>\n",
              "        <tr>\n",
              "            <td>01/01/2018</td>\n",
              "            <td>15:00</td>\n",
              "            <td>Joice Silva</td>\n",
              "            <td>Eletrônica</td>\n",
              "        </tr>\n",
              "    </tbody>\n",
              "</table>"
            ]
          },
          "metadata": {},
          "execution_count": 6
        }
      ]
    },
    {
      "cell_type": "code",
      "source": [
        "%%sql\n",
        "\n",
        "CREATE TABLE IF NOT EXISTS Fam(Name TEXT, Age INTEGER, Profession TEXT, Major TEXT);\n",
        "INSERT INTO Fam (Name, Age) VALUES\n",
        "('Pam', 50),\n",
        "('Miranda', 32),\n",
        "('Pascal', 45),\n",
        "('Dave', 12),\n",
        "('Emmy', 23);\n",
        "\n",
        "UPDATE Fam SET Profession='Unknown' WHERE Profession ISNULL"
      ],
      "metadata": {
        "colab": {
          "base_uri": "https://localhost:8080/"
        },
        "id": "OBRXkthLxBYj",
        "outputId": "c3dabea6-ff92-4031-98b2-4ad713d13d93"
      },
      "execution_count": 7,
      "outputs": [
        {
          "output_type": "stream",
          "name": "stdout",
          "text": [
            " * sqlite:///test.db\n",
            "Done.\n",
            "5 rows affected.\n",
            "5 rows affected.\n"
          ]
        },
        {
          "output_type": "execute_result",
          "data": {
            "text/plain": [
              "[]"
            ]
          },
          "metadata": {},
          "execution_count": 7
        }
      ]
    },
    {
      "cell_type": "code",
      "source": [
        "%sql SELECT * FROM Fam"
      ],
      "metadata": {
        "colab": {
          "base_uri": "https://localhost:8080/",
          "height": 182
        },
        "id": "R0IYe9HAy2f0",
        "outputId": "b5c1d62b-ff21-4520-9f27-9091d0ea2ad0"
      },
      "execution_count": 8,
      "outputs": [
        {
          "output_type": "stream",
          "name": "stdout",
          "text": [
            " * sqlite:///test.db\n",
            "Done.\n"
          ]
        },
        {
          "output_type": "execute_result",
          "data": {
            "text/plain": [
              "[('Pam', 50, 'Unknown', None),\n",
              " ('Miranda', 32, 'Unknown', None),\n",
              " ('Pascal', 45, 'Unknown', None),\n",
              " ('Dave', 12, 'Unknown', None),\n",
              " ('Emmy', 23, 'Unknown', None)]"
            ],
            "text/html": [
              "<table>\n",
              "    <thead>\n",
              "        <tr>\n",
              "            <th>Name</th>\n",
              "            <th>Age</th>\n",
              "            <th>Profession</th>\n",
              "            <th>Major</th>\n",
              "        </tr>\n",
              "    </thead>\n",
              "    <tbody>\n",
              "        <tr>\n",
              "            <td>Pam</td>\n",
              "            <td>50</td>\n",
              "            <td>Unknown</td>\n",
              "            <td>None</td>\n",
              "        </tr>\n",
              "        <tr>\n",
              "            <td>Miranda</td>\n",
              "            <td>32</td>\n",
              "            <td>Unknown</td>\n",
              "            <td>None</td>\n",
              "        </tr>\n",
              "        <tr>\n",
              "            <td>Pascal</td>\n",
              "            <td>45</td>\n",
              "            <td>Unknown</td>\n",
              "            <td>None</td>\n",
              "        </tr>\n",
              "        <tr>\n",
              "            <td>Dave</td>\n",
              "            <td>12</td>\n",
              "            <td>Unknown</td>\n",
              "            <td>None</td>\n",
              "        </tr>\n",
              "        <tr>\n",
              "            <td>Emmy</td>\n",
              "            <td>23</td>\n",
              "            <td>Unknown</td>\n",
              "            <td>None</td>\n",
              "        </tr>\n",
              "    </tbody>\n",
              "</table>"
            ]
          },
          "metadata": {},
          "execution_count": 8
        }
      ]
    },
    {
      "cell_type": "code",
      "source": [
        "res = %sql SELECT * FROM Fam\n",
        "\n",
        "df = res.DataFrame()\n",
        "df"
      ],
      "metadata": {
        "colab": {
          "base_uri": "https://localhost:8080/",
          "height": 241
        },
        "id": "hU3cQqqbxDqy",
        "outputId": "60d5afbf-2ef7-4444-a1c9-45f96c575dfc"
      },
      "execution_count": 9,
      "outputs": [
        {
          "output_type": "stream",
          "name": "stdout",
          "text": [
            " * sqlite:///test.db\n",
            "Done.\n"
          ]
        },
        {
          "output_type": "execute_result",
          "data": {
            "text/plain": [
              "      Name  Age Profession Major\n",
              "0      Pam   50    Unknown  None\n",
              "1  Miranda   32    Unknown  None\n",
              "2   Pascal   45    Unknown  None\n",
              "3     Dave   12    Unknown  None\n",
              "4     Emmy   23    Unknown  None"
            ],
            "text/html": [
              "\n",
              "  <div id=\"df-6c37acf6-9753-4617-91bf-d6159590c8d3\">\n",
              "    <div class=\"colab-df-container\">\n",
              "      <div>\n",
              "<style scoped>\n",
              "    .dataframe tbody tr th:only-of-type {\n",
              "        vertical-align: middle;\n",
              "    }\n",
              "\n",
              "    .dataframe tbody tr th {\n",
              "        vertical-align: top;\n",
              "    }\n",
              "\n",
              "    .dataframe thead th {\n",
              "        text-align: right;\n",
              "    }\n",
              "</style>\n",
              "<table border=\"1\" class=\"dataframe\">\n",
              "  <thead>\n",
              "    <tr style=\"text-align: right;\">\n",
              "      <th></th>\n",
              "      <th>Name</th>\n",
              "      <th>Age</th>\n",
              "      <th>Profession</th>\n",
              "      <th>Major</th>\n",
              "    </tr>\n",
              "  </thead>\n",
              "  <tbody>\n",
              "    <tr>\n",
              "      <th>0</th>\n",
              "      <td>Pam</td>\n",
              "      <td>50</td>\n",
              "      <td>Unknown</td>\n",
              "      <td>None</td>\n",
              "    </tr>\n",
              "    <tr>\n",
              "      <th>1</th>\n",
              "      <td>Miranda</td>\n",
              "      <td>32</td>\n",
              "      <td>Unknown</td>\n",
              "      <td>None</td>\n",
              "    </tr>\n",
              "    <tr>\n",
              "      <th>2</th>\n",
              "      <td>Pascal</td>\n",
              "      <td>45</td>\n",
              "      <td>Unknown</td>\n",
              "      <td>None</td>\n",
              "    </tr>\n",
              "    <tr>\n",
              "      <th>3</th>\n",
              "      <td>Dave</td>\n",
              "      <td>12</td>\n",
              "      <td>Unknown</td>\n",
              "      <td>None</td>\n",
              "    </tr>\n",
              "    <tr>\n",
              "      <th>4</th>\n",
              "      <td>Emmy</td>\n",
              "      <td>23</td>\n",
              "      <td>Unknown</td>\n",
              "      <td>None</td>\n",
              "    </tr>\n",
              "  </tbody>\n",
              "</table>\n",
              "</div>\n",
              "      <button class=\"colab-df-convert\" onclick=\"convertToInteractive('df-6c37acf6-9753-4617-91bf-d6159590c8d3')\"\n",
              "              title=\"Convert this dataframe to an interactive table.\"\n",
              "              style=\"display:none;\">\n",
              "        \n",
              "  <svg xmlns=\"http://www.w3.org/2000/svg\" height=\"24px\"viewBox=\"0 0 24 24\"\n",
              "       width=\"24px\">\n",
              "    <path d=\"M0 0h24v24H0V0z\" fill=\"none\"/>\n",
              "    <path d=\"M18.56 5.44l.94 2.06.94-2.06 2.06-.94-2.06-.94-.94-2.06-.94 2.06-2.06.94zm-11 1L8.5 8.5l.94-2.06 2.06-.94-2.06-.94L8.5 2.5l-.94 2.06-2.06.94zm10 10l.94 2.06.94-2.06 2.06-.94-2.06-.94-.94-2.06-.94 2.06-2.06.94z\"/><path d=\"M17.41 7.96l-1.37-1.37c-.4-.4-.92-.59-1.43-.59-.52 0-1.04.2-1.43.59L10.3 9.45l-7.72 7.72c-.78.78-.78 2.05 0 2.83L4 21.41c.39.39.9.59 1.41.59.51 0 1.02-.2 1.41-.59l7.78-7.78 2.81-2.81c.8-.78.8-2.07 0-2.86zM5.41 20L4 18.59l7.72-7.72 1.47 1.35L5.41 20z\"/>\n",
              "  </svg>\n",
              "      </button>\n",
              "      \n",
              "  <style>\n",
              "    .colab-df-container {\n",
              "      display:flex;\n",
              "      flex-wrap:wrap;\n",
              "      gap: 12px;\n",
              "    }\n",
              "\n",
              "    .colab-df-convert {\n",
              "      background-color: #E8F0FE;\n",
              "      border: none;\n",
              "      border-radius: 50%;\n",
              "      cursor: pointer;\n",
              "      display: none;\n",
              "      fill: #1967D2;\n",
              "      height: 32px;\n",
              "      padding: 0 0 0 0;\n",
              "      width: 32px;\n",
              "    }\n",
              "\n",
              "    .colab-df-convert:hover {\n",
              "      background-color: #E2EBFA;\n",
              "      box-shadow: 0px 1px 2px rgba(60, 64, 67, 0.3), 0px 1px 3px 1px rgba(60, 64, 67, 0.15);\n",
              "      fill: #174EA6;\n",
              "    }\n",
              "\n",
              "    [theme=dark] .colab-df-convert {\n",
              "      background-color: #3B4455;\n",
              "      fill: #D2E3FC;\n",
              "    }\n",
              "\n",
              "    [theme=dark] .colab-df-convert:hover {\n",
              "      background-color: #434B5C;\n",
              "      box-shadow: 0px 1px 3px 1px rgba(0, 0, 0, 0.15);\n",
              "      filter: drop-shadow(0px 1px 2px rgba(0, 0, 0, 0.3));\n",
              "      fill: #FFFFFF;\n",
              "    }\n",
              "  </style>\n",
              "\n",
              "      <script>\n",
              "        const buttonEl =\n",
              "          document.querySelector('#df-6c37acf6-9753-4617-91bf-d6159590c8d3 button.colab-df-convert');\n",
              "        buttonEl.style.display =\n",
              "          google.colab.kernel.accessAllowed ? 'block' : 'none';\n",
              "\n",
              "        async function convertToInteractive(key) {\n",
              "          const element = document.querySelector('#df-6c37acf6-9753-4617-91bf-d6159590c8d3');\n",
              "          const dataTable =\n",
              "            await google.colab.kernel.invokeFunction('convertToInteractive',\n",
              "                                                     [key], {});\n",
              "          if (!dataTable) return;\n",
              "\n",
              "          const docLinkHtml = 'Like what you see? Visit the ' +\n",
              "            '<a target=\"_blank\" href=https://colab.research.google.com/notebooks/data_table.ipynb>data table notebook</a>'\n",
              "            + ' to learn more about interactive tables.';\n",
              "          element.innerHTML = '';\n",
              "          dataTable['output_type'] = 'display_data';\n",
              "          await google.colab.output.renderOutput(dataTable, element);\n",
              "          const docLink = document.createElement('div');\n",
              "          docLink.innerHTML = docLinkHtml;\n",
              "          element.appendChild(docLink);\n",
              "        }\n",
              "      </script>\n",
              "    </div>\n",
              "  </div>\n",
              "  "
            ]
          },
          "metadata": {},
          "execution_count": 9
        }
      ]
    },
    {
      "cell_type": "code",
      "source": [
        "df.to_sql('products', con=engine2, if_exists='replace', index = False)"
      ],
      "metadata": {
        "id": "c7IR2_vs19i6"
      },
      "execution_count": 10,
      "outputs": []
    },
    {
      "cell_type": "code",
      "source": [
        "engine2.execute(\"SELECT * FROM products\").fetchall()"
      ],
      "metadata": {
        "colab": {
          "base_uri": "https://localhost:8080/"
        },
        "id": "TR3yEoqd3n4Y",
        "outputId": "f0d99001-70a2-402a-e64a-3212266840d5"
      },
      "execution_count": 11,
      "outputs": [
        {
          "output_type": "execute_result",
          "data": {
            "text/plain": [
              "[('Pam', 50, 'Unknown', None),\n",
              " ('Miranda', 32, 'Unknown', None),\n",
              " ('Pascal', 45, 'Unknown', None),\n",
              " ('Dave', 12, 'Unknown', None),\n",
              " ('Emmy', 23, 'Unknown', None)]"
            ]
          },
          "metadata": {},
          "execution_count": 11
        }
      ]
    },
    {
      "cell_type": "code",
      "source": [
        "df = res.DataFrame()\n",
        "df"
      ],
      "metadata": {
        "colab": {
          "base_uri": "https://localhost:8080/",
          "height": 206
        },
        "id": "rV1EwC5Q6v1o",
        "outputId": "343187e1-fe2e-4994-e2ca-47dc31070850"
      },
      "execution_count": 12,
      "outputs": [
        {
          "output_type": "execute_result",
          "data": {
            "text/plain": [
              "      Name  Age Profession Major\n",
              "0      Pam   50    Unknown  None\n",
              "1  Miranda   32    Unknown  None\n",
              "2   Pascal   45    Unknown  None\n",
              "3     Dave   12    Unknown  None\n",
              "4     Emmy   23    Unknown  None"
            ],
            "text/html": [
              "\n",
              "  <div id=\"df-d99817b1-3839-468b-938f-5af63b3d632c\">\n",
              "    <div class=\"colab-df-container\">\n",
              "      <div>\n",
              "<style scoped>\n",
              "    .dataframe tbody tr th:only-of-type {\n",
              "        vertical-align: middle;\n",
              "    }\n",
              "\n",
              "    .dataframe tbody tr th {\n",
              "        vertical-align: top;\n",
              "    }\n",
              "\n",
              "    .dataframe thead th {\n",
              "        text-align: right;\n",
              "    }\n",
              "</style>\n",
              "<table border=\"1\" class=\"dataframe\">\n",
              "  <thead>\n",
              "    <tr style=\"text-align: right;\">\n",
              "      <th></th>\n",
              "      <th>Name</th>\n",
              "      <th>Age</th>\n",
              "      <th>Profession</th>\n",
              "      <th>Major</th>\n",
              "    </tr>\n",
              "  </thead>\n",
              "  <tbody>\n",
              "    <tr>\n",
              "      <th>0</th>\n",
              "      <td>Pam</td>\n",
              "      <td>50</td>\n",
              "      <td>Unknown</td>\n",
              "      <td>None</td>\n",
              "    </tr>\n",
              "    <tr>\n",
              "      <th>1</th>\n",
              "      <td>Miranda</td>\n",
              "      <td>32</td>\n",
              "      <td>Unknown</td>\n",
              "      <td>None</td>\n",
              "    </tr>\n",
              "    <tr>\n",
              "      <th>2</th>\n",
              "      <td>Pascal</td>\n",
              "      <td>45</td>\n",
              "      <td>Unknown</td>\n",
              "      <td>None</td>\n",
              "    </tr>\n",
              "    <tr>\n",
              "      <th>3</th>\n",
              "      <td>Dave</td>\n",
              "      <td>12</td>\n",
              "      <td>Unknown</td>\n",
              "      <td>None</td>\n",
              "    </tr>\n",
              "    <tr>\n",
              "      <th>4</th>\n",
              "      <td>Emmy</td>\n",
              "      <td>23</td>\n",
              "      <td>Unknown</td>\n",
              "      <td>None</td>\n",
              "    </tr>\n",
              "  </tbody>\n",
              "</table>\n",
              "</div>\n",
              "      <button class=\"colab-df-convert\" onclick=\"convertToInteractive('df-d99817b1-3839-468b-938f-5af63b3d632c')\"\n",
              "              title=\"Convert this dataframe to an interactive table.\"\n",
              "              style=\"display:none;\">\n",
              "        \n",
              "  <svg xmlns=\"http://www.w3.org/2000/svg\" height=\"24px\"viewBox=\"0 0 24 24\"\n",
              "       width=\"24px\">\n",
              "    <path d=\"M0 0h24v24H0V0z\" fill=\"none\"/>\n",
              "    <path d=\"M18.56 5.44l.94 2.06.94-2.06 2.06-.94-2.06-.94-.94-2.06-.94 2.06-2.06.94zm-11 1L8.5 8.5l.94-2.06 2.06-.94-2.06-.94L8.5 2.5l-.94 2.06-2.06.94zm10 10l.94 2.06.94-2.06 2.06-.94-2.06-.94-.94-2.06-.94 2.06-2.06.94z\"/><path d=\"M17.41 7.96l-1.37-1.37c-.4-.4-.92-.59-1.43-.59-.52 0-1.04.2-1.43.59L10.3 9.45l-7.72 7.72c-.78.78-.78 2.05 0 2.83L4 21.41c.39.39.9.59 1.41.59.51 0 1.02-.2 1.41-.59l7.78-7.78 2.81-2.81c.8-.78.8-2.07 0-2.86zM5.41 20L4 18.59l7.72-7.72 1.47 1.35L5.41 20z\"/>\n",
              "  </svg>\n",
              "      </button>\n",
              "      \n",
              "  <style>\n",
              "    .colab-df-container {\n",
              "      display:flex;\n",
              "      flex-wrap:wrap;\n",
              "      gap: 12px;\n",
              "    }\n",
              "\n",
              "    .colab-df-convert {\n",
              "      background-color: #E8F0FE;\n",
              "      border: none;\n",
              "      border-radius: 50%;\n",
              "      cursor: pointer;\n",
              "      display: none;\n",
              "      fill: #1967D2;\n",
              "      height: 32px;\n",
              "      padding: 0 0 0 0;\n",
              "      width: 32px;\n",
              "    }\n",
              "\n",
              "    .colab-df-convert:hover {\n",
              "      background-color: #E2EBFA;\n",
              "      box-shadow: 0px 1px 2px rgba(60, 64, 67, 0.3), 0px 1px 3px 1px rgba(60, 64, 67, 0.15);\n",
              "      fill: #174EA6;\n",
              "    }\n",
              "\n",
              "    [theme=dark] .colab-df-convert {\n",
              "      background-color: #3B4455;\n",
              "      fill: #D2E3FC;\n",
              "    }\n",
              "\n",
              "    [theme=dark] .colab-df-convert:hover {\n",
              "      background-color: #434B5C;\n",
              "      box-shadow: 0px 1px 3px 1px rgba(0, 0, 0, 0.15);\n",
              "      filter: drop-shadow(0px 1px 2px rgba(0, 0, 0, 0.3));\n",
              "      fill: #FFFFFF;\n",
              "    }\n",
              "  </style>\n",
              "\n",
              "      <script>\n",
              "        const buttonEl =\n",
              "          document.querySelector('#df-d99817b1-3839-468b-938f-5af63b3d632c button.colab-df-convert');\n",
              "        buttonEl.style.display =\n",
              "          google.colab.kernel.accessAllowed ? 'block' : 'none';\n",
              "\n",
              "        async function convertToInteractive(key) {\n",
              "          const element = document.querySelector('#df-d99817b1-3839-468b-938f-5af63b3d632c');\n",
              "          const dataTable =\n",
              "            await google.colab.kernel.invokeFunction('convertToInteractive',\n",
              "                                                     [key], {});\n",
              "          if (!dataTable) return;\n",
              "\n",
              "          const docLinkHtml = 'Like what you see? Visit the ' +\n",
              "            '<a target=\"_blank\" href=https://colab.research.google.com/notebooks/data_table.ipynb>data table notebook</a>'\n",
              "            + ' to learn more about interactive tables.';\n",
              "          element.innerHTML = '';\n",
              "          dataTable['output_type'] = 'display_data';\n",
              "          await google.colab.output.renderOutput(dataTable, element);\n",
              "          const docLink = document.createElement('div');\n",
              "          docLink.innerHTML = docLinkHtml;\n",
              "          element.appendChild(docLink);\n",
              "        }\n",
              "      </script>\n",
              "    </div>\n",
              "  </div>\n",
              "  "
            ]
          },
          "metadata": {},
          "execution_count": 12
        }
      ]
    },
    {
      "cell_type": "code",
      "source": [
        "dfbt = pd.DataFrame([[9991 ,'John', 'Liverpool'],\n",
        "[9992 ,'Paul', 'Liverpool'],\n",
        "[9993, 'Ringo', 'Liverpool'],\n",
        "[9994,'George', 'Liverpool']], columns = ['ID', 'Name', 'Born_in'])\n",
        "\n",
        "dfinst = pd.DataFrame([[9991 ,'Vocal' ,'Liverpool'],\n",
        "[9992, 'Base' ,'Liverpool'],\n",
        "[9993 ,'Drums' ,'Liverpool'],\n",
        "[9995, 'Guitar', 'Arsenal'],\n",
        "[9992 ,'Piano' ,'Liverpool']],columns = ['ID', 'Instrument' ,'Football_Club'])\n",
        "\n",
        "\n",
        "dfbt"
      ],
      "metadata": {
        "colab": {
          "base_uri": "https://localhost:8080/",
          "height": 174
        },
        "id": "YOruOD0_CIIL",
        "outputId": "fee657a7-953b-42e4-d41b-b44563e3528b"
      },
      "execution_count": 13,
      "outputs": [
        {
          "output_type": "execute_result",
          "data": {
            "text/plain": [
              "     ID    Name    Born_in\n",
              "0  9991    John  Liverpool\n",
              "1  9992    Paul  Liverpool\n",
              "2  9993   Ringo  Liverpool\n",
              "3  9994  George  Liverpool"
            ],
            "text/html": [
              "\n",
              "  <div id=\"df-27602e95-1a4c-4607-9918-96b8b85b59ca\">\n",
              "    <div class=\"colab-df-container\">\n",
              "      <div>\n",
              "<style scoped>\n",
              "    .dataframe tbody tr th:only-of-type {\n",
              "        vertical-align: middle;\n",
              "    }\n",
              "\n",
              "    .dataframe tbody tr th {\n",
              "        vertical-align: top;\n",
              "    }\n",
              "\n",
              "    .dataframe thead th {\n",
              "        text-align: right;\n",
              "    }\n",
              "</style>\n",
              "<table border=\"1\" class=\"dataframe\">\n",
              "  <thead>\n",
              "    <tr style=\"text-align: right;\">\n",
              "      <th></th>\n",
              "      <th>ID</th>\n",
              "      <th>Name</th>\n",
              "      <th>Born_in</th>\n",
              "    </tr>\n",
              "  </thead>\n",
              "  <tbody>\n",
              "    <tr>\n",
              "      <th>0</th>\n",
              "      <td>9991</td>\n",
              "      <td>John</td>\n",
              "      <td>Liverpool</td>\n",
              "    </tr>\n",
              "    <tr>\n",
              "      <th>1</th>\n",
              "      <td>9992</td>\n",
              "      <td>Paul</td>\n",
              "      <td>Liverpool</td>\n",
              "    </tr>\n",
              "    <tr>\n",
              "      <th>2</th>\n",
              "      <td>9993</td>\n",
              "      <td>Ringo</td>\n",
              "      <td>Liverpool</td>\n",
              "    </tr>\n",
              "    <tr>\n",
              "      <th>3</th>\n",
              "      <td>9994</td>\n",
              "      <td>George</td>\n",
              "      <td>Liverpool</td>\n",
              "    </tr>\n",
              "  </tbody>\n",
              "</table>\n",
              "</div>\n",
              "      <button class=\"colab-df-convert\" onclick=\"convertToInteractive('df-27602e95-1a4c-4607-9918-96b8b85b59ca')\"\n",
              "              title=\"Convert this dataframe to an interactive table.\"\n",
              "              style=\"display:none;\">\n",
              "        \n",
              "  <svg xmlns=\"http://www.w3.org/2000/svg\" height=\"24px\"viewBox=\"0 0 24 24\"\n",
              "       width=\"24px\">\n",
              "    <path d=\"M0 0h24v24H0V0z\" fill=\"none\"/>\n",
              "    <path d=\"M18.56 5.44l.94 2.06.94-2.06 2.06-.94-2.06-.94-.94-2.06-.94 2.06-2.06.94zm-11 1L8.5 8.5l.94-2.06 2.06-.94-2.06-.94L8.5 2.5l-.94 2.06-2.06.94zm10 10l.94 2.06.94-2.06 2.06-.94-2.06-.94-.94-2.06-.94 2.06-2.06.94z\"/><path d=\"M17.41 7.96l-1.37-1.37c-.4-.4-.92-.59-1.43-.59-.52 0-1.04.2-1.43.59L10.3 9.45l-7.72 7.72c-.78.78-.78 2.05 0 2.83L4 21.41c.39.39.9.59 1.41.59.51 0 1.02-.2 1.41-.59l7.78-7.78 2.81-2.81c.8-.78.8-2.07 0-2.86zM5.41 20L4 18.59l7.72-7.72 1.47 1.35L5.41 20z\"/>\n",
              "  </svg>\n",
              "      </button>\n",
              "      \n",
              "  <style>\n",
              "    .colab-df-container {\n",
              "      display:flex;\n",
              "      flex-wrap:wrap;\n",
              "      gap: 12px;\n",
              "    }\n",
              "\n",
              "    .colab-df-convert {\n",
              "      background-color: #E8F0FE;\n",
              "      border: none;\n",
              "      border-radius: 50%;\n",
              "      cursor: pointer;\n",
              "      display: none;\n",
              "      fill: #1967D2;\n",
              "      height: 32px;\n",
              "      padding: 0 0 0 0;\n",
              "      width: 32px;\n",
              "    }\n",
              "\n",
              "    .colab-df-convert:hover {\n",
              "      background-color: #E2EBFA;\n",
              "      box-shadow: 0px 1px 2px rgba(60, 64, 67, 0.3), 0px 1px 3px 1px rgba(60, 64, 67, 0.15);\n",
              "      fill: #174EA6;\n",
              "    }\n",
              "\n",
              "    [theme=dark] .colab-df-convert {\n",
              "      background-color: #3B4455;\n",
              "      fill: #D2E3FC;\n",
              "    }\n",
              "\n",
              "    [theme=dark] .colab-df-convert:hover {\n",
              "      background-color: #434B5C;\n",
              "      box-shadow: 0px 1px 3px 1px rgba(0, 0, 0, 0.15);\n",
              "      filter: drop-shadow(0px 1px 2px rgba(0, 0, 0, 0.3));\n",
              "      fill: #FFFFFF;\n",
              "    }\n",
              "  </style>\n",
              "\n",
              "      <script>\n",
              "        const buttonEl =\n",
              "          document.querySelector('#df-27602e95-1a4c-4607-9918-96b8b85b59ca button.colab-df-convert');\n",
              "        buttonEl.style.display =\n",
              "          google.colab.kernel.accessAllowed ? 'block' : 'none';\n",
              "\n",
              "        async function convertToInteractive(key) {\n",
              "          const element = document.querySelector('#df-27602e95-1a4c-4607-9918-96b8b85b59ca');\n",
              "          const dataTable =\n",
              "            await google.colab.kernel.invokeFunction('convertToInteractive',\n",
              "                                                     [key], {});\n",
              "          if (!dataTable) return;\n",
              "\n",
              "          const docLinkHtml = 'Like what you see? Visit the ' +\n",
              "            '<a target=\"_blank\" href=https://colab.research.google.com/notebooks/data_table.ipynb>data table notebook</a>'\n",
              "            + ' to learn more about interactive tables.';\n",
              "          element.innerHTML = '';\n",
              "          dataTable['output_type'] = 'display_data';\n",
              "          await google.colab.output.renderOutput(dataTable, element);\n",
              "          const docLink = document.createElement('div');\n",
              "          docLink.innerHTML = docLinkHtml;\n",
              "          element.appendChild(docLink);\n",
              "        }\n",
              "      </script>\n",
              "    </div>\n",
              "  </div>\n",
              "  "
            ]
          },
          "metadata": {},
          "execution_count": 13
        }
      ]
    },
    {
      "cell_type": "code",
      "source": [
        "dfbt.to_sql('A', con=engine2, if_exists='replace', index = False)\n",
        "dfinst.to_sql('B', con=engine2, if_exists='replace', index = False)"
      ],
      "metadata": {
        "id": "v_XBlmY9DW_5"
      },
      "execution_count": 14,
      "outputs": []
    },
    {
      "cell_type": "code",
      "source": [
        "rsq = engine2.execute('''SELECT A.ID, A.Name, A.Born_in, B.Instrument, B.Football_Club\n",
        "From A\n",
        "LEFT JOIN B\n",
        "ON A.ID = B.ID''').fetchall()\n",
        "pd.DataFrame(rsq)"
      ],
      "metadata": {
        "colab": {
          "base_uri": "https://localhost:8080/",
          "height": 206
        },
        "id": "xMlIxHHqDj5w",
        "outputId": "c522e674-6a88-4dfd-b143-4f6e62c174f5"
      },
      "execution_count": 15,
      "outputs": [
        {
          "output_type": "execute_result",
          "data": {
            "text/plain": [
              "      0       1          2      3          4\n",
              "0  9991    John  Liverpool  Vocal  Liverpool\n",
              "1  9992    Paul  Liverpool   Base  Liverpool\n",
              "2  9992    Paul  Liverpool  Piano  Liverpool\n",
              "3  9993   Ringo  Liverpool  Drums  Liverpool\n",
              "4  9994  George  Liverpool   None       None"
            ],
            "text/html": [
              "\n",
              "  <div id=\"df-d6ff5c79-4a4d-499f-8c79-c99f8cccfdd4\">\n",
              "    <div class=\"colab-df-container\">\n",
              "      <div>\n",
              "<style scoped>\n",
              "    .dataframe tbody tr th:only-of-type {\n",
              "        vertical-align: middle;\n",
              "    }\n",
              "\n",
              "    .dataframe tbody tr th {\n",
              "        vertical-align: top;\n",
              "    }\n",
              "\n",
              "    .dataframe thead th {\n",
              "        text-align: right;\n",
              "    }\n",
              "</style>\n",
              "<table border=\"1\" class=\"dataframe\">\n",
              "  <thead>\n",
              "    <tr style=\"text-align: right;\">\n",
              "      <th></th>\n",
              "      <th>0</th>\n",
              "      <th>1</th>\n",
              "      <th>2</th>\n",
              "      <th>3</th>\n",
              "      <th>4</th>\n",
              "    </tr>\n",
              "  </thead>\n",
              "  <tbody>\n",
              "    <tr>\n",
              "      <th>0</th>\n",
              "      <td>9991</td>\n",
              "      <td>John</td>\n",
              "      <td>Liverpool</td>\n",
              "      <td>Vocal</td>\n",
              "      <td>Liverpool</td>\n",
              "    </tr>\n",
              "    <tr>\n",
              "      <th>1</th>\n",
              "      <td>9992</td>\n",
              "      <td>Paul</td>\n",
              "      <td>Liverpool</td>\n",
              "      <td>Base</td>\n",
              "      <td>Liverpool</td>\n",
              "    </tr>\n",
              "    <tr>\n",
              "      <th>2</th>\n",
              "      <td>9992</td>\n",
              "      <td>Paul</td>\n",
              "      <td>Liverpool</td>\n",
              "      <td>Piano</td>\n",
              "      <td>Liverpool</td>\n",
              "    </tr>\n",
              "    <tr>\n",
              "      <th>3</th>\n",
              "      <td>9993</td>\n",
              "      <td>Ringo</td>\n",
              "      <td>Liverpool</td>\n",
              "      <td>Drums</td>\n",
              "      <td>Liverpool</td>\n",
              "    </tr>\n",
              "    <tr>\n",
              "      <th>4</th>\n",
              "      <td>9994</td>\n",
              "      <td>George</td>\n",
              "      <td>Liverpool</td>\n",
              "      <td>None</td>\n",
              "      <td>None</td>\n",
              "    </tr>\n",
              "  </tbody>\n",
              "</table>\n",
              "</div>\n",
              "      <button class=\"colab-df-convert\" onclick=\"convertToInteractive('df-d6ff5c79-4a4d-499f-8c79-c99f8cccfdd4')\"\n",
              "              title=\"Convert this dataframe to an interactive table.\"\n",
              "              style=\"display:none;\">\n",
              "        \n",
              "  <svg xmlns=\"http://www.w3.org/2000/svg\" height=\"24px\"viewBox=\"0 0 24 24\"\n",
              "       width=\"24px\">\n",
              "    <path d=\"M0 0h24v24H0V0z\" fill=\"none\"/>\n",
              "    <path d=\"M18.56 5.44l.94 2.06.94-2.06 2.06-.94-2.06-.94-.94-2.06-.94 2.06-2.06.94zm-11 1L8.5 8.5l.94-2.06 2.06-.94-2.06-.94L8.5 2.5l-.94 2.06-2.06.94zm10 10l.94 2.06.94-2.06 2.06-.94-2.06-.94-.94-2.06-.94 2.06-2.06.94z\"/><path d=\"M17.41 7.96l-1.37-1.37c-.4-.4-.92-.59-1.43-.59-.52 0-1.04.2-1.43.59L10.3 9.45l-7.72 7.72c-.78.78-.78 2.05 0 2.83L4 21.41c.39.39.9.59 1.41.59.51 0 1.02-.2 1.41-.59l7.78-7.78 2.81-2.81c.8-.78.8-2.07 0-2.86zM5.41 20L4 18.59l7.72-7.72 1.47 1.35L5.41 20z\"/>\n",
              "  </svg>\n",
              "      </button>\n",
              "      \n",
              "  <style>\n",
              "    .colab-df-container {\n",
              "      display:flex;\n",
              "      flex-wrap:wrap;\n",
              "      gap: 12px;\n",
              "    }\n",
              "\n",
              "    .colab-df-convert {\n",
              "      background-color: #E8F0FE;\n",
              "      border: none;\n",
              "      border-radius: 50%;\n",
              "      cursor: pointer;\n",
              "      display: none;\n",
              "      fill: #1967D2;\n",
              "      height: 32px;\n",
              "      padding: 0 0 0 0;\n",
              "      width: 32px;\n",
              "    }\n",
              "\n",
              "    .colab-df-convert:hover {\n",
              "      background-color: #E2EBFA;\n",
              "      box-shadow: 0px 1px 2px rgba(60, 64, 67, 0.3), 0px 1px 3px 1px rgba(60, 64, 67, 0.15);\n",
              "      fill: #174EA6;\n",
              "    }\n",
              "\n",
              "    [theme=dark] .colab-df-convert {\n",
              "      background-color: #3B4455;\n",
              "      fill: #D2E3FC;\n",
              "    }\n",
              "\n",
              "    [theme=dark] .colab-df-convert:hover {\n",
              "      background-color: #434B5C;\n",
              "      box-shadow: 0px 1px 3px 1px rgba(0, 0, 0, 0.15);\n",
              "      filter: drop-shadow(0px 1px 2px rgba(0, 0, 0, 0.3));\n",
              "      fill: #FFFFFF;\n",
              "    }\n",
              "  </style>\n",
              "\n",
              "      <script>\n",
              "        const buttonEl =\n",
              "          document.querySelector('#df-d6ff5c79-4a4d-499f-8c79-c99f8cccfdd4 button.colab-df-convert');\n",
              "        buttonEl.style.display =\n",
              "          google.colab.kernel.accessAllowed ? 'block' : 'none';\n",
              "\n",
              "        async function convertToInteractive(key) {\n",
              "          const element = document.querySelector('#df-d6ff5c79-4a4d-499f-8c79-c99f8cccfdd4');\n",
              "          const dataTable =\n",
              "            await google.colab.kernel.invokeFunction('convertToInteractive',\n",
              "                                                     [key], {});\n",
              "          if (!dataTable) return;\n",
              "\n",
              "          const docLinkHtml = 'Like what you see? Visit the ' +\n",
              "            '<a target=\"_blank\" href=https://colab.research.google.com/notebooks/data_table.ipynb>data table notebook</a>'\n",
              "            + ' to learn more about interactive tables.';\n",
              "          element.innerHTML = '';\n",
              "          dataTable['output_type'] = 'display_data';\n",
              "          await google.colab.output.renderOutput(dataTable, element);\n",
              "          const docLink = document.createElement('div');\n",
              "          docLink.innerHTML = docLinkHtml;\n",
              "          element.appendChild(docLink);\n",
              "        }\n",
              "      </script>\n",
              "    </div>\n",
              "  </div>\n",
              "  "
            ]
          },
          "metadata": {},
          "execution_count": 15
        }
      ]
    },
    {
      "cell_type": "code",
      "source": [
        "rsq"
      ],
      "metadata": {
        "colab": {
          "base_uri": "https://localhost:8080/"
        },
        "id": "p7ASvUEAENoM",
        "outputId": "ab970918-fd33-4974-bd87-67a4590f7cf2"
      },
      "execution_count": 16,
      "outputs": [
        {
          "output_type": "execute_result",
          "data": {
            "text/plain": [
              "[(9991, 'John', 'Liverpool', 'Vocal', 'Liverpool'),\n",
              " (9992, 'Paul', 'Liverpool', 'Base', 'Liverpool'),\n",
              " (9992, 'Paul', 'Liverpool', 'Piano', 'Liverpool'),\n",
              " (9993, 'Ringo', 'Liverpool', 'Drums', 'Liverpool'),\n",
              " (9994, 'George', 'Liverpool', None, None)]"
            ]
          },
          "metadata": {},
          "execution_count": 16
        }
      ]
    },
    {
      "cell_type": "code",
      "source": [
        "engine2.execute('SELECT * FROM A').fetchall()"
      ],
      "metadata": {
        "colab": {
          "base_uri": "https://localhost:8080/"
        },
        "id": "77xqajYMLz2A",
        "outputId": "5ca42337-3688-45b8-a942-7a766a440cc0"
      },
      "execution_count": 17,
      "outputs": [
        {
          "output_type": "execute_result",
          "data": {
            "text/plain": [
              "[(9991, 'John', 'Liverpool'),\n",
              " (9992, 'Paul', 'Liverpool'),\n",
              " (9993, 'Ringo', 'Liverpool'),\n",
              " (9994, 'George', 'Liverpool')]"
            ]
          },
          "metadata": {},
          "execution_count": 17
        }
      ]
    },
    {
      "cell_type": "code",
      "source": [
        "engine2.execute('SELECT * FROM A').fetchall()"
      ],
      "metadata": {
        "colab": {
          "base_uri": "https://localhost:8080/"
        },
        "id": "RgC3qbpbNDEv",
        "outputId": "1c2d1e14-b145-45d9-a327-5acdd1ccd762"
      },
      "execution_count": 18,
      "outputs": [
        {
          "output_type": "execute_result",
          "data": {
            "text/plain": [
              "[(9991, 'John', 'Liverpool'),\n",
              " (9992, 'Paul', 'Liverpool'),\n",
              " (9993, 'Ringo', 'Liverpool'),\n",
              " (9994, 'George', 'Liverpool')]"
            ]
          },
          "metadata": {},
          "execution_count": 18
        }
      ]
    },
    {
      "cell_type": "code",
      "source": [
        "%%sql\n",
        "\n",
        "CREATE TABLE IF NOT EXISTS Beatles\n",
        "    (\"ID\" int, \"Name\" varchar(10), \"Born_in\" varchar(15))\n",
        ";\n",
        "    \n",
        "INSERT INTO Beatles\n",
        "    (\"ID\" , \"Name\", \"Born_in\")\n",
        "VALUES\n",
        "    (9991, 'John', 'Liverpool'),\n",
        "     (9992, 'Paul', 'Liverpool'), \n",
        "     (9993, 'Ringo', 'Liverpool'), \n",
        "     (9994, 'George', 'Liverpool')\n",
        ";\n",
        "\n",
        "\n",
        "CREATE TABLE IF NOT EXISTS Beatles2\n",
        "    (\"ID\" int, \"Instrument\" varchar(10), \"Football_Club\" varchar(15))\n",
        ";\n",
        "    \n",
        "INSERT INTO Beatles2\n",
        "    (\"ID\" , \"Instrument\", \"Football_Club\")\n",
        "VALUES\n",
        "    (9991, 'John', 'Liverpool'),\n",
        " (9992, 'Paul', 'Liverpool'),\n",
        " (9993, 'Ringo', 'Liverpool'),\n",
        " (9994, 'George', 'Liverpool')\n",
        ";\n"
      ],
      "metadata": {
        "colab": {
          "base_uri": "https://localhost:8080/"
        },
        "id": "HR5WucAdLBzu",
        "outputId": "dfd9736b-24b0-4de3-c8e7-3475f8fe6222"
      },
      "execution_count": 19,
      "outputs": [
        {
          "output_type": "stream",
          "name": "stdout",
          "text": [
            " * sqlite:///test.db\n",
            "Done.\n",
            "4 rows affected.\n",
            "Done.\n",
            "4 rows affected.\n"
          ]
        },
        {
          "output_type": "execute_result",
          "data": {
            "text/plain": [
              "[]"
            ]
          },
          "metadata": {},
          "execution_count": 19
        }
      ]
    },
    {
      "cell_type": "code",
      "source": [
        "%sql SELECT * FROM Beatles"
      ],
      "metadata": {
        "colab": {
          "base_uri": "https://localhost:8080/",
          "height": 161
        },
        "id": "VfqGOrzHK_z4",
        "outputId": "f3a3dbf3-aa92-4de3-9baa-d418ee923531"
      },
      "execution_count": 20,
      "outputs": [
        {
          "output_type": "stream",
          "name": "stdout",
          "text": [
            " * sqlite:///test.db\n",
            "Done.\n"
          ]
        },
        {
          "output_type": "execute_result",
          "data": {
            "text/plain": [
              "[(9991, 'John', 'Liverpool'),\n",
              " (9992, 'Paul', 'Liverpool'),\n",
              " (9993, 'Ringo', 'Liverpool'),\n",
              " (9994, 'George', 'Liverpool')]"
            ],
            "text/html": [
              "<table>\n",
              "    <thead>\n",
              "        <tr>\n",
              "            <th>ID</th>\n",
              "            <th>Name</th>\n",
              "            <th>Born_in</th>\n",
              "        </tr>\n",
              "    </thead>\n",
              "    <tbody>\n",
              "        <tr>\n",
              "            <td>9991</td>\n",
              "            <td>John</td>\n",
              "            <td>Liverpool</td>\n",
              "        </tr>\n",
              "        <tr>\n",
              "            <td>9992</td>\n",
              "            <td>Paul</td>\n",
              "            <td>Liverpool</td>\n",
              "        </tr>\n",
              "        <tr>\n",
              "            <td>9993</td>\n",
              "            <td>Ringo</td>\n",
              "            <td>Liverpool</td>\n",
              "        </tr>\n",
              "        <tr>\n",
              "            <td>9994</td>\n",
              "            <td>George</td>\n",
              "            <td>Liverpool</td>\n",
              "        </tr>\n",
              "    </tbody>\n",
              "</table>"
            ]
          },
          "metadata": {},
          "execution_count": 20
        }
      ]
    },
    {
      "cell_type": "code",
      "source": [
        "%%sql\n",
        "SELECT A.ID, A.Name, A.Born_in, B.Instrument, B.Football_Club\n",
        "From Beatles AS A\n",
        "LEFT JOIN Beatles2 AS B\n",
        "ON A.ID = B.ID"
      ],
      "metadata": {
        "colab": {
          "base_uri": "https://localhost:8080/",
          "height": 161
        },
        "id": "pXsJbzMENgUI",
        "outputId": "63a03e5d-d60d-4170-b3d0-fdf323db33d3"
      },
      "execution_count": 21,
      "outputs": [
        {
          "output_type": "stream",
          "name": "stdout",
          "text": [
            " * sqlite:///test.db\n",
            "Done.\n"
          ]
        },
        {
          "output_type": "execute_result",
          "data": {
            "text/plain": [
              "[(9991, 'John', 'Liverpool', 'John', 'Liverpool'),\n",
              " (9992, 'Paul', 'Liverpool', 'Paul', 'Liverpool'),\n",
              " (9993, 'Ringo', 'Liverpool', 'Ringo', 'Liverpool'),\n",
              " (9994, 'George', 'Liverpool', 'George', 'Liverpool')]"
            ],
            "text/html": [
              "<table>\n",
              "    <thead>\n",
              "        <tr>\n",
              "            <th>ID</th>\n",
              "            <th>Name</th>\n",
              "            <th>Born_in</th>\n",
              "            <th>Instrument</th>\n",
              "            <th>Football_Club</th>\n",
              "        </tr>\n",
              "    </thead>\n",
              "    <tbody>\n",
              "        <tr>\n",
              "            <td>9991</td>\n",
              "            <td>John</td>\n",
              "            <td>Liverpool</td>\n",
              "            <td>John</td>\n",
              "            <td>Liverpool</td>\n",
              "        </tr>\n",
              "        <tr>\n",
              "            <td>9992</td>\n",
              "            <td>Paul</td>\n",
              "            <td>Liverpool</td>\n",
              "            <td>Paul</td>\n",
              "            <td>Liverpool</td>\n",
              "        </tr>\n",
              "        <tr>\n",
              "            <td>9993</td>\n",
              "            <td>Ringo</td>\n",
              "            <td>Liverpool</td>\n",
              "            <td>Ringo</td>\n",
              "            <td>Liverpool</td>\n",
              "        </tr>\n",
              "        <tr>\n",
              "            <td>9994</td>\n",
              "            <td>George</td>\n",
              "            <td>Liverpool</td>\n",
              "            <td>George</td>\n",
              "            <td>Liverpool</td>\n",
              "        </tr>\n",
              "    </tbody>\n",
              "</table>"
            ]
          },
          "metadata": {},
          "execution_count": 21
        }
      ]
    },
    {
      "cell_type": "code",
      "source": [
        "insp = inspect(engine2)\n",
        "print(insp.get_table_names())"
      ],
      "metadata": {
        "colab": {
          "base_uri": "https://localhost:8080/"
        },
        "id": "hIaPq3zDwIk5",
        "outputId": "774d496e-5827-4a01-bf23-192045ef119a"
      },
      "execution_count": 22,
      "outputs": [
        {
          "output_type": "stream",
          "name": "stdout",
          "text": [
            "['A', 'Aulas', 'B', 'Beatles', 'Beatles2', 'Classmates', 'Cursos', 'Fam', 'Professores', 'products']\n"
          ]
        }
      ]
    },
    {
      "cell_type": "code",
      "source": [
        "# %load_ext sql\n",
        "\n",
        "%sql sqlite:///Northwind_small.sqlite"
      ],
      "metadata": {
        "colab": {
          "base_uri": "https://localhost:8080/",
          "height": 35
        },
        "id": "7pYxjg9IWhQ7",
        "outputId": "5d33fe6e-a4c2-488b-8c04-078c574ecc9f"
      },
      "execution_count": 23,
      "outputs": [
        {
          "output_type": "execute_result",
          "data": {
            "text/plain": [
              "'Connected: @Northwind_small.sqlite'"
            ],
            "application/vnd.google.colaboratory.intrinsic+json": {
              "type": "string"
            }
          },
          "metadata": {},
          "execution_count": 23
        }
      ]
    },
    {
      "cell_type": "code",
      "source": [
        "%%sql\n",
        "SELECT sqlite_version();"
      ],
      "metadata": {
        "colab": {
          "base_uri": "https://localhost:8080/",
          "height": 114
        },
        "id": "CiYAeX8SWmZj",
        "outputId": "95f804af-a7a3-445f-b9a4-4d6d21471763"
      },
      "execution_count": 24,
      "outputs": [
        {
          "output_type": "stream",
          "name": "stdout",
          "text": [
            " * sqlite:///Northwind_small.sqlite\n",
            "   sqlite:///test.db\n",
            "Done.\n"
          ]
        },
        {
          "output_type": "execute_result",
          "data": {
            "text/plain": [
              "[('3.22.0',)]"
            ],
            "text/html": [
              "<table>\n",
              "    <thead>\n",
              "        <tr>\n",
              "            <th>sqlite_version()</th>\n",
              "        </tr>\n",
              "    </thead>\n",
              "    <tbody>\n",
              "        <tr>\n",
              "            <td>3.22.0</td>\n",
              "        </tr>\n",
              "    </tbody>\n",
              "</table>"
            ]
          },
          "metadata": {},
          "execution_count": 24
        }
      ]
    },
    {
      "cell_type": "code",
      "source": [
        "%%sql\n",
        "SELECT name FROM sqlite_master WHERE type='table' AND name NOT LIKE 'sqlite_%';"
      ],
      "metadata": {
        "colab": {
          "base_uri": "https://localhost:8080/",
          "height": 370
        },
        "id": "Oqljx7GcWrrD",
        "outputId": "87cc385f-1e65-4895-b11f-9c6a00c920af"
      },
      "execution_count": 25,
      "outputs": [
        {
          "output_type": "stream",
          "name": "stdout",
          "text": [
            " * sqlite:///Northwind_small.sqlite\n",
            "   sqlite:///test.db\n",
            "Done.\n"
          ]
        },
        {
          "output_type": "execute_result",
          "data": {
            "text/plain": [
              "[('Employee',),\n",
              " ('Category',),\n",
              " ('Customer',),\n",
              " ('Shipper',),\n",
              " ('Supplier',),\n",
              " ('Order',),\n",
              " ('Product',),\n",
              " ('OrderDetail',),\n",
              " ('CustomerCustomerDemo',),\n",
              " ('CustomerDemographic',),\n",
              " ('Region',),\n",
              " ('Territory',),\n",
              " ('EmployeeTerritory',)]"
            ],
            "text/html": [
              "<table>\n",
              "    <thead>\n",
              "        <tr>\n",
              "            <th>name</th>\n",
              "        </tr>\n",
              "    </thead>\n",
              "    <tbody>\n",
              "        <tr>\n",
              "            <td>Employee</td>\n",
              "        </tr>\n",
              "        <tr>\n",
              "            <td>Category</td>\n",
              "        </tr>\n",
              "        <tr>\n",
              "            <td>Customer</td>\n",
              "        </tr>\n",
              "        <tr>\n",
              "            <td>Shipper</td>\n",
              "        </tr>\n",
              "        <tr>\n",
              "            <td>Supplier</td>\n",
              "        </tr>\n",
              "        <tr>\n",
              "            <td>Order</td>\n",
              "        </tr>\n",
              "        <tr>\n",
              "            <td>Product</td>\n",
              "        </tr>\n",
              "        <tr>\n",
              "            <td>OrderDetail</td>\n",
              "        </tr>\n",
              "        <tr>\n",
              "            <td>CustomerCustomerDemo</td>\n",
              "        </tr>\n",
              "        <tr>\n",
              "            <td>CustomerDemographic</td>\n",
              "        </tr>\n",
              "        <tr>\n",
              "            <td>Region</td>\n",
              "        </tr>\n",
              "        <tr>\n",
              "            <td>Territory</td>\n",
              "        </tr>\n",
              "        <tr>\n",
              "            <td>EmployeeTerritory</td>\n",
              "        </tr>\n",
              "    </tbody>\n",
              "</table>"
            ]
          },
          "metadata": {},
          "execution_count": 25
        }
      ]
    },
    {
      "cell_type": "code",
      "source": [
        "%sql PRAGMA table_info([Category]);"
      ],
      "metadata": {
        "colab": {
          "base_uri": "https://localhost:8080/",
          "height": 157
        },
        "id": "Fo8xaU-aW1Qz",
        "outputId": "82ec1a8a-6c54-4743-8b68-f3a5923e4976"
      },
      "execution_count": 26,
      "outputs": [
        {
          "output_type": "stream",
          "name": "stdout",
          "text": [
            " * sqlite:///Northwind_small.sqlite\n",
            "   sqlite:///test.db\n",
            "Done.\n"
          ]
        },
        {
          "output_type": "execute_result",
          "data": {
            "text/plain": [
              "[(0, 'Id', 'INTEGER', 0, None, 1),\n",
              " (1, 'CategoryName', 'VARCHAR(8000)', 0, None, 0),\n",
              " (2, 'Description', 'VARCHAR(8000)', 0, None, 0)]"
            ],
            "text/html": [
              "<table>\n",
              "    <thead>\n",
              "        <tr>\n",
              "            <th>cid</th>\n",
              "            <th>name</th>\n",
              "            <th>type</th>\n",
              "            <th>notnull</th>\n",
              "            <th>dflt_value</th>\n",
              "            <th>pk</th>\n",
              "        </tr>\n",
              "    </thead>\n",
              "    <tbody>\n",
              "        <tr>\n",
              "            <td>0</td>\n",
              "            <td>Id</td>\n",
              "            <td>INTEGER</td>\n",
              "            <td>0</td>\n",
              "            <td>None</td>\n",
              "            <td>1</td>\n",
              "        </tr>\n",
              "        <tr>\n",
              "            <td>1</td>\n",
              "            <td>CategoryName</td>\n",
              "            <td>VARCHAR(8000)</td>\n",
              "            <td>0</td>\n",
              "            <td>None</td>\n",
              "            <td>0</td>\n",
              "        </tr>\n",
              "        <tr>\n",
              "            <td>2</td>\n",
              "            <td>Description</td>\n",
              "            <td>VARCHAR(8000)</td>\n",
              "            <td>0</td>\n",
              "            <td>None</td>\n",
              "            <td>0</td>\n",
              "        </tr>\n",
              "    </tbody>\n",
              "</table>"
            ]
          },
          "metadata": {},
          "execution_count": 26
        }
      ]
    },
    {
      "cell_type": "code",
      "source": [
        "%sql PRAGMA table_info([Customer]);"
      ],
      "metadata": {
        "colab": {
          "base_uri": "https://localhost:8080/",
          "height": 328
        },
        "id": "ATJhtpiMW8aT",
        "outputId": "e1c2eba6-cfca-4185-cd14-bf9788eb8acf"
      },
      "execution_count": 27,
      "outputs": [
        {
          "output_type": "stream",
          "name": "stdout",
          "text": [
            " * sqlite:///Northwind_small.sqlite\n",
            "   sqlite:///test.db\n",
            "Done.\n"
          ]
        },
        {
          "output_type": "execute_result",
          "data": {
            "text/plain": [
              "[(0, 'Id', 'VARCHAR(8000)', 0, None, 1),\n",
              " (1, 'CompanyName', 'VARCHAR(8000)', 0, None, 0),\n",
              " (2, 'ContactName', 'VARCHAR(8000)', 0, None, 0),\n",
              " (3, 'ContactTitle', 'VARCHAR(8000)', 0, None, 0),\n",
              " (4, 'Address', 'VARCHAR(8000)', 0, None, 0),\n",
              " (5, 'City', 'VARCHAR(8000)', 0, None, 0),\n",
              " (6, 'Region', 'VARCHAR(8000)', 0, None, 0),\n",
              " (7, 'PostalCode', 'VARCHAR(8000)', 0, None, 0),\n",
              " (8, 'Country', 'VARCHAR(8000)', 0, None, 0),\n",
              " (9, 'Phone', 'VARCHAR(8000)', 0, None, 0),\n",
              " (10, 'Fax', 'VARCHAR(8000)', 0, None, 0)]"
            ],
            "text/html": [
              "<table>\n",
              "    <thead>\n",
              "        <tr>\n",
              "            <th>cid</th>\n",
              "            <th>name</th>\n",
              "            <th>type</th>\n",
              "            <th>notnull</th>\n",
              "            <th>dflt_value</th>\n",
              "            <th>pk</th>\n",
              "        </tr>\n",
              "    </thead>\n",
              "    <tbody>\n",
              "        <tr>\n",
              "            <td>0</td>\n",
              "            <td>Id</td>\n",
              "            <td>VARCHAR(8000)</td>\n",
              "            <td>0</td>\n",
              "            <td>None</td>\n",
              "            <td>1</td>\n",
              "        </tr>\n",
              "        <tr>\n",
              "            <td>1</td>\n",
              "            <td>CompanyName</td>\n",
              "            <td>VARCHAR(8000)</td>\n",
              "            <td>0</td>\n",
              "            <td>None</td>\n",
              "            <td>0</td>\n",
              "        </tr>\n",
              "        <tr>\n",
              "            <td>2</td>\n",
              "            <td>ContactName</td>\n",
              "            <td>VARCHAR(8000)</td>\n",
              "            <td>0</td>\n",
              "            <td>None</td>\n",
              "            <td>0</td>\n",
              "        </tr>\n",
              "        <tr>\n",
              "            <td>3</td>\n",
              "            <td>ContactTitle</td>\n",
              "            <td>VARCHAR(8000)</td>\n",
              "            <td>0</td>\n",
              "            <td>None</td>\n",
              "            <td>0</td>\n",
              "        </tr>\n",
              "        <tr>\n",
              "            <td>4</td>\n",
              "            <td>Address</td>\n",
              "            <td>VARCHAR(8000)</td>\n",
              "            <td>0</td>\n",
              "            <td>None</td>\n",
              "            <td>0</td>\n",
              "        </tr>\n",
              "        <tr>\n",
              "            <td>5</td>\n",
              "            <td>City</td>\n",
              "            <td>VARCHAR(8000)</td>\n",
              "            <td>0</td>\n",
              "            <td>None</td>\n",
              "            <td>0</td>\n",
              "        </tr>\n",
              "        <tr>\n",
              "            <td>6</td>\n",
              "            <td>Region</td>\n",
              "            <td>VARCHAR(8000)</td>\n",
              "            <td>0</td>\n",
              "            <td>None</td>\n",
              "            <td>0</td>\n",
              "        </tr>\n",
              "        <tr>\n",
              "            <td>7</td>\n",
              "            <td>PostalCode</td>\n",
              "            <td>VARCHAR(8000)</td>\n",
              "            <td>0</td>\n",
              "            <td>None</td>\n",
              "            <td>0</td>\n",
              "        </tr>\n",
              "        <tr>\n",
              "            <td>8</td>\n",
              "            <td>Country</td>\n",
              "            <td>VARCHAR(8000)</td>\n",
              "            <td>0</td>\n",
              "            <td>None</td>\n",
              "            <td>0</td>\n",
              "        </tr>\n",
              "        <tr>\n",
              "            <td>9</td>\n",
              "            <td>Phone</td>\n",
              "            <td>VARCHAR(8000)</td>\n",
              "            <td>0</td>\n",
              "            <td>None</td>\n",
              "            <td>0</td>\n",
              "        </tr>\n",
              "        <tr>\n",
              "            <td>10</td>\n",
              "            <td>Fax</td>\n",
              "            <td>VARCHAR(8000)</td>\n",
              "            <td>0</td>\n",
              "            <td>None</td>\n",
              "            <td>0</td>\n",
              "        </tr>\n",
              "    </tbody>\n",
              "</table>"
            ]
          },
          "metadata": {},
          "execution_count": 27
        }
      ]
    },
    {
      "cell_type": "code",
      "source": [
        "%sql SELECT * FROM Customer LIMIT 20"
      ],
      "metadata": {
        "colab": {
          "base_uri": "https://localhost:8080/",
          "height": 957
        },
        "id": "MOBlgcT_QMWO",
        "outputId": "98110539-cb8a-49cd-d078-5ecec7894aa5"
      },
      "execution_count": 28,
      "outputs": [
        {
          "output_type": "stream",
          "name": "stdout",
          "text": [
            " * sqlite:///Northwind_small.sqlite\n",
            "   sqlite:///test.db\n",
            "Done.\n"
          ]
        },
        {
          "output_type": "execute_result",
          "data": {
            "text/plain": [
              "[('ALFKI', 'Alfreds Futterkiste', 'Maria Anders', 'Sales Representative', 'Obere Str. 57', 'Berlin', 'Western Europe', '12209', 'Germany', '030-0074321', '030-0076545'),\n",
              " ('ANATR', 'Ana Trujillo Emparedados y helados', 'Ana Trujillo', 'Owner', 'Avda. de la Constitución 2222', 'México D.F.', 'Central America', '05021', 'Mexico', '(5) 555-4729', '(5) 555-3745'),\n",
              " ('ANTON', 'Antonio Moreno Taquería', 'Antonio Moreno', 'Owner', 'Mataderos  2312', 'México D.F.', 'Central America', '05023', 'Mexico', '(5) 555-3932', None),\n",
              " ('AROUT', 'Around the Horn', 'Thomas Hardy', 'Sales Representative', '120 Hanover Sq.', 'London', 'British Isles', 'WA1 1DP', 'UK', '(171) 555-7788', '(171) 555-6750'),\n",
              " ('BERGS', 'Berglunds snabbköp', 'Christina Berglund', 'Order Administrator', 'Berguvsvägen  8', 'Luleå', 'Northern Europe', 'S-958 22', 'Sweden', '0921-12 34 65', '0921-12 34 67'),\n",
              " ('BLAUS', 'Blauer See Delikatessen', 'Hanna Moos', 'Sales Representative', 'Forsterstr. 57', 'Mannheim', 'Western Europe', '68306', 'Germany', '0621-08460', '0621-08924'),\n",
              " ('BLONP', 'Blondesddsl père et fils', 'Frédérique Citeaux', 'Marketing Manager', '24, place Kléber', 'Strasbourg', 'Western Europe', '67000', 'France', '88.60.15.31', '88.60.15.32'),\n",
              " ('BOLID', 'Bólido Comidas preparadas', 'Martín Sommer', 'Owner', 'C/ Araquil, 67', 'Madrid', 'Southern Europe', '28023', 'Spain', '(91) 555 22 82', '(91) 555 91 99'),\n",
              " ('BONAP', 'Bon app', 'Laurence Lebihan', 'Owner', '12, rue des Bouchers', 'Marseille', 'Western Europe', '13008', 'France', '91.24.45.40', '91.24.45.41'),\n",
              " ('BOTTM', 'Bottom-Dollar Markets', 'Elizabeth Lincoln', 'Accounting Manager', '23 Tsawassen Blvd.', 'Tsawassen', 'North America', 'T2F 8M4', 'Canada', '(604) 555-4729', '(604) 555-3745'),\n",
              " ('BSBEV', \"B's Beverages\", 'Victoria Ashworth', 'Sales Representative', 'Fauntleroy Circus', 'London', 'British Isles', 'EC2 5NT', 'UK', '(171) 555-1212', None),\n",
              " ('CACTU', 'Cactus Comidas para llevar', 'Patricio Simpson', 'Sales Agent', 'Cerrito 333', 'Buenos Aires', 'South America', '1010', 'Argentina', '(1) 135-5555', '(1) 135-4892'),\n",
              " ('CENTC', 'Centro comercial Moctezuma', 'Francisco Chang', 'Marketing Manager', 'Sierras de Granada 9993', 'México D.F.', 'Central America', '05022', 'Mexico', '(5) 555-3392', '(5) 555-7293'),\n",
              " ('CHOPS', 'Chop-suey Chinese', 'Yang Wang', 'Owner', 'Hauptstr. 29', 'Bern', 'Western Europe', '3012', 'Switzerland', '0452-076545', None),\n",
              " ('COMMI', 'Comércio Mineiro', 'Pedro Afonso', 'Sales Associate', 'Av. dos Lusíadas, 23', 'Sao Paulo', 'South America', '05432-043', 'Brazil', '(11) 555-7647', None),\n",
              " ('CONSH', 'Consolidated Holdings', 'Elizabeth Brown', 'Sales Representative', 'Berkeley Gardens 12  Brewery', 'London', 'British Isles', 'WX1 6LT', 'UK', '(171) 555-2282', '(171) 555-9199'),\n",
              " ('DRACD', 'Drachenblut Delikatessen', 'Sven Ottlieb', 'Order Administrator', 'Walserweg 21', 'Aachen', 'Western Europe', '52066', 'Germany', '0241-039123', '0241-059428'),\n",
              " ('DUMON', 'Du monde entier', 'Janine Labrune', 'Owner', '67, rue des Cinquante Otages', 'Nantes', 'Western Europe', '44000', 'France', '40.67.88.88', '40.67.89.89'),\n",
              " ('EASTC', 'Eastern Connection', 'Ann Devon', 'Sales Agent', '35 King George', 'London', 'British Isles', 'WX3 6FW', 'UK', '(171) 555-0297', '(171) 555-3373'),\n",
              " ('ERNSH', 'Ernst Handel', 'Roland Mendel', 'Sales Manager', 'Kirchgasse 6', 'Graz', 'Western Europe', '8010', 'Austria', '7675-3425', '7675-3426')]"
            ],
            "text/html": [
              "<table>\n",
              "    <thead>\n",
              "        <tr>\n",
              "            <th>Id</th>\n",
              "            <th>CompanyName</th>\n",
              "            <th>ContactName</th>\n",
              "            <th>ContactTitle</th>\n",
              "            <th>Address</th>\n",
              "            <th>City</th>\n",
              "            <th>Region</th>\n",
              "            <th>PostalCode</th>\n",
              "            <th>Country</th>\n",
              "            <th>Phone</th>\n",
              "            <th>Fax</th>\n",
              "        </tr>\n",
              "    </thead>\n",
              "    <tbody>\n",
              "        <tr>\n",
              "            <td>ALFKI</td>\n",
              "            <td>Alfreds Futterkiste</td>\n",
              "            <td>Maria Anders</td>\n",
              "            <td>Sales Representative</td>\n",
              "            <td>Obere Str. 57</td>\n",
              "            <td>Berlin</td>\n",
              "            <td>Western Europe</td>\n",
              "            <td>12209</td>\n",
              "            <td>Germany</td>\n",
              "            <td>030-0074321</td>\n",
              "            <td>030-0076545</td>\n",
              "        </tr>\n",
              "        <tr>\n",
              "            <td>ANATR</td>\n",
              "            <td>Ana Trujillo Emparedados y helados</td>\n",
              "            <td>Ana Trujillo</td>\n",
              "            <td>Owner</td>\n",
              "            <td>Avda. de la Constitución 2222</td>\n",
              "            <td>México D.F.</td>\n",
              "            <td>Central America</td>\n",
              "            <td>05021</td>\n",
              "            <td>Mexico</td>\n",
              "            <td>(5) 555-4729</td>\n",
              "            <td>(5) 555-3745</td>\n",
              "        </tr>\n",
              "        <tr>\n",
              "            <td>ANTON</td>\n",
              "            <td>Antonio Moreno Taquería</td>\n",
              "            <td>Antonio Moreno</td>\n",
              "            <td>Owner</td>\n",
              "            <td>Mataderos  2312</td>\n",
              "            <td>México D.F.</td>\n",
              "            <td>Central America</td>\n",
              "            <td>05023</td>\n",
              "            <td>Mexico</td>\n",
              "            <td>(5) 555-3932</td>\n",
              "            <td>None</td>\n",
              "        </tr>\n",
              "        <tr>\n",
              "            <td>AROUT</td>\n",
              "            <td>Around the Horn</td>\n",
              "            <td>Thomas Hardy</td>\n",
              "            <td>Sales Representative</td>\n",
              "            <td>120 Hanover Sq.</td>\n",
              "            <td>London</td>\n",
              "            <td>British Isles</td>\n",
              "            <td>WA1 1DP</td>\n",
              "            <td>UK</td>\n",
              "            <td>(171) 555-7788</td>\n",
              "            <td>(171) 555-6750</td>\n",
              "        </tr>\n",
              "        <tr>\n",
              "            <td>BERGS</td>\n",
              "            <td>Berglunds snabbköp</td>\n",
              "            <td>Christina Berglund</td>\n",
              "            <td>Order Administrator</td>\n",
              "            <td>Berguvsvägen  8</td>\n",
              "            <td>Luleå</td>\n",
              "            <td>Northern Europe</td>\n",
              "            <td>S-958 22</td>\n",
              "            <td>Sweden</td>\n",
              "            <td>0921-12 34 65</td>\n",
              "            <td>0921-12 34 67</td>\n",
              "        </tr>\n",
              "        <tr>\n",
              "            <td>BLAUS</td>\n",
              "            <td>Blauer See Delikatessen</td>\n",
              "            <td>Hanna Moos</td>\n",
              "            <td>Sales Representative</td>\n",
              "            <td>Forsterstr. 57</td>\n",
              "            <td>Mannheim</td>\n",
              "            <td>Western Europe</td>\n",
              "            <td>68306</td>\n",
              "            <td>Germany</td>\n",
              "            <td>0621-08460</td>\n",
              "            <td>0621-08924</td>\n",
              "        </tr>\n",
              "        <tr>\n",
              "            <td>BLONP</td>\n",
              "            <td>Blondesddsl père et fils</td>\n",
              "            <td>Frédérique Citeaux</td>\n",
              "            <td>Marketing Manager</td>\n",
              "            <td>24, place Kléber</td>\n",
              "            <td>Strasbourg</td>\n",
              "            <td>Western Europe</td>\n",
              "            <td>67000</td>\n",
              "            <td>France</td>\n",
              "            <td>88.60.15.31</td>\n",
              "            <td>88.60.15.32</td>\n",
              "        </tr>\n",
              "        <tr>\n",
              "            <td>BOLID</td>\n",
              "            <td>Bólido Comidas preparadas</td>\n",
              "            <td>Martín Sommer</td>\n",
              "            <td>Owner</td>\n",
              "            <td>C/ Araquil, 67</td>\n",
              "            <td>Madrid</td>\n",
              "            <td>Southern Europe</td>\n",
              "            <td>28023</td>\n",
              "            <td>Spain</td>\n",
              "            <td>(91) 555 22 82</td>\n",
              "            <td>(91) 555 91 99</td>\n",
              "        </tr>\n",
              "        <tr>\n",
              "            <td>BONAP</td>\n",
              "            <td>Bon app</td>\n",
              "            <td>Laurence Lebihan</td>\n",
              "            <td>Owner</td>\n",
              "            <td>12, rue des Bouchers</td>\n",
              "            <td>Marseille</td>\n",
              "            <td>Western Europe</td>\n",
              "            <td>13008</td>\n",
              "            <td>France</td>\n",
              "            <td>91.24.45.40</td>\n",
              "            <td>91.24.45.41</td>\n",
              "        </tr>\n",
              "        <tr>\n",
              "            <td>BOTTM</td>\n",
              "            <td>Bottom-Dollar Markets</td>\n",
              "            <td>Elizabeth Lincoln</td>\n",
              "            <td>Accounting Manager</td>\n",
              "            <td>23 Tsawassen Blvd.</td>\n",
              "            <td>Tsawassen</td>\n",
              "            <td>North America</td>\n",
              "            <td>T2F 8M4</td>\n",
              "            <td>Canada</td>\n",
              "            <td>(604) 555-4729</td>\n",
              "            <td>(604) 555-3745</td>\n",
              "        </tr>\n",
              "        <tr>\n",
              "            <td>BSBEV</td>\n",
              "            <td>B&#x27;s Beverages</td>\n",
              "            <td>Victoria Ashworth</td>\n",
              "            <td>Sales Representative</td>\n",
              "            <td>Fauntleroy Circus</td>\n",
              "            <td>London</td>\n",
              "            <td>British Isles</td>\n",
              "            <td>EC2 5NT</td>\n",
              "            <td>UK</td>\n",
              "            <td>(171) 555-1212</td>\n",
              "            <td>None</td>\n",
              "        </tr>\n",
              "        <tr>\n",
              "            <td>CACTU</td>\n",
              "            <td>Cactus Comidas para llevar</td>\n",
              "            <td>Patricio Simpson</td>\n",
              "            <td>Sales Agent</td>\n",
              "            <td>Cerrito 333</td>\n",
              "            <td>Buenos Aires</td>\n",
              "            <td>South America</td>\n",
              "            <td>1010</td>\n",
              "            <td>Argentina</td>\n",
              "            <td>(1) 135-5555</td>\n",
              "            <td>(1) 135-4892</td>\n",
              "        </tr>\n",
              "        <tr>\n",
              "            <td>CENTC</td>\n",
              "            <td>Centro comercial Moctezuma</td>\n",
              "            <td>Francisco Chang</td>\n",
              "            <td>Marketing Manager</td>\n",
              "            <td>Sierras de Granada 9993</td>\n",
              "            <td>México D.F.</td>\n",
              "            <td>Central America</td>\n",
              "            <td>05022</td>\n",
              "            <td>Mexico</td>\n",
              "            <td>(5) 555-3392</td>\n",
              "            <td>(5) 555-7293</td>\n",
              "        </tr>\n",
              "        <tr>\n",
              "            <td>CHOPS</td>\n",
              "            <td>Chop-suey Chinese</td>\n",
              "            <td>Yang Wang</td>\n",
              "            <td>Owner</td>\n",
              "            <td>Hauptstr. 29</td>\n",
              "            <td>Bern</td>\n",
              "            <td>Western Europe</td>\n",
              "            <td>3012</td>\n",
              "            <td>Switzerland</td>\n",
              "            <td>0452-076545</td>\n",
              "            <td>None</td>\n",
              "        </tr>\n",
              "        <tr>\n",
              "            <td>COMMI</td>\n",
              "            <td>Comércio Mineiro</td>\n",
              "            <td>Pedro Afonso</td>\n",
              "            <td>Sales Associate</td>\n",
              "            <td>Av. dos Lusíadas, 23</td>\n",
              "            <td>Sao Paulo</td>\n",
              "            <td>South America</td>\n",
              "            <td>05432-043</td>\n",
              "            <td>Brazil</td>\n",
              "            <td>(11) 555-7647</td>\n",
              "            <td>None</td>\n",
              "        </tr>\n",
              "        <tr>\n",
              "            <td>CONSH</td>\n",
              "            <td>Consolidated Holdings</td>\n",
              "            <td>Elizabeth Brown</td>\n",
              "            <td>Sales Representative</td>\n",
              "            <td>Berkeley Gardens 12  Brewery</td>\n",
              "            <td>London</td>\n",
              "            <td>British Isles</td>\n",
              "            <td>WX1 6LT</td>\n",
              "            <td>UK</td>\n",
              "            <td>(171) 555-2282</td>\n",
              "            <td>(171) 555-9199</td>\n",
              "        </tr>\n",
              "        <tr>\n",
              "            <td>DRACD</td>\n",
              "            <td>Drachenblut Delikatessen</td>\n",
              "            <td>Sven Ottlieb</td>\n",
              "            <td>Order Administrator</td>\n",
              "            <td>Walserweg 21</td>\n",
              "            <td>Aachen</td>\n",
              "            <td>Western Europe</td>\n",
              "            <td>52066</td>\n",
              "            <td>Germany</td>\n",
              "            <td>0241-039123</td>\n",
              "            <td>0241-059428</td>\n",
              "        </tr>\n",
              "        <tr>\n",
              "            <td>DUMON</td>\n",
              "            <td>Du monde entier</td>\n",
              "            <td>Janine Labrune</td>\n",
              "            <td>Owner</td>\n",
              "            <td>67, rue des Cinquante Otages</td>\n",
              "            <td>Nantes</td>\n",
              "            <td>Western Europe</td>\n",
              "            <td>44000</td>\n",
              "            <td>France</td>\n",
              "            <td>40.67.88.88</td>\n",
              "            <td>40.67.89.89</td>\n",
              "        </tr>\n",
              "        <tr>\n",
              "            <td>EASTC</td>\n",
              "            <td>Eastern Connection</td>\n",
              "            <td>Ann Devon</td>\n",
              "            <td>Sales Agent</td>\n",
              "            <td>35 King George</td>\n",
              "            <td>London</td>\n",
              "            <td>British Isles</td>\n",
              "            <td>WX3 6FW</td>\n",
              "            <td>UK</td>\n",
              "            <td>(171) 555-0297</td>\n",
              "            <td>(171) 555-3373</td>\n",
              "        </tr>\n",
              "        <tr>\n",
              "            <td>ERNSH</td>\n",
              "            <td>Ernst Handel</td>\n",
              "            <td>Roland Mendel</td>\n",
              "            <td>Sales Manager</td>\n",
              "            <td>Kirchgasse 6</td>\n",
              "            <td>Graz</td>\n",
              "            <td>Western Europe</td>\n",
              "            <td>8010</td>\n",
              "            <td>Austria</td>\n",
              "            <td>7675-3425</td>\n",
              "            <td>7675-3426</td>\n",
              "        </tr>\n",
              "    </tbody>\n",
              "</table>"
            ]
          },
          "metadata": {},
          "execution_count": 28
        }
      ]
    },
    {
      "cell_type": "code",
      "source": [
        "engine = create_engine('sqlite:///Northwind_small.sqlite')"
      ],
      "metadata": {
        "id": "cI6EqfdVvSRv"
      },
      "execution_count": 29,
      "outputs": []
    },
    {
      "cell_type": "code",
      "source": [
        "insp2 = inspect(engine)\n",
        "print(insp2.get_table_names())"
      ],
      "metadata": {
        "id": "fwINy3y9ueLd",
        "outputId": "9b0294f3-7379-40ed-8b47-6f95117ac1a3",
        "colab": {
          "base_uri": "https://localhost:8080/"
        }
      },
      "execution_count": 30,
      "outputs": [
        {
          "output_type": "stream",
          "name": "stdout",
          "text": [
            "['Category', 'Customer', 'CustomerCustomerDemo', 'CustomerDemographic', 'Employee', 'EmployeeTerritory', 'Order', 'OrderDetail', 'Product', 'Region', 'Shipper', 'Supplier', 'Territory']\n"
          ]
        }
      ]
    },
    {
      "cell_type": "code",
      "source": [
        "%%sql\n",
        "-- find out relationships between tables using SQL command\n",
        "SELECT sql\n",
        "FROM sqlite_master\n",
        "WHERE name = \"Orders\""
      ],
      "metadata": {
        "colab": {
          "base_uri": "https://localhost:8080/",
          "height": 94
        },
        "id": "tOgfmJUkwiuJ",
        "outputId": "69e7ac0e-1ce1-43f2-fb7a-15d9634ab010"
      },
      "execution_count": 31,
      "outputs": [
        {
          "output_type": "stream",
          "name": "stdout",
          "text": [
            " * sqlite:///Northwind_small.sqlite\n",
            "   sqlite:///test.db\n",
            "Done.\n"
          ]
        },
        {
          "output_type": "execute_result",
          "data": {
            "text/plain": [
              "[]"
            ],
            "text/html": [
              "<table>\n",
              "    <thead>\n",
              "        <tr>\n",
              "            <th>sql</th>\n",
              "        </tr>\n",
              "    </thead>\n",
              "    <tbody>\n",
              "    </tbody>\n",
              "</table>"
            ]
          },
          "metadata": {},
          "execution_count": 31
        }
      ]
    },
    {
      "cell_type": "code",
      "source": [
        "%sql SELECT * FROM Category"
      ],
      "metadata": {
        "colab": {
          "base_uri": "https://localhost:8080/",
          "height": 263
        },
        "id": "OOeKgKTHwCp5",
        "outputId": "e2928496-554e-48ab-c137-47370d62bbed"
      },
      "execution_count": 32,
      "outputs": [
        {
          "output_type": "stream",
          "name": "stdout",
          "text": [
            " * sqlite:///Northwind_small.sqlite\n",
            "   sqlite:///test.db\n",
            "Done.\n"
          ]
        },
        {
          "output_type": "execute_result",
          "data": {
            "text/plain": [
              "[(1, 'Beverages', 'Soft drinks, coffees, teas, beers, and ales'),\n",
              " (2, 'Condiments', 'Sweet and savory sauces, relishes, spreads, and seasonings'),\n",
              " (3, 'Confections', 'Desserts, candies, and sweet breads'),\n",
              " (4, 'Dairy Products', 'Cheeses'),\n",
              " (5, 'Grains/Cereals', 'Breads, crackers, pasta, and cereal'),\n",
              " (6, 'Meat/Poultry', 'Prepared meats'),\n",
              " (7, 'Produce', 'Dried fruit and bean curd'),\n",
              " (8, 'Seafood', 'Seaweed and fish')]"
            ],
            "text/html": [
              "<table>\n",
              "    <thead>\n",
              "        <tr>\n",
              "            <th>Id</th>\n",
              "            <th>CategoryName</th>\n",
              "            <th>Description</th>\n",
              "        </tr>\n",
              "    </thead>\n",
              "    <tbody>\n",
              "        <tr>\n",
              "            <td>1</td>\n",
              "            <td>Beverages</td>\n",
              "            <td>Soft drinks, coffees, teas, beers, and ales</td>\n",
              "        </tr>\n",
              "        <tr>\n",
              "            <td>2</td>\n",
              "            <td>Condiments</td>\n",
              "            <td>Sweet and savory sauces, relishes, spreads, and seasonings</td>\n",
              "        </tr>\n",
              "        <tr>\n",
              "            <td>3</td>\n",
              "            <td>Confections</td>\n",
              "            <td>Desserts, candies, and sweet breads</td>\n",
              "        </tr>\n",
              "        <tr>\n",
              "            <td>4</td>\n",
              "            <td>Dairy Products</td>\n",
              "            <td>Cheeses</td>\n",
              "        </tr>\n",
              "        <tr>\n",
              "            <td>5</td>\n",
              "            <td>Grains/Cereals</td>\n",
              "            <td>Breads, crackers, pasta, and cereal</td>\n",
              "        </tr>\n",
              "        <tr>\n",
              "            <td>6</td>\n",
              "            <td>Meat/Poultry</td>\n",
              "            <td>Prepared meats</td>\n",
              "        </tr>\n",
              "        <tr>\n",
              "            <td>7</td>\n",
              "            <td>Produce</td>\n",
              "            <td>Dried fruit and bean curd</td>\n",
              "        </tr>\n",
              "        <tr>\n",
              "            <td>8</td>\n",
              "            <td>Seafood</td>\n",
              "            <td>Seaweed and fish</td>\n",
              "        </tr>\n",
              "    </tbody>\n",
              "</table>"
            ]
          },
          "metadata": {},
          "execution_count": 32
        }
      ]
    },
    {
      "cell_type": "code",
      "source": [
        "# %sql SELECT * FROM Employee"
      ],
      "metadata": {
        "id": "LxXep-g1vUZB"
      },
      "execution_count": null,
      "outputs": []
    },
    {
      "cell_type": "code",
      "source": [
        "%%sql\n",
        "-- take a look at the Employees table first\n",
        "-- use LIMIT to limit the rows being displayed\n",
        "SELECT FirstName, LastName, HireDate, Title, Country\n",
        "FROM Employee\n",
        "-- LIMIT 100"
      ],
      "metadata": {
        "colab": {
          "base_uri": "https://localhost:8080/",
          "height": 285
        },
        "id": "SslwlKDrx2gM",
        "outputId": "ce0f702d-50f6-4466-fa83-bcfdafec97a0"
      },
      "execution_count": 34,
      "outputs": [
        {
          "output_type": "stream",
          "name": "stdout",
          "text": [
            " * sqlite:///Northwind_small.sqlite\n",
            "   sqlite:///test.db\n",
            "Done.\n"
          ]
        },
        {
          "output_type": "execute_result",
          "data": {
            "text/plain": [
              "[('Nancy', 'Davolio', '2024-05-01', 'Sales Representative', 'USA'),\n",
              " ('Andrew', 'Fuller', '2024-08-14', 'Vice President, Sales', 'USA'),\n",
              " ('Janet', 'Leverling', '2024-04-01', 'Sales Representative', 'USA'),\n",
              " ('Margaret', 'Peacock', '2025-05-03', 'Sales Representative', 'USA'),\n",
              " ('Steven', 'Buchanan', '2025-10-17', 'Sales Manager', 'UK'),\n",
              " ('Michael', 'Suyama', '2025-10-17', 'Sales Representative', 'UK'),\n",
              " ('Robert', 'King', '2026-01-02', 'Sales Representative', 'UK'),\n",
              " ('Laura', 'Callahan', '2026-03-05', 'Inside Sales Coordinator', 'USA'),\n",
              " ('Anne', 'Dodsworth', '2026-11-15', 'Sales Representative', 'UK')]"
            ],
            "text/html": [
              "<table>\n",
              "    <thead>\n",
              "        <tr>\n",
              "            <th>FirstName</th>\n",
              "            <th>LastName</th>\n",
              "            <th>HireDate</th>\n",
              "            <th>Title</th>\n",
              "            <th>Country</th>\n",
              "        </tr>\n",
              "    </thead>\n",
              "    <tbody>\n",
              "        <tr>\n",
              "            <td>Nancy</td>\n",
              "            <td>Davolio</td>\n",
              "            <td>2024-05-01</td>\n",
              "            <td>Sales Representative</td>\n",
              "            <td>USA</td>\n",
              "        </tr>\n",
              "        <tr>\n",
              "            <td>Andrew</td>\n",
              "            <td>Fuller</td>\n",
              "            <td>2024-08-14</td>\n",
              "            <td>Vice President, Sales</td>\n",
              "            <td>USA</td>\n",
              "        </tr>\n",
              "        <tr>\n",
              "            <td>Janet</td>\n",
              "            <td>Leverling</td>\n",
              "            <td>2024-04-01</td>\n",
              "            <td>Sales Representative</td>\n",
              "            <td>USA</td>\n",
              "        </tr>\n",
              "        <tr>\n",
              "            <td>Margaret</td>\n",
              "            <td>Peacock</td>\n",
              "            <td>2025-05-03</td>\n",
              "            <td>Sales Representative</td>\n",
              "            <td>USA</td>\n",
              "        </tr>\n",
              "        <tr>\n",
              "            <td>Steven</td>\n",
              "            <td>Buchanan</td>\n",
              "            <td>2025-10-17</td>\n",
              "            <td>Sales Manager</td>\n",
              "            <td>UK</td>\n",
              "        </tr>\n",
              "        <tr>\n",
              "            <td>Michael</td>\n",
              "            <td>Suyama</td>\n",
              "            <td>2025-10-17</td>\n",
              "            <td>Sales Representative</td>\n",
              "            <td>UK</td>\n",
              "        </tr>\n",
              "        <tr>\n",
              "            <td>Robert</td>\n",
              "            <td>King</td>\n",
              "            <td>2026-01-02</td>\n",
              "            <td>Sales Representative</td>\n",
              "            <td>UK</td>\n",
              "        </tr>\n",
              "        <tr>\n",
              "            <td>Laura</td>\n",
              "            <td>Callahan</td>\n",
              "            <td>2026-03-05</td>\n",
              "            <td>Inside Sales Coordinator</td>\n",
              "            <td>USA</td>\n",
              "        </tr>\n",
              "        <tr>\n",
              "            <td>Anne</td>\n",
              "            <td>Dodsworth</td>\n",
              "            <td>2026-11-15</td>\n",
              "            <td>Sales Representative</td>\n",
              "            <td>UK</td>\n",
              "        </tr>\n",
              "    </tbody>\n",
              "</table>"
            ]
          },
          "metadata": {},
          "execution_count": 34
        }
      ]
    },
    {
      "cell_type": "code",
      "source": [
        "# %load_ext sql\n",
        "\n",
        "%sql sqlite:///northwind.sqlite3"
      ],
      "metadata": {
        "colab": {
          "base_uri": "https://localhost:8080/",
          "height": 35
        },
        "outputId": "83c1d8f2-bc9a-4925-a1e0-2fbb1e46ded2",
        "id": "2_oSsc0Uw3ib"
      },
      "execution_count": 35,
      "outputs": [
        {
          "output_type": "execute_result",
          "data": {
            "text/plain": [
              "'Connected: @northwind.sqlite3'"
            ],
            "application/vnd.google.colaboratory.intrinsic+json": {
              "type": "string"
            }
          },
          "metadata": {},
          "execution_count": 35
        }
      ]
    },
    {
      "cell_type": "code",
      "source": [
        "%%sql\n",
        "SELECT sqlite_version();"
      ],
      "metadata": {
        "colab": {
          "base_uri": "https://localhost:8080/",
          "height": 131
        },
        "outputId": "41b9163e-ff5f-451f-cd57-f9712347639d",
        "id": "sMG1L9qIw3ic"
      },
      "execution_count": 36,
      "outputs": [
        {
          "output_type": "stream",
          "name": "stdout",
          "text": [
            "   sqlite:///Northwind_small.sqlite\n",
            " * sqlite:///northwind.sqlite3\n",
            "   sqlite:///test.db\n",
            "Done.\n"
          ]
        },
        {
          "output_type": "execute_result",
          "data": {
            "text/plain": [
              "[('3.22.0',)]"
            ],
            "text/html": [
              "<table>\n",
              "    <thead>\n",
              "        <tr>\n",
              "            <th>sqlite_version()</th>\n",
              "        </tr>\n",
              "    </thead>\n",
              "    <tbody>\n",
              "        <tr>\n",
              "            <td>3.22.0</td>\n",
              "        </tr>\n",
              "    </tbody>\n",
              "</table>"
            ]
          },
          "metadata": {},
          "execution_count": 36
        }
      ]
    },
    {
      "cell_type": "code",
      "source": [
        "%%sql\n",
        "SELECT name FROM sqlite_master WHERE type='table' AND name NOT LIKE 'sqlite_%';"
      ],
      "metadata": {
        "colab": {
          "base_uri": "https://localhost:8080/",
          "height": 281
        },
        "outputId": "6c330ed0-6ad3-4e50-91ca-b443872cab99",
        "id": "DKV2FlUaw3id"
      },
      "execution_count": 37,
      "outputs": [
        {
          "output_type": "stream",
          "name": "stdout",
          "text": [
            "   sqlite:///Northwind_small.sqlite\n",
            " * sqlite:///northwind.sqlite3\n",
            "   sqlite:///test.db\n",
            "Done.\n"
          ]
        },
        {
          "output_type": "execute_result",
          "data": {
            "text/plain": [
              "[('Suppliers',),\n",
              " ('Shippers',),\n",
              " ('Employees',),\n",
              " ('Customers',),\n",
              " ('Orders',),\n",
              " ('Categories',),\n",
              " ('Products',),\n",
              " ('OrderDetails',)]"
            ],
            "text/html": [
              "<table>\n",
              "    <thead>\n",
              "        <tr>\n",
              "            <th>name</th>\n",
              "        </tr>\n",
              "    </thead>\n",
              "    <tbody>\n",
              "        <tr>\n",
              "            <td>Suppliers</td>\n",
              "        </tr>\n",
              "        <tr>\n",
              "            <td>Shippers</td>\n",
              "        </tr>\n",
              "        <tr>\n",
              "            <td>Employees</td>\n",
              "        </tr>\n",
              "        <tr>\n",
              "            <td>Customers</td>\n",
              "        </tr>\n",
              "        <tr>\n",
              "            <td>Orders</td>\n",
              "        </tr>\n",
              "        <tr>\n",
              "            <td>Categories</td>\n",
              "        </tr>\n",
              "        <tr>\n",
              "            <td>Products</td>\n",
              "        </tr>\n",
              "        <tr>\n",
              "            <td>OrderDetails</td>\n",
              "        </tr>\n",
              "    </tbody>\n",
              "</table>"
            ]
          },
          "metadata": {},
          "execution_count": 37
        }
      ]
    },
    {
      "cell_type": "code",
      "source": [
        "%sql PRAGMA table_info([Categories]);"
      ],
      "metadata": {
        "colab": {
          "base_uri": "https://localhost:8080/",
          "height": 195
        },
        "outputId": "6b6117f8-349c-4cf8-e888-6029f4a6ecb9",
        "id": "1mekVkjQw3if"
      },
      "execution_count": 38,
      "outputs": [
        {
          "output_type": "stream",
          "name": "stdout",
          "text": [
            "   sqlite:///Northwind_small.sqlite\n",
            " * sqlite:///northwind.sqlite3\n",
            "   sqlite:///test.db\n",
            "Done.\n"
          ]
        },
        {
          "output_type": "execute_result",
          "data": {
            "text/plain": [
              "[(0, 'CategoryID', 'INTEGER', 1, None, 1),\n",
              " (1, 'CategoryName', 'nvarchar(15)', 1, None, 0),\n",
              " (2, 'Description', 'ntext', 0, None, 0),\n",
              " (3, 'Picture', 'image', 0, None, 0)]"
            ],
            "text/html": [
              "<table>\n",
              "    <thead>\n",
              "        <tr>\n",
              "            <th>cid</th>\n",
              "            <th>name</th>\n",
              "            <th>type</th>\n",
              "            <th>notnull</th>\n",
              "            <th>dflt_value</th>\n",
              "            <th>pk</th>\n",
              "        </tr>\n",
              "    </thead>\n",
              "    <tbody>\n",
              "        <tr>\n",
              "            <td>0</td>\n",
              "            <td>CategoryID</td>\n",
              "            <td>INTEGER</td>\n",
              "            <td>1</td>\n",
              "            <td>None</td>\n",
              "            <td>1</td>\n",
              "        </tr>\n",
              "        <tr>\n",
              "            <td>1</td>\n",
              "            <td>CategoryName</td>\n",
              "            <td>nvarchar(15)</td>\n",
              "            <td>1</td>\n",
              "            <td>None</td>\n",
              "            <td>0</td>\n",
              "        </tr>\n",
              "        <tr>\n",
              "            <td>2</td>\n",
              "            <td>Description</td>\n",
              "            <td>ntext</td>\n",
              "            <td>0</td>\n",
              "            <td>None</td>\n",
              "            <td>0</td>\n",
              "        </tr>\n",
              "        <tr>\n",
              "            <td>3</td>\n",
              "            <td>Picture</td>\n",
              "            <td>image</td>\n",
              "            <td>0</td>\n",
              "            <td>None</td>\n",
              "            <td>0</td>\n",
              "        </tr>\n",
              "    </tbody>\n",
              "</table>"
            ]
          },
          "metadata": {},
          "execution_count": 38
        }
      ]
    },
    {
      "cell_type": "code",
      "source": [
        "%sql PRAGMA table_info([Customers]);"
      ],
      "metadata": {
        "colab": {
          "base_uri": "https://localhost:8080/",
          "height": 345
        },
        "outputId": "0fad0f9f-f4cb-48c9-98e1-e5e2e6582495",
        "id": "EqrVKfzCw3if"
      },
      "execution_count": 39,
      "outputs": [
        {
          "output_type": "stream",
          "name": "stdout",
          "text": [
            "   sqlite:///Northwind_small.sqlite\n",
            " * sqlite:///northwind.sqlite3\n",
            "   sqlite:///test.db\n",
            "Done.\n"
          ]
        },
        {
          "output_type": "execute_result",
          "data": {
            "text/plain": [
              "[(0, 'CustomerID', 'nchar(5)', 1, None, 1),\n",
              " (1, 'CompanyName', 'nvarchar(40)', 1, None, 0),\n",
              " (2, 'ContactName', 'nvarchar(30)', 0, None, 0),\n",
              " (3, 'ContactTitle', 'nvarchar(30)', 0, None, 0),\n",
              " (4, 'Address', 'nvarchar(60)', 0, None, 0),\n",
              " (5, 'City', 'nvarchar(15)', 0, None, 0),\n",
              " (6, 'Region', 'nvarchar(15)', 0, None, 0),\n",
              " (7, 'PostalCode', 'nvarchar(10)', 0, None, 0),\n",
              " (8, 'Country', 'nvarchar(15)', 0, None, 0),\n",
              " (9, 'Phone', 'nvarchar(24)', 0, None, 0),\n",
              " (10, 'Fax', 'nvarchar(24)', 0, None, 0)]"
            ],
            "text/html": [
              "<table>\n",
              "    <thead>\n",
              "        <tr>\n",
              "            <th>cid</th>\n",
              "            <th>name</th>\n",
              "            <th>type</th>\n",
              "            <th>notnull</th>\n",
              "            <th>dflt_value</th>\n",
              "            <th>pk</th>\n",
              "        </tr>\n",
              "    </thead>\n",
              "    <tbody>\n",
              "        <tr>\n",
              "            <td>0</td>\n",
              "            <td>CustomerID</td>\n",
              "            <td>nchar(5)</td>\n",
              "            <td>1</td>\n",
              "            <td>None</td>\n",
              "            <td>1</td>\n",
              "        </tr>\n",
              "        <tr>\n",
              "            <td>1</td>\n",
              "            <td>CompanyName</td>\n",
              "            <td>nvarchar(40)</td>\n",
              "            <td>1</td>\n",
              "            <td>None</td>\n",
              "            <td>0</td>\n",
              "        </tr>\n",
              "        <tr>\n",
              "            <td>2</td>\n",
              "            <td>ContactName</td>\n",
              "            <td>nvarchar(30)</td>\n",
              "            <td>0</td>\n",
              "            <td>None</td>\n",
              "            <td>0</td>\n",
              "        </tr>\n",
              "        <tr>\n",
              "            <td>3</td>\n",
              "            <td>ContactTitle</td>\n",
              "            <td>nvarchar(30)</td>\n",
              "            <td>0</td>\n",
              "            <td>None</td>\n",
              "            <td>0</td>\n",
              "        </tr>\n",
              "        <tr>\n",
              "            <td>4</td>\n",
              "            <td>Address</td>\n",
              "            <td>nvarchar(60)</td>\n",
              "            <td>0</td>\n",
              "            <td>None</td>\n",
              "            <td>0</td>\n",
              "        </tr>\n",
              "        <tr>\n",
              "            <td>5</td>\n",
              "            <td>City</td>\n",
              "            <td>nvarchar(15)</td>\n",
              "            <td>0</td>\n",
              "            <td>None</td>\n",
              "            <td>0</td>\n",
              "        </tr>\n",
              "        <tr>\n",
              "            <td>6</td>\n",
              "            <td>Region</td>\n",
              "            <td>nvarchar(15)</td>\n",
              "            <td>0</td>\n",
              "            <td>None</td>\n",
              "            <td>0</td>\n",
              "        </tr>\n",
              "        <tr>\n",
              "            <td>7</td>\n",
              "            <td>PostalCode</td>\n",
              "            <td>nvarchar(10)</td>\n",
              "            <td>0</td>\n",
              "            <td>None</td>\n",
              "            <td>0</td>\n",
              "        </tr>\n",
              "        <tr>\n",
              "            <td>8</td>\n",
              "            <td>Country</td>\n",
              "            <td>nvarchar(15)</td>\n",
              "            <td>0</td>\n",
              "            <td>None</td>\n",
              "            <td>0</td>\n",
              "        </tr>\n",
              "        <tr>\n",
              "            <td>9</td>\n",
              "            <td>Phone</td>\n",
              "            <td>nvarchar(24)</td>\n",
              "            <td>0</td>\n",
              "            <td>None</td>\n",
              "            <td>0</td>\n",
              "        </tr>\n",
              "        <tr>\n",
              "            <td>10</td>\n",
              "            <td>Fax</td>\n",
              "            <td>nvarchar(24)</td>\n",
              "            <td>0</td>\n",
              "            <td>None</td>\n",
              "            <td>0</td>\n",
              "        </tr>\n",
              "    </tbody>\n",
              "</table>"
            ]
          },
          "metadata": {},
          "execution_count": 39
        }
      ]
    },
    {
      "cell_type": "code",
      "source": [
        "%sql SELECT * FROM Customers LIMIT 20"
      ],
      "metadata": {
        "colab": {
          "base_uri": "https://localhost:8080/",
          "height": 957
        },
        "outputId": "b9d7bb67-0c8a-40d6-cc58-b2fe1f32d282",
        "id": "7PsCNy9Cw3ig"
      },
      "execution_count": 40,
      "outputs": [
        {
          "output_type": "stream",
          "name": "stdout",
          "text": [
            "   sqlite:///Northwind_small.sqlite\n",
            " * sqlite:///northwind.sqlite3\n",
            "   sqlite:///test.db\n",
            "Done.\n"
          ]
        },
        {
          "output_type": "execute_result",
          "data": {
            "text/plain": [
              "[('ALFKI', 'Alfreds Futterkiste', 'Maria Anders', 'Sales Representative', 'Obere Str. 57', 'Berlin', None, '12209', 'Germany', '030-0074321', '030-0076545'),\n",
              " ('ANATR', 'Ana Trujillo Emparedados y helados', 'Ana Trujillo', 'Owner', 'Avda. de la Constitución 2222', 'México D.F.', None, '05021', 'Mexico', '(5) 555-4729', '(5) 555-3745'),\n",
              " ('ANTON', 'Antonio Moreno Taquería', 'Antonio Moreno', 'Owner', 'Mataderos  2312', 'México D.F.', None, '05023', 'Mexico', '(5) 555-3932', None),\n",
              " ('AROUT', 'Around the Horn', 'Thomas Hardy', 'Sales Representative', '120 Hanover Sq.', 'London', None, 'WA1 1DP', 'UK', '(171) 555-7788', '(171) 555-6750'),\n",
              " ('BERGS', 'Berglunds snabbköp', 'Christina Berglund', 'Order Administrator', 'Berguvsvägen  8', 'Luleå', None, 'S-958 22', 'Sweden', '0921-12 34 65', '0921-12 34 67'),\n",
              " ('BLAUS', 'Blauer See Delikatessen', 'Hanna Moos', 'Sales Representative', 'Forsterstr. 57', 'Mannheim', None, '68306', 'Germany', '0621-08460', '0621-08924'),\n",
              " ('BLONP', 'Blondesddsl père et fils', 'Frédérique Citeaux', 'Marketing Manager', '24, place Kléber', 'Strasbourg', None, '67000', 'France', '88.60.15.31', '88.60.15.32'),\n",
              " ('BOLID', 'Bólido Comidas preparadas', 'Martín Sommer', 'Owner', 'C/ Araquil, 67', 'Madrid', None, '28023', 'Spain', '(91) 555 22 82', '(91) 555 91 99'),\n",
              " ('BONAP', \"Bon app'\", 'Laurence Lebihan', 'Owner', '12, rue des Bouchers', 'Marseille', None, '13008', 'France', '91.24.45.40', '91.24.45.41'),\n",
              " ('BOTTM', 'Bottom-Dollar Markets', 'Elizabeth Lincoln', 'Accounting Manager', '23 Tsawassen Blvd.', 'Tsawassen', 'BC', 'T2F 8M4', 'Canada', '(604) 555-4729', '(604) 555-3745'),\n",
              " ('BSBEV', \"B's Beverages\", 'Victoria Ashworth', 'Sales Representative', 'Fauntleroy Circus', 'London', None, 'EC2 5NT', 'UK', '(171) 555-1212', None),\n",
              " ('CACTU', 'Cactus Comidas para llevar', 'Patricio Simpson', 'Sales Agent', 'Cerrito 333', 'Buenos Aires', None, '1010', 'Argentina', '(1) 135-5555', '(1) 135-4892'),\n",
              " ('CENTC', 'Centro comercial Moctezuma', 'Francisco Chang', 'Marketing Manager', 'Sierras de Granada 9993', 'México D.F.', None, '05022', 'Mexico', '(5) 555-3392', '(5) 555-7293'),\n",
              " ('CHOPS', 'Chop-suey Chinese', 'Yang Wang', 'Owner', 'Hauptstr. 29', 'Bern', None, '3012', 'Switzerland', '0452-076545', None),\n",
              " ('COMMI', 'Comércio Mineiro', 'Pedro Afonso', 'Sales Associate', 'Av. dos Lusíadas, 23', 'Sao Paulo', 'SP', '05432-043', 'Brazil', '(11) 555-7647', None),\n",
              " ('CONSH', 'Consolidated Holdings', 'Elizabeth Brown', 'Sales Representative', 'Berkeley Gardens 12  Brewery', 'London', None, 'WX1 6LT', 'UK', '(171) 555-2282', '(171) 555-9199'),\n",
              " ('DRACD', 'Drachenblut Delikatessen', 'Sven Ottlieb', 'Order Administrator', 'Walserweg 21', 'Aachen', None, '52066', 'Germany', '0241-039123', '0241-059428'),\n",
              " ('DUMON', 'Du monde entier', 'Janine Labrune', 'Owner', '67, rue des Cinquante Otages', 'Nantes', None, '44000', 'France', '40.67.88.88', '40.67.89.89'),\n",
              " ('EASTC', 'Eastern Connection', 'Ann Devon', 'Sales Agent', '35 King George', 'London', None, 'WX3 6FW', 'UK', '(171) 555-0297', '(171) 555-3373'),\n",
              " ('ERNSH', 'Ernst Handel', 'Roland Mendel', 'Sales Manager', 'Kirchgasse 6', 'Graz', None, '8010', 'Austria', '7675-3425', '7675-3426')]"
            ],
            "text/html": [
              "<table>\n",
              "    <thead>\n",
              "        <tr>\n",
              "            <th>CustomerID</th>\n",
              "            <th>CompanyName</th>\n",
              "            <th>ContactName</th>\n",
              "            <th>ContactTitle</th>\n",
              "            <th>Address</th>\n",
              "            <th>City</th>\n",
              "            <th>Region</th>\n",
              "            <th>PostalCode</th>\n",
              "            <th>Country</th>\n",
              "            <th>Phone</th>\n",
              "            <th>Fax</th>\n",
              "        </tr>\n",
              "    </thead>\n",
              "    <tbody>\n",
              "        <tr>\n",
              "            <td>ALFKI</td>\n",
              "            <td>Alfreds Futterkiste</td>\n",
              "            <td>Maria Anders</td>\n",
              "            <td>Sales Representative</td>\n",
              "            <td>Obere Str. 57</td>\n",
              "            <td>Berlin</td>\n",
              "            <td>None</td>\n",
              "            <td>12209</td>\n",
              "            <td>Germany</td>\n",
              "            <td>030-0074321</td>\n",
              "            <td>030-0076545</td>\n",
              "        </tr>\n",
              "        <tr>\n",
              "            <td>ANATR</td>\n",
              "            <td>Ana Trujillo Emparedados y helados</td>\n",
              "            <td>Ana Trujillo</td>\n",
              "            <td>Owner</td>\n",
              "            <td>Avda. de la Constitución 2222</td>\n",
              "            <td>México D.F.</td>\n",
              "            <td>None</td>\n",
              "            <td>05021</td>\n",
              "            <td>Mexico</td>\n",
              "            <td>(5) 555-4729</td>\n",
              "            <td>(5) 555-3745</td>\n",
              "        </tr>\n",
              "        <tr>\n",
              "            <td>ANTON</td>\n",
              "            <td>Antonio Moreno Taquería</td>\n",
              "            <td>Antonio Moreno</td>\n",
              "            <td>Owner</td>\n",
              "            <td>Mataderos  2312</td>\n",
              "            <td>México D.F.</td>\n",
              "            <td>None</td>\n",
              "            <td>05023</td>\n",
              "            <td>Mexico</td>\n",
              "            <td>(5) 555-3932</td>\n",
              "            <td>None</td>\n",
              "        </tr>\n",
              "        <tr>\n",
              "            <td>AROUT</td>\n",
              "            <td>Around the Horn</td>\n",
              "            <td>Thomas Hardy</td>\n",
              "            <td>Sales Representative</td>\n",
              "            <td>120 Hanover Sq.</td>\n",
              "            <td>London</td>\n",
              "            <td>None</td>\n",
              "            <td>WA1 1DP</td>\n",
              "            <td>UK</td>\n",
              "            <td>(171) 555-7788</td>\n",
              "            <td>(171) 555-6750</td>\n",
              "        </tr>\n",
              "        <tr>\n",
              "            <td>BERGS</td>\n",
              "            <td>Berglunds snabbköp</td>\n",
              "            <td>Christina Berglund</td>\n",
              "            <td>Order Administrator</td>\n",
              "            <td>Berguvsvägen  8</td>\n",
              "            <td>Luleå</td>\n",
              "            <td>None</td>\n",
              "            <td>S-958 22</td>\n",
              "            <td>Sweden</td>\n",
              "            <td>0921-12 34 65</td>\n",
              "            <td>0921-12 34 67</td>\n",
              "        </tr>\n",
              "        <tr>\n",
              "            <td>BLAUS</td>\n",
              "            <td>Blauer See Delikatessen</td>\n",
              "            <td>Hanna Moos</td>\n",
              "            <td>Sales Representative</td>\n",
              "            <td>Forsterstr. 57</td>\n",
              "            <td>Mannheim</td>\n",
              "            <td>None</td>\n",
              "            <td>68306</td>\n",
              "            <td>Germany</td>\n",
              "            <td>0621-08460</td>\n",
              "            <td>0621-08924</td>\n",
              "        </tr>\n",
              "        <tr>\n",
              "            <td>BLONP</td>\n",
              "            <td>Blondesddsl père et fils</td>\n",
              "            <td>Frédérique Citeaux</td>\n",
              "            <td>Marketing Manager</td>\n",
              "            <td>24, place Kléber</td>\n",
              "            <td>Strasbourg</td>\n",
              "            <td>None</td>\n",
              "            <td>67000</td>\n",
              "            <td>France</td>\n",
              "            <td>88.60.15.31</td>\n",
              "            <td>88.60.15.32</td>\n",
              "        </tr>\n",
              "        <tr>\n",
              "            <td>BOLID</td>\n",
              "            <td>Bólido Comidas preparadas</td>\n",
              "            <td>Martín Sommer</td>\n",
              "            <td>Owner</td>\n",
              "            <td>C/ Araquil, 67</td>\n",
              "            <td>Madrid</td>\n",
              "            <td>None</td>\n",
              "            <td>28023</td>\n",
              "            <td>Spain</td>\n",
              "            <td>(91) 555 22 82</td>\n",
              "            <td>(91) 555 91 99</td>\n",
              "        </tr>\n",
              "        <tr>\n",
              "            <td>BONAP</td>\n",
              "            <td>Bon app&#x27;</td>\n",
              "            <td>Laurence Lebihan</td>\n",
              "            <td>Owner</td>\n",
              "            <td>12, rue des Bouchers</td>\n",
              "            <td>Marseille</td>\n",
              "            <td>None</td>\n",
              "            <td>13008</td>\n",
              "            <td>France</td>\n",
              "            <td>91.24.45.40</td>\n",
              "            <td>91.24.45.41</td>\n",
              "        </tr>\n",
              "        <tr>\n",
              "            <td>BOTTM</td>\n",
              "            <td>Bottom-Dollar Markets</td>\n",
              "            <td>Elizabeth Lincoln</td>\n",
              "            <td>Accounting Manager</td>\n",
              "            <td>23 Tsawassen Blvd.</td>\n",
              "            <td>Tsawassen</td>\n",
              "            <td>BC</td>\n",
              "            <td>T2F 8M4</td>\n",
              "            <td>Canada</td>\n",
              "            <td>(604) 555-4729</td>\n",
              "            <td>(604) 555-3745</td>\n",
              "        </tr>\n",
              "        <tr>\n",
              "            <td>BSBEV</td>\n",
              "            <td>B&#x27;s Beverages</td>\n",
              "            <td>Victoria Ashworth</td>\n",
              "            <td>Sales Representative</td>\n",
              "            <td>Fauntleroy Circus</td>\n",
              "            <td>London</td>\n",
              "            <td>None</td>\n",
              "            <td>EC2 5NT</td>\n",
              "            <td>UK</td>\n",
              "            <td>(171) 555-1212</td>\n",
              "            <td>None</td>\n",
              "        </tr>\n",
              "        <tr>\n",
              "            <td>CACTU</td>\n",
              "            <td>Cactus Comidas para llevar</td>\n",
              "            <td>Patricio Simpson</td>\n",
              "            <td>Sales Agent</td>\n",
              "            <td>Cerrito 333</td>\n",
              "            <td>Buenos Aires</td>\n",
              "            <td>None</td>\n",
              "            <td>1010</td>\n",
              "            <td>Argentina</td>\n",
              "            <td>(1) 135-5555</td>\n",
              "            <td>(1) 135-4892</td>\n",
              "        </tr>\n",
              "        <tr>\n",
              "            <td>CENTC</td>\n",
              "            <td>Centro comercial Moctezuma</td>\n",
              "            <td>Francisco Chang</td>\n",
              "            <td>Marketing Manager</td>\n",
              "            <td>Sierras de Granada 9993</td>\n",
              "            <td>México D.F.</td>\n",
              "            <td>None</td>\n",
              "            <td>05022</td>\n",
              "            <td>Mexico</td>\n",
              "            <td>(5) 555-3392</td>\n",
              "            <td>(5) 555-7293</td>\n",
              "        </tr>\n",
              "        <tr>\n",
              "            <td>CHOPS</td>\n",
              "            <td>Chop-suey Chinese</td>\n",
              "            <td>Yang Wang</td>\n",
              "            <td>Owner</td>\n",
              "            <td>Hauptstr. 29</td>\n",
              "            <td>Bern</td>\n",
              "            <td>None</td>\n",
              "            <td>3012</td>\n",
              "            <td>Switzerland</td>\n",
              "            <td>0452-076545</td>\n",
              "            <td>None</td>\n",
              "        </tr>\n",
              "        <tr>\n",
              "            <td>COMMI</td>\n",
              "            <td>Comércio Mineiro</td>\n",
              "            <td>Pedro Afonso</td>\n",
              "            <td>Sales Associate</td>\n",
              "            <td>Av. dos Lusíadas, 23</td>\n",
              "            <td>Sao Paulo</td>\n",
              "            <td>SP</td>\n",
              "            <td>05432-043</td>\n",
              "            <td>Brazil</td>\n",
              "            <td>(11) 555-7647</td>\n",
              "            <td>None</td>\n",
              "        </tr>\n",
              "        <tr>\n",
              "            <td>CONSH</td>\n",
              "            <td>Consolidated Holdings</td>\n",
              "            <td>Elizabeth Brown</td>\n",
              "            <td>Sales Representative</td>\n",
              "            <td>Berkeley Gardens 12  Brewery</td>\n",
              "            <td>London</td>\n",
              "            <td>None</td>\n",
              "            <td>WX1 6LT</td>\n",
              "            <td>UK</td>\n",
              "            <td>(171) 555-2282</td>\n",
              "            <td>(171) 555-9199</td>\n",
              "        </tr>\n",
              "        <tr>\n",
              "            <td>DRACD</td>\n",
              "            <td>Drachenblut Delikatessen</td>\n",
              "            <td>Sven Ottlieb</td>\n",
              "            <td>Order Administrator</td>\n",
              "            <td>Walserweg 21</td>\n",
              "            <td>Aachen</td>\n",
              "            <td>None</td>\n",
              "            <td>52066</td>\n",
              "            <td>Germany</td>\n",
              "            <td>0241-039123</td>\n",
              "            <td>0241-059428</td>\n",
              "        </tr>\n",
              "        <tr>\n",
              "            <td>DUMON</td>\n",
              "            <td>Du monde entier</td>\n",
              "            <td>Janine Labrune</td>\n",
              "            <td>Owner</td>\n",
              "            <td>67, rue des Cinquante Otages</td>\n",
              "            <td>Nantes</td>\n",
              "            <td>None</td>\n",
              "            <td>44000</td>\n",
              "            <td>France</td>\n",
              "            <td>40.67.88.88</td>\n",
              "            <td>40.67.89.89</td>\n",
              "        </tr>\n",
              "        <tr>\n",
              "            <td>EASTC</td>\n",
              "            <td>Eastern Connection</td>\n",
              "            <td>Ann Devon</td>\n",
              "            <td>Sales Agent</td>\n",
              "            <td>35 King George</td>\n",
              "            <td>London</td>\n",
              "            <td>None</td>\n",
              "            <td>WX3 6FW</td>\n",
              "            <td>UK</td>\n",
              "            <td>(171) 555-0297</td>\n",
              "            <td>(171) 555-3373</td>\n",
              "        </tr>\n",
              "        <tr>\n",
              "            <td>ERNSH</td>\n",
              "            <td>Ernst Handel</td>\n",
              "            <td>Roland Mendel</td>\n",
              "            <td>Sales Manager</td>\n",
              "            <td>Kirchgasse 6</td>\n",
              "            <td>Graz</td>\n",
              "            <td>None</td>\n",
              "            <td>8010</td>\n",
              "            <td>Austria</td>\n",
              "            <td>7675-3425</td>\n",
              "            <td>7675-3426</td>\n",
              "        </tr>\n",
              "    </tbody>\n",
              "</table>"
            ]
          },
          "metadata": {},
          "execution_count": 40
        }
      ]
    },
    {
      "cell_type": "code",
      "source": [
        "engine = create_engine('sqlite:///northwind.sqlite3')"
      ],
      "metadata": {
        "id": "FE6UZC7Ew3ih"
      },
      "execution_count": 41,
      "outputs": []
    },
    {
      "cell_type": "code",
      "source": [
        "insp2 = inspect(engine)\n",
        "print(insp2.get_table_names())"
      ],
      "metadata": {
        "outputId": "2d9c3cf8-6003-480b-a87c-7b5742969093",
        "colab": {
          "base_uri": "https://localhost:8080/"
        },
        "id": "ot9hxLd9w3ii"
      },
      "execution_count": 42,
      "outputs": [
        {
          "output_type": "stream",
          "name": "stdout",
          "text": [
            "['Categories', 'Customers', 'Employees', 'OrderDetails', 'Orders', 'Products', 'Shippers', 'Suppliers', 'sqlite_sequence']\n"
          ]
        }
      ]
    },
    {
      "cell_type": "code",
      "source": [
        "%%sql\n",
        "-- find out relationships between tables using SQL command\n",
        "SELECT sql\n",
        "FROM sqlite_master\n",
        "WHERE name = \"Orders\""
      ],
      "metadata": {
        "colab": {
          "base_uri": "https://localhost:8080/",
          "height": 496
        },
        "outputId": "f9c05868-f7ed-4c27-f642-9e6ab9b72f98",
        "id": "DHdwS1-uw3ij"
      },
      "execution_count": 43,
      "outputs": [
        {
          "output_type": "stream",
          "name": "stdout",
          "text": [
            "   sqlite:///Northwind_small.sqlite\n",
            " * sqlite:///northwind.sqlite3\n",
            "   sqlite:///test.db\n",
            "Done.\n"
          ]
        },
        {
          "output_type": "execute_result",
          "data": {
            "text/plain": [
              "[('CREATE TABLE [Orders] (\\n  [OrderID] INTEGER PRIMARY KEY AUTOINCREMENT NOT NULL\\n, [CustomerID] nchar(5) NOT NULL COLLATE NOCASE\\n, [EmployeeID] int  ... (719 characters truncated) ... E NO ACTION\\n, CONSTRAINT [FK_Orders_Shippers] FOREIGN KEY ([ShipVia]) REFERENCES [Shippers] ([ShipperID]) ON DELETE NO ACTION ON UPDATE NO ACTION\\n)',)]"
            ],
            "text/html": [
              "<table>\n",
              "    <thead>\n",
              "        <tr>\n",
              "            <th>sql</th>\n",
              "        </tr>\n",
              "    </thead>\n",
              "    <tbody>\n",
              "        <tr>\n",
              "            <td>CREATE TABLE [Orders] (<br>  [OrderID] INTEGER PRIMARY KEY AUTOINCREMENT NOT NULL<br>, [CustomerID] nchar(5) NOT NULL COLLATE NOCASE<br>, [EmployeeID] int NULL<br>, [OrderDate] datetime NULL<br>, [RequiredDate] datetime NULL<br>, [ShippedDate] datetime NULL<br>, [ShipVia] int NULL<br>, [Freight] money DEFAULT 0 NULL<br>, [ShipName] nvarchar(40) NULL COLLATE NOCASE<br>, [ShipAddress] nvarchar(60) NULL COLLATE NOCASE<br>, [ShipCity] nvarchar(15) NULL COLLATE NOCASE<br>, [ShipRegion] nvarchar(15) NULL COLLATE NOCASE<br>, [ShipPostalCode] nvarchar(10) NULL COLLATE NOCASE<br>, [ShipCountry] nvarchar(15) NULL COLLATE NOCASE<br>, CONSTRAINT [FK_Orders_Customers] FOREIGN KEY ([CustomerID]) REFERENCES [Customers] ([CustomerID]) ON DELETE NO ACTION ON UPDATE NO ACTION<br>, CONSTRAINT [FK_Orders_Employees] FOREIGN KEY ([EmployeeID]) REFERENCES [Employees] ([EmployeeID]) ON DELETE NO ACTION ON UPDATE NO ACTION<br>, CONSTRAINT [FK_Orders_Shippers] FOREIGN KEY ([ShipVia]) REFERENCES [Shippers] ([ShipperID]) ON DELETE NO ACTION ON UPDATE NO ACTION<br>)</td>\n",
              "        </tr>\n",
              "    </tbody>\n",
              "</table>"
            ]
          },
          "metadata": {},
          "execution_count": 43
        }
      ]
    },
    {
      "cell_type": "code",
      "source": [
        "# Just curious, what's in the picture column?\n",
        "result = %sql SELECT CategoryName, Picture FROM Categories;\n",
        "# result.DataFrame().loc[0, 'Picture']"
      ],
      "metadata": {
        "colab": {
          "base_uri": "https://localhost:8080/"
        },
        "outputId": "ea91ea5f-eb92-4cc6-848e-cb2d045cb7a5",
        "id": "z-JqUVaYw3il"
      },
      "execution_count": 44,
      "outputs": [
        {
          "output_type": "stream",
          "name": "stdout",
          "text": [
            "   sqlite:///Northwind_small.sqlite\n",
            " * sqlite:///northwind.sqlite3\n",
            "   sqlite:///test.db\n",
            "Done.\n"
          ]
        }
      ]
    },
    {
      "cell_type": "code",
      "source": [
        "# %sql SELECT * FROM Categories LIMIT 1"
      ],
      "metadata": {
        "id": "acDaToChw3im"
      },
      "execution_count": null,
      "outputs": []
    },
    {
      "cell_type": "code",
      "source": [
        "# still curious about the picture column?\n",
        "# image is actually stored as a blob (Binary Large Object) in SQLite\n",
        "from matplotlib.pyplot import imshow\n",
        "from PIL import Image\n",
        "from io import BytesIO\n",
        "%matplotlib inline\n",
        "row = 1\n",
        "im = Image.open(BytesIO(result.DataFrame().loc[row, 'Picture'][78:])) # cut the first 78 bytes (OLE header)\n",
        "# print(im)\n",
        "imshow(im);"
      ],
      "metadata": {
        "colab": {
          "base_uri": "https://localhost:8080/",
          "height": 268
        },
        "outputId": "28bea3d4-2a56-406b-dbf0-b2ef06f531b9",
        "id": "R_OpjhM3w3io"
      },
      "execution_count": 46,
      "outputs": [
        {
          "output_type": "display_data",
          "data": {
            "text/plain": [
              "<Figure size 432x288 with 1 Axes>"
            ],
            "image/png": "[encoded data removed]"
          },
          "metadata": {
            "needs_background": "light"
          }
        }
      ]
    },
    {
      "cell_type": "code",
      "source": [
        "result = %sql SELECT Extension,Photo FROM Employees;\n",
        "row = 2\n",
        "im = Image.open(BytesIO(result.DataFrame().loc[row,'Photo'][78:])) # cut the first 78 bytes (OLE header)\n",
        "# print(im)\n",
        "imshow(im);"
      ],
      "metadata": {
        "colab": {
          "base_uri": "https://localhost:8080/",
          "height": 338
        },
        "id": "nsjpgDdf5DiD",
        "outputId": "e46eab0d-4d2c-4b53-bd78-f6eb1a43f72d"
      },
      "execution_count": 47,
      "outputs": [
        {
          "output_type": "stream",
          "name": "stdout",
          "text": [
            "   sqlite:///Northwind_small.sqlite\n",
            " * sqlite:///northwind.sqlite3\n",
            "   sqlite:///test.db\n",
            "Done.\n"
          ]
        },
        {
          "output_type": "display_data",
          "data": {
            "text/plain": [
              "<Figure size 432x288 with 1 Axes>"
            ],
            "image/png": "[encoded data removed]"
          },
          "metadata": {
            "needs_background": "light"
          }
        }
      ]
    },
    {
      "cell_type": "code",
      "source": [
        "lemp = %sql PRAGMA table_info(Employees)\n",
        "lemp"
      ],
      "metadata": {
        "colab": {
          "base_uri": "https://localhost:8080/",
          "height": 494
        },
        "id": "1dj6Ng9M7KX4",
        "outputId": "49913956-85a5-45d6-97bc-089883b666d8"
      },
      "execution_count": 49,
      "outputs": [
        {
          "output_type": "stream",
          "name": "stdout",
          "text": [
            "   sqlite:///Northwind_small.sqlite\n",
            " * sqlite:///northwind.sqlite3\n",
            "   sqlite:///test.db\n",
            "Done.\n"
          ]
        },
        {
          "output_type": "execute_result",
          "data": {
            "text/plain": [
              "[(0, 'EmployeeID', 'INTEGER', 1, None, 1),\n",
              " (1, 'LastName', 'nvarchar(20)', 1, None, 0),\n",
              " (2, 'FirstName', 'nvarchar(10)', 1, None, 0),\n",
              " (3, 'Title', 'nvarchar(30)', 0, None, 0),\n",
              " (4, 'TitleOfCourtesy', 'nvarchar(25)', 0, None, 0),\n",
              " (5, 'BirthDate', 'datetime', 0, None, 0),\n",
              " (6, 'HireDate', 'datetime', 0, None, 0),\n",
              " (7, 'Address', 'nvarchar(60)', 0, None, 0),\n",
              " (8, 'City', 'nvarchar(15)', 0, None, 0),\n",
              " (9, 'Region', 'nvarchar(15)', 0, None, 0),\n",
              " (10, 'PostalCode', 'nvarchar(10)', 0, None, 0),\n",
              " (11, 'Country', 'nvarchar(15)', 0, None, 0),\n",
              " (12, 'HomePhone', 'nvarchar(24)', 0, None, 0),\n",
              " (13, 'Extension', 'nvarchar(4)', 0, None, 0),\n",
              " (14, 'Photo', 'image', 0, None, 0),\n",
              " (15, 'Notes', 'ntext', 0, None, 0),\n",
              " (16, 'ReportsTo', 'int', 0, None, 0),\n",
              " (17, 'PhotoPath', 'nvarchar(255)', 0, None, 0)]"
            ],
            "text/html": [
              "<table>\n",
              "    <thead>\n",
              "        <tr>\n",
              "            <th>cid</th>\n",
              "            <th>name</th>\n",
              "            <th>type</th>\n",
              "            <th>notnull</th>\n",
              "            <th>dflt_value</th>\n",
              "            <th>pk</th>\n",
              "        </tr>\n",
              "    </thead>\n",
              "    <tbody>\n",
              "        <tr>\n",
              "            <td>0</td>\n",
              "            <td>EmployeeID</td>\n",
              "            <td>INTEGER</td>\n",
              "            <td>1</td>\n",
              "            <td>None</td>\n",
              "            <td>1</td>\n",
              "        </tr>\n",
              "        <tr>\n",
              "            <td>1</td>\n",
              "            <td>LastName</td>\n",
              "            <td>nvarchar(20)</td>\n",
              "            <td>1</td>\n",
              "            <td>None</td>\n",
              "            <td>0</td>\n",
              "        </tr>\n",
              "        <tr>\n",
              "            <td>2</td>\n",
              "            <td>FirstName</td>\n",
              "            <td>nvarchar(10)</td>\n",
              "            <td>1</td>\n",
              "            <td>None</td>\n",
              "            <td>0</td>\n",
              "        </tr>\n",
              "        <tr>\n",
              "            <td>3</td>\n",
              "            <td>Title</td>\n",
              "            <td>nvarchar(30)</td>\n",
              "            <td>0</td>\n",
              "            <td>None</td>\n",
              "            <td>0</td>\n",
              "        </tr>\n",
              "        <tr>\n",
              "            <td>4</td>\n",
              "            <td>TitleOfCourtesy</td>\n",
              "            <td>nvarchar(25)</td>\n",
              "            <td>0</td>\n",
              "            <td>None</td>\n",
              "            <td>0</td>\n",
              "        </tr>\n",
              "        <tr>\n",
              "            <td>5</td>\n",
              "            <td>BirthDate</td>\n",
              "            <td>datetime</td>\n",
              "            <td>0</td>\n",
              "            <td>None</td>\n",
              "            <td>0</td>\n",
              "        </tr>\n",
              "        <tr>\n",
              "            <td>6</td>\n",
              "            <td>HireDate</td>\n",
              "            <td>datetime</td>\n",
              "            <td>0</td>\n",
              "            <td>None</td>\n",
              "            <td>0</td>\n",
              "        </tr>\n",
              "        <tr>\n",
              "            <td>7</td>\n",
              "            <td>Address</td>\n",
              "            <td>nvarchar(60)</td>\n",
              "            <td>0</td>\n",
              "            <td>None</td>\n",
              "            <td>0</td>\n",
              "        </tr>\n",
              "        <tr>\n",
              "            <td>8</td>\n",
              "            <td>City</td>\n",
              "            <td>nvarchar(15)</td>\n",
              "            <td>0</td>\n",
              "            <td>None</td>\n",
              "            <td>0</td>\n",
              "        </tr>\n",
              "        <tr>\n",
              "            <td>9</td>\n",
              "            <td>Region</td>\n",
              "            <td>nvarchar(15)</td>\n",
              "            <td>0</td>\n",
              "            <td>None</td>\n",
              "            <td>0</td>\n",
              "        </tr>\n",
              "        <tr>\n",
              "            <td>10</td>\n",
              "            <td>PostalCode</td>\n",
              "            <td>nvarchar(10)</td>\n",
              "            <td>0</td>\n",
              "            <td>None</td>\n",
              "            <td>0</td>\n",
              "        </tr>\n",
              "        <tr>\n",
              "            <td>11</td>\n",
              "            <td>Country</td>\n",
              "            <td>nvarchar(15)</td>\n",
              "            <td>0</td>\n",
              "            <td>None</td>\n",
              "            <td>0</td>\n",
              "        </tr>\n",
              "        <tr>\n",
              "            <td>12</td>\n",
              "            <td>HomePhone</td>\n",
              "            <td>nvarchar(24)</td>\n",
              "            <td>0</td>\n",
              "            <td>None</td>\n",
              "            <td>0</td>\n",
              "        </tr>\n",
              "        <tr>\n",
              "            <td>13</td>\n",
              "            <td>Extension</td>\n",
              "            <td>nvarchar(4)</td>\n",
              "            <td>0</td>\n",
              "            <td>None</td>\n",
              "            <td>0</td>\n",
              "        </tr>\n",
              "        <tr>\n",
              "            <td>14</td>\n",
              "            <td>Photo</td>\n",
              "            <td>image</td>\n",
              "            <td>0</td>\n",
              "            <td>None</td>\n",
              "            <td>0</td>\n",
              "        </tr>\n",
              "        <tr>\n",
              "            <td>15</td>\n",
              "            <td>Notes</td>\n",
              "            <td>ntext</td>\n",
              "            <td>0</td>\n",
              "            <td>None</td>\n",
              "            <td>0</td>\n",
              "        </tr>\n",
              "        <tr>\n",
              "            <td>16</td>\n",
              "            <td>ReportsTo</td>\n",
              "            <td>int</td>\n",
              "            <td>0</td>\n",
              "            <td>None</td>\n",
              "            <td>0</td>\n",
              "        </tr>\n",
              "        <tr>\n",
              "            <td>17</td>\n",
              "            <td>PhotoPath</td>\n",
              "            <td>nvarchar(255)</td>\n",
              "            <td>0</td>\n",
              "            <td>None</td>\n",
              "            <td>0</td>\n",
              "        </tr>\n",
              "    </tbody>\n",
              "</table>"
            ]
          },
          "metadata": {},
          "execution_count": 49
        }
      ]
    },
    {
      "cell_type": "code",
      "source": [
        "type(lemp)"
      ],
      "metadata": {
        "colab": {
          "base_uri": "https://localhost:8080/"
        },
        "id": "p29fVZH6_wOR",
        "outputId": "4b6f546c-2af6-4ecf-df2c-5f660d4fd4b9"
      },
      "execution_count": 50,
      "outputs": [
        {
          "output_type": "execute_result",
          "data": {
            "text/plain": [
              "sql.run.ResultSet"
            ]
          },
          "metadata": {},
          "execution_count": 50
        }
      ]
    },
    {
      "cell_type": "code",
      "source": [
        "# %sql SELECT * FROM Employees LIMIT 2"
      ],
      "metadata": {
        "id": "X0okws13w3ip"
      },
      "execution_count": 51,
      "outputs": []
    },
    {
      "cell_type": "code",
      "source": [
        "%%sql\n",
        "-- take a look at the Employees table first\n",
        "-- use LIMIT to limit the rows being displayed\n",
        "SELECT FirstName, LastName, HireDate, Title, Country\n",
        "FROM Employees\n",
        "-- LIMIT 100"
      ],
      "metadata": {
        "colab": {
          "base_uri": "https://localhost:8080/",
          "height": 302
        },
        "outputId": "3c6730fb-6b9c-48a3-8bce-a29ea955ebb1",
        "id": "DHFnIQaLw3iq"
      },
      "execution_count": 52,
      "outputs": [
        {
          "output_type": "stream",
          "name": "stdout",
          "text": [
            "   sqlite:///Northwind_small.sqlite\n",
            " * sqlite:///northwind.sqlite3\n",
            "   sqlite:///test.db\n",
            "Done.\n"
          ]
        },
        {
          "output_type": "execute_result",
          "data": {
            "text/plain": [
              "[('Nancy', 'Davolio', '2010-05-01 00:00:00.000', 'Sales Representative', 'USA'),\n",
              " ('Andrew', 'Fuller', '2010-08-14 00:00:00.000', 'Vice President, Sales', 'USA'),\n",
              " ('Janet', 'Leverling', '2010-04-01 00:00:00.000', 'Sales Representative', 'USA'),\n",
              " ('Margaret', 'Peacock', '2011-05-03 00:00:00.000', 'Sales Representative', 'USA'),\n",
              " ('Steven', 'Buchanan', '2011-10-17 00:00:00.000', 'Sales Manager', 'UK'),\n",
              " ('Michael', 'Suyama', '2011-10-17 00:00:00.000', 'Sales Representative', 'UK'),\n",
              " ('Robert', 'King', '2012-01-02 00:00:00.000', 'Sales Representative', 'UK'),\n",
              " ('Laura', 'Callahan', '2012-03-05 00:00:00.000', 'Inside Sales Coordinator', 'USA'),\n",
              " ('Anne', 'Dodsworth', '2012-11-15 00:00:00.000', 'Sales Representative', 'UK')]"
            ],
            "text/html": [
              "<table>\n",
              "    <thead>\n",
              "        <tr>\n",
              "            <th>FirstName</th>\n",
              "            <th>LastName</th>\n",
              "            <th>HireDate</th>\n",
              "            <th>Title</th>\n",
              "            <th>Country</th>\n",
              "        </tr>\n",
              "    </thead>\n",
              "    <tbody>\n",
              "        <tr>\n",
              "            <td>Nancy</td>\n",
              "            <td>Davolio</td>\n",
              "            <td>2010-05-01 00:00:00.000</td>\n",
              "            <td>Sales Representative</td>\n",
              "            <td>USA</td>\n",
              "        </tr>\n",
              "        <tr>\n",
              "            <td>Andrew</td>\n",
              "            <td>Fuller</td>\n",
              "            <td>2010-08-14 00:00:00.000</td>\n",
              "            <td>Vice President, Sales</td>\n",
              "            <td>USA</td>\n",
              "        </tr>\n",
              "        <tr>\n",
              "            <td>Janet</td>\n",
              "            <td>Leverling</td>\n",
              "            <td>2010-04-01 00:00:00.000</td>\n",
              "            <td>Sales Representative</td>\n",
              "            <td>USA</td>\n",
              "        </tr>\n",
              "        <tr>\n",
              "            <td>Margaret</td>\n",
              "            <td>Peacock</td>\n",
              "            <td>2011-05-03 00:00:00.000</td>\n",
              "            <td>Sales Representative</td>\n",
              "            <td>USA</td>\n",
              "        </tr>\n",
              "        <tr>\n",
              "            <td>Steven</td>\n",
              "            <td>Buchanan</td>\n",
              "            <td>2011-10-17 00:00:00.000</td>\n",
              "            <td>Sales Manager</td>\n",
              "            <td>UK</td>\n",
              "        </tr>\n",
              "        <tr>\n",
              "            <td>Michael</td>\n",
              "            <td>Suyama</td>\n",
              "            <td>2011-10-17 00:00:00.000</td>\n",
              "            <td>Sales Representative</td>\n",
              "            <td>UK</td>\n",
              "        </tr>\n",
              "        <tr>\n",
              "            <td>Robert</td>\n",
              "            <td>King</td>\n",
              "            <td>2012-01-02 00:00:00.000</td>\n",
              "            <td>Sales Representative</td>\n",
              "            <td>UK</td>\n",
              "        </tr>\n",
              "        <tr>\n",
              "            <td>Laura</td>\n",
              "            <td>Callahan</td>\n",
              "            <td>2012-03-05 00:00:00.000</td>\n",
              "            <td>Inside Sales Coordinator</td>\n",
              "            <td>USA</td>\n",
              "        </tr>\n",
              "        <tr>\n",
              "            <td>Anne</td>\n",
              "            <td>Dodsworth</td>\n",
              "            <td>2012-11-15 00:00:00.000</td>\n",
              "            <td>Sales Representative</td>\n",
              "            <td>UK</td>\n",
              "        </tr>\n",
              "    </tbody>\n",
              "</table>"
            ]
          },
          "metadata": {},
          "execution_count": 52
        }
      ]
    },
    {
      "cell_type": "code",
      "source": [
        "%sql SELECT COUNT(*) ,Country FROM Customers GROUP BY Country"
      ],
      "metadata": {
        "colab": {
          "base_uri": "https://localhost:8080/",
          "height": 559
        },
        "id": "ZnrKaAXTC6bT",
        "outputId": "c5f18877-57bc-47b2-99de-6c85c3907426"
      },
      "execution_count": 66,
      "outputs": [
        {
          "output_type": "stream",
          "name": "stdout",
          "text": [
            "   sqlite:///Northwind_small.sqlite\n",
            " * sqlite:///northwind.sqlite3\n",
            "   sqlite:///test.db\n",
            "Done.\n"
          ]
        },
        {
          "output_type": "execute_result",
          "data": {
            "text/plain": [
              "[(3, 'Argentina'),\n",
              " (2, 'Austria'),\n",
              " (2, 'Belgium'),\n",
              " (9, 'Brazil'),\n",
              " (3, 'Canada'),\n",
              " (2, 'Denmark'),\n",
              " (2, 'Finland'),\n",
              " (11, 'France'),\n",
              " (11, 'Germany'),\n",
              " (1, 'Ireland'),\n",
              " (3, 'Italy'),\n",
              " (5, 'Mexico'),\n",
              " (1, 'Norway'),\n",
              " (1, 'Poland'),\n",
              " (2, 'Portugal'),\n",
              " (5, 'Spain'),\n",
              " (2, 'Sweden'),\n",
              " (2, 'Switzerland'),\n",
              " (7, 'UK'),\n",
              " (13, 'USA'),\n",
              " (4, 'Venezuela')]"
            ],
            "text/html": [
              "<table>\n",
              "    <thead>\n",
              "        <tr>\n",
              "            <th>COUNT(*)</th>\n",
              "            <th>Country</th>\n",
              "        </tr>\n",
              "    </thead>\n",
              "    <tbody>\n",
              "        <tr>\n",
              "            <td>3</td>\n",
              "            <td>Argentina</td>\n",
              "        </tr>\n",
              "        <tr>\n",
              "            <td>2</td>\n",
              "            <td>Austria</td>\n",
              "        </tr>\n",
              "        <tr>\n",
              "            <td>2</td>\n",
              "            <td>Belgium</td>\n",
              "        </tr>\n",
              "        <tr>\n",
              "            <td>9</td>\n",
              "            <td>Brazil</td>\n",
              "        </tr>\n",
              "        <tr>\n",
              "            <td>3</td>\n",
              "            <td>Canada</td>\n",
              "        </tr>\n",
              "        <tr>\n",
              "            <td>2</td>\n",
              "            <td>Denmark</td>\n",
              "        </tr>\n",
              "        <tr>\n",
              "            <td>2</td>\n",
              "            <td>Finland</td>\n",
              "        </tr>\n",
              "        <tr>\n",
              "            <td>11</td>\n",
              "            <td>France</td>\n",
              "        </tr>\n",
              "        <tr>\n",
              "            <td>11</td>\n",
              "            <td>Germany</td>\n",
              "        </tr>\n",
              "        <tr>\n",
              "            <td>1</td>\n",
              "            <td>Ireland</td>\n",
              "        </tr>\n",
              "        <tr>\n",
              "            <td>3</td>\n",
              "            <td>Italy</td>\n",
              "        </tr>\n",
              "        <tr>\n",
              "            <td>5</td>\n",
              "            <td>Mexico</td>\n",
              "        </tr>\n",
              "        <tr>\n",
              "            <td>1</td>\n",
              "            <td>Norway</td>\n",
              "        </tr>\n",
              "        <tr>\n",
              "            <td>1</td>\n",
              "            <td>Poland</td>\n",
              "        </tr>\n",
              "        <tr>\n",
              "            <td>2</td>\n",
              "            <td>Portugal</td>\n",
              "        </tr>\n",
              "        <tr>\n",
              "            <td>5</td>\n",
              "            <td>Spain</td>\n",
              "        </tr>\n",
              "        <tr>\n",
              "            <td>2</td>\n",
              "            <td>Sweden</td>\n",
              "        </tr>\n",
              "        <tr>\n",
              "            <td>2</td>\n",
              "            <td>Switzerland</td>\n",
              "        </tr>\n",
              "        <tr>\n",
              "            <td>7</td>\n",
              "            <td>UK</td>\n",
              "        </tr>\n",
              "        <tr>\n",
              "            <td>13</td>\n",
              "            <td>USA</td>\n",
              "        </tr>\n",
              "        <tr>\n",
              "            <td>4</td>\n",
              "            <td>Venezuela</td>\n",
              "        </tr>\n",
              "    </tbody>\n",
              "</table>"
            ]
          },
          "metadata": {},
          "execution_count": 66
        }
      ]
    }
  ]
}